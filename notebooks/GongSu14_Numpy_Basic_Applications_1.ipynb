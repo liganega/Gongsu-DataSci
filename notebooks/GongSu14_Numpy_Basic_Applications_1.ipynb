{
 "cells": [
  {
   "cell_type": "markdown",
   "metadata": {},
   "source": [
    "#### 자료 안내: 여기서 다루는 내용은 아래 사이트의 내용을 일부 참고하여 생성되었음.\n",
    "\n",
    "http://www.scipy-lectures.org/"
   ]
  },
  {
   "cell_type": "markdown",
   "metadata": {},
   "source": [
    "# 넘파이 활용 기초"
   ]
  },
  {
   "cell_type": "code",
   "execution_count": 1,
   "metadata": {},
   "outputs": [],
   "source": [
    "import matplotlib.pyplot as plt\n",
    "import numpy as np"
   ]
  },
  {
   "cell_type": "code",
   "execution_count": 2,
   "metadata": {},
   "outputs": [],
   "source": [
    "%matplotlib inline"
   ]
  },
  {
   "cell_type": "markdown",
   "metadata": {},
   "source": [
    "## 주요 내용"
   ]
  },
  {
   "cell_type": "markdown",
   "metadata": {},
   "source": [
    "실전 문제를 넘파이 모율을 이용하여 해결하는 두 가지 예제를 살펴본다.\n",
    "넘파이 모듈을 사용하면 이전에 복잡하게 했던 일을 훨씬 간단하게, 그리고 빠르게 처리할 수 있음에 주의해야 한다.\n",
    "\n",
    "여기서는 아래 함수 또는 방법들의 활용을 배운다.\n",
    "\n",
    "* `np.linspace()`\n",
    "* `np.loadtxt()`\n",
    "* 전치행렬 생성하는 방법"
   ]
  },
  {
   "cell_type": "markdown",
   "metadata": {},
   "source": [
    "## 넘파이 활용: 함수 그래프 그리기\n",
    "\n",
    "`np.linspace` 함수를 이용하여 간단한 점, 또는 선 그래프를 그려보자."
   ]
  },
  {
   "cell_type": "markdown",
   "metadata": {},
   "source": [
    "### 예제\n",
    "\n",
    "아래 함수의 그래프를 그려보자.\n",
    "```\n",
    "times_3(x) = 3*x\n",
    "```"
   ]
  },
  {
   "cell_type": "markdown",
   "metadata": {},
   "source": [
    "먼저 x축의 구간을 정한다. \n",
    "예를 들어, `[0, 3]`의 구간으로 하자. \n",
    "이제 그 구간을 균등하게 쪼개어 x축 상에서 30개의 x좌표를 구해 보자."
   ]
  },
  {
   "cell_type": "code",
   "execution_count": 3,
   "metadata": {},
   "outputs": [
    {
     "data": {
      "text/plain": [
       "array([ 0.        ,  0.10344828,  0.20689655,  0.31034483,  0.4137931 ,\n",
       "        0.51724138,  0.62068966,  0.72413793,  0.82758621,  0.93103448,\n",
       "        1.03448276,  1.13793103,  1.24137931,  1.34482759,  1.44827586,\n",
       "        1.55172414,  1.65517241,  1.75862069,  1.86206897,  1.96551724,\n",
       "        2.06896552,  2.17241379,  2.27586207,  2.37931034,  2.48275862,\n",
       "        2.5862069 ,  2.68965517,  2.79310345,  2.89655172,  3.        ])"
      ]
     },
     "execution_count": 3,
     "metadata": {},
     "output_type": "execute_result"
    }
   ],
   "source": [
    "xs = np.linspace(0, 3, 30)\n",
    "xs"
   ]
  },
  {
   "cell_type": "markdown",
   "metadata": {},
   "source": [
    "이제 `y = 3 * x` 함수를 정의하자."
   ]
  },
  {
   "cell_type": "code",
   "execution_count": 4,
   "metadata": {},
   "outputs": [],
   "source": [
    "def times_3(x):\n",
    "    return 3*x"
   ]
  },
  {
   "cell_type": "markdown",
   "metadata": {},
   "source": [
    "이제 y축 상에 x좌표에 해당하는 30개의 y좌표를 구할 수 있다.\n",
    "\n",
    "**힌트:** 넘파이 모듈에서 함수에 어레이를 인자로 사용하면, 함수는 각각의 항목을 인자로 사용하여\n",
    "새로운 어레이를 생성하여 리턴한다."
   ]
  },
  {
   "cell_type": "code",
   "execution_count": 5,
   "metadata": {},
   "outputs": [
    {
     "data": {
      "text/plain": [
       "array([ 0.        ,  0.31034483,  0.62068966,  0.93103448,  1.24137931,\n",
       "        1.55172414,  1.86206897,  2.17241379,  2.48275862,  2.79310345,\n",
       "        3.10344828,  3.4137931 ,  3.72413793,  4.03448276,  4.34482759,\n",
       "        4.65517241,  4.96551724,  5.27586207,  5.5862069 ,  5.89655172,\n",
       "        6.20689655,  6.51724138,  6.82758621,  7.13793103,  7.44827586,\n",
       "        7.75862069,  8.06896552,  8.37931034,  8.68965517,  9.        ])"
      ]
     },
     "execution_count": 5,
     "metadata": {},
     "output_type": "execute_result"
    }
   ],
   "source": [
    "ys = times_3(xs)\n",
    "ys"
   ]
  },
  {
   "cell_type": "markdown",
   "metadata": {},
   "source": [
    "**주의:** `ys`는 아래와 같이 정의할 수도 있다."
   ]
  },
  {
   "cell_type": "code",
   "execution_count": 6,
   "metadata": {},
   "outputs": [
    {
     "data": {
      "text/plain": [
       "array([ 0.        ,  0.31034483,  0.62068966,  0.93103448,  1.24137931,\n",
       "        1.55172414,  1.86206897,  2.17241379,  2.48275862,  2.79310345,\n",
       "        3.10344828,  3.4137931 ,  3.72413793,  4.03448276,  4.34482759,\n",
       "        4.65517241,  4.96551724,  5.27586207,  5.5862069 ,  5.89655172,\n",
       "        6.20689655,  6.51724138,  6.82758621,  7.13793103,  7.44827586,\n",
       "        7.75862069,  8.06896552,  8.37931034,  8.68965517,  9.        ])"
      ]
     },
     "execution_count": 6,
     "metadata": {},
     "output_type": "execute_result"
    }
   ],
   "source": [
    "ys = 3 * xs\n",
    "ys"
   ]
  },
  {
   "cell_type": "markdown",
   "metadata": {},
   "source": [
    "`3 * xs`는 `xs`의 각각의 항목에 3을 곱한다. 이와 같이 어레이의 연산은 각각의 항목에 대해 실행된다.\n",
    "\n",
    "이제 `xs`와 `ys`를 이용하여 `times_3` 함수의 그래프를 다음과 같이 그릴 수 있다.  "
   ]
  },
  {
   "cell_type": "code",
   "execution_count": 7,
   "metadata": {},
   "outputs": [
    {
     "data": {
      "text/plain": [
       "[<matplotlib.lines.Line2D at 0x10d4886a0>]"
      ]
     },
     "execution_count": 7,
     "metadata": {},
     "output_type": "execute_result"
    },
    {
     "data": {
      "image/png": "[encoded data removed]",
      "text/plain": [
       "<matplotlib.figure.Figure at 0x10b787588>"
      ]
     },
     "metadata": {},
     "output_type": "display_data"
    }
   ],
   "source": [
    "plt.plot(xs, ys)"
   ]
  },
  {
   "cell_type": "markdown",
   "metadata": {},
   "source": [
    "`plt.plot` 함수에 세번 째 인자를 옵션으로 사용하여 그래프 모양을 변경할 수 있다.\n",
    "예를 들어, 'o' 옵션은 점으로 좌표를 찍으라는 것을 나타낸다. "
   ]
  },
  {
   "cell_type": "code",
   "execution_count": 8,
   "metadata": {},
   "outputs": [
    {
     "data": {
      "text/plain": [
       "[<matplotlib.lines.Line2D at 0x10d576a90>]"
      ]
     },
     "execution_count": 8,
     "metadata": {},
     "output_type": "execute_result"
    },
    {
     "data": {
      "image/png": "[encoded data removed]",
      "text/plain": [
       "<matplotlib.figure.Figure at 0x10d4b0fd0>"
      ]
     },
     "metadata": {},
     "output_type": "display_data"
    }
   ],
   "source": [
    "plt.plot(xs, ys, 'o')"
   ]
  },
  {
   "cell_type": "markdown",
   "metadata": {},
   "source": [
    "두 경우를 합쳐서 그래프를 그려서 그래프가 어떻게 그려졌는지 쉽게 확인할 수도 있다. "
   ]
  },
  {
   "cell_type": "code",
   "execution_count": 9,
   "metadata": {},
   "outputs": [
    {
     "data": {
      "text/plain": [
       "[<matplotlib.lines.Line2D at 0x10d4fca90>]"
      ]
     },
     "execution_count": 9,
     "metadata": {},
     "output_type": "execute_result"
    },
    {
     "data": {
      "image/png": "[encoded data removed]",
      "text/plain": [
       "<matplotlib.figure.Figure at 0x10d4fcc18>"
      ]
     },
     "metadata": {},
     "output_type": "display_data"
    }
   ],
   "source": [
    "plt.plot(xs, ys)\n",
    "plt.plot(xs, ys, 'o')"
   ]
  },
  {
   "cell_type": "markdown",
   "metadata": {},
   "source": [
    "### 예제\n",
    "\n",
    "아래 함수의 그래프를 그려보자.\n",
    "```    \n",
    "squar(x) = x ** 2\n",
    "```"
   ]
  },
  {
   "cell_type": "markdown",
   "metadata": {},
   "source": [
    "이번에는 `x`좌표값의 구간을 `[-1, 1]`로 정한 후, 그 구간에서 균등하게 20개의 x좌표값을 구하자."
   ]
  },
  {
   "cell_type": "code",
   "execution_count": 10,
   "metadata": {},
   "outputs": [
    {
     "data": {
      "text/plain": [
       "array([-1.        , -0.89473684, -0.78947368, -0.68421053, -0.57894737,\n",
       "       -0.47368421, -0.36842105, -0.26315789, -0.15789474, -0.05263158,\n",
       "        0.05263158,  0.15789474,  0.26315789,  0.36842105,  0.47368421,\n",
       "        0.57894737,  0.68421053,  0.78947368,  0.89473684,  1.        ])"
      ]
     },
     "execution_count": 10,
     "metadata": {},
     "output_type": "execute_result"
    }
   ],
   "source": [
    "xs = np.linspace(-1, 1, 20)\n",
    "xs"
   ]
  },
  {
   "cell_type": "markdown",
   "metadata": {},
   "source": [
    "이제 숫자를 제곱해서 리턴하는 함수를 정의한다."
   ]
  },
  {
   "cell_type": "code",
   "execution_count": 11,
   "metadata": {},
   "outputs": [],
   "source": [
    "def square(x):\n",
    "    return x**2"
   ]
  },
  {
   "cell_type": "markdown",
   "metadata": {},
   "source": [
    "이제 x좌표값들에 대응하는 y좌표값들을 구하자."
   ]
  },
  {
   "cell_type": "code",
   "execution_count": 12,
   "metadata": {},
   "outputs": [
    {
     "data": {
      "text/plain": [
       "array([ 1.        ,  0.80055402,  0.6232687 ,  0.46814404,  0.33518006,\n",
       "        0.22437673,  0.13573407,  0.06925208,  0.02493075,  0.00277008,\n",
       "        0.00277008,  0.02493075,  0.06925208,  0.13573407,  0.22437673,\n",
       "        0.33518006,  0.46814404,  0.6232687 ,  0.80055402,  1.        ])"
      ]
     },
     "execution_count": 12,
     "metadata": {},
     "output_type": "execute_result"
    }
   ],
   "source": [
    "ys = square(xs)\n",
    "ys"
   ]
  },
  {
   "cell_type": "markdown",
   "metadata": {},
   "source": [
    "**주의:** `ys`를 아래와 같이 선언할 수 있다."
   ]
  },
  {
   "cell_type": "code",
   "execution_count": 13,
   "metadata": {},
   "outputs": [
    {
     "data": {
      "text/plain": [
       "array([ 1.        ,  0.80055402,  0.6232687 ,  0.46814404,  0.33518006,\n",
       "        0.22437673,  0.13573407,  0.06925208,  0.02493075,  0.00277008,\n",
       "        0.00277008,  0.02493075,  0.06925208,  0.13573407,  0.22437673,\n",
       "        0.33518006,  0.46814404,  0.6232687 ,  0.80055402,  1.        ])"
      ]
     },
     "execution_count": 13,
     "metadata": {},
     "output_type": "execute_result"
    }
   ],
   "source": [
    "ys ** 2\n",
    "ys"
   ]
  },
  {
   "cell_type": "markdown",
   "metadata": {},
   "source": [
    "이제 각각 `xs`와 `ys`로 이루어진 x좌표값 y좌표값들을 이용하여 제곱함수의 그래프를 그려보자."
   ]
  },
  {
   "cell_type": "code",
   "execution_count": 14,
   "metadata": {},
   "outputs": [
    {
     "data": {
      "text/plain": [
       "[<matplotlib.lines.Line2D at 0x10d5afe48>]"
      ]
     },
     "execution_count": 14,
     "metadata": {},
     "output_type": "execute_result"
    },
    {
     "data": {
      "image/png": "[encoded data removed]",
      "text/plain": [
       "<matplotlib.figure.Figure at 0x10d5af898>"
      ]
     },
     "metadata": {},
     "output_type": "display_data"
    }
   ],
   "source": [
    "plt.plot(xs, ys)\n",
    "plt.plot(xs, ys, 'o')"
   ]
  },
  {
   "cell_type": "markdown",
   "metadata": {},
   "source": [
    "## 넘파이 활용: 통계 분석\n",
    "\n",
    "어레이를 활용하면 통계 분석이 매우 간단해 진다."
   ]
  },
  {
   "cell_type": "markdown",
   "metadata": {},
   "source": [
    "### 예제\n",
    "\n",
    "먼저 아래 사이트에서 populations.txt 파일을 다운 받는다. \n",
    "파일을 다운 받으려면 링크에 마우스를 가져간 다음 마우스 오른쪽 버튼을 눌러 링크에 연결된 파일을 다운받으면 된다.\n",
    "\n",
    "[https://github.com/scipy-lectures/scipy-lecture-notes/blob/master/data/populations.txt](https://github.com/scipy-lectures/scipy-lecture-notes/blob/master/data/populations.txt)\n",
    "\n",
    "해당 파일은 1900년부터 1920년까지 캐나다 북부지역에서 서식한 산토끼(hare)와 스라소니(lynx)의 숫자, \n",
    "그리고 채소인 당근(carrot)의 재배숫자를 순수 텍스트 데이터로 담고 있다.\n",
    "\n",
    "파일의 내용은 아래와 같다.\n",
    "\n",
    "** 주의:** 아래 코드는 파이썬 코드가 아님에 주의할 것.\n",
    "* !type: 윈도우\n",
    "* !cat: 맥 또는 리눅스"
   ]
  },
  {
   "cell_type": "code",
   "execution_count": 15,
   "metadata": {
    "scrolled": true
   },
   "outputs": [
    {
     "name": "stdout",
     "output_type": "stream",
     "text": [
      "# year\thare\tlynx\tcarrot\r\n",
      "1900\t30e3\t4e3\t48300\r\n",
      "1901\t47.2e3\t6.1e3\t48200\r\n",
      "1902\t70.2e3\t9.8e3\t41500\r\n",
      "1903\t77.4e3\t35.2e3\t38200\r\n",
      "1904\t36.3e3\t59.4e3\t40600\r\n",
      "1905\t20.6e3\t41.7e3\t39800\r\n",
      "1906\t18.1e3\t19e3\t38600\r\n",
      "1907\t21.4e3\t13e3\t42300\r\n",
      "1908\t22e3\t8.3e3\t44500\r\n",
      "1909\t25.4e3\t9.1e3\t42100\r\n",
      "1910\t27.1e3\t7.4e3\t46000\r\n",
      "1911\t40.3e3\t8e3\t46800\r\n",
      "1912\t57e3\t12.3e3\t43800\r\n",
      "1913\t76.6e3\t19.5e3\t40900\r\n",
      "1914\t52.3e3\t45.7e3\t39400\r\n",
      "1915\t19.5e3\t51.1e3\t39000\r\n",
      "1916\t11.2e3\t29.7e3\t36700\r\n",
      "1917\t7.6e3\t15.8e3\t41800\r\n",
      "1918\t14.6e3\t9.7e3\t43300\r\n",
      "1919\t16.2e3\t10.1e3\t41300\r\n",
      "1920\t24.7e3\t8.6e3\t47300\r\n"
     ]
    }
   ],
   "source": [
    "!cat data/populations.txt\n",
    "# !type populations.txt"
   ]
  },
  {
   "cell_type": "markdown",
   "metadata": {},
   "source": [
    "앞서 설명한 대로 각 연도별로 산토끼, 스라소니, 당근의 개체수를 담고 있다. \n",
    "\n",
    "이제 해당 파일을 파이썬으로 불러 들이자.\n",
    "여기서는 파이썬의 `open` 함수 대신에 `numpy`의 `loadtxt` 함수를 이용한다."
   ]
  },
  {
   "cell_type": "code",
   "execution_count": 16,
   "metadata": {},
   "outputs": [],
   "source": [
    "data = np.loadtxt('data/populations.txt')"
   ]
  },
  {
   "cell_type": "markdown",
   "metadata": {},
   "source": [
    "`data`를 확인해 보면 주석처리, 즉, 무시 해야 할 첫째 행을 제외한 나머지가 \n",
    "2차원 어레이로 저장되었음을 확인할 수 있다. "
   ]
  },
  {
   "cell_type": "code",
   "execution_count": 17,
   "metadata": {},
   "outputs": [
    {
     "data": {
      "text/plain": [
       "array([[  1900.,  30000.,   4000.,  48300.],\n",
       "       [  1901.,  47200.,   6100.,  48200.],\n",
       "       [  1902.,  70200.,   9800.,  41500.],\n",
       "       [  1903.,  77400.,  35200.,  38200.],\n",
       "       [  1904.,  36300.,  59400.,  40600.],\n",
       "       [  1905.,  20600.,  41700.,  39800.],\n",
       "       [  1906.,  18100.,  19000.,  38600.],\n",
       "       [  1907.,  21400.,  13000.,  42300.],\n",
       "       [  1908.,  22000.,   8300.,  44500.],\n",
       "       [  1909.,  25400.,   9100.,  42100.],\n",
       "       [  1910.,  27100.,   7400.,  46000.],\n",
       "       [  1911.,  40300.,   8000.,  46800.],\n",
       "       [  1912.,  57000.,  12300.,  43800.],\n",
       "       [  1913.,  76600.,  19500.,  40900.],\n",
       "       [  1914.,  52300.,  45700.,  39400.],\n",
       "       [  1915.,  19500.,  51100.,  39000.],\n",
       "       [  1916.,  11200.,  29700.,  36700.],\n",
       "       [  1917.,   7600.,  15800.,  41800.],\n",
       "       [  1918.,  14600.,   9700.,  43300.],\n",
       "       [  1919.,  16200.,  10100.,  41300.],\n",
       "       [  1920.,  24700.,   8600.,  47300.]])"
      ]
     },
     "execution_count": 17,
     "metadata": {},
     "output_type": "execute_result"
    }
   ],
   "source": [
    "data"
   ]
  },
  {
   "cell_type": "markdown",
   "metadata": {},
   "source": [
    "1900년부터 1920년까지, 즉, 21년 동안 산토끼, 스라소니, 당근의 개체수를 조사한 데이터이다. \n",
    "따라서 위 데이터는 `21 x 4` 모양의 2차원 행렬에 해당한다.\n",
    "\n",
    "실제로 위 데이터의 모양(shape)를 확인하면 동일한 결과를 얻는다."
   ]
  },
  {
   "cell_type": "code",
   "execution_count": 18,
   "metadata": {},
   "outputs": [
    {
     "data": {
      "text/plain": [
       "(21, 4)"
      ]
     },
     "execution_count": 18,
     "metadata": {},
     "output_type": "execute_result"
    }
   ],
   "source": [
    "data.shape"
   ]
  },
  {
   "cell_type": "markdown",
   "metadata": {},
   "source": [
    "이제 위 데이터를 이용하여 1900년부터 1920년 사이에 각 개체별로 어떤 변화가 발생하였는지를 분석하고자 한다.\n",
    "분석을 위해서는 그래프를 이용하는 것이 가장 효율적이다."
   ]
  },
  {
   "cell_type": "markdown",
   "metadata": {},
   "source": [
    "#### 전치(transposition) 함수 활용"
   ]
  },
  {
   "cell_type": "markdown",
   "metadata": {},
   "source": [
    "각 개체별 개체수의 21년간의 데이터를 먼저 구해야 한다.\n",
    "그러기 위해 전치(transposition) 함수를 이용한다. \n",
    "```\n",
    "data.T\n",
    "```\n",
    "\n",
    "**주의:** 전치함수는 행과 열을 서로 바꾼다."
   ]
  },
  {
   "cell_type": "code",
   "execution_count": 19,
   "metadata": {},
   "outputs": [
    {
     "data": {
      "text/plain": [
       "array([[  1900.,   1901.,   1902.,   1903.,   1904.,   1905.,   1906.,\n",
       "          1907.,   1908.,   1909.,   1910.,   1911.,   1912.,   1913.,\n",
       "          1914.,   1915.,   1916.,   1917.,   1918.,   1919.,   1920.],\n",
       "       [ 30000.,  47200.,  70200.,  77400.,  36300.,  20600.,  18100.,\n",
       "         21400.,  22000.,  25400.,  27100.,  40300.,  57000.,  76600.,\n",
       "         52300.,  19500.,  11200.,   7600.,  14600.,  16200.,  24700.],\n",
       "       [  4000.,   6100.,   9800.,  35200.,  59400.,  41700.,  19000.,\n",
       "         13000.,   8300.,   9100.,   7400.,   8000.,  12300.,  19500.,\n",
       "         45700.,  51100.,  29700.,  15800.,   9700.,  10100.,   8600.],\n",
       "       [ 48300.,  48200.,  41500.,  38200.,  40600.,  39800.,  38600.,\n",
       "         42300.,  44500.,  42100.,  46000.,  46800.,  43800.,  40900.,\n",
       "         39400.,  39000.,  36700.,  41800.,  43300.,  41300.,  47300.]])"
      ]
     },
     "execution_count": 19,
     "metadata": {},
     "output_type": "execute_result"
    }
   ],
   "source": [
    "data.T"
   ]
  },
  {
   "cell_type": "markdown",
   "metadata": {},
   "source": [
    "즉, `data.T`는 `4 x 21` 모양의 2차원 어레이이며,\n",
    "각각의 행은 차례대로 년도, 산토끼 수, 스라소니 수, 당근 수를 연도별로 담고 있다.\n",
    "각각의 행을 독립된 어레이로 추출해야 하는데, 넘파이는 각각의 행에 대해 변수를 선언할 수 있는 기능을 제공한다. \n",
    "\n",
    "**주의:** 튜플의 경우 각각의 항목에 변수를 선언할 수 있는 것과 동일하다."
   ]
  },
  {
   "cell_type": "code",
   "execution_count": 20,
   "metadata": {},
   "outputs": [],
   "source": [
    "year, hares, lynxes, carrots = data.T"
   ]
  },
  {
   "cell_type": "markdown",
   "metadata": {},
   "source": [
    "예를 들어 `year` 변수에는 연도들로 이루어진 1차원 어레이가 할당된다."
   ]
  },
  {
   "cell_type": "code",
   "execution_count": 21,
   "metadata": {},
   "outputs": [
    {
     "data": {
      "text/plain": [
       "array([ 1900.,  1901.,  1902.,  1903.,  1904.,  1905.,  1906.,  1907.,\n",
       "        1908.,  1909.,  1910.,  1911.,  1912.,  1913.,  1914.,  1915.,\n",
       "        1916.,  1917.,  1918.,  1919.,  1920.])"
      ]
     },
     "execution_count": 21,
     "metadata": {},
     "output_type": "execute_result"
    }
   ],
   "source": [
    "year"
   ]
  },
  {
   "cell_type": "markdown",
   "metadata": {},
   "source": [
    "`hares` 변수에는 각 연도별 개체수로 이루어진 1차원 어레이가 할당된다."
   ]
  },
  {
   "cell_type": "code",
   "execution_count": 22,
   "metadata": {},
   "outputs": [
    {
     "data": {
      "text/plain": [
       "array([ 30000.,  47200.,  70200.,  77400.,  36300.,  20600.,  18100.,\n",
       "        21400.,  22000.,  25400.,  27100.,  40300.,  57000.,  76600.,\n",
       "        52300.,  19500.,  11200.,   7600.,  14600.,  16200.,  24700.])"
      ]
     },
     "execution_count": 22,
     "metadata": {},
     "output_type": "execute_result"
    }
   ],
   "source": [
    "hares"
   ]
  },
  {
   "cell_type": "markdown",
   "metadata": {},
   "source": [
    "`lynxes`, `carrots` 경우도 동일하게 작동한다. "
   ]
  },
  {
   "cell_type": "markdown",
   "metadata": {},
   "source": [
    "#### 그래프 그리기\n",
    "\n",
    "아래 그림은 연도별 산토끼의 개체수, 스라소니의 개체수, 당근의 재배수를 \n",
    "각각 파란색, 녹색, 빨간색 그래프를 이용하여 동시에 표현한 것이다.\n",
    "\n",
    "`plot`, `axes`, `legned` 함수의 활용방법에 대해서는 우선 너무 많은 \n",
    "신경을 쓰지 않아도 된다. 여기서는 기본 사용법만 알면 된다.\n",
    "\n",
    "* `plot` 함수: 여러 개의 선 그래프를 동시에 그릴 수 있다.\n",
    "\n",
    "* `axes` 함수: 셋째, 넷째 인자는 그래프의 크기를 결정한다. \n",
    "    반면에 첫째, 둘째 인자는 그래프의 위치를 지정할 때 사용한다.\n",
    "    하지만 `plot` 함수 등 그래프를 그리는 함수가 한 번만 호출된 경우에는 별 의미가 없다.\n",
    "\n",
    "* `legend` 함수: 범례를 추가하며, `loc` 키워드 인자는 범례의 위치를 지정한다."
   ]
  },
  {
   "cell_type": "code",
   "execution_count": 23,
   "metadata": {},
   "outputs": [
    {
     "data": {
      "text/plain": [
       "<matplotlib.legend.Legend at 0x10d7d0128>"
      ]
     },
     "execution_count": 23,
     "metadata": {},
     "output_type": "execute_result"
    },
    {
     "data": {
      "image/png": "[encoded data removed]",
      "text/plain": [
       "<matplotlib.figure.Figure at 0x10d706da0>"
      ]
     },
     "metadata": {},
     "output_type": "display_data"
    }
   ],
   "source": [
    "plt.axes([0.2, 0.1, 0.5, 0.8])\n",
    "plt.plot(year, hares, year, lynxes, year, carrots)\n",
    "plt.legend(('Hare', 'Lynx', 'Carrot'), loc=(1.05, 0.5))"
   ]
  },
  {
   "cell_type": "markdown",
   "metadata": {},
   "source": [
    "#### 그래프 분석\n",
    "\n",
    "산토끼의 개체수와 스라소니의 개체수, 그리고 당근의 재배수의 관계를 위 그림을 통해 어느정도 쉽게 알아낼 수 있다.\n",
    "(연습문제 참조)"
   ]
  },
  {
   "cell_type": "markdown",
   "metadata": {},
   "source": [
    "## 연습문제"
   ]
  },
  {
   "cell_type": "markdown",
   "metadata": {},
   "source": [
    "### 연습\n",
    "\n",
    "수학에서 많이 사용되는 싸인(`sin()`) 함수의 그래프를 그려보아라."
   ]
  },
  {
   "cell_type": "markdown",
   "metadata": {},
   "source": [
    "### 연습\n",
    "\n",
    "산토끼, 스라소니, 당근의 예제에서 1900년부터 1921년 사이에 개체별 개체수의 변화에 대해 어떤 분석을 할 수 있는지 그래프를 이용하여 설명하라."
   ]
  }
 ],
 "metadata": {
  "kernelspec": {
   "display_name": "Python 3",
   "language": "python",
   "name": "python3"
  },
  "language_info": {
   "codemirror_mode": {
    "name": "ipython",
    "version": 3
   },
   "file_extension": ".py",
   "mimetype": "text/x-python",
   "name": "python",
   "nbconvert_exporter": "python",
   "pygments_lexer": "ipython3",
   "version": "3.6.8"
  }
 },
 "nbformat": 4,
 "nbformat_minor": 1
}
