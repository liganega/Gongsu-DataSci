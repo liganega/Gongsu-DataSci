{
 "cells": [
  {
   "cell_type": "markdown",
   "metadata": {
    "slideshow": {
     "slide_type": "-"
    }
   },
   "source": [
    "# 강의 소개"
   ]
  },
  {
   "cell_type": "markdown",
   "metadata": {},
   "source": [
    "## 주제: 파이썬 데이터과학 기초 소개"
   ]
  },
  {
   "cell_type": "markdown",
   "metadata": {},
   "source": [
    "데이터과학이란 *주어진 데이터로부터 수학과 통계에 대한 지식을 활용하여 필요한 정보를 추출하는 과학*을 의미한다.\n",
    "\n",
    "* 데이터과학의 필수 요소 \n",
    "    * 프로그래밍 실력\n",
    "    * 수학 및 통계에 대한 기본 지식\n",
    "    * 주어진 데이터와 관련된 분야에 대한 전문 지식"
   ]
  },
  {
   "cell_type": "markdown",
   "metadata": {},
   "source": [
    "## 주요 목표\n",
    "\n",
    "주요 목표는 단순히 파이썬 언어를 습득하는 것이 아니다. 오히려, 파이썬과 같은 프로그래밍 언어를 실용적인 수학적 문제를 해결하는 데에 도구로 사용하는 한 가지 방법을 습득하는 것이다.\n",
    "이와 더불어, 컴퓨터공학에서 최근 들어 가장 많은 관심을 받는 데이터과학 분야의 기초를 닦고자 한다.  "
   ]
  },
  {
   "cell_type": "markdown",
   "metadata": {},
   "source": [
    "## 주요 내용\n",
    "\n",
    "* 파이썬 기초프로그래밍 배우기\n",
    "* 매우 간단한 수학 및 통계 기초 지식\n",
    "* 선형대수 및 통계와 관련된 파이썬 라이브러리 활용\n",
    "* 쉬운 수학 및 통계 문제를 파이썬 프로그래밍으로 해결하기"
   ]
  },
  {
   "cell_type": "markdown",
   "metadata": {},
   "source": [
    "## 파이썬 프로그래밍 언어 소개\n",
    "\n",
    "* 1991년 귀도 반 로섬(Guido van Rossum)이라는 프로그래머가 개발한 고급 프로그래밍 언어\n",
    "* 특징\n",
    "    * C, Java 등과 같은 범용 프로그래밍 언어\n",
    "    * 객체지향 언어\n",
    "    * 인터프리터 언어 (스크립트 언어라고도 불림)\n",
    "    * 동적타이핑 지원\n",
    "    * 거의 모든 운영체제에서 작동"
   ]
  },
  {
   "cell_type": "markdown",
   "metadata": {},
   "source": [
    "### 파이썬 언어 인기도\n",
    "\n",
    "* TIOBE Index 2021년 1월 기준 세 번째로 많이 사용되는 프로그래밍 언어이면서, 점점 더 많이 활용됨.\n",
    "\n",
    "<p>\n",
    "<table cellspacing=\"20\">\n",
    "<tr>\n",
    "<td>\n",
    "<img src=\"images/tiobe-index202101.png\" style=\"width:600\">\n",
    "</td>\n",
    "</tr>\n",
    "</table>\n",
    "</p>\n",
    "\n",
    "그림출처: [TIOBE Index](https://www.tiobe.com/tiobe-index/)"
   ]
  },
  {
   "cell_type": "markdown",
   "metadata": {},
   "source": [
    "### 데이터과학에서의 파이썬 인기도\n",
    "\n",
    "데이터과학 관련 전문 사이트인 KDnuggets에서 수행한 데이터과학 분야에서의 소프트웨어 인기도 조사에서 \n",
    "가장 많은 사용자가 사용하는 언어로 선정됨.\n",
    "\n",
    "<p>\n",
    "<table cellspacing=\"20\">\n",
    "<tr>\n",
    "<td>\n",
    "<img src=\"images/KDnuggets-software-poll-2019.jpg\" style=\"height:60\">\n",
    "</td>\n",
    "</tr>\n",
    "</table>\n",
    "</p>\n",
    "\n",
    "그림출처: [KDnuggets](https://www.kdnuggets.com/2019/05/poll-top-data-science-machine-learning-platforms.html)"
   ]
  },
  {
   "cell_type": "markdown",
   "metadata": {},
   "source": [
    "### 파이썬이 데이터과학 분야에서 인기가 높은 이유\n",
    "\n",
    "* 범용 프로그래밍의 장점과 더불어 R, 매트랩, SQL, 엑셀 등 특정 분야를 위한 언어들의 편리함도 함께 지원\n",
    "* 데이터 적재, 시각화, 통계, 자연어 처리, 이미지 처리 등에 필요한 라이브러리 제공\n",
    "* 머신러닝, 데이터 분석 등을 위한 최신 개발에 특화된 라이브러리가 지속적으로 개발됨.\n",
    "    * 예제: 구글이 개발한 딥러닝 라이브러리 텐서플로(Tensorflow, https://www.tensorflow.org/) \n",
    "* 범용 프로그래밍 언어로써 복잡한 그래픽 사용자 인터페이스(GUI), 웹 서비스 등의 개발에도 적합함.\n",
    "* 아나콘다(Anaconda) 등 데이터과학에 필수적인 라이브러리와 통합 개발환경을 제공하는 다양한 패키지 존재"
   ]
  }
 ],
 "metadata": {
  "kernelspec": {
   "display_name": "Python 3",
   "language": "python",
   "name": "python3"
  },
  "language_info": {
   "codemirror_mode": {
    "name": "ipython",
    "version": 3
   },
   "file_extension": ".py",
   "mimetype": "text/x-python",
   "name": "python",
   "nbconvert_exporter": "python",
   "pygments_lexer": "ipython3",
   "version": "3.8.3"
  }
 },
 "nbformat": 4,
 "nbformat_minor": 1
}
