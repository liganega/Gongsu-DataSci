{
 "cells": [
  {
   "cell_type": "markdown",
   "metadata": {},
   "source": [
    "# CSV 파일 다루기와 데이터 시각화"
   ]
  },
  {
   "cell_type": "markdown",
   "metadata": {},
   "source": [
    "#### 수정 사항\n",
    "\n",
    "* 좀 더 복잡한 csv 데이터 활용 예제 추가 필요"
   ]
  },
  {
   "cell_type": "markdown",
   "metadata": {},
   "source": [
    "## 주요 내용\n",
    "\n",
    "데이터 분석을 위해 가장 기본적으로 할 수 있고, 해야 하는 일이 데이터 시각화이다. \n",
    "데이터를 시각화하는 것은 어렵지 않지만, 적합한 시각화를 만드는 일은 매우 어려우며,\n",
    "많은 훈련과 직관이 요구된다.\n",
    "\n",
    "여기서는 데이터를 탐색하여 얻어진 데이터를 시각화하는 기본적인 방법 네 가지를 배운다.\n",
    "\n",
    "* 선그래프\n",
    "* 막대그래프\n",
    "* 히스토그램\n",
    "* 산점도"
   ]
  },
  {
   "cell_type": "markdown",
   "metadata": {},
   "source": [
    "## 오늘이 주요 예제\n",
    "\n",
    "서울과 수도권의 1949년부터 2010년까지 인구증가율 데이터가 아래와 같다.\n",
    "\n",
    "<p>\n",
    "<table cellspacing=\"20\">\n",
    "\n",
    "<tr>\n",
    "<td>\n",
    "<img src=\"images/Seoul_pop04.jpg\" style=\"width:360\">\n",
    "</td>\n",
    "</tr>\n",
    "\n",
    "</table>\n",
    "</p>"
   ]
  },
  {
   "cell_type": "markdown",
   "metadata": {},
   "source": [
    "이제 위 파일을 읽어서 서울과 수도권의 인구증가율 추이를 아래 그림에서처럼 선그래프로 나타내 보자."
   ]
  },
  {
   "cell_type": "markdown",
   "metadata": {},
   "source": [
    "<p>\n",
    "<table cellspacing=\"20\">\n",
    "\n",
    "<tr>\n",
    "<td>\n",
    "<img src=\"images/Seoul_pop05.png\" style=\"width:360\">\n",
    "</td>\n",
    "</tr>\n",
    "\n",
    "</table>\n",
    "</p>"
   ]
  },
  {
   "cell_type": "markdown",
   "metadata": {},
   "source": [
    "## 데이터 시각화 도구 소개: `matplotlib` 라이브러리\n",
    "\n",
    "데이터 시각화를 위한 도구 중에서 간단한 막대 그래프, 히스토그램, 선 그래프, 산점도를 쉽게 그릴 수 있는\n",
    "많은 도구들을 포함한 라이브러리이다. \n",
    "이 라이브러리에 포함된 모듈 중에서 여기서는 `pyplot` 모듈에 포함된 가장 기본적인 몇 개의 도구들의 활용법을\n",
    "간단한 예제를 배우고자 한다."
   ]
  },
  {
   "cell_type": "code",
   "execution_count": 1,
   "metadata": {},
   "outputs": [],
   "source": [
    "import matplotlib.pyplot as plt"
   ]
  },
  {
   "cell_type": "code",
   "execution_count": 2,
   "metadata": {},
   "outputs": [],
   "source": [
    "%matplotlib inline"
   ]
  },
  {
   "cell_type": "markdown",
   "metadata": {
    "collapsed": true
   },
   "source": [
    "## 선그래프\n",
    "\n",
    "\n",
    "`data` 디렉토리의 `Seoul_pop1.csv` 파일에는 1949년부터 5년 간격으로 측정된 서울시 인구수를 담은 데이터가 \n",
    "들어 있으며, 그 내용은 다음과 같다.\n",
    "\n",
    "```\n",
    "1949    1,437,670\n",
    "1955    1,568,746\n",
    "1960    2,445,402\n",
    "1966    3,793,280\n",
    "1970    5,525,262\n",
    "1975    6,879,464\n",
    "1980    8,350,616\n",
    "1985    9,625,755\n",
    "1990   10,603,250\n",
    "1995   10,217,177\n",
    "2000    9,853,972\n",
    "2005    9,762,546\n",
    "2010    9,631,482\n",
    "```\n",
    "출처: 국가통계포털(kosis.kr)"
   ]
  },
  {
   "cell_type": "markdown",
   "metadata": {
    "collapsed": true
   },
   "source": [
    "### 파일에서 데이터 목록 추출하기\n",
    "\n",
    "연도별 서울시 인구수의 연도별 변화추이를 간단한 선그래프를 이용하여 확인하려면,\n",
    "먼저 x축에 사용될 년도 목록과 y축에 사용될 인구수 목록을 구해야 한다.\n",
    "\n",
    "먼저 이전에 배운 기술을 활용하고, 이후에 보다 쉽게 활용하는 고급기술을 활용한다.\n",
    "\n",
    "**주의:** 확장자가 csv인 파일은데이터가 쉼표(콤마)로 구분되어 정리되어 있는 파일을 의미한다.\n",
    "csv는 Comma-Separated Values의 줄임말이다. \n",
    "따라서, csv 파일을 읽어들인 후, 각 줄을 쉼표 기준으로 분리(split)하면 이전에 공백 기분으로 데이터를 쪼개는 방식과\n",
    "동일한 결과를 얻을 수 있다. 즉, `split` 메소드의 인자로 여기서는 쉼표를 사용하면 된다."
   ]
  },
  {
   "cell_type": "code",
   "execution_count": 3,
   "metadata": {},
   "outputs": [],
   "source": [
    "data_f = open(\"data/Seoul_pop1.csv\")\n",
    "\n",
    "# 년도 리스트\n",
    "years = []\n",
    "# 인구수 리스트\n",
    "populations = []\n",
    "\n",
    "for line in data_f: \n",
    "    (year, population) = line.split(',')       \n",
    "    years.append(int(year))\n",
    "    populations.append(int(population))\n",
    "\n",
    "data_f.close() "
   ]
  },
  {
   "cell_type": "code",
   "execution_count": 4,
   "metadata": {},
   "outputs": [
    {
     "name": "stdout",
     "output_type": "stream",
     "text": [
      "[1949, 1955, 1960, 1966, 1970, 1975, 1980, 1985, 1990, 1995, 2000, 2005, 2010]\n"
     ]
    }
   ],
   "source": [
    "print(years)"
   ]
  },
  {
   "cell_type": "code",
   "execution_count": 5,
   "metadata": {},
   "outputs": [
    {
     "name": "stdout",
     "output_type": "stream",
     "text": [
      "[1437670, 1568746, 2445402, 3793280, 5525262, 6879464, 8350616, 9625755, 10603250, 10217177, 9853972, 9762546, 9631482]\n"
     ]
    }
   ],
   "source": [
    "print(populations)"
   ]
  },
  {
   "cell_type": "code",
   "execution_count": 6,
   "metadata": {},
   "outputs": [
    {
     "data": {
      "image/png": "[encoded data removed]",
      "text/plain": [
       "<matplotlib.figure.Figure at 0x10885d4e0>"
      ]
     },
     "metadata": {},
     "output_type": "display_data"
    }
   ],
   "source": [
    "# 그래프를 그릴 도화지 준비하기\n",
    "fig = plt.figure()\n",
    "ax = fig.add_subplot(1, 1, 1)\n",
    "\n",
    "# x축에 년도, y축에 인구수가 있는 선 그래프 만들기\n",
    "plt.plot(years, populations, color='green', marker='o', linestyle='solid')\n",
    "\n",
    "# 제목 더하기\n",
    "plt.title(\"Seoul Population Change\")\n",
    "\n",
    "# y축에 레이블 추가하기\n",
    "plt.ylabel(\"10Million\")\n",
    "plt.show()"
   ]
  },
  {
   "cell_type": "markdown",
   "metadata": {},
   "source": [
    "## 막대그래프\n",
    "\n",
    "동일한 데이터를 막대그래프를 이용하여 보여줄 수 있다.\n",
    "그렇게 하면 년도별 미세한 차이를 보다 자세히 나타낼 수 있다."
   ]
  },
  {
   "cell_type": "code",
   "execution_count": 7,
   "metadata": {},
   "outputs": [
    {
     "data": {
      "image/png": "[encoded data removed]",
      "text/plain": [
       "<matplotlib.figure.Figure at 0x10d81ba20>"
      ]
     },
     "metadata": {},
     "output_type": "display_data"
    }
   ],
   "source": [
    "# 그래프를 그릴 도화지 준비하기\n",
    "fig = plt.figure()\n",
    "ax = fig.add_subplot(1, 1, 1)\n",
    "\n",
    "# 막대그래프 그리기\n",
    "plt.bar(years, populations)\n",
    "\n",
    "# 제목 더하기\n",
    "plt.title(\"Seoul Population Change\")\n",
    "\n",
    "# y축에 레이블 추가하기\n",
    "plt.ylabel(\"10Million\")\n",
    "plt.show()"
   ]
  },
  {
   "cell_type": "markdown",
   "metadata": {},
   "source": [
    "그런데 이렇게 하면 막대 그래프의 두께가 좀 좁아 보인다. 그리고\n",
    "년도가 정확히 5년 단위로 쪼개진 것이 아니기에 막대들 사이의 간격이 불규칙해 보인다.\n",
    "따라서 먼저 막대의 두께를 좀 조절해보자.\n",
    "\n",
    "**힌트:** `plt.bar()` 함수의 세 번째 인자는 막대들의 두께를 지정한다."
   ]
  },
  {
   "cell_type": "code",
   "execution_count": 8,
   "metadata": {
    "scrolled": true
   },
   "outputs": [
    {
     "data": {
      "image/png": "[encoded data removed]",
      "text/plain": [
       "<matplotlib.figure.Figure at 0x110bece10>"
      ]
     },
     "metadata": {},
     "output_type": "display_data"
    }
   ],
   "source": [
    "# 그래프를 그릴 도화지 준비하기\n",
    "fig = plt.figure()\n",
    "ax = fig.add_subplot(1, 1, 1)\n",
    "\n",
    "# 막대그래프 그리기, 막대 두께 조절\n",
    "plt.bar(years, populations, 2.5)\n",
    "\n",
    "# 제목 더하기\n",
    "plt.title(\"Seoul Population Change\")\n",
    "\n",
    "# y축에 레이블 추가하기\n",
    "plt.ylabel(\"10Million\")\n",
    "plt.show()"
   ]
  },
  {
   "cell_type": "markdown",
   "metadata": {},
   "source": [
    "막대들의 간격이 완전히 규칙적으로 되지는 않았지만 이전 그래프와는 좀 다른 느낌을 준다. \n",
    "이와 같이 막대들의 두께 뿐만아니라, 간격, 색상 모두 조절할 수 있지만, \n",
    "여기서는 그럴 수 있다는 사실만 언급하고 넘어간다."
   ]
  },
  {
   "cell_type": "markdown",
   "metadata": {},
   "source": [
    "### 예제\n",
    "\n",
    "대한민국이 하계 올림픽에서 가장 많은 메일을 획득한 상위 여섯 종목과 메달 숫자는 아래와 같다.\n",
    "\n",
    "<p>\n",
    "<table cellspacing=\"20\">\n",
    "\n",
    "<tr>\n",
    "    <td>종목</td>\n",
    "    <td>메달 수</td>\n",
    "</tr>\n",
    "<tr>\n",
    "    <td>Archery(양궁)</td>\n",
    "    <td>39</td>\n",
    "</tr>\n",
    "<tr>\n",
    "    <td>Badminton(배드민턴)</td>\n",
    "    <td>19</td>\n",
    "</tr>\n",
    "<tr>\n",
    "    <td>Boxing(복싱)</td>\n",
    "    <td>20</td>\n",
    "</tr>\n",
    "<tr>\n",
    "    <td>Judo(유도)</td>\n",
    "    <td>43</td>\n",
    "</tr>\n",
    "<tr>\n",
    "    <td>Taekwondo(태권도)</td>\n",
    "    <td>19</td>\n",
    "</tr>\n",
    "<tr>\n",
    "    <td>Wrestling(레슬링)</td>\n",
    "    <td>36</td>\n",
    "</tr>\n",
    "\n",
    "<caption align='bottom'>출처: 위키피디아</caption>\n",
    "</table>\n",
    "</p>"
   ]
  },
  {
   "cell_type": "markdown",
   "metadata": {},
   "source": [
    "이제 위 데이터를 막대 그래프로 시각화할 수 있다."
   ]
  },
  {
   "cell_type": "code",
   "execution_count": 9,
   "metadata": {},
   "outputs": [
    {
     "data": {
      "image/png": "[encoded data removed]",
      "text/plain": [
       "<matplotlib.figure.Figure at 0x110cd25c0>"
      ]
     },
     "metadata": {},
     "output_type": "display_data"
    }
   ],
   "source": [
    "sports = ['Archery', 'Badminton', 'Boxing', 'Jugdo', 'Taekwondo', 'Wrestling']\n",
    "medals = [39, 19, 20, 43, 19, 36]\n",
    "\n",
    "plt.bar(sports, medals)\n",
    "plt.ylabel(\"Medals\")\n",
    "plt.title(\"Olympic Medals\")\n",
    "plt.show()"
   ]
  },
  {
   "cell_type": "markdown",
   "metadata": {},
   "source": [
    "x축에 종목 이름 대신에 숫자를 넣을 수도 있지만 정확한 정보를 전달하지는 못한다."
   ]
  },
  {
   "cell_type": "code",
   "execution_count": 10,
   "metadata": {},
   "outputs": [
    {
     "data": {
      "image/png": "[encoded data removed]",
      "text/plain": [
       "<matplotlib.figure.Figure at 0x110d90b70>"
      ]
     },
     "metadata": {},
     "output_type": "display_data"
    }
   ],
   "source": [
    "sports = ['Archery', 'Badminton', 'Boxing', 'Jugdo', 'Taekwondo', 'Wrestling']\n",
    "medals = [39, 19, 20, 43, 19, 36]\n",
    "\n",
    "plt.bar(range(6), medals)\n",
    "plt.ylabel(\"Medals\")\n",
    "plt.title(\"Olympic Medals\")\n",
    "plt.show()"
   ]
  },
  {
   "cell_type": "markdown",
   "metadata": {},
   "source": [
    "따라서 x축에 6개의 막대가 필요하고 각각의 막대에 레이블 형식으로 종목 이름을 지정해야 한다."
   ]
  },
  {
   "cell_type": "code",
   "execution_count": 11,
   "metadata": {},
   "outputs": [
    {
     "data": {
      "image/png": "[encoded data removed]",
      "text/plain": [
       "<matplotlib.figure.Figure at 0x110ded6a0>"
      ]
     },
     "metadata": {},
     "output_type": "display_data"
    }
   ],
   "source": [
    "sports = ['Archery', 'Badminton', 'Boxing', 'Jugdo', 'Taekwondo', 'Wrestling']\n",
    "medals = [39, 19, 20, 43, 19, 36]\n",
    "\n",
    "xs = range(6)\n",
    "plt.bar(xs, medals)\n",
    "\n",
    "plt.xticks(xs, sports)\n",
    "\n",
    "plt.ylabel(\"Medals\")\n",
    "plt.title(\"Olympic Medals\")\n",
    "plt.show()"
   ]
  },
  {
   "cell_type": "markdown",
   "metadata": {},
   "source": [
    "여전히 그래프가 좀 어색하다. 막대들이 좀 두껍다. 이럴 때는 x축에 사용되는 점들의 간격을 좀 벌리는 게 좋다."
   ]
  },
  {
   "cell_type": "code",
   "execution_count": 12,
   "metadata": {},
   "outputs": [
    {
     "data": {
      "image/png": "[encoded data removed]",
      "text/plain": [
       "<matplotlib.figure.Figure at 0x110f21518>"
      ]
     },
     "metadata": {},
     "output_type": "display_data"
    }
   ],
   "source": [
    "sports = ['Archery', 'Badminton', 'Boxing', 'Jugdo', 'Taekwondo', 'Wrestling']\n",
    "medals = [39, 19, 20, 43, 19, 36]\n",
    "\n",
    "xs = range(0, 12, 2)\n",
    "plt.bar(xs, medals)\n",
    "\n",
    "plt.xticks(xs, sports)\n",
    "\n",
    "plt.ylabel(\"Medals\")\n",
    "plt.title(\"Olympic Medals\")\n",
    "plt.show()"
   ]
  },
  {
   "cell_type": "markdown",
   "metadata": {},
   "source": [
    "이번에는 막대 두께가 좁아 보인다. 그래서 좀 넓히는 게 좋다."
   ]
  },
  {
   "cell_type": "code",
   "execution_count": 13,
   "metadata": {},
   "outputs": [
    {
     "data": {
      "image/png": "[encoded data removed]",
      "text/plain": [
       "<matplotlib.figure.Figure at 0x110f63780>"
      ]
     },
     "metadata": {},
     "output_type": "display_data"
    }
   ],
   "source": [
    "sports = ['Archery', 'Badminton', 'Boxing', 'Jugdo', 'Taekwondo', 'Wrestling']\n",
    "medals = [39, 19, 20, 43, 19, 36]\n",
    "\n",
    "xs = range(0, 12, 2)\n",
    "plt.bar(xs, medals, 1.2)\n",
    "\n",
    "plt.xticks(xs, sports)\n",
    "\n",
    "plt.ylabel(\"Medals\")\n",
    "plt.title(\"Olympic Medals\")\n",
    "plt.show()"
   ]
  },
  {
   "cell_type": "markdown",
   "metadata": {},
   "source": [
    "지금까지 살펴보았듯이 적합한 시각화는 경우에 따라 상당히 많은 노력을 요구하기도 한다.\n",
    "여기서는 `matplotlib.pyplot` 라이브러리에 다양한 설정 옵션이 있다는 정도만 기억하면 좋겠다."
   ]
  },
  {
   "cell_type": "markdown",
   "metadata": {},
   "source": [
    "## 히스토그램\n",
    "\n",
    "히스토 그램은 막대그래프와 비슷하다. 다만 막대 사이에 공간이 없다. \n",
    "따라서 연속적인 구간으로 구분된 범위에 포함된 숫자들의 도수를 나타내는 데에 효과적이다."
   ]
  },
  {
   "cell_type": "markdown",
   "metadata": {},
   "source": [
    "아래 예제는 임의로 생성된 1000개의 실수들의 분포를 보여주는 히스토그램이다. \n",
    "\n",
    "**주의:** \n",
    "* numpy 모듈의 randn 함수는 표준정규분포를 따르도록 실수들을 임의로 생성한다. \n",
    "* 표준정규분포: 데이터들의 평균이 0이고 표준편차가 1인 정규분포\n",
    "* 여기서는 표준정규분포가 확률과 통계 분야에서 매우 중요한 역할을 수행한다는 정도만 알고 넘어간다. "
   ]
  },
  {
   "cell_type": "code",
   "execution_count": 14,
   "metadata": {},
   "outputs": [
    {
     "data": {
      "image/png": "[encoded data removed]",
      "text/plain": [
       "<matplotlib.figure.Figure at 0x110e80b38>"
      ]
     },
     "metadata": {},
     "output_type": "display_data"
    }
   ],
   "source": [
    "import numpy as np\n",
    "\n",
    "gaussian_numbers = np.random.randn(1000)\n",
    "plt.hist(gaussian_numbers, bins=10)\n",
    "\n",
    "plt.title(\"Gaussian Histogram\")\n",
    "plt.xlabel(\"Value\")\n",
    "plt.ylabel(\"Frequency\")\n",
    "plt.show()"
   ]
  },
  {
   "cell_type": "markdown",
   "metadata": {},
   "source": [
    "## 산점도\n",
    "\n",
    "두 변수 간의 연관관계를 보여 주는 데에 매우 적합한 그래프이다. \n",
    "\n",
    "예를 들어, 카카오톡에 등록된 친구 수와 하룻동안의 스마트폰 사용시간 사이의 연관성을 보여주는 데이터가 아래와 같이 주어졌다고 하자.\n",
    "\n",
    "**주의:** 아래 데이터는 강의를 위해 임의로 조작되었으며, 어떠한 근거도 갖지 않는다."
   ]
  },
  {
   "cell_type": "code",
   "execution_count": 15,
   "metadata": {},
   "outputs": [],
   "source": [
    "num_friends = [41,  26,  90,  50,  18,  124, 152, 88,  72,  51]\n",
    "phone_time =  [4.1, 3.3, 5.7, 4.2, 3.2, 6.4, 6.0, 5.1, 6.2, 3.7]"
   ]
  },
  {
   "cell_type": "code",
   "execution_count": 16,
   "metadata": {},
   "outputs": [
    {
     "data": {
      "image/png": "[encoded data removed]",
      "text/plain": [
       "<matplotlib.figure.Figure at 0x110dfe550>"
      ]
     },
     "metadata": {},
     "output_type": "display_data"
    }
   ],
   "source": [
    "plt.scatter(num_friends, phone_time)\n",
    "plt.show()"
   ]
  },
  {
   "cell_type": "markdown",
   "metadata": {},
   "source": [
    "위 산점도를 보면 카카오톡에 등록된 친구 수가 많을 수록 스마트폰 사용시간이 증가하는 경향을 한 눈에 확인할 수 있다.\n",
    "물론, 이는 주어진 (조작된) 데이터에 근거한 정보이다. "
   ]
  },
  {
   "cell_type": "markdown",
   "metadata": {},
   "source": [
    "## 오늘의 주요 예제 해결"
   ]
  },
  {
   "cell_type": "markdown",
   "metadata": {
    "collapsed": true
   },
   "source": [
    "서울과 수도권의 1949년부터 2010년까지 인구증가율 데이터가 아래와 같다.\n",
    "\n",
    "<p>\n",
    "<table cellspacing=\"20\">\n",
    "\n",
    "<tr>\n",
    "<td>\n",
    "<img src=\"images/Seoul_pop04.jpg\">\n",
    "</td>\n",
    "</tr>\n",
    "\n",
    "</table>\n",
    "</p>"
   ]
  },
  {
   "cell_type": "markdown",
   "metadata": {},
   "source": [
    "위 도표의 데이터는 `'Seoul_pop2.csv'` 파일에 아래와 같이 저장되어 있다.\n",
    "\n",
    "---\n",
    "```\n",
    "### 1949년부터 2010년 사이의 서울과 수도권 인구 증가율(%)\n",
    "# 구간,서울,수도권 \n",
    "\n",
    "1949-1955,9.12,-5.83\n",
    "1955-1960,55.88,32.22\n",
    "1960-1966,55.12,32.76\n",
    "1966-1970,45.66,28.76\n",
    "1970-1975,24.51,22.93\n",
    "1975-1980,21.38,21.69\n",
    "1980-1985,15.27,18.99\n",
    "1985-1990,10.15,17.53\n",
    "1990-1995,-3.64,8.54\n",
    "1995-2000,-3.55,5.45\n",
    "2000-2005,-0.93,6.41\n",
    "2005-2010,-1.34,3.71\n",
    "```\n",
    "---\n",
    "\n",
    "이제 위 파일을 읽어서 서울과 수도권의 인구증가율 추이를 선그래프로 나타내 보자."
   ]
  },
  {
   "cell_type": "markdown",
   "metadata": {},
   "source": [
    "### 단계 1: csv 파일 읽어드리기\n",
    "\n",
    "확장자가 csv인 파일은 데이터를 저장하기 위해 주로 사용한다. \n",
    "\n",
    "csv 파일을 읽어드리는 방법은 `csv` 모듈의 `reader()` 함수를 활용하면 매우 쉽다."
   ]
  },
  {
   "cell_type": "code",
   "execution_count": 17,
   "metadata": {},
   "outputs": [],
   "source": [
    "import csv"
   ]
  },
  {
   "cell_type": "code",
   "execution_count": 18,
   "metadata": {},
   "outputs": [
    {
     "name": "stdout",
     "output_type": "stream",
     "text": [
      "['1949-1955', '9.12', '-5.83']\n",
      "['1955-1960', '55.88', '32.22']\n",
      "['1960-1966', '55.12', '32.76']\n",
      "['1966-1970', '45.66', '28.76']\n",
      "['1970-1975', '24.51', '22.93']\n",
      "['1975-1980', '21.38', '21.69']\n",
      "['1980-1985', '15.27', '18.99']\n",
      "['1985-1990', '10.15', '17.53']\n",
      "['1990-1995', '-3.64', '8.54']\n",
      "['1995-2000', '-3.55', '5.45']\n",
      "['2000-2005', '-0.93', '6.41']\n",
      "['2005-2010', '-1.34', '3.71']\n"
     ]
    }
   ],
   "source": [
    "with open('data/Seoul_pop2.csv') as f:\n",
    "    reader = csv.reader(f)\n",
    "    for row in reader:\n",
    "        if len(row) == 0 or row[0][0] == '#':\n",
    "            continue\n",
    "        else:\n",
    "            print(row)"
   ]
  },
  {
   "cell_type": "markdown",
   "metadata": {},
   "source": [
    "`csv.reader` 함수의 리턴값은 csv 파일의 내용을 줄 별로 리스트로 저장한 특별한 자료형이다.\n",
    "여기서는 위 예제처럼 사용하는 정도만 기억하면 된다."
   ]
  },
  {
   "cell_type": "code",
   "execution_count": 19,
   "metadata": {},
   "outputs": [
    {
     "data": {
      "text/plain": [
       "_csv.reader"
      ]
     },
     "execution_count": 19,
     "metadata": {},
     "output_type": "execute_result"
    }
   ],
   "source": [
    "type(reader)"
   ]
  },
  {
   "cell_type": "markdown",
   "metadata": {},
   "source": [
    "**주의:** 위 코드의 5번 줄을 아래와 같이 하면 오류 발생\n",
    "```\n",
    "if row[0][0] == '#' or len(row) == 0:\n",
    "```\n",
    "\n",
    "이유: `'A or B'`의 경우 먼저 `A`의 참, 거짓을 먼저 판단한 후에, A참이면 참으로 처리하고 끝낸다.\n",
    "그리고 A가 거짓이면 그제서야 B의 참, 거짓을 확인한다. \n",
    "그래서 A의 참, 거짓을 판단하면서 오류가 발생하면 바로 멈추게 된다.\n",
    "\n",
    "위 예제의 경우 `row[0][0]`이 셋째줄의 인덱스 오류가 발생하게 되서 코드 전체가 멈추게 된다."
   ]
  },
  {
   "cell_type": "markdown",
   "metadata": {},
   "source": [
    "**주의:** \n",
    "\n",
    "다음 형식은\n",
    "```python\n",
    "with open('Seoul_pop2.csv') as f:\n",
    "    코드\n",
    "``` \n",
    "\n",
    "아래 코드에 대응한다.\n",
    "```python\n",
    "f = open('Seoul_pop2.csv')\n",
    "코드\n",
    "f.close()\n",
    "```"
   ]
  },
  {
   "cell_type": "markdown",
   "metadata": {},
   "source": [
    "### 단계 2: 선그래프에 사용될 데이터 정리하기"
   ]
  },
  {
   "cell_type": "code",
   "execution_count": 20,
   "metadata": {},
   "outputs": [],
   "source": [
    "year_intervals = []\n",
    "Seoul_pop = []\n",
    "Capital_region_pop = []\n",
    "\n",
    "with open('data/Seoul_pop2.csv') as f:\n",
    "    reader = csv.reader(f)\n",
    "    for row in reader:\n",
    "        if len(row) == 0 or row[0][0] == '#':\n",
    "            continue\n",
    "        else:\n",
    "            year_intervals.append(row[0])\n",
    "            Seoul_pop.append(float(row[1]))\n",
    "            Capital_region_pop.append(float(row[2]))"
   ]
  },
  {
   "cell_type": "code",
   "execution_count": 21,
   "metadata": {},
   "outputs": [
    {
     "name": "stdout",
     "output_type": "stream",
     "text": [
      "['1949-1955', '1955-1960', '1960-1966', '1966-1970', '1970-1975', '1975-1980', '1980-1985', '1985-1990', '1990-1995', '1995-2000', '2000-2005', '2005-2010']\n"
     ]
    }
   ],
   "source": [
    "print(year_intervals)"
   ]
  },
  {
   "cell_type": "code",
   "execution_count": 22,
   "metadata": {},
   "outputs": [
    {
     "name": "stdout",
     "output_type": "stream",
     "text": [
      "[9.12, 55.88, 55.12, 45.66, 24.51, 21.38, 15.27, 10.15, -3.64, -3.55, -0.93, -1.34]\n"
     ]
    }
   ],
   "source": [
    "print(Seoul_pop)"
   ]
  },
  {
   "cell_type": "code",
   "execution_count": 23,
   "metadata": {},
   "outputs": [
    {
     "name": "stdout",
     "output_type": "stream",
     "text": [
      "[-5.83, 32.22, 32.76, 28.76, 22.93, 21.69, 18.99, 17.53, 8.54, 5.45, 6.41, 3.71]\n"
     ]
    }
   ],
   "source": [
    "print(Capital_region_pop)"
   ]
  },
  {
   "cell_type": "markdown",
   "metadata": {},
   "source": [
    "### 단계 3: 그래프 그리기"
   ]
  },
  {
   "cell_type": "code",
   "execution_count": 24,
   "metadata": {},
   "outputs": [
    {
     "data": {
      "image/png": "[encoded data removed]",
      "text/plain": [
       "<matplotlib.figure.Figure at 0x10d838e10>"
      ]
     },
     "metadata": {},
     "output_type": "display_data"
    }
   ],
   "source": [
    "# 그래프를 그릴 도화지 준비하기\n",
    "fig = plt.figure()\n",
    "ax = fig.add_subplot(1, 1, 1)\n",
    "\n",
    "# x축에 년도, y축에 인구수가 있는 선 그래프 만들기\n",
    "plt.plot(range(12), Seoul_pop, color='green', marker='o', linestyle='solid', \\\n",
    "         label='Seoul')\n",
    "plt.plot(range(12), Capital_region_pop, color='red', marker='o', linestyle='solid', \\\n",
    "         label='Capital Region')\n",
    "\n",
    "plt.xticks(range(12), year_intervals, rotation=45)\n",
    "\n",
    "plt.title(\"Population Change\")\n",
    "plt.ylabel(\"Percentage\")\n",
    "\n",
    "plt.legend()\n",
    "plt.show()"
   ]
  },
  {
   "cell_type": "markdown",
   "metadata": {},
   "source": [
    "## 연습문제"
   ]
  },
  {
   "cell_type": "markdown",
   "metadata": {},
   "source": [
    "### 연습\n",
    "\n",
    "원그래프(파이 차트)는 각 구성 요소가 전체에서 차지하는 비중을 한 눈에 알아볼 수 있도록 도와주는 그래프이다. \n",
    "`matplotlib` 라이브러리를 이용하여 원그래프를 그리기 위해서는 `pie` 함수를 활용하면 된다. \n",
    "\n",
    "아래 코드는 한 학년 `A`, `B`, `C`, `D` 네 반 학생들의 숫자를 해당 학년 전체 학생들에서 차지하는 비중을 원그래프로\n",
    "보여준다."
   ]
  },
  {
   "cell_type": "code",
   "execution_count": 25,
   "metadata": {},
   "outputs": [
    {
     "data": {
      "image/png": "[encoded data removed]",
      "text/plain": [
       "<matplotlib.figure.Figure at 0x110e882b0>"
      ]
     },
     "metadata": {},
     "output_type": "display_data"
    }
   ],
   "source": [
    "classes = ['A', 'B', 'C', 'D']\n",
    "slices = [30, 50, 20, 40]                # 하나의 조각을 의미하는 slice 변수이름 활용\n",
    "\n",
    "colors = ['Blue', 'Green', 'Red', 'Yellow']\n",
    "explode = [0.0, 0.0, 0.1, 0.0]          # 특정 조각을 돌출시키고자 할 때 사용\n",
    "\n",
    "plt.pie(slices, explode = explode, autopct = '%2.3f%%', shadow = True, \\\n",
    "        colors = colors, labels = classes)\n",
    "\n",
    "plt.show()"
   ]
  },
  {
   "cell_type": "markdown",
   "metadata": {},
   "source": [
    "코드 설명:\n",
    "\n",
    "* `classes`: 각 학급의 이름의 리스트\n",
    "* `slices`: 각 학급의 학생 수의 리스트. \n",
    "* `labels`: 각 학급에 해당하는 조각을 지정하는 색의 리스트 \n",
    "\n",
    "\n",
    "* `explode`: 특정 조각을 돌출시켜 강조하기 위한 값 지정\n",
    "* `autopct`: 각 조각의 전체 대비 백분율 표시방법 지정 (부동소수점 서식 활용)\n",
    "* `shadow`: 원 그래프에 그림자 추가 여부 확인"
   ]
  }
 ],
 "metadata": {
  "kernelspec": {
   "display_name": "Python 3",
   "language": "python",
   "name": "python3"
  },
  "language_info": {
   "codemirror_mode": {
    "name": "ipython",
    "version": 3
   },
   "file_extension": ".py",
   "mimetype": "text/x-python",
   "name": "python",
   "nbconvert_exporter": "python",
   "pygments_lexer": "ipython3",
   "version": "3.6.8"
  }
 },
 "nbformat": 4,
 "nbformat_minor": 2
}
