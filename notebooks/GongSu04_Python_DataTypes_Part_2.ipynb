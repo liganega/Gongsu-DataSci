{
 "cells": [
  {
   "cell_type": "markdown",
   "metadata": {},
   "source": [
    "# 파이썬 기본 자료형 2부"
   ]
  },
  {
   "cell_type": "markdown",
   "metadata": {},
   "source": [
    "#### 수정 사항\n",
    "\n",
    "* 문자열 메소드 사용 예제: 보다 실용적인 예제였으면 함."
   ]
  },
  {
   "cell_type": "markdown",
   "metadata": {},
   "source": [
    "## 요약\n",
    "\n",
    "* 문자열 자료형 다루기\n",
    "* 문자열 메소드 활용\n",
    "* 응용: 웹 상에 있는 데이터를 가져와서 정보 활용하기"
   ]
  },
  {
   "cell_type": "markdown",
   "metadata": {},
   "source": [
    "## 준비 사항\n",
    "\n",
    "* 문자열의 정의화 기초적인 활용법에 대한 자세한 설명은 \n",
    "    [여기](https://github.com/liganega/bpp/blob/master/notes/02-ThinkPython-Strings.ipynb)를\n",
    "    참조한다."
   ]
  },
  {
   "cell_type": "markdown",
   "metadata": {},
   "source": [
    "### 최종 목표\n",
    "\n",
    "* 아래 사이트에서 커피콩의 가격정보 자동으로 확인하여 응용하기\n",
    "\n",
    "http://beans-r-us.appspot.com/prices.html\n",
    "\n",
    "위 사이트를 방문하면 실시간으로 변하는 커피콩의 시세를 아래와 같은 내용으로 확인할 수 있다. \n",
    "\n",
    "참조: Head First Programming(한빛미디어) 2장"
   ]
  },
  {
   "cell_type": "markdown",
   "metadata": {},
   "source": [
    "<p>\n",
    "<table cellspacing=\"20\">\n",
    "\n",
    "<tr>\n",
    "<td>\n",
    "<img src=\"images/coffee-beans01.jpg\" style=\"width:600\">\n",
    "</td>\n",
    "</tr>\n",
    "\n",
    "</table>\n",
    "</p>\n",
    "\n",
    "참조: http://beans-r-us.appspot.com/prices.html"
   ]
  },
  {
   "cell_type": "markdown",
   "metadata": {},
   "source": [
    "이번 장에서는 언급된 웹사이트를 직접 방문하지 않으면서 실시간으로 변하는 \n",
    "커피콩 가격(위 그림에서는 5달러 27센트)을 확인하는 방법을 배운다. \n",
    "\n",
    "기본적으로 두 가지 기술이 필요하다. \n",
    "\n",
    "1. 웹사이트 내용 읽어 들이기\n",
    "2. 문자열로 저장된 데이터에서 필요한 정보 확인하기"
   ]
  },
  {
   "cell_type": "markdown",
   "metadata": {},
   "source": [
    "## 웹사이트 내용 읽어 들이기"
   ]
  },
  {
   "cell_type": "markdown",
   "metadata": {},
   "source": [
    "웹사이트 주소를 이용하여 해당 사이트의 내용 전체를 읽어 들일 수 있다.\n",
    "예를 들어 앞서 언급된 사이트의 소스코드 전체를 아래 방식으로 가져올 수 있다."
   ]
  },
  {
   "cell_type": "code",
   "execution_count": 1,
   "metadata": {},
   "outputs": [],
   "source": [
    "import urllib.request\n",
    "\n",
    "page = urllib.request.urlopen(\"http://beans-r-us.appspot.com/prices.html\")\n",
    "text = page.read().decode(\"utf8\")"
   ]
  },
  {
   "cell_type": "markdown",
   "metadata": {},
   "source": [
    "실제로 확인하면 웹사이트의 내용 전체가 하나의 문자열로 저장되어 있다.\n",
    "\n",
    "**주의:** html 관련 이해할 수 없는 기호들은 여기서는 일단 무시하고 넘어가는 게 좋다.\n",
    "또한, 위 코드를 자세히 이해하지 못해도 상관 없다. \n",
    "특정 웹사이트의 소스크드를 가져오기 위해 위 코드 형식을 사용한다는 것만 기억해 두면 된다. "
   ]
  },
  {
   "cell_type": "code",
   "execution_count": 2,
   "metadata": {},
   "outputs": [
    {
     "data": {
      "text/plain": [
       "'<html><head><title>Welcome to the Beans\\'R\\'Us Pricing Page</title>\\n<link rel=\"stylesheet\" type=\"text/css\" href=\"beansrus.css\" />\\n</head><body>\\n<h2>Welcome to the Beans\\'R\\'Us Pricing Page</h2>\\n<p>Current price of coffee beans = <strong>$6.84</strong></p>\\n<p>Price valid for 15 minutes from Wed Sep 12 02:51:59 2018.</p>\\n</body></html>'"
      ]
     },
     "execution_count": 2,
     "metadata": {},
     "output_type": "execute_result"
    }
   ],
   "source": [
    "text"
   ]
  },
  {
   "cell_type": "markdown",
   "metadata": {},
   "source": [
    "소스코드에서 줄바꾸기, 띄어쓰기, 인용부호 등 특수 기호를 적절하게 해석하여 출력하고자 하면 `print` 명령어를 사용한다."
   ]
  },
  {
   "cell_type": "code",
   "execution_count": 3,
   "metadata": {},
   "outputs": [
    {
     "name": "stdout",
     "output_type": "stream",
     "text": [
      "<html><head><title>Welcome to the Beans'R'Us Pricing Page</title>\n",
      "<link rel=\"stylesheet\" type=\"text/css\" href=\"beansrus.css\" />\n",
      "</head><body>\n",
      "<h2>Welcome to the Beans'R'Us Pricing Page</h2>\n",
      "<p>Current price of coffee beans = <strong>$6.84</strong></p>\n",
      "<p>Price valid for 15 minutes from Wed Sep 12 02:51:59 2018.</p>\n",
      "</body></html>\n"
     ]
    }
   ],
   "source": [
    "print(text)"
   ]
  },
  {
   "cell_type": "markdown",
   "metadata": {},
   "source": [
    "### 문자열 자료형: `str` 과 `unicode`\n",
    "\n",
    "#### 문자열(`str`)\n",
    "\n",
    "`text`에 저장된 값의 자료형은 문자열이다."
   ]
  },
  {
   "cell_type": "code",
   "execution_count": 4,
   "metadata": {},
   "outputs": [
    {
     "data": {
      "text/plain": [
       "str"
      ]
     },
     "execution_count": 4,
     "metadata": {},
     "output_type": "execute_result"
    }
   ],
   "source": [
    "type(text)"
   ]
  },
  {
   "cell_type": "markdown",
   "metadata": {},
   "source": [
    "#### 유니코드(`unicode`)\n",
    "\n",
    "웹 상에서 정보를 추출할 경우 `text_str`의 경우처럼 유니코드(`Unicode`)로 \n",
    "문자열을 변환하는 방식을 사용하는 것을 권장한다. \n",
    "\n",
    "예를 들어 아래와 같이 `text_bytes`을 선언하면 다른 형식으로 저장된다."
   ]
  },
  {
   "cell_type": "code",
   "execution_count": 5,
   "metadata": {},
   "outputs": [],
   "source": [
    "page = urllib.request.urlopen(\"http://beans-r-us.appspot.com/prices.html\")\n",
    "text_bytes = page.read()"
   ]
  },
  {
   "cell_type": "code",
   "execution_count": 6,
   "metadata": {},
   "outputs": [
    {
     "data": {
      "text/plain": [
       "bytes"
      ]
     },
     "execution_count": 6,
     "metadata": {},
     "output_type": "execute_result"
    }
   ],
   "source": [
    "type(text_bytes)"
   ]
  },
  {
   "cell_type": "code",
   "execution_count": 7,
   "metadata": {},
   "outputs": [
    {
     "data": {
      "text/plain": [
       "b'<html><head><title>Welcome to the Beans\\'R\\'Us Pricing Page</title>\\n<link rel=\"stylesheet\" type=\"text/css\" href=\"beansrus.css\" />\\n</head><body>\\n<h2>Welcome to the Beans\\'R\\'Us Pricing Page</h2>\\n<p>Current price of coffee beans = <strong>$6.21</strong></p>\\n<p>Price valid for 15 minutes from Wed Sep 12 02:52:00 2018.</p>\\n</body></html>'"
      ]
     },
     "execution_count": 7,
     "metadata": {},
     "output_type": "execute_result"
    }
   ],
   "source": [
    "text_bytes"
   ]
  },
  {
   "cell_type": "markdown",
   "metadata": {},
   "source": [
    "#### 유니코드 대 문자열\n",
    "\n",
    "두 자료형은 거의 동일하며, 영어와 같은 라틴어 계열 이외에 \n",
    "한국어, 일어 등의 언어를 처리하기 위해서 유니코드가 표준으로 사용된다.\n",
    "하지만 파이썬3은 문자열(`str`)로 통일해서 사용한다. \n",
    "\n",
    "여기서는, 텍스트에 한국어, 일어, 중국어 등이 사용되었을 경우 unicode 방식으로 \n",
    "처리해 주어야 한다는 정도로만 기억하고 넘어간다."
   ]
  },
  {
   "cell_type": "markdown",
   "metadata": {},
   "source": [
    "### 웹사이트 소스코드 확인 방법\n",
    "\n",
    "실제로 해당 웹사이트의 소스코드를 확인해보면 동일한 결과를 확인할 수 있다.\n",
    "\n",
    "주의: 커피콩의 가격은 실시간으로 변한다. 하지만 가격 이외의 문장은 변하지 않는다."
   ]
  },
  {
   "cell_type": "markdown",
   "metadata": {},
   "source": [
    "* 윈도우 크롬\n",
    "\n",
    "<p>\n",
    "<table cellspacing=\"20\">\n",
    "\n",
    "<tr>\n",
    "<td>\n",
    "<img src=\"images/coffee-beans04.jpg\" style=\"width:600\">\n",
    "</td>\n",
    "</tr>\n",
    "</table>\n",
    "</p>"
   ]
  },
  {
   "cell_type": "markdown",
   "metadata": {},
   "source": [
    "* 맥 크롬\n",
    "\n",
    "<p>\n",
    "<table cellspacing=\"20\">\n",
    "\n",
    "<tr>\n",
    "<td>\n",
    "<img src=\"images/coffee-beans02.png\" style=\"width:600\">\n",
    "\n",
    "</td>\n",
    "</tr>\n",
    "\n",
    "</table>\n",
    "</p>"
   ]
  },
  {
   "cell_type": "markdown",
   "metadata": {},
   "source": [
    "#### 크롬에서 소스코드 확인하는 법\n",
    "\n",
    "* 윈도우 크롬\n",
    "\n",
    "<p>\n",
    "<table cellspacing=\"20\">\n",
    "\n",
    "<tr>\n",
    "<td>\n",
    "<img src=\"images/coffee-beans05.jpg\" style=\"width:600\">\n",
    "</td>\n",
    "</tr>\n",
    "</table>\n",
    "</p>"
   ]
  },
  {
   "cell_type": "markdown",
   "metadata": {},
   "source": [
    "* 맥 크롬\n",
    "\n",
    "<p>\n",
    "<table cellspacing=\"20\">\n",
    "\n",
    "<tr>\n",
    "<td>\n",
    "<img src=\"images/coffee-beans03.png\" style=\"width:600\">\n",
    "\n",
    "</td>\n",
    "</tr>\n",
    "\n",
    "</table>\n",
    "</p>"
   ]
  },
  {
   "cell_type": "markdown",
   "metadata": {},
   "source": [
    "## 문자열로 저장된 데이터에서 필요한 정보 확인하기"
   ]
  },
  {
   "cell_type": "markdown",
   "metadata": {},
   "source": [
    "`text`에 저장된 문자열을 다시 확인해보자."
   ]
  },
  {
   "cell_type": "code",
   "execution_count": 8,
   "metadata": {},
   "outputs": [
    {
     "name": "stdout",
     "output_type": "stream",
     "text": [
      "<html><head><title>Welcome to the Beans'R'Us Pricing Page</title>\n",
      "<link rel=\"stylesheet\" type=\"text/css\" href=\"beansrus.css\" />\n",
      "</head><body>\n",
      "<h2>Welcome to the Beans'R'Us Pricing Page</h2>\n",
      "<p>Current price of coffee beans = <strong>$6.84</strong></p>\n",
      "<p>Price valid for 15 minutes from Wed Sep 12 02:51:59 2018.</p>\n",
      "</body></html>\n"
     ]
    }
   ],
   "source": [
    "print(text)"
   ]
  },
  {
   "cell_type": "markdown",
   "metadata": {},
   "source": [
    "위 문자열에서 원하는 정보인 커피콩의 가격을 어떻게 추출할 것인가? \n",
    "\n",
    "커피콩의 가격은 실시간으로 변한다. 하지만 다섯째 줄 끝부분에 위치하고\n",
    "달러기호(`$`)로 시작하며 `x.xx` 형식의 소수로 표현된 부분이 커피콩의 가격 정보이다.\n",
    "\n",
    "따라서, 예를 들어 문자열인 `\">$\"`의 위치를 알면 커피콩 가격정보를 얻을 수 있다.\n",
    "그런데 특정 문자열 또는 문자의 위치를 어떻게 알 수 있을까?\n",
    "바로 인덱스 정보와 슬라이싱 기능을 활용하면 된다."
   ]
  },
  {
   "cell_type": "markdown",
   "metadata": {},
   "source": [
    "### 인덱스\n",
    "\n",
    "문자열에 사용되는 모든 문자의 위치는 인덱스(`index`)라는 고유한 번호를 갖는다.\n",
    "인덱스는 0부터 시작하며 오른쪽으로 한 문자씩 이동할 때마다 1씩 증가한다. \n",
    "\n",
    "**주의:** 파이썬을 포함해서 많은 대부분의 프로그래밍 언어에서 인덱싱은 0부터 시작한다. \n",
    "따라서 첫 째 문자를 확인하고자 할 때는 1이 아닌 0을 인덱스로 사용해야 한다. \n",
    "\n",
    "예제를 통해 인덱스와 친숙해질 필요가 있다."
   ]
  },
  {
   "cell_type": "code",
   "execution_count": 9,
   "metadata": {},
   "outputs": [],
   "source": [
    "a_food = \"kebap\""
   ]
  },
  {
   "cell_type": "markdown",
   "metadata": {},
   "source": [
    "특정 인덱스에 위치한 문자의 정보는 다음과 같이 확인한다.\n",
    "\n",
    "* 0번 인덱스 값, 즉 첫째 문자"
   ]
  },
  {
   "cell_type": "code",
   "execution_count": 10,
   "metadata": {},
   "outputs": [
    {
     "data": {
      "text/plain": [
       "'k'"
      ]
     },
     "execution_count": 10,
     "metadata": {},
     "output_type": "execute_result"
    }
   ],
   "source": [
    "a_food[0]"
   ]
  },
  {
   "cell_type": "markdown",
   "metadata": {},
   "source": [
    "* 1번 인덱스 값, 즉, 둘째 문자"
   ]
  },
  {
   "cell_type": "code",
   "execution_count": 11,
   "metadata": {},
   "outputs": [
    {
     "data": {
      "text/plain": [
       "'e'"
      ]
     },
     "execution_count": 11,
     "metadata": {},
     "output_type": "execute_result"
    }
   ],
   "source": [
    "a_food[1]"
   ]
  },
  {
   "cell_type": "markdown",
   "metadata": {},
   "source": [
    "* 2번 인덱스 값, 즉, 셋째 문자"
   ]
  },
  {
   "cell_type": "code",
   "execution_count": 12,
   "metadata": {},
   "outputs": [
    {
     "data": {
      "text/plain": [
       "'b'"
      ]
     },
     "execution_count": 12,
     "metadata": {},
     "output_type": "execute_result"
    }
   ],
   "source": [
    "a_food[2]"
   ]
  },
  {
   "cell_type": "markdown",
   "metadata": {},
   "source": [
    "등등."
   ]
  },
  {
   "cell_type": "markdown",
   "metadata": {},
   "source": [
    "#### -1번 인덱스\n",
    "\n",
    "문자열이 길 경우 맨 오른편에 위치한 문자의 인덱스 번호를 확인하기가 어렵다.\n",
    "그래서 파이썬에서는 -1을 마지막 문자의 인덱스로 사용한다. \n",
    "\n",
    "즉, 맨 오른편의 인덱스는 -1이고, 그 왼편은 -2, 등등으로 진행한다. "
   ]
  },
  {
   "cell_type": "code",
   "execution_count": 13,
   "metadata": {},
   "outputs": [
    {
     "data": {
      "text/plain": [
       "'p'"
      ]
     },
     "execution_count": 13,
     "metadata": {},
     "output_type": "execute_result"
    }
   ],
   "source": [
    "a_food[-1]"
   ]
  },
  {
   "cell_type": "code",
   "execution_count": 14,
   "metadata": {},
   "outputs": [
    {
     "data": {
      "text/plain": [
       "'a'"
      ]
     },
     "execution_count": 14,
     "metadata": {},
     "output_type": "execute_result"
    }
   ],
   "source": [
    "a_food[-2]"
   ]
  },
  {
   "cell_type": "markdown",
   "metadata": {},
   "source": [
    "등등."
   ]
  },
  {
   "cell_type": "markdown",
   "metadata": {},
   "source": [
    "#### 문자열의 길이와 인덱스\n",
    "\n",
    "문자열의 길이보다 같거나 큰 인덱스를 사용하면 오류가 발생한다.\n",
    "문자열의 길이는 `len()` 함수를 이용하여 확인할 수 있다."
   ]
  },
  {
   "cell_type": "code",
   "execution_count": 15,
   "metadata": {},
   "outputs": [
    {
     "ename": "IndexError",
     "evalue": "string index out of range",
     "output_type": "error",
     "traceback": [
      "\u001b[0;31m---------------------------------------------------------------------------\u001b[0m",
      "\u001b[0;31mIndexError\u001b[0m                                Traceback (most recent call last)",
      "\u001b[0;32m<ipython-input-15-7d78ea00cfa7>\u001b[0m in \u001b[0;36m<module>\u001b[0;34m()\u001b[0m\n\u001b[0;32m----> 1\u001b[0;31m \u001b[0ma_food\u001b[0m\u001b[0;34m[\u001b[0m\u001b[0;36m5\u001b[0m\u001b[0;34m]\u001b[0m\u001b[0;34m\u001b[0m\u001b[0m\n\u001b[0m",
      "\u001b[0;31mIndexError\u001b[0m: string index out of range"
     ]
    }
   ],
   "source": [
    "a_food[5]"
   ]
  },
  {
   "cell_type": "code",
   "execution_count": 16,
   "metadata": {},
   "outputs": [
    {
     "data": {
      "text/plain": [
       "5"
      ]
     },
     "execution_count": 16,
     "metadata": {},
     "output_type": "execute_result"
    }
   ],
   "source": [
    "len(a_food)"
   ]
  },
  {
   "cell_type": "markdown",
   "metadata": {},
   "source": [
    "### 슬라이싱\n",
    "\n",
    "문자열의 하나의 문자가 아닌 특정 구간 및 부분을 추출하고자 할 경우 슬라이싱을 사용한다. \n",
    "슬라이싱은 다음과 같이 실행한다.\n",
    "\n",
    "    문자열변수[시작인덱스 : 끝인덱스 : 계단(step)]\n",
    "\n",
    "* 시작인덱스: 해당 인덱스부터 문자를 추출한다.\n",
    "* 끝인덱스: 해당 인덱스 **전**까지 문자를 추출한다.\n",
    "* 계단: 시작인덱스부터 몇 계단씩 건너뛰며 문자를 추출할지 결정한다. 예를 들어 계단값이 2라면 하나 건너 추출한다. "
   ]
  },
  {
   "cell_type": "code",
   "execution_count": 17,
   "metadata": {},
   "outputs": [
    {
     "data": {
      "text/plain": [
       "'kebap'"
      ]
     },
     "execution_count": 17,
     "metadata": {},
     "output_type": "execute_result"
    }
   ],
   "source": [
    "a_food"
   ]
  },
  {
   "cell_type": "markdown",
   "metadata": {},
   "source": [
    "`kebap`에서 `ke` 부분을 추출하고 싶다면 다음과 같이 하면 된다:"
   ]
  },
  {
   "cell_type": "code",
   "execution_count": 18,
   "metadata": {},
   "outputs": [
    {
     "data": {
      "text/plain": [
       "'ke'"
      ]
     },
     "execution_count": 18,
     "metadata": {},
     "output_type": "execute_result"
    }
   ],
   "source": [
    "a_food[0 : 2 : 1]"
   ]
  },
  {
   "cell_type": "markdown",
   "metadata": {},
   "source": [
    "즉, 문자열 처음부터 2번 인덱스 전까지, 즉 두 번째 문자까지 모두 추출하는 것이다. \n",
    "반면에 하나씩 건너서 추출하려면 다음처럼 하면 된다:"
   ]
  },
  {
   "cell_type": "code",
   "execution_count": 19,
   "metadata": {},
   "outputs": [
    {
     "data": {
      "text/plain": [
       "'kb'"
      ]
     },
     "execution_count": 19,
     "metadata": {},
     "output_type": "execute_result"
    }
   ],
   "source": [
    "a_food[0 : 4 : 2]"
   ]
  },
  {
   "cell_type": "markdown",
   "metadata": {},
   "source": [
    "시작인덱스, 끝인덱스, 계단 각각의 인자가 경우에 따라 생략될 수도 있다. \n",
    "그럴 때는 각각의 위치에 기본값(default)이 들어 있는 것으로 처리되며, 각 자리의 기본값은 다음과 같다.\n",
    "\n",
    "* `시작인덱스`의 기본값 = `0`\n",
    "* `끝인덱스`의 기본값 = 문자열의 길이\n",
    "* `계단`의 기본값 = `1`"
   ]
  },
  {
   "cell_type": "code",
   "execution_count": 20,
   "metadata": {},
   "outputs": [
    {
     "data": {
      "text/plain": [
       "'ke'"
      ]
     },
     "execution_count": 20,
     "metadata": {},
     "output_type": "execute_result"
    }
   ],
   "source": [
    "a_food[0 : 2]"
   ]
  },
  {
   "cell_type": "code",
   "execution_count": 21,
   "metadata": {},
   "outputs": [
    {
     "data": {
      "text/plain": [
       "'ke'"
      ]
     },
     "execution_count": 21,
     "metadata": {},
     "output_type": "execute_result"
    }
   ],
   "source": [
    "a_food[: 2]"
   ]
  },
  {
   "cell_type": "code",
   "execution_count": 22,
   "metadata": {},
   "outputs": [
    {
     "data": {
      "text/plain": [
       "'kb'"
      ]
     },
     "execution_count": 22,
     "metadata": {},
     "output_type": "execute_result"
    }
   ],
   "source": [
    "a_food[: 4 : 2]"
   ]
  },
  {
   "cell_type": "code",
   "execution_count": 23,
   "metadata": {},
   "outputs": [
    {
     "data": {
      "text/plain": [
       "'kbp'"
      ]
     },
     "execution_count": 23,
     "metadata": {},
     "output_type": "execute_result"
    }
   ],
   "source": [
    "a_food[ : : 2]"
   ]
  },
  {
   "cell_type": "markdown",
   "metadata": {},
   "source": [
    "양수와 음수를 인덱스로 섞어서 사용할 수도 있다."
   ]
  },
  {
   "cell_type": "code",
   "execution_count": 24,
   "metadata": {},
   "outputs": [
    {
     "data": {
      "text/plain": [
       "'kb'"
      ]
     },
     "execution_count": 24,
     "metadata": {},
     "output_type": "execute_result"
    }
   ],
   "source": [
    "a_food[ : -1 : 2]"
   ]
  },
  {
   "cell_type": "markdown",
   "metadata": {},
   "source": [
    "**주의**: -1은 문자열의 끝인덱스를 의미한다."
   ]
  },
  {
   "cell_type": "markdown",
   "metadata": {},
   "source": [
    "끝인덱스가 문자열의 길이보다 클 수도 있다. \n",
    "다만 문자열의 길이 만큼만 문자를 확인한다. "
   ]
  },
  {
   "cell_type": "code",
   "execution_count": 25,
   "metadata": {},
   "outputs": [
    {
     "data": {
      "text/plain": [
       "'kebap'"
      ]
     },
     "execution_count": 25,
     "metadata": {},
     "output_type": "execute_result"
    }
   ],
   "source": [
    "a_food[: 10]"
   ]
  },
  {
   "cell_type": "markdown",
   "metadata": {},
   "source": [
    "아래와 같이 아무 것도 입력하지 않으면 해당 문자열 전체를 추출한다."
   ]
  },
  {
   "cell_type": "code",
   "execution_count": 26,
   "metadata": {},
   "outputs": [
    {
     "data": {
      "text/plain": [
       "'kebap'"
      ]
     },
     "execution_count": 26,
     "metadata": {},
     "output_type": "execute_result"
    }
   ],
   "source": [
    "a_food[:]"
   ]
  },
  {
   "cell_type": "markdown",
   "metadata": {},
   "source": [
    "시작인덱스 값이 끝 인덱스 값보다 같거나 작아야 제대로 추출한다. \n",
    "그렇지 않으면 공문자열이 추출된다."
   ]
  },
  {
   "cell_type": "code",
   "execution_count": 27,
   "metadata": {},
   "outputs": [
    {
     "data": {
      "text/plain": [
       "''"
      ]
     },
     "execution_count": 27,
     "metadata": {},
     "output_type": "execute_result"
    }
   ],
   "source": [
    "a_food[3 : 1]"
   ]
  },
  {
   "cell_type": "markdown",
   "metadata": {},
   "source": [
    "이유는 슬라이싱은 기본적으로 작은 인덱스에 큰 인덱스 방향으로 확인하기 때문이다.\n",
    "역순으로 추출하고자 한다면 계단을 음수로 사용하면 된다."
   ]
  },
  {
   "cell_type": "code",
   "execution_count": 28,
   "metadata": {},
   "outputs": [
    {
     "data": {
      "text/plain": [
       "'ab'"
      ]
     },
     "execution_count": 28,
     "metadata": {},
     "output_type": "execute_result"
    }
   ],
   "source": [
    "a_food[3 : 1 : -1]"
   ]
  },
  {
   "cell_type": "code",
   "execution_count": 29,
   "metadata": {},
   "outputs": [
    {
     "data": {
      "text/plain": [
       "'pabek'"
      ]
     },
     "execution_count": 29,
     "metadata": {},
     "output_type": "execute_result"
    }
   ],
   "source": [
    "a_food[-1 : : -1]"
   ]
  },
  {
   "cell_type": "markdown",
   "metadata": {},
   "source": [
    "### `find()` 메소드 활용하기"
   ]
  },
  {
   "cell_type": "markdown",
   "metadata": {
    "collapsed": true
   },
   "source": [
    "인덱스와 슬라이싱의 기능을 이해하였다면 이제 `text` 변수에 할당된 문자열에서 `\">$\"`라는\n",
    "문자열의 시작위치를 알아내기만 하면 된다. \n",
    "\n",
    "아주 간단한 방법이 있다. 0번부터 시작해서 주욱 세어가면서 `\">$\"`의 시작 문자인\n",
    "`\">\"`의 인덱스를 확인하면 된다. \n",
    "하지만 이런 방식은 아래와 같은 이유로 매우 위험하다.\n",
    "\n",
    "* 셈이 틀릴 수 있다.\n",
    "* 문자열이 길 경우 셈 자체가 불가능할 수 있다.\n",
    "* 문자열이 조금만 변경되어도 새로 처음부터 세어야 하기 때문에 경우에 따라 재활용이 불가능하다.\n",
    "\n",
    "이런 문제를 해결하는 좋은 방법이 있다. \n",
    "바로 `find()`라는 문자열 메소드를 활용하면 된다."
   ]
  },
  {
   "cell_type": "code",
   "execution_count": 30,
   "metadata": {},
   "outputs": [
    {
     "data": {
      "text/plain": [
       "232"
      ]
     },
     "execution_count": 30,
     "metadata": {},
     "output_type": "execute_result"
    }
   ],
   "source": [
    "text.find(\">$\")"
   ]
  },
  {
   "cell_type": "markdown",
   "metadata": {},
   "source": [
    "이제, 찾고자 하는 `\">$\"` 문자열이 232번 인덱스에서 시작한다는 것을 알았다.\n",
    "따라서 커피콩의 가격정보는 인덱스가 2보다 큰 234번이고 거기서부터 길이가 4인\n",
    "부분문자열에 담겨 있게 된다."
   ]
  },
  {
   "cell_type": "code",
   "execution_count": 31,
   "metadata": {},
   "outputs": [
    {
     "name": "stdout",
     "output_type": "stream",
     "text": [
      "6.84\n"
     ]
    }
   ],
   "source": [
    "print(text[234: 238])"
   ]
  },
  {
   "cell_type": "markdown",
   "metadata": {},
   "source": [
    "하지만, 여기서 234를 사용하기 보다는 `find()` 메소드를 \n",
    "직접 활용하는 것이 더욱 좋다."
   ]
  },
  {
   "cell_type": "code",
   "execution_count": 32,
   "metadata": {},
   "outputs": [
    {
     "name": "stdout",
     "output_type": "stream",
     "text": [
      "6.84\n"
     ]
    }
   ],
   "source": [
    "price_index = text.find(\">$\") + 2\n",
    "bean_price_str = text[price_index : price_index + 4]\n",
    "print(bean_price_str)"
   ]
  },
  {
   "cell_type": "markdown",
   "metadata": {},
   "source": [
    "**주의:**\n",
    "\n",
    "`bean_price_str` 에 저장된 커피콩의 가격정보는 문자열로 저장되어 있다."
   ]
  },
  {
   "cell_type": "code",
   "execution_count": 33,
   "metadata": {},
   "outputs": [
    {
     "data": {
      "text/plain": [
       "str"
      ]
     },
     "execution_count": 33,
     "metadata": {},
     "output_type": "execute_result"
    }
   ],
   "source": [
    "type(bean_price_str)"
   ]
  },
  {
   "cell_type": "markdown",
   "metadata": {},
   "source": [
    "그래서 예를 들어 커피콩 가격이 6달러 이상이면 커피숍의 아메리카노 가격을 올리고,\n",
    "그렇지 않으면 가격을 그대로 유지하는 것을 실행하도록 하는 \n",
    "코드를 작성할 수가 없다.\n",
    "\n",
    "이유는, 문자열은 숫자가 아니라서 문자열과 숫자를 직접 비교할 수 없기 때문이다.\n",
    "하지만 숫자로만 이루어닌 문자열을 진짜 숫자로 형변환시킬 수 있다.\n",
    "예를 들어 `int()` 또는 `float()` 함수를 이용한다. "
   ]
  },
  {
   "cell_type": "code",
   "execution_count": 34,
   "metadata": {},
   "outputs": [
    {
     "name": "stdout",
     "output_type": "stream",
     "text": [
      "4\n",
      "<class 'int'>\n"
     ]
    }
   ],
   "source": [
    "a_number = int('4')\n",
    "\n",
    "print(a_number)\n",
    "print(type(a_number))"
   ]
  },
  {
   "cell_type": "markdown",
   "metadata": {},
   "source": [
    "`float()` 함수를 이용하면 부동소수점 모양의 문자열을 부동소수점으로 형변환시킬 수 있다."
   ]
  },
  {
   "cell_type": "code",
   "execution_count": 35,
   "metadata": {},
   "outputs": [
    {
     "data": {
      "text/plain": [
       "8.4"
      ]
     },
     "execution_count": 35,
     "metadata": {},
     "output_type": "execute_result"
    }
   ],
   "source": [
    "float('4.2') * 2"
   ]
  },
  {
   "cell_type": "markdown",
   "metadata": {},
   "source": [
    "**주의:** 문자열과 숫자의 곱은 의미가 완전히 다르다."
   ]
  },
  {
   "cell_type": "code",
   "execution_count": 36,
   "metadata": {},
   "outputs": [
    {
     "data": {
      "text/plain": [
       "'4.24.2'"
      ]
     },
     "execution_count": 36,
     "metadata": {},
     "output_type": "execute_result"
    }
   ],
   "source": [
    "'4.2' * 2"
   ]
  },
  {
   "cell_type": "markdown",
   "metadata": {},
   "source": [
    "**주의:** `int()` 함수는 정수모양의 문자열에만 사용할 수 있다."
   ]
  },
  {
   "cell_type": "code",
   "execution_count": 37,
   "metadata": {},
   "outputs": [
    {
     "ename": "ValueError",
     "evalue": "invalid literal for int() with base 10: '4.2'",
     "output_type": "error",
     "traceback": [
      "\u001b[0;31m---------------------------------------------------------------------------\u001b[0m",
      "\u001b[0;31mValueError\u001b[0m                                Traceback (most recent call last)",
      "\u001b[0;32m<ipython-input-37-1264ce07b5b6>\u001b[0m in \u001b[0;36m<module>\u001b[0;34m()\u001b[0m\n\u001b[0;32m----> 1\u001b[0;31m \u001b[0mint\u001b[0m\u001b[0;34m(\u001b[0m\u001b[0;34m'4.2'\u001b[0m\u001b[0;34m)\u001b[0m \u001b[0;34m*\u001b[0m \u001b[0;36m2\u001b[0m\u001b[0;34m\u001b[0m\u001b[0m\n\u001b[0m",
      "\u001b[0;31mValueError\u001b[0m: invalid literal for int() with base 10: '4.2'"
     ]
    }
   ],
   "source": [
    "int('4.2') * 2"
   ]
  },
  {
   "cell_type": "markdown",
   "metadata": {},
   "source": [
    "부동소수점 모양의 문자열이 아니면 `float()` 함수도 오류를 발생시킨다."
   ]
  },
  {
   "cell_type": "code",
   "execution_count": 38,
   "metadata": {},
   "outputs": [
    {
     "ename": "ValueError",
     "evalue": "could not convert string to float: '4.5GB'",
     "output_type": "error",
     "traceback": [
      "\u001b[0;31m---------------------------------------------------------------------------\u001b[0m",
      "\u001b[0;31mValueError\u001b[0m                                Traceback (most recent call last)",
      "\u001b[0;32m<ipython-input-38-f54447414779>\u001b[0m in \u001b[0;36m<module>\u001b[0;34m()\u001b[0m\n\u001b[0;32m----> 1\u001b[0;31m \u001b[0mfloat\u001b[0m\u001b[0;34m(\u001b[0m\u001b[0;34m'4.5GB'\u001b[0m\u001b[0;34m)\u001b[0m\u001b[0;34m\u001b[0m\u001b[0m\n\u001b[0m",
      "\u001b[0;31mValueError\u001b[0m: could not convert string to float: '4.5GB'"
     ]
    }
   ],
   "source": [
    "float('4.5GB')"
   ]
  },
  {
   "cell_type": "markdown",
   "metadata": {},
   "source": [
    "## 커피콩 가격 정보 활용 코드 예제\n",
    "\n",
    "지금까지 배운 내용을 이용하여 커피콩 가격이 6.0달러 이상이면 커피숍의 아메리카노 가격을 올리고, 그렇지 않으면 가격을 그대로 유지하는 것을 실행하도록 하는 코드를 작성하면 다음과 같다. \n",
    "가격 확인은 1초에 한 번 하는 것으로 한다. \n",
    "\n",
    "시차를 두고 코드를 실행하기 위해 `time` 모듈의 `sleep()` 함수를 활용할 수 있다."
   ]
  },
  {
   "cell_type": "markdown",
   "metadata": {},
   "source": [
    "**주의:** 기준 가격을 높게 책정하면 너무 오랫동안 기다려야 할 수도 있다."
   ]
  },
  {
   "cell_type": "code",
   "execution_count": 39,
   "metadata": {},
   "outputs": [
    {
     "name": "stdout",
     "output_type": "stream",
     "text": [
      "커피콩 현재 가격이 6.17 입니다. 아메리카노 가격을 인상하세요!\n"
     ]
    }
   ],
   "source": [
    "import urllib.request\n",
    "import time             # 시간과 관련된 함수들의 모듈\n",
    "\n",
    "price = 5.0\n",
    "\n",
    "while price < 6.0:\n",
    "    time.sleep(1)       # 코드 실행을 1초 정지한다.\n",
    "    \n",
    "    page = urllib.request.urlopen(\"http://beans-r-us.appspot.com/prices.html\")\n",
    "    text = page.read().decode(\"utf8\")\n",
    "    \n",
    "    where = text.find(\">$\") + 2\n",
    "    price_str = text[where : where + 4]      # 가격정보 문자열\n",
    "    price = float(price_str)                 # 숫자로 형변환\n",
    "    \n",
    "print(\"커피콩 현재 가격이\", price, \"입니다. 아메리카노 가격을 인상하세요!\")"
   ]
  },
  {
   "cell_type": "markdown",
   "metadata": {},
   "source": [
    "## 문자열 관련 메소드\n",
    "\n",
    "`find()` 메소드처럼 문자열 자료형에만 사용하는 함수들이 있다. \n",
    "이와같이 특정 자료형에만 사용하는 함수들을 __메소드__라 부른다.\n",
    "\n",
    "보다 자세한 설명은 여기서는 하지 않는다.\n",
    "다만 `find()` 메소드의 활용을 통해 보았듯이 특정 자료형을 잘 다루기 위해서는 \n",
    "어떤 경우에 어떤 메소드를 유용하게 활용할 수 있는지를 잘 파악해두는 것이 매우 \n",
    "중요하다는 점만 강조한다."
   ]
  },
  {
   "cell_type": "markdown",
   "metadata": {},
   "source": [
    "### 메소드 호출 방법\n",
    "\n",
    "앞서 `find()` 메소드를 호출하는 방법을 기억해야 한다. \n",
    "\n",
    "    text.find(\"<$\")\n",
    "\n",
    "메소드는 일반적인 함수들과는 달리, 특정 자료형의 값이 먼저 언급된 다음에\n",
    "호출된다. \n",
    "\n",
    "**주의:** 메소드의 호출방식은 다른 자료형의 경우에도 동일하다. "
   ]
  },
  {
   "cell_type": "markdown",
   "metadata": {},
   "source": [
    "### 문자열 메소드 추가 예제\n",
    "\n",
    "`find()` 메소드 이외에 문자열과 관련된 메소드는 매우 많다. \n",
    "여기서는 가장 많이 사용되는 메소드 몇 개를 소개하고자 한다.\n",
    "\n",
    "* `strip()`\n",
    "* `split()`\n",
    "* `replace()`\n",
    "* `upper()`\n",
    "* `lower()`\n",
    "* `capitalize()`\n",
    "* `title()`\n",
    "* `startswith()`\n",
    "* `endswith()`\n",
    "\n",
    "예제를 통해 각 메소드의 활용법을 간략하게 확인한다.\n",
    "\n",
    "먼저 `week_days` 변수에 요일들을 저장한다."
   ]
  },
  {
   "cell_type": "code",
   "execution_count": 40,
   "metadata": {},
   "outputs": [],
   "source": [
    "week_days = \" Mon, Tue, Wed, Thu, Fri, Sat, Sun \""
   ]
  },
  {
   "cell_type": "markdown",
   "metadata": {},
   "source": [
    "* `strip()` 메소드는 문자열의 양 끝을 지정한 문자열 기준으로 삭제하는 방식으로 정리한다.\n",
    "\n",
    "예를 들어, 문자열 양끝에 있는 스페이스를 삭제하고자 할 경우 아래와 같이 실행한다."
   ]
  },
  {
   "cell_type": "code",
   "execution_count": 41,
   "metadata": {},
   "outputs": [
    {
     "data": {
      "text/plain": [
       "'Mon, Tue, Wed, Thu, Fri, Sat, Sun'"
      ]
     },
     "execution_count": 41,
     "metadata": {},
     "output_type": "execute_result"
    }
   ],
   "source": [
    "week_days.strip(\" \")"
   ]
  },
  {
   "cell_type": "markdown",
   "metadata": {},
   "source": [
    "`strip()` 메소드를 인자 없이 호출하는 경우와 동일하다."
   ]
  },
  {
   "cell_type": "code",
   "execution_count": 42,
   "metadata": {},
   "outputs": [
    {
     "data": {
      "text/plain": [
       "'Mon, Tue, Wed, Thu, Fri, Sat, Sun'"
      ]
     },
     "execution_count": 42,
     "metadata": {},
     "output_type": "execute_result"
    }
   ],
   "source": [
    "week_days.strip()"
   ]
  },
  {
   "cell_type": "markdown",
   "metadata": {},
   "source": [
    "* `split()` 메소드는 지정된 부분문자열을 기준으로 문자열을 쪼개어 문자열들의 리스트로 반환한다.\n",
    "    리스트 자료형은 이후에 자세히 다룬다. 여기서는 기본적으로 알고 있는 내용으로 이해하면 된다.\n",
    "\n",
    "아래 예제는 `\", \"`, 즉 콤마와 스페이스를 기준으로 문자열을 쪼갠다."
   ]
  },
  {
   "cell_type": "code",
   "execution_count": 43,
   "metadata": {},
   "outputs": [
    {
     "data": {
      "text/plain": [
       "[' Mon', 'Tue', 'Wed', 'Thu', 'Fri', 'Sat', 'Sun ']"
      ]
     },
     "execution_count": 43,
     "metadata": {},
     "output_type": "execute_result"
    }
   ],
   "source": [
    "week_days.split(\", \")"
   ]
  },
  {
   "cell_type": "markdown",
   "metadata": {},
   "source": [
    "두 개 이상의 메소드를 조합해서 활용할 수도 있다.\n",
    "\n",
    "예를 들어, `strip()` 메소드를 먼저 실행한 다음에 그 결과에 `split()` 메소드를 실행하면\n",
    "좀 더 산뜻한 결과를 얻을 수 있다."
   ]
  },
  {
   "cell_type": "code",
   "execution_count": 44,
   "metadata": {},
   "outputs": [
    {
     "data": {
      "text/plain": [
       "['Mon', 'Tue', 'Wed', 'Thu', 'Fri', 'Sat', 'Sun']"
      ]
     },
     "execution_count": 44,
     "metadata": {},
     "output_type": "execute_result"
    }
   ],
   "source": [
    "week_days.strip(\" \").split(\", \")"
   ]
  },
  {
   "cell_type": "markdown",
   "metadata": {},
   "source": [
    "* `replace()` 메소드는 하나의 문자열을 다른 문자열로 대체한다.\n",
    "\n",
    "예를 들어, `\" Mon\"`을 `\"Mon\"`으로 대체할 경우 아래와 같이 실행한다."
   ]
  },
  {
   "cell_type": "code",
   "execution_count": 45,
   "metadata": {},
   "outputs": [
    {
     "data": {
      "text/plain": [
       "'Mon, Tue, Wed, Thu, Fri, Sat, Sun '"
      ]
     },
     "execution_count": 45,
     "metadata": {},
     "output_type": "execute_result"
    }
   ],
   "source": [
    "week_days.replace(\" Mon\", \"Mon\")"
   ]
  },
  {
   "cell_type": "markdown",
   "metadata": {},
   "source": [
    "* `upper()` 메소드는 모든 문자를 대문자로 변환시킨다."
   ]
  },
  {
   "cell_type": "code",
   "execution_count": 46,
   "metadata": {},
   "outputs": [
    {
     "data": {
      "text/plain": [
       "' MON, TUE, WED, THU, FRI, SAT, SUN '"
      ]
     },
     "execution_count": 46,
     "metadata": {},
     "output_type": "execute_result"
    }
   ],
   "source": [
    "week_days.upper()"
   ]
  },
  {
   "cell_type": "code",
   "execution_count": 47,
   "metadata": {},
   "outputs": [
    {
     "data": {
      "text/plain": [
       "'MON, TUE, WED, THU, FRI, SAT, SUN'"
      ]
     },
     "execution_count": 47,
     "metadata": {},
     "output_type": "execute_result"
    }
   ],
   "source": [
    "week_days.strip().upper()"
   ]
  },
  {
   "cell_type": "markdown",
   "metadata": {},
   "source": [
    "* `lower()` 메소드는 모든 문자를 소문자로 변환시킨다."
   ]
  },
  {
   "cell_type": "code",
   "execution_count": 48,
   "metadata": {},
   "outputs": [
    {
     "data": {
      "text/plain": [
       "' mon, tue, wed, thu, fri, sat, sun '"
      ]
     },
     "execution_count": 48,
     "metadata": {},
     "output_type": "execute_result"
    }
   ],
   "source": [
    "week_days.lower()"
   ]
  },
  {
   "cell_type": "code",
   "execution_count": 49,
   "metadata": {},
   "outputs": [
    {
     "data": {
      "text/plain": [
       "'mon, tue, wed, thu, fri, sat, sun'"
      ]
     },
     "execution_count": 49,
     "metadata": {},
     "output_type": "execute_result"
    }
   ],
   "source": [
    "week_days.strip().lower()"
   ]
  },
  {
   "cell_type": "code",
   "execution_count": 50,
   "metadata": {},
   "outputs": [
    {
     "data": {
      "text/plain": [
       "['mon', 'tue', 'wed', 'thu', 'fri', 'sat', 'sun']"
      ]
     },
     "execution_count": 50,
     "metadata": {},
     "output_type": "execute_result"
    }
   ],
   "source": [
    "week_days.strip().lower().split(\", \")"
   ]
  },
  {
   "cell_type": "markdown",
   "metadata": {},
   "source": [
    "* `capitalize()` 메소드는 제일 첫 문자를 대문자로 변환시킨다.\n",
    "\n",
    "아래 예제는 변화가 없어 보인다. 이유는 첫 문자가 스페이스이기 때문이다."
   ]
  },
  {
   "cell_type": "code",
   "execution_count": 51,
   "metadata": {},
   "outputs": [
    {
     "data": {
      "text/plain": [
       "' mon, tue, wed, thu, fri, sat, sun '"
      ]
     },
     "execution_count": 51,
     "metadata": {},
     "output_type": "execute_result"
    }
   ],
   "source": [
    "week_days.capitalize()"
   ]
  },
  {
   "cell_type": "code",
   "execution_count": 52,
   "metadata": {},
   "outputs": [
    {
     "data": {
      "text/plain": [
       "'Mon, tue, wed, thu, fri, sat, sun'"
      ]
     },
     "execution_count": 52,
     "metadata": {},
     "output_type": "execute_result"
    }
   ],
   "source": [
    "week_days.strip().capitalize()"
   ]
  },
  {
   "cell_type": "markdown",
   "metadata": {},
   "source": [
    "* `title()` 메소드는 각각의 단어의 첫 문자를 대문자로 변환시킨다.\n",
    "\n",
    "참조: 영문 책 제목의 타이틀에서 각 단어의 첫 알파벳이 대문자로 쓰여지는 경우가 많다."
   ]
  },
  {
   "cell_type": "code",
   "execution_count": 53,
   "metadata": {},
   "outputs": [
    {
     "data": {
      "text/plain": [
       "' Mon, Tue, Wed, Thu, Fri, Sat, Sun '"
      ]
     },
     "execution_count": 53,
     "metadata": {},
     "output_type": "execute_result"
    }
   ],
   "source": [
    "week_days.title()"
   ]
  },
  {
   "cell_type": "code",
   "execution_count": 54,
   "metadata": {},
   "outputs": [
    {
     "data": {
      "text/plain": [
       "'Mon, Tue, Wed, Thu, Fri, Sat, Sun'"
      ]
     },
     "execution_count": 54,
     "metadata": {},
     "output_type": "execute_result"
    }
   ],
   "source": [
    "week_days.strip().title()"
   ]
  },
  {
   "cell_type": "markdown",
   "metadata": {},
   "source": [
    "* `startswith()` 메소드는 문자열이 특정 문자열로 시작하는지 여부를 판단해준다."
   ]
  },
  {
   "cell_type": "code",
   "execution_count": 55,
   "metadata": {},
   "outputs": [
    {
     "data": {
      "text/plain": [
       "True"
      ]
     },
     "execution_count": 55,
     "metadata": {},
     "output_type": "execute_result"
    }
   ],
   "source": [
    "week_days.startswith(\" M\")"
   ]
  },
  {
   "cell_type": "markdown",
   "metadata": {},
   "source": [
    "* `endswith()` 메소드는 문자열이 특정 문자열로 끝나는지 여부를 판단해준다."
   ]
  },
  {
   "cell_type": "code",
   "execution_count": 56,
   "metadata": {},
   "outputs": [
    {
     "data": {
      "text/plain": [
       "True"
      ]
     },
     "execution_count": 56,
     "metadata": {},
     "output_type": "execute_result"
    }
   ],
   "source": [
    "week_days.endswith(\"n \")"
   ]
  },
  {
   "cell_type": "markdown",
   "metadata": {},
   "source": [
    "## 불변 자료형\n",
    "\n",
    "파이썬의 문자열 자료형의 값들은 변경이 불가능하다. \n",
    "앞서  `week_days`에 할당된 문자열에 다양한 메소드를 적용하여 새로운 문자열을 생성하였지만\n",
    "`week_days`에 할당된 문자열 자체는 전혀 변하지 않았음을 아래와 같이 확인할 수 있다."
   ]
  },
  {
   "cell_type": "code",
   "execution_count": 57,
   "metadata": {},
   "outputs": [
    {
     "data": {
      "text/plain": [
       "' Mon, Tue, Wed, Thu, Fri, Sat, Sun '"
      ]
     },
     "execution_count": 57,
     "metadata": {},
     "output_type": "execute_result"
    }
   ],
   "source": [
    "week_days"
   ]
  },
  {
   "cell_type": "markdown",
   "metadata": {},
   "source": [
    "이와 같이 한 번 정해지면 절대 변경이 불가능한 자료형을 불변(immutable) 자료형이라 부른다.\n",
    "\n",
    "주어진 문자열을 이용하여 새로운 문자열을 생성하고 활용하려면 새로운 변수에 저장하여 활용해야 한다."
   ]
  },
  {
   "cell_type": "code",
   "execution_count": 58,
   "metadata": {},
   "outputs": [],
   "source": [
    "stripped_week_days = week_days.strip()"
   ]
  },
  {
   "cell_type": "code",
   "execution_count": 59,
   "metadata": {},
   "outputs": [
    {
     "data": {
      "text/plain": [
       "'Mon, Tue, Wed, Thu, Fri, Sat, Sun'"
      ]
     },
     "execution_count": 59,
     "metadata": {},
     "output_type": "execute_result"
    }
   ],
   "source": [
    "stripped_week_days"
   ]
  },
  {
   "cell_type": "markdown",
   "metadata": {},
   "source": [
    "## 연습문제"
   ]
  },
  {
   "cell_type": "markdown",
   "metadata": {},
   "source": [
    "애완동물의 목록을 할당받는 `pets` 변수가 아래와 같이 선언되어 있다. "
   ]
  },
  {
   "cell_type": "code",
   "execution_count": 60,
   "metadata": {},
   "outputs": [],
   "source": [
    "pets = 'dog cat hedgehog pig swan fish bird'"
   ]
  },
  {
   "cell_type": "markdown",
   "metadata": {},
   "source": [
    "### 연습\n",
    "\n",
    "애완동물의 종류를 의미하는 단어의 첫알파벳을 대문자로 바꾸려면 어떻게 해야 하는가? \n",
    "단, 특정 메소드를 사용하여 한 줄 코드로 작성해야 한다."
   ]
  },
  {
   "cell_type": "markdown",
   "metadata": {},
   "source": [
    "견본답안:"
   ]
  },
  {
   "cell_type": "code",
   "execution_count": 61,
   "metadata": {},
   "outputs": [
    {
     "data": {
      "text/plain": [
       "'Dog Cat Hedgehog Pig Swan Fish Bird'"
      ]
     },
     "execution_count": 61,
     "metadata": {},
     "output_type": "execute_result"
    }
   ],
   "source": [
    "pets.title()"
   ]
  },
  {
   "cell_type": "markdown",
   "metadata": {},
   "source": [
    "### 연습\n",
    "\n",
    "`pets`으로부터 대문자 `C` 문자 하나를 추출하라."
   ]
  },
  {
   "cell_type": "markdown",
   "metadata": {},
   "source": [
    "견본답안:"
   ]
  },
  {
   "cell_type": "code",
   "execution_count": 62,
   "metadata": {},
   "outputs": [
    {
     "data": {
      "text/plain": [
       "'C'"
      ]
     },
     "execution_count": 62,
     "metadata": {},
     "output_type": "execute_result"
    }
   ],
   "source": [
    "pets.title()[4]"
   ]
  },
  {
   "cell_type": "markdown",
   "metadata": {},
   "source": [
    "### 연습\n",
    "\n",
    "`hedgehog`을 추출하려면?"
   ]
  },
  {
   "cell_type": "markdown",
   "metadata": {},
   "source": [
    "견본답안:"
   ]
  },
  {
   "cell_type": "code",
   "execution_count": 63,
   "metadata": {},
   "outputs": [
    {
     "data": {
      "text/plain": [
       "'hedgehog'"
      ]
     },
     "execution_count": 63,
     "metadata": {},
     "output_type": "execute_result"
    }
   ],
   "source": [
    "pets[8 : 16]"
   ]
  },
  {
   "cell_type": "markdown",
   "metadata": {},
   "source": [
    "### 연습 (이전 문제 이어서)\n",
    "\n",
    "`hdeo`을 추출하려면?"
   ]
  },
  {
   "cell_type": "markdown",
   "metadata": {},
   "source": [
    "견본답안:"
   ]
  },
  {
   "cell_type": "code",
   "execution_count": 64,
   "metadata": {},
   "outputs": [
    {
     "data": {
      "text/plain": [
       "'hdeo'"
      ]
     },
     "execution_count": 64,
     "metadata": {},
     "output_type": "execute_result"
    }
   ],
   "source": [
    "pets[8 : 16 : 2]"
   ]
  },
  {
   "cell_type": "markdown",
   "metadata": {},
   "source": [
    "### 연습\n",
    "\n",
    "`gohegdeh`을 추출하려면?"
   ]
  },
  {
   "cell_type": "markdown",
   "metadata": {},
   "source": [
    "견본답안:"
   ]
  },
  {
   "cell_type": "code",
   "execution_count": 65,
   "metadata": {},
   "outputs": [
    {
     "data": {
      "text/plain": [
       "'gohegdeh'"
      ]
     },
     "execution_count": 65,
     "metadata": {},
     "output_type": "execute_result"
    }
   ],
   "source": [
    "pets[15: 7 : -1]"
   ]
  },
  {
   "cell_type": "markdown",
   "metadata": {},
   "source": [
    "### 연습\n",
    "\n",
    "`dogs`와 `cats` 두 개의 변수가 다음과 같이 선언되었다."
   ]
  },
  {
   "cell_type": "code",
   "execution_count": 66,
   "metadata": {},
   "outputs": [],
   "source": [
    "dogs, cats = '8', '4'"
   ]
  },
  {
   "cell_type": "markdown",
   "metadata": {},
   "source": [
    "* 강아지와 고양이를 몇 마리씩 갖고 있는지 확인하는 방법은?\n",
    "* 강아지가 고양이보다 몇 마리 더 많은지 확인하는 방법은?"
   ]
  },
  {
   "cell_type": "markdown",
   "metadata": {},
   "source": [
    "견본답안:"
   ]
  },
  {
   "cell_type": "code",
   "execution_count": 67,
   "metadata": {},
   "outputs": [
    {
     "name": "stdout",
     "output_type": "stream",
     "text": [
      "8\n"
     ]
    }
   ],
   "source": [
    "print(int(dogs))"
   ]
  },
  {
   "cell_type": "code",
   "execution_count": 68,
   "metadata": {},
   "outputs": [
    {
     "name": "stdout",
     "output_type": "stream",
     "text": [
      "4\n"
     ]
    }
   ],
   "source": [
    "print(int(cats))"
   ]
  },
  {
   "cell_type": "code",
   "execution_count": 69,
   "metadata": {},
   "outputs": [
    {
     "name": "stdout",
     "output_type": "stream",
     "text": [
      "4\n"
     ]
    }
   ],
   "source": [
    "print(abs(int(dogs) - int(cats)))"
   ]
  },
  {
   "cell_type": "markdown",
   "metadata": {},
   "source": [
    "### 연습\n",
    "\n",
    "입력받은 문자열이 `dog`라는 부분문자열을 갖고 있는지 여부를 판별하는 함수 \n",
    "`find_dog`를 구현하라.\n",
    "\n",
    "\n",
    "    find_dog('Bull dog')\n",
    "    True\n",
    "    \n",
    "    find_dog('강아지')\n",
    "    False"
   ]
  },
  {
   "cell_type": "markdown",
   "metadata": {},
   "source": [
    "힌트: 특정 문자열이 주어진 문자열에 부분문자열로 포함되어 있는지 여부를 판단해 주는 방식을\n",
    "활용한다. 아래 예제들을 참조하라."
   ]
  },
  {
   "cell_type": "code",
   "execution_count": 70,
   "metadata": {},
   "outputs": [
    {
     "data": {
      "text/plain": [
       "True"
      ]
     },
     "execution_count": 70,
     "metadata": {},
     "output_type": "execute_result"
    }
   ],
   "source": [
    "'ab' in 'abc'"
   ]
  },
  {
   "cell_type": "code",
   "execution_count": 71,
   "metadata": {},
   "outputs": [
    {
     "data": {
      "text/plain": [
       "False"
      ]
     },
     "execution_count": 71,
     "metadata": {},
     "output_type": "execute_result"
    }
   ],
   "source": [
    "'cat' in 'casting'"
   ]
  },
  {
   "cell_type": "markdown",
   "metadata": {},
   "source": [
    "견본답안:"
   ]
  },
  {
   "cell_type": "code",
   "execution_count": 72,
   "metadata": {},
   "outputs": [],
   "source": [
    "def find_dog(word):\n",
    "    if 'dog' in word:\n",
    "        found_dog = True\n",
    "    else:\n",
    "        found_dog = False\n",
    "    \n",
    "    return found_dog"
   ]
  },
  {
   "cell_type": "code",
   "execution_count": 73,
   "metadata": {},
   "outputs": [
    {
     "data": {
      "text/plain": [
       "True"
      ]
     },
     "execution_count": 73,
     "metadata": {},
     "output_type": "execute_result"
    }
   ],
   "source": [
    "find_dog('Bull dog')"
   ]
  },
  {
   "cell_type": "code",
   "execution_count": 74,
   "metadata": {},
   "outputs": [
    {
     "data": {
      "text/plain": [
       "False"
      ]
     },
     "execution_count": 74,
     "metadata": {},
     "output_type": "execute_result"
    }
   ],
   "source": [
    "find_dog('강아지')"
   ]
  },
  {
   "cell_type": "markdown",
   "metadata": {},
   "source": [
    "### 연습\n",
    "\n",
    "아래 코드는 커피콩의 현재 가격을 알아내어 일정 가격 이상이면 \n",
    "커피숍의 아메리카노 가격을 인상할 것을 권유하는 프로그램이다.\n",
    "\n",
    "----\n",
    "```python\n",
    "import urllib.request\n",
    "import time             # 시간과 관련된 함수들의 모듈\n",
    "\n",
    "price = 5.0\n",
    "\n",
    "while price < 6.0:\n",
    "    time.sleep(1)       # 코드 실행을 1초 정지한다.\n",
    "    \n",
    "    page = urllib.request.urlopen(\"http://beans-r-us.appspot.com/prices.html\")\n",
    "    text = page.read().decode(\"utf8\")\n",
    "    \n",
    "    where = text.find(\">$\") + 2\n",
    "    price_str = text[where : where + 4]      # 가격정보 문자열\n",
    "    price = float(price_str)                 # 숫자로 형변환\n",
    "    \n",
    "print(\"커피콩 현재 가격이\", price, \"입니다. 아메리카노 가격을 인상하세요!\")\n",
    "```\n",
    "----"
   ]
  },
  {
   "cell_type": "markdown",
   "metadata": {},
   "source": [
    "위 코드를 수정하여, 아래 내용을 수행하는 함수를 작성하라.\n",
    "\n",
    "* 함수 이름: `price_setter`\n",
    "\n",
    "\n",
    "* 함수에 사용되는 인자 두 개\n",
    "    * 첫째 인자(`b_price`): 기존의 커피콩 가격\n",
    "    * 둘째 인자(`a_price`): 아메리카노 인상 또는 인하 가격\n",
    "\n",
    "\n",
    "* `price_setter(b_price, a_price)`를 실행할 때\n",
    "    * `b_price`는 커피콩의 기존 가격을 의미한다. \n",
    "        서버의 특징 상 5.5와 6.0 사이의 숫자로 주는 게 좋다.\n",
    "    * 커피콩의 실시간 가격이 `b_price` 보다 0.5 달러 이하면\n",
    "        아메리카노 가격을 `a_price` 만큼 내릴 것을 권유\n",
    "    * 커피콩의 실시간 가격이 `b_price` 보다 0.5 달러 이상이면\n",
    "        아메리카노 가격을 `a_price` 만큼 올릴 것을 권유"
   ]
  },
  {
   "cell_type": "markdown",
   "metadata": {},
   "source": [
    "견본답안:"
   ]
  },
  {
   "cell_type": "code",
   "execution_count": 75,
   "metadata": {},
   "outputs": [],
   "source": [
    "import urllib.request\n",
    "import time             # 시간과 관련된 함수들의 모듈\n",
    "\n",
    "def price_setter(b_price, a_price):\n",
    "    \n",
    "    price = b_price\n",
    "\n",
    "    while 5.5 < price < 6.0:\n",
    "        time.sleep(1)       # 코드 실행을 1초 정지한다.\n",
    "\n",
    "        page = urllib.request.urlopen(\"http://beans-r-us.appspot.com/prices.html\")\n",
    "        text = page.read().decode(\"utf8\")\n",
    "\n",
    "        where = text.find(\">$\") + 2\n",
    "        price_str = text[where : where + 4]      # 가격정보 문자열\n",
    "        price = float(price_str)                 # 숫자로 형변환\n",
    "\n",
    "    print(\"현재 커피콩 가격이\", price, \"달러 입니다.\")\n",
    "\n",
    "    if price <= 5.5:\n",
    "        print(\"아메리카노 가격을\", a_price, \"달러만큼 인하하세요!\")\n",
    "    else:\n",
    "        print(\"아메리카노 가격을\", a_price, \"달러만큼 인상하세요!\")"
   ]
  },
  {
   "cell_type": "markdown",
   "metadata": {},
   "source": [
    "예를 들어, 현재 커피콩의 가격이 5.7달러이고, 커피콩의 실시간 가격이\n",
    "5.2달러 이하이면 아메리카노의 가격을 50센트 내리고\n",
    "6.2달러 이상이면 50센트 올리라고 권유하고자 한다면 아래와 같이 \n",
    "`price_setter()` 함수를 호출하면 된다."
   ]
  },
  {
   "cell_type": "code",
   "execution_count": 76,
   "metadata": {},
   "outputs": [
    {
     "name": "stdout",
     "output_type": "stream",
     "text": [
      "현재 커피콩 가격이 5.25 달러 입니다.\n",
      "아메리카노 가격을 0.5 달러만큼 인하하세요!\n"
     ]
    }
   ],
   "source": [
    "price_setter(5.7, 0.5)"
   ]
  },
  {
   "cell_type": "markdown",
   "metadata": {},
   "source": [
    "### 연습\n",
    "\n",
    "[기상청](http://www.weather.go.kr/weather/main.jsp)에서 날씨 정보를 확인하는 프로그램을 작성하고자 한다.\n",
    "\n",
    "먼저 기상청 정보를 담고 있는 아래 사이트의 소스코드를 읽어 온다.\n",
    "\n",
    "```\n",
    "http://www.weather.go.kr/weather/forecast/mid-term-rss3.jsp?stnId-108\n",
    "```"
   ]
  },
  {
   "cell_type": "code",
   "execution_count": 77,
   "metadata": {},
   "outputs": [],
   "source": [
    "import urllib.request\n",
    "\n",
    "page = urllib.request.urlopen(\"http://www.weather.go.kr/weather/forecast/mid-term-rss3.jsp?stnId-108\")\n",
    "text = page.read().decode(\"utf8\")"
   ]
  },
  {
   "cell_type": "markdown",
   "metadata": {},
   "source": [
    "읽어 온 소소크드 내용의 앞 부분을 확인하면 다음과 같다."
   ]
  },
  {
   "cell_type": "code",
   "execution_count": 78,
   "metadata": {},
   "outputs": [
    {
     "data": {
      "text/plain": [
       "'<?xml version=\"1.0\" encoding=\"utf-8\" ?>\\r\\n<rss version=\"2.0\">\\r\\n<channel>\\r\\n<title>기상청 육상 중기예보</title>\\r\\n<link>http://www.kma.go.kr/weather/forecast/mid-term_01.jsp</link>\\r\\n<description>기상청 날씨 웹서비스</description>\\r\\n<language>ko</language>\\r\\n<generator>기상청</generator>\\r\\n<pubDate>2018년 09월 12일 (수)요일 06:00</pubDate>\\r\\n <item>\\r\\n<author>기상청</author>\\r\\n<category>육상중기예보</category>\\r\\n<title>전국 육상 중기예보 - 2018년 09월 12일 (수)요일 06:00 발표</title>\\r\\n<link>http://www.kma.go.kr/weather/forecast/mid-term_01.jsp</link>\\r\\n<guid>http://www.kma.go.kr/weather/forecast/mid-term_01.jsp</guid>\\r\\n<description>\\r\\n\\t<header>\\r\\n\\t\\t<title>전국 육상중기예보</title>\\r\\n\\t\\t<tm>201809120600</tm>\\r\\n\\t\\t<wf><![CDATA[기압골의 영향으로 15일은 전국(제주도 제외)에 비가 오겠고, 그 밖의 날은 고기압의 영향으로 대체로 맑겠습니다.<br />기온은 평년(최저기온: 11~20℃, 최고기온: 23~27℃)과 비슷하거나 조금 높겠습니다.<br />강수량은 평년(3~9mm)보다 조금 많겠습니다.]]></wf>\\r\\n\\t</header>\\r\\n\\t<body>\\r\\n\\t\\t\\t\\t\\r\\n\\r\\n\\t\\t<location wl_ver=\"3\">\\r\\n\\t\\t\\t\\t<province>서울ㆍ인천ㆍ경기도</province>\\r\\n\\t\\t\\t\\t<city>서울</city>\\r\\n\\t\\t\\t\\t\\r\\n\\t\\t\\t\\t<data>\\r\\n\\t\\t\\t\\t\\t<mode>A02</mode>\\r\\n\\t\\t\\t\\t\\t<tmEf>2018-09-15 00:00</t'"
      ]
     },
     "execution_count": 78,
     "metadata": {},
     "output_type": "execute_result"
    }
   ],
   "source": [
    "text[0:1000]"
   ]
  },
  {
   "cell_type": "markdown",
   "metadata": {},
   "source": [
    "이제 비가 올지 여부를 설명하는 부분을 찾아서 `비`라는 단어의 포함여부에 따라 우산을 가져가야 하는지 여부를 결정하는 코드를 아래와 같이 작성할 수 있다."
   ]
  },
  {
   "cell_type": "code",
   "execution_count": 79,
   "metadata": {},
   "outputs": [
    {
     "name": "stdout",
     "output_type": "stream",
     "text": [
      "우산을 가져가세요!\n"
     ]
    }
   ],
   "source": [
    "where_s = text.find(\"CDATA[]\") + 6\n",
    "where_e = text.find(\"]]></wf>\")\n",
    "\n",
    "text_weather = text[where_s : where_e]\n",
    "text_weather_clean = text_weather.replace(\"<br />\", \" \")\n",
    "\n",
    "if '비' in text_weather_clean:\n",
    "    print(\"우산을 가져가세요!\")\n",
    "else:\n",
    "    print(\"우산이 필요 없습니다!\")"
   ]
  }
 ],
 "metadata": {
  "kernelspec": {
   "display_name": "Python 3",
   "language": "python",
   "name": "python3"
  },
  "language_info": {
   "codemirror_mode": {
    "name": "ipython",
    "version": 3
   },
   "file_extension": ".py",
   "mimetype": "text/x-python",
   "name": "python",
   "nbconvert_exporter": "python",
   "pygments_lexer": "ipython3",
   "version": "3.6.3"
  }
 },
 "nbformat": 4,
 "nbformat_minor": 1
}
