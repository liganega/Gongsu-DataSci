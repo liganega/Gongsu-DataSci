{
 "cells": [
  {
   "cell_type": "markdown",
   "metadata": {},
   "source": [
    "# 아나콘다(Anaconda) 소개"
   ]
  },
  {
   "cell_type": "markdown",
   "metadata": {},
   "source": [
    "__안내:__\n",
    "여기서는 오프라인 개발환경을 준비하는 방법을 설명한다.\n",
    "하지만 개발환경 설정이 조금 어렵게 다가오는 경우 온라인 개발환경인 \n",
    "[구글 코랩](https://colab.research.google.com/) 사용을 추천한다. "
   ]
  },
  {
   "cell_type": "markdown",
   "metadata": {},
   "source": [
    "## 아나콘다 패키지 소개\n",
    "\n",
    "* 파이썬 프로그래밍 언어 개발환경 \n",
    "* 파이썬 기본 패키지 이외에 데이터분석용 필수 패키지 포함 \n",
    "* 파이썬 데이터분석, 머신러닝, 딥러닝 등에 가장 많이 활용되는 패키지 제공"
   ]
  },
  {
   "cell_type": "markdown",
   "metadata": {},
   "source": [
    "## 아나콘다 패키지 다운로드 및 설치\n",
    "\n",
    "아나콘다 패키지를 다운로드 하려면 아래 사이트를 방문한다\n",
    "\n",
    "https://www.anaconda.com/download/\n",
    "    \n",
    "__파이썬3__ 최신 버전을 지원하는 설치파일을 다운로드한 후 실행하여 설치한다. "
   ]
  },
  {
   "cell_type": "markdown",
   "metadata": {},
   "source": [
    "## 주피터 노트북 활용\n",
    "\n",
    "아나콘다 패키지를 설치하면 구글 코랩과 거의 동일하게 작동하는 주피터 노트북을 활용할 수 있다."
   ]
  },
  {
   "cell_type": "markdown",
   "metadata": {},
   "source": [
    "## 참고 동영상\n",
    "\n",
    "아나콘다 패키지 설치 및 주피터 노트북 기본 사용법은 아래 동영상을 참조할 수 있다.\n",
    "\n",
    "* [[파이썬 기초]NO 1. 파이썬 개요 및 아나콘다 설치](https://www.youtube.com/watch?v=cMB6-AxatPU&list=PLRYL8FHwJMhD_Wi22JLm2VURrjt_iVX7X&index=1)\n",
    "* [[파이썬 기초]NO.2 주피터 노트북 사용법](https://www.youtube.com/watch?v=4_-IIfbdR5M&list=PLRYL8FHwJMhD_Wi22JLm2VURrjt_iVX7X&index=2)"
   ]
  }
 ],
 "metadata": {
  "kernelspec": {
   "display_name": "Python 3",
   "language": "python",
   "name": "python3"
  },
  "language_info": {
   "codemirror_mode": {
    "name": "ipython",
    "version": 3
   },
   "file_extension": ".py",
   "mimetype": "text/x-python",
   "name": "python",
   "nbconvert_exporter": "python",
   "pygments_lexer": "ipython3",
   "version": "3.8.3"
  }
 },
 "nbformat": 4,
 "nbformat_minor": 2
}
