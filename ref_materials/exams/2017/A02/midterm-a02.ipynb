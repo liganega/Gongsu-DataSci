{
 "cells": [
  {
   "cell_type": "code",
   "execution_count": 1,
   "metadata": {
    "collapsed": true
   },
   "outputs": [],
   "source": [
    "from __future__ import division, print_function\n",
    "import matplotlib.pyplot as plt\n",
    "import numpy as np"
   ]
  },
  {
   "cell_type": "code",
   "execution_count": 2,
   "metadata": {
    "collapsed": true
   },
   "outputs": [],
   "source": [
    "%matplotlib inline"
   ]
  },
  {
   "cell_type": "markdown",
   "metadata": {},
   "source": [
    "# 파이썬 기본 자료형"
   ]
  },
  {
   "cell_type": "markdown",
   "metadata": {},
   "source": [
    "## 문제 \n",
    "\n",
    "실수(부동소수점)를 하나 입력받아, 그 숫자를 반지름으로 하는 원의 면적과 둘레의 길이를 튜플로 리턴하는 함수 `circle_radius`를 구현하는 코드를 작성하라,"
   ]
  },
  {
   "cell_type": "markdown",
   "metadata": {},
   "source": [
    "```\n",
    "\n",
    "\n",
    "\n",
    ".\n",
    "```"
   ]
  },
  {
   "cell_type": "markdown",
   "metadata": {},
   "source": [
    "# 문자열 자료형"
   ]
  },
  {
   "cell_type": "markdown",
   "metadata": {},
   "source": [
    "아래 사이트는 커피 콩의 현재 시세를 보여준다.\n",
    "\n",
    "    http://beans-r-us.appspot.com/prices.html\n",
    "\n",
    "위 사이트의 내용을 html 소스코드로 보면 다음과 같으며, 검색된 시간의 커피콩의 가격은 \n",
    "`Current price of coffee beans` 문장이 담겨 있는 줄에 명시되어 있다.\n",
    "\n",
    "---\n",
    "\n",
    "```html\n",
    "<html><head><title>Welcome to the Beans'R'Us Pricing Page</title>\n",
    "<link rel=\"stylesheet\" type=\"text/css\" href=\"beansrus.css\" />\n",
    "</head><body>\n",
    "<h2>Welcome to the Beans'R'Us Pricing Page</h2>\n",
    "<p>Current price of coffee beans = <strong>$5.94</strong></p>\n",
    "<p>Price valid for 15 minutes from Sun Sep 10 12:21:58 2017.</p>\n",
    "</body></html>\n",
    "```\n",
    "\n",
    "---"
   ]
  },
  {
   "cell_type": "markdown",
   "metadata": {},
   "source": [
    "## 문제\n",
    "\n",
    "아래 코드가 하는 일을 설명하라.\n",
    "\n",
    "---\n",
    "\n",
    "```\n",
    "from __future__ import print_function\n",
    "\n",
    "import urllib2\n",
    "import time\n",
    "\n",
    "def price_setter(b_price, a_price):\n",
    "    bean_price = b_price\n",
    "    while 5.5 < bean_price < 6.0:\n",
    "        time.sleep(1)\n",
    "\n",
    "        page = urllib2.urlopen(\"http://beans-r-us.appspot.com/prices.html\")\n",
    "        text = page.read().decode(\"utf8\")\n",
    "\n",
    "        price_index = text.find(\">$\") + 2\n",
    "        bean_price_str = text[price_index : price_index + 4]\n",
    "        bean_price = float(bean_price_str)\n",
    "        \n",
    "    print(\"현재 커피콩 가격이\", bean_price, \"달러 입니다.\")\n",
    "\n",
    "    if bean_price <= 5.5:\n",
    "        print(\"아메리카노 가격을\", a_price, \"달러만큼 인하하세요!\")\n",
    "    else:\n",
    "        print(\"아메리카노 가격을\", a_price, \"달러만큼 인상하세요!\")\n",
    "```\n",
    "\n",
    "---"
   ]
  },
  {
   "cell_type": "markdown",
   "metadata": {},
   "source": [
    "```\n",
    "\n",
    "\n",
    "\n",
    "\n",
    "\n",
    "\n",
    "\n",
    "\n",
    "\n",
    "\n",
    ".```"
   ]
  },
  {
   "cell_type": "markdown",
   "metadata": {},
   "source": [
    "# 오류 및 예외 처리"
   ]
  },
  {
   "cell_type": "markdown",
   "metadata": {},
   "source": [
    "## 문제\n",
    "아래 코드가 하는 일을 설명하라.\n",
    "\n",
    "---\n",
    "\n",
    "```\n",
    "number_to_square = raw_input(\"A number to divide 100: \")\n",
    "\n",
    "try: \n",
    "    number = float(number_to_square)\n",
    "    print(\"100을 입력한 값으로 나눈 결과는\", 100/number, \"입니다.\")\n",
    "except ZeroDivisionError:\n",
    "    raise ZeroDivisionError('0이 아닌 숫자를 입력하세요.')\n",
    "except ValueError:\n",
    "    raise ValueError('숫자를 입력하세요.')    \n",
    "```\n",
    "\n",
    "---"
   ]
  },
  {
   "cell_type": "markdown",
   "metadata": {},
   "source": [
    "```\n",
    "\n",
    "\n",
    "\n",
    "\n",
    "\n",
    "\n",
    "\n",
    "\n",
    "\n",
    "\n",
    ".```"
   ]
  },
  {
   "cell_type": "markdown",
   "metadata": {},
   "source": [
    "# 리스트"
   ]
  },
  {
   "cell_type": "markdown",
   "metadata": {},
   "source": [
    "## 문제 \n",
    "\n",
    "아래 설명 중에서 리스트 자료형의 성질에 해당하는 항목을 모두 골라라.\n",
    "\n",
    "1. 가변 자료형이다.\n",
    "* 불변 자료형이다.\n",
    "* 인덱스와 슬라이싱을 활용하여 항목의 내용을 확인하고 활용할 수 있다.\n",
    "* 항목들이 임의의 자료형을 가질 수 있다.\n",
    "* 리스트 길이에 제한이 있다.\n",
    "* 신성정보 등 중요한 데이터를 보관할 때 사용한다."
   ]
  },
  {
   "cell_type": "markdown",
   "metadata": {},
   "source": [
    "```\n",
    "\n",
    "```"
   ]
  },
  {
   "cell_type": "markdown",
   "metadata": {},
   "source": [
    "견본답안: 1, 3, 4"
   ]
  },
  {
   "cell_type": "markdown",
   "metadata": {},
   "source": [
    "# 사전"
   ]
  },
  {
   "cell_type": "markdown",
   "metadata": {},
   "source": [
    "`record_list.txt` 파일은 여덟 명의 수영 선수의 50m 기록을 담고 있다.\n",
    "\n",
    "---\n",
    "\n",
    "```txt\n",
    "player1 21.09 \n",
    "player2 20.32 \n",
    "player3 21.81 \n",
    "player4 22.97 \n",
    "player5 23.29 \n",
    "player6 22.09 \n",
    "player7 21.20 \n",
    "player8 22.16\n",
    "```\n",
    "\n",
    "---"
   ]
  },
  {
   "cell_type": "markdown",
   "metadata": {},
   "source": [
    "## 문제\n",
    "\n",
    "아래코드가 하는 일을 설명하라.\n",
    "\n",
    "---\n",
    "\n",
    "```python\n",
    "from __future__ import print_function\n",
    "\n",
    "record_f = open(\"record_list.txt\", 'r')\n",
    "record = record_f.read().decode('utf8').split('\\n')\n",
    "\n",
    "record_dict = {}\n",
    "\n",
    "for line in record:\n",
    "    (player, p_record) = line.split()\n",
    "    record_dict[p_record] = player\n",
    "\n",
    "record_f.close()\n",
    "\n",
    "record_list = record_dict.keys()\n",
    "record_list.sort()\n",
    "\n",
    "for i in range(3):\n",
    "    item = record_list[i]\n",
    "    print(str(i+1) + \":\", record_dict[item], item)\n",
    "```    \n",
    "\n",
    "---"
   ]
  },
  {
   "cell_type": "markdown",
   "metadata": {},
   "source": [
    "```\n",
    "\n",
    "\n",
    "\n",
    "\n",
    "\n",
    "\n",
    "\n",
    "\n",
    "\n",
    ".```"
   ]
  },
  {
   "cell_type": "markdown",
   "metadata": {},
   "source": [
    "# 튜플"
   ]
  },
  {
   "cell_type": "markdown",
   "metadata": {},
   "source": [
    "## 문제 \n",
    "\n",
    "아래 설명 중에서 튜플 자료형의 성질에 해당하는 항목을 모두 골라라.\n",
    "\n",
    "1. 가변 자료형이다.\n",
    "* 불변 자료형이다.\n",
    "* 인덱스와 슬라이싱을 활용하여 항목의 내용을 확인하고 활용할 수 있다.\n",
    "* 항목들이 임의의 자료형을 가질 수 있다.\n",
    "* 튜플 길이에 제한이 있다.\n",
    "* 신성정보 등 중요한 데이터를 보관할 때 사용한다."
   ]
  },
  {
   "cell_type": "markdown",
   "metadata": {},
   "source": [
    "```\n",
    "\n",
    "```"
   ]
  },
  {
   "cell_type": "markdown",
   "metadata": {},
   "source": [
    "견본답안: 2, 3, 4, 6"
   ]
  },
  {
   "cell_type": "markdown",
   "metadata": {},
   "source": [
    "# 리스트 조건제시법"
   ]
  },
  {
   "cell_type": "markdown",
   "metadata": {},
   "source": [
    "아래 코드는 0부터 1000 사이의 홀수들의 제곱의 리스트를 조건제시법으로 생성한다"
   ]
  },
  {
   "cell_type": "code",
   "execution_count": 3,
   "metadata": {},
   "outputs": [
    {
     "data": {
      "text/plain": [
       "[1, 9, 25, 49, 81]"
      ]
     },
     "execution_count": 3,
     "metadata": {},
     "output_type": "execute_result"
    }
   ],
   "source": [
    "odd_1000 = [x**2 for x in range(0, 1000) if x % 2 == 1]\n",
    "\n",
    "# 리스트의 처음 다섯 개 항목\n",
    "odd_1000[:5]"
   ]
  },
  {
   "cell_type": "markdown",
   "metadata": {},
   "source": [
    "## 문제\n",
    "\n",
    "0부터 1000까지의 숫자들 중에서 홀수이면서 7의 배수인 숫자들의 리스트를 조건제시법으로 생성하는 코드를 작성하라."
   ]
  },
  {
   "cell_type": "markdown",
   "metadata": {},
   "source": [
    "```\n",
    "\n",
    "\n",
    "\n",
    ".\n",
    "```"
   ]
  },
  {
   "cell_type": "markdown",
   "metadata": {},
   "source": [
    "모범답안:"
   ]
  },
  {
   "cell_type": "code",
   "execution_count": 4,
   "metadata": {},
   "outputs": [
    {
     "data": {
      "text/plain": [
       "[7, 21, 35, 49, 63]"
      ]
     },
     "execution_count": 4,
     "metadata": {},
     "output_type": "execute_result"
    }
   ],
   "source": [
    "odd_3x7 = [x for x in range(0, 1000) if x % 2 == 1 and x % 7 == 0]\n",
    "\n",
    "# 리스트의 처음 다섯 개 항목\n",
    "odd_3x7[:5]"
   ]
  },
  {
   "cell_type": "markdown",
   "metadata": {},
   "source": [
    "## 문제\n",
    "\n",
    "0부터 1000까지의 숫자들 중에서 홀수이면서 7의 배수인 숫자들을 제곱하여 1을 더한 값들의 리스트를 조건제시법으로 생성하는 코드를 작성하라.\n",
    "힌트: 아래와 같이 정의된 함수를 활용한다.\n",
    "\n",
    "$$f(x) = x^2 + 1$$"
   ]
  },
  {
   "cell_type": "markdown",
   "metadata": {},
   "source": [
    "```\n",
    "\n",
    "\n",
    "\n",
    "\n",
    "\n",
    "\n",
    ".```"
   ]
  },
  {
   "cell_type": "markdown",
   "metadata": {},
   "source": [
    "견본답안:"
   ]
  },
  {
   "cell_type": "code",
   "execution_count": 5,
   "metadata": {},
   "outputs": [
    {
     "data": {
      "text/plain": [
       "[50, 442, 1226, 2402, 3970]"
      ]
     },
     "execution_count": 5,
     "metadata": {},
     "output_type": "execute_result"
    }
   ],
   "source": [
    "def square_plus1(x):\n",
    "    return x**2 + 1\n",
    "\n",
    "odd_3x7_spl = [square_plus1(x) for x in odd_3x7]\n",
    "# 리스트의 처음 다섯 개 항목\n",
    "odd_3x7_spl[:5]"
   ]
  },
  {
   "cell_type": "markdown",
   "metadata": {},
   "source": [
    "# csv 파일 읽어들이기"
   ]
  },
  {
   "cell_type": "markdown",
   "metadata": {},
   "source": [
    "`'Seoul_pop2.csv'` 파일에는 아래 내용이 저장되어 있다\"\n",
    "\n",
    "---\n",
    "```csv\n",
    "### 1949년부터 2010년 사이의 서울과 수도권 인구 증가율(%)\n",
    "# 구간,서울,수도권 \n",
    "\n",
    "1949-1955,9.12,-5.83\n",
    "1955-1960,55.88,32.22\n",
    "1960-1966,55.12,32.76\n",
    "1966-1970,45.66,28.76\n",
    "1970-1975,24.51,22.93\n",
    "1975-1980,21.38,21.69\n",
    "1980-1985,15.27,18.99\n",
    "1985-1990,10.15,17.53\n",
    "1990-1995,-3.64,8.54\n",
    "1995-2000,-3.55,5.45\n",
    "2000-2005,-0.93,6.41\n",
    "2005-2010,-1.34,3.71\n",
    "```\n",
    "\n",
    "---"
   ]
  },
  {
   "cell_type": "markdown",
   "metadata": {},
   "source": [
    "확장자가 csv인 파일은 데이터를 저장하기 위해 주로 사용한다. \n",
    "csv는 Comma-Separated Values의 줄임말로 데이터가 쉼표(콤마)로 구분되어 정리되어 있는 파일을 의미한다. \n",
    "\n",
    "csv 파일을 읽어드리는 방법은 `csv` 모듈의 `reader()` 함수를 활용하면 매우 쉽다.\n",
    "`reader()` 함수의 리턴값은 csv 파일에 저장된 내용을 줄 단위로, 쉼표 단위로 끊어서 2차원 리스트이다.\n",
    "\n",
    "예를 들어, 아래 코드는 언급된 파일에 저장된 내용의 각 줄을 출력해준다."
   ]
  },
  {
   "cell_type": "code",
   "execution_count": 6,
   "metadata": {},
   "outputs": [
    {
     "name": "stdout",
     "output_type": "stream",
     "text": [
      "['1949-1955', '9.12', '-5.83']\n",
      "['1955-1960', '55.88', '32.22']\n",
      "['1960-1966', '55.12', '32.76']\n",
      "['1966-1970', '45.66', '28.76']\n",
      "['1970-1975', '24.51', '22.93']\n",
      "['1975-1980', '21.38', '21.69']\n",
      "['1980-1985', '15.27', '18.99']\n",
      "['1985-1990', '10.15', '17.53']\n",
      "['1990-1995', '-3.64', '8.54']\n",
      "['1995-2000', '-3.55', '5.45']\n",
      "['2000-2005', '-0.93', '6.41']\n",
      "['2005-2010', '-1.34', '3.71']\n"
     ]
    }
   ],
   "source": [
    "import csv\n",
    "\n",
    "with open('Seoul_pop2.csv', 'rb') as f:\n",
    "    reader = csv.reader(f)\n",
    "    for row in reader:\n",
    "        if len(row) == 0 or row[0][0] == '#':\n",
    "            continue\n",
    "        else:\n",
    "            print(row)"
   ]
  },
  {
   "cell_type": "markdown",
   "metadata": {},
   "source": [
    "## 문제\n",
    "\n",
    "위 코드에서 5번 째 줄을 아래와 같이 하면 오류 발생한다.\n",
    "```\n",
    "if row[0][0] == '#' or len(row) == 0:\n",
    "```\n",
    "이유를 간단하게 설명하라."
   ]
  },
  {
   "cell_type": "markdown",
   "metadata": {},
   "source": [
    "```\n",
    "\n",
    "\n",
    "\n",
    ".\n",
    "```"
   ]
  },
  {
   "cell_type": "markdown",
   "metadata": {},
   "source": [
    "# 넘파이 활용 기초 1"
   ]
  },
  {
   "cell_type": "markdown",
   "metadata": {},
   "source": [
    "넘파이 어레이를 생성하는 방법은 몇 개의 기본적인 함수를 이용하면 된다.\n",
    "\n",
    "* `np.arange()`\n",
    "* `np.zeros()`\n",
    "* `np.ones()` \n",
    "* `np.diag()` \n",
    "\n",
    "예제:"
   ]
  },
  {
   "cell_type": "code",
   "execution_count": 7,
   "metadata": {},
   "outputs": [
    {
     "data": {
      "text/plain": [
       "array([3, 6, 9])"
      ]
     },
     "execution_count": 7,
     "metadata": {},
     "output_type": "execute_result"
    }
   ],
   "source": [
    "np.arange(3, 10, 3)"
   ]
  },
  {
   "cell_type": "code",
   "execution_count": 8,
   "metadata": {},
   "outputs": [
    {
     "data": {
      "text/plain": [
       "array([[ 0.,  0.,  0.],\n",
       "       [ 0.,  0.,  0.]])"
      ]
     },
     "execution_count": 8,
     "metadata": {},
     "output_type": "execute_result"
    }
   ],
   "source": [
    "np.zeros((2,3))"
   ]
  },
  {
   "cell_type": "code",
   "execution_count": 9,
   "metadata": {},
   "outputs": [
    {
     "data": {
      "text/plain": [
       "array([ 1.,  1.])"
      ]
     },
     "execution_count": 9,
     "metadata": {},
     "output_type": "execute_result"
    }
   ],
   "source": [
    "np.ones((2,))"
   ]
  },
  {
   "cell_type": "code",
   "execution_count": 10,
   "metadata": {},
   "outputs": [
    {
     "data": {
      "text/plain": [
       "array([[1, 0, 0, 0],\n",
       "       [0, 2, 0, 0],\n",
       "       [0, 0, 3, 0],\n",
       "       [0, 0, 0, 4]])"
      ]
     },
     "execution_count": 10,
     "metadata": {},
     "output_type": "execute_result"
    }
   ],
   "source": [
    "np.diag([1, 2, 3, 4])"
   ]
  },
  {
   "cell_type": "code",
   "execution_count": 11,
   "metadata": {},
   "outputs": [
    {
     "data": {
      "text/plain": [
       "array([[ 2.,  2.,  2.],\n",
       "       [ 2.,  2.,  2.],\n",
       "       [ 2.,  2.,  2.]])"
      ]
     },
     "execution_count": 11,
     "metadata": {},
     "output_type": "execute_result"
    }
   ],
   "source": [
    "np.ones((3,3)) * 2"
   ]
  },
  {
   "cell_type": "markdown",
   "metadata": {},
   "source": [
    "## 문제\n",
    "\n",
    "아래 모양의 어레이를 생성하는 코드를 작성하라.\n",
    "단, 언급된 네 개의 함수들만 사용해야 하며, 수동으로 생성된 리스트나 어레이는 허용되지 않는다.\n",
    "\n",
    "$$\\left [ \\begin{matrix} 2 & 0 & 0 \\\\ 0 & 2 & 0 \\\\ 0 & 0 & 2 \\end{matrix} \\right ]$$"
   ]
  },
  {
   "cell_type": "markdown",
   "metadata": {},
   "source": [
    "```\n",
    "\n",
    "\n",
    "\n",
    ".\n",
    "```"
   ]
  },
  {
   "cell_type": "markdown",
   "metadata": {},
   "source": [
    "견본답안:"
   ]
  },
  {
   "cell_type": "code",
   "execution_count": 12,
   "metadata": {},
   "outputs": [
    {
     "data": {
      "text/plain": [
       "array([[ 2.,  0.,  0.],\n",
       "       [ 0.,  2.,  0.],\n",
       "       [ 0.,  0.,  2.]])"
      ]
     },
     "execution_count": 12,
     "metadata": {},
     "output_type": "execute_result"
    }
   ],
   "source": [
    "np.diag(np.ones((3,))*2)"
   ]
  },
  {
   "cell_type": "markdown",
   "metadata": {},
   "source": [
    "## 문제\n",
    "\n",
    "아래 모양의 어레이를 생성하는 코드를 작성하라.\n",
    "단, 언급된 네 개의 함수만 사용해야 하며, 수동으로 생성된 리스트나 어레이는 허용되지 않는다.\n",
    "\n",
    "$$\\left [ \\begin{matrix} 2 & 0 & 0 \\\\ 0 & 4 & 0 \\\\ 0 & 0 & 6 \\end{matrix} \\right ]$$"
   ]
  },
  {
   "cell_type": "markdown",
   "metadata": {},
   "source": [
    "```\n",
    "\n",
    "\n",
    "\n",
    ".\n",
    "```"
   ]
  },
  {
   "cell_type": "markdown",
   "metadata": {},
   "source": [
    "견본답안:"
   ]
  },
  {
   "cell_type": "code",
   "execution_count": 13,
   "metadata": {},
   "outputs": [
    {
     "data": {
      "text/plain": [
       "array([[2, 0, 0],\n",
       "       [0, 4, 0],\n",
       "       [0, 0, 6]])"
      ]
     },
     "execution_count": 13,
     "metadata": {},
     "output_type": "execute_result"
    }
   ],
   "source": [
    "np.diag(np.arange(2, 7, 2))"
   ]
  },
  {
   "cell_type": "markdown",
   "metadata": {},
   "source": [
    "# 넘파이의 `linspace()` 함수 활용"
   ]
  },
  {
   "cell_type": "markdown",
   "metadata": {},
   "source": [
    "numpy 모듈의 `linspace()` 함수는 지정된 구간을 정해진 크기로 일정하게 쪼개는 어래이를 생성한다.\n",
    "예를 들어, 0부터 3사이의 구간을 균등하게 30개로 쪼개고자 하면 아래와 같이 실행하면 된다."
   ]
  },
  {
   "cell_type": "code",
   "execution_count": 14,
   "metadata": {},
   "outputs": [
    {
     "data": {
      "text/plain": [
       "array([ 0.        ,  0.10344828,  0.20689655,  0.31034483,  0.4137931 ,\n",
       "        0.51724138,  0.62068966,  0.72413793,  0.82758621,  0.93103448,\n",
       "        1.03448276,  1.13793103,  1.24137931,  1.34482759,  1.44827586,\n",
       "        1.55172414,  1.65517241,  1.75862069,  1.86206897,  1.96551724,\n",
       "        2.06896552,  2.17241379,  2.27586207,  2.37931034,  2.48275862,\n",
       "        2.5862069 ,  2.68965517,  2.79310345,  2.89655172,  3.        ])"
      ]
     },
     "execution_count": 14,
     "metadata": {},
     "output_type": "execute_result"
    }
   ],
   "source": [
    "xs = np.linspace(0, 3, 30)\n",
    "xs"
   ]
  },
  {
   "cell_type": "markdown",
   "metadata": {},
   "source": [
    "## 문제\n",
    "\n",
    "0부터 1사이의 구간을 균등하게 10개로 쪼개어 각 항목을 제곱하는 코드를 작성하라."
   ]
  },
  {
   "cell_type": "markdown",
   "metadata": {},
   "source": [
    "```\n",
    "\n",
    "\n",
    "\n",
    ".\n",
    "```"
   ]
  },
  {
   "cell_type": "markdown",
   "metadata": {},
   "source": [
    "견본답안:"
   ]
  },
  {
   "cell_type": "code",
   "execution_count": 15,
   "metadata": {},
   "outputs": [
    {
     "data": {
      "text/plain": [
       "array([ 0.        ,  0.01234568,  0.04938272,  0.11111111,  0.19753086,\n",
       "        0.30864198,  0.44444444,  0.60493827,  0.79012346,  1.        ])"
      ]
     },
     "execution_count": 15,
     "metadata": {},
     "output_type": "execute_result"
    }
   ],
   "source": [
    "np.linspace(0,1, 10) ** 2"
   ]
  },
  {
   "cell_type": "markdown",
   "metadata": {},
   "source": [
    "# 넘파이 활용 기초 2"
   ]
  },
  {
   "cell_type": "markdown",
   "metadata": {},
   "source": [
    "`population.txt` 파일은 1900년부터 1920년까지 캐나다 북부지역에서 서식한 산토끼(hare)와 스라소니(lynx)의 숫자, \n",
    "그리고 채소인 당근(carrot)의 재배숫자를 아래 내용으로 순수 텍스트 데이터로 담고 있다.\n",
    "\n",
    "---\n",
    "\n",
    "```\n",
    "# year\thare\tlynx\t  carrot\n",
    "1900\t30e3\t  4e3\t   48300\n",
    "1901\t47.2e3\t6.1e3\t 48200\n",
    "1902\t70.2e3\t9.8e3\t 41500\n",
    "1903\t77.4e3\t35.2e3\t38200\n",
    "1904\t36.3e3\t59.4e3\t40600\n",
    "1905\t20.6e3\t41.7e3\t39800\n",
    "1906\t18.1e3\t19e3\t  38600\n",
    "1907\t21.4e3\t13e3\t  42300\n",
    "1908\t22e3\t  8.3e3\t 44500\n",
    "1909\t25.4e3\t9.1e3\t 42100\n",
    "1910\t27.1e3\t7.4e3\t 46000\n",
    "1911\t40.3e3\t8e3\t   46800\n",
    "1912\t57e3\t  12.3e3\t43800\n",
    "1913\t76.6e3\t19.5e3\t40900\n",
    "1914\t52.3e3\t45.7e3\t39400\n",
    "1915\t19.5e3\t51.1e3\t39000\n",
    "1916\t11.2e3\t29.7e3\t36700\n",
    "1917\t7.6e3\t 15.8e3\t41800\n",
    "1918\t14.6e3\t9.7e3\t 43300\n",
    "1919\t16.2e3\t10.1e3\t41300\n",
    "1920\t24.7e3\t8.6e3\t 47300\n",
    "```\n",
    "\n",
    "---"
   ]
  },
  {
   "cell_type": "markdown",
   "metadata": {},
   "source": [
    "아래 코드는 연도, 토끼 개체수, 스라소리 개체수, 당근 개체수를 따로따로 떼어 내어 각각 어레이로 변환하여 \n",
    "`year`, `hares`, `lynxes`, `carrots` 변수에 저장하는 코드이다."
   ]
  },
  {
   "cell_type": "code",
   "execution_count": 16,
   "metadata": {
    "collapsed": true
   },
   "outputs": [],
   "source": [
    "data = np.loadtxt('populations.txt')\n",
    "year, hares, lynxes, carrots = data.T"
   ]
  },
  {
   "cell_type": "markdown",
   "metadata": {},
   "source": [
    "## 문제\n",
    "위 코드에서 `np.loadtxt` 함수의 작동방식을 간단하게 설명하라."
   ]
  },
  {
   "cell_type": "markdown",
   "metadata": {},
   "source": [
    "```\n",
    "\n",
    "\n",
    "\n",
    "\n",
    ".\n",
    "```"
   ]
  },
  {
   "cell_type": "markdown",
   "metadata": {},
   "source": [
    "## 문제\n",
    "위 코드에서 `data.T`에 대해 간단하게 설명하라."
   ]
  },
  {
   "cell_type": "markdown",
   "metadata": {},
   "source": [
    "```\n",
    "\n",
    "\n",
    "\n",
    "\n",
    ".\n",
    "```"
   ]
  },
  {
   "cell_type": "markdown",
   "metadata": {},
   "source": [
    "아래 코드는 토끼, 스라소니, 당근 각각의 개체수의 연도별 변화를 선그래프로 보여주도록 하는 코드이다."
   ]
  },
  {
   "cell_type": "code",
   "execution_count": 17,
   "metadata": {},
   "outputs": [
    {
     "data": {
      "text/plain": [
       "<matplotlib.legend.Legend at 0x113899450>"
      ]
     },
     "execution_count": 17,
     "metadata": {},
     "output_type": "execute_result"
    },
    {
     "data": {
      "image/png": "[encoded data removed]",
      "text/plain": [
       "<matplotlib.figure.Figure at 0x1139354d0>"
      ]
     },
     "metadata": {},
     "output_type": "display_data"
    }
   ],
   "source": [
    "plt.axes([0.2, 0.1, 0.5, 0.8])\n",
    "plt.plot(year, hares, year, lynxes, year, carrots)\n",
    "plt.legend(('Hare', 'Lynx', 'Carrot'), loc=(1.05, 0.5))"
   ]
  },
  {
   "cell_type": "markdown",
   "metadata": {},
   "source": [
    "## 문제\n",
    "\n",
    "위 코드에서 사용된 `plt.plot(year, hares, year, lynxes, year, carrots)` 를 간단하게 설명하라."
   ]
  },
  {
   "cell_type": "markdown",
   "metadata": {},
   "source": [
    "```\n",
    "\n",
    "\n",
    "\n",
    "\n",
    ".\n",
    "```"
   ]
  },
  {
   "cell_type": "markdown",
   "metadata": {},
   "source": [
    "## 문제\n",
    "\n",
    "산토끼, 스라소니, 당근의 예제에서 1900년부터 1921년 사이에 개체별 개체수의 변화에 대해 어떤 분석을 할 수 있는지 그래프를 이용하여 간단하게 설명하라."
   ]
  },
  {
   "cell_type": "markdown",
   "metadata": {},
   "source": [
    "```\n",
    "\n",
    "\n",
    "\n",
    "\n",
    "\n",
    ".\n",
    "```"
   ]
  }
 ],
 "metadata": {
  "kernelspec": {
   "display_name": "Python 2",
   "language": "python",
   "name": "python2"
  },
  "language_info": {
   "codemirror_mode": {
    "name": "ipython",
    "version": 2
   },
   "file_extension": ".py",
   "mimetype": "text/x-python",
   "name": "python",
   "nbconvert_exporter": "python",
   "pygments_lexer": "ipython2",
   "version": "2.7.13"
  }
 },
 "nbformat": 4,
 "nbformat_minor": 2
}
