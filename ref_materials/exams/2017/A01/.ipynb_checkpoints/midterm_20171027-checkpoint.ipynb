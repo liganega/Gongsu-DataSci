{
 "cells": [
  {
   "cell_type": "code",
   "execution_count": 1,
   "metadata": {
    "collapsed": true
   },
   "outputs": [],
   "source": [
    "from __future__ import division, print_function\n",
    "import matplotlib.pyplot as plt\n",
    "import numpy as np\n",
    "import urllib2"
   ]
  },
  {
   "cell_type": "code",
   "execution_count": 2,
   "metadata": {
    "collapsed": true
   },
   "outputs": [],
   "source": [
    "%matplotlib inline"
   ]
  },
  {
   "cell_type": "markdown",
   "metadata": {},
   "source": [
    "## 시험에서 사용하는 모듈 임포트 하기\n",
    "\n",
    "---\n",
    "```\n",
    "import urllib2\n",
    "import numpy as np\n",
    "```\n",
    "---"
   ]
  },
  {
   "cell_type": "markdown",
   "metadata": {},
   "source": [
    "# 파이썬 기본 자료형"
   ]
  },
  {
   "cell_type": "markdown",
   "metadata": {},
   "source": [
    "## 문제1.  \n",
    "\n",
    "`float`(부동소수점)를 하나 입력받아, 그 숫자를 한 변의 길이로 하는 정삼각형의 면적과 둘레의 길이를 튜플로 리턴하는 함수 `eq_triangle_length`를 구현하는 코드를 작성하라."
   ]
  },
  {
   "cell_type": "markdown",
   "metadata": {},
   "source": [
    "```\n",
    "\n",
    "\n",
    "\n",
    "\n",
    "\n",
    "\n",
    "\n",
    ".\n",
    "```"
   ]
  },
  {
   "cell_type": "markdown",
   "metadata": {},
   "source": [
    "`words` 변수가 아래와 같이 선언되어 있다.\n",
    "\n",
    "---\n",
    "```\n",
    "words = ' When you are smiling, the whole world smiles with you '\n",
    "```\n",
    "---"
   ]
  },
  {
   "cell_type": "markdown",
   "metadata": {},
   "source": [
    "# 문자열 자료형"
   ]
  },
  {
   "cell_type": "markdown",
   "metadata": {},
   "source": [
    "## 문제2. \n",
    "\n",
    "문자열 양 끝에 있는 스페이스를 삭제하고, 모든 문자를 대문자로 변화시키며, 스페이스를 기준으로 문자열을 쪼개어 다음과 같은 결과를 출력하는 코드를 작성하라.\n",
    "\n",
    "---\n",
    "```\n",
    "['WHEN',\n",
    "'YOU',\n",
    "'ARE',\n",
    "'SMILING,',\n",
    "'THE',\n",
    "'WHOLE',\n",
    "'WORLD',\n",
    "'SMILES',\n",
    "'WITH',\n",
    "'YOU']\n",
    "```\n",
    "---"
   ]
  },
  {
   "cell_type": "code",
   "execution_count": 1,
   "metadata": {
    "collapsed": true
   },
   "outputs": [],
   "source": [
    "words = ' When you are smiling, the whole world smiles with you '"
   ]
  },
  {
   "cell_type": "code",
   "execution_count": 3,
   "metadata": {},
   "outputs": [
    {
     "data": {
      "text/plain": [
       "['When',\n",
       " 'you',\n",
       " 'are',\n",
       " 'smiling,',\n",
       " 'the',\n",
       " 'whole',\n",
       " 'world',\n",
       " 'smiles',\n",
       " 'with',\n",
       " 'you']"
      ]
     },
     "execution_count": 3,
     "metadata": {},
     "output_type": "execute_result"
    }
   ],
   "source": [
    "words.split()"
   ]
  },
  {
   "cell_type": "markdown",
   "metadata": {},
   "source": [
    "```\n",
    "\n",
    "\n",
    "\n",
    "\n",
    "\n",
    "\n",
    "\n",
    ".\n",
    "```"
   ]
  },
  {
   "cell_type": "markdown",
   "metadata": {},
   "source": [
    "# 리스트 조건 제시법"
   ]
  },
  {
   "cell_type": "markdown",
   "metadata": {},
   "source": [
    "아래의 코드는 0부터 1000사이의 홀수들의 제곱의 리스트를 조건제시법으로 생성한다.\n",
    "\n",
    "---\n",
    "```\n",
    "odd_1000 = [ x**2 for x in range(0, 1000) if x%2 == 1]\n",
    "```\n",
    "---"
   ]
  },
  {
   "cell_type": "markdown",
   "metadata": {},
   "source": [
    "## 문제 3.\n",
    "\n",
    "0부터 500 사이의 숫자들 중에서 홀수이면서 3의 배수인 숫자들을 제곱한 값들의 리스트를 조건 제시법으로 생성하는 코드를 작성하라."
   ]
  },
  {
   "cell_type": "markdown",
   "metadata": {},
   "source": [
    "```\n",
    "\n",
    "\n",
    "\n",
    "\n",
    "\n",
    "\n",
    "\n",
    ".\n",
    "```"
   ]
  },
  {
   "cell_type": "markdown",
   "metadata": {},
   "source": [
    "# 넘파이 활용 기초"
   ]
  },
  {
   "cell_type": "markdown",
   "metadata": {},
   "source": [
    "넘파이 어레이를 생성하는 방법은 몇 개의 기본적인 함수를 이용하면 된다.\n",
    "\n",
    "---\n",
    "```\n",
    "np.arange()\n",
    "np.zeros()\n",
    "np.ones()\n",
    "np.diag()\n",
    "```\n",
    "---"
   ]
  },
  {
   "cell_type": "markdown",
   "metadata": {},
   "source": [
    "## 문제 4.\n",
    "\n",
    "아래의 모양의 어레이를 생성한느 코드를 작성하라. 단, 언급된 네 개의 함수들 중 필요한 함수만을 사용해야 하며, 수동으로 생성된 리스트나 어레이는 허용되지 않는다.\n",
    "\n",
    "$$\\left [ \\begin{matrix} 3 & 0 & 0 \\\\ 0 & 5 & 0 \\\\ 0 & 0 & 7 \\end{matrix} \\right ]$$"
   ]
  },
  {
   "cell_type": "markdown",
   "metadata": {},
   "source": [
    "```\n",
    "\n",
    "\n",
    "\n",
    "\n",
    "\n",
    "\n",
    "\n",
    ".\n",
    "```"
   ]
  },
  {
   "cell_type": "markdown",
   "metadata": {},
   "source": [
    "# 오류 및 예외 처리"
   ]
  },
  {
   "cell_type": "markdown",
   "metadata": {},
   "source": [
    "## 문제 5.\n",
    "아래 코드가 하는 일을 설명하라.\n",
    "\n",
    "---\n",
    "\n",
    "```\n",
    "number_to_square = raw_input(\"A number to divide 100: \")\n",
    "\n",
    "try: \n",
    "    number = float(number_to_square)\n",
    "    print(\"100을 입력한 값으로 나눈 결과는\", 100/number, \"입니다.\")\n",
    "except ZeroDivisionError:\n",
    "    raise ZeroDivisionError('0이 아닌 숫자를 입력하세요.')\n",
    "except ValueError:\n",
    "    raise ValueError('숫자를 입력하세요.')    \n",
    "```\n",
    "\n",
    "---"
   ]
  },
  {
   "cell_type": "markdown",
   "metadata": {},
   "source": [
    "```\n",
    "\n",
    "\n",
    "\n",
    "\n",
    "\n",
    "\n",
    "\n",
    ".\n",
    "```"
   ]
  },
  {
   "cell_type": "markdown",
   "metadata": {},
   "source": [
    "# 문자열 자료형"
   ]
  },
  {
   "cell_type": "markdown",
   "metadata": {},
   "source": [
    "아래 사이트는 커피 콩의 현재 시세를 보여준다.\n",
    "\n",
    "    http://beans-r-us.appspot.com/prices.html\n",
    "\n",
    "위 사이트의 내용을 html 소스코드로 보면 다음과 같으며, 검색된 시간의 커피콩의 가격은 \n",
    "`Current price of coffee beans` 문장이 담겨 있는 줄에 명시되어 있다.\n",
    "\n",
    "---\n",
    "\n",
    "```html\n",
    "<html><head><title>Welcome to the Beans'R'Us Pricing Page</title>\n",
    "<link rel=\"stylesheet\" type=\"text/css\" href=\"beansrus.css\" />\n",
    "</head><body>\n",
    "<h2>Welcome to the Beans'R'Us Pricing Page</h2>\n",
    "<p>Current price of coffee beans = <strong>$5.94</strong></p>\n",
    "<p>Price valid for 15 minutes from Sun Sep 10 12:21:58 2017.</p>\n",
    "</body></html>\n",
    "```\n",
    "\n",
    "---\n",
    "\n",
    "위의 소스코드를 웹페이지 주소만 알고 있을 때 아래와 같이 읽어드릴 수 있다.\n",
    "\n",
    "---\n",
    "```\n",
    "page = urllibs.urlopen(\"http://beans-r-us.appspot.com/prices.html\")\n",
    "text = page.read().decode(\"utf8\")\n",
    "```\n",
    "---\n",
    "\n",
    "위의 코드를 실행하면 `text` 변수에 웹페이지의 전체 내용이 하나의 문자열로 저장된다."
   ]
  },
  {
   "cell_type": "markdown",
   "metadata": {},
   "source": [
    "## 문제 6.\n",
    "이 때 `text`에 저장된 문자열에서 가격 정보를 확인하는 방법을 코드를 이용하여 설명하라."
   ]
  },
  {
   "cell_type": "markdown",
   "metadata": {},
   "source": [
    "```\n",
    "\n",
    "\n",
    "\n",
    "\n",
    "\n",
    "\n",
    "\n",
    ".\n",
    "```"
   ]
  },
  {
   "cell_type": "markdown",
   "metadata": {},
   "source": [
    "# 사전"
   ]
  },
  {
   "cell_type": "markdown",
   "metadata": {},
   "source": [
    "`record_list.txt` 파일은 여덟 명의 수영 선수의 50m 기록을 담고 있다.\n",
    "\n",
    "---\n",
    "\n",
    "```txt\n",
    "player1 21.09 \n",
    "player2 20.32 \n",
    "player3 21.81 \n",
    "player4 22.97 \n",
    "player5 23.29 \n",
    "player6 22.09 \n",
    "player7 21.20 \n",
    "player8 22.16\n",
    "```\n",
    "\n",
    "---"
   ]
  },
  {
   "cell_type": "markdown",
   "metadata": {},
   "source": [
    "## 문제 7.\n",
    "\n",
    "아래코드가 하는 일을 설명하고, 출력된 결과를 답하여라.\n",
    "\n",
    "---\n",
    "\n",
    "```python\n",
    "from __future__ import print_function\n",
    "\n",
    "record_f = open(\"record_list.txt\", 'r')\n",
    "record = record_f.read().decode('utf8').split('\\n')\n",
    "\n",
    "record_dict = {}\n",
    "\n",
    "for line in record:\n",
    "    (player, p_record) = line.split()\n",
    "    record_dict[p_record] = player\n",
    "\n",
    "record_f.close()\n",
    "\n",
    "record_list = record_dict.keys()\n",
    "record_list.sort()\n",
    "\n",
    "print(record_list)\n",
    "```    \n",
    "\n",
    "---"
   ]
  },
  {
   "cell_type": "markdown",
   "metadata": {},
   "source": [
    "```\n",
    "\n",
    "\n",
    "\n",
    "\n",
    "\n",
    "\n",
    "\n",
    "\n",
    "\n",
    ".```"
   ]
  },
  {
   "cell_type": "markdown",
   "metadata": {},
   "source": [
    "# 넘파이 활용 기초"
   ]
  },
  {
   "cell_type": "markdown",
   "metadata": {},
   "source": [
    "`population.txt` 파일은 1900년부터 1920년까지 캐나다 북부지역에서 서식한 산토끼(hare)와 스라소니(lynx)의 숫자, \n",
    "그리고 채소인 당근(carrot)의 재배숫자를 아래 내용으로 순수 텍스트 데이터로 담고 있다.\n",
    "\n",
    "---\n",
    "\n",
    "```\n",
    "# year\thare\tlynx\t  carrot\n",
    "1900\t30e3\t  4e3\t   48300\n",
    "1901\t47.2e3\t6.1e3\t 48200\n",
    "1902\t70.2e3\t9.8e3\t 41500\n",
    "1903\t77.4e3\t35.2e3\t38200\n",
    "1904\t36.3e3\t59.4e3\t40600\n",
    "1905\t20.6e3\t41.7e3\t39800\n",
    "1906\t18.1e3\t19e3\t  38600\n",
    "1907\t21.4e3\t13e3\t  42300\n",
    "1908\t22e3\t  8.3e3\t 44500\n",
    "1909\t25.4e3\t9.1e3\t 42100\n",
    "1910\t27.1e3\t7.4e3\t 46000\n",
    "1911\t40.3e3\t8e3\t   46800\n",
    "1912\t57e3\t  12.3e3\t43800\n",
    "1913\t76.6e3\t19.5e3\t40900\n",
    "1914\t52.3e3\t45.7e3\t39400\n",
    "1915\t19.5e3\t51.1e3\t39000\n",
    "1916\t11.2e3\t29.7e3\t36700\n",
    "1917\t7.6e3\t 15.8e3\t41800\n",
    "1918\t14.6e3\t9.7e3\t 43300\n",
    "1919\t16.2e3\t10.1e3\t41300\n",
    "1920\t24.7e3\t8.6e3\t 47300\n",
    "```\n",
    "\n",
    "---"
   ]
  },
  {
   "cell_type": "markdown",
   "metadata": {},
   "source": [
    "아래 코드는 연도, 토끼 개체수, 스라소리 개체수, 당근 개체수를 따로따로 떼어 내어 각각 어레이로 변환하여 \n",
    "`year`, `hares`, `lynxes`, `carrots` 변수에 저장하는 코드이다."
   ]
  },
  {
   "cell_type": "code",
   "execution_count": 16,
   "metadata": {
    "collapsed": true
   },
   "outputs": [],
   "source": [
    "data = np.loadtxt('populations.txt')\n",
    "year, hares, lynxes, carrots = data.T"
   ]
  },
  {
   "cell_type": "markdown",
   "metadata": {},
   "source": [
    "## 문제 8.\n",
    "위 코드에서 `data.T`에 대해 간단히 설명하라."
   ]
  },
  {
   "cell_type": "markdown",
   "metadata": {},
   "source": [
    "```\n",
    "\n",
    "\n",
    "\n",
    "\n",
    "\n",
    "\n",
    "\n",
    ".\n",
    "```"
   ]
  }
 ],
 "metadata": {
  "kernelspec": {
   "display_name": "Python 2",
   "language": "python",
   "name": "python2"
  },
  "language_info": {
   "codemirror_mode": {
    "name": "ipython",
    "version": 2
   },
   "file_extension": ".py",
   "mimetype": "text/x-python",
   "name": "python",
   "nbconvert_exporter": "python",
   "pygments_lexer": "ipython2",
   "version": "2.7.13"
  }
 },
 "nbformat": 4,
 "nbformat_minor": 2
}
