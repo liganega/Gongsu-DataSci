{
 "cells": [
  {
   "cell_type": "markdown",
   "metadata": {},
   "source": [
    "# 2018년 2학기 공업수학 중간고사 시험지\n",
    "```\n",
    "\n",
    "```\n",
    "**이름**:\n",
    "```\n",
    "```\n",
    "\n",
    "**학번**:\n",
    "```\n",
    "```"
   ]
  },
  {
   "cell_type": "markdown",
   "metadata": {},
   "source": [
    "## 문제1.  \n",
    "다음 코드의 출력된 결과를 답하여라.\n",
    "`a = [1, 2, [[3, 4], 5, 6, 7], (8, 9)]`\n",
    "\n",
    "1) 다음 코드의 출력된 결과를 답하여라.\n",
    "\n",
    "(1) `a[0:2]`           \n",
    "```\n",
    "\n",
    "```\n",
    "(2) `a[-1]`\n",
    "```\n",
    "\n",
    "```\n",
    "2) `3`을 출력하는 코드를 작성하라.\n",
    "```\n",
    "\n",
    "```"
   ]
  },
  {
   "cell_type": "markdown",
   "metadata": {},
   "source": [
    "```\n",
    "\n",
    "\n",
    ".\n",
    "```"
   ]
  },
  {
   "cell_type": "markdown",
   "metadata": {},
   "source": [
    "## 문제2.\n",
    "\n",
    "삼각형의 밑변의 길이와 높이를 입력받아 삼각형의 넓이를 구하는 코드를 아래와 같이 작성하였는데, 오류가 났다. 어디에서 오류가 발생하였는지를 표시한 후, 그 이유를 간단히 설명하고, 오류가 없도록 코드를 수정하여라."
   ]
  },
  {
   "cell_type": "markdown",
   "metadata": {},
   "source": [
    "---\n",
    "```\n",
    "a = input(\"삼각형의 밑변의 길이를 입력하세요: \")\n",
    "b = input(\"삼각형의 높이의 길이를 입력하세요: \")\n",
    "\n",
    "c = ab/2\n",
    "print(\"삼각형의 넓이는\", c, \"입니다.\")\n",
    "```\n",
    "---"
   ]
  },
  {
   "cell_type": "markdown",
   "metadata": {},
   "source": [
    "```\n",
    "\n",
    "\n",
    "\n",
    "\n",
    "\n",
    "\n",
    "\n",
    "\n",
    "\n",
    "\n",
    "\n",
    "\n",
    "\n",
    "\n",
    "```"
   ]
  },
  {
   "cell_type": "markdown",
   "metadata": {},
   "source": [
    "## 문제3.\n",
    "\n",
    "아래의 제시된 `100`을 입력한 값으로 나누는 코드를 완성하여라. 이때, `0`을 입력한 경우에는 `'0이 아닌 숫자를 입력하세요.'`, 숫자가 아닌 값을 입력한 경우에는 `'숫자를 입력하세요.'`를 출력하도록 만들어라.\n",
    "\n",
    "(참고 : `ZeroDivisionError`, `ValueError`) "
   ]
  },
  {
   "cell_type": "markdown",
   "metadata": {},
   "source": [
    "---\n",
    "```\n",
    "input_number = input(\"A number to divide 100: \")\n",
    "\n",
    "(1)_______________\n",
    "    number = (2) _______________\n",
    "    print(\"100을 입력한 값으로 나눈 결과는\", 100/number, \"입니다.\")\n",
    "    \n",
    "(3)_______________\n",
    "    print(\"0이 아닌 숫자를 입력하세요.\")\n",
    "    \n",
    "(4)________________\n",
    "    print(\"숫자를 입력하세요.\")\n",
    "\n",
    "```\n",
    "---"
   ]
  },
  {
   "cell_type": "markdown",
   "metadata": {},
   "source": [
    "```\n",
    "(1)\n",
    "\n",
    "\n",
    "(2)\n",
    "\n",
    "\n",
    "(3)\n",
    "\n",
    "\n",
    "(4)\n",
    "\n",
    "\n",
    "```\n"
   ]
  },
  {
   "cell_type": "markdown",
   "metadata": {},
   "source": [
    "## 문제 4.\n",
    "\n",
    "`'Seoul_pop.csv'` 파일에 아래와 같은 자료가 저장되어 있다."
   ]
  },
  {
   "cell_type": "markdown",
   "metadata": {},
   "source": [
    "\n",
    "\n",
    "```\n",
    "### 1990년부터 5년 간격으로 측정된 서울시 인구수\n",
    "# 연도, 인구수\n",
    "\n",
    "1990   10,603,250\n",
    "1995   10,217,177\n",
    "2000    9,853,972\n",
    "2005    9,762,546\n",
    "2010    9,631,482\n",
    "```\n",
    "---\n"
   ]
  },
  {
   "cell_type": "markdown",
   "metadata": {},
   "source": [
    "위 파일을 읽어서 서울의 인구 변화 추이를 선그래프로 나타내고자 코드를 작성하였다."
   ]
  },
  {
   "cell_type": "markdown",
   "metadata": {},
   "source": [
    "---\n",
    "```\n",
    "\n",
    "import matplotlib.pyplot as plt\n",
    "import csv\n",
    "\n",
    "year_list = []\n",
    "seoul_pop_list = []\n",
    "\n",
    "with open('Seoul_pop.csv') as f:\n",
    "    reader = csv.reader(f)\n",
    "    for line in reader:\n",
    "        if line[0] == '#' or len(line) == 0 :\n",
    "            continue\n",
    "        else:\n",
    "            year_list.append(line[0])\n",
    "            seoul_pop_list.append(line[1])\n",
    "        \n",
    "fig = plt.figure()\n",
    "ax = fig.add_subplot(1, 1, 1)\n",
    "plt.plot(year_list, seoul_pop_list, color = 'green', marker = 'o', linestyle = '-')\n",
    "plt.title('Seoul Population')\n",
    "plt.show()\n",
    "\n",
    "```\n",
    "\n",
    "---\n"
   ]
  },
  {
   "cell_type": "markdown",
   "metadata": {},
   "source": [
    "```\n",
    "위의 코드 중 어디에서 오류가 발생하는지를 표시한 후, 오류가 난 이유를 간단히 설명하고, 오류가 없도록 코드를 수정하여라.\n",
    "\n",
    "```"
   ]
  },
  {
   "cell_type": "markdown",
   "metadata": {},
   "source": [
    "```\n",
    "\n",
    "\n",
    "\n",
    "\n",
    "\n",
    "\n",
    "\n",
    "\n",
    "\n",
    "\n",
    "\n",
    "\n",
    "\n",
    "\n",
    "\n",
    "\n",
    "```"
   ]
  },
  {
   "cell_type": "markdown",
   "metadata": {},
   "source": [
    "## 문제 5.\n",
    "\n",
    "아래는 0부터 20사이의 홀수들을 항목으로 갖는 리스트를 조건제시법으로 생성하는 방법이다."
   ]
  },
  {
   "cell_type": "markdown",
   "metadata": {},
   "source": [
    "```\n",
    "[x for x in range(20) if x%2 == 1]\n",
    "```"
   ]
  },
  {
   "cell_type": "markdown",
   "metadata": {},
   "source": [
    "1부터 20 사이의 숫자들 중 3의 배수이거나 3으로 끝나는 숫자들의 제곱을 항목으로 갖는 리스트를 조건제시법으로 생성하는 코드를 작성하여라. "
   ]
  },
  {
   "cell_type": "markdown",
   "metadata": {},
   "source": [
    "```\n",
    "\n",
    "\n",
    "\n",
    "\n",
    "\n",
    "\n",
    "\n",
    "\n",
    "\n",
    "\n",
    "\n",
    "\n",
    "\n",
    "\n",
    "\n",
    "\n",
    "\n",
    "\n",
    "```"
   ]
  },
  {
   "cell_type": "markdown",
   "metadata": {},
   "source": [
    "## 문제 6.\n",
    "\n",
    "아래와 같은 문장이 있다.\n",
    "\n",
    "`python = \"Python is a general-purpose programming language.\"`\n",
    "\n",
    "위 문장을 아래와 같이 만드는 코드를 작성하라.\n",
    "\n",
    "`python_list = ['PYTHON', 'IS', 'A', 'GENERAL-PURPOSE', 'PROGRAMMING', 'LANGUAGE']`"
   ]
  },
  {
   "cell_type": "markdown",
   "metadata": {},
   "source": [
    "```\n",
    "\n",
    "\n",
    "\n",
    "\n",
    "\n",
    "\n",
    "\n",
    "\n",
    "\n",
    "\n",
    "\n",
    "\n",
    "```"
   ]
  },
  {
   "cell_type": "markdown",
   "metadata": {},
   "source": [
    "## 문제 7.\n",
    "\n",
    "문제 6에서 생성한 `python_list`에 들어 있는 문자열 중에서 길이가 8 이상인 것들만 리스트 형태로 출력되도록 만들어라 "
   ]
  },
  {
   "cell_type": "markdown",
   "metadata": {},
   "source": [
    "```\n",
    "\n",
    "\n",
    "\n",
    "\n",
    "\n",
    "\n",
    "\n",
    "\n",
    "\n",
    "\n",
    "\n",
    "\n",
    "```"
   ]
  },
  {
   "cell_type": "markdown",
   "metadata": {},
   "source": [
    "## 문제 8.\n",
    "\n",
    "`record_list.txt` 파일은 여덟 명의 수영 선수의 50m 기록을 담고 있다."
   ]
  },
  {
   "cell_type": "markdown",
   "metadata": {},
   "source": [
    "```\n",
    "player1 21.09\n",
    "player2 20.32\n",
    "player3 21.81\n",
    "player4 22.97\n",
    "player5 23.29\n",
    "player6 22.09\n",
    "player7 21.20\n",
    "player8 22.16\n",
    "```"
   ]
  },
  {
   "cell_type": "markdown",
   "metadata": {},
   "source": [
    "(1) 아래 코드가 하는 일을 설명하고, 출력된 결과를 답하여라."
   ]
  },
  {
   "cell_type": "markdown",
   "metadata": {},
   "source": [
    "---\n",
    "```\n",
    "record_f = open('scores_list.txt', 'r')\n",
    "record = record_f.read().split('\\n')\n",
    "\n",
    "record_dict = {}\n",
    "\n",
    "for line in record:\n",
    "    (name, score) = line.split()    \n",
    "    record_dict[score] = name\n",
    "    \n",
    "record_f.close()\n",
    "record_list = record_dict.keys()\n",
    "print(sorted(record_list))\n",
    "\n",
    "```\n",
    "---"
   ]
  },
  {
   "cell_type": "markdown",
   "metadata": {},
   "source": [
    "```\n",
    "\n",
    "\n",
    "\n",
    "\n",
    "\n",
    "\n",
    "\n",
    "\n",
    "\n",
    "\n",
    "\n",
    "\n",
    "\n",
    "\n",
    "```"
   ]
  },
  {
   "cell_type": "markdown",
   "metadata": {},
   "source": [
    "## 문제 9.\n",
    "\n",
    "`a`와 `b`를 입력받아 `a`를 `b`로 나누었을 때의 몫과 나머지를 튜플로 리턴하는 함수 `quotient_remainder()`를 구현하라.  "
   ]
  },
  {
   "cell_type": "markdown",
   "metadata": {},
   "source": [
    "```\n",
    "\n",
    "\n",
    "\n",
    "\n",
    "\n",
    "\n",
    "\n",
    "\n",
    "\n",
    "\n",
    "\n",
    "\n",
    "\n",
    "\n",
    "\n",
    "\n",
    "```"
   ]
  },
  {
   "cell_type": "markdown",
   "metadata": {},
   "source": [
    "## 문제 10.\n",
    "\n",
    "기상청에서 날씨 정보를 확인하는 프로그램을 작성하고자 한다.\n",
    "먼저 기상청 정보를 담고 있는 아래 사이트의 소스 코드를 읽어 온다."
   ]
  },
  {
   "cell_type": "markdown",
   "metadata": {},
   "source": [
    "---\n",
    "```\n",
    "import urllib.request\n",
    "\n",
    "page = urllib.request.urlopen(\"http://www.weather.go.kr/weather/forecast/mid-term-rss3.jsp?stnId-108\")\n",
    "text = page.read().decode(\"utf8\")\n",
    "\n",
    "```\n",
    "---"
   ]
  },
  {
   "cell_type": "markdown",
   "metadata": {},
   "source": [
    "읽어 온 소스코드 내용의 앞 부분을 확인하면 다음과 같다."
   ]
  },
  {
   "cell_type": "markdown",
   "metadata": {},
   "source": [
    "\n",
    "\n",
    "\n",
    "```\n",
    "'<?xml version=\"1.0\" encoding=\"utf-8\" ?>\\r\\n<rss version=\"2.0\">\\r\\n<channel>\\r\\n<title>기상청 육상 중기예보</title>\\r\\n<link>http://www.kma.go.kr/weather/forecast/mid-term_01.jsp</link>\\r\\n<description>기상청 날씨 웹서비스</description>\\r\\n<language>ko</language>\\r\\n<generator>기상청</generator>\\r\\n<pubDate>2018년 09월 12일 (수)요일 06:00</pubDate>\\r\\n <item>\\r\\n<author>기상청</author>\\r\\n<category>육상중기예보</category>\\r\\n<title>전국 육상 중기예보 - 2018년 09월 12일 (수)요일 06:00 발표</title>\\r\\n<link>http://www.kma.go.kr/weather/forecast/mid-term_01.jsp</link>\\r\\n<guid>http://www.kma.go.kr/weather/forecast/mid-term_01.jsp</guid>\\r\\n<description>\\r\\n\\t<header>\\r\\n\\t\\t<title>전국 육상중기예보</title>\\r\\n\\t\\t<tm>201809120600</tm>\\r\\n\\t\\t<wf><![CDATA[기압골의 영향으로 15일은 전국(제주도 제외)에 비가 오겠고, 그 밖의 날은 고기압의 영향으로 대체로 맑겠습니다.<br />기온은 평년(최저기온: 11~20℃, 최고기온: 23~27℃)과 비슷하거나 조금 높겠습니다.<br />강수량은 평년(3~9mm)보다 조금 많겠습니다.]]></wf>\\r\\n\\t</header>\\r\\n\\t<body>\\r\\n\\t\\t\\t\\t\\r\\n\\r\\n\\t\\t<location wl_ver=\"3\">\\r\\n\\t\\t\\t\\t<province>서울ㆍ인천ㆍ경기도</province>\\r\\n\\t\\t\\t\\t<city>서울</city>\\r\\n\\t\\t\\t\\t\\r\\n\\t\\t\\t\\t<data>\\r\\n\\t\\t\\t\\t\\t<mode>A02</mode>\\r\\n\\t\\t\\t\\t\\t<tmEf>2018-09-15 00:00</t'\n",
    "```"
   ]
  },
  {
   "cell_type": "markdown",
   "metadata": {},
   "source": [
    "아래의 코드를 완성하여 최고 기온을 출력하여라."
   ]
  },
  {
   "cell_type": "markdown",
   "metadata": {},
   "source": [
    "\n",
    "```\n",
    "where_s = \n",
    "\n",
    "where_e = \n",
    "\n",
    "text_weather = \n",
    "\n",
    "print(\"오늘의 최고 기온은\", text_weather, \"℃입니다.\")\n",
    "\n",
    "```\n",
    "---"
   ]
  },
  {
   "cell_type": "markdown",
   "metadata": {},
   "source": [
    "```\n",
    "\n",
    "\n",
    "\n",
    "\n",
    "\n",
    "\n",
    "```"
   ]
  },
  {
   "cell_type": "markdown",
   "metadata": {},
   "source": [
    "```\n",
    "\n",
    "\n",
    "\n",
    "\n",
    "\n",
    "\n",
    "\n",
    ".\n",
    "```"
   ]
  }
 ],
 "metadata": {
  "kernelspec": {
   "display_name": "Python 3",
   "language": "python",
   "name": "python3"
  },
  "language_info": {
   "codemirror_mode": {
    "name": "ipython",
    "version": 3
   },
   "file_extension": ".py",
   "mimetype": "text/x-python",
   "name": "python",
   "nbconvert_exporter": "python",
   "pygments_lexer": "ipython3",
   "version": "3.6.5"
  }
 },
 "nbformat": 4,
 "nbformat_minor": 2
}
