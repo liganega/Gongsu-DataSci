{
 "cells": [
  {
   "cell_type": "markdown",
   "metadata": {},
   "source": [
    "# 연습문제"
   ]
  },
  {
   "cell_type": "markdown",
   "metadata": {},
   "source": [
    "## 리스트 조건제시법"
   ]
  },
  {
   "cell_type": "markdown",
   "metadata": {},
   "source": [
    "### 예제\n",
    "\n",
    "섭씨 온도로 이루어진 리스트가 다음과 있다."
   ]
  },
  {
   "cell_type": "code",
   "execution_count": 1,
   "metadata": {
    "collapsed": true
   },
   "outputs": [],
   "source": [
    "Celsius = [36.2, 36.7, 47.3, 17.8]"
   ]
  },
  {
   "cell_type": "markdown",
   "metadata": {},
   "source": [
    "위 리스트를 이용하여 화씨 온도로 이루어진 리스트를 구현하는 방법은 아래와 같다."
   ]
  },
  {
   "cell_type": "code",
   "execution_count": 2,
   "metadata": {
    "collapsed": false
   },
   "outputs": [
    {
     "data": {
      "text/plain": [
       "[97.16000000000001, 98.06, 117.14, 64.03999999999999]"
      ]
     },
     "execution_count": 2,
     "metadata": {},
     "output_type": "execute_result"
    }
   ],
   "source": [
    "Fahrenheit = [1.8 * C + 32 for C in Celsius]\n",
    "Fahrenheit"
   ]
  },
  {
   "cell_type": "markdown",
   "metadata": {},
   "source": [
    "### 예제\n",
    "\n",
    "5개의 색깔과 삼각형, 사각형, 오각형 세 종류의 사물이 다음과 같이 있다."
   ]
  },
  {
   "cell_type": "code",
   "execution_count": 3,
   "metadata": {
    "collapsed": true
   },
   "outputs": [],
   "source": [
    "colors = [\"red\", \"purple\", \"yellow\", \"blue\", \"green\"]\n",
    "things = [ \"triangle\", \"rectangle\", \"pentagon\" ]"
   ]
  },
  {
   "cell_type": "markdown",
   "metadata": {},
   "source": [
    "(모양, 색깔) 형태의 튜플들의 가능한 모든 조합을 갖는 리스트를 구현하려면 다음과 할 수 있다.\n",
    "총 15가지의 조합이 가능하다."
   ]
  },
  {
   "cell_type": "code",
   "execution_count": 4,
   "metadata": {
    "collapsed": false
   },
   "outputs": [
    {
     "data": {
      "text/plain": [
       "[('triangle', 'red'),\n",
       " ('triangle', 'purple'),\n",
       " ('triangle', 'yellow'),\n",
       " ('triangle', 'blue'),\n",
       " ('triangle', 'green'),\n",
       " ('rectangle', 'red'),\n",
       " ('rectangle', 'purple'),\n",
       " ('rectangle', 'yellow'),\n",
       " ('rectangle', 'blue'),\n",
       " ('rectangle', 'green'),\n",
       " ('pentagon', 'red'),\n",
       " ('pentagon', 'purple'),\n",
       " ('pentagon', 'yellow'),\n",
       " ('pentagon', 'blue'),\n",
       " ('pentagon', 'green')]"
      ]
     },
     "execution_count": 4,
     "metadata": {},
     "output_type": "execute_result"
    }
   ],
   "source": [
    "all_combination = [(x, y) for x in things for y in colors]\n",
    "all_combination"
   ]
  },
  {
   "cell_type": "markdown",
   "metadata": {},
   "source": [
    "## 해시 테이이블 활용"
   ]
  },
  {
   "cell_type": "markdown",
   "metadata": {},
   "source": [
    "온라인 상의 아래 사이트에는 미국 해양대기청(NOAA)에서 수집하는 9천여 개의 세계 주요 도시들의 날씨 정보를 \n",
    "기상관측센터별 텍스트 파일로 저장되어 있다. \n",
    "\n",
    "[http://weather.noaa.gov/pub/data/observations/metar/decoded/](http://weather.noaa.gov/pub/data/observations/metar/decoded/)\n",
    "\n",
    "예를 들어 평택 기상관측센터의 날씨 정보는 `RKSG.TXT` 파일에 저장되어 있다. \n",
    "즉, 아래 링크를 누르면 평택의 현재 날씨 정보를 확인할 수 있다.\n",
    "\n",
    "[http://weather.noaa.gov/pub/data/observations/metar/decoded/RKSG.TXT](http://weather.noaa.gov/pub/data/observations/metar/decoded/RKSG.TXT)\n",
    "\n",
    "Lab-07의 연습1에서 특정 기상관측센터에서 수집한 날씨정보에서 섭씨온도를 추출하는 방법을 다루었는데 \n",
    "이제는 NOAA 사이트에서 제공하는 모든 도시들의 섭씨온도 정보를 쉽게 확인해주는 함수 \n",
    "`city_temperature`를 구현하고자 한다. 즉, 아래처럼 작동해야 한다. \n",
    "\n",
    "    city_temperature('RKSG') = 22\n",
    "    city_temperature('RKSI') = 20\n",
    "    \n",
    "참고로 NOAA에서 제공하는 한국에 위치한 기상관측센터별 코드는 아래 사이트에서 확인할 수 있으며, \n",
    "예를 들어 인천공항에 위치한 기상관측센터의 코드는 `RKSI`임을 사이트 주소를 통해 확인할 수 있다.\n",
    "\n",
    "[http://weather.noaa.gov/weather/KR_cc.html](http://weather.noaa.gov/weather/KR_cc.html)"
   ]
  },
  {
   "cell_type": "markdown",
   "metadata": {},
   "source": [
    "##### Lab-07, 연습 1 문제 재확인\n",
    "\n",
    "먼저 Lab-07의 연습 1에서는 평택의 온도정보를 확인하는 방법을 구현하였으며, \n",
    "이에 대한 하나의 견본 답안은 아래와 같다.\n",
    "\n",
    "    def NOAA_string():\n",
    "        url = \"http://weather.noaa.gov/pub/data\" +\\\n",
    "            \"/observations/metar/decoded/RKSG.TXT\"\n",
    "        noaa_data_string = urllib.urlopen(url).read()\n",
    "        return noaa_data_string\n",
    "\n",
    "    def NOAA_temperature(s):\n",
    "        L = s.split('\\n')\n",
    "        Line7 = L[6].split()\n",
    "        print(str(int(Line7[-2][1:])) + \" C\")\n",
    "\n",
    "이제 아래 명령어를 실행하면 평택의 섭씨온도를 확인할 수 있다. \n",
    "\n",
    "    NOAA_temperature(NOAA_string())"
   ]
  },
  {
   "cell_type": "markdown",
   "metadata": {},
   "source": [
    "## 문제\n",
    "\n",
    "`NOAA_string` 함수의 코드는 `RKSG`라는 코드명 기상관측센터, 즉 평택에 위치한 기상관측센터의 날씨정보만을 갖고 온다. \n",
    "이제 `NOAA_string` 함수를 코드명을 인자로 입력받아 해당 기상관측센터에서 수집한 날씨정보를 가져올 수 있도록 수정하라. \n",
    "예를 들어, `NOAA_string('RKSG')`는 평택의 날씨 정보를, `NOAA_string('RKSI')`는 인천공항의 \n",
    "날씨정보를 리턴해야 한다."
   ]
  },
  {
   "cell_type": "markdown",
   "metadata": {},
   "source": [
    "## 문제\n",
    "\n",
    "위 견본답안에서 사용된 `NOAA_temperature` 함수의 코드에서 `Line7` 변수의 값을 정의할 때 \n",
    "온도 정보가 해당 파일의 7번 줄에 있음을 가정한다. \n",
    "그런데 이런 가정은 매우 위험하다. \n",
    "실제로 코드명이 `CWHP`인 기상관제센터에서 확인된 날씨정보에서 온도 정보는 5번 줄에 적혀있다. \n",
    "\n",
    "[http://weather.noaa.gov/pub/data/observations/metar/decoded/CWHP.TXT](http://weather.noaa.gov/pub/data/observations/metar/decoded/CWHP.TXT)\n",
    "\n",
    "또한 `A302` 코드명을 가진 기상관제센터의 정보에서는 `Temperature`, 즉 온도 정보 자체가 없다. \n",
    "\n",
    "[http://weather.noaa.gov/pub/data/observations/metar/decoded/A302.TXT](http://weather.noaa.gov/pub/data/observations/metar/decoded/A302.TXT)\n",
    "\n",
    "`city_temperature` 함수를 구현하기 위해서는 `NOAA_temperature` 함수를 특정 숫자에 의존하지 않도록 구현해야 한다.\n",
    "\n",
    "`Temperature` 정보의 유무를 먼저 확인한 후에, 있다면 몇 번 줄에 있는지를 알아내서 활용해서 `NOAA_temperature` 함수를 구현하라. 온도정보가 존재하지 않으면 `'Info NA'`를 프린태해야 한다. `NA`는 `Not Available`의 줄임말이다.\n",
    "\n",
    "예를 들어\n",
    "\n",
    "    In [2]: NOAA_temperature(NOAA_string('RKSG'))\n",
    "    Out[2]: 22\n",
    "            \n",
    "    In [3]: NOAA_temperature(NOAA_string('RKSI'))\n",
    "    Out[3]: 20\n",
    "\n",
    "    In [3]: NOAA_temperature(NOAA_string('A302'))\n",
    "    Out[3]: 'Info NA'\n",
    "\n",
    "의 결과를 얻을 수 있어야 한다. 즉, `city_temperature` 함수는 아래와 같이 정의될 수 있다.\n",
    "\n",
    "    def city_temperature(s):\n",
    "        return NOAA_temperature(NOAA_string(s))\n",
    "\n",
    "##### 힌트: \n",
    "특정 단어가 몇 번 줄에 나타나는지를 확인하기 위해서는 `enumerate` 함수와 `find` 메소드를 활용할 수 있다. `enumerate` 함수의 활용법은 아래와 같다. \n",
    "\n",
    "    In [1]: for index, line in enumerate(['a', 'b', 'c', 'd']):\n",
    "                print(\"{} {}\").format(index, line)\n",
    "            0 a\n",
    "            1 b\n",
    "            2 c\n",
    "            3 d\n",
    "\n",
    "\n"
   ]
  },
  {
   "cell_type": "markdown",
   "metadata": {},
   "source": [
    "### 견본답안"
   ]
  },
  {
   "cell_type": "code",
   "execution_count": 5,
   "metadata": {
    "collapsed": false
   },
   "outputs": [
    {
     "name": "stdout",
     "output_type": "stream",
     "text": [
      "Info NA\n",
      "20\n"
     ]
    }
   ],
   "source": [
    "import urllib\n",
    "\n",
    "url = \"http://weather.noaa.gov/pub/data\" +\\\n",
    "    \"/observations/metar/decoded/\"\n",
    "\n",
    "def NOAA_string(s):\n",
    "    noaa_data_string = urllib.urlopen(url + s + '.TXT').read()\n",
    "    return noaa_data_string\n",
    "\n",
    "def NOAA_temperature(s):\n",
    "    if s.find(\"Temperature\") == -1:\n",
    "        return \"Info NA\"\n",
    "    else:\n",
    "        L = s.split('\\n')\n",
    "        for index, line in enumerate(L):\n",
    "            if line.find(\"Temperature\") == -1:\n",
    "                pass\n",
    "            else:\n",
    "                break\n",
    "        temp_line = L[index].split()\n",
    "        return int(float(temp_line[-2][1:]))\n",
    "\n",
    "def city_temperature(s):\n",
    "    return NOAA_temperature(NOAA_string(s))\n",
    "    \n",
    "print(city_temperature('A302'))\n",
    "print(city_temperature('RKSG'))"
   ]
  },
  {
   "cell_type": "markdown",
   "metadata": {},
   "source": [
    "# 연습문제\n",
    "\n",
    "위 연습문제에서는 NOAA 사이트에 저장된 문서를 필요할 때마다 하나씩 확인하는 함수를 구현하였다.\n",
    "이번에는 NOAA 사이트가 제공하는 모든 기상관측센터의 온도정보를 한꺼번에 가져와서 \n",
    "코드명과 섭씨온도의 쌍으로 이루어진 시퀀스 자료형을 만드는 방법을 배운다. \n",
    "\n",
    "먼저, 다시 한 번 아래 사이트를 방문해보자. 그러면 `****.TXT` 형식의 이름을 가진 수천 개의 파일을 확인할 수 있다. \n",
    "\n",
    "[http://weather.noaa.gov/pub/data/observations/metar/decoded/](http://weather.noaa.gov/pub/data/observations/metar/decoded/)\n",
    "\n",
    "정확히 9천여개의 파일이 들어 있다. (어떻게 알 수 있을까?) \n",
    "그렇다면 위 온라인상에 위치한 폴더 안에 저장되어 있는 모든 파일들의 파일명으로 이루어진 리스트를 \n",
    "만들 수는 없을까가 당연히 궁금해진다. \n",
    "\n",
    "앞서 인터넷 특정 주소에 저장된 텍스트파일을 읽어드리기 위해 `urllib` 모듈의 `urlopen` 함수를 사용하였는데, \n",
    "이제는 온라인 상의 특정 폴더 안에 저장된 파일들의 이름을 불러오는 함수가 필요하다. \n",
    "\n",
    "`requests` 모듈에 있는 `get`이라는 함수가 `urlopen` 함수와 비슷한 기능을 수행하며 온라인 상의 특정 폴더에 대한 정보를 가져온다. 아래와 같이 실행하면 위 사이트에 연결된 폴더에 대한 정보를 통으로, 즉 하나의 커다란 문자열로 가져온다. "
   ]
  },
  {
   "cell_type": "code",
   "execution_count": 6,
   "metadata": {
    "collapsed": false
   },
   "outputs": [],
   "source": [
    "import requests\n",
    "\n",
    "NOAA = 'http://weather.noaa.gov/pub/data/observations/metar/decoded/'\n",
    "city_name_info = str(requests.get(NOAA).text)"
   ]
  },
  {
   "cell_type": "code",
   "execution_count": 7,
   "metadata": {
    "collapsed": false
   },
   "outputs": [
    {
     "data": {
      "text/plain": [
       "str"
      ]
     },
     "execution_count": 7,
     "metadata": {},
     "output_type": "execute_result"
    }
   ],
   "source": [
    "type(city_name_info)"
   ]
  },
  {
   "cell_type": "markdown",
   "metadata": {},
   "source": [
    "아래 명령어를 실행하면 \n",
    "\n",
    "    print(city_name_info)\n",
    "    \n",
    "굉장히 긴 내용을 확인할 수 있다. (9천여줄이나 된다.)\n",
    "\n",
    "예를 들어 처음 부분은 아래와 같이 시작한다.\n",
    "\n",
    "======\n",
    "\n",
    "    <!DOCTYPE HTML PUBLIC \"-//W3C//DTD HTML 3.2 Final//EN\">\n",
    "    <html>\n",
    "     <head>\n",
    "      <title>Index of /pub/data/observations/metar/decoded</title>\n",
    "     </head>\n",
    "     <body>\n",
    "    <h1>Index of /pub/data/observations/metar/decoded</h1>\n",
    "    <pre><img src=\"/icons/blank.gif\" alt=\"Icon \"> <a href=\"?C=N;O=D\">Name</a>                          <a href=\"?C=M;O=A\">Last modified</a>      <a href=\"?C=S;O=A\">Size</a>  <a href=\"?C=D;O=A\">Description</a><hr><img src=\"/icons/back.gif\" alt=\"[DIR]\"> <a href=\"/pub/data/observations/metar/\">Parent Directory</a>                                   -   \n",
    "    <img src=\"/icons/text.gif\" alt=\"[TXT]\"> <a href=\"A302.TXT\">A302.TXT</a>                      09-Sep-2011 16:09  329   \n",
    "    <img src=\"/icons/text.gif\" alt=\"[TXT]\"> <a href=\"AABS.TXT\">AABS.TXT</a>                      16-Nov-2008 19:09  248   \n",
    "    <img src=\"/icons/text.gif\" alt=\"[TXT]\"> <a href=\"AAXX.TXT\">AAXX.TXT</a>                      12-Oct-2015 21:02  334   \n",
    "    \n",
    "======\n",
    "\n",
    "html을 다뤄본 적이 있다면 위 내용의 의미를 알 수 있을 것이지만 여기서는 중요하지 않다. \n",
    "우리에게 필요한 정보가 어디에 있는지만 확인할 수 있으면 충분하기 때문이다. \n",
    "\n",
    "자세히 보면 밑에서부터 세 줄은 동일한 모양을 갖추고 있다. 다만 `****.TXT` 라는 파일명만 다를 뿐이며, 바로 그 파일명들이 우리가 원하는 정보이다. \n",
    "이미 말했듯 그러한 줄이 9천여 개가 존재한다. \n",
    "\n",
    "자 이제 `city_name_info` 파일을 줄단위로 쪼개보자."
   ]
  },
  {
   "cell_type": "code",
   "execution_count": 8,
   "metadata": {
    "collapsed": true
   },
   "outputs": [],
   "source": [
    "city_name_info_line = city_name_info.split('\\n')"
   ]
  },
  {
   "cell_type": "code",
   "execution_count": 9,
   "metadata": {
    "collapsed": false
   },
   "outputs": [
    {
     "data": {
      "text/plain": [
       "list"
      ]
     },
     "execution_count": 9,
     "metadata": {},
     "output_type": "execute_result"
    }
   ],
   "source": [
    "type(city_name_info_line)"
   ]
  },
  {
   "cell_type": "code",
   "execution_count": 10,
   "metadata": {
    "collapsed": false
   },
   "outputs": [
    {
     "data": {
      "text/plain": [
       "8959"
      ]
     },
     "execution_count": 10,
     "metadata": {},
     "output_type": "execute_result"
    }
   ],
   "source": [
    "len(city_name_info_line)"
   ]
  },
  {
   "cell_type": "markdown",
   "metadata": {},
   "source": [
    "처음 몇 줄만을 확인해보자."
   ]
  },
  {
   "cell_type": "code",
   "execution_count": 11,
   "metadata": {
    "collapsed": false
   },
   "outputs": [
    {
     "data": {
      "text/plain": [
       "['<!DOCTYPE HTML PUBLIC \"-//W3C//DTD HTML 3.2 Final//EN\">',\n",
       " '<html>',\n",
       " ' <head>',\n",
       " '  <title>Index of /pub/data/observations/metar/decoded</title>',\n",
       " ' </head>',\n",
       " ' <body>',\n",
       " '<h1>Index of /pub/data/observations/metar/decoded</h1>',\n",
       " '<pre><img src=\"/icons/blank.gif\" alt=\"Icon \"> <a href=\"?C=N;O=D\">Name</a>                          <a href=\"?C=M;O=A\">Last modified</a>      <a href=\"?C=S;O=A\">Size</a>  <a href=\"?C=D;O=A\">Description</a><hr><img src=\"/icons/back.gif\" alt=\"[DIR]\"> <a href=\"/pub/data/observations/metar/\">Parent Directory</a>                                   -   ',\n",
       " '<img src=\"/icons/text.gif\" alt=\"[TXT]\"> <a href=\"A302.TXT\">A302.TXT</a>                      09-Sep-2011 16:09  329   ',\n",
       " '<img src=\"/icons/text.gif\" alt=\"[TXT]\"> <a href=\"AABS.TXT\">AABS.TXT</a>                      16-Nov-2008 19:09  248   ']"
      ]
     },
     "execution_count": 11,
     "metadata": {},
     "output_type": "execute_result"
    }
   ],
   "source": [
    "city_name_info_line[:10]"
   ]
  },
  {
   "cell_type": "markdown",
   "metadata": {},
   "source": [
    "9번 줄부터 도시 정보에 대한 파일들 정보가 들어있음을 확인 할 수 있다.\n",
    "처음 10개 도시 정보를 확인해보자."
   ]
  },
  {
   "cell_type": "code",
   "execution_count": 12,
   "metadata": {
    "collapsed": false
   },
   "outputs": [
    {
     "data": {
      "text/plain": [
       "['<img src=\"/icons/text.gif\" alt=\"[TXT]\"> <a href=\"A302.TXT\">A302.TXT</a>                      09-Sep-2011 16:09  329   ',\n",
       " '<img src=\"/icons/text.gif\" alt=\"[TXT]\"> <a href=\"AABS.TXT\">AABS.TXT</a>                      16-Nov-2008 19:09  248   ',\n",
       " '<img src=\"/icons/text.gif\" alt=\"[TXT]\"> <a href=\"AAXX.TXT\">AAXX.TXT</a>                      12-Oct-2015 21:02  334   ',\n",
       " '<img src=\"/icons/text.gif\" alt=\"[TXT]\"> <a href=\"ABBN.TXT\">ABBN.TXT</a>                      16-Mar-2011 05:44  394   ',\n",
       " '<img src=\"/icons/text.gif\" alt=\"[TXT]\"> <a href=\"AGGC.TXT\">AGGC.TXT</a>                      17-Mar-2015 05:03  424   ',\n",
       " '<img src=\"/icons/text.gif\" alt=\"[TXT]\"> <a href=\"AGGG.TXT\">AGGG.TXT</a>                      09-Sep-2015 02:08  430   ',\n",
       " '<img src=\"/icons/text.gif\" alt=\"[TXT]\"> <a href=\"AGGH.TXT\">AGGH.TXT</a>                      23-Oct-2015 05:05  493   ',\n",
       " '<img src=\"/icons/text.gif\" alt=\"[TXT]\"> <a href=\"AGGM.TXT\">AGGM.TXT</a>                      28-Aug-2015 05:06  372   ',\n",
       " '<img src=\"/icons/text.gif\" alt=\"[TXT]\"> <a href=\"AGTB.TXT\">AGTB.TXT</a>                      27-Feb-2009 10:31  364   ',\n",
       " '<img src=\"/icons/text.gif\" alt=\"[TXT]\"> <a href=\"AK15.TXT\">AK15.TXT</a>                      13-Jan-2014 13:20  356   ']"
      ]
     },
     "execution_count": 12,
     "metadata": {},
     "output_type": "execute_result"
    }
   ],
   "source": [
    "city_name_info_line[8:18]"
   ]
  },
  {
   "cell_type": "markdown",
   "metadata": {},
   "source": [
    "아래 사이트에 보이는 상위 10개 도시의 코드명 파일과 일치하는 내용을 담고 있음을 확인할 수 있다.\n",
    "\n",
    "[http://weather.noaa.gov/pub/data/observations/metar/decoded/](http://weather.noaa.gov/pub/data/observations/metar/decoded/)\n",
    "\n",
    "\n",
    "마지막 몇 줄을 확인해도 마찬가지이다. "
   ]
  },
  {
   "cell_type": "code",
   "execution_count": 13,
   "metadata": {
    "collapsed": false
   },
   "outputs": [
    {
     "data": {
      "text/plain": [
       "['<img src=\"/icons/text.gif\" alt=\"[TXT]\"> <a href=\"ZYMD.TXT\">ZYMD.TXT</a>                      19-Oct-2014 06:27  383   ',\n",
       " '<img src=\"/icons/text.gif\" alt=\"[TXT]\"> <a href=\"ZYQQ.TXT\">ZYQQ.TXT</a>                      29-Oct-2013 06:13  385   ',\n",
       " '<img src=\"/icons/text.gif\" alt=\"[TXT]\"> <a href=\"ZYTL.TXT\">ZYTL.TXT</a>                      23-Oct-2015 05:05  400   ',\n",
       " '<img src=\"/icons/text.gif\" alt=\"[TXT]\"> <a href=\"ZYTX.TXT\">ZYTX.TXT</a>                      23-Oct-2015 05:05  426   ',\n",
       " '<img src=\"/icons/text.gif\" alt=\"[TXT]\"> <a href=\"ZYYJ.TXT\">ZYYJ.TXT</a>                      27-Sep-2013 01:04  337   ',\n",
       " '<img src=\"/icons/text.gif\" alt=\"[TXT]\"> <a href=\"ZZZZ.TXT\">ZZZZ.TXT</a>                      03-Oct-2011 20:56  315   ',\n",
       " '<hr></pre>',\n",
       " '<address>Apache Server at weather.noaa.gov Port 80</address>',\n",
       " '</body></html>',\n",
       " '']"
      ]
     },
     "execution_count": 13,
     "metadata": {},
     "output_type": "execute_result"
    }
   ],
   "source": [
    "city_name_info_line[-10:]"
   ]
  },
  {
   "cell_type": "markdown",
   "metadata": {},
   "source": [
    "마지막 4줄은 역시 html 관련 정보이며 기상관측센터와 아무 상관이 없다. \n",
    "따라서 `city_name_info_line`의 8번줄에서 끝에서 5번줄까지가 도시 정보를 담은 파일들이다.\n",
    "\n",
    "    city_name_info_line[8:-4]"
   ]
  },
  {
   "cell_type": "code",
   "execution_count": 14,
   "metadata": {
    "collapsed": false
   },
   "outputs": [
    {
     "data": {
      "text/plain": [
       "['<img src=\"/icons/text.gif\" alt=\"[TXT]\"> <a href=\"ZYMD.TXT\">ZYMD.TXT</a>                      19-Oct-2014 06:27  383   ',\n",
       " '<img src=\"/icons/text.gif\" alt=\"[TXT]\"> <a href=\"ZYQQ.TXT\">ZYQQ.TXT</a>                      29-Oct-2013 06:13  385   ',\n",
       " '<img src=\"/icons/text.gif\" alt=\"[TXT]\"> <a href=\"ZYTL.TXT\">ZYTL.TXT</a>                      23-Oct-2015 05:05  400   ',\n",
       " '<img src=\"/icons/text.gif\" alt=\"[TXT]\"> <a href=\"ZYTX.TXT\">ZYTX.TXT</a>                      23-Oct-2015 05:05  426   ',\n",
       " '<img src=\"/icons/text.gif\" alt=\"[TXT]\"> <a href=\"ZYYJ.TXT\">ZYYJ.TXT</a>                      27-Sep-2013 01:04  337   ',\n",
       " '<img src=\"/icons/text.gif\" alt=\"[TXT]\"> <a href=\"ZZZZ.TXT\">ZZZZ.TXT</a>                      03-Oct-2011 20:56  315   ']"
      ]
     },
     "execution_count": 14,
     "metadata": {},
     "output_type": "execute_result"
    }
   ],
   "source": [
    "city_name_info_line[-10:-4]"
   ]
  },
  {
   "cell_type": "markdown",
   "metadata": {},
   "source": [
    "이제 `city_line_info_line`의 각 항목에서 각 도시의 코드명을 추출하기는 쉽다.\n",
    "예를 들어 첫 번째 기상관측센터의 코드명인 `A302`을 8번 줄에서 다음과 같이 추출할 수 있다."
   ]
  },
  {
   "cell_type": "code",
   "execution_count": 15,
   "metadata": {
    "collapsed": false
   },
   "outputs": [
    {
     "name": "stdout",
     "output_type": "stream",
     "text": [
      "A302\n"
     ]
    }
   ],
   "source": [
    "A302_line = city_name_info_line[8]\n",
    "num = A302_line.find('.TXT')\n",
    "print(A302_line[num-4 : num])"
   ]
  },
  {
   "cell_type": "markdown",
   "metadata": {},
   "source": [
    "위 코드에 `for`문을 적용하면 모든 도시의 코드명으로 이루어진 리스트를 생성할 수 있다."
   ]
  },
  {
   "cell_type": "code",
   "execution_count": 16,
   "metadata": {
    "collapsed": false
   },
   "outputs": [],
   "source": [
    "city_codes = []\n",
    "\n",
    "for line in city_name_info_line[8:-4]:\n",
    "    num = line.find('.TXT')\n",
    "    city_codes.append(line[num-4 : num])"
   ]
  },
  {
   "cell_type": "markdown",
   "metadata": {},
   "source": [
    "위 코드를 리스트 조건제시법으로 구현할 수도 있다."
   ]
  },
  {
   "cell_type": "code",
   "execution_count": 17,
   "metadata": {
    "collapsed": true
   },
   "outputs": [],
   "source": [
    "city_codes = [line[line.find('.TXT')-4 : line.find('.TXT')] for line in city_name_info_line[8:-4]]"
   ]
  },
  {
   "cell_type": "code",
   "execution_count": 18,
   "metadata": {
    "collapsed": false
   },
   "outputs": [
    {
     "data": {
      "text/plain": [
       "['ZYJD',\n",
       " 'ZYJM',\n",
       " 'ZYJX',\n",
       " 'ZYJZ',\n",
       " 'ZYMD',\n",
       " 'ZYQQ',\n",
       " 'ZYTL',\n",
       " 'ZYTX',\n",
       " 'ZYYJ',\n",
       " 'ZZZZ']"
      ]
     },
     "execution_count": 18,
     "metadata": {},
     "output_type": "execute_result"
    }
   ],
   "source": [
    "city_codes[-10:]"
   ]
  },
  {
   "cell_type": "code",
   "execution_count": 19,
   "metadata": {
    "collapsed": false
   },
   "outputs": [
    {
     "data": {
      "text/plain": [
       "8947"
      ]
     },
     "execution_count": 19,
     "metadata": {},
     "output_type": "execute_result"
    }
   ],
   "source": [
    "len(city_codes)"
   ]
  },
  {
   "cell_type": "markdown",
   "metadata": {},
   "source": [
    "현재 8947개의 기상관측센터의 코드명이 저장되어 있음을 확인할 수 있다.\n",
    "\n",
    "주의: 기상관측센터의 정확한 개수는 변할 수 있다."
   ]
  },
  {
   "cell_type": "markdown",
   "metadata": {},
   "source": [
    "처음 10개 기상관측센터 코드명은 아래와 같다."
   ]
  },
  {
   "cell_type": "code",
   "execution_count": 20,
   "metadata": {
    "collapsed": false
   },
   "outputs": [
    {
     "data": {
      "text/plain": [
       "['A302',\n",
       " 'AABS',\n",
       " 'AAXX',\n",
       " 'ABBN',\n",
       " 'AGGC',\n",
       " 'AGGG',\n",
       " 'AGGH',\n",
       " 'AGGM',\n",
       " 'AGTB',\n",
       " 'AK15']"
      ]
     },
     "execution_count": 20,
     "metadata": {},
     "output_type": "execute_result"
    }
   ],
   "source": [
    "city_codes[:10]"
   ]
  },
  {
   "cell_type": "markdown",
   "metadata": {
    "collapsed": false
   },
   "source": [
    "다음 단계는 코드명과 해당 도시의 온도를 쌍으로 갖는 시퀀스 자료형을 만드는 일이다. \n",
    "여기서는 리스트를 이용하는 방식과 해시 테이블을 이용하는 방식을 다룬다. "
   ]
  },
  {
   "cell_type": "markdown",
   "metadata": {},
   "source": [
    "## 문제\n",
    "\n",
    "코드명과 해당 기상관측센터에서 측정된 섭씨 온도로 이루어진 길이가 2인 리스트들의 리스트를 작성하는 코드를 구현하라.\n",
    "아래와 같은 리스트이어야 한다. \n",
    "\n",
    "    [['A302', 'Info NA'], ['AABS', 24], ['AABS', 24], .... ]"
   ]
  },
  {
   "cell_type": "markdown",
   "metadata": {},
   "source": [
    "예를 들어 처음 `num`개 기상관측센터의 이름과 온도 리스트를 생성하는 함수를 다음과 같이 만들 수 있다.\n",
    "`num`에 넣을 수 있는 최대 값은 `len(city_codes)` 이다.\n",
    "\n",
    "##### 주의: `num` 인자값으로 작은 숫자를 넣어야 한다. 그렇지 않으면 아주 긴 시간이 걸릴 수 있다."
   ]
  },
  {
   "cell_type": "markdown",
   "metadata": {},
   "source": [
    "### 견본답안"
   ]
  },
  {
   "cell_type": "code",
   "execution_count": 21,
   "metadata": {
    "collapsed": false
   },
   "outputs": [],
   "source": [
    "def city_temp_list(num):\n",
    "    L = []\n",
    "    for city in city_codes[:num]:\n",
    "        temp = city_temperature(city)\n",
    "        L.append([city, temp])\n",
    "    return L"
   ]
  },
  {
   "cell_type": "markdown",
   "metadata": {},
   "source": [
    "이제 처음 30개 기상관측센터의 정보를 저장해보자."
   ]
  },
  {
   "cell_type": "code",
   "execution_count": 22,
   "metadata": {
    "collapsed": false
   },
   "outputs": [],
   "source": [
    "List_sample30 = city_temp_list(30)"
   ]
  },
  {
   "cell_type": "markdown",
   "metadata": {},
   "source": [
    "그런 다음 특정 기상관측센터에서 측정한 온도를 확인해보자.\n",
    "먼저 처음 30개 기상관측센터의 리스트는 아래와 같다.\n",
    "\n",
    "즉, 처음 30개 기상관측센터의 정보를 확인하는 데에 10여초 정도 걸린다. \n",
    "9000여 개 전체를 확인하고자 한다면 4000초, 즉 한 시간 이상 걸린다는 계산이다. "
   ]
  },
  {
   "cell_type": "code",
   "execution_count": 23,
   "metadata": {
    "collapsed": false
   },
   "outputs": [
    {
     "data": {
      "text/plain": [
       "['A302',\n",
       " 'AABS',\n",
       " 'AAXX',\n",
       " 'ABBN',\n",
       " 'AGGC',\n",
       " 'AGGG',\n",
       " 'AGGH',\n",
       " 'AGGM',\n",
       " 'AGTB',\n",
       " 'AK15',\n",
       " 'ALJE',\n",
       " 'AMHO',\n",
       " 'AOKB',\n",
       " 'AOKN',\n",
       " 'ASEZ',\n",
       " 'ASVC',\n",
       " 'ASZE',\n",
       " 'ATAR',\n",
       " 'AVLC',\n",
       " 'AYGN',\n",
       " 'AYMH',\n",
       " 'AYMO',\n",
       " 'AYNZ',\n",
       " 'AYPY',\n",
       " 'AYVN',\n",
       " 'AYWK',\n",
       " 'AZUH',\n",
       " 'AZUM',\n",
       " 'BAAB',\n",
       " 'BDAB']"
      ]
     },
     "execution_count": 23,
     "metadata": {},
     "output_type": "execute_result"
    }
   ],
   "source": [
    "city_codes[:30]"
   ]
  },
  {
   "cell_type": "markdown",
   "metadata": {},
   "source": [
    "쌍들의 리스트에서 특정 코드명의 온도를 찾아내는 코드는 예를 들어 아래와 같다."
   ]
  },
  {
   "cell_type": "code",
   "execution_count": 24,
   "metadata": {
    "collapsed": false
   },
   "outputs": [],
   "source": [
    "def list_search(x, xs):\n",
    "    for y in xs:\n",
    "        if x == y[0]:\n",
    "            return y[1]\n",
    "        else:\n",
    "            pass    "
   ]
  },
  {
   "cell_type": "markdown",
   "metadata": {},
   "source": [
    "`list_search` 함수의 작동시간을 측정하려면 아래와 같이 실행하면 된다."
   ]
  },
  {
   "cell_type": "code",
   "execution_count": 25,
   "metadata": {
    "collapsed": false
   },
   "outputs": [
    {
     "name": "stdout",
     "output_type": "stream",
     "text": [
      "CPU times: user 9 µs, sys: 2 µs, total: 11 µs\n",
      "Wall time: 12.9 µs\n"
     ]
    },
    {
     "data": {
      "text/plain": [
       "26"
      ]
     },
     "execution_count": 25,
     "metadata": {},
     "output_type": "execute_result"
    }
   ],
   "source": [
    "%time list_search('BDAB', List_sample30)"
   ]
  },
  {
   "cell_type": "code",
   "execution_count": 26,
   "metadata": {
    "collapsed": false
   },
   "outputs": [
    {
     "name": "stdout",
     "output_type": "stream",
     "text": [
      "CPU times: user 8 µs, sys: 1 µs, total: 9 µs\n",
      "Wall time: 10 µs\n"
     ]
    }
   ],
   "source": [
    "%time list_search('ABLC', List_sample30)"
   ]
  },
  {
   "cell_type": "code",
   "execution_count": 27,
   "metadata": {
    "collapsed": false
   },
   "outputs": [
    {
     "name": "stdout",
     "output_type": "stream",
     "text": [
      "CPU times: user 5 µs, sys: 3 µs, total: 8 µs\n",
      "Wall time: 9.06 µs\n"
     ]
    },
    {
     "data": {
      "text/plain": [
       "2"
      ]
     },
     "execution_count": 27,
     "metadata": {},
     "output_type": "execute_result"
    }
   ],
   "source": [
    "%time list_search('ABBN', List_sample30)"
   ]
  },
  {
   "cell_type": "code",
   "execution_count": 28,
   "metadata": {
    "collapsed": false
   },
   "outputs": [
    {
     "name": "stdout",
     "output_type": "stream",
     "text": [
      "CPU times: user 49 µs, sys: 26 µs, total: 75 µs\n",
      "Wall time: 60.1 µs\n"
     ]
    }
   ],
   "source": [
    "%time for code in city_codes[:30]: list_search(code, List_sample30)"
   ]
  },
  {
   "cell_type": "markdown",
   "metadata": {},
   "source": [
    "30개 정보를 모두 확인하는데 총 60 마이크로 초(microsecond)가 걸린다.\n",
    "참고로 1 마이크로 초는 `10 ** -6` 초이다. \n",
    "\n",
    "주의: 시간은 사용하는 컴퓨터의 성능과 환경에 크게 차이가 날 수 있다."
   ]
  },
  {
   "cell_type": "code",
   "execution_count": 29,
   "metadata": {
    "collapsed": true
   },
   "outputs": [],
   "source": [
    "def cities(xs):\n",
    "    L = []\n",
    "    for x in xs:\n",
    "        L.append(x[x.find('.TXT') - 4: x.find('.TXT') + 4])\n",
    "    return L   "
   ]
  },
  {
   "cell_type": "markdown",
   "metadata": {},
   "source": [
    "## 문제\n",
    "\n",
    "코드명과 해당 기상관측센터에서 측정된 섭씨 온도의 정보를 해시 테이블을 이용하여 구현하는 코드를 작성하라.\n",
    "아래와 같은 사전이어야 한다.\n",
    "\n",
    "    {'A302':'Info NA', 'AABS':24, 'AABS':24, .... }"
   ]
  },
  {
   "cell_type": "markdown",
   "metadata": {},
   "source": [
    "### 견본답안"
   ]
  },
  {
   "cell_type": "code",
   "execution_count": 30,
   "metadata": {
    "collapsed": false
   },
   "outputs": [],
   "source": [
    "def city_temp_hash(num):\n",
    "    H = {}\n",
    "    for city in city_codes[:num]:\n",
    "        temp = city_temperature(city)\n",
    "        H[city] = temp\n",
    "    return H"
   ]
  },
  {
   "cell_type": "code",
   "execution_count": 31,
   "metadata": {
    "collapsed": false
   },
   "outputs": [],
   "source": [
    "Hash_sample30 = city_temp_hash(30)"
   ]
  },
  {
   "cell_type": "code",
   "execution_count": 32,
   "metadata": {
    "collapsed": false
   },
   "outputs": [
    {
     "data": {
      "text/plain": [
       "{'A302': 'Info NA',\n",
       " 'AABS': 24,\n",
       " 'AAXX': 20,\n",
       " 'ABBN': 2,\n",
       " 'AGGC': 29,\n",
       " 'AGGG': 31,\n",
       " 'AGGH': 31,\n",
       " 'AGGM': 27,\n",
       " 'AGTB': 8,\n",
       " 'AK15': -32,\n",
       " 'ALJE': 24,\n",
       " 'AMHO': 34,\n",
       " 'AOKB': 24,\n",
       " 'AOKN': 33,\n",
       " 'ASEZ': 0,\n",
       " 'ASVC': 22,\n",
       " 'ASZE': 11,\n",
       " 'ATAR': 25,\n",
       " 'AVLC': 27,\n",
       " 'AYGN': 31,\n",
       " 'AYMH': 21,\n",
       " 'AYMO': 32,\n",
       " 'AYNZ': 29,\n",
       " 'AYPY': 30,\n",
       " 'AYVN': 30,\n",
       " 'AYWK': 31,\n",
       " 'AZUH': 5,\n",
       " 'AZUM': -2,\n",
       " 'BAAB': 14,\n",
       " 'BDAB': 26}"
      ]
     },
     "execution_count": 32,
     "metadata": {},
     "output_type": "execute_result"
    }
   ],
   "source": [
    "Hash_sample30"
   ]
  },
  {
   "cell_type": "code",
   "execution_count": 33,
   "metadata": {
    "collapsed": false
   },
   "outputs": [
    {
     "name": "stdout",
     "output_type": "stream",
     "text": [
      "CPU times: user 2 µs, sys: 3 µs, total: 5 µs\n",
      "Wall time: 7.15 µs\n"
     ]
    },
    {
     "data": {
      "text/plain": [
       "26"
      ]
     },
     "execution_count": 33,
     "metadata": {},
     "output_type": "execute_result"
    }
   ],
   "source": [
    "%time Hash_sample30['BDAB']"
   ]
  },
  {
   "cell_type": "code",
   "execution_count": 34,
   "metadata": {
    "collapsed": false
   },
   "outputs": [
    {
     "name": "stdout",
     "output_type": "stream",
     "text": [
      "CPU times: user 2 µs, sys: 1 µs, total: 3 µs\n",
      "Wall time: 4.05 µs\n"
     ]
    },
    {
     "data": {
      "text/plain": [
       "27"
      ]
     },
     "execution_count": 34,
     "metadata": {},
     "output_type": "execute_result"
    }
   ],
   "source": [
    "%time Hash_sample30['AVLC']"
   ]
  },
  {
   "cell_type": "code",
   "execution_count": 35,
   "metadata": {
    "collapsed": false
   },
   "outputs": [
    {
     "name": "stdout",
     "output_type": "stream",
     "text": [
      "CPU times: user 2 µs, sys: 1e+03 ns, total: 3 µs\n",
      "Wall time: 5.01 µs\n"
     ]
    },
    {
     "data": {
      "text/plain": [
       "2"
      ]
     },
     "execution_count": 35,
     "metadata": {},
     "output_type": "execute_result"
    }
   ],
   "source": [
    "%time Hash_sample30['ABBN']"
   ]
  },
  {
   "cell_type": "code",
   "execution_count": 36,
   "metadata": {
    "collapsed": false
   },
   "outputs": [
    {
     "name": "stdout",
     "output_type": "stream",
     "text": [
      "CPU times: user 7 µs, sys: 4 µs, total: 11 µs\n",
      "Wall time: 11.9 µs\n"
     ]
    }
   ],
   "source": [
    "%time for code in city_codes[:30]: Hash_sample30[code]"
   ]
  },
  {
   "cell_type": "markdown",
   "metadata": {},
   "source": [
    "해시 테이블을 이용하였을 경우 30개의 샘플 정보를 모두 확인하는 데에 12 마이크로 초가 걸린다.\n",
    "이는 앞서 리스트를 이용한 경우보다 몇 배가 빠른 속도이다. \n",
    "리스트의 길이가 길어질 수록 속도차이는 더욱 벌어질 것이다.\n",
    "각자 확인할 수 있을 것이다."
   ]
  },
  {
   "cell_type": "markdown",
   "metadata": {},
   "source": [
    "## 문제\n",
    "\n",
    "온도 정보를 화씨(Fahrenheit)로 바꾸어 기상관측센터 코드와 화씨 온도를 쌍으로 갖는 리스트를 \n",
    "구하는 코드를 구현하면 아래와 같다. 섭씨를 화씨로 바꾸는 계산은 아래와 같다.\n",
    "\n",
    "    F = 1.8 * C + 32"
   ]
  },
  {
   "cell_type": "markdown",
   "metadata": {},
   "source": [
    "### 견본답안"
   ]
  },
  {
   "cell_type": "code",
   "execution_count": 37,
   "metadata": {
    "collapsed": false
   },
   "outputs": [],
   "source": [
    "def city_temp_list_F(num):\n",
    "    F = []\n",
    "    for center in city_temp_list(num):\n",
    "        if isinstance(center[1], int):\n",
    "          F.append([center[0], float(1.8 * center[1] + 32)])\n",
    "        else:\n",
    "          F.append([center[0], 'Info NA'])\n",
    "    return F"
   ]
  },
  {
   "cell_type": "code",
   "execution_count": 38,
   "metadata": {
    "collapsed": false
   },
   "outputs": [
    {
     "data": {
      "text/plain": [
       "[['A302', 'Info NA'],\n",
       " ['AABS', 75.2],\n",
       " ['AAXX', 68.0],\n",
       " ['ABBN', 35.6],\n",
       " ['AGGC', 84.2],\n",
       " ['AGGG', 87.80000000000001],\n",
       " ['AGGH', 87.80000000000001],\n",
       " ['AGGM', 80.6],\n",
       " ['AGTB', 46.4],\n",
       " ['AK15', -25.6]]"
      ]
     },
     "execution_count": 38,
     "metadata": {},
     "output_type": "execute_result"
    }
   ],
   "source": [
    "city_temp_list_F(10)"
   ]
  }
 ],
 "metadata": {
  "kernelspec": {
   "display_name": "Python 2",
   "language": "python",
   "name": "python2"
  },
  "language_info": {
   "codemirror_mode": {
    "name": "ipython",
    "version": 2
   },
   "file_extension": ".py",
   "mimetype": "text/x-python",
   "name": "python",
   "nbconvert_exporter": "python",
   "pygments_lexer": "ipython2",
   "version": "2.7.10"
  }
 },
 "nbformat": 4,
 "nbformat_minor": 0
}
