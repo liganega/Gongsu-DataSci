{
 "cells": [
  {
   "cell_type": "markdown",
   "metadata": {},
   "source": [
    "# Training"
   ]
  },
  {
   "cell_type": "markdown",
   "metadata": {},
   "source": [
    "training3.py 파일에 아래에 예제들에서 설명되는 함수들을 정의하라."
   ]
  },
  {
   "cell_type": "markdown",
   "metadata": {},
   "source": [
    "### 예제 1\n",
    "\n",
    "인자로 `x` 라디안(호도, radian)을 입력받아 각도(degree)로 계산하여 되돌려주는 함수 `degree(x)`를 정의하라. \n",
    "\n",
    "    `degree(x) = (x * 360) / (2 * pi)`\n",
    "    \n",
    "여기서 `pi`는 원주율을 나타내며, 라디안(호오) 설명은 아래 사이트 참조.\n",
    "\n",
    "https://namu.wiki/w/%EB%9D%BC%EB%94%94%EC%95%88\n",
    "\n",
    "활용 예:\n",
    "\n",
    "    In [ ]: degree(math.pi)\n",
    "    Out[ ]: 180.0"
   ]
  },
  {
   "cell_type": "code",
   "execution_count": 1,
   "metadata": {},
   "outputs": [
    {
     "data": {
      "text/plain": [
       "180.0"
      ]
     },
     "execution_count": 1,
     "metadata": {},
     "output_type": "execute_result"
    }
   ],
   "source": [
    "import math # math 모듈을 임포트해야 pi 값을 사용할 수 있다.\n",
    "\n",
    "def degree(x):\n",
    "    return (x *360.0) / (2 * math.pi)\n",
    "\n",
    "degree(math.pi)"
   ]
  },
  {
   "cell_type": "markdown",
   "metadata": {},
   "source": [
    "### 예제 2\n",
    "\n",
    "리스트 자료형 `xs`를 입력받아 리스트 내의 값들의 최소값 `xmin`과 최대값 `xmax` 계산하여 순서쌍 `(xmin, xmax)` 형태로 되돌려주는 함수 `min_max(xs)`를 정의하라.\n",
    "\n",
    "활용 예:\n",
    "\n",
    "    In [ ]: min_max([0, 1, 2, 10, -5, 3])\n",
    "    Out[ ]: (-5, 10)"
   ]
  },
  {
   "cell_type": "code",
   "execution_count": 2,
   "metadata": {},
   "outputs": [
    {
     "data": {
      "text/plain": [
       "-5"
      ]
     },
     "execution_count": 2,
     "metadata": {},
     "output_type": "execute_result"
    }
   ],
   "source": [
    "def min_max(xs):\n",
    "    return (min(xs), max(xs))\n",
    "\n",
    "# 튜플을 이용하여 최소값과 최대값을 쌍으로 묶어 리턴하였다.\n",
    "# 따라서 리턴값을 쪼개어 사용할 수도 있다.\n",
    "\n",
    "a, b = min_max([0, 1, 2, 10, -5, 3])\n",
    "a"
   ]
  },
  {
   "cell_type": "markdown",
   "metadata": {},
   "source": [
    "`min`과 `max` 함수는 모든 시퀀스 자료형에 활용할 수 있는 함수들이다."
   ]
  },
  {
   "cell_type": "code",
   "execution_count": 3,
   "metadata": {},
   "outputs": [
    {
     "data": {
      "text/plain": [
       "1"
      ]
     },
     "execution_count": 3,
     "metadata": {},
     "output_type": "execute_result"
    }
   ],
   "source": [
    "min((1, 20))"
   ]
  },
  {
   "cell_type": "markdown",
   "metadata": {},
   "source": [
    "파이썬에서 다루는 모든 값과 문자들을 비교할 수 있다. 많은 예제들을 테스하면서 순서에 대한 감을 익힐 필요가 있다."
   ]
  },
  {
   "cell_type": "code",
   "execution_count": 4,
   "metadata": {},
   "outputs": [
    {
     "data": {
      "text/plain": [
       "'c'"
      ]
     },
     "execution_count": 4,
     "metadata": {},
     "output_type": "execute_result"
    }
   ],
   "source": [
    "max(\"abcABC + $\")"
   ]
  },
  {
   "cell_type": "code",
   "execution_count": 5,
   "metadata": {},
   "outputs": [
    {
     "data": {
      "text/plain": [
       "' '"
      ]
     },
     "execution_count": 5,
     "metadata": {},
     "output_type": "execute_result"
    }
   ],
   "source": [
    "min(\"abcABC + $\")"
   ]
  },
  {
   "cell_type": "code",
   "execution_count": 6,
   "metadata": {},
   "outputs": [
    {
     "data": {
      "text/plain": [
       "[[1]]"
      ]
     },
     "execution_count": 6,
     "metadata": {},
     "output_type": "execute_result"
    }
   ],
   "source": [
    "max([1, 1.0, [1], (1.0), [[1]]])"
   ]
  },
  {
   "cell_type": "code",
   "execution_count": 7,
   "metadata": {},
   "outputs": [
    {
     "data": {
      "text/plain": [
       "1"
      ]
     },
     "execution_count": 7,
     "metadata": {},
     "output_type": "execute_result"
    }
   ],
   "source": [
    "min([1, 1.0, [1], (1.0), [[1]]])"
   ]
  },
  {
   "cell_type": "markdown",
   "metadata": {},
   "source": [
    "### 예제 3\n",
    "\n",
    "리스트 자료형 `xs`를 입력받아 리스트 내의 값들의 기하평균을 되돌려주는 함수 `geometric_mean(xs)`를 정의하라.\n",
    "기하평균에 대한 설명은 아래 사이트 참조할 것.\n",
    "\n",
    "https://ko.wikipedia.org/wiki/%EA%B8%B0%ED%95%98_%ED%8F%89%EA%B7%A0\n",
    "\n",
    "활용 예:\n",
    "\n",
    "    In [ ]: geometric_mean([1, 2])\n",
    "    Out[ ]: 1.4142135623730951"
   ]
  },
  {
   "cell_type": "code",
   "execution_count": 8,
   "metadata": {},
   "outputs": [
    {
     "data": {
      "text/plain": [
       "1.4142135623730951"
      ]
     },
     "execution_count": 8,
     "metadata": {},
     "output_type": "execute_result"
    }
   ],
   "source": [
    "def geometric_mean(xs):\n",
    "    g = 1.0\n",
    "    for m in xs:\n",
    "        g = g * m\n",
    "    return g ** (1.0/len(xs))\n",
    "\n",
    "geometric_mean([1,2])"
   ]
  },
  {
   "cell_type": "markdown",
   "metadata": {},
   "source": [
    "# 연습문제\n",
    "\n",
    "아래 연습문제들에서 사용되는 함수들을 lab3.py 파일로 저장하라."
   ]
  },
  {
   "cell_type": "markdown",
   "metadata": {},
   "source": [
    "### 연습문제 1\n",
    "\n",
    "다음 조건을 만족시키는 함수 `swing_time(L)` 함수를 정의하라.\n",
    "\n",
    "길이가 `L`인 진자(pendulum)가 한 번 왔다갔다 하는 데에 걸리는 시간(주기, 초단위)을 계산하여 되돌려 준다. \n",
    "진자와 주기 관련해서 아래 사이트 참조.\n",
    "\n",
    "https://ko.wikipedia.org/wiki/%EC%A7%84%EC%9E%90\n",
    "\n",
    "활용 예:\n",
    "\n",
    "    In [ ]: swing_time(1)\n",
    "    Out[ ]: 2.0060666807106475"
   ]
  },
  {
   "cell_type": "code",
   "execution_count": 9,
   "metadata": {},
   "outputs": [
    {
     "data": {
      "text/plain": [
       "2.0060666807106475"
      ]
     },
     "execution_count": 9,
     "metadata": {},
     "output_type": "execute_result"
    }
   ],
   "source": [
    "g = 9.81\n",
    "\n",
    "def swing_time(L):\n",
    "    return 2 * math.pi * math.sqrt(L / g)\n",
    "\n",
    "swing_time(1)"
   ]
  },
  {
   "cell_type": "markdown",
   "metadata": {},
   "source": [
    "### 연습문제 2\n",
    "\n",
    "음수가 아닌 정수 `n`을 입력 받아 아래 형태의 리스트를 되돌려주는 `range_squared(n)` 함수를 정의하라.\n",
    "\n",
    "    [0, 1, 4, 9, 16, 25, ..., (n-1)** 2]\n",
    "    \n",
    "`n=0`인 경우에는 비어있는 리스트를 리턴한다. \n",
    "\n",
    "활용 예:\n",
    "\n",
    "    In [ ]: range_squared(3)\n",
    "    Out[ ]: [0, 1, 4]"
   ]
  },
  {
   "cell_type": "code",
   "execution_count": 10,
   "metadata": {},
   "outputs": [
    {
     "data": {
      "text/plain": [
       "[0, 1, 4]"
      ]
     },
     "execution_count": 10,
     "metadata": {},
     "output_type": "execute_result"
    }
   ],
   "source": [
    "def range_squared(n):\n",
    "    L = []\n",
    "    for index in range(n):\n",
    "        L.append(index ** 2)\n",
    "    return L\n",
    "\n",
    "range_squared(3)"
   ]
  },
  {
   "cell_type": "markdown",
   "metadata": {},
   "source": [
    "### 연습문제 3\n",
    "\n",
    "시퀀스 자료형 `seq`가 주어졌을 때 `element` 라는 값이 `seq`에 몇 번 나타나는지를 알려주는 함수 `count(element, seq)`를 정의하라.\n",
    "\n",
    "활용 예:\n",
    "\n",
    "    In [ ]: count('dog',['dog', 'cat', 'mouse', 'dog'])\n",
    "    Out[ ]: 2\n",
    "\n",
    "    In [ ]: count(2, range(5))\n",
    "    Out[ ]: 1"
   ]
  },
  {
   "cell_type": "code",
   "execution_count": 11,
   "metadata": {},
   "outputs": [
    {
     "data": {
      "text/plain": [
       "1"
      ]
     },
     "execution_count": 11,
     "metadata": {},
     "output_type": "execute_result"
    }
   ],
   "source": [
    "def count(element, seq):\n",
    "    return seq.count(element)\n",
    "\n",
    "count(2, range(5))"
   ]
  }
 ],
 "metadata": {
  "kernelspec": {
   "display_name": "Python 2",
   "language": "python",
   "name": "python2"
  },
  "language_info": {
   "codemirror_mode": {
    "name": "ipython",
    "version": 2
   },
   "file_extension": ".py",
   "mimetype": "text/x-python",
   "name": "python",
   "nbconvert_exporter": "python",
   "pygments_lexer": "ipython2",
   "version": "2.7.13"
  }
 },
 "nbformat": 4,
 "nbformat_minor": 1
}
