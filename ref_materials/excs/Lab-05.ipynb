{
 "cells": [
  {
   "cell_type": "markdown",
   "metadata": {},
   "source": [
    "# 연습문제 \n",
    "\n",
    "아래 문제들을 해결하는 코드를 lab5.py 파일에 작성하여 제출하라."
   ]
  },
  {
   "cell_type": "markdown",
   "metadata": {},
   "source": [
    "### 연습 1\n",
    "\n",
    "스페이스로 구분된 숫자들이 저장되어 있는 파일을 인자로 받아서 각 줄별로 포함된 숫자들과 숫자들의 합을 계산하여 보여주는(`print`) 함수 `print_line_sum_of_file(filename)`을 작성하라. \n",
    "\n",
    "예제: \n",
    "\n",
    "`test.txt` 파일에 아래 내용이 들어 있다고 가정하면 아래 결과가 나와야 한다.\n",
    "\n",
    "    1 3 5 8\n",
    "    0 4 7\n",
    "    1 18\n",
    "\n",
    "\n",
    "    In [1]: print_line_sum_of_file(\"test.txt\")\n",
    "    out[1]: 1 3 5 8 17\n",
    "            0 4 7 11\n",
    "            1 18 19\n",
    "            \n",
    "주의사항: 파이썬 2.7에서 `print` 명령은 줄바꿈을 무조거 실행하도록 설정되어 있다. 줄바꾸기를 하지 않으려면 `print` 명령문 뒤에 콤마를 찍어야 한다. \n",
    "\n",
    "    In [1]: print(3), ; print(4)\n",
    "            3 4            "
   ]
  },
  {
   "cell_type": "code",
   "execution_count": 1,
   "metadata": {},
   "outputs": [
    {
     "name": "stdout",
     "output_type": "stream",
     "text": [
      "1 3 5 8 17\n",
      "0 4 7 11\n",
      "1 18 19\n"
     ]
    }
   ],
   "source": [
    "f = open(\"test.txt\", 'w')\n",
    "f.write(\"1 3 5 8\\n0 4 7\\n1 18\")\n",
    "f.close()\n",
    "\n",
    "def print_line_sum_of_file(filename):\n",
    "    g = open(\"test.txt\", 'r')\n",
    "    h = g.readlines()\n",
    "    g.close()\n",
    "    \n",
    "    for line in h:\n",
    "        sum = 0\n",
    "        k = line.split()\n",
    "        for item in k:\n",
    "            print(item),\n",
    "            sum = sum + int(item)\n",
    "        print(sum)\n",
    "\n",
    "print_line_sum_of_file(\"test.txt\")"
   ]
  }
 ],
 "metadata": {
  "kernelspec": {
   "display_name": "Python 2",
   "language": "python",
   "name": "python2"
  },
  "language_info": {
   "codemirror_mode": {
    "name": "ipython",
    "version": 2
   },
   "file_extension": ".py",
   "mimetype": "text/x-python",
   "name": "python",
   "nbconvert_exporter": "python",
   "pygments_lexer": "ipython2",
   "version": "2.7.13"
  }
 },
 "nbformat": 4,
 "nbformat_minor": 1
}
