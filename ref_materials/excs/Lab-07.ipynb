{
 "cells": [
  {
   "cell_type": "markdown",
   "metadata": {},
   "source": [
    "# 연습문제\n",
    "\n",
    "아래 문제들을 해결하는 코드를 lab07.py 파일에 작성하여 제출하라."
   ]
  },
  {
   "cell_type": "markdown",
   "metadata": {},
   "source": [
    "### 연습 1\n",
    "\n",
    "미국 해양대기청(NOAA)은 전세계 날씨를 실시간으로 제공한다. 한국의 경우 공항이 있는 도시의 날씨정보를 제공하며 평택도 포함된다. 평택의 현재 날씨 정보를 텍스트파일로 얻고자 하면 아래 [NOAA](http://weather.noaa.gov/pub/data/observations/metar/decoded/RKSG.TXT) 사이트를 클릭해서 파일을 다운로드받으면 된다.\n",
    "    \n",
    "아니면 아래 함수를 이용하여 위 링크에 연결된 파일 내용을 확인할 수 있다.\n",
    "\n",
    "    def NOAA_string():\n",
    "        url = \"http://weather.noaa.gov/pub/data\" +\\\n",
    "            \"/observations/metar/decoded/RKSG.TXT\"\n",
    "        noaa_data_string = urllib.urlopen(url).read()\n",
    "        return noaa_data_string\n",
    "        \n",
    "위 코드를 사용하려면 `urllib` 모듈을 임포트해야 한다. 위 함수를 파이썬 셸에서 실행하여 리턴값을 확인해보기 바란다. \n",
    "\n",
    "이제 아래 일을 수행하는 함수 `NOAA_temperature(s)` 함수를 작성하라.\n",
    "\n",
    "* `NOAA_string()`의 리턴값을 인자로 받아서 해당 도시의 섭씨 단위 온도의 정수값을 리턴한다. \n",
    "* 미국은 온도를 화씨(Fahrenheit) 단위로 나타내며 우리는 섭씨(Celsius) 단위를 사용한다. \n",
    "\n",
    "주의: 위 사이트는 실시간으로 날씨 정보를 제공한다. 따라서 위 링크를 누를 때마다 온도 정보가 변한다. 예를 들어 2015년 10월 16일 0시 38분에 확인한 경우 아래 처럼 확인된 평택시 온도는 섭씨 14.2이다. 따라서 `NOAA_temperature(NOAA_string())`은 `14`를 리턴해야 한다. 하지만 다른 시각에 확인하면 다른 값이 나올 수 있음에 주의해야 한다. 어떻게 섭씨에 해당하는 숫자를 끄집어 낼 수 있는지 확인해야 한다. \n",
    "\n",
    "    Pyongtaek Ab, Korea, South (RKSG) 36-56N 127-00E 16M\n",
    "    Oct 15, 2015 - 10:58 AM EDT / 2015.10.15 1458 UTC\n",
    "    Wind: Calm:0\n",
    "    Visibility: 2 mile(s):0\n",
    "    Sky conditions: partly cloudy\n",
    "    Weather: mist\n",
    "    Temperature: 57.6 F (14.2 C)\n",
    "    Dew Point: 57.6 F (14.2 C)\n",
    "    Relative Humidity: 100%\n",
    "    Pressure (altimeter): 30.11 in. Hg (1019 hPa)\n",
    "    ob: RKSG 151458Z 00000KT 2SM R32/2600FT BR SCT010 14/14 A3011 RMK AO2A SLP199 T01420142 \n",
    "    cycle: 15\n",
    "    \n",
    "힌트: 문자열 메소드 중에서 특정 부분 문자열(substring)의 위치, 즉 인덱스 번호를 확인해주는 메소드가 있다. "
   ]
  },
  {
   "cell_type": "markdown",
   "metadata": {},
   "source": [
    "#### 연습 1 견본답안 1\n",
    "\n",
    "`NOAA_string()`을 실행하여 얻어진 파일의 내용을 보면 7번째 줄에서 온도 정보를 확인할 수 있다.\n",
    "관건은 7번째 줄에서 `14.2`를 끄집어 내는 것이다. 그러려면 14.2를 유일하게 특징지울 수 있는 무언가를 찾아야 한다. \n",
    "\n",
    "방법 1: `split` 메소드 이용하기\n",
    "\n",
    "* 7번째 줄을 자세히 살피면 섭씨 온도 정보는 세 개의 스페이스 뒤에 위치한다. 이 정보를 활용할 수 있다."
   ]
  },
  {
   "cell_type": "code",
   "execution_count": 1,
   "metadata": {},
   "outputs": [
    {
     "name": "stdout",
     "output_type": "stream",
     "text": [
      "Pyongtaek Ab, Korea, South (RKSG) 36-56N 127-00E 16M\n",
      "Oct 20, 2015 - 04:55 AM EDT / 2015.10.20 0855 UTC\n",
      "Wind: from the NW (310 degrees) at 6 MPH (5 KT):0\n",
      "Visibility: 1 1/2 mile(s):0\n",
      "Sky conditions: clear\n",
      "Weather: mist\n",
      "Temperature: 68 F (20 C)\n",
      "Dew Point: 66 F (19 C)\n",
      "Relative Humidity: 93%\n",
      "Pressure (altimeter): 30 in. Hg (1015 hPa)\n",
      "Pressure tendency: 0.00 inches (0.0 hPa) higher than three hours ago\n",
      "ob: RKSG 200855Z 31005KT 1 1/2SM BR CLR 20/19 A3000 RMK SLP162 53000\n",
      "cycle: 9\n",
      "\n",
      "20 C\n"
     ]
    }
   ],
   "source": [
    "import urllib\n",
    "\n",
    "def NOAA_string():\n",
    "    url = \"http://weather.noaa.gov/pub/data\" +\\\n",
    "        \"/observations/metar/decoded/RKSG.TXT\"\n",
    "    noaa_data_string = urllib.urlopen(url).read()\n",
    "    return noaa_data_string\n",
    "\n",
    "print(NOAA_string())\n",
    "\n",
    "def NOAA_temperature(s):\n",
    "    L = s.split('\\n')\n",
    "    Line7 = L[6].split()\n",
    "    print(str(int(Line7[-2][1:])) + \" C\")\n",
    "\n",
    "NOAA_temperature(NOAA_string())"
   ]
  },
  {
   "cell_type": "markdown",
   "metadata": {},
   "source": [
    "#### 연습 1 견본답안 2\n",
    "\n",
    "* 섭씨온도를 유일하게 특징지우는 문자열을 찾아야 한다.\n",
    "* `\" F \"`가 그런 문자열이다. (`F` 양 옆으로 스페이스가 있다.)"
   ]
  },
  {
   "cell_type": "code",
   "execution_count": 2,
   "metadata": {},
   "outputs": [
    {
     "name": "stdout",
     "output_type": "stream",
     "text": [
      "20 C\n"
     ]
    }
   ],
   "source": [
    "def NOAA_temperature(s):\n",
    "    d = s.find(\" F \")\n",
    "    print(s[d+4: d+6] + \" C\")\n",
    "    \n",
    "NOAA_temperature(NOAA_string())"
   ]
  },
  {
   "cell_type": "markdown",
   "metadata": {},
   "source": [
    "### 연습 2\n",
    "\n",
    "텍스트 파일에 저장된 문장에서 특정 단어의 출현 횟수를 확인해주는 함수 `wc_sub(filename, s)` 함수를 작성하라. `wc`는 `Word Count`의 줄임말이다. \n",
    "\n",
    "힌트: `count` 메소드를 활용한다.\n",
    "\n",
    "예제 1: `data.txt` 파일 내용이 아래와 같을 경우\n",
    "\n",
    "    One Two\n",
    "    \n",
    "`wc_sub('data.txt', 'One')`는 1를 리턴한다.\n",
    "\n",
    "예제 2: `data.txt` 파일 내용이 아래와 같을 경우\n",
    "\n",
    "    One Two\n",
    "    Three Four Five\n",
    "    \n",
    "`wc_sub('data.txt', 'o')`는 2를 리턴한다.\n",
    "\n",
    "`wc_sub` 함수를 이용하여 `이상한 나라의 앨리스` 원작에 'Alice'와 'alice'란 단어가 각각 몇 번 언급되는지 확인하라. 이상한 나라의 앨리스 원작은 아래 링크에서 다운 받을 수 있다.\n",
    "\n",
    "    http://www.gutenberg.org/files/28885/28885-8.txt\n",
    "    \n",
    "위 링크를 누르면 뜨는 화면에서 `Plain Text UTF-8` 파일을 다운로드 받으면 된다. 아마도 몇 만 단어가 사용되었을 것이다.\n",
    "\n",
    "단, `filename`에 해당하는 파일이 열리지 않을 경우 `-1`을 리턴하도록 오류처리를 해야 한다. "
   ]
  },
  {
   "cell_type": "markdown",
   "metadata": {},
   "source": [
    "#### 연습 2 견본답안"
   ]
  },
  {
   "cell_type": "code",
   "execution_count": 3,
   "metadata": {},
   "outputs": [
    {
     "name": "stdout",
     "output_type": "stream",
     "text": [
      "The word 'Alice' occurs 402 times.\n",
      "The word 'alice' occurs 0 times.\n"
     ]
    }
   ],
   "source": [
    "def wc_sub(filename, s):\n",
    "    with open(filename, 'r') as f:\n",
    "        f_content = f.read()\n",
    "    return f_content.count(s)\n",
    "\n",
    "print(\"The word 'Alice' occurs {} times.\".format(wc_sub('Alice.txt', 'Alice')))\n",
    "print(\"The word 'alice' occurs {} times.\".format(wc_sub('Alice.txt', 'alice')))"
   ]
  },
  {
   "cell_type": "markdown",
   "metadata": {
    "collapsed": true
   },
   "source": [
    "### 연습 3\n",
    "\n",
    "함수 `f`와 숫자들의 리스트 `xs`를 인자로 받아 `f(x)`의 값이 `0`보다 크게 되는 `x`의 값만 추출해서 리턴하는 함수 `filtering(f, xs)`를 정의하라.\n",
    "\n",
    "예제:\n",
    "\n",
    "    In [1]: def f1(x):\n",
    "       ...:     return x * 3\n",
    "\n",
    "    In [2]: filtering(f1, [1, -2, 2, -1, 3, 5])\n",
    "    Out[2]: [1, 2, 3, 5]\n",
    "\n",
    "    In [3]: filtering(f1, [-1, -2, -3, -4, -5])\n",
    "    Out[3]: []"
   ]
  },
  {
   "cell_type": "markdown",
   "metadata": {},
   "source": [
    "#### 연습 3 견본답안"
   ]
  },
  {
   "cell_type": "code",
   "execution_count": 4,
   "metadata": {},
   "outputs": [
    {
     "data": {
      "text/plain": [
       "[1, 2, 3, 5]"
      ]
     },
     "execution_count": 4,
     "metadata": {},
     "output_type": "execute_result"
    }
   ],
   "source": [
    "def filtering(f, xs):\n",
    "    L = []\n",
    "    for x in xs:\n",
    "        if f(x) > 0:\n",
    "            L.append(x)\n",
    "    return L\n",
    "\n",
    "def f1(x):\n",
    "    return x * 3\n",
    "\n",
    "filtering(f1, [1, -2, 2, -1, 3, 5])"
   ]
  },
  {
   "cell_type": "markdown",
   "metadata": {},
   "source": [
    "##### 참조: 파이썬 내장함수 중에 `filter` 함수가 비슷한 일을 한다. 어떤 차이점이 있는지 확인해보는 것을 추천한다."
   ]
  },
  {
   "cell_type": "markdown",
   "metadata": {
    "collapsed": true
   },
   "source": [
    "### 연습 4\n",
    "\n",
    "함수 `f`와 숫자들의 리스트 `xs = [x1, ..., x_n]`를 인자로 받아 `f(xn)`들의 값의 합을 리턴하는 함수 `sum_list(f, xs)`를 정의하라. 단, `xs = []` 일 경우 `0`을 리턴한다.\n",
    "\n",
    "예제:\n",
    "\n",
    "    In [4]: def f2(x):\n",
    "       ...:     return x ** 2\n",
    "\n",
    "    In [5]: sum_list(f2, [1, -2, 2, -3,])\n",
    "    Out[5]: 18\n",
    "\n",
    "    In [6]: sum_list(f1, [-1, -2, -3, -4, -5])\n",
    "    Out[6]: -45"
   ]
  },
  {
   "cell_type": "markdown",
   "metadata": {},
   "source": [
    "#### 연습 4 견본답안"
   ]
  },
  {
   "cell_type": "code",
   "execution_count": 5,
   "metadata": {},
   "outputs": [
    {
     "name": "stdout",
     "output_type": "stream",
     "text": [
      "18\n",
      "-45\n"
     ]
    }
   ],
   "source": [
    "def sum_list(f, xs):\n",
    "    L = 0\n",
    "    for x in xs:\n",
    "        L = L + f(x)\n",
    "    return L\n",
    "\n",
    "def f2(x):\n",
    "    return x ** 2\n",
    "\n",
    "print(sum_list(f2, [1, -2, 2, -3]))\n",
    "print(sum_list(f1, [-1, -2, -3, -4, -5]))"
   ]
  },
  {
   "cell_type": "markdown",
   "metadata": {},
   "source": [
    "참조: 파이썬 내장함수 중에 `sum` 함수가 비슷한 일을 한다. 어떤 차이점이 있는지 확인해보는 것을 추천한다."
   ]
  },
  {
   "cell_type": "markdown",
   "metadata": {},
   "source": [
    "### 연습 5\n",
    "\n",
    "밑변의 길이와 높이가 각각 `a`와 `h`인 삼각형의 면적을 리턴하는 함수 `triangle_area(a, h)`를 작성하라. 그런데 삼각형의 높이 `h`는 기본값으로 `5`를 사용해야 한다. 힌트: 키워드 인자를 사용한다.\n",
    "\n",
    "예제:\n",
    "\n",
    "    In [7]: triangle_area(3)\n",
    "    Out[7]: 7.5\n",
    "\n",
    "    In [8]: triangle_area(3, 7)\n",
    "    Out[8]: 10.5"
   ]
  },
  {
   "cell_type": "markdown",
   "metadata": {},
   "source": [
    "#### 연습 5 견본답안"
   ]
  },
  {
   "cell_type": "code",
   "execution_count": 6,
   "metadata": {},
   "outputs": [
    {
     "name": "stdout",
     "output_type": "stream",
     "text": [
      "7.5\n",
      "10.5\n"
     ]
    }
   ],
   "source": [
    "def triangle_area(a, height=5):\n",
    "    return 1.0/2 * a * height\n",
    "\n",
    "print(triangle_area(3))\n",
    "print(triangle_area(3, 7))"
   ]
  },
  {
   "cell_type": "markdown",
   "metadata": {},
   "source": [
    "### 연습 6\n",
    "\n",
    "함수 `f`를 입력 받으면 아래 묘사처럼 작동하는 함수를 리턴하는 함수 `fun_2_fun(f)`를 정의하라.\n",
    "\n",
    "    fun_2_fun(f)(2) = (f(2)) ** 2\n",
    "    fun_2_fun(f)(3) = (f(3)) ** 3\n",
    "    fun_2_fun(f)(4) = (f(4)) ** 4\n",
    "    ...\n",
    "    \n",
    "주의: 함수를 입력받아 함수를 리턴하도록 작성해야 한다. \n",
    "\n",
    "힌트: 함수 안에서 `def` 키워드를 이용하여 새로운 함수를 정의할 수 있다. 그 함수는 지역함수가 된다."
   ]
  },
  {
   "cell_type": "markdown",
   "metadata": {},
   "source": [
    "#### 연습 6 견본답안 1"
   ]
  },
  {
   "cell_type": "code",
   "execution_count": 7,
   "metadata": {},
   "outputs": [
    {
     "name": "stdout",
     "output_type": "stream",
     "text": [
      "6\n",
      "36\n"
     ]
    }
   ],
   "source": [
    "def fun_2_fun(f):\n",
    "    def f_exp(n):\n",
    "        return (f(n)) ** n\n",
    "    return f_exp\n",
    "\n",
    "print(f1(2))\n",
    "print(fun_2_fun(f1)(2))"
   ]
  },
  {
   "cell_type": "markdown",
   "metadata": {},
   "source": [
    "#### 문제 핵심\n",
    "\n",
    "이 문제의 핵심은 함수를 단순히 인자로만 사용하는 것이 아니라 리턴값으로도 할용하는 것이다. 즉, 함수에 어떤 인자를 넣고 호출하였더니 어떤 함수를 리턴하는 함수를 구현해야 한다. 그리고 리턴값이 함수이므로 그 함수를 적당한 인자를 입력하여 호출할 수 있다.\n",
    "\n",
    "예를 들어 함수 `g`를 다음과 같이 정의하자."
   ]
  },
  {
   "cell_type": "code",
   "execution_count": 8,
   "metadata": {
    "collapsed": true
   },
   "outputs": [],
   "source": [
    "def exp2(x):\n",
    "    return x ** 2"
   ]
  },
  {
   "cell_type": "code",
   "execution_count": 9,
   "metadata": {
    "collapsed": true
   },
   "outputs": [],
   "source": [
    "g = fun_2_fun(exp2)"
   ]
  },
  {
   "cell_type": "markdown",
   "metadata": {},
   "source": [
    "그러면 `g`는 함수임을 확인할 수 있다."
   ]
  },
  {
   "cell_type": "code",
   "execution_count": 10,
   "metadata": {},
   "outputs": [
    {
     "data": {
      "text/plain": [
       "function"
      ]
     },
     "execution_count": 10,
     "metadata": {},
     "output_type": "execute_result"
    }
   ],
   "source": [
    "type(g)"
   ]
  },
  {
   "cell_type": "markdown",
   "metadata": {},
   "source": [
    "어떤 함수인가? `help` 를 이용하여 확인하면 다음과 같다."
   ]
  },
  {
   "cell_type": "code",
   "execution_count": 11,
   "metadata": {},
   "outputs": [
    {
     "name": "stdout",
     "output_type": "stream",
     "text": [
      "Help on function f_exp in module __main__:\n",
      "\n",
      "f_exp(n)\n",
      "\n"
     ]
    }
   ],
   "source": [
    "help(g)"
   ]
  },
  {
   "cell_type": "code",
   "execution_count": 12,
   "metadata": {},
   "outputs": [
    {
     "data": {
      "text/plain": [
       "<function __main__.f_exp>"
      ]
     },
     "execution_count": 12,
     "metadata": {},
     "output_type": "execute_result"
    }
   ],
   "source": [
    "g"
   ]
  },
  {
   "cell_type": "markdown",
   "metadata": {},
   "source": [
    "즉, 인자를 하나 받는 함수이며 `f_exp`를 이용해 정외되었음을 알 수 있다. 실제로 `g`는 아래와 같이 정의되어 있다. "
   ]
  },
  {
   "cell_type": "markdown",
   "metadata": {
    "collapsed": true
   },
   "source": [
    "`g`를 정의하기 위해 `fun_2_fun(f)` 함수를 호출할 때 사용된 인자 `f` 대신에 `exp2` 함수를 삽입하였기 때문에 `g`가 아래와 같이 정의된 함수임을 알 수 있다. \n",
    "\n",
    "    g(x) = fun_2_fun(exp2)\n",
    "         = f_exp(x)   # f_exp 를 정의할 때 exp2 가 사용됨에 중의\n",
    "         = exp2(x) ** x\n",
    "         = (x**2) ** x\n",
    "         = x ** (2*x)"
   ]
  },
  {
   "cell_type": "markdown",
   "metadata": {},
   "source": [
    "#### 연습 6 견본답안 2"
   ]
  },
  {
   "cell_type": "code",
   "execution_count": 13,
   "metadata": {},
   "outputs": [
    {
     "name": "stdout",
     "output_type": "stream",
     "text": [
      "6\n",
      "36\n"
     ]
    }
   ],
   "source": [
    "def fun_2_fun(f):\n",
    "    return lambda x: f(x) ** x\n",
    "\n",
    "print(f1(2))\n",
    "print(fun_2_fun(f1)(2))"
   ]
  }
 ],
 "metadata": {
  "kernelspec": {
   "display_name": "Python 2",
   "language": "python",
   "name": "python2"
  },
  "language_info": {
   "codemirror_mode": {
    "name": "ipython",
    "version": 2
   },
   "file_extension": ".py",
   "mimetype": "text/x-python",
   "name": "python",
   "nbconvert_exporter": "python",
   "pygments_lexer": "ipython2",
   "version": "2.7.13"
  }
 },
 "nbformat": 4,
 "nbformat_minor": 1
}
