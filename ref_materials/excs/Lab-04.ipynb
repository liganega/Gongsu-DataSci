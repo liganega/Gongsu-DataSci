{
 "cells": [
  {
   "cell_type": "markdown",
   "metadata": {},
   "source": [
    "# 연습문제 \n",
    "\n",
    "아래 문제들을 해결하는 코드를 lab4.py 파일에 작성하여 제출하라."
   ]
  },
  {
   "cell_type": "markdown",
   "metadata": {},
   "source": [
    "### 연습 1\n",
    "\n",
    "양의 정수 `n`을 입력 받아 `0`과 `n` 사이의 값을 균등하게 `n`분의 `1`로 쪼개는 숫자들의 리스트를 리턴하는 함수 `n_divide(n)`을 작성하라. (힌트: `range` 함수 활용)\n",
    "\n",
    "예제: \n",
    "\n",
    "    In [1]: n_divide(10)  \n",
    "    out[1]: [0, 0.1, 0.2, ..., 0.9, 1]"
   ]
  },
  {
   "cell_type": "code",
   "execution_count": 1,
   "metadata": {},
   "outputs": [
    {
     "data": {
      "text/plain": [
       "[0.0, 0.1, 0.2, 0.3, 0.4, 0.5, 0.6, 0.7, 0.8, 0.9, 1.0]"
      ]
     },
     "execution_count": 1,
     "metadata": {},
     "output_type": "execute_result"
    }
   ],
   "source": [
    "def n_divide(n):\n",
    "    L = []\n",
    "    for i in range(n+1):\n",
    "        L.append(i * 1.0/n)\n",
    "    return L\n",
    "\n",
    "n_divide(10)"
   ]
  },
  {
   "cell_type": "markdown",
   "metadata": {
    "collapsed": true
   },
   "source": [
    "### 연습 2\n",
    "\n",
    "문장을 인자로 받으면 문장에 사용된 단어들을 차례대로 print하는 함수 `sen2word(xs)` 함수를 정의하라.\n",
    "\n",
    "예제:\n",
    "\n",
    "    In [1]: sen2word(\"I am learning Python.\")    \n",
    "            I\n",
    "            am\n",
    "            learning\n",
    "            Python.\n"
   ]
  },
  {
   "cell_type": "code",
   "execution_count": 2,
   "metadata": {},
   "outputs": [
    {
     "name": "stdout",
     "output_type": "stream",
     "text": [
      "I\n",
      "am\n",
      "learning\n",
      "Python.\n",
      "It's\n",
      "quite\n",
      "interesting.\n"
     ]
    }
   ],
   "source": [
    "def sen2word(xs):\n",
    "    for i in xs.split():\n",
    "        print(i)\n",
    "        \n",
    "sen2word(\"I am learning Python. It's quite interesting.\")"
   ]
  },
  {
   "cell_type": "markdown",
   "metadata": {},
   "source": [
    "### 연습 3\n",
    "\n",
    "2보다 큰 양의 정수 `n`을 입력 받아 `n`개의 피보나찌 수열값으로 구성된 리스트를 리턴하는 함수 `fibo(n)` 함수를 구현하라.\n",
    "\n",
    "피보나찌 수열은 다음과 같이 정의된다. \n",
    "\n",
    "    f(0) = f(1) = 1\n",
    "    f(n+2) = f(n) + f(n+1)\n",
    "    \n",
    "예제:\n",
    "\n",
    "    In [13]: fibo(5)    \n",
    "    out[13]: [1, 1, 2, 3, 5]"
   ]
  },
  {
   "cell_type": "code",
   "execution_count": 3,
   "metadata": {},
   "outputs": [
    {
     "name": "stdout",
     "output_type": "stream",
     "text": [
      "[1, 1, 2, 3, 5, 8, 13, 21, 34, 55]\n"
     ]
    }
   ],
   "source": [
    "def fibo(n):\n",
    "    F = [1, 1]\n",
    "    for i in range(2, n):\n",
    "        F.append(F[i-1] + F[i-2])\n",
    "    return F\n",
    "\n",
    "print(fibo(10))"
   ]
  },
  {
   "cell_type": "code",
   "execution_count": 4,
   "metadata": {},
   "outputs": [
    {
     "data": {
      "text/plain": [
       "[1, 1, 2, 3, 5]"
      ]
     },
     "execution_count": 4,
     "metadata": {},
     "output_type": "execute_result"
    }
   ],
   "source": [
    "fibo(5)"
   ]
  },
  {
   "cell_type": "markdown",
   "metadata": {},
   "source": [
    "### 연습 4\n",
    "\n",
    "이름과 점수로 구성된 길이가 2인 튜플들의 리스트를 입력받으면 점수 순서대로 정렬하여 리턴하는 함수 `sort_notes(xs)`를 작성하라. 단, 성적이 가장 좋은 경우가 제일 먼저 오도록 한다.\n",
    "\n",
    "예제:\n",
    "\n",
    "    In [30]: sort_notes([(\"Lee\", 45), (\"Kim\", 30), (\"Kang\", 70), (\"Park\", 99), (\"Cho\", 65)])\n",
    "    Out[30]: [(\"Park\", 99), (\"Kang\", 70), (\"Cho\", 65), (\"Lee\", 45), (\"Kim\", 30)]"
   ]
  },
  {
   "cell_type": "code",
   "execution_count": 5,
   "metadata": {},
   "outputs": [
    {
     "data": {
      "text/plain": [
       "[('Park', 99), ('Kang', 70), ('Cho', 65), ('Lee', 45), ('Kim', 30)]"
      ]
     },
     "execution_count": 5,
     "metadata": {},
     "output_type": "execute_result"
    }
   ],
   "source": [
    "def second(t):\n",
    "    return t[1]\n",
    "\n",
    "def sort_notes(xs):\n",
    "    xs.sort(key=second, reverse=True)\n",
    "    return xs\n",
    "    \n",
    "L = [(\"Lee\", 45), (\"Kim\", 30), (\"Kang\", 70), (\"Park\", 99), (\"Cho\", 65)]\n",
    "sort_notes(L)"
   ]
  },
  {
   "cell_type": "markdown",
   "metadata": {},
   "source": [
    "### 연습 5\n",
    "\n",
    "리스트 `xs`를 입력 받아 `xs`의 항목 중에서 정수 또는 실수들만 모두 더하는 함수 `num_sum` 함수를 리턴하라. 어떠한 부작용도 발생하지 않도록 함수를 작성해야 한다.\n",
    "\n",
    "예제: \n",
    "    \n",
    "    In [19]: L = [5, 'abc', 2, [2,3]]\n",
    "             num_sum(L)\n",
    "    Out[19]: 7\n",
    "    In [20]: L\n",
    "    Out[20]: [5, 'abc', 2, [2,3]]"
   ]
  },
  {
   "cell_type": "code",
   "execution_count": 6,
   "metadata": {},
   "outputs": [
    {
     "data": {
      "text/plain": [
       "7"
      ]
     },
     "execution_count": 6,
     "metadata": {},
     "output_type": "execute_result"
    }
   ],
   "source": [
    "def num_sum(xs):\n",
    "    L = []\n",
    "    for i in xs:\n",
    "        if isinstance(i, int) or isinstance(i, float):\n",
    "            L.append(i)\n",
    "        else:\n",
    "            pass\n",
    "    return sum(L)\n",
    "\n",
    "L = [5, 'abc', 2, [2,3]]\n",
    "num_sum(L)"
   ]
  },
  {
   "cell_type": "code",
   "execution_count": 7,
   "metadata": {},
   "outputs": [
    {
     "data": {
      "text/plain": [
       "[5, 'abc', 2, [2, 3]]"
      ]
     },
     "execution_count": 7,
     "metadata": {},
     "output_type": "execute_result"
    }
   ],
   "source": [
    "L"
   ]
  }
 ],
 "metadata": {
  "kernelspec": {
   "display_name": "Python 2",
   "language": "python",
   "name": "python2"
  },
  "language_info": {
   "codemirror_mode": {
    "name": "ipython",
    "version": 2
   },
   "file_extension": ".py",
   "mimetype": "text/x-python",
   "name": "python",
   "nbconvert_exporter": "python",
   "pygments_lexer": "ipython2",
   "version": "2.7.13"
  }
 },
 "nbformat": 4,
 "nbformat_minor": 1
}
