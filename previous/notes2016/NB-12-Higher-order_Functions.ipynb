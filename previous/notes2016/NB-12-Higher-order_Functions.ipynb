{
 "cells": [
  {
   "cell_type": "markdown",
   "metadata": {},
   "source": [
    "# 고계함수(higher-order functions) 활용법"
   ]
  },
  {
   "cell_type": "markdown",
   "metadata": {},
   "source": [
    "파이썬은 함수와 메소드를 1급 객체(first-class object)로 다루며, 이는 C, C#, Java 등과 매우 다른 특징 중의 하나이다. 1급 객체는 예를 들어 함수의 인자로 사용될 수 있다. 파이썬을 제외한 기타 언어에서는 함수는 2급 객체로 구분되는 반면에 숫자, 문자열, 리스트, 튜클 등등만을 1급 객체로 다루며, 따라서 따라서 함수 자체를 다른 함수의 인자로 사용할 수 없다.\n",
    "\n",
    "C 언어의 경우 함수 포인터, Java의 경우 클래스를 활용하여 동일한 기능을 구현할 수 있다. 하지만 좀 더 복잡하며, 파이썬은 매우 간단히 함수를 활용하는 방법을 제공한다.\n",
    "\n",
    "함수를 인자로 받는 함수를 통틀어 고계함수(higher-order function)라 한다. 여기서는 함수를 다른 함수의 인자값 또는 리턴값으로 사용하는 방법을 배운다."
   ]
  },
  {
   "cell_type": "markdown",
   "metadata": {},
   "source": [
    "### 함수를 인자로 입력 받기"
   ]
  },
  {
   "cell_type": "markdown",
   "metadata": {},
   "source": [
    "숫자들의 리스트를 입력받아 각 항목의 제곱으로 이루어진 리스트를 리턴하는 함수를 작성해보자."
   ]
  },
  {
   "cell_type": "code",
   "execution_count": 1,
   "metadata": {
    "collapsed": true
   },
   "outputs": [],
   "source": [
    "def x2_list(xs):\n",
    "    L = []\n",
    "    for x in xs:\n",
    "        L.append(x**2)\n",
    "    return L"
   ]
  },
  {
   "cell_type": "code",
   "execution_count": 2,
   "metadata": {
    "collapsed": false
   },
   "outputs": [
    {
     "data": {
      "text/plain": [
       "[0, 0.25, 1, 2.25, 4, 6.25]"
      ]
     },
     "execution_count": 2,
     "metadata": {},
     "output_type": "execute_result"
    }
   ],
   "source": [
    "x2_list([0, 0.5, 1, 1.5, 2, 2.5])"
   ]
  },
  {
   "cell_type": "markdown",
   "metadata": {},
   "source": [
    "이제 숫자들의 리스트를 입력받아 각 항목의 세제곱으로 이루어진 리스트와 네제곱으로 이루어진 리스트를 리턴하는 함수들을 작성해보자."
   ]
  },
  {
   "cell_type": "code",
   "execution_count": 3,
   "metadata": {
    "collapsed": true
   },
   "outputs": [],
   "source": [
    "def x3_list(xs):\n",
    "    L = []\n",
    "    for x in xs:\n",
    "        L.append(x**3)\n",
    "    return L"
   ]
  },
  {
   "cell_type": "code",
   "execution_count": 4,
   "metadata": {
    "collapsed": true
   },
   "outputs": [],
   "source": [
    "def x4_list(xs):\n",
    "    L = []\n",
    "    for x in xs:\n",
    "        L.append(x**4)\n",
    "    return L"
   ]
  },
  {
   "cell_type": "markdown",
   "metadata": {},
   "source": [
    "이런 식으로 5승, 6승, 7승값으로 이루어진 리스트를 린터하는 함수들을 작성하려면 매번 전체코드를 복사해서 특정 부분을 수정해 주어야 한다. 그런데 이런 과정은 매우 비효율적이며 코드를 복잡하게 만든다. \n",
    "\n",
    "코드를 작성할 때 가장 주의해야 하는 것중의 하나는 변하는 부분과 변하지 않는 부분을 구분해서 따로따로 처리하는 것이다. 앞서 다룬 세 개의 함수들의 경우 각각 4번째 줄에서 사용되는 지수값에 의해서만 구분된다. 이럴 경우 아래와 같이 변화되는 부분을 일반화시켜 인자로 빼서 활용할 수 있다."
   ]
  },
  {
   "cell_type": "code",
   "execution_count": 5,
   "metadata": {
    "collapsed": true
   },
   "outputs": [],
   "source": [
    "def xn_list(n, xs):\n",
    "    L = []\n",
    "    for x in xs:\n",
    "        L.append(x**n)\n",
    "    return L"
   ]
  },
  {
   "cell_type": "markdown",
   "metadata": {},
   "source": [
    "즉, 변하는 지수갑만 따로 빼내서 인자로 활용하면 들어오는 인자값에 따라 임의의 지수승값으로 이루어진 리스트를 리턴하는 함수를 만들게 되었다. "
   ]
  },
  {
   "cell_type": "markdown",
   "metadata": {},
   "source": [
    "##### 5승 해주는 함수"
   ]
  },
  {
   "cell_type": "code",
   "execution_count": 6,
   "metadata": {
    "collapsed": false
   },
   "outputs": [
    {
     "data": {
      "text/plain": [
       "[0, 0.03125, 1, 7.59375, 32, 97.65625]"
      ]
     },
     "execution_count": 6,
     "metadata": {},
     "output_type": "execute_result"
    }
   ],
   "source": [
    "xn_list(5, [0, 0.5, 1, 1.5, 2, 2.5])"
   ]
  },
  {
   "cell_type": "markdown",
   "metadata": {},
   "source": [
    "##### 10승 해주는 함수"
   ]
  },
  {
   "cell_type": "code",
   "execution_count": 7,
   "metadata": {
    "collapsed": false
   },
   "outputs": [
    {
     "data": {
      "text/plain": [
       "[0, 0.0009765625, 1, 57.6650390625, 1024, 9536.7431640625]"
      ]
     },
     "execution_count": 7,
     "metadata": {},
     "output_type": "execute_result"
    }
   ],
   "source": [
    "xn_list(10, [0, 0.5, 1, 1.5, 2, 2.5])"
   ]
  },
  {
   "cell_type": "markdown",
   "metadata": {},
   "source": [
    "이제 `xn_list` 함수가 다음의 경우도 다룰 수 있는지 확인해보자."
   ]
  },
  {
   "cell_type": "code",
   "execution_count": 8,
   "metadata": {
    "collapsed": true
   },
   "outputs": [],
   "source": [
    "from math import *"
   ]
  },
  {
   "cell_type": "code",
   "execution_count": 9,
   "metadata": {
    "collapsed": true
   },
   "outputs": [],
   "source": [
    "def sin_list(xs):\n",
    "    L = []\n",
    "    for x in xs:\n",
    "        L.append(sin(x))\n",
    "    return L"
   ]
  },
  {
   "cell_type": "markdown",
   "metadata": {},
   "source": [
    "위 함수는 sin 함수값으로 이루어진 리스트를 리턴하는 함수이며, 불행히도 `xn_list` 함수를 이용하여 구현할 수 없다. 이유는 넷째 줄에서 변하는 부분이 `x ** n`의 꼴이 아니기 때문이다. \n",
    "\n",
    "`xn_list` 함수를 수정해서 위 경우까지 다룰 수 있으려면 단순히 지수값만이 아니라 사용되는 함수 전체를 인자로 사용해야한다. 코드를 아래와 같이 수정하면 된다."
   ]
  },
  {
   "cell_type": "code",
   "execution_count": 10,
   "metadata": {
    "collapsed": true
   },
   "outputs": [],
   "source": [
    "def fun_list(f, xs):\n",
    "    L = []\n",
    "    for x in xs:\n",
    "        L.append(f(x))\n",
    "    return L"
   ]
  },
  {
   "cell_type": "markdown",
   "metadata": {},
   "source": [
    "이제 `sin_list(xs)`가 `fun_list(sin, xs)`와 동일함을 확인할 수 있다."
   ]
  },
  {
   "cell_type": "code",
   "execution_count": 11,
   "metadata": {
    "collapsed": false
   },
   "outputs": [
    {
     "data": {
      "text/plain": [
       "[0.0,\n",
       " 0.479425538604203,\n",
       " 0.8414709848078965,\n",
       " 0.9974949866040544,\n",
       " 0.9092974268256817,\n",
       " 0.5984721441039564]"
      ]
     },
     "execution_count": 11,
     "metadata": {},
     "output_type": "execute_result"
    }
   ],
   "source": [
    "sin_list([0, 0.5, 1, 1.5, 2, 2.5])"
   ]
  },
  {
   "cell_type": "code",
   "execution_count": 12,
   "metadata": {
    "collapsed": false
   },
   "outputs": [
    {
     "data": {
      "text/plain": [
       "[0.0,\n",
       " 0.479425538604203,\n",
       " 0.8414709848078965,\n",
       " 0.9974949866040544,\n",
       " 0.9092974268256817,\n",
       " 0.5984721441039564]"
      ]
     },
     "execution_count": 12,
     "metadata": {},
     "output_type": "execute_result"
    }
   ],
   "source": [
    "fun_list(sin, [0, 0.5, 1, 1.5, 2, 2.5])"
   ]
  },
  {
   "cell_type": "code",
   "execution_count": 13,
   "metadata": {
    "collapsed": false
   },
   "outputs": [
    {
     "data": {
      "text/plain": [
       "True"
      ]
     },
     "execution_count": 13,
     "metadata": {},
     "output_type": "execute_result"
    }
   ],
   "source": [
    "fun_list(sin, [0, 0.5, 1, 1.5, 2, 2.5]) == sin_list([0, 0.5, 1, 1.5, 2, 2.5])"
   ]
  },
  {
   "cell_type": "markdown",
   "metadata": {},
   "source": [
    "따라서 `sin_list` 함수를 다음과 같이 재정의 할 수 있다."
   ]
  },
  {
   "cell_type": "code",
   "execution_count": 14,
   "metadata": {
    "collapsed": false
   },
   "outputs": [],
   "source": [
    "def sin_list_1(xs):\n",
    "    return fun_list(sin, xs)"
   ]
  },
  {
   "cell_type": "markdown",
   "metadata": {},
   "source": [
    "앞서 다뤘던 `x2_list`, `x3_list` 함수들을 `fun_list` 함수를 이용하여 구현할 수 있다."
   ]
  },
  {
   "cell_type": "code",
   "execution_count": 15,
   "metadata": {
    "collapsed": true
   },
   "outputs": [],
   "source": [
    "def x2_list_1(xs):\n",
    "    def x_2(x):\n",
    "        return x ** 2\n",
    "    return fun_list(x_2, xs)"
   ]
  },
  {
   "cell_type": "code",
   "execution_count": 16,
   "metadata": {
    "collapsed": false
   },
   "outputs": [
    {
     "data": {
      "text/plain": [
       "True"
      ]
     },
     "execution_count": 16,
     "metadata": {},
     "output_type": "execute_result"
    }
   ],
   "source": [
    "x2_list_1([0, 0.5, 1, 1.5, 2, 2.5]) == x2_list([0, 0.5, 1, 1.5, 2, 2.5])"
   ]
  },
  {
   "cell_type": "code",
   "execution_count": 17,
   "metadata": {
    "collapsed": true
   },
   "outputs": [],
   "source": [
    "def x3_list_1(xs):\n",
    "    def x_3(x):\n",
    "        return x ** 3\n",
    "    return fun_list(x_3, xs)"
   ]
  },
  {
   "cell_type": "code",
   "execution_count": 18,
   "metadata": {
    "collapsed": false
   },
   "outputs": [
    {
     "data": {
      "text/plain": [
       "True"
      ]
     },
     "execution_count": 18,
     "metadata": {},
     "output_type": "execute_result"
    }
   ],
   "source": [
    "x3_list_1([0, 0.5, 1, 1.5, 2, 2.5]) == x3_list([0, 0.5, 1, 1.5, 2, 2.5])"
   ]
  },
  {
   "cell_type": "markdown",
   "metadata": {},
   "source": [
    "앞서 다뤘던 `xn_list` 함수 또한 `fun_list` 함수를 이용하여 구현할 수 있다."
   ]
  },
  {
   "cell_type": "code",
   "execution_count": 19,
   "metadata": {
    "collapsed": true
   },
   "outputs": [],
   "source": [
    "def xn_list_1(n, xs):\n",
    "    def x_n(x):\n",
    "        return x ** n\n",
    "    return fun_list(x_n, xs)"
   ]
  },
  {
   "cell_type": "code",
   "execution_count": 20,
   "metadata": {
    "collapsed": false
   },
   "outputs": [
    {
     "data": {
      "text/plain": [
       "True"
      ]
     },
     "execution_count": 20,
     "metadata": {},
     "output_type": "execute_result"
    }
   ],
   "source": [
    "xn_list_1(5, [0, 0.5, 1, 1.5, 2, 2.5]) == xn_list(5, [0, 0.5, 1, 1.5, 2, 2.5])"
   ]
  },
  {
   "cell_type": "markdown",
   "metadata": {},
   "source": [
    "### lambda(람다) 키워드 활용법\n",
    "\n",
    "* lambda는 이름이 없는 함수를 정의할 때 사용함.\n",
    "\n",
    "* 정의되는 함수의 이름이 없으므로, 함수를 호출하고자 할 때는 함수 정의 전체를 항상 사용해야 한다.\n",
    "\n",
    "* 예제 1: 인자를 하나 받는 함수\n",
    "\n",
    "        lambda x : x ** 5 \n",
    "\n",
    "  위 함수는 아래 함수와 동일한 역할을 수행함.\n",
    "\n",
    "        def arbitrary_name1(x):\n",
    "            return x**5\n",
    "\n",
    "  즉, `arbitrary_name1(5)`는  `(lambda x : x**5)(5)`와 동일한 값임.\n",
    "\n",
    "* 예제 2: 인자를 두개 이상 받는 함수 경우는 사용되는 인자들을 콤마로 구분해서 나열하면 된다.\n",
    "\n",
    "        lambda x, y: (x + y) * 2\n",
    "        \n",
    "    위 함수는 다음 함수와 동일하다.\n",
    "    \n",
    "        def arbitrary_name2(x, y):\n",
    "            return (x + y) * 2"
   ]
  },
  {
   "cell_type": "markdown",
   "metadata": {},
   "source": [
    "##### lambda 활용 예제 1: 숫자 3을 곱하는 함수"
   ]
  },
  {
   "cell_type": "code",
   "execution_count": 21,
   "metadata": {
    "collapsed": false
   },
   "outputs": [
    {
     "data": {
      "text/plain": [
       "15"
      ]
     },
     "execution_count": 21,
     "metadata": {},
     "output_type": "execute_result"
    }
   ],
   "source": [
    "(lambda x: x*3)(5)"
   ]
  },
  {
   "cell_type": "markdown",
   "metadata": {},
   "source": [
    "위 함수는 아래 함수와 동일하다. 대신 사용법에 차이가 있음에 주의해야 한다. "
   ]
  },
  {
   "cell_type": "code",
   "execution_count": 22,
   "metadata": {
    "collapsed": false
   },
   "outputs": [
    {
     "data": {
      "text/plain": [
       "15"
      ]
     },
     "execution_count": 22,
     "metadata": {},
     "output_type": "execute_result"
    }
   ],
   "source": [
    "def fx_3(x):\n",
    "    return x * 3\n",
    "\n",
    "fx_3(5)"
   ]
  },
  {
   "cell_type": "markdown",
   "metadata": {},
   "source": [
    "##### lambda 활용 예제 2: 두개의 수를 입력 받아 더해준 후 2배를 해주는 함수"
   ]
  },
  {
   "cell_type": "code",
   "execution_count": 23,
   "metadata": {
    "collapsed": false
   },
   "outputs": [
    {
     "data": {
      "text/plain": [
       "14"
      ]
     },
     "execution_count": 23,
     "metadata": {},
     "output_type": "execute_result"
    }
   ],
   "source": [
    "(lambda x, y: (x + y) * 2)(3, 4)"
   ]
  },
  {
   "cell_type": "markdown",
   "metadata": {},
   "source": [
    "위 함수는 아래 함수와 동일하다."
   ]
  },
  {
   "cell_type": "code",
   "execution_count": 24,
   "metadata": {
    "collapsed": false
   },
   "outputs": [
    {
     "data": {
      "text/plain": [
       "14"
      ]
     },
     "execution_count": 24,
     "metadata": {},
     "output_type": "execute_result"
    }
   ],
   "source": [
    "def plus_2times(x, y):\n",
    "    return (x + y) * 2\n",
    "\n",
    "plus_2times(3, 4)"
   ]
  },
  {
   "cell_type": "markdown",
   "metadata": {},
   "source": [
    "##### lambda 활용 예제 3:\n",
    "\n",
    "앞서 `fun_list`를 이용하여 재정의한 `x2_list`, `x3_list`, `xn_list` 함수를 아래와 같이 lambda를 이용하여 재정의할 수 있다."
   ]
  },
  {
   "cell_type": "code",
   "execution_count": 25,
   "metadata": {
    "collapsed": true
   },
   "outputs": [],
   "source": [
    "def x2_list_2(xs):\n",
    "    return fun_list(lambda x : x ** 2, xs)"
   ]
  },
  {
   "cell_type": "code",
   "execution_count": 26,
   "metadata": {
    "collapsed": false
   },
   "outputs": [
    {
     "data": {
      "text/plain": [
       "True"
      ]
     },
     "execution_count": 26,
     "metadata": {},
     "output_type": "execute_result"
    }
   ],
   "source": [
    "x2_list_2([0, 0.5, 1, 1.5, 2, 2.5]) == x2_list_1([0, 0.5, 1, 1.5, 2, 2.5])"
   ]
  },
  {
   "cell_type": "code",
   "execution_count": 27,
   "metadata": {
    "collapsed": true
   },
   "outputs": [],
   "source": [
    "def x3_list_2(xs):\n",
    "    return fun_list(lambda x : x ** 3, xs)"
   ]
  },
  {
   "cell_type": "code",
   "execution_count": 28,
   "metadata": {
    "collapsed": false
   },
   "outputs": [
    {
     "data": {
      "text/plain": [
       "True"
      ]
     },
     "execution_count": 28,
     "metadata": {},
     "output_type": "execute_result"
    }
   ],
   "source": [
    "x3_list_2([0, 0.5, 1, 1.5, 2, 2.5]) == x3_list_1([0, 0.5, 1, 1.5, 2, 2.5])"
   ]
  },
  {
   "cell_type": "code",
   "execution_count": 29,
   "metadata": {
    "collapsed": true
   },
   "outputs": [],
   "source": [
    "def xn_list_2(n, xs):\n",
    "    return fun_list(lambda x : x ** n, xs)"
   ]
  },
  {
   "cell_type": "code",
   "execution_count": 30,
   "metadata": {
    "collapsed": false
   },
   "outputs": [
    {
     "data": {
      "text/plain": [
       "True"
      ]
     },
     "execution_count": 30,
     "metadata": {},
     "output_type": "execute_result"
    }
   ],
   "source": [
    "xn_list_2(5, [0, 0.5, 1, 1.5, 2, 2.5]) == xn_list_1(5, [0, 0.5, 1, 1.5, 2, 2.5])"
   ]
  },
  {
   "cell_type": "markdown",
   "metadata": {},
   "source": [
    "### 연습문제 1\n",
    "\n",
    "함수를 입력 받아 `x = {0, 0.5, 1, 1.5, 2, 2.5}`에 해당하는 좌표들을 프린트하는 함수 `fun_table(f)`를 작성하라."
   ]
  },
  {
   "cell_type": "raw",
   "metadata": {},
   "source": [
    "견본답안"
   ]
  },
  {
   "cell_type": "code",
   "execution_count": 31,
   "metadata": {
    "collapsed": true
   },
   "outputs": [],
   "source": [
    "def fun_table(f):\n",
    "    for i in range(6):\n",
    "        x = i * 0.5\n",
    "        print(\"{} {}\").format(x, f(x))"
   ]
  },
  {
   "cell_type": "markdown",
   "metadata": {},
   "source": [
    "견본답안 활용 예제"
   ]
  },
  {
   "cell_type": "code",
   "execution_count": 32,
   "metadata": {
    "collapsed": true
   },
   "outputs": [],
   "source": [
    "# 제곱과 세제곱 함수\n",
    "\n",
    "def square(x): return x ** 2\n",
    "def cubic(x): return x ** 3"
   ]
  },
  {
   "cell_type": "code",
   "execution_count": 33,
   "metadata": {
    "collapsed": false
   },
   "outputs": [
    {
     "name": "stdout",
     "output_type": "stream",
     "text": [
      "Square\n",
      "0.0 0.0\n",
      "0.5 0.25\n",
      "1.0 1.0\n",
      "1.5 2.25\n",
      "2.0 4.0\n",
      "2.5 6.25\n"
     ]
    }
   ],
   "source": [
    "print(\"Square\")\n",
    "fun_table(square)"
   ]
  },
  {
   "cell_type": "code",
   "execution_count": 34,
   "metadata": {
    "collapsed": false
   },
   "outputs": [
    {
     "name": "stdout",
     "output_type": "stream",
     "text": [
      "Cubic\n",
      "0.0 0.0\n",
      "0.5 0.125\n",
      "1.0 1.0\n",
      "1.5 3.375\n",
      "2.0 8.0\n",
      "2.5 15.625\n"
     ]
    }
   ],
   "source": [
    "print(\"Cubic\"); fun_table(cubic)"
   ]
  },
  {
   "cell_type": "markdown",
   "metadata": {},
   "source": [
    "### 함수를 리턴값으로 사용하기\n",
    "\n",
    "함수를 하나의 값으로 취급할 수 있으므로 함수를 리턴값으로 갖는 함수를 정의할 수 있다.\n",
    "\n",
    "아래에서 정의된 `linear_fun(a, b)` 함수는 두 개의 실수 `a, b`를 입력받아 일차함수인 \n",
    "    \n",
    "    linear(x) = a * x + b\n",
    "    \n",
    "를 리턴한다. "
   ]
  },
  {
   "cell_type": "code",
   "execution_count": 35,
   "metadata": {
    "collapsed": true
   },
   "outputs": [],
   "source": [
    "def linear_fun(a, b):\n",
    "    def linear(x):\n",
    "        return a * x + b\n",
    "    return linear"
   ]
  },
  {
   "cell_type": "markdown",
   "metadata": {},
   "source": [
    "`linear_fun(a, b)`의 리턴값을 사용하는 방법은 함수를 호출하는 것과 동일하다."
   ]
  },
  {
   "cell_type": "code",
   "execution_count": 36,
   "metadata": {
    "collapsed": false
   },
   "outputs": [
    {
     "data": {
      "text/plain": [
       "13"
      ]
     },
     "execution_count": 36,
     "metadata": {},
     "output_type": "execute_result"
    }
   ],
   "source": [
    "g = linear_fun(2, 3)\n",
    "g(5)"
   ]
  },
  {
   "cell_type": "markdown",
   "metadata": {},
   "source": [
    "위 코드에서 `g(x) = 2*x + 3` 함수를 의미하게 된다."
   ]
  },
  {
   "cell_type": "markdown",
   "metadata": {},
   "source": [
    "### 함수들의 리스트\n",
    "\n",
    "함수를 1급 객체(first-class object)로 다룰 수 있다는 것은 함수들의 리스트를 만들 수 있다는 것도 포함한다. "
   ]
  },
  {
   "cell_type": "code",
   "execution_count": 37,
   "metadata": {
    "collapsed": true
   },
   "outputs": [],
   "source": [
    "funs = [sin, cos]"
   ]
  },
  {
   "cell_type": "markdown",
   "metadata": {},
   "source": [
    "함수들의 리스트 역시 자료형은 `list`이다."
   ]
  },
  {
   "cell_type": "code",
   "execution_count": 38,
   "metadata": {
    "collapsed": false
   },
   "outputs": [
    {
     "data": {
      "text/plain": [
       "list"
      ]
     },
     "execution_count": 38,
     "metadata": {},
     "output_type": "execute_result"
    }
   ],
   "source": [
    "type(funs)"
   ]
  },
  {
   "cell_type": "markdown",
   "metadata": {},
   "source": [
    "이제 `Square` 함수와 `Cubic` 함수의 테이블을 연속으로 보여줄 수 있다. "
   ]
  },
  {
   "cell_type": "code",
   "execution_count": 39,
   "metadata": {
    "collapsed": false
   },
   "outputs": [
    {
     "name": "stdout",
     "output_type": "stream",
     "text": [
      "<built-in function sin>\n",
      "0.0 0.0\n",
      "0.5 0.479425538604\n",
      "1.0 0.841470984808\n",
      "1.5 0.997494986604\n",
      "2.0 0.909297426826\n",
      "2.5 0.598472144104\n",
      "<built-in function cos>\n",
      "0.0 1.0\n",
      "0.5 0.87758256189\n",
      "1.0 0.540302305868\n",
      "1.5 0.0707372016677\n",
      "2.0 -0.416146836547\n",
      "2.5 -0.801143615547\n"
     ]
    }
   ],
   "source": [
    "for f in funs:\n",
    "    print(str(f))\n",
    "    fun_table(f)"
   ]
  },
  {
   "cell_type": "code",
   "execution_count": 40,
   "metadata": {
    "collapsed": false
   },
   "outputs": [
    {
     "data": {
      "text/plain": [
       "'<built-in function sin>'"
      ]
     },
     "execution_count": 40,
     "metadata": {},
     "output_type": "execute_result"
    }
   ],
   "source": [
    "str(sin)"
   ]
  },
  {
   "cell_type": "markdown",
   "metadata": {},
   "source": [
    "함수 이름을 좀 더 예쁘게 보여주고 싶으면 위 코드를 좀 더 섬세하게 수정해야 한다."
   ]
  },
  {
   "cell_type": "code",
   "execution_count": 41,
   "metadata": {
    "collapsed": false
   },
   "outputs": [
    {
     "name": "stdout",
     "output_type": "stream",
     "text": [
      "<sin 함수 테이블>\n",
      "0.0 0.0\n",
      "0.5 0.479425538604\n",
      "1.0 0.841470984808\n",
      "1.5 0.997494986604\n",
      "2.0 0.909297426826\n",
      "2.5 0.598472144104\n",
      "\n",
      "\n",
      "<cos 함수 테이블>\n",
      "0.0 1.0\n",
      "0.5 0.87758256189\n",
      "1.0 0.540302305868\n",
      "1.5 0.0707372016677\n",
      "2.0 -0.416146836547\n",
      "2.5 -0.801143615547\n",
      "\n",
      "\n"
     ]
    }
   ],
   "source": [
    "for f in funs:\n",
    "    print(\"<\" + str(f).split()[-1][:-1] + \" 함수 테이블>\")\n",
    "    fun_table(f)\n",
    "    print(\"\\n\")"
   ]
  },
  {
   "cell_type": "markdown",
   "metadata": {},
   "source": [
    "위 코드에서 2번 줄이 조금 복잡해 보인다. 특히 \n",
    "\n",
    "    str(f).split()[-1][:-1]\n",
    "    \n",
    "코드를 면밀히 살펴보아야 한다. 위 문장에서 변수 `f`는 `sin` 또는 `cos` 함수를 가리킨다.\n",
    "예를 들어, `str(sin)`을 실행하였을 때 리턴되는 값을 확인하면 다음과 같다.\n",
    "\n",
    "    '<built-in function sin>'\n",
    "    \n",
    "따라서 위 문자열을 먼저 `split` 메소드로 쪼개어 리턴되는 리스트의 마지막 항목인 `sin>` 문자열을 선택한 후, 마지막 문자인 `>`을 제외한 나머지 문자열을 프린트 한다. "
   ]
  },
  {
   "cell_type": "markdown",
   "metadata": {},
   "source": [
    "### 키워드 인자가 있는 함수\n",
    "\n",
    "이전 과제에서 살펴보았던 `sorted` 정렬함수의 경우에 인자의 개수가 다양하게 변할 수 있음을 보았다. `sorted` 함수의 기본 사용법은 아래와 같다."
   ]
  },
  {
   "cell_type": "code",
   "execution_count": 42,
   "metadata": {
    "collapsed": false
   },
   "outputs": [
    {
     "data": {
      "text/plain": [
       "[1, 2, 3]"
      ]
     },
     "execution_count": 42,
     "metadata": {},
     "output_type": "execute_result"
    }
   ],
   "source": [
    "sorted([2, 1, 3])"
   ]
  },
  {
   "cell_type": "markdown",
   "metadata": {},
   "source": [
    "즉, 주어진 시퀀스 자료형을 크기 순서대로 오름차순으로 정렬한다. 그런데 내림차순으로 정렬하고자 하면 다음과 같이 사용해야 한다. "
   ]
  },
  {
   "cell_type": "code",
   "execution_count": 43,
   "metadata": {
    "collapsed": false
   },
   "outputs": [
    {
     "data": {
      "text/plain": [
       "[3, 2, 1]"
      ]
     },
     "execution_count": 43,
     "metadata": {},
     "output_type": "execute_result"
    }
   ],
   "source": [
    "sorted([2, 1, 3], reverse=True)"
   ]
  },
  {
   "cell_type": "markdown",
   "metadata": {},
   "source": [
    "`sorted` 함수의 인자가 하나 더 늘어났다. 실제로 `sorted` 함수는 최대 네 개까지 인자를 받을 수 있다. `help` 명령어를 사용하면 아래와 같은 정보를 확인할 수 있다. "
   ]
  },
  {
   "cell_type": "code",
   "execution_count": 44,
   "metadata": {
    "collapsed": false
   },
   "outputs": [
    {
     "name": "stdout",
     "output_type": "stream",
     "text": [
      "Help on built-in function sorted in module __builtin__:\n",
      "\n",
      "sorted(...)\n",
      "    sorted(iterable, cmp=None, key=None, reverse=False) --> new sorted list\n",
      "\n"
     ]
    }
   ],
   "source": [
    "help(sorted)"
   ]
  },
  {
   "cell_type": "markdown",
   "metadata": {},
   "source": [
    "위 정보는 `sorted` 함수는 네 개의 인자를 받는다. 하지만, 두 번째부터 네 번째 인자들은 이미 기본값이 정해져 있다. 그래서 그 인자들은 굳이 입력하지 않아도 파이썬 해석기 내부에서는 지정된 기본값으로 처리한다. 따라서 다음이 성립한다. "
   ]
  },
  {
   "cell_type": "code",
   "execution_count": 45,
   "metadata": {
    "collapsed": false
   },
   "outputs": [
    {
     "data": {
      "text/plain": [
       "True"
      ]
     },
     "execution_count": 45,
     "metadata": {},
     "output_type": "execute_result"
    }
   ],
   "source": [
    "sorted([2, 1, 3]) == sorted([2, 1, 3], reverse=False)"
   ]
  },
  {
   "cell_type": "markdown",
   "metadata": {},
   "source": [
    "`sorted` 함수의 다른 두 개의 키워드 인자인 `cmp`와 `key`의 경우도 사용법은 동일하다. 두 키워드 인자의 역할은 다음과 같다.\n",
    "\n",
    "* `cmp` 키워드 인자: 두 개의 값을 어떻게 비교할지를 정해주는 함수가 입력되어야 한다. 기본값으로 `None`이라 함은 파이썬에서 기본적으로 정의된 방식으로 값을 비교한다는 의미이다. \n",
    "    \n",
    "* `key` 키워드 인자: 문자열, 리스트, 튜플 등 시퀀스 자료형 값을 정렬할 때 무엇을 기준으로 정렬할지를 정하는 데에 사용한다. 기본값인 `None`을 사용하면 파이썬에서 정해진 순서대로 정렬한다.\n",
    "\n",
    "주의: `cmp` 키워드 인자는 파이썬 3.x 버전에서는 사용되지 않는다. 따라서 파이썬 3.x 버전에서 `sorted` 함수의 인자로 세 개가 된다. "
   ]
  },
  {
   "cell_type": "markdown",
   "metadata": {},
   "source": [
    "##### `key` 인자 사용 예제 1\n",
    "\n",
    "문자열을 정렬할 때 기본적으로 대문자가 소문자보다 앞선다는 식으로 순서가 정해졌다."
   ]
  },
  {
   "cell_type": "code",
   "execution_count": 46,
   "metadata": {
    "collapsed": false
   },
   "outputs": [
    {
     "data": {
      "text/plain": [
       "True"
      ]
     },
     "execution_count": 46,
     "metadata": {},
     "output_type": "execute_result"
    }
   ],
   "source": [
    "'A' < 'a'"
   ]
  },
  {
   "cell_type": "markdown",
   "metadata": {},
   "source": [
    "따라서 문자열을 정렬할 때 대문자가 시작하는 단어가 먼저 정렬된다."
   ]
  },
  {
   "cell_type": "code",
   "execution_count": 47,
   "metadata": {
    "collapsed": false
   },
   "outputs": [
    {
     "data": {
      "text/plain": [
       "['Andrew', 'This', 'a', 'from', 'is', 'string', 'test']"
      ]
     },
     "execution_count": 47,
     "metadata": {},
     "output_type": "execute_result"
    }
   ],
   "source": [
    "sorted(\"This is a test string from Andrew\".split())"
   ]
  },
  {
   "cell_type": "markdown",
   "metadata": {},
   "source": [
    "대, 소문자 구별없이 정렬하고자 한다면 `key` 인자 값을 수정해야 한다.\n",
    "예를 들어, 문자열 클래스의 `lower` 메소드인 `str.lower`를 이용하여 문자열을 모두 소문자로 바꾼 뒤에 순서를 정하는 식을 활용할 수 있다."
   ]
  },
  {
   "cell_type": "code",
   "execution_count": 48,
   "metadata": {
    "collapsed": false
   },
   "outputs": [
    {
     "data": {
      "text/plain": [
       "['a', 'Andrew', 'from', 'is', 'string', 'test', 'This']"
      ]
     },
     "execution_count": 48,
     "metadata": {},
     "output_type": "execute_result"
    }
   ],
   "source": [
    "sorted(\"This is a test string from Andrew\".split(), key=str.lower)"
   ]
  },
  {
   "cell_type": "markdown",
   "metadata": {},
   "source": [
    "##### `key` 인자 사용 예제 2\n",
    "\n",
    "일정한 양식으로 정리된 튜플들의 리스트를 정렬하고자 할 때 어떤 항목을 기준으로 정렬할지 결정할 수 있다.\n",
    "\n",
    "예를 들어 (이름, 학점, 점수)의 양식으로 구성된 리스트가 아래와 같이 있다."
   ]
  },
  {
   "cell_type": "code",
   "execution_count": 49,
   "metadata": {
    "collapsed": true
   },
   "outputs": [],
   "source": [
    "students_grades = [\n",
    "    ('john', 'B', 12),\n",
    "    ('jane', 'C', 10),\n",
    "    ('dave', 'A', 15),\n",
    "]"
   ]
  },
  {
   "cell_type": "markdown",
   "metadata": {},
   "source": [
    "`sorted` 함수를 기본값으로 적용하면 이름 순서대로 정렬된다."
   ]
  },
  {
   "cell_type": "code",
   "execution_count": 50,
   "metadata": {
    "collapsed": false
   },
   "outputs": [
    {
     "data": {
      "text/plain": [
       "[('dave', 'A', 15), ('jane', 'C', 10), ('john', 'B', 12)]"
      ]
     },
     "execution_count": 50,
     "metadata": {},
     "output_type": "execute_result"
    }
   ],
   "source": [
    "sorted(students_grades)"
   ]
  },
  {
   "cell_type": "markdown",
   "metadata": {},
   "source": [
    "이제 위 리스트를 학점 순으로 정렬하려면 다음과 같이 `key` 인자 값을 변경해야 한다. \n",
    "\n",
    "주의: `'A' < 'B' < 'C'`"
   ]
  },
  {
   "cell_type": "code",
   "execution_count": 51,
   "metadata": {
    "collapsed": false
   },
   "outputs": [
    {
     "data": {
      "text/plain": [
       "[('dave', 'A', 15), ('john', 'B', 12), ('jane', 'C', 10)]"
      ]
     },
     "execution_count": 51,
     "metadata": {},
     "output_type": "execute_result"
    }
   ],
   "source": [
    "sorted(students_grades, key=lambda student: student[1])"
   ]
  },
  {
   "cell_type": "markdown",
   "metadata": {},
   "source": [
    "위에서 `key`인자에 입력된 `lambda student: student[1]` 함수는 `students_grades` 리스트의 각 항목을 인자로 받았을 때 인덱스 번호 `1`에 해당하는 항목, 즉 두 번째 항목인 학점을 기준으로 정렬하라고 알려주는 역할을 수행한다. "
   ]
  },
  {
   "cell_type": "markdown",
   "metadata": {},
   "source": [
    "등급을 오름차순으로 정렬하고자 한다면 `reverse` 인자값도 변경해야 한다."
   ]
  },
  {
   "cell_type": "code",
   "execution_count": 52,
   "metadata": {
    "collapsed": false
   },
   "outputs": [
    {
     "data": {
      "text/plain": [
       "[('jane', 'C', 10), ('john', 'B', 12), ('dave', 'A', 15)]"
      ]
     },
     "execution_count": 52,
     "metadata": {},
     "output_type": "execute_result"
    }
   ],
   "source": [
    "sorted(students_grades, key=lambda student: student[1], reverse=True)"
   ]
  },
  {
   "cell_type": "markdown",
   "metadata": {},
   "source": [
    "이제 위 리스트를 점수 순으로 정렬하려면 다음과 같이 `key` 인자 값을 변경해야 한다. "
   ]
  },
  {
   "cell_type": "code",
   "execution_count": 53,
   "metadata": {
    "collapsed": false
   },
   "outputs": [
    {
     "data": {
      "text/plain": [
       "[('jane', 'C', 10), ('john', 'B', 12), ('dave', 'A', 15)]"
      ]
     },
     "execution_count": 53,
     "metadata": {},
     "output_type": "execute_result"
    }
   ],
   "source": [
    "sorted(students_grades, key=lambda student: student[2])"
   ]
  },
  {
   "cell_type": "markdown",
   "metadata": {},
   "source": [
    "##### 키워드 인자가 있는 함수 생성하기\n",
    "\n",
    "앞서 다룬 예제들은 파이썬에 내장된 함수들을 사용하였다. 이제 직접 키워드 인자가 있는 함수를 생성해보자.\n",
    "\n",
    "함수 `area(a,b)`는 직사각형의 면적을 계산하는 함수이다. \n",
    "\n",
    "* 첫재 인자 `a`는 가로의 길이를 나타낸다.\n",
    "* 둘째 인자 `b`는 세로의 길이를 나타낸다."
   ]
  },
  {
   "cell_type": "code",
   "execution_count": 54,
   "metadata": {
    "collapsed": false
   },
   "outputs": [
    {
     "name": "stdout",
     "output_type": "stream",
     "text": [
      "가로, 세로 길이가 각각 3, 3인 직사각형의 넓이는 9이다.\n",
      "가로, 세로 길이가 각각 3, 5인 직사각형의 넓이는 15이다.\n"
     ]
    }
   ],
   "source": [
    "def area(a, b):\n",
    "    return a * b\n",
    "\n",
    "print(\"가로, 세로 길이가 각각 {}, {}인 직사각형의 넓이는 {}이다.\".format(3, 3, area(3, 3)))\n",
    "print(\"가로, 세로 길이가 각각 {}, {}인 직사각형의 넓이는 {}이다.\".format(3, 5, area(3, 5)))"
   ]
  },
  {
   "cell_type": "markdown",
   "metadata": {},
   "source": [
    "이제 세로의 길이를 `3`고정해서 사용하고자 한다면 다음과 같이 키워드 인자를 선언하면 된다. 그러면 인자를 하나만 입력할 경우 자동으로 세로의 길이는 `3`으로 삽입되어 계산된다. 반면에 세로의 길이를 변경하고자 한다면 해당 키워드 인자값을 변경하면 된다. "
   ]
  },
  {
   "cell_type": "code",
   "execution_count": 55,
   "metadata": {
    "collapsed": false
   },
   "outputs": [
    {
     "name": "stdout",
     "output_type": "stream",
     "text": [
      "가로, 세로 길이가 각각 3, 3인 직사각형의 넓이는 9이다.\n",
      "가로, 세로 길이가 각각 5, 3인 직사각형의 넓이는 15이다.\n",
      "가로, 세로 길이가 각각 5, 7인 직사각형의 넓이는 35이다.\n"
     ]
    }
   ],
   "source": [
    "def area(a, breadth=3):\n",
    "    return a * breadth\n",
    "\n",
    "print(\"가로, 세로 길이가 각각 {}, {}인 직사각형의 넓이는 {}이다.\".format(3, 3, area(3)))\n",
    "print(\"가로, 세로 길이가 각각 {}, {}인 직사각형의 넓이는 {}이다.\".format(5, 3, area(5)))\n",
    "print(\"가로, 세로 길이가 각각 {}, {}인 직사각형의 넓이는 {}이다.\".format(5, 7, area(5, 7)))"
   ]
  },
  {
   "cell_type": "markdown",
   "metadata": {},
   "source": [
    "이제 키워드가 두 개 이상일 경우 인자의 순서에 주의해야 한다. \n",
    "\n",
    "* 키워드 이름을 언급하는 경우: 키워드 인자끼리의 순서는 중요하지 않다.\n",
    "* 키워드 이름을 언급하지 않는 경우: 인자의 순서가 중요하다.\n",
    "\n",
    "아래 예제를 잘 살펴보면서 키워드 인자를 어떻게 활용하는지 다시 한 번 확인할 수 있다. "
   ]
  },
  {
   "cell_type": "code",
   "execution_count": 56,
   "metadata": {
    "collapsed": false
   },
   "outputs": [
    {
     "name": "stdout",
     "output_type": "stream",
     "text": [
      "True\n",
      "False\n"
     ]
    }
   ],
   "source": [
    "def strange_volume(x, y_axis = 3, z_axis=4):\n",
    "    return x * y_axis * (z_axis + 1)\n",
    "\n",
    "print(strange_volume(3, y_axis=5, z_axis=7) == strange_volume(3, z_axis=7, y_axis=5))\n",
    "print(strange_volume(3, 5, 7) == strange_volume(3, 7, 5))\n"
   ]
  },
  {
   "cell_type": "markdown",
   "metadata": {},
   "source": [
    "### 전역변수와 지역변수\n",
    "\n",
    "함수를 선언할 때 사용되는 변수들이 있다. 각각의 변수들이 어디에서 정의되었는가에 따라 지역변수(local variable) 또는 전역변수(global variable)라 불린다. \n",
    "\n",
    "예를 들어 아래 함수에서 사용되는 변수 `y`는 어디에서도 정의되어 있지 않기에 호출할 때 에러가 발생한다. "
   ]
  },
  {
   "cell_type": "code",
   "execution_count": 57,
   "metadata": {
    "collapsed": true
   },
   "outputs": [],
   "source": [
    "def f():\n",
    "    print(y)"
   ]
  },
  {
   "cell_type": "code",
   "execution_count": 58,
   "metadata": {
    "collapsed": false
   },
   "outputs": [
    {
     "ename": "NameError",
     "evalue": "global name 'y' is not defined",
     "output_type": "error",
     "traceback": [
      "\u001b[0;31m---------------------------------------------------------------------------\u001b[0m",
      "\u001b[0;31mNameError\u001b[0m                                 Traceback (most recent call last)",
      "\u001b[0;32m<ipython-input-58-0ec059b9bfe1>\u001b[0m in \u001b[0;36m<module>\u001b[0;34m()\u001b[0m\n\u001b[0;32m----> 1\u001b[0;31m \u001b[0mf\u001b[0m\u001b[0;34m(\u001b[0m\u001b[0;34m)\u001b[0m\u001b[0;34m\u001b[0m\u001b[0m\n\u001b[0m",
      "\u001b[0;32m<ipython-input-57-3bde1177804c>\u001b[0m in \u001b[0;36mf\u001b[0;34m()\u001b[0m\n\u001b[1;32m      1\u001b[0m \u001b[0;32mdef\u001b[0m \u001b[0mf\u001b[0m\u001b[0;34m(\u001b[0m\u001b[0;34m)\u001b[0m\u001b[0;34m:\u001b[0m\u001b[0;34m\u001b[0m\u001b[0m\n\u001b[0;32m----> 2\u001b[0;31m     \u001b[0;32mprint\u001b[0m\u001b[0;34m(\u001b[0m\u001b[0my\u001b[0m\u001b[0;34m)\u001b[0m\u001b[0;34m\u001b[0m\u001b[0m\n\u001b[0m",
      "\u001b[0;31mNameError\u001b[0m: global name 'y' is not defined"
     ]
    }
   ],
   "source": [
    "f()"
   ]
  },
  {
   "cell_type": "markdown",
   "metadata": {},
   "source": [
    "위와 같은 경우를 대비해 에러처리를 해둘 필요도 있다."
   ]
  },
  {
   "cell_type": "code",
   "execution_count": 59,
   "metadata": {
    "collapsed": true
   },
   "outputs": [],
   "source": [
    "def f():\n",
    "    try:\n",
    "        print(y)\n",
    "    except:\n",
    "        raise NameError(\"the varible y is not defined yet\")"
   ]
  },
  {
   "cell_type": "code",
   "execution_count": 60,
   "metadata": {
    "collapsed": false
   },
   "outputs": [
    {
     "ename": "NameError",
     "evalue": "the varible y is not defined yet",
     "output_type": "error",
     "traceback": [
      "\u001b[0;31m---------------------------------------------------------------------------\u001b[0m",
      "\u001b[0;31mNameError\u001b[0m                                 Traceback (most recent call last)",
      "\u001b[0;32m<ipython-input-60-0ec059b9bfe1>\u001b[0m in \u001b[0;36m<module>\u001b[0;34m()\u001b[0m\n\u001b[0;32m----> 1\u001b[0;31m \u001b[0mf\u001b[0m\u001b[0;34m(\u001b[0m\u001b[0;34m)\u001b[0m\u001b[0;34m\u001b[0m\u001b[0m\n\u001b[0m",
      "\u001b[0;32m<ipython-input-59-accc206fc433>\u001b[0m in \u001b[0;36mf\u001b[0;34m()\u001b[0m\n\u001b[1;32m      3\u001b[0m         \u001b[0;32mprint\u001b[0m\u001b[0;34m(\u001b[0m\u001b[0my\u001b[0m\u001b[0;34m)\u001b[0m\u001b[0;34m\u001b[0m\u001b[0m\n\u001b[1;32m      4\u001b[0m     \u001b[0;32mexcept\u001b[0m\u001b[0;34m:\u001b[0m\u001b[0;34m\u001b[0m\u001b[0m\n\u001b[0;32m----> 5\u001b[0;31m         \u001b[0;32mraise\u001b[0m \u001b[0mNameError\u001b[0m\u001b[0;34m(\u001b[0m\u001b[0;34m\"the varible y is not defined yet\"\u001b[0m\u001b[0;34m)\u001b[0m\u001b[0;34m\u001b[0m\u001b[0m\n\u001b[0m",
      "\u001b[0;31mNameError\u001b[0m: the varible y is not defined yet"
     ]
    }
   ],
   "source": [
    "f()"
   ]
  },
  {
   "cell_type": "markdown",
   "metadata": {},
   "source": [
    "다음은 함수 내부에서 정의되어 사용되는 변수, 즉, 지역변수에 대한 간단한 예제이다."
   ]
  },
  {
   "cell_type": "code",
   "execution_count": 61,
   "metadata": {
    "collapsed": false
   },
   "outputs": [],
   "source": [
    "def f1():\n",
    "    x = '지역변수이다'\n",
    "    print(\"x는 {}.\".format(x))"
   ]
  },
  {
   "cell_type": "code",
   "execution_count": 62,
   "metadata": {
    "collapsed": false
   },
   "outputs": [
    {
     "name": "stdout",
     "output_type": "stream",
     "text": [
      "x는 지역변수이다.\n"
     ]
    }
   ],
   "source": [
    "f1()"
   ]
  },
  {
   "cell_type": "markdown",
   "metadata": {},
   "source": [
    "반면에 함수 외부에서 정의된 변수는 전역변수이다."
   ]
  },
  {
   "cell_type": "code",
   "execution_count": 63,
   "metadata": {
    "collapsed": true
   },
   "outputs": [],
   "source": [
    "x = '전역변수이다'"
   ]
  },
  {
   "cell_type": "code",
   "execution_count": 64,
   "metadata": {
    "collapsed": false
   },
   "outputs": [],
   "source": [
    "def f2():\n",
    "    print(\"x는 {}.\".format(x))"
   ]
  },
  {
   "cell_type": "code",
   "execution_count": 65,
   "metadata": {
    "collapsed": false
   },
   "outputs": [
    {
     "name": "stdout",
     "output_type": "stream",
     "text": [
      "x는 전역변수이다.\n"
     ]
    }
   ],
   "source": [
    "f2()"
   ]
  },
  {
   "cell_type": "markdown",
   "metadata": {
    "collapsed": true
   },
   "source": [
    "`x`가 전역변수로 이미 선언이 되었어도 `f1` 함수를 호출하면 그 함수 안에 선언된 `x` 값이 사용된다. 함수가 호출되었을 때 사용되는 변수에 할당된 값을 먼저 함수 내부에서 찾으며, 함수 내부에서 찾지 못할 경우 함수 밖에서 찾기 때문이다. "
   ]
  },
  {
   "cell_type": "code",
   "execution_count": 66,
   "metadata": {
    "collapsed": false
   },
   "outputs": [
    {
     "name": "stdout",
     "output_type": "stream",
     "text": [
      "x는 지역변수이다.\n"
     ]
    }
   ],
   "source": [
    "f1()"
   ]
  },
  {
   "cell_type": "markdown",
   "metadata": {},
   "source": [
    "함수가 호출되었을 때 사용되는 변수에 할당된 값을 먼저 함수 내부에서 찾으며, 함수 내부에서 찾지 못할 경우 함수 밖에서 찾기 때문이다. "
   ]
  },
  {
   "cell_type": "markdown",
   "metadata": {},
   "source": [
    "함수 `f1`에서 정의된 지역벽수 `x`는 함수 밖에서 정의된 전역변수 `x`와 이름만 같을 뿐 전혀 상관이 없으며 서로 알지 못한다. 지역변수와 전역변수의 이름을 가능하면 다르게 지정하는 것이 좋다.\n",
    "\n",
    "또한 지역변수는 함수 밖으로는 절대로 알려지지 않음에 주의해야 한다. "
   ]
  },
  {
   "cell_type": "code",
   "execution_count": 67,
   "metadata": {
    "collapsed": true
   },
   "outputs": [],
   "source": [
    "def d_is_only_defined_here():\n",
    "    d = 10\n",
    "    print(\"d 값은 여기서만 {}으로 정의되었습니다\".format(d))"
   ]
  },
  {
   "cell_type": "code",
   "execution_count": 68,
   "metadata": {
    "collapsed": false
   },
   "outputs": [
    {
     "name": "stdout",
     "output_type": "stream",
     "text": [
      "d 값은 여기서만 10으로 정의되었습니다\n"
     ]
    }
   ],
   "source": [
    "d_is_only_defined_here()"
   ]
  },
  {
   "cell_type": "markdown",
   "metadata": {},
   "source": [
    "위 함수 외부에서 `d`값을 물으면 모른다고 에러가 발생한다."
   ]
  },
  {
   "cell_type": "code",
   "execution_count": 69,
   "metadata": {
    "collapsed": false
   },
   "outputs": [
    {
     "ename": "NameError",
     "evalue": "name 'd' is not defined",
     "output_type": "error",
     "traceback": [
      "\u001b[0;31m---------------------------------------------------------------------------\u001b[0m",
      "\u001b[0;31mNameError\u001b[0m                                 Traceback (most recent call last)",
      "\u001b[0;32m<ipython-input-69-e29311f6f1bf>\u001b[0m in \u001b[0;36m<module>\u001b[0;34m()\u001b[0m\n\u001b[0;32m----> 1\u001b[0;31m \u001b[0md\u001b[0m\u001b[0;34m\u001b[0m\u001b[0m\n\u001b[0m",
      "\u001b[0;31mNameError\u001b[0m: name 'd' is not defined"
     ]
    }
   ],
   "source": [
    "d"
   ]
  },
  {
   "cell_type": "markdown",
   "metadata": {},
   "source": [
    "함수 내부에서 선언된 지역변수를 전역변수처럼 사용하려면 `global` 키워드를 사용한다."
   ]
  },
  {
   "cell_type": "code",
   "execution_count": 70,
   "metadata": {
    "collapsed": false
   },
   "outputs": [],
   "source": [
    "def e_is_made_global():\n",
    "    global e\n",
    "    e = 10\n",
    "    print(\"e 값은 여기서도 보이며 현재 {} 값이 할당되어 있습니다\".format(e))"
   ]
  },
  {
   "cell_type": "code",
   "execution_count": 71,
   "metadata": {
    "collapsed": false
   },
   "outputs": [
    {
     "name": "stdout",
     "output_type": "stream",
     "text": [
      "e 값은 여기서도 보이며 현재 10 값이 할당되어 있습니다\n"
     ]
    }
   ],
   "source": [
    "e_is_made_global()"
   ]
  },
  {
   "cell_type": "code",
   "execution_count": 72,
   "metadata": {
    "collapsed": false
   },
   "outputs": [
    {
     "data": {
      "text/plain": [
       "10"
      ]
     },
     "execution_count": 72,
     "metadata": {},
     "output_type": "execute_result"
    }
   ],
   "source": [
    "e"
   ]
  }
 ],
 "metadata": {
  "kernelspec": {
   "display_name": "Python 2",
   "language": "python",
   "name": "python2"
  },
  "language_info": {
   "codemirror_mode": {
    "name": "ipython",
    "version": 2
   },
   "file_extension": ".py",
   "mimetype": "text/x-python",
   "name": "python",
   "nbconvert_exporter": "python",
   "pygments_lexer": "ipython2",
   "version": "2.7.10"
  }
 },
 "nbformat": 4,
 "nbformat_minor": 0
}
