{
 "cells": [
  {
   "cell_type": "markdown",
   "metadata": {},
   "source": [
    "# 브로드캐스팅(Broadcasting)\n",
    "\n",
    "넘파이 모듈의 어레이 관련 연산은 기본적으로 항목별로 실행된다.\n",
    "따라서 두 개의 어레이를 대상으로 연산을 하려면 모양(shape)이 같아야 한다. \n",
    "\n",
    "하지만 경우에 따라 모양이 다른 두 어레이를 이용하여 연산을 할 수 있다.\n",
    "이를 위해서는 두 어레이의 모양을 동일하게 맞추는 일이 가능해야 한다.\n",
    "두 어레이의 모양을 맞추는 과정을 **확산(broadcasting)**이라 부른다. \n",
    "\n",
    "아래 그림을 통해 확산이 작동하는 방식을 이해할 수 있다.\n",
    "\n",
    "<img src=\"images/broadcasting.png\" width=\"550\">"
   ]
  },
  {
   "cell_type": "code",
   "execution_count": 1,
   "metadata": {
    "collapsed": true
   },
   "outputs": [],
   "source": [
    "import numpy as np"
   ]
  },
  {
   "cell_type": "code",
   "execution_count": 2,
   "metadata": {},
   "outputs": [
    {
     "name": "stdout",
     "output_type": "stream",
     "text": [
      "Populating the interactive namespace from numpy and matplotlib\n"
     ]
    }
   ],
   "source": [
    "from matplotlib import pyplot as plt\n",
    "%pylab inline"
   ]
  },
  {
   "cell_type": "markdown",
   "metadata": {},
   "source": [
    "먼저 아래의 행렬에 해당하는 어레이를 생성한다. \n",
    "\n",
    "$$ a = \n",
    "\\left [ \\begin{matrix} \n",
    "0 & 0 & 0 \\\\ \n",
    "10 & 10 & 10 \\\\\n",
    "20 & 20 & 20\\\\\n",
    "30 & 30 & 30\n",
    "\\end{matrix} \\right ]$$"
   ]
  },
  {
   "cell_type": "code",
   "execution_count": 3,
   "metadata": {},
   "outputs": [
    {
     "data": {
      "text/plain": [
       "array([[ 0,  0,  0],\n",
       "       [10, 10, 10],\n",
       "       [20, 20, 20],\n",
       "       [30, 30, 30]])"
      ]
     },
     "execution_count": 3,
     "metadata": {},
     "output_type": "execute_result"
    }
   ],
   "source": [
    "a = np.tile(np.arange(0, 40, 10), (3,1)).T\n",
    "a"
   ]
  },
  {
   "cell_type": "markdown",
   "metadata": {},
   "source": [
    "이제 아래 모양의 어레이를 생성한다. \n",
    "\n",
    "$$b = \n",
    "\\left [ \\begin{matrix} \n",
    "0 & 1 & 2\n",
    "\\end{matrix} \\right ]$$"
   ]
  },
  {
   "cell_type": "code",
   "execution_count": 4,
   "metadata": {},
   "outputs": [
    {
     "data": {
      "text/plain": [
       "array([0, 1, 2])"
      ]
     },
     "execution_count": 4,
     "metadata": {},
     "output_type": "execute_result"
    }
   ],
   "source": [
    "b = np.array([0, 1, 2])\n",
    "b"
   ]
  },
  {
   "cell_type": "markdown",
   "metadata": {},
   "source": [
    "`a`와 `b`의 합을 실행하기 위해 먼저 `b`를 확산하여 `a`의 모양과 맞춘다.\n",
    "\n",
    "$$\n",
    "\\left [ \n",
    "\\begin{matrix} \n",
    "0 & 1 & 2\n",
    "\\end{matrix} \n",
    "\\right ]\n",
    "\\quad\\Longrightarrow\\quad\n",
    "\\left [ \n",
    "\\begin{matrix} \n",
    "0 & 1 & 2\\\\\n",
    "0 & 1 & 2\\\\\n",
    "0 & 1 & 2\\\\\n",
    "0 & 1 & 2\n",
    "\\end{matrix} \n",
    "\\right ]\n",
    "$$"
   ]
  },
  {
   "cell_type": "code",
   "execution_count": 5,
   "metadata": {},
   "outputs": [
    {
     "data": {
      "text/plain": [
       "array([[ 0,  1,  2],\n",
       "       [10, 11, 12],\n",
       "       [20, 21, 22],\n",
       "       [30, 31, 32]])"
      ]
     },
     "execution_count": 5,
     "metadata": {},
     "output_type": "execute_result"
    }
   ],
   "source": [
    "a + b"
   ]
  },
  {
   "cell_type": "markdown",
   "metadata": {},
   "source": [
    "이제 아래 모양의 덧셈이 어떻게 실행되는지 살펴보자.\n",
    "\n",
    "$$\n",
    "\\left [ \\begin{matrix} \n",
    "0\\\\ \n",
    "10\\\\\n",
    "20\\\\\n",
    "30\n",
    "\\end{matrix} \\right ]\n",
    "+\n",
    "\\left [ \\begin{matrix} \n",
    "0 & 1 & 2\n",
    "\\end{matrix} \\right ]\n",
    "$$\n",
    "\n",
    "먼저 아래 행렬에 해당하는 어레이를 생성하자.\n",
    "\n",
    "$$\n",
    "\\left [ \\begin{matrix} \n",
    "0\\\\ \n",
    "10\\\\\n",
    "20\\\\\n",
    "30\n",
    "\\end{matrix} \\right ]\n",
    "$$\n",
    "\n",
    "위 행렬에 해당하는 어레이는 `(4, 1)`  모양의 2차원 어레이임에 주의해야 한다."
   ]
  },
  {
   "cell_type": "code",
   "execution_count": 6,
   "metadata": {},
   "outputs": [
    {
     "data": {
      "text/plain": [
       "array([[ 0],\n",
       "       [10],\n",
       "       [20],\n",
       "       [30]])"
      ]
     },
     "execution_count": 6,
     "metadata": {},
     "output_type": "execute_result"
    }
   ],
   "source": [
    "c = np.array([0, 10, 20, 30]).reshape((4,1))\n",
    "c"
   ]
  },
  {
   "cell_type": "markdown",
   "metadata": {},
   "source": [
    "이제 `c + b`를 실행하기 위해서는 `c`와 `b` 각각을 `(4,3)` 모양으로 확산해야 한다. \n",
    "\n",
    "* `c`의 경우: `(4,1)` 모양의 어레이 이므로 열을 2칸 늘려야 한다. 즉, \n",
    "\n",
    "$$\n",
    "\\left [ \n",
    "\\begin{matrix} \n",
    "0\\\\ \n",
    "10\\\\\n",
    "20\\\\\n",
    "30\n",
    "\\end{matrix} \n",
    "\\right ]\n",
    "\\quad\\Longrightarrow\\quad\n",
    "\\left [ \n",
    "\\begin{matrix} \n",
    "0 & 0 & 0\\\\\n",
    "10 & 10 & 10\\\\\n",
    "20 & 20 & 20\\\\\n",
    "30 & 30 & 30\n",
    "\\end{matrix} \n",
    "\\right ]\n",
    "$$\n",
    "\n",
    "* `b`의 경우: `(3,)` 모양이므로 행 방향으로 3칸 틀려야 한다. 즉,\n",
    "\n",
    "$$\n",
    "\\left [ \n",
    "\\begin{matrix} \n",
    "0 & 1 & 2\n",
    "\\end{matrix} \n",
    "\\right ]\n",
    "\\quad\\Longrightarrow\\quad\n",
    "\\left [ \n",
    "\\begin{matrix} \n",
    "0 & 1 & 2\\\\\n",
    "0 & 1 & 2\\\\\n",
    "0 & 1 & 2\\\\\n",
    "0 & 1 & 2\n",
    "\\end{matrix} \n",
    "\\right ]\n",
    "$$"
   ]
  },
  {
   "cell_type": "code",
   "execution_count": 7,
   "metadata": {},
   "outputs": [
    {
     "data": {
      "text/plain": [
       "array([[ 0,  1,  2],\n",
       "       [10, 11, 12],\n",
       "       [20, 21, 22],\n",
       "       [30, 31, 32]])"
      ]
     },
     "execution_count": 7,
     "metadata": {},
     "output_type": "execute_result"
    }
   ],
   "source": [
    "c + b"
   ]
  },
  {
   "cell_type": "markdown",
   "metadata": {},
   "source": [
    "어레이와 숫자의 연산은 사실 확산을 사용한 것이다."
   ]
  },
  {
   "cell_type": "code",
   "execution_count": 8,
   "metadata": {},
   "outputs": [
    {
     "data": {
      "text/plain": [
       "array([[ 1.,  1.,  1.,  1.,  1.],\n",
       "       [ 1.,  1.,  1.,  1.,  1.],\n",
       "       [ 1.,  1.,  1.,  1.,  1.],\n",
       "       [ 1.,  1.,  1.,  1.,  1.]])"
      ]
     },
     "execution_count": 8,
     "metadata": {},
     "output_type": "execute_result"
    }
   ],
   "source": [
    "a = np.ones((4,5))\n",
    "a"
   ]
  },
  {
   "cell_type": "markdown",
   "metadata": {},
   "source": [
    "`a[0] = 2` 를 실행하면 `a`의 0번 행의 값들을 모두 2로 교체하는데 이는 실제로는 \n",
    "`a[0] = array[2, 2, 2, 2, 2]` 를 실행하는 것이다. \n",
    "즉, 확산을 먼저 실행한 후에 교체를 진행한다."
   ]
  },
  {
   "cell_type": "code",
   "execution_count": 9,
   "metadata": {},
   "outputs": [
    {
     "data": {
      "text/plain": [
       "array([[ 2.,  2.,  2.,  2.,  2.],\n",
       "       [ 1.,  1.,  1.,  1.,  1.],\n",
       "       [ 1.,  1.,  1.,  1.,  1.],\n",
       "       [ 1.,  1.,  1.,  1.,  1.]])"
      ]
     },
     "execution_count": 9,
     "metadata": {},
     "output_type": "execute_result"
    }
   ],
   "source": [
    "a[0] = 2\n",
    "a"
   ]
  },
  {
   "cell_type": "markdown",
   "metadata": {},
   "source": [
    "## 차원 늘리기\n",
    "\n",
    "앞서 `c = np.array([0, 10, 20, 30]).reshape((4,1))`를 이용하여\n",
    "아래 모양의 행렬을 \n",
    "\n",
    "$$\n",
    "\\left [ \\begin{matrix} \n",
    "0 & 10 & 20 & 30\n",
    "\\end{matrix} \\right ]\n",
    "$$\n",
    "\n",
    "다음 모양의 행렬로 변경하였다. \n",
    "$$\n",
    "\\left [ \\begin{matrix} \n",
    "0\\\\ \n",
    "10\\\\\n",
    "20\\\\\n",
    "30\n",
    "\\end{matrix} \\right ]\n",
    "$$\n",
    "\n",
    "위 과정을 차원 늘리기 기능을 이용하여 쉽게 구현할 수 있다."
   ]
  },
  {
   "cell_type": "code",
   "execution_count": 10,
   "metadata": {},
   "outputs": [
    {
     "data": {
      "text/plain": [
       "array([ 0, 10, 20, 30])"
      ]
     },
     "execution_count": 10,
     "metadata": {},
     "output_type": "execute_result"
    }
   ],
   "source": [
    "a = np.arange(0, 40, 10)\n",
    "a"
   ]
  },
  {
   "cell_type": "code",
   "execution_count": 11,
   "metadata": {},
   "outputs": [
    {
     "data": {
      "text/plain": [
       "(4,)"
      ]
     },
     "execution_count": 11,
     "metadata": {},
     "output_type": "execute_result"
    }
   ],
   "source": [
    "a.shape"
   ]
  },
  {
   "cell_type": "code",
   "execution_count": 12,
   "metadata": {
    "collapsed": true
   },
   "outputs": [],
   "source": [
    "a = a[:, np.newaxis]"
   ]
  },
  {
   "cell_type": "code",
   "execution_count": 13,
   "metadata": {},
   "outputs": [
    {
     "data": {
      "text/plain": [
       "(4, 1)"
      ]
     },
     "execution_count": 13,
     "metadata": {},
     "output_type": "execute_result"
    }
   ],
   "source": [
    "a.shape"
   ]
  },
  {
   "cell_type": "code",
   "execution_count": 14,
   "metadata": {},
   "outputs": [
    {
     "data": {
      "text/plain": [
       "array([[ 0],\n",
       "       [10],\n",
       "       [20],\n",
       "       [30]])"
      ]
     },
     "execution_count": 14,
     "metadata": {},
     "output_type": "execute_result"
    }
   ],
   "source": [
    "a"
   ]
  },
  {
   "cell_type": "markdown",
   "metadata": {},
   "source": [
    "## 연습문제\n",
    "\n",
    "NB-18-Numpy-array-indexing-slicing에서 다뤘던 어레이는 다음 모양을 갖는다.\n",
    "\n",
    "<table>\n",
    "  <tr>\n",
    "    <td align=center>0</td>\n",
    "    <td align=center>1</td> \n",
    "    <td align=center>2</td>\n",
    "    <td align=center>3</td>\n",
    "    <td align=center>4</td>\n",
    "    <td align=center>5</td>\n",
    "  </tr>\n",
    "  <tr>\n",
    "    <td>10</td>\n",
    "    <td>11</td> \n",
    "    <td>12</td>\n",
    "    <td>13</td>\n",
    "    <td>14</td>\n",
    "    <td>15</td>\n",
    "  </tr>\n",
    "  <tr>\n",
    "    <td>20</td>\n",
    "    <td>21</td> \n",
    "    <td>22</td>\n",
    "    <td>23</td>\n",
    "    <td>24</td>\n",
    "    <td>25</td>\n",
    "  </tr>\n",
    "  <tr>\n",
    "    <td>30</td>\n",
    "    <td>31</td> \n",
    "    <td>32</td>\n",
    "    <td>33</td>\n",
    "    <td>34</td>\n",
    "    <td>35</td>\n",
    "  </tr>\n",
    "  <tr>\n",
    "    <td>40</td>\n",
    "    <td>41</td> \n",
    "    <td>42</td>\n",
    "    <td>43</td>\n",
    "    <td>44</td>\n",
    "    <td>45</td>\n",
    "  </tr>\n",
    "  <tr>\n",
    "    <td>50</td>\n",
    "    <td>51</td> \n",
    "    <td>52</td>\n",
    "    <td>53</td>\n",
    "    <td>54</td>\n",
    "    <td>55</td>\n",
    "  </tr>\n",
    "</table>\n",
    "\n",
    "위와 같은 모양의 어레이는 아래와 같은 방식으로 생성할 수 있다.\n",
    "\n",
    "    np.arange(6) + np.arange(0, 51, 10)[:, np.newaxis]\n",
    "    \n",
    "위 코드가 어떻게 해서 원하는 모양의 어레이를 생성하는지 구체적으로 설명하라."
   ]
  },
  {
   "cell_type": "markdown",
   "metadata": {},
   "source": [
    "## 예제\n",
    "\n",
    "미국의 동서를 가로지르는 66번 도로가 통과하는 주요 도시들은 \n",
    "동쪽에서부터 차례대로 다음과 같다. \n",
    "Chicago, Springfield, Saint-Louis, Tulsa, Oklahoma City,\n",
    "Amarillo, Sata Fe, Albuquerque, Flagstaff, Los Angeles\n",
    "\n",
    "<img src=\"images/usa-cross.png\" width=\"450\">\n",
    "\n",
    "또한 시카고를 기점으로 해서 언급된 순서대로의 도시까지의 거리는 마일(mile) 단위로 다음과 같다.\n",
    "참고로 1마일은 1.6키로 정도이다."
   ]
  },
  {
   "cell_type": "code",
   "execution_count": 15,
   "metadata": {
    "collapsed": true
   },
   "outputs": [],
   "source": [
    "mileposts = np.array([0, 198, 303, 736, 871, 1175, 1475, 1544, 1913, 2448])"
   ]
  },
  {
   "cell_type": "markdown",
   "metadata": {},
   "source": [
    "즉, Chicago와 Springfield 사이의 거리는 198마일이고 \n",
    "Chicago와 Los Angeles 사이의 거리는 2448마일이다.\n",
    "\n",
    "이제 임이의 두 도시 사이의 거리를 구해보자. \n",
    "확산과 빼기, 절대값 연산을 이용하면 쉽게 구할 수 있다."
   ]
  },
  {
   "cell_type": "code",
   "execution_count": 16,
   "metadata": {},
   "outputs": [],
   "source": [
    "distance_array = np.abs(mileposts - mileposts[:, np.newaxis])"
   ]
  },
  {
   "cell_type": "markdown",
   "metadata": {},
   "source": [
    "위 결과는 격자판(그리드, grid) 모양의 어레이이다."
   ]
  },
  {
   "cell_type": "code",
   "execution_count": 17,
   "metadata": {},
   "outputs": [
    {
     "data": {
      "text/plain": [
       "array([[   0,  198,  303,  736,  871, 1175, 1475, 1544, 1913, 2448],\n",
       "       [ 198,    0,  105,  538,  673,  977, 1277, 1346, 1715, 2250],\n",
       "       [ 303,  105,    0,  433,  568,  872, 1172, 1241, 1610, 2145],\n",
       "       [ 736,  538,  433,    0,  135,  439,  739,  808, 1177, 1712],\n",
       "       [ 871,  673,  568,  135,    0,  304,  604,  673, 1042, 1577],\n",
       "       [1175,  977,  872,  439,  304,    0,  300,  369,  738, 1273],\n",
       "       [1475, 1277, 1172,  739,  604,  300,    0,   69,  438,  973],\n",
       "       [1544, 1346, 1241,  808,  673,  369,   69,    0,  369,  904],\n",
       "       [1913, 1715, 1610, 1177, 1042,  738,  438,  369,    0,  535],\n",
       "       [2448, 2250, 2145, 1712, 1577, 1273,  973,  904,  535,    0]])"
      ]
     },
     "execution_count": 17,
     "metadata": {},
     "output_type": "execute_result"
    }
   ],
   "source": [
    "distance_array"
   ]
  },
  {
   "cell_type": "markdown",
   "metadata": {},
   "source": [
    "예를 들어, Santa Fe와 Flagstaff 사이의 거리는 `distance_array[7, 9]`이다."
   ]
  },
  {
   "cell_type": "code",
   "execution_count": 18,
   "metadata": {},
   "outputs": [
    {
     "data": {
      "text/plain": [
       "904"
      ]
     },
     "execution_count": 18,
     "metadata": {},
     "output_type": "execute_result"
    }
   ],
   "source": [
    "distance_array[7, 9]"
   ]
  },
  {
   "cell_type": "markdown",
   "metadata": {},
   "source": [
    "## 연습문제\n",
    "\n",
    "앞서 66번 도로 상에 위치한 10개의 주요도시에서 타 도시까지의 거리를 계산하였다.\n",
    "그렇다면 각 도시에서 타도시까지의 거리의 평균을 구하라.\n",
    "또한 임의의 두 도시 사이의 거리는 평균 얼마인지 구하라.\n",
    "\n",
    "예를 들어, Chicago에서 타도시까지의 거러의 평균은 \n",
    "\n",
    "    In [29]: mileposts.mean() * (10./9)\n",
    "    Out[29]: 1184.7777777777778\n",
    "    \n",
    "10.0/9 를 곱해주는 이유는 Chicago에서 Chicago 까지의 거리인 0을 제외하기 위해서이다.\n",
    "\n",
    "힌트: 축(axis)을 이용한다. "
   ]
  },
  {
   "cell_type": "markdown",
   "metadata": {},
   "source": [
    "## 예제\n",
    "\n",
    "아래 좌표들로 구성된 점들의 집합을 고려해보자.\n",
    "\n",
    "$$ A= \n",
    "\\left \\{ \\begin{matrix} \n",
    "(0,0), & (0,1), & (0,2), & (0, 3), & (0,4), \\\\ \n",
    "(1,0), & (1,1), & (1,2), & (1, 3), & (1,4), \\\\ \n",
    "(2,0), & (2,1), & (2,2), & (2, 3), & (2,4), \\\\ \n",
    "(3,0), & (3,1), & (3,2), & (3, 3), & (3,4), \\\\ \n",
    "(4,0), & (4,1), & (4,2), & (4, 3), & (4,4)\n",
    "\\end{matrix} \\right \\}$$\n",
    "\n",
    "위 점들 각각에 대해 원점으로부터의 거리를 구해보자. \n",
    "즉, 아래 그림에서 표시된 각 점들과 원점사이의 거리를 구해보자."
   ]
  },
  {
   "cell_type": "code",
   "execution_count": 19,
   "metadata": {},
   "outputs": [
    {
     "data": {
      "image/png": "[encoded data removed]",
      "text/plain": [
       "<matplotlib.figure.Figure at 0x1072da610>"
      ]
     },
     "metadata": {},
     "output_type": "display_data"
    }
   ],
   "source": [
    "x = np.repeat(np.arange(0, 5), 5)\n",
    "y = np.tile(np.arange(0, 5), 5)\n",
    "\n",
    "plt.scatter(x,y, s=100 ,marker='o')\n",
    "\n",
    "plt.grid()\n",
    "plt.show()"
   ]
  },
  {
   "cell_type": "markdown",
   "metadata": {},
   "source": [
    "앞서의 예제와 같이 격자판(grid) 모양의 데이터를 분석하는 방식으로 처리할 수 있다. \n",
    "즉, 차원 늘리기와 확산을 이용한다. \n",
    "\n",
    "먼저 위 좌표들은 아래 두 개의 어레이들의 이용한 순서쌍으로 만들 수 있음에 주목한다. "
   ]
  },
  {
   "cell_type": "code",
   "execution_count": 20,
   "metadata": {},
   "outputs": [
    {
     "data": {
      "text/plain": [
       "array([0, 1, 2, 3, 4])"
      ]
     },
     "execution_count": 20,
     "metadata": {},
     "output_type": "execute_result"
    }
   ],
   "source": [
    "x = np.arange(5)\n",
    "x"
   ]
  },
  {
   "cell_type": "code",
   "execution_count": 21,
   "metadata": {},
   "outputs": [
    {
     "data": {
      "text/plain": [
       "array([[0],\n",
       "       [1],\n",
       "       [2],\n",
       "       [3],\n",
       "       [4]])"
      ]
     },
     "execution_count": 21,
     "metadata": {},
     "output_type": "execute_result"
    }
   ],
   "source": [
    "y = np.arange(5)[:, np.newaxis]\n",
    "y"
   ]
  },
  {
   "cell_type": "markdown",
   "metadata": {},
   "source": [
    "왜냐하면 `x`와 `y`의 각각의 항목값을 좌표로 갖는 점들이 위 그림에서 표시된 점들이기 때문이다.\n",
    "\n",
    "그리고 각 점들의 원점으로부터의 거리는 피타고라스 정리에 의해 결정된다.\n",
    "예를 들어, `(a, b)`의 좌표를 갖는 점은 원점으로부터의 거리가 \n",
    "\n",
    "$$ \\sqrt{a^2 + b^2}$$\n",
    "\n",
    "이다. 따라서 아래와 같이 각 점의 원점으로부터의 거리를 구할 수 있다.\n",
    "\n",
    "**주의**: 확산이 자동으로 사용된다."
   ]
  },
  {
   "cell_type": "code",
   "execution_count": 22,
   "metadata": {},
   "outputs": [
    {
     "data": {
      "text/plain": [
       "array([[ 0.        ,  1.        ,  2.        ,  3.        ,  4.        ],\n",
       "       [ 1.        ,  1.41421356,  2.23606798,  3.16227766,  4.12310563],\n",
       "       [ 2.        ,  2.23606798,  2.82842712,  3.60555128,  4.47213595],\n",
       "       [ 3.        ,  3.16227766,  3.60555128,  4.24264069,  5.        ],\n",
       "       [ 4.        ,  4.12310563,  4.47213595,  5.        ,  5.65685425]])"
      ]
     },
     "execution_count": 22,
     "metadata": {},
     "output_type": "execute_result"
    }
   ],
   "source": [
    "distance = np.sqrt(x ** 2 + y ** 2)\n",
    "distance"
   ]
  },
  {
   "cell_type": "markdown",
   "metadata": {},
   "source": [
    "참고로, 위 좌표값들의 집합 $A$는 다음과 같은 방식으로 구해질 수 있다."
   ]
  },
  {
   "cell_type": "code",
   "execution_count": 23,
   "metadata": {},
   "outputs": [
    {
     "data": {
      "text/plain": [
       "array([[0, 0],\n",
       "       [0, 1],\n",
       "       [0, 2],\n",
       "       [0, 3],\n",
       "       [0, 4],\n",
       "       [1, 0],\n",
       "       [1, 1],\n",
       "       [1, 2],\n",
       "       [1, 3],\n",
       "       [1, 4],\n",
       "       [2, 0],\n",
       "       [2, 1],\n",
       "       [2, 2],\n",
       "       [2, 3],\n",
       "       [2, 4],\n",
       "       [3, 0],\n",
       "       [3, 1],\n",
       "       [3, 2],\n",
       "       [3, 3],\n",
       "       [3, 4],\n",
       "       [4, 0],\n",
       "       [4, 1],\n",
       "       [4, 2],\n",
       "       [4, 3],\n",
       "       [4, 4]])"
      ]
     },
     "execution_count": 23,
     "metadata": {},
     "output_type": "execute_result"
    }
   ],
   "source": [
    "A = np.transpose([np.repeat(np.arange(5), 5), np.tile(np.arange(5), 5)])\n",
    "A"
   ]
  },
  {
   "cell_type": "markdown",
   "metadata": {},
   "source": [
    "이제 원점으로부터의 거리를 색깔로 표시하여 거리정도를 확인할 수도 있다.\n",
    "넘파이의 `pcolor` 함수를 이용하면 된다."
   ]
  },
  {
   "cell_type": "code",
   "execution_count": 24,
   "metadata": {},
   "outputs": [
    {
     "data": {
      "text/plain": [
       "<matplotlib.colorbar.Colorbar instance at 0x107701e60>"
      ]
     },
     "execution_count": 24,
     "metadata": {},
     "output_type": "execute_result"
    },
    {
     "data": {
      "image/png": "[encoded data removed]",
      "text/plain": [
       "<matplotlib.figure.Figure at 0x1072c8e10>"
      ]
     },
     "metadata": {},
     "output_type": "display_data"
    }
   ],
   "source": [
    "plt.pcolor(distance)\n",
    "plt.colorbar()"
   ]
  },
  {
   "cell_type": "markdown",
   "metadata": {},
   "source": [
    "위 그림에서 원점으로부터 떨어진 정도에 따라 색깔이 결정됨을 알 수 있다.\n",
    "즉, 짙은 남색에 가까울 수록 원점으로부터의 거리가 가깝고,\n",
    "짙은 빨강에 가까울 수록 원점으로부터의 거리가 멀다."
   ]
  }
 ],
 "metadata": {
  "kernelspec": {
   "display_name": "Python 2",
   "language": "python",
   "name": "python2"
  },
  "language_info": {
   "codemirror_mode": {
    "name": "ipython",
    "version": 2
   },
   "file_extension": ".py",
   "mimetype": "text/x-python",
   "name": "python",
   "nbconvert_exporter": "python",
   "pygments_lexer": "ipython2",
   "version": "2.7.13"
  }
 },
 "nbformat": 4,
 "nbformat_minor": 1
}
