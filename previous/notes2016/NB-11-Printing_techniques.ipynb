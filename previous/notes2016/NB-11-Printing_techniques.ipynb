{
 "cells": [
  {
   "cell_type": "markdown",
   "metadata": {},
   "source": [
    "# 문자열을 인쇄하는 다양한 방법 활용"
   ]
  },
  {
   "cell_type": "markdown",
   "metadata": {},
   "source": [
    "파이썬 2.x에서는 `print` 함수의 경우 인자들이 굳이 괄호 안에 들어 있어야 할 필요는 없다. 또한 여러 개의 값을 동시에 인쇄할 수도 있다. 이때 인자들은 콤마로 구분지어진다. "
   ]
  },
  {
   "cell_type": "code",
   "execution_count": 1,
   "metadata": {
    "collapsed": true
   },
   "outputs": [],
   "source": [
    "a = \"string\"\n",
    "b = \"string1\""
   ]
  },
  {
   "cell_type": "code",
   "execution_count": 2,
   "metadata": {
    "collapsed": false
   },
   "outputs": [
    {
     "name": "stdout",
     "output_type": "stream",
     "text": [
      "string string1\n"
     ]
    }
   ],
   "source": [
    "print a, b"
   ]
  },
  {
   "cell_type": "code",
   "execution_count": 3,
   "metadata": {
    "collapsed": false
   },
   "outputs": [
    {
     "name": "stdout",
     "output_type": "stream",
     "text": [
      "The return value is string\n"
     ]
    }
   ],
   "source": [
    "print \"The return value is\", a"
   ]
  },
  {
   "cell_type": "markdown",
   "metadata": {},
   "source": [
    "주의: 아래와 같이 하면 모양이 기대와 다르게 나온다."
   ]
  },
  {
   "cell_type": "code",
   "execution_count": 4,
   "metadata": {
    "collapsed": false
   },
   "outputs": [
    {
     "name": "stdout",
     "output_type": "stream",
     "text": [
      "('string', 'string1')\n"
     ]
    }
   ],
   "source": [
    "print(a, b)"
   ]
  },
  {
   "cell_type": "code",
   "execution_count": 5,
   "metadata": {
    "collapsed": false
   },
   "outputs": [
    {
     "name": "stdout",
     "output_type": "stream",
     "text": [
      "('The return value is', 'string')\n"
     ]
    }
   ],
   "source": [
    "print(\"The return value is\", a)"
   ]
  },
  {
   "cell_type": "markdown",
   "metadata": {},
   "source": [
    "하지만 위와 같이 괄호를 사용하지 않는 방식은 파이썬 3.x에서는 지원되지 않는다.\n",
    "따라서 기본적으로 아래와 같이 사용하는 것을 추천한다. "
   ]
  },
  {
   "cell_type": "code",
   "execution_count": 6,
   "metadata": {
    "collapsed": false
   },
   "outputs": [
    {
     "name": "stdout",
     "output_type": "stream",
     "text": [
      "string string1\n"
     ]
    }
   ],
   "source": [
    "print(a+' '+b)"
   ]
  },
  {
   "cell_type": "code",
   "execution_count": 7,
   "metadata": {
    "collapsed": false
   },
   "outputs": [
    {
     "name": "stdout",
     "output_type": "stream",
     "text": [
      "The return value is string\n"
     ]
    }
   ],
   "source": [
    "print(\"The return value is\" + \" \" + a)"
   ]
  },
  {
   "cell_type": "markdown",
   "metadata": {},
   "source": [
    "아래와 같이 할 수도 있다"
   ]
  },
  {
   "cell_type": "code",
   "execution_count": 8,
   "metadata": {
    "collapsed": false
   },
   "outputs": [
    {
     "name": "stdout",
     "output_type": "stream",
     "text": [
      "string string1\n"
     ]
    }
   ],
   "source": [
    "print(a),; print(b)"
   ]
  },
  {
   "cell_type": "markdown",
   "metadata": {},
   "source": [
    "그런데 위 경우 `a`와 `b`를 인쇄할 때 스페이스가 자동으로 추가된다. \n",
    "그런데 스페이스 없이 `stringstring1`으로 출력하려면 두 가지 방식이 있다.\n",
    "\n",
    "* 문자열 덧셈 연산자를 활용한다.\n",
    "* 서식이 있는 인쇄방식(formatted printing)을 사용한다. "
   ]
  },
  {
   "cell_type": "code",
   "execution_count": 9,
   "metadata": {
    "collapsed": false
   },
   "outputs": [
    {
     "name": "stdout",
     "output_type": "stream",
     "text": [
      "stringstring1\n"
     ]
    }
   ],
   "source": [
    "print(a+b)"
   ]
  },
  {
   "cell_type": "code",
   "execution_count": 10,
   "metadata": {
    "collapsed": false
   },
   "outputs": [
    {
     "name": "stdout",
     "output_type": "stream",
     "text": [
      "stringstring1\n"
     ]
    }
   ],
   "source": [
    "print(\"{}{}\".format(a,b))"
   ]
  },
  {
   "cell_type": "markdown",
   "metadata": {},
   "source": [
    "서식이 있는 인쇄방식을 이용하여 다양한 형태로 자료들을 인쇄할 수 있다. 서식을 사용하는 방식은 크게 두 가지가 있다.\n",
    "\n",
    "* `%` 를 이용하는 방식\n",
    "    - C, Java 등에서 사용하는 방식과 거의 비슷하다.\n",
    "    \n",
    "* `format` 키워드를 사용하는 방식\n",
    "    - 파이써 만의 새로운 방식이며 `%` 보다 좀 더 다양한 기능을 지원한다. \n",
    "    - Java의 경우 `MessageFormat` 클래스의 `format` 메소드가 비슷한 기능을 \n",
    "    지원하지만 사용법이 좀 더 복잡하다. "
   ]
  },
  {
   "cell_type": "markdown",
   "metadata": {},
   "source": [
    "### 서식지정자(`%`)를  활용하여 문자열 인쇄하기"
   ]
  },
  {
   "cell_type": "markdown",
   "metadata": {},
   "source": [
    "* `%s`: 문자열 서식지정자\n",
    "* `%d`: `int`형 서식지정자"
   ]
  },
  {
   "cell_type": "code",
   "execution_count": 11,
   "metadata": {
    "collapsed": false
   },
   "outputs": [
    {
     "name": "stdout",
     "output_type": "stream",
     "text": [
      "stringstring110\n"
     ]
    }
   ],
   "source": [
    "print(\"%s%s%d\" % (a, b, 10))"
   ]
  },
  {
   "cell_type": "code",
   "execution_count": 12,
   "metadata": {
    "collapsed": false
   },
   "outputs": [],
   "source": [
    "from math import pi"
   ]
  },
  {
   "cell_type": "markdown",
   "metadata": {},
   "source": [
    "부동소수점 실수의 경우 여러 서식을 이용할 수 있다.\n",
    "\n",
    "* %f: 소숫점 이하 6째 자리까지 보여준다. (7째 자리에서 반올림 한다.)\n",
    "* %e: 지수 형태로 보여준다.\n",
    "* %g: %f 또는 %e 방식 중에서 보다 간단한 서식으로 보여준다."
   ]
  },
  {
   "cell_type": "code",
   "execution_count": 13,
   "metadata": {
    "collapsed": false
   },
   "outputs": [
    {
     "name": "stdout",
     "output_type": "stream",
     "text": [
      "원주율값은 대략 3.141593이다.\n"
     ]
    }
   ],
   "source": [
    "print(\"원주율값은 대략 %f이다.\" % pi)"
   ]
  },
  {
   "cell_type": "code",
   "execution_count": 14,
   "metadata": {
    "collapsed": false
   },
   "outputs": [
    {
     "name": "stdout",
     "output_type": "stream",
     "text": [
      "원주율값은 대략 3.141593e+00이다.\n"
     ]
    }
   ],
   "source": [
    "print(\"원주율값은 대략 %e이다.\" % pi)"
   ]
  },
  {
   "cell_type": "code",
   "execution_count": 15,
   "metadata": {
    "collapsed": false
   },
   "outputs": [
    {
     "name": "stdout",
     "output_type": "stream",
     "text": [
      "원주율값은 대략 3.14159이다.\n"
     ]
    }
   ],
   "source": [
    "print(\"원주율값은 대략 %g이다.\" % pi)"
   ]
  },
  {
   "cell_type": "markdown",
   "metadata": {},
   "source": [
    "소수점 이하 숫자의 개수를 임의로 정할 수 있다."
   ]
  },
  {
   "cell_type": "code",
   "execution_count": 16,
   "metadata": {
    "collapsed": false
   },
   "outputs": [
    {
     "name": "stdout",
     "output_type": "stream",
     "text": [
      "원주율값은 대략 3.1415926536이다.\n"
     ]
    }
   ],
   "source": [
    "print(\"원주율값은 대략 %.10f이다.\" % pi)"
   ]
  },
  {
   "cell_type": "code",
   "execution_count": 17,
   "metadata": {
    "collapsed": false
   },
   "outputs": [
    {
     "name": "stdout",
     "output_type": "stream",
     "text": [
      "원주율값은 대략 3.1415926536e+00이다.\n"
     ]
    }
   ],
   "source": [
    "print(\"원주율값은 대략 %.10e이다.\" % pi)"
   ]
  },
  {
   "cell_type": "code",
   "execution_count": 18,
   "metadata": {
    "collapsed": false
   },
   "outputs": [
    {
     "name": "stdout",
     "output_type": "stream",
     "text": [
      "원주율값은 대략 3.141592654이다.\n"
     ]
    }
   ],
   "source": [
    "print(\"원주율값은 대략 %.10g이다.\" % pi)"
   ]
  },
  {
   "cell_type": "markdown",
   "metadata": {},
   "source": [
    "`pi`값 계산을 소숫점 이하 50자리 정도까지 계산함을 알 수 있다. 이것은 사용하는 컴퓨터의 한계이며 컴퓨터의 성능에 따라 계산능력이 달라진다. "
   ]
  },
  {
   "cell_type": "code",
   "execution_count": 19,
   "metadata": {
    "collapsed": false
   },
   "outputs": [
    {
     "name": "stdout",
     "output_type": "stream",
     "text": [
      "지금 사용하는 컴퓨터가 계산할 수 있는 원주율값은 대략 '3.14159265358979311599796346854418516159057617187500'이다.\n"
     ]
    }
   ],
   "source": [
    "print(\"지금 사용하는 컴퓨터가 계산할 수 있는 원주율값은 대략 '%.50f'이다.\" % pi)"
   ]
  },
  {
   "cell_type": "markdown",
   "metadata": {},
   "source": [
    "여러 값을 보여주면 아래 예제처럼 기본은 왼쪽에 줄을 맞춘다."
   ]
  },
  {
   "cell_type": "code",
   "execution_count": 20,
   "metadata": {
    "collapsed": false
   },
   "outputs": [
    {
     "name": "stdout",
     "output_type": "stream",
     "text": [
      "3.141593\n",
      "31.006277\n",
      "93648.047476\n"
     ]
    }
   ],
   "source": [
    "print(\"%f\"% pi)\n",
    "print(\"%f\"% pi**3)\n",
    "print(\"%f\"% pi**10)"
   ]
  },
  {
   "cell_type": "markdown",
   "metadata": {},
   "source": [
    "오른쪽으로 줄을 맞추려면 아래 방식을 사용한다.\n",
    "\n",
    "* 숫자 12는 `pi**10`의 값인 `93648.047476`가 점(.)을 포함하여 총 12자리로 가장 길기에 선택되었다. \n",
    "\n",
    "* 표현방식이 달라지면 다른 값을 선택해야 한다."
   ]
  },
  {
   "cell_type": "code",
   "execution_count": 21,
   "metadata": {
    "collapsed": false
   },
   "outputs": [
    {
     "name": "stdout",
     "output_type": "stream",
     "text": [
      "    3.141593\n",
      "   31.006277\n",
      "93648.047476\n"
     ]
    }
   ],
   "source": [
    "print(\"%12f\"% pi)\n",
    "print(\"%12f\"% pi**3)\n",
    "print(\"%12f\"% pi**10)"
   ]
  },
  {
   "cell_type": "code",
   "execution_count": 22,
   "metadata": {
    "collapsed": false
   },
   "outputs": [
    {
     "name": "stdout",
     "output_type": "stream",
     "text": [
      "3.141593e+00\n",
      "3.100628e+01\n",
      "9.364805e+04\n"
     ]
    }
   ],
   "source": [
    "print(\"%12e\"% pi)\n",
    "print(\"%12e\"% pi**3)\n",
    "print(\"%12e\"% pi**10)"
   ]
  },
  {
   "cell_type": "code",
   "execution_count": 23,
   "metadata": {
    "collapsed": false
   },
   "outputs": [
    {
     "name": "stdout",
     "output_type": "stream",
     "text": [
      "     3.14159\n",
      "     31.0063\n",
      "       93648\n"
     ]
    }
   ],
   "source": [
    "print(\"%12g\"% pi)\n",
    "print(\"%12g\"% pi**3)\n",
    "print(\"%12g\"% pi**10)"
   ]
  },
  {
   "cell_type": "code",
   "execution_count": 24,
   "metadata": {
    "collapsed": false
   },
   "outputs": [
    {
     "name": "stdout",
     "output_type": "stream",
     "text": [
      "    3.1415926536\n",
      "   31.0062766803\n",
      "93648.0474760830\n"
     ]
    }
   ],
   "source": [
    "print(\"%16.10f\"% pi)\n",
    "print(\"%16.10f\"% pi**3)\n",
    "print(\"%16.10f\"% pi**10)"
   ]
  },
  {
   "cell_type": "code",
   "execution_count": 25,
   "metadata": {
    "collapsed": false
   },
   "outputs": [
    {
     "name": "stdout",
     "output_type": "stream",
     "text": [
      "3.1415926536e+00\n",
      "3.1006276680e+01\n",
      "9.3648047476e+04\n"
     ]
    }
   ],
   "source": [
    "print(\"%16.10e\"% pi)\n",
    "print(\"%16.10e\"% pi**3)\n",
    "print(\"%16.10e\"% pi**10)"
   ]
  },
  {
   "cell_type": "code",
   "execution_count": 26,
   "metadata": {
    "collapsed": false
   },
   "outputs": [
    {
     "name": "stdout",
     "output_type": "stream",
     "text": [
      "     3.141592654\n",
      "     31.00627668\n",
      "     93648.04748\n"
     ]
    }
   ],
   "source": [
    "print(\"%16.10g\"% pi)\n",
    "print(\"%16.10g\"% pi**3)\n",
    "print(\"%16.10g\"% pi**10)"
   ]
  },
  {
   "cell_type": "markdown",
   "metadata": {},
   "source": [
    "비어 있는 자리를 숫자 `0`으로 채울 수도 있다."
   ]
  },
  {
   "cell_type": "code",
   "execution_count": 27,
   "metadata": {
    "collapsed": false
   },
   "outputs": [
    {
     "name": "stdout",
     "output_type": "stream",
     "text": [
      "00003.141593\n",
      "00031.006277\n",
      "93648.047476\n"
     ]
    }
   ],
   "source": [
    "print(\"%012f\"% pi)\n",
    "print(\"%012f\"% pi**3)\n",
    "print(\"%012f\"% pi**10)"
   ]
  },
  {
   "cell_type": "code",
   "execution_count": 28,
   "metadata": {
    "collapsed": false
   },
   "outputs": [
    {
     "name": "stdout",
     "output_type": "stream",
     "text": [
      "3.141593e+00\n",
      "3.100628e+01\n",
      "9.364805e+04\n"
     ]
    }
   ],
   "source": [
    "print(\"%012e\"% pi)\n",
    "print(\"%012e\"% pi**3)\n",
    "print(\"%012e\"% pi**10)"
   ]
  },
  {
   "cell_type": "code",
   "execution_count": 29,
   "metadata": {
    "collapsed": false
   },
   "outputs": [
    {
     "name": "stdout",
     "output_type": "stream",
     "text": [
      "000003.14159\n",
      "0000031.0063\n",
      "000000093648\n"
     ]
    }
   ],
   "source": [
    "print(\"%012g\"% pi)\n",
    "print(\"%012g\"% pi**3)\n",
    "print(\"%012g\"% pi**10)"
   ]
  },
  {
   "cell_type": "code",
   "execution_count": 30,
   "metadata": {
    "collapsed": false
   },
   "outputs": [
    {
     "name": "stdout",
     "output_type": "stream",
     "text": [
      "00003.1415926536\n",
      "00031.0062766803\n",
      "93648.0474760830\n"
     ]
    }
   ],
   "source": [
    "print(\"%016.10f\"% pi)\n",
    "print(\"%016.10f\"% pi**3)\n",
    "print(\"%016.10f\"% pi**10)"
   ]
  },
  {
   "cell_type": "code",
   "execution_count": 31,
   "metadata": {
    "collapsed": false
   },
   "outputs": [
    {
     "name": "stdout",
     "output_type": "stream",
     "text": [
      "3.1415926536e+00\n",
      "3.1006276680e+01\n",
      "9.3648047476e+04\n"
     ]
    }
   ],
   "source": [
    "print(\"%016.10e\"% pi)\n",
    "print(\"%016.10e\"% pi**3)\n",
    "print(\"%016.10e\"% pi**10)"
   ]
  },
  {
   "cell_type": "code",
   "execution_count": 32,
   "metadata": {
    "collapsed": false
   },
   "outputs": [
    {
     "name": "stdout",
     "output_type": "stream",
     "text": [
      "000003.141592654\n",
      "0000031.00627668\n",
      "0000093648.04748\n"
     ]
    }
   ],
   "source": [
    "print(\"%016.10g\"% pi)\n",
    "print(\"%016.10g\"% pi**3)\n",
    "print(\"%016.10g\"% pi**10)"
   ]
  },
  {
   "cell_type": "markdown",
   "metadata": {},
   "source": [
    "자릿수는 계산결과를 예상하여 결정해야 한다. \n",
    "아래의 경우는 자릿수를 너무 작게 무시한다. "
   ]
  },
  {
   "cell_type": "code",
   "execution_count": 33,
   "metadata": {
    "collapsed": false
   },
   "outputs": [
    {
     "name": "stdout",
     "output_type": "stream",
     "text": [
      "2791563949.59784364700317382812\n"
     ]
    }
   ],
   "source": [
    "print(\"%12.20f\" % pi**19)"
   ]
  },
  {
   "cell_type": "markdown",
   "metadata": {},
   "source": [
    "### `format` 함수 사용하여 문자열 인쇄하기\n",
    "\n",
    "`format` 함수를 이용하여 서식지정자(`%`)를 사용한 결과를 동일하게 구할 수 있다. "
   ]
  },
  {
   "cell_type": "code",
   "execution_count": 34,
   "metadata": {
    "collapsed": false
   },
   "outputs": [
    {
     "name": "stdout",
     "output_type": "stream",
     "text": [
      "stringstring110\n"
     ]
    }
   ],
   "source": [
    "print(\"{}{}{}\".format(a, b, 10))"
   ]
  },
  {
   "cell_type": "code",
   "execution_count": 35,
   "metadata": {
    "collapsed": false
   },
   "outputs": [
    {
     "name": "stdout",
     "output_type": "stream",
     "text": [
      "stringstring110\n"
     ]
    }
   ],
   "source": [
    "print(\"{:s}{:s}{:d}\".format(a, b, 10))"
   ]
  },
  {
   "cell_type": "code",
   "execution_count": 36,
   "metadata": {
    "collapsed": false
   },
   "outputs": [
    {
     "name": "stdout",
     "output_type": "stream",
     "text": [
      "3.141593\n",
      "31.006277\n",
      "93648.047476\n"
     ]
    }
   ],
   "source": [
    "print(\"{:f}\".format(pi))\n",
    "print(\"{:f}\".format(pi**3))\n",
    "print(\"{:f}\".format(pi**10))"
   ]
  },
  {
   "cell_type": "code",
   "execution_count": 37,
   "metadata": {
    "collapsed": false
   },
   "outputs": [
    {
     "name": "stdout",
     "output_type": "stream",
     "text": [
      "    3.141593\n",
      "   31.006277\n",
      "93648.047476\n"
     ]
    }
   ],
   "source": [
    "print(\"{:12f}\".format(pi))\n",
    "print(\"{:12f}\".format(pi**3))\n",
    "print(\"{:12f}\".format(pi**10))"
   ]
  },
  {
   "cell_type": "code",
   "execution_count": 38,
   "metadata": {
    "collapsed": false
   },
   "outputs": [
    {
     "name": "stdout",
     "output_type": "stream",
     "text": [
      "00003.141593\n",
      "00031.006277\n",
      "93648.047476\n"
     ]
    }
   ],
   "source": [
    "print(\"{:012f}\".format(pi))\n",
    "print(\"{:012f}\".format(pi**3))\n",
    "print(\"{:012f}\".format(pi**10))"
   ]
  },
  {
   "cell_type": "markdown",
   "metadata": {},
   "source": [
    "`format` 함수는 인덱싱 기능까지 지원한다. "
   ]
  },
  {
   "cell_type": "code",
   "execution_count": 39,
   "metadata": {
    "collapsed": false
   },
   "outputs": [
    {
     "name": "stdout",
     "output_type": "stream",
     "text": [
      "10string1string\n"
     ]
    }
   ],
   "source": [
    "print(\"{2}{1}{0}\".format(a, b, 10))"
   ]
  },
  {
   "cell_type": "markdown",
   "metadata": {},
   "source": [
    "인덱싱을 위해 키워드를 사용할 수도 있다."
   ]
  },
  {
   "cell_type": "code",
   "execution_count": 40,
   "metadata": {
    "collapsed": false
   },
   "outputs": [
    {
     "name": "stdout",
     "output_type": "stream",
     "text": [
      "stringstring1string\n"
     ]
    }
   ],
   "source": [
    "print(\"{s1}{s2}{s1}\".format(s1=a, s2=b, i1=10))"
   ]
  },
  {
   "cell_type": "code",
   "execution_count": 41,
   "metadata": {
    "collapsed": false,
    "scrolled": false
   },
   "outputs": [
    {
     "name": "stdout",
     "output_type": "stream",
     "text": [
      "10string1string\n"
     ]
    }
   ],
   "source": [
    "print(\"{i1}{s2}{s1}\".format(s1=a, s2=b, i1=10))"
   ]
  },
  {
   "cell_type": "markdown",
   "metadata": {},
   "source": [
    "인덱싱과 서식지정자를 함께 사용할 수 있다"
   ]
  },
  {
   "cell_type": "code",
   "execution_count": 42,
   "metadata": {
    "collapsed": false
   },
   "outputs": [
    {
     "name": "stdout",
     "output_type": "stream",
     "text": [
      "   31.006277,     3.141593\n"
     ]
    }
   ],
   "source": [
    "print(\"{1:12f}, {0:12f}\".format(pi, pi**3))"
   ]
  },
  {
   "cell_type": "code",
   "execution_count": 43,
   "metadata": {
    "collapsed": false
   },
   "outputs": [
    {
     "name": "stdout",
     "output_type": "stream",
     "text": [
      "   31.006277,     3.141593\n"
     ]
    }
   ],
   "source": [
    "print(\"{p1:12f}, {p0:12f}\".format(p0=pi, p1=pi**3))"
   ]
  },
  {
   "cell_type": "markdown",
   "metadata": {},
   "source": [
    "`%` 연산자를 사용하는 방식과 `format` 함수를 사용하는 방식 중에 어떤 방식을 선택할지는 경우에 따라 다르다.\n",
    "\n",
    "* `%` 방식은 C, Java 등에서 일반적으로 지원되는 방식이다.\n",
    "* 반면에 `format` 방식은 좀 더 다양한 활용법을 갖고 있다."
   ]
  },
  {
   "cell_type": "markdown",
   "metadata": {},
   "source": [
    "## 고급 기술\n",
    "\n",
    "`str` 함수와 `repr` 함수에 대해 알아둘 필요가 있다."
   ]
  },
  {
   "cell_type": "markdown",
   "metadata": {},
   "source": [
    "### `str` 함수"
   ]
  },
  {
   "cell_type": "markdown",
   "metadata": {},
   "source": [
    "파이썬에서 사용하는 모든 객체는 `__str__` 메소드를 갖고 있으며, 이 메소드는 해당 객체를 보여주는 데에 사용된다. 예를 들어 `print` 명령어를 사용하면 무조건 해당 객체의 `__str__` 메소드가 호출되어 사용된다. \n",
    "\n",
    "또한 `str` 함수가 있어서 동일한 역할을 수행한다. "
   ]
  },
  {
   "cell_type": "code",
   "execution_count": 44,
   "metadata": {
    "collapsed": true
   },
   "outputs": [],
   "source": [
    "a = 3.141592"
   ]
  },
  {
   "cell_type": "code",
   "execution_count": 45,
   "metadata": {
    "collapsed": false
   },
   "outputs": [
    {
     "name": "stdout",
     "output_type": "stream",
     "text": [
      "3.141592\n"
     ]
    }
   ],
   "source": [
    "print(a)"
   ]
  },
  {
   "cell_type": "code",
   "execution_count": 46,
   "metadata": {
    "collapsed": false
   },
   "outputs": [
    {
     "data": {
      "text/plain": [
       "'3.141592'"
      ]
     },
     "execution_count": 46,
     "metadata": {},
     "output_type": "execute_result"
    }
   ],
   "source": [
    "a.__str__()"
   ]
  },
  {
   "cell_type": "code",
   "execution_count": 47,
   "metadata": {
    "collapsed": false
   },
   "outputs": [
    {
     "data": {
      "text/plain": [
       "'3.141592'"
      ]
     },
     "execution_count": 47,
     "metadata": {},
     "output_type": "execute_result"
    }
   ],
   "source": [
    "str(a)"
   ]
  },
  {
   "cell_type": "code",
   "execution_count": 48,
   "metadata": {
    "collapsed": false
   },
   "outputs": [
    {
     "data": {
      "text/plain": [
       "\"[2, 3.5, ['school', 'bus'], (1, 2)]\""
      ]
     },
     "execution_count": 48,
     "metadata": {},
     "output_type": "execute_result"
    }
   ],
   "source": [
    "b = [2, 3.5, ['school', 'bus'], (1,2)]\n",
    "str(b)"
   ]
  },
  {
   "cell_type": "markdown",
   "metadata": {},
   "source": [
    "`str` 함수는 문자열값을 리턴한다."
   ]
  },
  {
   "cell_type": "code",
   "execution_count": 49,
   "metadata": {
    "collapsed": false
   },
   "outputs": [
    {
     "data": {
      "text/plain": [
       "str"
      ]
     },
     "execution_count": 49,
     "metadata": {},
     "output_type": "execute_result"
    }
   ],
   "source": [
    "type(str(b))"
   ]
  },
  {
   "cell_type": "markdown",
   "metadata": {},
   "source": [
    "앞서 언급한 대로 `__str__` 메소드는 `print` 함수뿐만 아니라 서식을 사용할 때도 기본적으로 사용된다."
   ]
  },
  {
   "cell_type": "code",
   "execution_count": 50,
   "metadata": {
    "collapsed": false
   },
   "outputs": [
    {
     "name": "stdout",
     "output_type": "stream",
     "text": [
      "[2, 3.5, ['school', 'bus'], (1, 2)]\n"
     ]
    }
   ],
   "source": [
    "print(b)"
   ]
  },
  {
   "cell_type": "code",
   "execution_count": 51,
   "metadata": {
    "collapsed": false
   },
   "outputs": [
    {
     "data": {
      "text/plain": [
       "\"[2, 3.5, ['school', 'bus'], (1, 2)]\""
      ]
     },
     "execution_count": 51,
     "metadata": {},
     "output_type": "execute_result"
    }
   ],
   "source": [
    "\"%s\" % b"
   ]
  },
  {
   "cell_type": "code",
   "execution_count": 52,
   "metadata": {
    "collapsed": false
   },
   "outputs": [
    {
     "data": {
      "text/plain": [
       "\"[2, 3.5, ['school', 'bus'], (1, 2)]\""
      ]
     },
     "execution_count": 52,
     "metadata": {},
     "output_type": "execute_result"
    }
   ],
   "source": [
    "\"{}\".format(b)"
   ]
  },
  {
   "cell_type": "markdown",
   "metadata": {},
   "source": [
    "### `repr` 함수"
   ]
  },
  {
   "cell_type": "markdown",
   "metadata": {},
   "source": [
    "`__str__` 와 더불어 `__repr__` 또한 모든 파이썬 객체의 메소드로 존재한다. \n",
    "\n",
    "* `__str__`와 비슷한 기능을 수행하지만 `__str__` 보다 정확한 값을 사용한다.\n",
    "* `eval` 함수와 사용하여 본래의 값을 되살리는 기능을 제공한다.\n",
    "* `repr` 함수를 사용하면 해당 객체의 `__repr__` 메소드가 호출된다."
   ]
  },
  {
   "cell_type": "code",
   "execution_count": 53,
   "metadata": {
    "collapsed": false
   },
   "outputs": [],
   "source": [
    "c = str(pi)"
   ]
  },
  {
   "cell_type": "code",
   "execution_count": 54,
   "metadata": {
    "collapsed": false
   },
   "outputs": [
    {
     "data": {
      "text/plain": [
       "3.14159265359"
      ]
     },
     "execution_count": 54,
     "metadata": {},
     "output_type": "execute_result"
    }
   ],
   "source": [
    "pi1 = eval(c)\n",
    "pi1"
   ]
  },
  {
   "cell_type": "markdown",
   "metadata": {},
   "source": [
    "하지만 `pi1`을 이용하여 원주율 `pi` 값을 되살릴 수는 없다. "
   ]
  },
  {
   "cell_type": "code",
   "execution_count": 55,
   "metadata": {
    "collapsed": false
   },
   "outputs": [
    {
     "data": {
      "text/plain": [
       "2.0694557179012918e-13"
      ]
     },
     "execution_count": 55,
     "metadata": {},
     "output_type": "execute_result"
    }
   ],
   "source": [
    "pi1 - pi"
   ]
  },
  {
   "cell_type": "markdown",
   "metadata": {},
   "source": [
    "`repr` 함수는 `eval` 함수를 이용하여 `pi` 값을 되살릴 수 있다."
   ]
  },
  {
   "cell_type": "code",
   "execution_count": 56,
   "metadata": {
    "collapsed": true
   },
   "outputs": [],
   "source": [
    "pi2 = repr(pi)"
   ]
  },
  {
   "cell_type": "code",
   "execution_count": 57,
   "metadata": {
    "collapsed": false
   },
   "outputs": [
    {
     "data": {
      "text/plain": [
       "str"
      ]
     },
     "execution_count": 57,
     "metadata": {},
     "output_type": "execute_result"
    }
   ],
   "source": [
    "type(pi2)"
   ]
  },
  {
   "cell_type": "code",
   "execution_count": 58,
   "metadata": {
    "collapsed": false
   },
   "outputs": [
    {
     "data": {
      "text/plain": [
       "0.0"
      ]
     },
     "execution_count": 58,
     "metadata": {},
     "output_type": "execute_result"
    }
   ],
   "source": [
    "eval(pi2) - pi"
   ]
  },
  {
   "cell_type": "markdown",
   "metadata": {},
   "source": [
    "`repr` 함수를 활용하는 서식지정자는 `%r` 이다."
   ]
  },
  {
   "cell_type": "code",
   "execution_count": 59,
   "metadata": {
    "collapsed": false
   },
   "outputs": [
    {
     "data": {
      "text/plain": [
       "'3.14159265359'"
      ]
     },
     "execution_count": 59,
     "metadata": {},
     "output_type": "execute_result"
    }
   ],
   "source": [
    "\"%s\" % pi"
   ]
  },
  {
   "cell_type": "code",
   "execution_count": 60,
   "metadata": {
    "collapsed": false
   },
   "outputs": [
    {
     "data": {
      "text/plain": [
       "'3.141592653589793'"
      ]
     },
     "execution_count": 60,
     "metadata": {},
     "output_type": "execute_result"
    }
   ],
   "source": [
    "\"%r\" % pi"
   ]
  },
  {
   "cell_type": "code",
   "execution_count": 61,
   "metadata": {
    "collapsed": false
   },
   "outputs": [
    {
     "data": {
      "text/plain": [
       "'3'"
      ]
     },
     "execution_count": 61,
     "metadata": {},
     "output_type": "execute_result"
    }
   ],
   "source": [
    "\"%d\" % pi"
   ]
  },
  {
   "cell_type": "markdown",
   "metadata": {},
   "source": [
    "### 서식지정자 활용 정리\n",
    "\n",
    "원주율 pi 값을 표현하는 다양한 방식을 아래 표에 담아본다.\n",
    "\n",
    "<table style=\"width:100%\">\n",
    "  <tr>\n",
    "    <th>서식지정자</th>\n",
    "    <th>처리방식</th>\t\t\n",
    "    <th>예제</th>\n",
    "  </tr>\n",
    "  <tr>\n",
    "    <td>%f</td>\n",
    "    <td>부동소수점</td>\t\t\n",
    "    <td>'3.141593'</td>\n",
    "  </tr>\n",
    "  <tr>\n",
    "    <td>%e</td>\n",
    "    <td>지수함수 표현</td>\t\t\n",
    "    <td>'3.141593e+00'</td>\n",
    "  </tr>\n",
    "  <tr>\n",
    "    <td>%g</td>\n",
    "    <td>%f와 %e 중 짧은 것</td>\t\t\n",
    "    <td>'3.14159'</td>\n",
    "  </tr>\n",
    "  <tr>\n",
    "    <td>%d</td>\n",
    "    <td>정수형</td>\t\t\n",
    "    <td>'3'</td>\n",
    "  </tr>\n",
    "  <tr>\n",
    "    <td>%s</td>\n",
    "    <td>str()</td>\t\t\n",
    "    <td>'3.14159265359'</td>\n",
    "  </tr>\n",
    "  <tr>\n",
    "    <td>%r</td>\n",
    "    <td>repr()</td>\t\t\n",
    "    <td>'3.141592653589793'</td>\n",
    "  </tr>\n",
    "</table>"
   ]
  }
 ],
 "metadata": {
  "kernelspec": {
   "display_name": "Python 2",
   "language": "python",
   "name": "python2"
  },
  "language_info": {
   "codemirror_mode": {
    "name": "ipython",
    "version": 2
   },
   "file_extension": ".py",
   "mimetype": "text/x-python",
   "name": "python",
   "nbconvert_exporter": "python",
   "pygments_lexer": "ipython2",
   "version": "2.7.10"
  }
 },
 "nbformat": 4,
 "nbformat_minor": 0
}
