{
 "cells": [
  {
   "cell_type": "markdown",
   "metadata": {},
   "source": [
    "# 사전(Dictionary)\n",
    "\n",
    "* 해시테이블(hash table) 또는 딕셔너리 라고도 불린다."
   ]
  },
  {
   "cell_type": "markdown",
   "metadata": {},
   "source": [
    "(도시, 온도) 형태의 항목들로 이루어진 시퀀스 자료형을 만들어보자.\n",
    "예를 들어 리스트 또는 튜플을 활용할 수 있다.\n",
    "\n",
    "    L = [['평택', 22], ['수원', 18], ['제주', 25]]\n",
    "    \n",
    "만들기는 어렵지 않다. 하지만 만들고 나서 활용하기가 좀 귀찮다.\n",
    "예를 들어 수원의 온도를 알고 싶으면?\n",
    "\n",
    "* 방법 1: 인덱싱을 이용한다."
   ]
  },
  {
   "cell_type": "code",
   "execution_count": 2,
   "metadata": {
    "collapsed": true
   },
   "outputs": [],
   "source": [
    "L = [['평택', 22], ['수원', 18], ['제주', 25]]"
   ]
  },
  {
   "cell_type": "code",
   "execution_count": 3,
   "metadata": {},
   "outputs": [
    {
     "data": {
      "text/plain": [
       "18"
      ]
     },
     "execution_count": 3,
     "metadata": {},
     "output_type": "execute_result"
    }
   ],
   "source": [
    "L[1][1]"
   ]
  },
  {
   "cell_type": "markdown",
   "metadata": {},
   "source": [
    "그런데 이 방식은 인덱스 번호를 알고 있을 때만 가능하다. 리스트의 길이가 좀 만 길어지면 사용이 사실상 불가능한 방식이다."
   ]
  },
  {
   "cell_type": "markdown",
   "metadata": {},
   "source": [
    "* 방법 2: 반복문을 이용하여 탐색한다.    "
   ]
  },
  {
   "cell_type": "code",
   "execution_count": 4,
   "metadata": {},
   "outputs": [
    {
     "name": "stdout",
     "output_type": "stream",
     "text": [
      "18\n"
     ]
    }
   ],
   "source": [
    "for city in L:\n",
    "    if city[0] == '수원':\n",
    "        print(city[1])"
   ]
  },
  {
   "cell_type": "markdown",
   "metadata": {},
   "source": [
    "이방식은 시간이 매우 오래 걸릴 수 있다. 리스트의 길이가 1억인 경우 꽤 오래 기다릴 수 있다. \n",
    "\n",
    "Lab-08을 보면 시간이 매우 오래 걸릴 수 있음을 확인할 수 있다."
   ]
  },
  {
   "cell_type": "markdown",
   "metadata": {},
   "source": [
    "### 대안: 사전 자료형 활용\n",
    "\n",
    "이와같이 빠르게 정보를 찾고자 할 때는 사전 자료형을 이용하는 것이 좋다.\n",
    "\n",
    "사전 자료형에 대한 이해는 어학공부에 사용하는 사전을 떠올리면 쉽다. \n",
    "영어 사전의 경우 '단어 와 뜻'으로 이루어진 쌍들의 집합이라고 생각할 수 있다.\n",
    "사전 자료형도 동일하게 작동한다.\n",
    "\n",
    "앞서 예제에서 사용된 도시와 온도의 정보를 사전 자료형으로 만들면 아래와 같다.\n",
    "\n",
    "먼저 빈 사전을 선언한다."
   ]
  },
  {
   "cell_type": "code",
   "execution_count": 5,
   "metadata": {},
   "outputs": [],
   "source": [
    "Hash = {}"
   ]
  },
  {
   "cell_type": "markdown",
   "metadata": {},
   "source": [
    "이제 원하는 자료들의 쌍을 입력한다. \n",
    "예를 들어 '평택 온도는 22도' 라는 정보를 추가하고자 하면 아래와 같이 하면 된다."
   ]
  },
  {
   "cell_type": "code",
   "execution_count": 6,
   "metadata": {},
   "outputs": [],
   "source": [
    "Hash['Pyongtaek'] = 22"
   ]
  },
  {
   "cell_type": "markdown",
   "metadata": {},
   "source": [
    "이제 평택의 정보가 추가되었음을 확인할 수 있다."
   ]
  },
  {
   "cell_type": "code",
   "execution_count": 7,
   "metadata": {},
   "outputs": [
    {
     "data": {
      "text/plain": [
       "{'Pyongtaek': 22}"
      ]
     },
     "execution_count": 7,
     "metadata": {},
     "output_type": "execute_result"
    }
   ],
   "source": [
    "Hash"
   ]
  },
  {
   "cell_type": "markdown",
   "metadata": {},
   "source": [
    "이제 수원과 제주의 정보를 추가하고 확인해보자."
   ]
  },
  {
   "cell_type": "code",
   "execution_count": 8,
   "metadata": {},
   "outputs": [
    {
     "data": {
      "text/plain": [
       "{'Jeju': 25, 'Pyongtaek': 22, 'Suwon': 18}"
      ]
     },
     "execution_count": 8,
     "metadata": {},
     "output_type": "execute_result"
    }
   ],
   "source": [
    "Hash['Suwon'] = 18\n",
    "Hash['Jeju'] = 25\n",
    "Hash"
   ]
  },
  {
   "cell_type": "markdown",
   "metadata": {},
   "source": [
    "## 키(key) 와 키값(value)\n",
    "\n",
    "앞서 살펴보았듯 사전자료형의 항목들은 콜론(`:`)으로 구분된 두 개의 값들의 쌍으로 이루어진다.\n",
    "왼쪽에 있는 값을 키(key), 오른쪽에 위치하는 값은 키값(value)라 부른다. \n",
    "\n",
    "예를 들어 `Hash`에 사용된 키들은 `Pyeongtaek`, `Suwon`, `Jeju` 등이고 각 키들에 대응하는 키값은 각각 22, 18, 25이다. 키에 해당하는 키값을 확인하고자 하면 아래와 같이 명령하면 된다."
   ]
  },
  {
   "cell_type": "code",
   "execution_count": 13,
   "metadata": {},
   "outputs": [
    {
     "data": {
      "text/plain": [
       "22"
      ]
     },
     "execution_count": 13,
     "metadata": {},
     "output_type": "execute_result"
    }
   ],
   "source": [
    "Hash['Pyongtaek']"
   ]
  },
  {
   "cell_type": "code",
   "execution_count": 14,
   "metadata": {},
   "outputs": [
    {
     "data": {
      "text/plain": [
       "25"
      ]
     },
     "execution_count": 14,
     "metadata": {},
     "output_type": "execute_result"
    }
   ],
   "source": [
    "Hash['Jeju']"
   ]
  },
  {
   "cell_type": "markdown",
   "metadata": {},
   "source": [
    "사전에 사용된 키들만 따로 모아놓은 리스트를 만들어주는 사전 자료형 메소드가 있다."
   ]
  },
  {
   "cell_type": "code",
   "execution_count": 16,
   "metadata": {},
   "outputs": [
    {
     "data": {
      "text/plain": [
       "['Jeju', 'Pyongtaek', 'Anseong', 'Suwon']"
      ]
     },
     "execution_count": 16,
     "metadata": {},
     "output_type": "execute_result"
    }
   ],
   "source": [
    "H_keys = Hash.keys()\n",
    "H_keys"
   ]
  },
  {
   "cell_type": "markdown",
   "metadata": {},
   "source": [
    "##### 주의: 도시명들의 순서에 주의하라. 알파벳 순도 아니다. 규칙이 없으며 전혀 중요하지 않다."
   ]
  },
  {
   "cell_type": "markdown",
   "metadata": {},
   "source": [
    "### 사전 자료형 반복문\n",
    "\n",
    "사전자료형을 반복문에 활용할 수 있다.\n",
    "이를 위해 `keys` 메소드를 사용한다.\n",
    "\n",
    "예를 들어, 도시와 온도를 동시에 추출하여 모두 보여주고자 할 경우 아래와 같이 하면 된다."
   ]
  },
  {
   "cell_type": "code",
   "execution_count": 18,
   "metadata": {},
   "outputs": [
    {
     "name": "stdout",
     "output_type": "stream",
     "text": [
      "Jeju의 온도는 25이다.\n",
      "Pyongtaek의 온도는 22이다.\n",
      "Anseong의 온도는 22이다.\n",
      "Suwon의 온도는 18이다.\n"
     ]
    }
   ],
   "source": [
    "for key in Hash.keys():\n",
    "    print(\"{}의 온도는 {}이다.\".format(key, Hash[key]))"
   ]
  },
  {
   "cell_type": "markdown",
   "metadata": {},
   "source": [
    "`keys` 메소드를 사용하지 않아도 내부적으로 동일하게 취급한다."
   ]
  },
  {
   "cell_type": "code",
   "execution_count": 20,
   "metadata": {},
   "outputs": [
    {
     "name": "stdout",
     "output_type": "stream",
     "text": [
      "Jeju의 온도는 25이다.\n",
      "Pyongtaek의 온도는 22이다.\n",
      "Anseong의 온도는 22이다.\n",
      "Suwon의 온도는 18이다.\n"
     ]
    }
   ],
   "source": [
    "for key in Hash:\n",
    "    print(\"{}의 온도는 {}이다.\".format(key, Hash[key]))"
   ]
  },
  {
   "cell_type": "markdown",
   "metadata": {},
   "source": [
    "사전 자료형에 사용될 수 있는 메소드를 확인해보면 아래와 같다."
   ]
  },
  {
   "cell_type": "code",
   "execution_count": 21,
   "metadata": {},
   "outputs": [
    {
     "data": {
      "text/plain": [
       "['__class__',\n",
       " '__cmp__',\n",
       " '__contains__',\n",
       " '__delattr__',\n",
       " '__delitem__',\n",
       " '__doc__',\n",
       " '__eq__',\n",
       " '__format__',\n",
       " '__ge__',\n",
       " '__getattribute__',\n",
       " '__getitem__',\n",
       " '__gt__',\n",
       " '__hash__',\n",
       " '__init__',\n",
       " '__iter__',\n",
       " '__le__',\n",
       " '__len__',\n",
       " '__lt__',\n",
       " '__ne__',\n",
       " '__new__',\n",
       " '__reduce__',\n",
       " '__reduce_ex__',\n",
       " '__repr__',\n",
       " '__setattr__',\n",
       " '__setitem__',\n",
       " '__sizeof__',\n",
       " '__str__',\n",
       " '__subclasshook__',\n",
       " 'clear',\n",
       " 'copy',\n",
       " 'fromkeys',\n",
       " 'get',\n",
       " 'has_key',\n",
       " 'items',\n",
       " 'iteritems',\n",
       " 'iterkeys',\n",
       " 'itervalues',\n",
       " 'keys',\n",
       " 'pop',\n",
       " 'popitem',\n",
       " 'setdefault',\n",
       " 'update',\n",
       " 'values',\n",
       " 'viewitems',\n",
       " 'viewkeys',\n",
       " 'viewvalues']"
      ]
     },
     "execution_count": 21,
     "metadata": {},
     "output_type": "execute_result"
    }
   ],
   "source": [
    "dir(Hash)"
   ]
  },
  {
   "cell_type": "markdown",
   "metadata": {},
   "source": [
    "`pop`, `has_key`, `values` 등에 대해서는 기본적으로 알고 있는 것이 좋다."
   ]
  },
  {
   "cell_type": "code",
   "execution_count": 25,
   "metadata": {},
   "outputs": [
    {
     "ename": "KeyError",
     "evalue": "'Suwon'",
     "output_type": "error",
     "traceback": [
      "\u001b[0;31m---------------------------------------------------------------------------\u001b[0m",
      "\u001b[0;31mKeyError\u001b[0m                                  Traceback (most recent call last)",
      "\u001b[0;32m<ipython-input-25-cd4d76437179>\u001b[0m in \u001b[0;36m<module>\u001b[0;34m()\u001b[0m\n\u001b[0;32m----> 1\u001b[0;31m \u001b[0mHash\u001b[0m\u001b[0;34m.\u001b[0m\u001b[0mpop\u001b[0m\u001b[0;34m(\u001b[0m\u001b[0;34m\"Suwon\"\u001b[0m\u001b[0;34m)\u001b[0m\u001b[0;34m\u001b[0m\u001b[0m\n\u001b[0m\u001b[1;32m      2\u001b[0m \u001b[0mHash\u001b[0m\u001b[0;34m\u001b[0m\u001b[0m\n",
      "\u001b[0;31mKeyError\u001b[0m: 'Suwon'"
     ]
    }
   ],
   "source": [
    "Hash.pop(\"Suwon\")\n",
    "Hash"
   ]
  },
  {
   "cell_type": "code",
   "execution_count": 26,
   "metadata": {},
   "outputs": [
    {
     "data": {
      "text/plain": [
       "False"
      ]
     },
     "execution_count": 26,
     "metadata": {},
     "output_type": "execute_result"
    }
   ],
   "source": [
    "Hash.has_key(\"Suwon\")"
   ]
  },
  {
   "cell_type": "code",
   "execution_count": 27,
   "metadata": {},
   "outputs": [
    {
     "data": {
      "text/plain": [
       "True"
      ]
     },
     "execution_count": 27,
     "metadata": {},
     "output_type": "execute_result"
    }
   ],
   "source": [
    "Hash.has_key(\"Jeju\")"
   ]
  },
  {
   "cell_type": "code",
   "execution_count": 28,
   "metadata": {},
   "outputs": [
    {
     "data": {
      "text/plain": [
       "[25, 22, 22]"
      ]
     },
     "execution_count": 28,
     "metadata": {},
     "output_type": "execute_result"
    }
   ],
   "source": [
    "Hash.values()"
   ]
  },
  {
   "cell_type": "markdown",
   "metadata": {},
   "source": [
    "## 파이썬 사전 자료형의 특징\n",
    "\n",
    "* 키에는 불변(immutable) 자료형만 사용될 쉬 있다. 즉, 숫자, 문자열, 튜플 등만 키로 사용된다.\n",
    "\n",
    "* 키값으로는 어떤 자료형도 사용 가능하다.\n",
    "\n",
    "* 사전 자료형은 매우 빠르게 정보를 취급한다. 경우에 따라 리스트 인덱싱보다 몇 십배 빠르다. \n",
    "  (Lab-08 참조)\n",
    "  \n",
    "* 사전 자료형은 모든 프로그래밍언어에서 제공된다. \n",
    "  활용법이 언어마다 다르지만 파이썬에서의 활용법은 상대적으로 훨씬 단순하다."
   ]
  }
 ],
 "metadata": {
  "kernelspec": {
   "display_name": "Python 2",
   "language": "python",
   "name": "python2"
  },
  "language_info": {
   "codemirror_mode": {
    "name": "ipython",
    "version": 2
   },
   "file_extension": ".py",
   "mimetype": "text/x-python",
   "name": "python",
   "nbconvert_exporter": "python",
   "pygments_lexer": "ipython2",
   "version": "2.7.13"
  }
 },
 "nbformat": 4,
 "nbformat_minor": 1
}
