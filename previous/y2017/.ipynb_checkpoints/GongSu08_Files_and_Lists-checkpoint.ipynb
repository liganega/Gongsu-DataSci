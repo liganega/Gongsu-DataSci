{
 "cells": [
  {
   "cell_type": "markdown",
   "metadata": {},
   "source": [
    "# 텍스트 파일 불러오기와 리스트 활용"
   ]
  },
  {
   "cell_type": "markdown",
   "metadata": {},
   "source": [
    "#### 수정 사항\n",
    "\n",
    "* 적절한 연습문제 추가 필요"
   ]
  },
  {
   "cell_type": "markdown",
   "metadata": {},
   "source": [
    "처리해야 할 데이터 양이 많아지면 파일에 저장한 후에 필요한 경우 재활용해야 한다.\n",
    "또한 개별 데이터를 따로따로 처리하기 보다는 하나의 데이터로 묶어서 처리할 수 있어야 한다.\n",
    "많은 데이처를 하나의 데이터로 묶어서 처리하는 다양한 자료형이 제공되며 여기서는 파이썬의 리스트 자료형의 활용을 알아본다."
   ]
  },
  {
   "cell_type": "markdown",
   "metadata": {},
   "source": [
    "## 주요 내용"
   ]
  },
  {
   "cell_type": "markdown",
   "metadata": {},
   "source": [
    "텍스트 파일의 내용을 읽어드리는 방법과 파이썬에 내장되어 있는 컬렉션 자료형 중의 하나인 리스트(list)를 \n",
    "활용하는 방법에 대해 알아본다.\n",
    "\n",
    "**리스트(lists)**: 파이썬에서 사용할 수 있는 **임의의** 값들을 모아서 \n",
    "하나의 값으로 취급하는 자료형\n",
    "\n",
    "* 사용 형태: 대괄호 사용\n",
    "```\n",
    "even_numbers_list = [2, 4, 6, 8, 10]\n",
    "todays_datatypes_list = ['list', 'tuple', 'dictionary']\n",
    "```\n",
    "\n",
    "* 특징: 임의의 자료형 값들을 섞어서 항목으로 사용 가능\n",
    "```\n",
    "mixed_list = [1, 'abs', [2.1, 4.5]]\n",
    "```\n",
    "\n",
    "* 인덱스 또는 슬라이싱을 이용하여 각각의 항목에 또는 여러 개의 항목에 대한 \n",
    "    정보를 활용할 수 있다. 사용법은 문자열의 경우와 동일.\n",
    "\n",
    "* 리스트는 수정 가능하다. 즉, 가변 자료형이다. \n",
    "\n",
    "* 리스트와 관련되어 많이 사용되는 메소드는 다음과 같다.\n",
    "    * `append()`: 기존의 리스트 끝에 항목 추가\n",
    "    * `extend()`: 두 개의 리스트 이어붙이기\n",
    "    * `insert()`: 기존의 리스트 중간에 항목 삽입\n",
    "    * `pop()`, `remove()`, `del`: 항목 삭제\n",
    "    * `count()`: 리스트에 포함된 특정 항목이 몇 번 나타나는지 세어 줌.\n",
    "    * `index()`: 특정 항목의 인덱스가 몇 번인지 확인해 줌."
   ]
  },
  {
   "cell_type": "markdown",
   "metadata": {},
   "source": [
    "## 오늘의 주요 예제"
   ]
  },
  {
   "cell_type": "markdown",
   "metadata": {},
   "source": [
    "`data` 디렉토리에 위치한\n",
    "`scores_list.txt` 파일은 선수 여덟 명의 점수를 담고 있다.\n",
    "\n",
    "```txt\n",
    "Name    Score\n",
    "player1 21.09 \n",
    "player2 20.32 \n",
    "player3 21.81 \n",
    "player4 22.97 \n",
    "player5 23.29 \n",
    "player6 22.09 \n",
    "player7 21.20 \n",
    "player8 22.16\n",
    "```\n",
    "\n",
    "목표: 위 파일로부터 1~3등 선수의 점수를 아래와 같이 확인하기\n",
    "```txt\n",
    "1등 23.29 \n",
    "2등 22.97 \n",
    "3등 22.16 \n",
    "```\n",
    "\n",
    "**참조:** Head First Programming(한빛미디어) 4장"
   ]
  },
  {
   "cell_type": "markdown",
   "metadata": {},
   "source": [
    "## 준비 사항\n",
    "\n",
    "* 파일에 저장된 데이터를 불러오거나 파일에 데이터를 저장하는 방법에 대한 설명은 \n",
    "    [여기](https://github.com/liganega/bpp/blob/master/notes/04a-ThinkPython-Files.ipynb)를 \n",
    "    참조한다.\n",
    "    \n",
    "* 리스트의 정의와 기초적인 활용법에 대한 자세한 설명은 \n",
    "    [여기](https://github.com/liganega/bpp/blob/master/notes/04b-ThinkPython-Lists.ipynb)를\n",
    "    참조한다."
   ]
  },
  {
   "cell_type": "markdown",
   "metadata": {},
   "source": [
    "## 파일에 저장된 데이터 불러오기"
   ]
  },
  {
   "cell_type": "markdown",
   "metadata": {},
   "source": [
    "즉, 첫째 줄은 선수이름(Name)과 점수(Score)의 항목이 표시되어 있으며\n",
    "둘째 줄부터 선수이름과 점수가 작성되어 있다.\n",
    "\n",
    "위 파일의 내용을 아래와 같이 파이썬 코드로 확인할 수 있다."
   ]
  },
  {
   "cell_type": "code",
   "execution_count": 1,
   "metadata": {},
   "outputs": [
    {
     "name": "stdout",
     "output_type": "stream",
     "text": [
      "Name    Score\n",
      "\n",
      "player1 21.09\n",
      "\n",
      "player2 20.32\n",
      "\n",
      "player3 21.81\n",
      "\n",
      "player4 22.97\n",
      "\n",
      "player5 23.29\n",
      "\n",
      "player6 22.09\n",
      "\n",
      "player7 21.20\n",
      "\n",
      "player8 22.16\n",
      "\n"
     ]
    }
   ],
   "source": [
    "result_f = open(\"data/scores_list.txt\")   # 파일 열기\n",
    "\n",
    "for line in result_f:                                  # 각 줄 내용 출력하기\n",
    "    print(line)\n",
    "\n",
    "result_f.close()                                       # 파일 닫기"
   ]
  },
  {
   "cell_type": "markdown",
   "metadata": {},
   "source": [
    "#### 주의사항\n",
    "줄 사이에 새로운 줄이 포함된 이유는 파일을 작성하면서 줄바꾸기를 할 때 사용하는 엔터에 의해 줄바꾸기 기호(`\\n`)가\n",
    "각 줄의 맨 끝에 포함되기 때문이다.\n",
    "따라서 줄바꾸기를 한 번 더 하는 것을 방지하기 위해서 `strip` 메소드를 활용하는 것이 좋다."
   ]
  },
  {
   "cell_type": "code",
   "execution_count": 2,
   "metadata": {},
   "outputs": [
    {
     "name": "stdout",
     "output_type": "stream",
     "text": [
      "Name    Score\n",
      "player1 21.09\n",
      "player2 20.32\n",
      "player3 21.81\n",
      "player4 22.97\n",
      "player5 23.29\n",
      "player6 22.09\n",
      "player7 21.20\n",
      "player8 22.16\n"
     ]
    }
   ],
   "source": [
    "result_f = open(\"data/scores_list.txt\")\n",
    "\n",
    "for line in result_f: \n",
    "    print(line.strip())              # strip 메소드 활용하기\n",
    "\n",
    "result_f.close() "
   ]
  },
  {
   "cell_type": "markdown",
   "metadata": {},
   "source": [
    "#### 주의사항\n",
    "* `strip` 메소드를 활용하여 데이터를 보다 깔끔하게 정리하는 것은 좋은 버릇이다.\n",
    "* 하지만 반드시 필요한 것은 아닐 수도 있기 때문에 사용여부를 판단해야 한다.\n",
    "* 경우에 따라 `strip` 메소드를 사용해도 되고 그렇지 않아도 된다."
   ]
  },
  {
   "cell_type": "markdown",
   "metadata": {},
   "source": [
    "이제 1등 점수를 확인하고자 한다. 이때 이전에 배운 예외처리 기술을 활용해보자."
   ]
  },
  {
   "cell_type": "markdown",
   "metadata": {},
   "source": [
    "### 예제\n",
    "\n",
    "아래 예제는 없는 파일을 `open` 함수로 열려고 할 때 발생하는 문제를 처리하는 기술이다.\n",
    "\n",
    "먼저 없는 파일을 열려고 할 때 오류가 발생함을 확인하자."
   ]
  },
  {
   "cell_type": "code",
   "execution_count": 3,
   "metadata": {},
   "outputs": [
    {
     "ename": "FileNotFoundError",
     "evalue": "[Errno 2] No such file or directory: 'data/no_file.txt'",
     "output_type": "error",
     "traceback": [
      "\u001b[0;31m---------------------------------------------------------------------------\u001b[0m",
      "\u001b[0;31mFileNotFoundError\u001b[0m                         Traceback (most recent call last)",
      "\u001b[0;32m<ipython-input-3-b7955c7e557c>\u001b[0m in \u001b[0;36m<module>\u001b[0;34m()\u001b[0m\n\u001b[0;32m----> 1\u001b[0;31m \u001b[0mfile\u001b[0m \u001b[0;34m=\u001b[0m \u001b[0mopen\u001b[0m\u001b[0;34m(\u001b[0m\u001b[0;34m'data/no_file.txt'\u001b[0m\u001b[0;34m)\u001b[0m\u001b[0;34m\u001b[0m\u001b[0m\n\u001b[0m",
      "\u001b[0;31mFileNotFoundError\u001b[0m: [Errno 2] No such file or directory: 'data/no_file.txt'"
     ]
    }
   ],
   "source": [
    "file = open('data/no_file.txt')"
   ]
  },
  {
   "cell_type": "markdown",
   "metadata": {},
   "source": [
    "이런 경우에는 열고자 하는 파일이 존재하지 않는다는 정보를 전달하는 것이 단순히 오류가 발생하면서 실행이 멈추는 것보다 훨씬 유익하다."
   ]
  },
  {
   "cell_type": "code",
   "execution_count": 4,
   "metadata": {},
   "outputs": [
    {
     "name": "stdout",
     "output_type": "stream",
     "text": [
      "열고자 하는 파일이 존재하지 않습니다.\n"
     ]
    }
   ],
   "source": [
    "try:\n",
    "    file = open('data/no_file.txt')\n",
    "except:\n",
    "    print(\"열고자 하는 파일이 존재하지 않습니다.\")"
   ]
  },
  {
   "cell_type": "markdown",
   "metadata": {},
   "source": [
    "## 1, 2, 3등 점수 확인하기"
   ]
  },
  {
   "cell_type": "markdown",
   "metadata": {},
   "source": [
    "### 1등 점수 확인하기"
   ]
  },
  {
   "cell_type": "markdown",
   "metadata": {},
   "source": [
    "앞서 파일 내용을 확인해 보았듯 각 줄마다 선수이름과 점수가 공백을 사이로 두고 각 줄에 적혀 있다.\n",
    "따라서 아래와 같이 `split` 메소드를 활용하여 각 줄을 쪼개어 두 번째 항목을 확인할 수 있다."
   ]
  },
  {
   "cell_type": "markdown",
   "metadata": {},
   "source": [
    "#### 주의사항\n",
    "\n",
    "`split` 메소드의 기능을 확인해야 한다.\n",
    "예를 들어 `Name   Score`라는 문자열을 공백을 기준으로 쪼개면 길이가 두 개의 단어로 구성된 리스트가 생성된다."
   ]
  },
  {
   "cell_type": "code",
   "execution_count": 5,
   "metadata": {},
   "outputs": [
    {
     "data": {
      "text/plain": [
       "['Name', 'Score']"
      ]
     },
     "execution_count": 5,
     "metadata": {},
     "output_type": "execute_result"
    }
   ],
   "source": [
    "'Name   Score'.split()"
   ]
  },
  {
   "cell_type": "markdown",
   "metadata": {},
   "source": [
    "파일의 각 줄이 동일한 모양을 갖고 있다는 점에 착안하여 아래와 같이 각줄의 내용 중에서 점수에 해당하는 부분을\n",
    "아래와 같이 확인할 수 있다.\n",
    "\n",
    "**주의:** 리스트의 색인도 문자열의 경우처럼 0부터 시작한다. 따라서 리스트의 둘째 항목의 색인은 1인다."
   ]
  },
  {
   "cell_type": "code",
   "execution_count": 6,
   "metadata": {},
   "outputs": [
    {
     "name": "stdout",
     "output_type": "stream",
     "text": [
      "Score\n",
      "21.09\n",
      "20.32\n",
      "21.81\n",
      "22.97\n",
      "23.29\n",
      "22.09\n",
      "21.20\n",
      "22.16\n"
     ]
    }
   ],
   "source": [
    "result_f = open(\"data/scores_list.txt\")\n",
    "\n",
    "for line in result_f: \n",
    "    record = line.split()\n",
    "    print(record[1])\n",
    "\n",
    "result_f.close() "
   ]
  },
  {
   "cell_type": "markdown",
   "metadata": {},
   "source": [
    "그런데 첫째 줄 내용은 점수를 비교하는 데에 필요없다. \n",
    "따라서 무시하는 방법을 사용하도록 하자.\n",
    "\n",
    "특정 줄을 무시하는 방법은 여러 기술이 있지만 여기서는 `try ... except ...` 명령문을 이용한 **예외처리** 기술을 활용한다."
   ]
  },
  {
   "cell_type": "markdown",
   "metadata": {},
   "source": [
    "**주의:**\n",
    "여기서 예외처리 기술을 이용하는 이유는 다음과 같다.\n",
    "* `split` 메소드로 쪼개진 값들은 모두 문자열로 처리된다.\n",
    "* 하지만 점수를 비교하기 위해서는 부동소수점으로 형변환 시키는 것이 좋다.\n",
    "* 그런데 첫째 줄에 `float` 함수를 적용하면 오류가 발생한다.\n",
    "* 따라서 오류가 발생할 때 프로그램의 실행을 멈추지 않고 다른 일을 하도록 예외처리를 해주어야 한다.\n",
    "* 아래 코드에서는 `float` 함수를 실행할 때 오류가 발생하면 무시하고 다음 줄로 넘어가는 식으로 오류처리를 하였다."
   ]
  },
  {
   "cell_type": "code",
   "execution_count": 7,
   "metadata": {},
   "outputs": [
    {
     "name": "stdout",
     "output_type": "stream",
     "text": [
      "1등 점수는 23.29 입니다.\n"
     ]
    }
   ],
   "source": [
    "result_f = open(\"data/scores_list.txt\")\n",
    "\n",
    "highest_score = 0                   # 1등 점수 저장\n",
    "\n",
    "for line in result_f: \n",
    "    record = line.split()\n",
    "\n",
    "    try:                           # 첫줄 제외 용도\n",
    "        score = float(record[1])\n",
    "    except:\n",
    "        continue\n",
    "\n",
    "    if highest_score < score:       # 1등 점수 갱신 경우 확인\n",
    "        highest_score = score\n",
    "    else:\n",
    "        continue\n",
    "\n",
    "result_f.close() \n",
    "\n",
    "print(\"1등 점수는\", highest_score, \"입니다.\")"
   ]
  },
  {
   "cell_type": "markdown",
   "metadata": {},
   "source": [
    "### 2등 점수 확인하기\n",
    "\n",
    "2등 점수까지 확인하려면 2등 점수를 기억할 변수가 하나 더 필요하며\n",
    "확인된 점수가 기존의 1등 점수보다 큰지, 2등 점수보다 큰지 여부에 따라 1, 2등 점수를 기억하는 변수의 값들을 \n",
    "업데이트 해야 한다."
   ]
  },
  {
   "cell_type": "code",
   "execution_count": 8,
   "metadata": {},
   "outputs": [
    {
     "name": "stdout",
     "output_type": "stream",
     "text": [
      "1등 점수는 23.29 입니다.\n",
      "2등 점수는 22.97 입니다.\n"
     ]
    }
   ],
   "source": [
    "result_f = open(\"data/scores_list.txt\")\n",
    "\n",
    "highest_score = 0\n",
    "second_highest_score = 0                    # 2등 점수 저장\n",
    "\n",
    "for line in result_f: \n",
    "    record = line.split()\n",
    "\n",
    "    try: \n",
    "        score = float(record[1])\n",
    "    except:\n",
    "        continue\n",
    "\n",
    "    if highest_score < score:               # 1, 2등 점수 갱신 경우 확인\n",
    "        second_highest_score = highest_score\n",
    "        highest_score = score\n",
    "    elif second_highest_score < score:      # 2등 점수 갱신 경우 확인\n",
    "        second_highest_score = score\n",
    "    else:\n",
    "        continue\n",
    "\n",
    "result_f.close() \n",
    "\n",
    "print(\"1등 점수는\", highest_score, \"입니다.\")\n",
    "print(\"2등 점수는\", second_highest_score, \"입니다.\")"
   ]
  },
  {
   "cell_type": "markdown",
   "metadata": {},
   "source": [
    "### 3등 점수 확인하기\n",
    "\n",
    "이제 3등 점수까지 확인하려면 코드를 더 많이 수정해야 하며, 더 많은 변수와 조건문을 사용해야 한다."
   ]
  },
  {
   "cell_type": "code",
   "execution_count": 9,
   "metadata": {},
   "outputs": [
    {
     "name": "stdout",
     "output_type": "stream",
     "text": [
      "1등 점수는 23.29 입니다.\n",
      "2등 점수는 22.97 입니다.\n",
      "3등 점수는 22.16 입니다.\n"
     ]
    }
   ],
   "source": [
    "result_f = open(\"data/scores_list.txt\")\n",
    "\n",
    "highest_score = 0\n",
    "second_highest_score = 0\n",
    "third_highest_score = 0                          # 3등 점수 저장\n",
    "\n",
    "for line in result_f: \n",
    "    record = line.split()\n",
    "\n",
    "    try: \n",
    "        score = float(record[1])\n",
    "    except:\n",
    "        continue\n",
    "\n",
    "    if highest_score < score:                     # 1, 2, 3등 점수 갱신 확인\n",
    "        third_highest_score = second_highest_score\n",
    "        second_highest_score = highest_score\n",
    "        highest_score = score\n",
    "    elif second_highest_score < score:            # 2, 3등 점수 갱신 확인\n",
    "        third_highest_score = second_highest_score\n",
    "        second_highest_score = score\n",
    "    elif third_highest_score < score:             # 3등 점수 갱신 확인\n",
    "        third_highest_score = score        \n",
    "    else:\n",
    "        continue\n",
    "\n",
    "result_f.close() \n",
    "\n",
    "print(\"1등 점수는\", highest_score, \"입니다.\")\n",
    "print(\"2등 점수는\", second_highest_score, \"입니다.\")\n",
    "print(\"3등 점수는\", third_highest_score, \"입니다.\")"
   ]
  },
  {
   "cell_type": "markdown",
   "metadata": {},
   "source": [
    "### 나쁜 프로그래밍"
   ]
  },
  {
   "cell_type": "markdown",
   "metadata": {},
   "source": [
    "앞서 1등까지, 2등까지, 3등까지 점수를 확인하는 코드는 각자 다르며, 점처 길어지고 복잡해졌다.\n",
    "코드를 이런 식으로 구현하면 안된다.\n",
    "\n",
    "무엇보다도 원하는 등수에 따라 코드 자체가 수정되어야 하는 방식으로 프로그래밍을 하면 절대 안된다.\n",
    "그럼 어떻게 할까?\n",
    "\n",
    "앞선 코드의 근본적인 문제점은 각 선수의 점수를 따라따로 관리하기 때문에 발생한다.\n",
    "따라서 선수의 점수를 모아서 한꺼번에 처리하는 기술이 요구된다.\n",
    "여기서는 리스트 자료형을 활용하여 원하는 등수와 선수의 수에 상관없이 동일한 코드로 원하는 결과를 \n",
    "리턴하는 프로그램을 구현하고자 한다."
   ]
  },
  {
   "cell_type": "markdown",
   "metadata": {},
   "source": [
    "## 리스트 활용"
   ]
  },
  {
   "cell_type": "markdown",
   "metadata": {},
   "source": [
    "몇 등 점수를 알아내야 하는가와 상관없이 모든 질문에 답을 하는 하나의 프로그램을 리스트를 활용하여\n",
    "구현하고자 하며, 아이디어는 다음과 같다.\n",
    "\n",
    "* 서핑 대회 참가선수들의 점수만을 따로 모아 놓은 리스트를 생성한다.\n",
    "* 리스트의 항목들을 숫자크기 역순으로 정렬(sorting)한다.\n",
    "* 역순, 즉 내림차순으로 정렬된 리스트의 색인을 이용하여 원하는 등수의 점수를 확인한다."
   ]
  },
  {
   "cell_type": "markdown",
   "metadata": {},
   "source": [
    "### 기본 아이디어\n",
    "\n",
    "**질문:** 그렇다면 점수만 뽑아서 모은 다음에 점수들을 순서대로 나열하는 방법이 있으면 좋지 않을까?\n",
    "\n",
    "**답:** 매우 그렇다.\n",
    "\n",
    "**방법:** `split()`, `append()` 메소드를 아래와 같이 `for` 문과 함께 활용하면 됨."
   ]
  },
  {
   "cell_type": "code",
   "execution_count": 10,
   "metadata": {},
   "outputs": [
    {
     "name": "stdout",
     "output_type": "stream",
     "text": [
      "The top scores were:\n",
      "23.29\n",
      "22.97\n",
      "22.16\n"
     ]
    }
   ],
   "source": [
    "result_f = open(\"data/scores_list.txt\")\n",
    "\n",
    "score_list = []                         # 점수 저장 리스트 생성\n",
    "\n",
    "for line in result_f: \n",
    "    (name, score) = line.split()        # 각 줄을 두 단어의 리스트로 쪼개기\n",
    "    try:\n",
    "        score_list.append(float(score)) # 첫째 줄 제외. 숫자만 scores 리스트에 추가\n",
    "    except:\n",
    "        continue\n",
    "\n",
    "result_f.close() \n",
    "\n",
    "score_list.sort()                       # 리스트를 크기순으로 정렬(오름차순)\n",
    "score_list.reverse()                    # 리스트의 항목들의 순서 뒤집기\n",
    "\n",
    "print(\"The top scores were:\") \n",
    "print(score_list[0])                    # 0번 색인값 = 1등 점수\n",
    "print(score_list[1])                    # 1번 색인값 = 2등 점수\n",
    "print(score_list[2])                    # 2번 색인값 = 3등 점수"
   ]
  },
  {
   "cell_type": "markdown",
   "metadata": {},
   "source": [
    "#### 주의사항\n",
    "위 코드의 4번 줄에 사용된 `line.split()`이 선수이름과 점수를 쪼개는 과정이다.\n",
    "\n",
    "아래 코드는 위 코드를 좀 더 세련되게 구현한 것이다. \n",
    "아래 코드의 4번 줄 내용은 `split()` 메소드를 이용하여 선수 이름과 점수로 쪼개진\n",
    "각각의 값을 갖는 변수를 동시에 선언하고 있다.\n",
    "(**주의:** `split()`의 결과로 길이가 2인 리스트를 얻는다는 것을 미리 예상하였음에 주의하라.)\n",
    "\n",
    "```python\n",
    "(name, score) = line.split()\n",
    "```\n",
    "\n",
    "위와 같이 하면 다음 처럼 한 것과 동일한 일을 하게 된다.\n",
    "\n",
    "```python\n",
    "name = line.split()[0]\n",
    "score = line.split()[1]\n",
    "```"
   ]
  },
  {
   "cell_type": "markdown",
   "metadata": {},
   "source": [
    "#### 주의사항\n",
    "아래 두 줄의 코드는 리스트를 내림차순으로 정렬한다.\n",
    "\n",
    "```python\n",
    "score_list.sort()\n",
    "score_list.reverse()\n",
    "```\n",
    "\n",
    "위 두 줄의 코드를 아래와 같이 한 줄로 구현할 수 있다.\n",
    "\n",
    "```python\n",
    "score_list.sort(reverse=True)\n",
    "```"
   ]
  },
  {
   "cell_type": "code",
   "execution_count": 11,
   "metadata": {},
   "outputs": [
    {
     "name": "stdout",
     "output_type": "stream",
     "text": [
      "The top scores were:\n",
      "23.29\n",
      "22.97\n",
      "22.16\n"
     ]
    }
   ],
   "source": [
    "result_f = open(\"data/scores_list.txt\")\n",
    "\n",
    "score_list = []                        \n",
    "\n",
    "for line in result_f: \n",
    "    (name, score) = line.split()       \n",
    "    try:\n",
    "        score_list.append(float(score))\n",
    "    except:\n",
    "        continue\n",
    "\n",
    "result_f.close() \n",
    "\n",
    "score_list.sort(reverse=True)           # 리스트를 내림차순으로 정렬\n",
    "\n",
    "print(\"The top scores were:\") \n",
    "print(score_list[0])   \n",
    "print(score_list[1])   \n",
    "print(score_list[2])   "
   ]
  },
  {
   "cell_type": "markdown",
   "metadata": {},
   "source": [
    "## 함수 활용"
   ]
  },
  {
   "cell_type": "markdown",
   "metadata": {},
   "source": [
    "앞서 살펴본 코드를 함수로 추상화하면 원하는 등수의 점수를 함수호출로 간단하게 확인할 수 있다.\n",
    "\n",
    "**주의:** 함수의 정의화 기초적인 활용법에 대한 자세한 설명은 \n",
    "    [여기](https://github.com/liganega/bpp/blob/master/notes/03-ThinkPython-Functions.ipynb)를\n",
    "    참조한다."
   ]
  },
  {
   "cell_type": "code",
   "execution_count": 12,
   "metadata": {},
   "outputs": [],
   "source": [
    "def ranking(rank):                        # 원하는 등수를 인자로 사용\n",
    "    result_f = open(\"data/scores_list.txt\")\n",
    "\n",
    "    score_list = [] \n",
    "\n",
    "    for line in result_f: \n",
    "        (name, score) = line.split() \n",
    "        try:\n",
    "            score_list.append(float(score)) \n",
    "        except:\n",
    "            continue\n",
    "    result_f.close() \n",
    "\n",
    "    score_list.sort(reverse=True) \n",
    "    \n",
    "    return score_list[rank-1]               # 원하는 등수의 점수 리턴"
   ]
  },
  {
   "cell_type": "markdown",
   "metadata": {},
   "source": [
    "이제 1, 2, 3등 점수를 가볍게 확인 할 수 있다."
   ]
  },
  {
   "cell_type": "code",
   "execution_count": 13,
   "metadata": {},
   "outputs": [
    {
     "name": "stdout",
     "output_type": "stream",
     "text": [
      "23.29 22.97 22.16\n"
     ]
    }
   ],
   "source": [
    "print(ranking(1), ranking(2), ranking(3))"
   ]
  },
  {
   "cell_type": "markdown",
   "metadata": {},
   "source": [
    "## 연습문제"
   ]
  },
  {
   "cell_type": "markdown",
   "metadata": {},
   "source": [
    "### 연습"
   ]
  },
  {
   "cell_type": "raw",
   "metadata": {},
   "source": [
    "빈 리스트는 아무 것도 포함하지 않는 리스트를 의미한다."
   ]
  },
  {
   "cell_type": "code",
   "execution_count": 14,
   "metadata": {},
   "outputs": [],
   "source": [
    "empty_list = []"
   ]
  },
  {
   "cell_type": "markdown",
   "metadata": {},
   "source": [
    "빈 리스트의 길이는 0이다."
   ]
  },
  {
   "cell_type": "code",
   "execution_count": 15,
   "metadata": {},
   "outputs": [
    {
     "data": {
      "text/plain": [
       "0"
      ]
     },
     "execution_count": 15,
     "metadata": {},
     "output_type": "execute_result"
    }
   ],
   "source": [
    "len(empty_list)"
   ]
  },
  {
   "cell_type": "markdown",
   "metadata": {},
   "source": [
    "빈 리스트는 아무 것도 포함하지 않는다. \n",
    "따라서 0번 인덱스 값도 없다."
   ]
  },
  {
   "cell_type": "code",
   "execution_count": 16,
   "metadata": {},
   "outputs": [
    {
     "ename": "IndexError",
     "evalue": "list index out of range",
     "output_type": "error",
     "traceback": [
      "\u001b[0;31m---------------------------------------------------------------------------\u001b[0m",
      "\u001b[0;31mIndexError\u001b[0m                                Traceback (most recent call last)",
      "\u001b[0;32m<ipython-input-16-29438dbc2832>\u001b[0m in \u001b[0;36m<module>\u001b[0;34m()\u001b[0m\n\u001b[0;32m----> 1\u001b[0;31m \u001b[0mempty_list\u001b[0m\u001b[0;34m[\u001b[0m\u001b[0;36m0\u001b[0m\u001b[0;34m]\u001b[0m\u001b[0;34m\u001b[0m\u001b[0m\n\u001b[0m",
      "\u001b[0;31mIndexError\u001b[0m: list index out of range"
     ]
    }
   ],
   "source": [
    "empty_list[0]"
   ]
  },
  {
   "cell_type": "markdown",
   "metadata": {},
   "source": [
    "#### 주의\n",
    "빈 리스트를 아래와 같이 작성할 수도 있다."
   ]
  },
  {
   "cell_type": "code",
   "execution_count": 17,
   "metadata": {},
   "outputs": [],
   "source": [
    "empty_list = list()"
   ]
  },
  {
   "cell_type": "markdown",
   "metadata": {},
   "source": [
    "반면에 아래 리스트는 빈 리스트가 아니다."
   ]
  },
  {
   "cell_type": "code",
   "execution_count": 18,
   "metadata": {},
   "outputs": [],
   "source": [
    "a_singleton = [[]]"
   ]
  },
  {
   "cell_type": "markdown",
   "metadata": {},
   "source": [
    "위 리스트는 빈 리스트를 포함한 리스트이다.\n",
    "따라서 길이가 1이다."
   ]
  },
  {
   "cell_type": "code",
   "execution_count": 19,
   "metadata": {},
   "outputs": [
    {
     "data": {
      "text/plain": [
       "1"
      ]
     },
     "execution_count": 19,
     "metadata": {},
     "output_type": "execute_result"
    }
   ],
   "source": [
    "len(a_singleton)"
   ]
  },
  {
   "cell_type": "markdown",
   "metadata": {},
   "source": [
    "포함된 유일한 항목은 빈 리스트이다."
   ]
  },
  {
   "cell_type": "code",
   "execution_count": 20,
   "metadata": {},
   "outputs": [
    {
     "data": {
      "text/plain": [
       "[]"
      ]
     },
     "execution_count": 20,
     "metadata": {},
     "output_type": "execute_result"
    }
   ],
   "source": [
    "a_singleton[0]"
   ]
  },
  {
   "cell_type": "markdown",
   "metadata": {},
   "source": [
    "### 연습"
   ]
  },
  {
   "cell_type": "markdown",
   "metadata": {},
   "source": [
    "리스트는 중첩을 허용한다.\n",
    "아래 리스트는 3중 리스트이다. "
   ]
  },
  {
   "cell_type": "code",
   "execution_count": 21,
   "metadata": {},
   "outputs": [],
   "source": [
    "a_nested_list = [1, 2, [3, 4], [[5, 6, 7], 8]]"
   ]
  },
  {
   "cell_type": "markdown",
   "metadata": {},
   "source": [
    "* 첫째, 둘째 항목은 정수인 1과 2이다.\n",
    "* 셋쩨 항목은 3과 4로 이루어진 길이가 2인 리스트 `[3, 4]`이다.\n",
    "* 넷째 항목은 리스트 `[5, 6, 7]`과 정수 8로 이루어진 리스트 `[[5, 6, 7], 8]`이다."
   ]
  },
  {
   "cell_type": "markdown",
   "metadata": {},
   "source": [
    "질문: 위 리스트에서 2를 인덱스로 얻는 방법은?"
   ]
  },
  {
   "cell_type": "markdown",
   "metadata": {},
   "source": [
    "견본답안:"
   ]
  },
  {
   "cell_type": "code",
   "execution_count": 22,
   "metadata": {},
   "outputs": [
    {
     "data": {
      "text/plain": [
       "2"
      ]
     },
     "execution_count": 22,
     "metadata": {},
     "output_type": "execute_result"
    }
   ],
   "source": [
    "a_nested_list[1]"
   ]
  },
  {
   "cell_type": "markdown",
   "metadata": {},
   "source": [
    "질문: `[3, 4]`를 인덱스로 얻는 방법은?"
   ]
  },
  {
   "cell_type": "markdown",
   "metadata": {},
   "source": [
    "견본답안:"
   ]
  },
  {
   "cell_type": "code",
   "execution_count": 23,
   "metadata": {},
   "outputs": [
    {
     "data": {
      "text/plain": [
       "[3, 4]"
      ]
     },
     "execution_count": 23,
     "metadata": {},
     "output_type": "execute_result"
    }
   ],
   "source": [
    "a_nested_list[2]"
   ]
  },
  {
   "cell_type": "markdown",
   "metadata": {},
   "source": [
    "질문: `3`을 인덱스로 얻는 방법은?"
   ]
  },
  {
   "cell_type": "markdown",
   "metadata": {},
   "source": [
    "견본답안: 인덱스를 연속해서 적용한다."
   ]
  },
  {
   "cell_type": "code",
   "execution_count": 24,
   "metadata": {},
   "outputs": [
    {
     "data": {
      "text/plain": [
       "3"
      ]
     },
     "execution_count": 24,
     "metadata": {},
     "output_type": "execute_result"
    }
   ],
   "source": [
    "a_nested_list[2][0]"
   ]
  },
  {
   "cell_type": "markdown",
   "metadata": {},
   "source": [
    "질문: `[5, 6, 7]`을 인덱스로 얻는 방법은?"
   ]
  },
  {
   "cell_type": "markdown",
   "metadata": {},
   "source": [
    "견본답안: 역시 인덱스를 연속해서 적용한다."
   ]
  },
  {
   "cell_type": "code",
   "execution_count": 25,
   "metadata": {},
   "outputs": [
    {
     "data": {
      "text/plain": [
       "[5, 6, 7]"
      ]
     },
     "execution_count": 25,
     "metadata": {},
     "output_type": "execute_result"
    }
   ],
   "source": [
    "a_nested_list[3][0]"
   ]
  },
  {
   "cell_type": "markdown",
   "metadata": {},
   "source": [
    "질문: `7`을 인덱스로 얻는 방법은?"
   ]
  },
  {
   "cell_type": "markdown",
   "metadata": {},
   "source": [
    "견본답안: 역시 인덱스를 연속해서 적용한다."
   ]
  },
  {
   "cell_type": "code",
   "execution_count": 26,
   "metadata": {},
   "outputs": [
    {
     "data": {
      "text/plain": [
       "7"
      ]
     },
     "execution_count": 26,
     "metadata": {},
     "output_type": "execute_result"
    }
   ],
   "source": [
    "a_nested_list[3][0][2]"
   ]
  },
  {
   "cell_type": "markdown",
   "metadata": {},
   "source": [
    "### 연습: 슬라이싱과 인덱싱의 차이점\n",
    "\n",
    "아래 예제는 슬라이싱과 인덱싱의 작동방식이 다르다는 것을 잘 보여준다.\n",
    "\n",
    "동물들의 리스트 `animals`를 아래와 같이 정의하자."
   ]
  },
  {
   "cell_type": "code",
   "execution_count": 27,
   "metadata": {},
   "outputs": [],
   "source": [
    "animals = ['dog', 'cat', 'pig']"
   ]
  },
  {
   "cell_type": "markdown",
   "metadata": {},
   "source": [
    "이제 인덱싱을 사용하여 1번 색인값으로 `cat` 대신에 새로운 리스트인 `['tiger', 'lion', 'rabbit']`를 지정해보자."
   ]
  },
  {
   "cell_type": "code",
   "execution_count": 28,
   "metadata": {},
   "outputs": [],
   "source": [
    "animals[1] = ['tiger', 'lion', 'rabbit']"
   ]
  },
  {
   "cell_type": "markdown",
   "metadata": {},
   "source": [
    "그러면 `animals`는 이 경우 2중 리스트가 된다."
   ]
  },
  {
   "cell_type": "code",
   "execution_count": 29,
   "metadata": {},
   "outputs": [
    {
     "data": {
      "text/plain": [
       "['dog', ['tiger', 'lion', 'rabbit'], 'pig']"
      ]
     },
     "execution_count": 29,
     "metadata": {},
     "output_type": "execute_result"
    }
   ],
   "source": [
    "animals"
   ]
  },
  {
   "cell_type": "markdown",
   "metadata": {},
   "source": [
    "반면에 아래와 같이 슬라이싱을 사용하면 전혀 다른 결과를 얻는다."
   ]
  },
  {
   "cell_type": "code",
   "execution_count": 30,
   "metadata": {},
   "outputs": [],
   "source": [
    "animals = ['dog', 'cat', 'pig']\n",
    "animals[1:2] = ['tiger', 'lion', 'rabbit']"
   ]
  },
  {
   "cell_type": "markdown",
   "metadata": {},
   "source": [
    "슬라이싱을 활용하면 2중 리스트 대신에 확장된 리스트를 얻게 된다."
   ]
  },
  {
   "cell_type": "code",
   "execution_count": 31,
   "metadata": {},
   "outputs": [
    {
     "data": {
      "text/plain": [
       "['dog', 'tiger', 'lion', 'rabbit', 'pig']"
      ]
     },
     "execution_count": 31,
     "metadata": {},
     "output_type": "execute_result"
    }
   ],
   "source": [
    "animals"
   ]
  },
  {
   "cell_type": "markdown",
   "metadata": {},
   "source": [
    "슬라이싱을 활용하여 특정 항목을 삭제할 수도 있다.\n",
    "예를 들어, 2번 ~ 3번 색인값인 `tiger`와 `lion`을 삭제하려면 아래와 같이 할 수 있다."
   ]
  },
  {
   "cell_type": "code",
   "execution_count": 32,
   "metadata": {},
   "outputs": [
    {
     "data": {
      "text/plain": [
       "['dog', 'tiger', 'pig']"
      ]
     },
     "execution_count": 32,
     "metadata": {},
     "output_type": "execute_result"
    }
   ],
   "source": [
    "animals[2:4] = []\n",
    "animals"
   ]
  },
  {
   "cell_type": "markdown",
   "metadata": {},
   "source": [
    "### 연습: 리스트의 중요 메소드 활용"
   ]
  },
  {
   "cell_type": "code",
   "execution_count": 33,
   "metadata": {
    "scrolled": true
   },
   "outputs": [],
   "source": [
    "animals = ['dog', 'cat', 'pig']"
   ]
  },
  {
   "cell_type": "markdown",
   "metadata": {},
   "source": [
    "문자열에 포함된 문자들의 순서가 중요하듯 리스트에 포함된 항목들의 순서도 절대적으로 중요하다.\n",
    "문자열과는 달리 리스트는 수정이 가능하다. "
   ]
  },
  {
   "cell_type": "markdown",
   "metadata": {},
   "source": [
    "예를 들어, `append()` 메소드는 리스트의 끝에 항목을 하나 추가한다. "
   ]
  },
  {
   "cell_type": "code",
   "execution_count": 34,
   "metadata": {
    "scrolled": true
   },
   "outputs": [
    {
     "data": {
      "text/plain": [
       "['dog', 'cat', 'pig', 'coq']"
      ]
     },
     "execution_count": 34,
     "metadata": {},
     "output_type": "execute_result"
    }
   ],
   "source": [
    "animals.append('coq')\n",
    "animals"
   ]
  },
  {
   "cell_type": "markdown",
   "metadata": {},
   "source": [
    "동시에 여러 개의 항목을 추가하고자 할 때는 `append()` 메소드를 아래처럼 이용하면 된다고 생각하면 안된다."
   ]
  },
  {
   "cell_type": "code",
   "execution_count": 35,
   "metadata": {},
   "outputs": [
    {
     "data": {
      "text/plain": [
       "['dog', 'cat', 'pig', 'coq', ['eagle', 'bear']]"
      ]
     },
     "execution_count": 35,
     "metadata": {},
     "output_type": "execute_result"
    }
   ],
   "source": [
    "animals.append(['eagle', 'bear'])\n",
    "animals"
   ]
  },
  {
   "cell_type": "markdown",
   "metadata": {},
   "source": [
    "위에서는 원래의 리스트에 다른 리스트 **하나**를 마지막 항목으로 추가한 것이다.\n",
    "\n",
    "그게 아니라 `eagle`과 `bear` 두 개의 항목을 원래의 리스트에 추가하고자 한다면 `append()` 메소드를 두 번 적용하거나\n",
    "아니면 `extend()` 메소드를 사용하면 된다. \n",
    "\n",
    "먼저 앞서 추가한 항목을 제거하자."
   ]
  },
  {
   "cell_type": "code",
   "execution_count": 36,
   "metadata": {
    "scrolled": true
   },
   "outputs": [
    {
     "data": {
      "text/plain": [
       "['dog', 'cat', 'pig', 'coq']"
      ]
     },
     "execution_count": 36,
     "metadata": {},
     "output_type": "execute_result"
    }
   ],
   "source": [
    "animals.remove(['eagle', 'bear'])\n",
    "animals"
   ]
  },
  {
   "cell_type": "markdown",
   "metadata": {},
   "source": [
    "`extend()` 메소드의 활용은 다음과 같다."
   ]
  },
  {
   "cell_type": "code",
   "execution_count": 37,
   "metadata": {
    "scrolled": true
   },
   "outputs": [
    {
     "data": {
      "text/plain": [
       "['dog', 'cat', 'pig', 'coq', 'eagle', 'bear']"
      ]
     },
     "execution_count": 37,
     "metadata": {},
     "output_type": "execute_result"
    }
   ],
   "source": [
    "animals.extend(['eagle', 'bear'])\n",
    "animals"
   ]
  },
  {
   "cell_type": "markdown",
   "metadata": {},
   "source": [
    "두 개의 리스트를 덧셈 기호를 이용하여 확장할 수도 있다. 하지만 원래의 리스트를 변경하는 게 아니라 새로운 리스트를 생성한다. "
   ]
  },
  {
   "cell_type": "markdown",
   "metadata": {},
   "source": [
    "항목 추가 및 제거 이외에도 항목 자체를 변경할 수도 있다. \n",
    "\n",
    "`cat`를 `cow`으로 변경해보자.\n",
    "방법은 간단하게 인덱싱을 사용한다. "
   ]
  },
  {
   "cell_type": "code",
   "execution_count": 38,
   "metadata": {
    "scrolled": true
   },
   "outputs": [
    {
     "data": {
      "text/plain": [
       "['dog', 'cow', 'pig', 'coq', 'eagle', 'bear']"
      ]
     },
     "execution_count": 38,
     "metadata": {},
     "output_type": "execute_result"
    }
   ],
   "source": [
    "animals[1] = 'cow'\n",
    "animals"
   ]
  },
  {
   "cell_type": "markdown",
   "metadata": {},
   "source": [
    "리스트에 포함된 항목의 인덱스를 알고자 한다면 `index()` 메소드를 이용한다. "
   ]
  },
  {
   "cell_type": "code",
   "execution_count": 39,
   "metadata": {
    "scrolled": true
   },
   "outputs": [
    {
     "data": {
      "text/plain": [
       "2"
      ]
     },
     "execution_count": 39,
     "metadata": {},
     "output_type": "execute_result"
    }
   ],
   "source": [
    "animals.index('pig')"
   ]
  },
  {
   "cell_type": "markdown",
   "metadata": {},
   "source": [
    "**주의**: 만약에 `'pig'`가 여러 번 포함되어 있으면 `index()` 메소드는 가장 작은 인덱스를 리턴한다. "
   ]
  },
  {
   "cell_type": "code",
   "execution_count": 40,
   "metadata": {},
   "outputs": [
    {
     "data": {
      "text/plain": [
       "['dog', 'cow', 'pig', 'coq', 'eagle', 'bear', 'pig']"
      ]
     },
     "execution_count": 40,
     "metadata": {},
     "output_type": "execute_result"
    }
   ],
   "source": [
    "animals.append('pig')\n",
    "animals"
   ]
  },
  {
   "cell_type": "code",
   "execution_count": 41,
   "metadata": {},
   "outputs": [
    {
     "data": {
      "text/plain": [
       "2"
      ]
     },
     "execution_count": 41,
     "metadata": {},
     "output_type": "execute_result"
    }
   ],
   "source": [
    "animals.index('pig')"
   ]
  },
  {
   "cell_type": "markdown",
   "metadata": {},
   "source": [
    "`pop()` 메소드는 인자가 없을 경우 맨 끝에 위치한 항목을 삭제하며, 인덱스를 인자로 사용하면 해당 항목을 삭제한다. "
   ]
  },
  {
   "cell_type": "code",
   "execution_count": 42,
   "metadata": {},
   "outputs": [
    {
     "data": {
      "text/plain": [
       "'pig'"
      ]
     },
     "execution_count": 42,
     "metadata": {},
     "output_type": "execute_result"
    }
   ],
   "source": [
    "animals.pop()"
   ]
  },
  {
   "cell_type": "code",
   "execution_count": 43,
   "metadata": {},
   "outputs": [
    {
     "data": {
      "text/plain": [
       "'pig'"
      ]
     },
     "execution_count": 43,
     "metadata": {},
     "output_type": "execute_result"
    }
   ],
   "source": [
    "animals.pop(2)"
   ]
  },
  {
   "cell_type": "markdown",
   "metadata": {},
   "source": [
    "`animals`에 할당된 리스트가 어떻게 변경되었는지 확인해야 한다."
   ]
  },
  {
   "cell_type": "code",
   "execution_count": 44,
   "metadata": {},
   "outputs": [
    {
     "data": {
      "text/plain": [
       "['dog', 'cow', 'coq', 'eagle', 'bear']"
      ]
     },
     "execution_count": 44,
     "metadata": {},
     "output_type": "execute_result"
    }
   ],
   "source": [
    "animals"
   ]
  },
  {
   "cell_type": "markdown",
   "metadata": {},
   "source": [
    "특정 인덱스 위치에 항목을 추가할 경우 `insert()` 메소드를 사용한다. "
   ]
  },
  {
   "cell_type": "code",
   "execution_count": 45,
   "metadata": {
    "scrolled": true
   },
   "outputs": [
    {
     "data": {
      "text/plain": [
       "['dog', 'cow', 'coq', 'eagle', 'bear', 'leopard']"
      ]
     },
     "execution_count": 45,
     "metadata": {},
     "output_type": "execute_result"
    }
   ],
   "source": [
    "animals.insert(5, 'leopard')\n",
    "animals"
   ]
  },
  {
   "cell_type": "markdown",
   "metadata": {},
   "source": [
    "**주의**: 각 메소드의 리턴값에 주의해야 한다.\n",
    "\n",
    "* `pop()`: 리스트에서 삭제한 항목을 리턴한다.\n",
    "* `append()`, `remove()`, `insert()` 등은 기존의 리스트를 변경하지만 리턴값은 `None`, 즉 아무 것도 리턴하지 않는다. "
   ]
  },
  {
   "cell_type": "markdown",
   "metadata": {},
   "source": [
    "**주의**: `pop()` 메소드는 인덱스를 사용하거나 아니면 맨 끝 항목만 삭제한다. 인덱스 번호를 모를 경우에 특정 항목을 삭제하고자 한다면 `remove()` \n",
    "메소드를 사용한다."
   ]
  },
  {
   "cell_type": "code",
   "execution_count": 46,
   "metadata": {},
   "outputs": [
    {
     "name": "stdout",
     "output_type": "stream",
     "text": [
      "['dog', 'cow', 'hamster', 'coq', 'eagle', 'bear', 'leopard']\n"
     ]
    }
   ],
   "source": [
    "animals.insert(2, 'hamster')\n",
    "print(animals)"
   ]
  },
  {
   "cell_type": "code",
   "execution_count": 47,
   "metadata": {},
   "outputs": [
    {
     "name": "stdout",
     "output_type": "stream",
     "text": [
      "['dog', 'cow', 'coq', 'eagle', 'bear', 'leopard']\n"
     ]
    }
   ],
   "source": [
    "removed_pet = animals.remove('hamster')\n",
    "print(animals)"
   ]
  },
  {
   "cell_type": "markdown",
   "metadata": {},
   "source": [
    "**주의**:\n",
    "\n",
    "* 특정 항목이 여러 번 포함되어 있을 경우 `remove()` 메소드는 맨 왼쪽에 위치한 항목 하나만 삭제한다. \n",
    "    더 삭제하려면 또 사용해야 한다.\n",
    "\n",
    "* `remove()`, `index()` 등은 삭제 또는 찾고자 하는 항목이 없을 경우 오류를 발생시킨다. "
   ]
  },
  {
   "cell_type": "code",
   "execution_count": 48,
   "metadata": {
    "scrolled": true
   },
   "outputs": [
    {
     "ename": "ValueError",
     "evalue": "list.remove(x): x not in list",
     "output_type": "error",
     "traceback": [
      "\u001b[0;31m---------------------------------------------------------------------------\u001b[0m",
      "\u001b[0;31mValueError\u001b[0m                                Traceback (most recent call last)",
      "\u001b[0;32m<ipython-input-48-23a85b0eacf2>\u001b[0m in \u001b[0;36m<module>\u001b[0;34m()\u001b[0m\n\u001b[0;32m----> 1\u001b[0;31m \u001b[0manimals\u001b[0m\u001b[0;34m.\u001b[0m\u001b[0mremove\u001b[0m\u001b[0;34m(\u001b[0m\u001b[0;34m'hamster'\u001b[0m\u001b[0;34m)\u001b[0m\u001b[0;34m\u001b[0m\u001b[0m\n\u001b[0m\u001b[1;32m      2\u001b[0m \u001b[0manimals\u001b[0m\u001b[0;34m\u001b[0m\u001b[0m\n",
      "\u001b[0;31mValueError\u001b[0m: list.remove(x): x not in list"
     ]
    }
   ],
   "source": [
    "animals.remove('hamster')\n",
    "animals"
   ]
  },
  {
   "cell_type": "markdown",
   "metadata": {},
   "source": [
    "이외에 `del` 함수를 이용하여 리스트의 일부 또는 전체를 삭제할 수 있다. \n",
    "\n",
    "**주의**: `del` 함수(메소드 아님)는 매우 주의해서 사용해야 한다. 잘못하면 데이터 자체를 메모리에서 삭제시킬 수 있다. "
   ]
  },
  {
   "cell_type": "code",
   "execution_count": 49,
   "metadata": {
    "scrolled": true
   },
   "outputs": [
    {
     "data": {
      "text/plain": [
       "['dog', 'cow', 'coq', 'eagle', 'bear']"
      ]
     },
     "execution_count": 49,
     "metadata": {},
     "output_type": "execute_result"
    }
   ],
   "source": [
    "del animals[-1]\n",
    "animals"
   ]
  },
  {
   "cell_type": "code",
   "execution_count": 50,
   "metadata": {},
   "outputs": [],
   "source": [
    "animals_sample = ['dog']"
   ]
  },
  {
   "cell_type": "code",
   "execution_count": 51,
   "metadata": {},
   "outputs": [],
   "source": [
    "del animals_sample"
   ]
  },
  {
   "cell_type": "code",
   "execution_count": 52,
   "metadata": {},
   "outputs": [
    {
     "ename": "NameError",
     "evalue": "name 'animals_sample' is not defined",
     "output_type": "error",
     "traceback": [
      "\u001b[0;31m---------------------------------------------------------------------------\u001b[0m",
      "\u001b[0;31mNameError\u001b[0m                                 Traceback (most recent call last)",
      "\u001b[0;32m<ipython-input-52-2fd0a356f881>\u001b[0m in \u001b[0;36m<module>\u001b[0;34m()\u001b[0m\n\u001b[0;32m----> 1\u001b[0;31m \u001b[0manimals_sample\u001b[0m\u001b[0;34m\u001b[0m\u001b[0m\n\u001b[0m",
      "\u001b[0;31mNameError\u001b[0m: name 'animals_sample' is not defined"
     ]
    }
   ],
   "source": [
    "animals_sample"
   ]
  },
  {
   "cell_type": "markdown",
   "metadata": {},
   "source": [
    "`reverse()` 메소드는 리스트의 순서를 뒤집는다."
   ]
  },
  {
   "cell_type": "code",
   "execution_count": 53,
   "metadata": {
    "scrolled": true
   },
   "outputs": [
    {
     "name": "stdout",
     "output_type": "stream",
     "text": [
      "기존 동물 리스트:  ['dog', 'cow', 'coq', 'eagle', 'bear']\n",
      "뒤집어진 동물 리스트:  ['bear', 'eagle', 'coq', 'cow', 'dog']\n"
     ]
    }
   ],
   "source": [
    "print('기존 동물 리스트: ', animals)\n",
    "animals.reverse()\n",
    "print('뒤집어진 동물 리스트: ', animals)"
   ]
  },
  {
   "cell_type": "markdown",
   "metadata": {},
   "source": [
    "`sort()` 메소드를 이용하여 리스트의 항목들을 정렬할 수 있다. \n",
    "\n",
    "* 숫자의 경우는 크기 순서대로.\n",
    "* 문자열의 경우는 사전식으로."
   ]
  },
  {
   "cell_type": "code",
   "execution_count": 54,
   "metadata": {
    "scrolled": true
   },
   "outputs": [
    {
     "name": "stdout",
     "output_type": "stream",
     "text": [
      "기존 동물 리스트 ['bear', 'eagle', 'coq', 'cow', 'dog']\n",
      "정렬된 동물 리스트 ['bear', 'coq', 'cow', 'dog', 'eagle']\n"
     ]
    }
   ],
   "source": [
    "print('기존 동물 리스트', animals)\n",
    "animals.sort()\n",
    "print('정렬된 동물 리스트', animals)"
   ]
  },
  {
   "cell_type": "markdown",
   "metadata": {},
   "source": [
    "**주의**:\n",
    "\n",
    "* `sort()`와 `reverse()` 메소드는 원래의 리스트 자체를 변경한다. \n",
    "* 원래의 리스트를 건드리지 않으면서 정렬된 또는 뒤집어진 리스트를 생성하고자 한다면 `sorted()` 또는 `reversed()` 함수(메소드 아님)를 사용한다."
   ]
  },
  {
   "cell_type": "code",
   "execution_count": 55,
   "metadata": {
    "scrolled": true
   },
   "outputs": [
    {
     "name": "stdout",
     "output_type": "stream",
     "text": [
      "['bear', 'coq', 'cow', 'dog', 'eagle', 'horse']\n",
      "['bear', 'coq', 'cow', 'dog', 'eagle', 'horse']\n",
      "['bear', 'coq', 'cow', 'dog', 'eagle', 'horse']\n"
     ]
    }
   ],
   "source": [
    "animals.append('horse')\n",
    "print(animals)\n",
    "print(sorted(animals))\n",
    "print(animals)"
   ]
  },
  {
   "cell_type": "markdown",
   "metadata": {},
   "source": [
    "`reversed()` 함수에 대해서는 자세히 알아보지 않는다."
   ]
  },
  {
   "cell_type": "markdown",
   "metadata": {},
   "source": [
    "### 연습\n",
    "\n",
    "어떤 모임에 등록하는 참가자들의 리스트를 관리하는 간단한 프로그램을 아래와 같이 구현할 수 있다."
   ]
  },
  {
   "cell_type": "code",
   "execution_count": 56,
   "metadata": {},
   "outputs": [
    {
     "name": "stdout",
     "output_type": "stream",
     "text": [
      "==========\n",
      "1. 참가 여부 확인\n",
      "2. 참가 신청\n",
      "3. 참가 취소\n",
      "4. 참가자명 변경\n",
      "5. 참가명단\n",
      "6. 참가 인원수 확인\n",
      "9. 종료\n",
      "==========\n",
      "원하는 항목 번호를 입력하세요: 2\n",
      "참가 신청할 이름을 입력하세요: alice\n",
      "==========\n",
      "1. 참가 여부 확인\n",
      "2. 참가 신청\n",
      "3. 참가 취소\n",
      "4. 참가자명 변경\n",
      "5. 참가명단\n",
      "6. 참가 인원수 확인\n",
      "9. 종료\n",
      "==========\n",
      "원하는 항목 번호를 입력하세요: 2\n",
      "참가 신청할 이름을 입력하세요: bob\n",
      "==========\n",
      "1. 참가 여부 확인\n",
      "2. 참가 신청\n",
      "3. 참가 취소\n",
      "4. 참가자명 변경\n",
      "5. 참가명단\n",
      "6. 참가 인원수 확인\n",
      "9. 종료\n",
      "==========\n",
      "원하는 항목 번호를 입력하세요: 6\n",
      "참가 인원수는  2 입니다.\n",
      "==========\n",
      "1. 참가 여부 확인\n",
      "2. 참가 신청\n",
      "3. 참가 취소\n",
      "4. 참가자명 변경\n",
      "5. 참가명단\n",
      "6. 참가 인원수 확인\n",
      "9. 종료\n",
      "==========\n",
      "원하는 항목 번호를 입력하세요: 9\n",
      "프로그램을 종료합니다.\n"
     ]
    }
   ],
   "source": [
    "menu_input = 0\n",
    "name_list = []\n",
    "\n",
    "while menu_input != 9:\n",
    "    print(\"==========\")\n",
    "    print(\"1. 참가 여부 확인\")\n",
    "    print(\"2. 참가 신청\")\n",
    "    print(\"3. 참가 취소\")\n",
    "    print(\"4. 참가자명 변경\")\n",
    "    print(\"5. 참가명단\")\n",
    "    print(\"6. 참가 인원수 확인\")\n",
    "    print(\"9. 종료\")\n",
    "    print(\"==========\")\n",
    "\n",
    "    try:\n",
    "        menu_input = int(input(\"원하는 항목 번호를 입력하세요: \"))\n",
    "\n",
    "        if menu_input == 1:\n",
    "            name = input(\"확인할 이름을 입력하세요: \")\n",
    "            if name in name_list:\n",
    "                print(\"참가자 명단에 있습니다.\")\n",
    "            else:\n",
    "                print(\"참가자 명단에 없습니다.\")\n",
    "\n",
    "        if menu_input == 2:\n",
    "            name = input(\"참가 신청할 이름을 입력하세요: \")\n",
    "            name_list.append(name)\n",
    "\n",
    "        if menu_input == 3:\n",
    "            name = input(\"참가 취소할 이름을 입력하세요: \")\n",
    "            name_list.remove(name)\n",
    "\n",
    "        if menu_input == 4:\n",
    "            name = input(\"등록한 이름을 입력하세요: \")\n",
    "            name_re = input(\"수정할 이름을 입력하세요: \")\n",
    "            index = name_list.index(name)\n",
    "            name_list[index] = name_re\n",
    "\n",
    "        if menu_input == 5:\n",
    "            print(\"참가자 명단은 \", name_list, \"입니다.\")\n",
    "\n",
    "        if menu_input == 6:\n",
    "            print(\"참가 인원수는 \", len(name_list), \"입니다.\")\n",
    "\n",
    "        if menu_input == 9:\n",
    "            print(\"프로그램을 종료합니다.\")\n",
    "            break\n",
    "\n",
    "    except:\n",
    "        print(\"정수를 입력하세요.\")"
   ]
  }
 ],
 "metadata": {
  "kernelspec": {
   "display_name": "Python 3",
   "language": "python",
   "name": "python3"
  },
  "language_info": {
   "codemirror_mode": {
    "name": "ipython",
    "version": 3
   },
   "file_extension": ".py",
   "mimetype": "text/x-python",
   "name": "python",
   "nbconvert_exporter": "python",
   "pygments_lexer": "ipython3",
   "version": "3.6.3"
  }
 },
 "nbformat": 4,
 "nbformat_minor": 2
}
