{
 "cells": [
  {
   "cell_type": "markdown",
   "metadata": {},
   "source": [
    "# 사전 활용"
   ]
  },
  {
   "cell_type": "markdown",
   "metadata": {},
   "source": [
    "#### 수정사항\n",
    "\n",
    "* 엑셀 그림 업데이트 필요: 내림차순 활용해야 함\n",
    "* 연습문제 추가 필요"
   ]
  },
  {
   "cell_type": "markdown",
   "metadata": {},
   "source": [
    "## 주요 내용"
   ]
  },
  {
   "cell_type": "markdown",
   "metadata": {},
   "source": [
    "파이썬에 내장되어 있는 컬렉션 자료형 중 사전에 대해 알아 본다.\n",
    "\n",
    "**사전(dictionaries)**: 키(keys)와 값(values)으로 이루어진 쌍(pairs)들의 집합\n",
    "\n",
    "* 사용 형태: 집합기호 사용\n",
    "```\n",
    "eng_math = {'year': 2017, 'semester' : 2, 'subject': 'Data Science'}\n",
    "```\n",
    "\n",
    "* 특징\n",
    "    * 키로 사용될 수 있는 자료형: 문자열 등 불변 자료형 값\n",
    "    * 값으로 사용될 수 있는 자료형: 임의의 값\n",
    "\n",
    "\n",
    "* 사전은 가변 자료형이다. \n",
    "    * `사전이름[키이름] = 값` 을 이용해 특정 항목의 키에 해당하는 값을 변경할 수 있다.\n",
    "\n",
    "    * `update()` 메소드: 항목 추가\n",
    "    * `del` 함수 또는 `pop()` 메소드: 특정 항목 삭제\n",
    "\n",
    "\n",
    "* `items`, `keys`, `values` 등의 메소드를 이용하여 사전의 항목 확인 가능\n"
   ]
  },
  {
   "cell_type": "markdown",
   "metadata": {},
   "source": [
    "## 준비 사항\n",
    "\n",
    "* 사전 자료형의 정의와 기초적인 활용법에 대한 자세한 설명은\n",
    "    [여기](https://github.com/liganega/bpp/blob/master/notes/05-ThinkPython-Dictionaries.ipynb)를\n",
    "    참조한다."
   ]
  },
  {
   "cell_type": "markdown",
   "metadata": {},
   "source": [
    "## 오늘의 주요 예제\n",
    "\n",
    "`data` 디렉토리에 저장된 `scores_list.txt` 파일은 선수 여덟 명의 점수를 담고 있다.\n",
    "\n",
    "```txt\n",
    "Name    Score\n",
    "player1 21.09 \n",
    "player2 20.32 \n",
    "player3 21.81 \n",
    "player4 22.97 \n",
    "player5 23.29 \n",
    "player6 22.09 \n",
    "player7 21.20 \n",
    "player8 22.16\n",
    "```\n",
    "\n",
    "목표: 위 파일로부터 1~3등 선수의 이름과 기록을 아래와 같이 확인하기\n",
    "```txt\n",
    "1등 player5 23.29 \n",
    "2등 player4 22.97 \n",
    "3등 player8 22.16 \n",
    "```\n",
    "\n",
    "**주의:** 이전에는 1~3등의 점수만 확인하였다. \n",
    "하지만 이제는 선수 이름까지 함께 확인해야 한다.\n",
    "\n",
    "**참조:** Head First Programming(한빛미디어) 5장"
   ]
  },
  {
   "cell_type": "markdown",
   "metadata": {},
   "source": [
    "## 사전 활용"
   ]
  },
  {
   "cell_type": "markdown",
   "metadata": {},
   "source": [
    "저장된 파일에서 데이터를 불러와서 한 줄씩 확인하는 방법은 다음과 같다."
   ]
  },
  {
   "cell_type": "code",
   "execution_count": 1,
   "metadata": {},
   "outputs": [],
   "source": [
    "result_f = open(\"data/scores_list.txt\")\n",
    "\n",
    "for line in result_f: \n",
    "    print(line.strip())              # strip 메소드 활용하기\n",
    "\n",
    "result_f.close()"
   ]
  },
  {
   "cell_type": "markdown",
   "metadata": {},
   "source": [
    "## 복습\n",
    "\n",
    "앞 장에서 1~3등의 점수를 확인하였다."
   ]
  },
  {
   "cell_type": "code",
   "execution_count": 2,
   "metadata": {},
   "outputs": [],
   "source": [
    "result_f = open(\"data/scores_list.txt\")\n",
    "\n",
    "score_list = []                        \n",
    "\n",
    "for line in result_f: \n",
    "    (name, score) = line.split()       \n",
    "    try:\n",
    "        score_list.append(float(score))\n",
    "    except:\n",
    "        continue\n",
    "\n",
    "result_f.close() \n",
    "\n",
    "score_list.sort(reverse=True)           # 리스트를 내림차순으로 정렬\n",
    "\n",
    "print(\"The top scores were:\") \n",
    "print(score_list[0])   \n",
    "print(score_list[1])   \n",
    "print(score_list[2])"
   ]
  },
  {
   "cell_type": "markdown",
   "metadata": {},
   "source": [
    "`for` 반복문을 이용하여 다음과 할 수도 있다."
   ]
  },
  {
   "cell_type": "code",
   "execution_count": 3,
   "metadata": {},
   "outputs": [
    {
     "name": "stdout",
     "output_type": "stream",
     "text": [
      "The top scores were:\n",
      "23.29\n",
      "22.97\n",
      "22.16\n"
     ]
    }
   ],
   "source": [
    "result_f = open(\"data/scores_list.txt\")\n",
    "\n",
    "score_list = []                        \n",
    "\n",
    "for line in result_f: \n",
    "    (name, score) = line.split()       \n",
    "    try:\n",
    "        score_list.append(float(score))\n",
    "    except:\n",
    "        continue\n",
    "\n",
    "result_f.close() \n",
    "\n",
    "score_list.sort(reverse=True)           # 리스트를 내림차순으로 정렬\n",
    "\n",
    "print(\"The top scores were:\") \n",
    "\n",
    "for i in range(3):\n",
    "    print(score_list[i])"
   ]
  },
  {
   "cell_type": "markdown",
   "metadata": {},
   "source": [
    "이제 위 코드를 수정하여 아래 결과를 얻고자 한다.\n",
    "```txt\n",
    "1등 player5 23.29 \n",
    "2등 player4 22.97 \n",
    "3등 player8 22.16 \n",
    "```\n",
    "즉, 각 등수의 선수 이름까지 필요하다.\n",
    "어떻게 하면 선수이름과 점수를 동시에 움직이게 할 수 있을까? \n",
    "\n",
    "마이크로소프트의 엑셀 프로그램을 활용하면 매우 간단하다."
   ]
  },
  {
   "cell_type": "markdown",
   "metadata": {},
   "source": [
    "<p>\n",
    "<table cellspacing=\"20\">\n",
    "\n",
    "<tr>\n",
    "<td align=\"center\">\n",
    "<img src=\"images/excel1.png\" style=\"width:100%\">\n",
    "</td>\n",
    "<td align=\"center\">\n",
    "<img src=\"images/excel1a.png\" style=\"width:100%\">\n",
    "</td>\n",
    "<td align=\"center\">\n",
    "<img src=\"images/excel2.png\" style=\"width:100%\">\n",
    "</td>\n",
    "</tr>\n",
    "\n",
    "<tr>\n",
    "<td align=\"center\">\n",
    "기존 기록표\n",
    "</td>\n",
    "<td align=\"center\">\n",
    "점수 기준으로 정렬하기\n",
    "</td>\n",
    "<td align=\"center\">\n",
    "정렬 후 기록표\n",
    "</td>\n",
    "</tr>\n",
    "\n",
    "</table>\n",
    "</p>"
   ]
  },
  {
   "cell_type": "markdown",
   "metadata": {},
   "source": [
    "## 두 개의 리스트로 쪼개기"
   ]
  },
  {
   "cell_type": "markdown",
   "metadata": {},
   "source": [
    "먼저 앞서 사용한 방식을 약간 수정해서 기록들의 리스트와 선수이름들의 리스트를 생성해보자."
   ]
  },
  {
   "cell_type": "code",
   "execution_count": 4,
   "metadata": {},
   "outputs": [],
   "source": [
    "result_f = open(\"data/scores_list.txt\") \n",
    "\n",
    "score_list = []                        \n",
    "name_list = []                           # 선수이름 리스트 생성\n",
    "\n",
    "for line in result_f: \n",
    "    (name, score) = line.split()       \n",
    "    try:\n",
    "        score_list.append(float(score))\n",
    "        name_list.append(name)          # 선수이름 추가\n",
    "    except:\n",
    "        continue\n",
    "\n",
    "result_f.close() "
   ]
  },
  {
   "cell_type": "code",
   "execution_count": 5,
   "metadata": {},
   "outputs": [
    {
     "name": "stdout",
     "output_type": "stream",
     "text": [
      "[21.09, 20.32, 21.81, 22.97, 23.29, 22.09, 21.2, 22.16]\n"
     ]
    }
   ],
   "source": [
    "print(score_list)"
   ]
  },
  {
   "cell_type": "code",
   "execution_count": 6,
   "metadata": {},
   "outputs": [
    {
     "name": "stdout",
     "output_type": "stream",
     "text": [
      "['player1', 'player2', 'player3', 'player4', 'player5', 'player6', 'player7', 'player8']\n"
     ]
    }
   ],
   "source": [
    "print(name_list)"
   ]
  },
  {
   "cell_type": "markdown",
   "metadata": {},
   "source": [
    "현재 두 개의 리스트는 기존 테이블의 리스트의 순서와 동일한 순서대로 항목을 갖고 있다.\n",
    "예를 들어, `name_list` 리스트의 첫 째 선수의 기록은 `score_list` 리스트의 첫 째 항목 값이다. \n",
    "\n",
    "그런데 1~3등의 점수를 얻기 위해 `score_list` 리스트를 정렬하면 상위 세 명의 점수는 확인할 수 있었지만 어떤 선수가 수상을 해야 할지는 알 수 없었다. \n",
    "\n",
    "어떻게 해야 할까? `name_list` 리스트도 정렬할까? 그런데 어떤 기준으로 정렬하나? 이름순으로? 그러면 `A` 또는 `Z`로 시작하는 선수가 항상 1등 아니면 꼴등이 되어 버리는 문제가 발생한다. \n",
    "\n",
    "이런 문제는 두 개의 리스트를 다룰 때 항상 발생한다. 그리고 일반적으로 두 개의 리스트를 엑셀의 경우처럼 한 가지 기준으로 연동해서 정렬할 수는 없다. \n",
    "따라서 다른 접근방식이 요구된다.\n",
    "\n",
    "여기서는 사전 자료형을 이용하여 문제를 해결하고자 한다.\n",
    "하지만 해결법을 설명하기 전에 사전 자료형을 간단한 예제를 통해 공부하고자 한다."
   ]
  },
  {
   "cell_type": "markdown",
   "metadata": {},
   "source": [
    "## 사전 자료형 예제\n",
    "\n",
    "사전 자료형에 대한 이해는 어학공부에 사용하는 사전을 떠올리면 쉽다. \n",
    "영어 사전의 경우 '단어 와 뜻'으로 이루어진 쌍들의 집합이라고 생각할 수 있다.\n",
    "사전 자료형도 동일하게 작동한다.\n",
    "\n",
    "예를 들어, 평택, 수원, 제주의 현재 온도에 대한 정보가 아래와 같다고 하자.\n",
    "```\n",
    "Pyongtaek 22\n",
    "Suwon 18\n",
    "Jeju 25\n",
    "```\n",
    "\n",
    "이제 사전 자료형을 이용하여 위 정보를 저장하고 활용하는 방법은 다음과 같다.\n",
    "\n",
    "먼저 빈 사전을 선언한다."
   ]
  },
  {
   "cell_type": "code",
   "execution_count": 7,
   "metadata": {},
   "outputs": [],
   "source": [
    "city_temperature = {}"
   ]
  },
  {
   "cell_type": "markdown",
   "metadata": {},
   "source": [
    "이제 원하는 자료들의 쌍을 입력한다. \n",
    "예를 들어 '평택 온도는 22도' 라는 정보를 추가하고자 하면 아래와 같이 하면 된다."
   ]
  },
  {
   "cell_type": "code",
   "execution_count": 8,
   "metadata": {},
   "outputs": [],
   "source": [
    "city_temperature['Pyongtaek'] = 22"
   ]
  },
  {
   "cell_type": "markdown",
   "metadata": {},
   "source": [
    "이제 평택의 정보가 추가되었음을 확인할 수 있다."
   ]
  },
  {
   "cell_type": "code",
   "execution_count": 9,
   "metadata": {},
   "outputs": [
    {
     "data": {
      "text/plain": [
       "{'Pyongtaek': 22}"
      ]
     },
     "execution_count": 9,
     "metadata": {},
     "output_type": "execute_result"
    }
   ],
   "source": [
    "city_temperature"
   ]
  },
  {
   "cell_type": "markdown",
   "metadata": {},
   "source": [
    "이제 수원과 제주의 정보를 추가하고 확인해보자."
   ]
  },
  {
   "cell_type": "code",
   "execution_count": 10,
   "metadata": {},
   "outputs": [
    {
     "data": {
      "text/plain": [
       "{'Jeju': 25, 'Pyongtaek': 22, 'Suwon': 18}"
      ]
     },
     "execution_count": 10,
     "metadata": {},
     "output_type": "execute_result"
    }
   ],
   "source": [
    "city_temperature['Suwon'] = 18\n",
    "city_temperature['Jeju'] = 25\n",
    "city_temperature"
   ]
  },
  {
   "cell_type": "markdown",
   "metadata": {},
   "source": [
    "**주의:** 사전 자료형에서 각 항목의 순서는 전혀 의미가 없다."
   ]
  },
  {
   "cell_type": "markdown",
   "metadata": {},
   "source": [
    "### 키(key) 와 키값(value)\n",
    "\n",
    "앞서 살펴보았듯 사전자료형의 항목들은 콜론(`:`)으로 구분된 두 개의 값들의 쌍으로 이루어진다.\n",
    "왼쪽에 있는 값을 키(key), 오른쪽에 위치하는 값은 키값(value)라 부른다. \n",
    "\n",
    "예를 들어 `city_temperature`에 사용된 키들은 `Pyeongtaek`, `Suwon`, `Jeju` 등이고 각 키들에 대응하는 키값은 각각 22, 18, 25이다. \n",
    "키에 해당하는 키값을 확인하고자 하면 아래와 같이 명령하면 된다."
   ]
  },
  {
   "cell_type": "code",
   "execution_count": 11,
   "metadata": {},
   "outputs": [
    {
     "data": {
      "text/plain": [
       "22"
      ]
     },
     "execution_count": 11,
     "metadata": {},
     "output_type": "execute_result"
    }
   ],
   "source": [
    "city_temperature['Pyongtaek']"
   ]
  },
  {
   "cell_type": "code",
   "execution_count": 12,
   "metadata": {},
   "outputs": [
    {
     "data": {
      "text/plain": [
       "25"
      ]
     },
     "execution_count": 12,
     "metadata": {},
     "output_type": "execute_result"
    }
   ],
   "source": [
    "city_temperature['Jeju']"
   ]
  },
  {
   "cell_type": "markdown",
   "metadata": {},
   "source": [
    "#### 키만 모아 놓은 리스트\n",
    "사전에 사용된 키들만 따로 모아놓은 리스트를 만들어주는 사전 자료형 메소드가 있다."
   ]
  },
  {
   "cell_type": "code",
   "execution_count": 13,
   "metadata": {},
   "outputs": [
    {
     "data": {
      "text/plain": [
       "dict_keys(['Pyongtaek', 'Suwon', 'Jeju'])"
      ]
     },
     "execution_count": 13,
     "metadata": {},
     "output_type": "execute_result"
    }
   ],
   "source": [
    "key_list = city_temperature.keys()\n",
    "key_list"
   ]
  },
  {
   "cell_type": "markdown",
   "metadata": {},
   "source": [
    "**주의:** 도시명들의 순서 전혀 중요하지 않다."
   ]
  },
  {
   "cell_type": "markdown",
   "metadata": {},
   "source": [
    "#### 키값만 모아 놓은 리스트\n",
    "사전에 사용된 키값들만 따로 모아놓은 리스트를 만들어주는 사전 자료형 메소드가 있다."
   ]
  },
  {
   "cell_type": "code",
   "execution_count": 14,
   "metadata": {},
   "outputs": [
    {
     "data": {
      "text/plain": [
       "dict_values([22, 18, 25])"
      ]
     },
     "execution_count": 14,
     "metadata": {},
     "output_type": "execute_result"
    }
   ],
   "source": [
    "value_list = city_temperature.values()\n",
    "value_list"
   ]
  },
  {
   "cell_type": "markdown",
   "metadata": {},
   "source": [
    "#### 각각의 항목을 리스트의 항목으로 묶는 방식\n",
    "사전에 사용된 항목들을 튜플로 묶어 리스트를 만들 수 있다."
   ]
  },
  {
   "cell_type": "code",
   "execution_count": 15,
   "metadata": {},
   "outputs": [
    {
     "data": {
      "text/plain": [
       "dict_items([('Pyongtaek', 22), ('Suwon', 18), ('Jeju', 25)])"
      ]
     },
     "execution_count": 15,
     "metadata": {},
     "output_type": "execute_result"
    }
   ],
   "source": [
    "item_list = city_temperature.items()\n",
    "item_list"
   ]
  },
  {
   "cell_type": "markdown",
   "metadata": {},
   "source": [
    "### 사전 자료형 반복문\n",
    "\n",
    "사전자료형을 반복문에 활용할 수 있다.\n",
    "이를 위해 `keys` 메소드를 사용한다.\n",
    "\n",
    "예를 들어, 도시와 온도를 동시에 추출하여 모두 보여주고자 할 경우 아래와 같이 하면 된다."
   ]
  },
  {
   "cell_type": "code",
   "execution_count": 16,
   "metadata": {},
   "outputs": [
    {
     "name": "stdout",
     "output_type": "stream",
     "text": [
      "Pyongtaek 의 온도는 22 도 이다.\n",
      "Suwon 의 온도는 18 도 이다.\n",
      "Jeju 의 온도는 25 도 이다.\n"
     ]
    }
   ],
   "source": [
    "for key in city_temperature.keys():\n",
    "    print(key,\"의 온도는\", city_temperature[key], \"도 이다.\")"
   ]
  },
  {
   "cell_type": "markdown",
   "metadata": {},
   "source": [
    "사실 `keys` 메소드를 굳이 사용하지 않아도 된다."
   ]
  },
  {
   "cell_type": "code",
   "execution_count": 17,
   "metadata": {},
   "outputs": [
    {
     "name": "stdout",
     "output_type": "stream",
     "text": [
      "Pyongtaek 의 온도는 22 도 이다.\n",
      "Suwon 의 온도는 18 도 이다.\n",
      "Jeju 의 온도는 25 도 이다.\n"
     ]
    }
   ],
   "source": [
    "for key in city_temperature:\n",
    "    print(key,\"의 온도는\", city_temperature[key], \"도 이다.\")    "
   ]
  },
  {
   "cell_type": "markdown",
   "metadata": {},
   "source": [
    "사전 자료형의 메소드는 그리 많지 않다.\n",
    "특정 자료형의 메소드를 확인하고자 하면 `dir()` 함수를 활용한다."
   ]
  },
  {
   "cell_type": "code",
   "execution_count": 18,
   "metadata": {},
   "outputs": [
    {
     "data": {
      "text/plain": [
       "['__class__',\n",
       " '__contains__',\n",
       " '__delattr__',\n",
       " '__delitem__',\n",
       " '__dir__',\n",
       " '__doc__',\n",
       " '__eq__',\n",
       " '__format__',\n",
       " '__ge__',\n",
       " '__getattribute__',\n",
       " '__getitem__',\n",
       " '__gt__',\n",
       " '__hash__',\n",
       " '__init__',\n",
       " '__init_subclass__',\n",
       " '__iter__',\n",
       " '__le__',\n",
       " '__len__',\n",
       " '__lt__',\n",
       " '__ne__',\n",
       " '__new__',\n",
       " '__reduce__',\n",
       " '__reduce_ex__',\n",
       " '__repr__',\n",
       " '__setattr__',\n",
       " '__setitem__',\n",
       " '__sizeof__',\n",
       " '__str__',\n",
       " '__subclasshook__',\n",
       " 'clear',\n",
       " 'copy',\n",
       " 'fromkeys',\n",
       " 'get',\n",
       " 'items',\n",
       " 'keys',\n",
       " 'pop',\n",
       " 'popitem',\n",
       " 'setdefault',\n",
       " 'update',\n",
       " 'values']"
      ]
     },
     "execution_count": 18,
     "metadata": {},
     "output_type": "execute_result"
    }
   ],
   "source": [
    "dir(city_temperature)"
   ]
  },
  {
   "cell_type": "markdown",
   "metadata": {},
   "source": [
    "주요 메소드들의 활용을 살펴보자."
   ]
  },
  {
   "cell_type": "markdown",
   "metadata": {},
   "source": [
    "* `pop` 메소드: 키에 해당하는 항목을 삭제한다."
   ]
  },
  {
   "cell_type": "code",
   "execution_count": 19,
   "metadata": {},
   "outputs": [
    {
     "name": "stdout",
     "output_type": "stream",
     "text": [
      "{'Pyongtaek': 22, 'Jeju': 25}\n"
     ]
    }
   ],
   "source": [
    "city_temperature.pop(\"Suwon\")\n",
    "print(city_temperature)"
   ]
  },
  {
   "cell_type": "markdown",
   "metadata": {},
   "source": [
    "키가 존재하지 않으면 오류('KeyError')가 발생한다."
   ]
  },
  {
   "cell_type": "code",
   "execution_count": 20,
   "metadata": {},
   "outputs": [
    {
     "ename": "KeyError",
     "evalue": "'Suwon'",
     "output_type": "error",
     "traceback": [
      "\u001b[0;31m---------------------------------------------------------------------------\u001b[0m",
      "\u001b[0;31mKeyError\u001b[0m                                  Traceback (most recent call last)",
      "\u001b[0;32m<ipython-input-20-81c6893d1a75>\u001b[0m in \u001b[0;36m<module>\u001b[0;34m()\u001b[0m\n\u001b[0;32m----> 1\u001b[0;31m \u001b[0mcity_temperature\u001b[0m\u001b[0;34m.\u001b[0m\u001b[0mpop\u001b[0m\u001b[0;34m(\u001b[0m\u001b[0;34m\"Suwon\"\u001b[0m\u001b[0;34m)\u001b[0m\u001b[0;34m\u001b[0m\u001b[0m\n\u001b[0m\u001b[1;32m      2\u001b[0m \u001b[0mprint\u001b[0m\u001b[0;34m(\u001b[0m\u001b[0mcity_temperature\u001b[0m\u001b[0;34m)\u001b[0m\u001b[0;34m\u001b[0m\u001b[0m\n",
      "\u001b[0;31mKeyError\u001b[0m: 'Suwon'"
     ]
    }
   ],
   "source": [
    "city_temperature.pop(\"Suwon\")\n",
    "print(city_temperature)"
   ]
  },
  {
   "cell_type": "markdown",
   "metadata": {},
   "source": [
    "특정 키의 존재여부를 확인하려면 `keys()` 메소드와 `in` 연산자를 활용한다."
   ]
  },
  {
   "cell_type": "code",
   "execution_count": 21,
   "metadata": {},
   "outputs": [
    {
     "data": {
      "text/plain": [
       "False"
      ]
     },
     "execution_count": 21,
     "metadata": {},
     "output_type": "execute_result"
    }
   ],
   "source": [
    "\"Suwon\" in city_temperature.keys()"
   ]
  },
  {
   "cell_type": "code",
   "execution_count": 22,
   "metadata": {},
   "outputs": [
    {
     "data": {
      "text/plain": [
       "True"
      ]
     },
     "execution_count": 22,
     "metadata": {},
     "output_type": "execute_result"
    }
   ],
   "source": [
    "\"Jeju\" in city_temperature.keys()"
   ]
  },
  {
   "cell_type": "markdown",
   "metadata": {},
   "source": [
    "아니면 단순히 `in` 연산자를 활용할 수도 있다."
   ]
  },
  {
   "cell_type": "code",
   "execution_count": 23,
   "metadata": {},
   "outputs": [
    {
     "data": {
      "text/plain": [
       "False"
      ]
     },
     "execution_count": 23,
     "metadata": {},
     "output_type": "execute_result"
    }
   ],
   "source": [
    "\"Suwon\" in city_temperature"
   ]
  },
  {
   "cell_type": "code",
   "execution_count": 24,
   "metadata": {},
   "outputs": [
    {
     "data": {
      "text/plain": [
       "True"
      ]
     },
     "execution_count": 24,
     "metadata": {},
     "output_type": "execute_result"
    }
   ],
   "source": [
    "\"Jeju\" in city_temperature"
   ]
  },
  {
   "cell_type": "markdown",
   "metadata": {},
   "source": [
    "* `update` 메소드: 하나의 사전을 다른 자료형과 합칠 수 있다."
   ]
  },
  {
   "cell_type": "code",
   "execution_count": 25,
   "metadata": {},
   "outputs": [],
   "source": [
    "other_city_temperature = {'Ansung': 21, 'Yongin': 23}\n",
    "city_temperature.update(other_city_temperature)"
   ]
  },
  {
   "cell_type": "code",
   "execution_count": 26,
   "metadata": {},
   "outputs": [
    {
     "data": {
      "text/plain": [
       "{'Ansung': 21, 'Jeju': 25, 'Pyongtaek': 22, 'Yongin': 23}"
      ]
     },
     "execution_count": 26,
     "metadata": {},
     "output_type": "execute_result"
    }
   ],
   "source": [
    "city_temperature"
   ]
  },
  {
   "cell_type": "markdown",
   "metadata": {},
   "source": [
    "* `get` 메소드: 지정한 키(key)에 해당하는 키값(value)를 되돌려 준다."
   ]
  },
  {
   "cell_type": "code",
   "execution_count": 27,
   "metadata": {},
   "outputs": [
    {
     "data": {
      "text/plain": [
       "21"
      ]
     },
     "execution_count": 27,
     "metadata": {},
     "output_type": "execute_result"
    }
   ],
   "source": [
    "city_temperature.get('Ansung')"
   ]
  },
  {
   "cell_type": "markdown",
   "metadata": {
    "collapsed": true
   },
   "source": [
    "### 선수이름과 기록 연동하기"
   ]
  },
  {
   "cell_type": "markdown",
   "metadata": {
    "collapsed": true
   },
   "source": [
    "이제 선수이름과 기록을 연동하여 기록순으로 정렬하는 방법을 다루고자 하며, \n",
    "이를 위해 사전 자료형을 활용한다.\n",
    "\n",
    "방식은 앞서 언급한 아래의 코드를 약간 수정하면 된다."
   ]
  },
  {
   "cell_type": "code",
   "execution_count": 28,
   "metadata": {},
   "outputs": [
    {
     "name": "stdout",
     "output_type": "stream",
     "text": [
      "{21.09: 'player1', 20.32: 'player2', 21.81: 'player3', 22.97: 'player4', 23.29: 'player5', 22.09: 'player6', 21.2: 'player7', 22.16: 'player8'}\n"
     ]
    }
   ],
   "source": [
    "result_f = open(\"data/scores_list.txt\") \n",
    "\n",
    "score_dict = dict()                        # 빈 사전 생성\n",
    "# 아래와 같이 선언해도 된다.\n",
    "# score_dict = {}\n",
    "\n",
    "for line in result_f: \n",
    "    (name, score) = line.split()       \n",
    "    try:\n",
    "        score_dict[float(score)] = name   # 점수와 선수이름의 쌍을 사전에 추가\n",
    "    except:\n",
    "        continue\n",
    "\n",
    "result_f.close() \n",
    "\n",
    "print(score_dict)"
   ]
  },
  {
   "cell_type": "markdown",
   "metadata": {},
   "source": [
    "이제 `score_dict`를 기록 기준으로 오름차순으로 정렬하면 된다.\n",
    "하지만 사전 자료형에는 `sort()` 메소드가 없다.\n",
    "\n",
    "대신에 `sorted()` 함수를 적용할 수 있다.\n",
    "즉, `sorted()` 함수를 이용하여 기록을 정렬한 후에 그 순서대로 키값을 읽으면 된다."
   ]
  },
  {
   "cell_type": "code",
   "execution_count": 29,
   "metadata": {},
   "outputs": [
    {
     "data": {
      "text/plain": [
       "[20.32, 21.09, 21.2, 21.81, 22.09, 22.16, 22.97, 23.29]"
      ]
     },
     "execution_count": 29,
     "metadata": {},
     "output_type": "execute_result"
    }
   ],
   "source": [
    "sorted(score_dict.keys())"
   ]
  },
  {
   "cell_type": "markdown",
   "metadata": {},
   "source": [
    "내림차순으로 정렬하려면 `reverse=True`라는 키워드 인자를 추가한다."
   ]
  },
  {
   "cell_type": "code",
   "execution_count": 30,
   "metadata": {},
   "outputs": [
    {
     "name": "stdout",
     "output_type": "stream",
     "text": [
      "player5 23.29\n",
      "player4 22.97\n",
      "player8 22.16\n",
      "player6 22.09\n",
      "player3 21.81\n",
      "player7 21.2\n",
      "player1 21.09\n",
      "player2 20.32\n"
     ]
    }
   ],
   "source": [
    "for each_record in sorted(score_dict.keys(), reverse=True):\n",
    "    print(score_dict[each_record], each_record)"
   ]
  },
  {
   "cell_type": "markdown",
   "metadata": {},
   "source": [
    "이제 코드를 정리하면 다음과 같다."
   ]
  },
  {
   "cell_type": "code",
   "execution_count": 31,
   "metadata": {},
   "outputs": [
    {
     "name": "stdout",
     "output_type": "stream",
     "text": [
      "Name: player5 , Score: 23.29\n",
      "Name: player4 , Score: 22.97\n",
      "Name: player8 , Score: 22.16\n",
      "Name: player6 , Score: 22.09\n",
      "Name: player3 , Score: 21.81\n",
      "Name: player7 , Score: 21.2\n",
      "Name: player1 , Score: 21.09\n",
      "Name: player2 , Score: 20.32\n"
     ]
    }
   ],
   "source": [
    "result_f = open(\"data/scores_list.txt\") \n",
    "\n",
    "score_dict = dict()                        # 빈 사전 생성\n",
    "# 아래와 같이 선언해도 된다.\n",
    "# score_dict = {}\n",
    "\n",
    "for line in result_f: \n",
    "    (name, score) = line.split()       \n",
    "    try:\n",
    "        score_dict[float(score)] = name   # 점수와 선수이름의 쌍을 사전에 추가\n",
    "    except:\n",
    "        continue\n",
    "\n",
    "result_f.close() \n",
    "\n",
    "score_keys = sorted(score_dict.keys(), reverse=True)\n",
    "\n",
    "\n",
    "for key in score_keys:\n",
    "    print(\"Name:\", score_dict[key], \", Score:\", key)"
   ]
  },
  {
   "cell_type": "markdown",
   "metadata": {},
   "source": [
    "위 코드를 좀 더 수정하면 등수까지도 보여줄 수 있다."
   ]
  },
  {
   "cell_type": "code",
   "execution_count": 32,
   "metadata": {},
   "outputs": [
    {
     "name": "stdout",
     "output_type": "stream",
     "text": [
      "1등은 player5 이고, 점수는 23.29 입니다.\n",
      "2등은 player4 이고, 점수는 22.97 입니다.\n",
      "3등은 player8 이고, 점수는 22.16 입니다.\n",
      "4등은 player6 이고, 점수는 22.09 입니다.\n",
      "5등은 player3 이고, 점수는 21.81 입니다.\n",
      "6등은 player7 이고, 점수는 21.2 입니다.\n",
      "7등은 player1 이고, 점수는 21.09 입니다.\n",
      "8등은 player2 이고, 점수는 20.32 입니다.\n"
     ]
    }
   ],
   "source": [
    "result_f = open(\"data/scores_list.txt\") \n",
    "\n",
    "score_dict = dict()                        # 빈 사전 생성\n",
    "# 아래와 같이 선언해도 된다.\n",
    "# score_dict = {}\n",
    "\n",
    "for line in result_f: \n",
    "    (name, score) = line.split()       \n",
    "    try:\n",
    "        score_dict[float(score)] = name   # 점수와 선수이름의 쌍을 사전에 추가\n",
    "    except:\n",
    "        continue\n",
    "\n",
    "result_f.close() \n",
    "\n",
    "score_keys = sorted(score_dict.keys(), reverse=True)\n",
    "\n",
    "count = 1\n",
    "for key in score_keys:\n",
    "    print(str(count)+\"등은\", score_dict[key], \"이고, 점수는\", key, \"입니다.\")\n",
    "    count = count+1"
   ]
  },
  {
   "cell_type": "markdown",
   "metadata": {},
   "source": [
    "### 연습\n",
    "\n",
    "위 코드를 수정하여 3등까지만 출력되도록 하라.\n",
    "\n",
    "힌트: `break` 활용"
   ]
  },
  {
   "cell_type": "markdown",
   "metadata": {},
   "source": [
    "견본답안 1: `break` 명령문 활용"
   ]
  },
  {
   "cell_type": "code",
   "execution_count": 33,
   "metadata": {},
   "outputs": [
    {
     "name": "stdout",
     "output_type": "stream",
     "text": [
      "1등은 player5 이고, 점수는 23.29 입니다.\n",
      "2등은 player4 이고, 점수는 22.97 입니다.\n",
      "3등은 player8 이고, 점수는 22.16 입니다.\n"
     ]
    }
   ],
   "source": [
    "result_f = open(\"data/scores_list.txt\") \n",
    "\n",
    "score_dict = dict()                        # 빈 사전 생성\n",
    "# 아래와 같이 선언해도 된다.\n",
    "# score_dict = {}\n",
    "\n",
    "for line in result_f: \n",
    "    (name, score) = line.split()       \n",
    "    try:\n",
    "        score_dict[float(score)] = name   # 점수와 선수이름의 쌍을 사전에 추가\n",
    "    except:\n",
    "        continue\n",
    "\n",
    "result_f.close() \n",
    "\n",
    "score_keys = sorted(score_dict.keys(), reverse=True)\n",
    "\n",
    "count = 1\n",
    "for key in score_keys:\n",
    "    print(str(count)+\"등은\", score_dict[key], \"이고, 점수는\", key, \"입니다.\")\n",
    "    if count < 3:\n",
    "        count = count+1\n",
    "    else:\n",
    "        break"
   ]
  },
  {
   "cell_type": "markdown",
   "metadata": {},
   "source": [
    "견본답안 2: 아래와 같이 `range()` 함수를 활용할 수도 있다."
   ]
  },
  {
   "cell_type": "code",
   "execution_count": 34,
   "metadata": {},
   "outputs": [
    {
     "name": "stdout",
     "output_type": "stream",
     "text": [
      "1등은 player5 이고, 점수는 23.29 입니다.\n",
      "2등은 player4 이고, 점수는 22.97 입니다.\n",
      "3등은 player8 이고, 점수는 22.16 입니다.\n"
     ]
    }
   ],
   "source": [
    "result_f = open(\"data/scores_list.txt\") \n",
    "\n",
    "score_dict = dict()                        # 빈 사전 생성\n",
    "# 아래와 같이 선언해도 된다.\n",
    "# score_dict = {}\n",
    "\n",
    "for line in result_f: \n",
    "    (name, score) = line.split()       \n",
    "    try:\n",
    "        score_dict[float(score)] = name   # 점수와 선수이름의 쌍을 사전에 추가\n",
    "    except:\n",
    "        continue\n",
    "\n",
    "result_f.close() \n",
    "\n",
    "score_keys = sorted(score_dict.keys(), reverse=True)\n",
    "\n",
    "for i in range(3):\n",
    "    key = score_keys[i]\n",
    "    print(str(i+1)+\"등은\", score_dict[key], \"이고, 점수는\", key, \"입니다.\")"
   ]
  },
  {
   "cell_type": "markdown",
   "metadata": {},
   "source": [
    "### 연습\n",
    "\n",
    "수영 선수의 1등 - 3등까지 보여주는 코드를 수정하여, 특정 값 이상의 점수를 획득한 선수의 이름과 점수를 보여주는 코드를 작성해보자."
   ]
  },
  {
   "cell_type": "markdown",
   "metadata": {},
   "source": [
    "견본답안:"
   ]
  },
  {
   "cell_type": "code",
   "execution_count": 35,
   "metadata": {},
   "outputs": [
    {
     "name": "stdout",
     "output_type": "stream",
     "text": [
      "기준이 되는 점수: 22.1\n",
      "player5\n",
      "player4\n",
      "player8\n"
     ]
    }
   ],
   "source": [
    "result_f = open('data/scores_list.txt')\n",
    "score_dict = {}\n",
    "\n",
    "for line in result_f:\n",
    "  (name, score) = line.split()\n",
    "  try:\n",
    "    score_dict[float(score)] = name\n",
    "  except:\n",
    "    continue\n",
    "result_f.close()\n",
    "score_keys = sorted(score_dict.keys(), reverse = True)\n",
    "\n",
    "n_input = float(input('기준이 되는 점수: '))\n",
    "for key in score_keys:\n",
    "  if key >= n_input:\n",
    "    print(score_dict[key])"
   ]
  },
  {
   "cell_type": "markdown",
   "metadata": {},
   "source": [
    "### 연습\n",
    "\n",
    "수영 점수의 기록에서 가장 높은 점수와 낮은 점수의 차를 구하는 코드를 작성하라"
   ]
  },
  {
   "cell_type": "markdown",
   "metadata": {},
   "source": [
    "견본답안:"
   ]
  },
  {
   "cell_type": "code",
   "execution_count": 36,
   "metadata": {},
   "outputs": [
    {
     "name": "stdout",
     "output_type": "stream",
     "text": [
      "점수 차는 2.969999999999999\n"
     ]
    }
   ],
   "source": [
    "# 정렬된 코드 score_keys 가 있다면, `(score_keys[0] - score_keys[-1]` 로 구할 수도 있다.\n",
    "\n",
    "result_f = open('data/scores_list.txt')\n",
    "score_dict = {}\n",
    "\n",
    "for line in result_f:\n",
    "  (name, score) = line.split()\n",
    "  try:\n",
    "    score_dict[float(score)] = name\n",
    "  except:\n",
    "    continue\n",
    "result_f.close()\n",
    "\n",
    "scores = score_dict.keys()\n",
    "max_score = max(scores)\n",
    "min_score = min(scores)\n",
    "print('점수 차는', max_score - min_score)"
   ]
  }
 ],
 "metadata": {
  "kernelspec": {
   "display_name": "Python 3",
   "language": "python",
   "name": "python3"
  },
  "language_info": {
   "codemirror_mode": {
    "name": "ipython",
    "version": 3
   },
   "file_extension": ".py",
   "mimetype": "text/x-python",
   "name": "python",
   "nbconvert_exporter": "python",
   "pygments_lexer": "ipython3",
   "version": "3.6.3"
  }
 },
 "nbformat": 4,
 "nbformat_minor": 2
}
