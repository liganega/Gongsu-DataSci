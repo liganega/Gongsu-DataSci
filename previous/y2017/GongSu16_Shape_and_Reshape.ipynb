{
 "cells": [
  {
   "cell_type": "markdown",
   "metadata": {},
   "source": [
    "# 넘파이 어레이: 어레이 모양 변경"
   ]
  },
  {
   "cell_type": "markdown",
   "metadata": {},
   "source": [
    "## 주요 내용\n",
    "\n",
    "어레이의 모양(shape)을 임의로 변경시키는 방법을 다룬다. \n",
    "\n",
    "* reshape 함수 활용\n",
    "* 어레이 자료형의 shape 속성 활용"
   ]
  },
  {
   "cell_type": "code",
   "execution_count": 1,
   "metadata": {},
   "outputs": [],
   "source": [
    "import numpy as np"
   ]
  },
  {
   "cell_type": "markdown",
   "metadata": {},
   "source": [
    "## reshape 함수 활용"
   ]
  },
  {
   "cell_type": "markdown",
   "metadata": {},
   "source": [
    "먼저 1차원 어레이를 생성해보자."
   ]
  },
  {
   "cell_type": "code",
   "execution_count": 2,
   "metadata": {},
   "outputs": [],
   "source": [
    "a_1D_array = np.arange(1,7)"
   ]
  },
  {
   "cell_type": "markdown",
   "metadata": {},
   "source": [
    "이제 아래 모양의 어레이를 생성해보자.\n",
    "\n",
    "$$\\left [ \\begin{matrix} 1 & 2 \\\\ 3 & 4 \\\\ 5 & 6 \\end{matrix} \\right ]$$"
   ]
  },
  {
   "cell_type": "markdown",
   "metadata": {},
   "source": [
    "아래와 같이 직접 작성할 수 있다."
   ]
  },
  {
   "cell_type": "code",
   "execution_count": 3,
   "metadata": {},
   "outputs": [
    {
     "data": {
      "text/plain": [
       "array([[1, 2],\n",
       "       [3, 4],\n",
       "       [5, 6]])"
      ]
     },
     "execution_count": 3,
     "metadata": {},
     "output_type": "execute_result"
    }
   ],
   "source": [
    "a_2D_array_1 = np.array([[1,2], [3, 4], [5,6]])\n",
    "a_2D_array_1"
   ]
  },
  {
   "cell_type": "markdown",
   "metadata": {},
   "source": [
    "하지만 shape 속성을 변경하는 방식으로 a_1D_array로부터 구할 수도 있다."
   ]
  },
  {
   "cell_type": "code",
   "execution_count": 4,
   "metadata": {},
   "outputs": [
    {
     "data": {
      "text/plain": [
       "array([[1, 2],\n",
       "       [3, 4],\n",
       "       [5, 6]])"
      ]
     },
     "execution_count": 4,
     "metadata": {},
     "output_type": "execute_result"
    }
   ],
   "source": [
    "a_2D_array = np.reshape(a_1D_array, (3,2))\n",
    "a_2D_array"
   ]
  },
  {
   "cell_type": "markdown",
   "metadata": {},
   "source": [
    "**주의:** 기존의 a_1D_array는 변경되지 않았다."
   ]
  },
  {
   "cell_type": "code",
   "execution_count": 5,
   "metadata": {},
   "outputs": [
    {
     "data": {
      "text/plain": [
       "array([1, 2, 3, 4, 5, 6])"
      ]
     },
     "execution_count": 5,
     "metadata": {},
     "output_type": "execute_result"
    }
   ],
   "source": [
    "a_1D_array"
   ]
  },
  {
   "cell_type": "markdown",
   "metadata": {},
   "source": [
    "앞서 다룬 `reshape()` 함수는 넘파이 모듈의 함수이다.\n",
    "하지만, 동일한 이름의 어레이 메소드가 존재한다."
   ]
  },
  {
   "cell_type": "code",
   "execution_count": 6,
   "metadata": {},
   "outputs": [
    {
     "data": {
      "text/plain": [
       "array([[1, 2, 3],\n",
       "       [4, 5, 6]])"
      ]
     },
     "execution_count": 6,
     "metadata": {},
     "output_type": "execute_result"
    }
   ],
   "source": [
    "a_2D_array_2 = a_1D_array.reshape(2,3)\n",
    "a_2D_array_2"
   ]
  },
  {
   "cell_type": "markdown",
   "metadata": {},
   "source": [
    "**주의:** `np.reshape()` 함수와 `reshape()` 메소드는 내부적으로는 동일한 함수이다."
   ]
  },
  {
   "cell_type": "markdown",
   "metadata": {},
   "source": [
    "### 뷰(View) 방식\n",
    "\n",
    "reshape 함수를 이용하여 a_1D_array로부터 생성된 a_2D_array는 a_1D_array와 상호 의존적인 관계를 유지한다. \n",
    "따라서 a_1D_array의 특정 위치의 값이 변하면 a_2D_array에서 그 위치에 해당한 값도 동일하게 변한다.\n",
    "이렇게 작동하는 방식을 **뷰(View) 방식**이라고 부른다. \n",
    "\n",
    "뷰 방식을 이용하는 함수의 결과물은 완전히 새로운 값을 생성하는 것이 아니라 기존의 값을 지켜보면서 정해진 규칙에 따라 모양만을 바꾸어 값을 리턴하는 방식을 따른다. \n",
    "따라서 기존의 데이터에 변경이 발생이 발생하면 뷰 방식의 결과도 그에 상응하여 다른 값을 갖게 된다.\n",
    "\n",
    "**주의:** 뷰 방식은 역 방향으로도 영향을 미친다.\n",
    "예를 들어, a_2D_array의 값을 변경하면 a_1D_array의 값도 변경된다."
   ]
  },
  {
   "cell_type": "code",
   "execution_count": 7,
   "metadata": {},
   "outputs": [
    {
     "data": {
      "text/plain": [
       "array([[ 1,  2],\n",
       "       [ 3,  4],\n",
       "       [-1,  6]])"
      ]
     },
     "execution_count": 7,
     "metadata": {},
     "output_type": "execute_result"
    }
   ],
   "source": [
    "a_2D_array[2][0] = -1\n",
    "a_2D_array"
   ]
  },
  {
   "cell_type": "code",
   "execution_count": 8,
   "metadata": {},
   "outputs": [
    {
     "data": {
      "text/plain": [
       "array([ 1,  2,  3,  4, -1,  6])"
      ]
     },
     "execution_count": 8,
     "metadata": {},
     "output_type": "execute_result"
    }
   ],
   "source": [
    "a_1D_array"
   ]
  },
  {
   "cell_type": "markdown",
   "metadata": {},
   "source": [
    "뷰 방식으로 어레이의 모양을 변경하는 다양한 방식이 존재한다. \n",
    "대표적으로 전치행렬을 생성하는 T 속성이 그렇다.\n",
    "\n",
    "**주의:** 전치행렬은 기존 행렬의 행과 열을 서로 바꾼 행렬이다. 예를 들어,\n",
    "`3 x 2` 행렬의 전치행렬은 `2 x 3` 행렬이 된다.\n",
    "(아래 그림 참조)\n",
    "\n",
    "$$\\left [ \\begin{matrix} a_1 & a_2 \\\\ b_1 & b_2 \\\\ c_1 & c_2 \\end{matrix} \\right ]\n",
    "\\quad\\Longrightarrow\\quad\n",
    "\\left [ \\begin{matrix} a_1 & b_1 & c_1 \\\\ a_2 & b_2 & c_2 \\end{matrix} \\right ]$$"
   ]
  },
  {
   "cell_type": "code",
   "execution_count": 9,
   "metadata": {},
   "outputs": [
    {
     "data": {
      "text/plain": [
       "array([[ 1,  2],\n",
       "       [ 3,  4],\n",
       "       [-1,  6]])"
      ]
     },
     "execution_count": 9,
     "metadata": {},
     "output_type": "execute_result"
    }
   ],
   "source": [
    "a_2D_array"
   ]
  },
  {
   "cell_type": "markdown",
   "metadata": {},
   "source": [
    "a_2D_array의 모양은 (3, 2)이며, 따라서 행과 열을 서로 바꾼 전치행렬의 모양은 (2,3)이 된다."
   ]
  },
  {
   "cell_type": "code",
   "execution_count": 10,
   "metadata": {},
   "outputs": [
    {
     "data": {
      "text/plain": [
       "array([[ 1,  3, -1],\n",
       "       [ 2,  4,  6]])"
      ]
     },
     "execution_count": 10,
     "metadata": {},
     "output_type": "execute_result"
    }
   ],
   "source": [
    "a_transposed_2D = a_2D_array.T\n",
    "a_transposed_2D"
   ]
  },
  {
   "cell_type": "markdown",
   "metadata": {},
   "source": [
    "이제 전치행렬을 변경해보자. "
   ]
  },
  {
   "cell_type": "code",
   "execution_count": 11,
   "metadata": {},
   "outputs": [
    {
     "data": {
      "text/plain": [
       "array([[ 1, -2, -1],\n",
       "       [ 2,  4,  6]])"
      ]
     },
     "execution_count": 11,
     "metadata": {},
     "output_type": "execute_result"
    }
   ],
   "source": [
    "a_transposed_2D[0][1] = -2\n",
    "a_transposed_2D"
   ]
  },
  {
   "cell_type": "markdown",
   "metadata": {},
   "source": [
    "그러면 원래 행렬도 동일한 방식으로 변경된다."
   ]
  },
  {
   "cell_type": "code",
   "execution_count": 12,
   "metadata": {},
   "outputs": [
    {
     "data": {
      "text/plain": [
       "array([[ 1,  2],\n",
       "       [-2,  4],\n",
       "       [-1,  6]])"
      ]
     },
     "execution_count": 12,
     "metadata": {},
     "output_type": "execute_result"
    }
   ],
   "source": [
    "a_2D_array"
   ]
  },
  {
   "cell_type": "markdown",
   "metadata": {},
   "source": [
    "### 뷰 방식 사용하지 않기\n",
    "\n",
    "뷰 방식을 이용할 때 예상치 못한 결과를 얻을 수도 있음을 보여주는 예제가 매우 많다.\n",
    "(연습문제 참조)\n",
    "\n",
    "따라서 경우에 따라 뷰 방식을 따르지 않도록 설정하는 것이 필요하며, 그럴 때는 `copy()` 메소드를 활용하면 된다.\n",
    "즉, 복사하여 완전히 분리해서 사용하도록 한다."
   ]
  },
  {
   "cell_type": "code",
   "execution_count": 13,
   "metadata": {},
   "outputs": [
    {
     "data": {
      "text/plain": [
       "array([[ 1, -2, -1],\n",
       "       [ 2,  4,  6]])"
      ]
     },
     "execution_count": 13,
     "metadata": {},
     "output_type": "execute_result"
    }
   ],
   "source": [
    "a_transposed_2D_1 = a_2D_array.T.copy()\n",
    "a_transposed_2D_1"
   ]
  },
  {
   "cell_type": "markdown",
   "metadata": {},
   "source": [
    "이제 a_transposed_2D_1 행렬을 변경해보자."
   ]
  },
  {
   "cell_type": "code",
   "execution_count": 14,
   "metadata": {},
   "outputs": [
    {
     "data": {
      "text/plain": [
       "array([[ 1, -5, -1],\n",
       "       [ 2,  4,  6]])"
      ]
     },
     "execution_count": 14,
     "metadata": {},
     "output_type": "execute_result"
    }
   ],
   "source": [
    "a_transposed_2D_1[0][1] = -5\n",
    "a_transposed_2D_1"
   ]
  },
  {
   "cell_type": "markdown",
   "metadata": {},
   "source": [
    "하지만 원래 행렬은 변하지 않았음을 확인할 수 있다."
   ]
  },
  {
   "cell_type": "code",
   "execution_count": 15,
   "metadata": {},
   "outputs": [
    {
     "data": {
      "text/plain": [
       "array([[ 1,  2],\n",
       "       [-2,  4],\n",
       "       [-1,  6]])"
      ]
     },
     "execution_count": 15,
     "metadata": {},
     "output_type": "execute_result"
    }
   ],
   "source": [
    "a_2D_array"
   ]
  },
  {
   "cell_type": "markdown",
   "metadata": {},
   "source": [
    "`np.reshape()` 함수와 `reshape()` 메소드의 경우도 동일하다."
   ]
  },
  {
   "cell_type": "code",
   "execution_count": 16,
   "metadata": {},
   "outputs": [
    {
     "data": {
      "text/plain": [
       "array([[ 1,  2],\n",
       "       [-2,  4],\n",
       "       [-1,  6]])"
      ]
     },
     "execution_count": 16,
     "metadata": {},
     "output_type": "execute_result"
    }
   ],
   "source": [
    "a_transposed_2D_2 = a_1D_array.reshape((3,2)).copy()\n",
    "a_transposed_2D_2"
   ]
  },
  {
   "cell_type": "code",
   "execution_count": 17,
   "metadata": {},
   "outputs": [
    {
     "data": {
      "text/plain": [
       "array([[ 1,  2],\n",
       "       [-2,  4],\n",
       "       [-1,  0]])"
      ]
     },
     "execution_count": 17,
     "metadata": {},
     "output_type": "execute_result"
    }
   ],
   "source": [
    "a_transposed_2D_2[2][1] = 0\n",
    "a_transposed_2D_2"
   ]
  },
  {
   "cell_type": "code",
   "execution_count": 18,
   "metadata": {},
   "outputs": [
    {
     "data": {
      "text/plain": [
       "array([ 1,  2, -2,  4, -1,  6])"
      ]
     },
     "execution_count": 18,
     "metadata": {},
     "output_type": "execute_result"
    }
   ],
   "source": [
    "a_1D_array"
   ]
  },
  {
   "cell_type": "code",
   "execution_count": 19,
   "metadata": {},
   "outputs": [
    {
     "data": {
      "text/plain": [
       "array([[ 1,  2],\n",
       "       [-2,  4],\n",
       "       [-1,  6]])"
      ]
     },
     "execution_count": 19,
     "metadata": {},
     "output_type": "execute_result"
    }
   ],
   "source": [
    "a_transposed_2D_3 = np.reshape(a_1D_array, (3,2)).copy()\n",
    "a_transposed_2D_3"
   ]
  },
  {
   "cell_type": "code",
   "execution_count": 20,
   "metadata": {},
   "outputs": [
    {
     "data": {
      "text/plain": [
       "array([[ 1,  2],\n",
       "       [-2,  4],\n",
       "       [-8,  6]])"
      ]
     },
     "execution_count": 20,
     "metadata": {},
     "output_type": "execute_result"
    }
   ],
   "source": [
    "a_transposed_2D_3[2][0] = -8\n",
    "a_transposed_2D_3"
   ]
  },
  {
   "cell_type": "code",
   "execution_count": 21,
   "metadata": {},
   "outputs": [
    {
     "data": {
      "text/plain": [
       "array([ 1,  2, -2,  4, -1,  6])"
      ]
     },
     "execution_count": 21,
     "metadata": {},
     "output_type": "execute_result"
    }
   ],
   "source": [
    "a_1D_array"
   ]
  },
  {
   "cell_type": "markdown",
   "metadata": {},
   "source": [
    "## shape 속성 활용"
   ]
  },
  {
   "cell_type": "markdown",
   "metadata": {},
   "source": [
    "넘파이의  어레이는 가변자료형이다. \n",
    "즉, 어레이의 내용과 모양을 변경시킬 수 있다. "
   ]
  },
  {
   "cell_type": "markdown",
   "metadata": {},
   "source": [
    "### 항목 변경\n",
    "\n",
    "항목 변경은 인덱싱 기능을 이용한다. \n",
    "인덱싱에 대한 보다 자세한 설명은 다음 장에서 다루며, \n",
    "여기서는 리스트의 인덱싱 방식과 동일한 방식으로 설명한다."
   ]
  },
  {
   "cell_type": "markdown",
   "metadata": {},
   "source": [
    "#### 예제\n",
    "\n",
    "a_1D_array의 2번 인덱스 항목을 9로 변경하려면 아래와 같이 하면 된다."
   ]
  },
  {
   "cell_type": "code",
   "execution_count": 22,
   "metadata": {},
   "outputs": [
    {
     "data": {
      "text/plain": [
       "array([ 1,  2,  9,  4, -1,  6])"
      ]
     },
     "execution_count": 22,
     "metadata": {},
     "output_type": "execute_result"
    }
   ],
   "source": [
    "a_1D_array[2] = 9\n",
    "a_1D_array"
   ]
  },
  {
   "cell_type": "markdown",
   "metadata": {},
   "source": [
    "#### 예제\n",
    "\n",
    "a_2D_array의 2번 인덱스 항목의 1번 인덱스 항목을 8로 변경하려면 아래와 같이 하면 된다."
   ]
  },
  {
   "cell_type": "code",
   "execution_count": 23,
   "metadata": {},
   "outputs": [
    {
     "data": {
      "text/plain": [
       "array([[ 1,  2],\n",
       "       [ 9,  4],\n",
       "       [-1,  8]])"
      ]
     },
     "execution_count": 23,
     "metadata": {},
     "output_type": "execute_result"
    }
   ],
   "source": [
    "a_2D_array[2][1] = 8\n",
    "a_2D_array"
   ]
  },
  {
   "cell_type": "markdown",
   "metadata": {},
   "source": [
    "### 모양 변경\n",
    "\n",
    "어레이 자료형의 shape 속성을 이용하여 어레이의 모양을 변경시키는 방법을 배운다.\n",
    "\n",
    "a_1D_array는 1차원 어레이이며 길이가 6이다."
   ]
  },
  {
   "cell_type": "code",
   "execution_count": 24,
   "metadata": {},
   "outputs": [
    {
     "data": {
      "text/plain": [
       "(6,)"
      ]
     },
     "execution_count": 24,
     "metadata": {},
     "output_type": "execute_result"
    }
   ],
   "source": [
    "a_1D_array.shape"
   ]
  },
  {
   "cell_type": "markdown",
   "metadata": {},
   "source": [
    "shape 속성값을 다른 모양으로 바꿀 수 있다. \n",
    "대신에, 새로 생성된 모양 역시 동일한 숫자의 항목을 포함해야 한다."
   ]
  },
  {
   "cell_type": "code",
   "execution_count": 25,
   "metadata": {},
   "outputs": [
    {
     "data": {
      "text/plain": [
       "array([[ 1,  2],\n",
       "       [ 9,  4],\n",
       "       [-1,  8]])"
      ]
     },
     "execution_count": 25,
     "metadata": {},
     "output_type": "execute_result"
    }
   ],
   "source": [
    "a_1D_array.shape = (3,2)\n",
    "a_1D_array"
   ]
  },
  {
   "cell_type": "markdown",
   "metadata": {},
   "source": [
    "`3 * 2 = 6` 임에 주의하라. 그렇지 않으면 오류가 발생한다."
   ]
  },
  {
   "cell_type": "code",
   "execution_count": 26,
   "metadata": {},
   "outputs": [
    {
     "ename": "ValueError",
     "evalue": "cannot reshape array of size 6 into shape (4,2)",
     "output_type": "error",
     "traceback": [
      "\u001b[0;31m---------------------------------------------------------------------------\u001b[0m",
      "\u001b[0;31mValueError\u001b[0m                                Traceback (most recent call last)",
      "\u001b[0;32m<ipython-input-26-bf6420d2e8b2>\u001b[0m in \u001b[0;36m<module>\u001b[0;34m()\u001b[0m\n\u001b[0;32m----> 1\u001b[0;31m \u001b[0ma_1D_array\u001b[0m\u001b[0;34m.\u001b[0m\u001b[0mshape\u001b[0m \u001b[0;34m=\u001b[0m \u001b[0;34m(\u001b[0m\u001b[0;36m4\u001b[0m\u001b[0;34m,\u001b[0m \u001b[0;36m2\u001b[0m\u001b[0;34m)\u001b[0m\u001b[0;34m\u001b[0m\u001b[0m\n\u001b[0m",
      "\u001b[0;31mValueError\u001b[0m: cannot reshape array of size 6 into shape (4,2)"
     ]
    }
   ],
   "source": [
    "a_1D_array.shape = (4, 2)"
   ]
  },
  {
   "cell_type": "markdown",
   "metadata": {},
   "source": [
    "shape를 (4, 2)로 변경하면 8개의 값이 필요한데 기존에 6개의 값만 사용되었기에 오류가 발생하는 것이다.\n",
    "\n",
    "원래 모양으로 되돌리기 위해서는 다시 shape 을 변경시켜주면 된다."
   ]
  },
  {
   "cell_type": "code",
   "execution_count": 27,
   "metadata": {},
   "outputs": [
    {
     "data": {
      "text/plain": [
       "array([ 1,  2,  9,  4, -1,  8])"
      ]
     },
     "execution_count": 27,
     "metadata": {},
     "output_type": "execute_result"
    }
   ],
   "source": [
    "a_1D_array.shape = (6,)\n",
    "a_1D_array"
   ]
  },
  {
   "cell_type": "markdown",
   "metadata": {},
   "source": [
    "### flatten 메소드\n",
    "\n",
    "어떠한 모양의 어레이도 1차원 어레이로 변경시켜주는 특별한 어레이 메소드가 `flatten()` 이다."
   ]
  },
  {
   "cell_type": "code",
   "execution_count": 28,
   "metadata": {},
   "outputs": [],
   "source": [
    "array_flattened = a_2D_array.flatten()"
   ]
  },
  {
   "cell_type": "code",
   "execution_count": 29,
   "metadata": {},
   "outputs": [
    {
     "data": {
      "text/plain": [
       "array([ 1,  2,  9,  4, -1,  8])"
      ]
     },
     "execution_count": 29,
     "metadata": {},
     "output_type": "execute_result"
    }
   ],
   "source": [
    "array_flattened"
   ]
  },
  {
   "cell_type": "markdown",
   "metadata": {},
   "source": [
    "**주의:** `flatten()` 메소드는 뷰 방식으로 작동하지 않는다."
   ]
  },
  {
   "cell_type": "code",
   "execution_count": 30,
   "metadata": {},
   "outputs": [
    {
     "data": {
      "text/plain": [
       "array([-3,  2,  9,  4, -1,  8])"
      ]
     },
     "execution_count": 30,
     "metadata": {},
     "output_type": "execute_result"
    }
   ],
   "source": [
    "array_flattened[0] = -3\n",
    "array_flattened"
   ]
  },
  {
   "cell_type": "code",
   "execution_count": 31,
   "metadata": {},
   "outputs": [
    {
     "data": {
      "text/plain": [
       "array([[ 1,  2],\n",
       "       [ 9,  4],\n",
       "       [-1,  8]])"
      ]
     },
     "execution_count": 31,
     "metadata": {},
     "output_type": "execute_result"
    }
   ],
   "source": [
    "a_2D_array"
   ]
  },
  {
   "cell_type": "markdown",
   "metadata": {},
   "source": [
    "## 연습문제"
   ]
  },
  {
   "cell_type": "markdown",
   "metadata": {},
   "source": [
    "전치행렬이 뷰 방식에 따라 사용되기에 아래와 같은 함수를 호출할 때 조심해야 한다.\n",
    "\n",
    "아래 코드의 경우 두 개의 행렬을 각 항목별로 더하는 방식을 취한다.\n",
    "따라서 행렬 `a`와 `a.T`를 인자로 입력하면 대칭행렬이 리턴되는 것을 기대할 수 있다.\n",
    "하지만 결과는 다르게 나온다. 이유는 `a.T` 가 뷰 방식을 따르고 중첩 `for`문이 진행되는 \n",
    "동안 항목 값들이 계속해서 변하기 때문이다."
   ]
  },
  {
   "cell_type": "code",
   "execution_count": 32,
   "metadata": {},
   "outputs": [],
   "source": [
    "def mat_add(a, b):\n",
    "    for i in range(a.shape[0]):\n",
    "        for j in range(a.shape[1]):\n",
    "            a[i,j] += b[i,j]\n",
    "    return a"
   ]
  },
  {
   "cell_type": "code",
   "execution_count": 33,
   "metadata": {},
   "outputs": [
    {
     "data": {
      "text/plain": [
       "array([[0, 1, 2],\n",
       "       [3, 4, 5],\n",
       "       [6, 7, 8]])"
      ]
     },
     "execution_count": 33,
     "metadata": {},
     "output_type": "execute_result"
    }
   ],
   "source": [
    "c = np.arange(9).reshape((3,3))\n",
    "c"
   ]
  },
  {
   "cell_type": "markdown",
   "metadata": {},
   "source": [
    "어레이 `c`는 다음 행렬에 대응한다. \n",
    "\n",
    "$$\\left [ \\begin{matrix} \n",
    "0 & 1 & 2 \\\\ \n",
    "3 & 4 & 5 \\\\ \n",
    "6 & 7 & 8\n",
    "\\end{matrix} \\right ]$$\n",
    "\n",
    "따라서 `c.T`는 다음 행렬에 대응한다. \n",
    "\n",
    "$$\\left [ \\begin{matrix} \n",
    "0 & 3 & 6 \\\\ \n",
    "1 & 4 & 7 \\\\ \n",
    "2 & 5 & 8\n",
    "\\end{matrix} \\right ]$$\n",
    "\n",
    "이제 `mat_add(c, c.T)`는 아래의 대칭행렬이 될 것으로 기대한다.\n",
    "\n",
    "$$\\left [ \\begin{matrix} \n",
    "0 & 4 & 8 \\\\ \n",
    "4 & 8 & 12 \\\\ \n",
    "8 & 12 & 16\n",
    "\\end{matrix} \\right ]$$\n",
    "\n",
    "하지만 결과가 다르게 나온다."
   ]
  },
  {
   "cell_type": "code",
   "execution_count": 34,
   "metadata": {},
   "outputs": [
    {
     "data": {
      "text/plain": [
       "array([[ 0,  4,  8],\n",
       "       [ 7,  8, 12],\n",
       "       [14, 19, 16]])"
      ]
     },
     "execution_count": 34,
     "metadata": {},
     "output_type": "execute_result"
    }
   ],
   "source": [
    "mat_add(c, c.T)"
   ]
  },
  {
   "cell_type": "markdown",
   "metadata": {},
   "source": [
    "이유가 무엇일까? 먼저 0번 행의 경우는 예상과 일치한다.\n",
    "그런데 1번 행부터 값이 달라졌다. \n",
    "이는, 예를 들어 `(i, j) = (1, 0)` 의 경우 \n",
    "`c.T[1, 0]`의 값이 `c[0, 1]`인데 0번 행을 계산하면서 값이 `1`에서 \n",
    "이미 `4`로 변경되었기 때문이다. \n",
    "따라서 \n",
    "\n",
    "    c[1,0] + c.T[1,0] = c[1,0] + c[0,1] = 3 + 4 = 7\n",
    "    \n",
    "이 되는 것이다.    "
   ]
  }
 ],
 "metadata": {
  "kernelspec": {
   "display_name": "Python 3",
   "language": "python",
   "name": "python3"
  },
  "language_info": {
   "codemirror_mode": {
    "name": "ipython",
    "version": 3
   },
   "file_extension": ".py",
   "mimetype": "text/x-python",
   "name": "python",
   "nbconvert_exporter": "python",
   "pygments_lexer": "ipython3",
   "version": "3.6.3"
  }
 },
 "nbformat": 4,
 "nbformat_minor": 2
}
