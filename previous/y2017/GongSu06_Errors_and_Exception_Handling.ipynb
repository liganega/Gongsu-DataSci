{
 "cells": [
  {
   "cell_type": "markdown",
   "metadata": {},
   "source": [
    "# 오류 및 예외 처리"
   ]
  },
  {
   "cell_type": "markdown",
   "metadata": {},
   "source": [
    "#### 수정 사항\n",
    "\n",
    "* 좀 더 실용적인 수학함수 활용 가능"
   ]
  },
  {
   "cell_type": "markdown",
   "metadata": {},
   "source": [
    "## 개요\n",
    "\n",
    "* 코딩할 때 발생할 수 있는 다양한 **오류** 살펴 보기\n",
    "    \n",
    "* **오류 메시지** 정보 확인 방법\n",
    "\n",
    "* **예외 처리**, 즉 오류가 발생할 수 있는 예외적인 상황을 미리 고려하는 방법 소개"
   ]
  },
  {
   "cell_type": "markdown",
   "metadata": {},
   "source": [
    "## 오늘의 주요 예제"
   ]
  },
  {
   "cell_type": "markdown",
   "metadata": {},
   "source": [
    "아래 코드는 `input()` 함수를 이용하여 사용자로부터 숫자를 입력받아 \n",
    "그 숫자의 제곱을 리턴하는 내용을 담고 있다. \n",
    "코드를 실행하면 숫자를 입력하라는 창이 나오며, \n",
    "여기에 숫자 3을 입력하면 정상적으로 작동한다. \n",
    "하지만, 예를 들어, 3.2를 입력하면 값 오류(value error)가 발생한다. "
   ]
  },
  {
   "cell_type": "code",
   "execution_count": 1,
   "metadata": {},
   "outputs": [
    {
     "name": "stdout",
     "output_type": "stream",
     "text": [
      "A number please: 3.2\n"
     ]
    },
    {
     "ename": "ValueError",
     "evalue": "invalid literal for int() with base 10: '3.2'",
     "output_type": "error",
     "traceback": [
      "\u001b[0;31m---------------------------------------------------------------------------\u001b[0m",
      "\u001b[0;31mValueError\u001b[0m                                Traceback (most recent call last)",
      "\u001b[0;32m<ipython-input-1-48fe2d735a99>\u001b[0m in \u001b[0;36m<module>\u001b[0;34m()\u001b[0m\n\u001b[1;32m      1\u001b[0m \u001b[0minput_number\u001b[0m \u001b[0;34m=\u001b[0m \u001b[0minput\u001b[0m\u001b[0;34m(\u001b[0m\u001b[0;34m\"A number please: \"\u001b[0m\u001b[0;34m)\u001b[0m\u001b[0;34m\u001b[0m\u001b[0m\n\u001b[0;32m----> 2\u001b[0;31m \u001b[0mnumber\u001b[0m \u001b[0;34m=\u001b[0m \u001b[0mint\u001b[0m\u001b[0;34m(\u001b[0m\u001b[0minput_number\u001b[0m\u001b[0;34m)\u001b[0m\u001b[0;34m\u001b[0m\u001b[0m\n\u001b[0m\u001b[1;32m      3\u001b[0m \u001b[0;34m\u001b[0m\u001b[0m\n\u001b[1;32m      4\u001b[0m \u001b[0mprint\u001b[0m\u001b[0;34m(\u001b[0m\u001b[0;34m\"제곱의 결과는\"\u001b[0m\u001b[0;34m,\u001b[0m \u001b[0mnumber\u001b[0m\u001b[0;34m**\u001b[0m\u001b[0;36m2\u001b[0m\u001b[0;34m,\u001b[0m \u001b[0;34m\"입니다.\"\u001b[0m\u001b[0;34m)\u001b[0m\u001b[0;34m\u001b[0m\u001b[0m\n",
      "\u001b[0;31mValueError\u001b[0m: invalid literal for int() with base 10: '3.2'"
     ]
    }
   ],
   "source": [
    "input_number = input(\"A number please: \")\n",
    "number = int(input_number)\n",
    "\n",
    "print(\"제곱의 결과는\", number**2, \"입니다.\")"
   ]
  },
  {
   "cell_type": "code",
   "execution_count": 2,
   "metadata": {},
   "outputs": [
    {
     "name": "stdout",
     "output_type": "stream",
     "text": [
      "A number please: 3\n",
      "제곱의 결과는 9 입니다.\n"
     ]
    }
   ],
   "source": [
    "input_number = input(\"A number please: \")\n",
    "number = int(input_number)\n",
    "\n",
    "print(\"제곱의 결과는\", number**2, \"입니다.\")"
   ]
  },
  {
   "cell_type": "markdown",
   "metadata": {},
   "source": [
    "위 코드는 정수들의 제곱을 계산하는 프로그램이다. \n",
    "하지만 사용자가 경우에 따라 정수 이외의 값을 입력하면 시스템이 다운된다. \n",
    "이에 대한 해결책을 다루고자 한다."
   ]
  },
  {
   "cell_type": "markdown",
   "metadata": {},
   "source": [
    "## 오류 예제\n",
    "\n",
    "먼저 오류의 다양한 예제를 살펴보자.\n",
    "다음 코드들은 모두 오류를 발생시킨다."
   ]
  },
  {
   "cell_type": "markdown",
   "metadata": {},
   "source": [
    "### 예제: 0으로 나누기 오류\n",
    "\n",
    "```python\n",
    "4.6/0\n",
    "```\n",
    "\n",
    "오류 설명: 0으로 나눌 수 없다."
   ]
  },
  {
   "cell_type": "markdown",
   "metadata": {},
   "source": [
    "### 예제: 문법 오류\n",
    "\n",
    "```python\n",
    "sentence = 'I am a sentence\n",
    "```\n",
    "\n",
    "오류 설명: 문자열 양 끝의 따옴표가 짝이 맞아야 한다.\n",
    "* 작은 따옴표끼리 또는 큰 따옴표끼리"
   ]
  },
  {
   "cell_type": "markdown",
   "metadata": {},
   "source": [
    "### 예제: 들여쓰기 문법 오류\n",
    "\n",
    "```python\n",
    "for i in range(3):\n",
    "    j = i * 2\n",
    "      print(i, j)\n",
    "```\n",
    "\n",
    "오류 설명: 2번 줄과 3번 줄의 들여쓰기 정도가 동일해야 한다."
   ]
  },
  {
   "cell_type": "markdown",
   "metadata": {},
   "source": [
    "### 예제: 자료형 오류\n",
    "아래 연산은 모두 오류를 발생시킨다.\n",
    "\n",
    "```python\n",
    "new_string = 'cat' - 'dog'\n",
    "new_string = 'cat' * 'dog'\n",
    "new_string = 'cat' / 'dog'\n",
    "\n",
    "new_string = 'cat' + 3\n",
    "new_string = 'cat' - 3\n",
    "new_string = 'cat' / 3\n",
    "```\n",
    "\n",
    "이유: 문자열 끼리의 합, 문자열과 정수의 곱셈만 정의되어 있다."
   ]
  },
  {
   "cell_type": "markdown",
   "metadata": {},
   "source": [
    "### 예제: 이름 오류\n",
    "\n",
    "```python\n",
    "print(party)\n",
    "```\n",
    "\n",
    "오류 설명: 미리 선언된 변수만 사용할 수 있다."
   ]
  },
  {
   "cell_type": "markdown",
   "metadata": {},
   "source": [
    "### 예제: 인덱스 오류\n",
    "\n",
    "```python\n",
    "a_string = 'abcdefg'\n",
    "a_string[12]\n",
    "```\n",
    "\n",
    "오류 설명: 인덱스는 문자열의 길이보다 작은 수만 사용할 수 있다."
   ]
  },
  {
   "cell_type": "markdown",
   "metadata": {},
   "source": [
    "### 예제: 값 오류\n",
    "\n",
    "```python\n",
    "int(a_string)\n",
    "```\n",
    "\n",
    "오류 설명: `int()` 함수는 정수로만 구성된 문자열만 처리할 수 있다."
   ]
  },
  {
   "cell_type": "markdown",
   "metadata": {},
   "source": [
    "### 예제: 속성 오류\n",
    "\n",
    "```python\n",
    "print(a_string.len())\n",
    "```\n",
    "\n",
    "오류 설명: 문자열 자료형에는 `len()` 메소드가 존재하지 않는다.\n",
    "\n",
    "**주의:** `len()` 이라는 함수는 문자열의 길이를 확인하지만 문자열 메소드는 아니다. \n",
    "이후에 다룰 리스트, 튜플 등에 대해서도 사용할 수 있는 함수이다."
   ]
  },
  {
   "cell_type": "markdown",
   "metadata": {},
   "source": [
    "## 오류 확인\n",
    "\n",
    "앞서 언급한 코드들을 실행하면 오류가 발생하고 어디서 어떤 오류가 발생하였는가에 대한 정보를 \n",
    "파이썬 해석기가 바로 알려 준다. "
   ]
  },
  {
   "cell_type": "markdown",
   "metadata": {},
   "source": [
    "### 예제"
   ]
  },
  {
   "cell_type": "code",
   "execution_count": 3,
   "metadata": {},
   "outputs": [
    {
     "ename": "SyntaxError",
     "evalue": "EOL while scanning string literal (<ipython-input-3-a6097ed4dc2e>, line 1)",
     "output_type": "error",
     "traceback": [
      "\u001b[0;36m  File \u001b[0;32m\"<ipython-input-3-a6097ed4dc2e>\"\u001b[0;36m, line \u001b[0;32m1\u001b[0m\n\u001b[0;31m    sentence = 'I am a sentence\u001b[0m\n\u001b[0m                               ^\u001b[0m\n\u001b[0;31mSyntaxError\u001b[0m\u001b[0;31m:\u001b[0m EOL while scanning string literal\n"
     ]
    }
   ],
   "source": [
    "sentence = 'I am a sentence"
   ]
  },
  {
   "cell_type": "markdown",
   "metadata": {},
   "source": [
    "오류를 확인하는 메시지가 처음 볼 때는 매우 생소하다. \n",
    "위 오류 메시지를 간단하게 살펴보면 다음과 같다.\n",
    "\n",
    "* `File \"<ipython-input-3-a6097ed4dc2e>\", line 1`\n",
    "\n",
    "    1번 줄에서 오류 발생\n",
    "\n",
    "\n",
    "* `sentence = 'I am a sentence` \n",
    "                             ^\n",
    "\n",
    "    오류 발생 위치 명시\n",
    "\n",
    "\n",
    "* `SyntaxError: EOL while scanning string literal`\n",
    "\n",
    "    오류 종류 표시: 문법 오류(SyntaxError)\n",
    "\n"
   ]
  },
  {
   "cell_type": "markdown",
   "metadata": {},
   "source": [
    "### 예제\n",
    "\n",
    "아래 예제는 0으로 나눌 때 발생하는 오류를 나타낸다.\n",
    "오류에 대한 정보를 잘 살펴보면서 어떤 내용을 담고 있는지 확인해 보아야 한다."
   ]
  },
  {
   "cell_type": "code",
   "execution_count": 4,
   "metadata": {},
   "outputs": [
    {
     "ename": "ZeroDivisionError",
     "evalue": "division by zero",
     "output_type": "error",
     "traceback": [
      "\u001b[0;31m---------------------------------------------------------------------------\u001b[0m",
      "\u001b[0;31mZeroDivisionError\u001b[0m                         Traceback (most recent call last)",
      "\u001b[0;32m<ipython-input-4-e9adcd46fbe1>\u001b[0m in \u001b[0;36m<module>\u001b[0;34m()\u001b[0m\n\u001b[1;32m      1\u001b[0m \u001b[0ma\u001b[0m \u001b[0;34m=\u001b[0m \u001b[0;36m0\u001b[0m\u001b[0;34m\u001b[0m\u001b[0m\n\u001b[0;32m----> 2\u001b[0;31m \u001b[0;36m4\u001b[0m\u001b[0;34m/\u001b[0m\u001b[0ma\u001b[0m\u001b[0;34m\u001b[0m\u001b[0m\n\u001b[0m",
      "\u001b[0;31mZeroDivisionError\u001b[0m: division by zero"
     ]
    }
   ],
   "source": [
    "a = 0\n",
    "4/a"
   ]
  },
  {
   "cell_type": "markdown",
   "metadata": {},
   "source": [
    "## 오류의 종류\n",
    "\n",
    "앞서 예제들을 통해 살펴 보았듯이 다양한 종류의 오류가 발생하며,\n",
    "코드가 길어지거나 복잡해지면 오류가 발생할 가능성은 점차 커진다.\n",
    "오류의 종류를 파악하면 어디서 왜 오류가 발생하였는지를 보다 쉽게 파악하여\n",
    "코드를 수정할 수 있게 된다.\n",
    "\n",
    "따라서 코드의 발생원인을 바로 알아낼 수 있어야 하며 이를 위해서는 오류 메시지를 \n",
    "제대로 확인할 수 있어야 한다. \n",
    "하지만 여기서는 언급된 예제 정도의 수준만 다루고 넘어간다.\n",
    "\n",
    "코딩을 하다 보면 어차피 다양한 오류와 마주치게 될 텐데 그때마다\n",
    "스스로 오류의 내용과 원인을 확인해 나가는 과정을 통해 \n",
    "보다 많은 경험을 쌓는 길 외에는 달리 방법이 없다."
   ]
  },
  {
   "cell_type": "markdown",
   "metadata": {},
   "source": [
    "## 예외 처리\n",
    "\n",
    "코드에 문법 오류가 포함되어 있는 경우 아예 실행되지 않는다. \n",
    "그렇지 않은 경우에는 일단 실행이 되고 중간에 오류가 발생하면 바로 멈춰버린다.\n",
    "\n",
    "이렇게 중간에 오류가 발생할 수 있는 경우를 미리 생각하여 대비하는 과정을 \n",
    "**예외 처리(exception handling)**라고 부른다. \n",
    "\n",
    "예를 들어, 오류가 발생하더라도 오류발생 이전까지 생성된 정보들을 저장하거나, 오류발생 이유를 좀 더 자세히 다루거나, 아니면 오류발생에 대한 보다 자세한 정보를 사용자에게 알려주기 위해 예외 처리를 사용한다. \n",
    "\n",
    "사용방식은 다음과 같다.\n",
    "\n",
    "```python\n",
    "try:\n",
    "    코드1\n",
    "except:\n",
    "    코드2\n",
    "```\n",
    "* 먼저 코드1 부분을 실행한다.\n",
    "* 코드1 부분이 실행되면서 오류가 발생하지 않으면  코드2 부분은 무시하고 다음으로 넘어간다.\n",
    "* 코드1 부분이 실행되면서 오류가 발생하면 더이상 진행하지 않고 바로 코드2 부분을 실행한다."
   ]
  },
  {
   "cell_type": "markdown",
   "metadata": {},
   "source": [
    "### 예제 \n",
    "\n",
    "아래 코드는 `input()` 함수를 이용하여 사용자로부터 숫자를 입력받아 그 숫자의 제곱을 리턴하고자 하는 내용을 담고 있으며, 코드에는 문법적 오류가 없다. \n",
    "\n",
    "그리고 코드를 실행하면 숫자를 입력하라는 창이 나온다. \n",
    "여기에 숫자 3을 입력하면 정상적으로 작동하지만 \n",
    "예를 들어, 3.2를 입력하면 값 오류(value error)가 발생한다. "
   ]
  },
  {
   "cell_type": "code",
   "execution_count": 5,
   "metadata": {},
   "outputs": [
    {
     "name": "stdout",
     "output_type": "stream",
     "text": [
      "정수를 입력하세요: 3\n",
      "제곱의 결과는 9 입니다.\n"
     ]
    }
   ],
   "source": [
    "number_to_square = input(\"정수를 입력하세요: \")\n",
    "\n",
    "# number_to_square 변수의 자료형이 문자열(str)임에 주의하라. \n",
    "# 따라서 연산을 하고 싶으면 정수형(int)으로 형변환을 먼저 해야 한다. \n",
    "\n",
    "number = int(number_to_square)\n",
    "\n",
    "print(\"제곱의 결과는\", number**2, \"입니다.\")"
   ]
  },
  {
   "cell_type": "code",
   "execution_count": 6,
   "metadata": {},
   "outputs": [
    {
     "name": "stdout",
     "output_type": "stream",
     "text": [
      "정수를 입력하세요: 3.2\n"
     ]
    },
    {
     "ename": "ValueError",
     "evalue": "invalid literal for int() with base 10: '3.2'",
     "output_type": "error",
     "traceback": [
      "\u001b[0;31m---------------------------------------------------------------------------\u001b[0m",
      "\u001b[0;31mValueError\u001b[0m                                Traceback (most recent call last)",
      "\u001b[0;32m<ipython-input-6-a17e482f369d>\u001b[0m in \u001b[0;36m<module>\u001b[0;34m()\u001b[0m\n\u001b[1;32m      4\u001b[0m \u001b[0;31m# 따라서 연산을 하고 싶으면 정수형(int)으로 형변환을 먼저 해야 한다.\u001b[0m\u001b[0;34m\u001b[0m\u001b[0;34m\u001b[0m\u001b[0m\n\u001b[1;32m      5\u001b[0m \u001b[0;34m\u001b[0m\u001b[0m\n\u001b[0;32m----> 6\u001b[0;31m \u001b[0mnumber\u001b[0m \u001b[0;34m=\u001b[0m \u001b[0mint\u001b[0m\u001b[0;34m(\u001b[0m\u001b[0mnumber_to_square\u001b[0m\u001b[0;34m)\u001b[0m\u001b[0;34m\u001b[0m\u001b[0m\n\u001b[0m\u001b[1;32m      7\u001b[0m \u001b[0;34m\u001b[0m\u001b[0m\n\u001b[1;32m      8\u001b[0m \u001b[0mprint\u001b[0m\u001b[0;34m(\u001b[0m\u001b[0;34m\"제곱의 결과는\"\u001b[0m\u001b[0;34m,\u001b[0m \u001b[0mnumber\u001b[0m\u001b[0;34m**\u001b[0m\u001b[0;36m2\u001b[0m\u001b[0;34m,\u001b[0m \u001b[0;34m\"입니다.\"\u001b[0m\u001b[0;34m)\u001b[0m\u001b[0;34m\u001b[0m\u001b[0m\n",
      "\u001b[0;31mValueError\u001b[0m: invalid literal for int() with base 10: '3.2'"
     ]
    }
   ],
   "source": [
    "number_to_square = input(\"정수를 입력하세요: \")\n",
    "\n",
    "# number_to_square 변수의 자료형이 문자열(str)임에 주의하라. \n",
    "# 따라서 연산을 하고 싶으면 정수형(int)으로 형변환을 먼저 해야 한다. \n",
    "\n",
    "number = int(number_to_square)\n",
    "\n",
    "print(\"제곱의 결과는\", number**2, \"입니다.\")"
   ]
  },
  {
   "cell_type": "markdown",
   "metadata": {},
   "source": [
    "3.2를 입력했을 때 오류가 발생하는 이유는 `int()` 함수가 정수 모양의 문자열만 \n",
    "처리할 수 있기 때문이다. \n",
    "\n",
    "사실 정수들의 제곱을 계산하는 프로그램을 작성하였지만 경우에 따라 \n",
    "정수 이외의 값을 입력하는 경우가 발생하게 되며, 이런 경우를 대비해야 한다.\n",
    "즉, 오류가 발생할 것을 미리 예상해야 하며, 어떻게 대처해야 할지 준비해야 하는데, \n",
    "`try ... except ...`문을 이용하여 예외를 처리하는 방식을 활용할 수 있다."
   ]
  },
  {
   "cell_type": "code",
   "execution_count": 7,
   "metadata": {},
   "outputs": [
    {
     "name": "stdout",
     "output_type": "stream",
     "text": [
      "정수를 입력하세요: 3.2\n",
      "정수를 입력해야 합니다.\n"
     ]
    }
   ],
   "source": [
    "number_to_square = input(\"정수를 입력하세요: \")\n",
    "\n",
    "try: \n",
    "    number = int(number_to_square)\n",
    "    print(\"제곱의 결과는\", number ** 2, \"입니다.\")\n",
    "except:\n",
    "    print(\"정수를 입력해야 합니다.\")\n"
   ]
  },
  {
   "cell_type": "markdown",
   "metadata": {},
   "source": [
    "올바른 값이 들어올 때까지 입력을 요구할 수 있다."
   ]
  },
  {
   "cell_type": "code",
   "execution_count": 9,
   "metadata": {},
   "outputs": [
    {
     "name": "stdout",
     "output_type": "stream",
     "text": [
      "정수를 입력하세요: 3.2\n",
      "정수를 입력해야 합니다.\n",
      "정수를 입력하세요: 3\n",
      "제곱의 결과는 9 입니다.\n"
     ]
    }
   ],
   "source": [
    "while True:\n",
    "    try:\n",
    "        number = int(input(\"정수를 입력하세요: \"))\n",
    "        print(\"제곱의 결과는\", number**2, \"입니다.\")\n",
    "        break\n",
    "    except:\n",
    "        print(\"정수를 입력해야 합니다.\")"
   ]
  },
  {
   "cell_type": "markdown",
   "metadata": {},
   "source": [
    "오류 종류에 맞추어 다양한 대처를 하기 위해서는 오류의 종류를 명시하여 예외처리를 하면 된다.\n",
    "아래 코드는 입력 갑에 따라 다른 오류가 발생하고 그에 상응하는 방식으로 예외처리를 실행한다."
   ]
  },
  {
   "cell_type": "markdown",
   "metadata": {},
   "source": [
    "#### 값 오류(ValueError)의 경우"
   ]
  },
  {
   "cell_type": "code",
   "execution_count": 10,
   "metadata": {},
   "outputs": [
    {
     "name": "stdout",
     "output_type": "stream",
     "text": [
      "정수를 입력하세요: 3.2\n",
      "정수를 입력해야 합니다.\n"
     ]
    }
   ],
   "source": [
    "number_to_square = input(\"정수를 입력하세요: \")\n",
    "\n",
    "try: \n",
    "    number = int(number_to_square)\n",
    "    a = 5/(number - 4)\n",
    "    print(\"결과는\", a, \"입니다.\")\n",
    "except ValueError:\n",
    "    print(\"정수를 입력해야 합니다.\")\n",
    "except ZeroDivisionError:\n",
    "    print(\"4는 빼고 하세요.\")"
   ]
  },
  {
   "cell_type": "markdown",
   "metadata": {},
   "source": [
    "#### 0으로 나누기 오류(ZeroDivisionError)의 경우"
   ]
  },
  {
   "cell_type": "code",
   "execution_count": 12,
   "metadata": {},
   "outputs": [
    {
     "name": "stdout",
     "output_type": "stream",
     "text": [
      "A number please: 4\n",
      "4는 빼고 하세요.\n"
     ]
    }
   ],
   "source": [
    "number_to_square = input(\"A number please: \")\n",
    "\n",
    "try: \n",
    "    number = int(number_to_square)\n",
    "    a = 5/(number - 4)\n",
    "    print(\"결과는\", a, \"입니다.\")\n",
    "except ValueError:\n",
    "    print(\"정수를 입력해야 합니다.\")\n",
    "except ZeroDivisionError:\n",
    "    print(\"4는 빼고 하세요.\")"
   ]
  },
  {
   "cell_type": "markdown",
   "metadata": {},
   "source": [
    "**주의:** 이와 같이 발생할 수 예외를 가능한 한 모두 염두하는 프로그램을 구현해야 하는 일은\n",
    "매우 어려운 일이다."
   ]
  },
  {
   "cell_type": "markdown",
   "metadata": {},
   "source": [
    "앞서 보았듯이 오류의 종류를 정확히 알 필요가 발생한다. \n",
    "\n",
    "다음 예제에서 보듯이 오류의 종류를 틀리게 명시하면 예외 처리가 제대로 작동하지 않는다."
   ]
  },
  {
   "cell_type": "code",
   "execution_count": 13,
   "metadata": {},
   "outputs": [
    {
     "ename": "ZeroDivisionError",
     "evalue": "division by zero",
     "output_type": "error",
     "traceback": [
      "\u001b[0;31m---------------------------------------------------------------------------\u001b[0m",
      "\u001b[0;31mZeroDivisionError\u001b[0m                         Traceback (most recent call last)",
      "\u001b[0;32m<ipython-input-13-8b3fef748b14>\u001b[0m in \u001b[0;36m<module>\u001b[0;34m()\u001b[0m\n\u001b[1;32m      1\u001b[0m \u001b[0;32mtry\u001b[0m\u001b[0;34m:\u001b[0m\u001b[0;34m\u001b[0m\u001b[0m\n\u001b[0;32m----> 2\u001b[0;31m     \u001b[0ma\u001b[0m \u001b[0;34m=\u001b[0m \u001b[0;36m1\u001b[0m\u001b[0;34m/\u001b[0m\u001b[0;36m0\u001b[0m\u001b[0;34m\u001b[0m\u001b[0m\n\u001b[0m\u001b[1;32m      3\u001b[0m \u001b[0;32mexcept\u001b[0m \u001b[0mValueError\u001b[0m\u001b[0;34m:\u001b[0m\u001b[0;34m\u001b[0m\u001b[0m\n\u001b[1;32m      4\u001b[0m     \u001b[0mprint\u001b[0m\u001b[0;34m(\u001b[0m\u001b[0;34m\"This program stops here.\"\u001b[0m\u001b[0;34m)\u001b[0m\u001b[0;34m\u001b[0m\u001b[0m\n",
      "\u001b[0;31mZeroDivisionError\u001b[0m: division by zero"
     ]
    }
   ],
   "source": [
    "try:\n",
    "    a = 1/0\n",
    "except ValueError:\n",
    "    print(\"This program stops here.\")"
   ]
  },
  {
   "cell_type": "markdown",
   "metadata": {},
   "source": [
    "### `raise` 함수\n",
    "\n",
    "강제로 오류를 발생시키고자 하는 경우에 사용한다."
   ]
  },
  {
   "cell_type": "markdown",
   "metadata": {},
   "source": [
    "### 예제\n",
    "\n",
    "어떤 함수를 정확히 정의하지 않은 상태에서 다른 중요한 일을 먼저 처리하고자 할 때 \n",
    "아래와 같이 함수를 선언하고 넘어갈 수 있다.\n",
    "\n",
    "그런데 아래 함수를 제대로 선언하지 않은 채로 다른 곳에서 호출하면 \n",
    "\n",
    "    \"아직 정의되어 있지 않음\"\n",
    "    \n",
    "이란 메시지로 정보를 알려주게 된다. "
   ]
  },
  {
   "cell_type": "code",
   "execution_count": 14,
   "metadata": {},
   "outputs": [],
   "source": [
    "def to_define():\n",
    "    \"\"\"아주 복잡하지만 지금 당장 불필요\"\"\"\n",
    "    raise NotImplementedError(\"아직 정의되어 있지 않음\")"
   ]
  },
  {
   "cell_type": "code",
   "execution_count": 15,
   "metadata": {},
   "outputs": [
    {
     "ename": "NotImplementedError",
     "evalue": "아직 정의되어 있지 않음",
     "output_type": "error",
     "traceback": [
      "\u001b[0;31m---------------------------------------------------------------------------\u001b[0m",
      "\u001b[0;31mNotImplementedError\u001b[0m                       Traceback (most recent call last)",
      "\u001b[0;32m<ipython-input-15-45a5fc6cdf3f>\u001b[0m in \u001b[0;36m<module>\u001b[0;34m()\u001b[0m\n\u001b[0;32m----> 1\u001b[0;31m \u001b[0mprint\u001b[0m\u001b[0;34m(\u001b[0m\u001b[0mto_define\u001b[0m\u001b[0;34m(\u001b[0m\u001b[0;34m)\u001b[0m\u001b[0;34m)\u001b[0m\u001b[0;34m\u001b[0m\u001b[0m\n\u001b[0m",
      "\u001b[0;32m<ipython-input-14-40549825b2de>\u001b[0m in \u001b[0;36mto_define\u001b[0;34m()\u001b[0m\n\u001b[1;32m      1\u001b[0m \u001b[0;32mdef\u001b[0m \u001b[0mto_define\u001b[0m\u001b[0;34m(\u001b[0m\u001b[0;34m)\u001b[0m\u001b[0;34m:\u001b[0m\u001b[0;34m\u001b[0m\u001b[0m\n\u001b[1;32m      2\u001b[0m     \u001b[0;34m\"\"\"아주 복잡하지만 지금 당장 불필요\"\"\"\u001b[0m\u001b[0;34m\u001b[0m\u001b[0m\n\u001b[0;32m----> 3\u001b[0;31m     \u001b[0;32mraise\u001b[0m \u001b[0mNotImplementedError\u001b[0m\u001b[0;34m(\u001b[0m\u001b[0;34m\"아직 정의되어 있지 않음\"\u001b[0m\u001b[0;34m)\u001b[0m\u001b[0;34m\u001b[0m\u001b[0m\n\u001b[0m",
      "\u001b[0;31mNotImplementedError\u001b[0m: 아직 정의되어 있지 않음"
     ]
    }
   ],
   "source": [
    "print(to_define())"
   ]
  },
  {
   "cell_type": "markdown",
   "metadata": {},
   "source": [
    "**주의:** 오류 처리를 사용하지 않으면 오류 메시지가 보이지 않을 수도 있음에 주의해야 한다."
   ]
  },
  {
   "cell_type": "code",
   "execution_count": 16,
   "metadata": {},
   "outputs": [],
   "source": [
    "def to_define1():\n",
    "    \"\"\"아주 복잡하지만 지금 당장 불필요\"\"\""
   ]
  },
  {
   "cell_type": "code",
   "execution_count": 17,
   "metadata": {},
   "outputs": [
    {
     "name": "stdout",
     "output_type": "stream",
     "text": [
      "None\n"
     ]
    }
   ],
   "source": [
    "print(to_define1())"
   ]
  },
  {
   "cell_type": "markdown",
   "metadata": {},
   "source": [
    "## 코드의 안전성 문제\n",
    "\n",
    "문법 오류 또는 실행 중에 오류가 발생하지 않는다 하더라도 **코드의 안전성**이 보장되지는 않는다. \n",
    "코드의 안정성이라 함은 코드를 실행할 때 기대하는 결과가 산출된다는 것을 보장한다는 의미이다. "
   ]
  },
  {
   "cell_type": "markdown",
   "metadata": {},
   "source": [
    "### 예제\n",
    "\n",
    "아래 코드는 숫자의 제곱을 리턴하는 `square()` 함수를 제대로 구현하지 못한 경우를 다룬다."
   ]
  },
  {
   "cell_type": "code",
   "execution_count": 18,
   "metadata": {},
   "outputs": [],
   "source": [
    "def square(number):\n",
    "    \"\"\"\n",
    "    정수를 인자로 입력 받아 제곱을 리턴한다.\n",
    "    \"\"\"\n",
    "    \n",
    "    square_of_number = number * 2\n",
    "    \n",
    "    return square_of_number\n"
   ]
  },
  {
   "cell_type": "markdown",
   "metadata": {},
   "source": [
    "위 함수를 아래와 같이 호출하면 오류가 전혀 발생하지 않지만,\n",
    "엉뚱한 값을 리턴한다."
   ]
  },
  {
   "cell_type": "code",
   "execution_count": 19,
   "metadata": {},
   "outputs": [
    {
     "data": {
      "text/plain": [
       "6"
      ]
     },
     "execution_count": 19,
     "metadata": {},
     "output_type": "execute_result"
    }
   ],
   "source": [
    "square(3)"
   ]
  },
  {
   "cell_type": "markdown",
   "metadata": {},
   "source": [
    "**주의:** `help()` 를 이용하여 어떤 함수가 무슨 일을 하는지 내용을 확인할 수 있다.\n",
    "단, 함수를 정의할 때 함께 적힌 문서화 문자열(docstring) 내용이 확인된다.\n",
    "따라서, 함수를 정의할 때 문서화 문자열에 가능한 유효한 정보를 입력해 두어야 한다."
   ]
  },
  {
   "cell_type": "code",
   "execution_count": 20,
   "metadata": {},
   "outputs": [
    {
     "name": "stdout",
     "output_type": "stream",
     "text": [
      "Help on function square in module __main__:\n",
      "\n",
      "square(number)\n",
      "    정수를 인자로 입력 받아 제곱을 리턴한다.\n",
      "\n"
     ]
    }
   ],
   "source": [
    "help(square)"
   ]
  },
  {
   "cell_type": "markdown",
   "metadata": {},
   "source": [
    "### 오류에 대한 보다 자세한 정보\n",
    "\n",
    "파이썬에서 다루는 오류에 대한 보다 자세한 정보는 아래 사이트들에 상세하게 안내되어 있다.\n",
    "\n",
    "* 파이썬 기본 내장 오류 정보 문서:\n",
    "    https://docs.python.org/3.4/library/exceptions.html\n",
    "\n",
    "* 파이썬 예외처리 정보 문서: \n",
    "    https://docs.python.org/3.4/tutorial/errors.html"
   ]
  },
  {
   "cell_type": "markdown",
   "metadata": {},
   "source": [
    "## 연습문제"
   ]
  },
  {
   "cell_type": "markdown",
   "metadata": {},
   "source": [
    "### 연습\n",
    "\n",
    "아래 코드는 100을 입력한 값으로 나누는 함수이다.\n",
    "다만 0을 입력할 경우 0으로 나누기 오류(`ZeroDivisionError`)가 발생한다."
   ]
  },
  {
   "cell_type": "code",
   "execution_count": 22,
   "metadata": {},
   "outputs": [
    {
     "name": "stdout",
     "output_type": "stream",
     "text": [
      "100을 나눌 숫자를 입력하세요: 0\n"
     ]
    },
    {
     "ename": "ZeroDivisionError",
     "evalue": "division by zero",
     "output_type": "error",
     "traceback": [
      "\u001b[0;31m---------------------------------------------------------------------------\u001b[0m",
      "\u001b[0;31mZeroDivisionError\u001b[0m                         Traceback (most recent call last)",
      "\u001b[0;32m<ipython-input-22-2769f9a68b46>\u001b[0m in \u001b[0;36m<module>\u001b[0;34m()\u001b[0m\n\u001b[1;32m      2\u001b[0m \u001b[0;34m\u001b[0m\u001b[0m\n\u001b[1;32m      3\u001b[0m \u001b[0mnumber\u001b[0m \u001b[0;34m=\u001b[0m \u001b[0mint\u001b[0m\u001b[0;34m(\u001b[0m\u001b[0mnumber_to_square\u001b[0m\u001b[0;34m)\u001b[0m\u001b[0;34m\u001b[0m\u001b[0m\n\u001b[0;32m----> 4\u001b[0;31m \u001b[0mprint\u001b[0m\u001b[0;34m(\u001b[0m\u001b[0;34m\"100을 입력한 값으로 나눈 결과는\"\u001b[0m\u001b[0;34m,\u001b[0m \u001b[0;36m100\u001b[0m\u001b[0;34m/\u001b[0m\u001b[0mnumber\u001b[0m\u001b[0;34m,\u001b[0m \u001b[0;34m\"입니다.\"\u001b[0m\u001b[0;34m)\u001b[0m\u001b[0;34m\u001b[0m\u001b[0m\n\u001b[0m",
      "\u001b[0;31mZeroDivisionError\u001b[0m: division by zero"
     ]
    }
   ],
   "source": [
    "number_to_square = input(\"100을 나눌 숫자를 입력하세요: \")\n",
    "\n",
    "number = int(number_to_square)\n",
    "print(\"100을 입력한 값으로 나눈 결과는\", 100/number, \"입니다.\")"
   ]
  },
  {
   "cell_type": "markdown",
   "metadata": {},
   "source": [
    "아래 내용이 충족되도록 위 코드를 수정하라.\n",
    "\n",
    "* 나눗셈이 부동소수점으로 계산되도록 한다. \n",
    "* 0이 아닌 숫자가 입력될 경우 100을 그 숫자로 나눈다.\n",
    "* 0이 입력될 경우 0이 아닌 숫자를 입력하라고 전달한다. \n",
    "* 숫자가 아닌 값이 입력될 경우 숫자를 입력하라고 전달한다."
   ]
  },
  {
   "cell_type": "markdown",
   "metadata": {},
   "source": [
    "견본답안:"
   ]
  },
  {
   "cell_type": "code",
   "execution_count": 23,
   "metadata": {},
   "outputs": [
    {
     "name": "stdout",
     "output_type": "stream",
     "text": [
      "A number to divide 100: 0\n"
     ]
    },
    {
     "ename": "ZeroDivisionError",
     "evalue": "0이 아닌 숫자를 입력하세요.",
     "output_type": "error",
     "traceback": [
      "\u001b[0;31m---------------------------------------------------------------------------\u001b[0m",
      "\u001b[0;31mZeroDivisionError\u001b[0m                         Traceback (most recent call last)",
      "\u001b[0;32m<ipython-input-23-345acef7d417>\u001b[0m in \u001b[0;36m<module>\u001b[0;34m()\u001b[0m\n\u001b[1;32m      4\u001b[0m     \u001b[0mnumber\u001b[0m \u001b[0;34m=\u001b[0m \u001b[0mfloat\u001b[0m\u001b[0;34m(\u001b[0m\u001b[0mnumber_to_square\u001b[0m\u001b[0;34m)\u001b[0m\u001b[0;34m\u001b[0m\u001b[0m\n\u001b[0;32m----> 5\u001b[0;31m     \u001b[0mprint\u001b[0m\u001b[0;34m(\u001b[0m\u001b[0;34m\"100을 입력한 값으로 나눈 결과는\"\u001b[0m\u001b[0;34m,\u001b[0m \u001b[0;36m100\u001b[0m\u001b[0;34m/\u001b[0m\u001b[0mnumber\u001b[0m\u001b[0;34m,\u001b[0m \u001b[0;34m\"입니다.\"\u001b[0m\u001b[0;34m)\u001b[0m\u001b[0;34m\u001b[0m\u001b[0m\n\u001b[0m\u001b[1;32m      6\u001b[0m \u001b[0;32mexcept\u001b[0m \u001b[0mZeroDivisionError\u001b[0m\u001b[0;34m:\u001b[0m\u001b[0;34m\u001b[0m\u001b[0m\n",
      "\u001b[0;31mZeroDivisionError\u001b[0m: float division by zero",
      "\nDuring handling of the above exception, another exception occurred:\n",
      "\u001b[0;31mZeroDivisionError\u001b[0m                         Traceback (most recent call last)",
      "\u001b[0;32m<ipython-input-23-345acef7d417>\u001b[0m in \u001b[0;36m<module>\u001b[0;34m()\u001b[0m\n\u001b[1;32m      5\u001b[0m     \u001b[0mprint\u001b[0m\u001b[0;34m(\u001b[0m\u001b[0;34m\"100을 입력한 값으로 나눈 결과는\"\u001b[0m\u001b[0;34m,\u001b[0m \u001b[0;36m100\u001b[0m\u001b[0;34m/\u001b[0m\u001b[0mnumber\u001b[0m\u001b[0;34m,\u001b[0m \u001b[0;34m\"입니다.\"\u001b[0m\u001b[0;34m)\u001b[0m\u001b[0;34m\u001b[0m\u001b[0m\n\u001b[1;32m      6\u001b[0m \u001b[0;32mexcept\u001b[0m \u001b[0mZeroDivisionError\u001b[0m\u001b[0;34m:\u001b[0m\u001b[0;34m\u001b[0m\u001b[0m\n\u001b[0;32m----> 7\u001b[0;31m     \u001b[0;32mraise\u001b[0m \u001b[0mZeroDivisionError\u001b[0m\u001b[0;34m(\u001b[0m\u001b[0;34m'0이 아닌 숫자를 입력하세요.'\u001b[0m\u001b[0;34m)\u001b[0m\u001b[0;34m\u001b[0m\u001b[0m\n\u001b[0m\u001b[1;32m      8\u001b[0m \u001b[0;32mexcept\u001b[0m \u001b[0mValueError\u001b[0m\u001b[0;34m:\u001b[0m\u001b[0;34m\u001b[0m\u001b[0m\n\u001b[1;32m      9\u001b[0m     \u001b[0;32mraise\u001b[0m \u001b[0mValueError\u001b[0m\u001b[0;34m(\u001b[0m\u001b[0;34m'숫자를 입력하세요.'\u001b[0m\u001b[0;34m)\u001b[0m\u001b[0;34m\u001b[0m\u001b[0m\n",
      "\u001b[0;31mZeroDivisionError\u001b[0m: 0이 아닌 숫자를 입력하세요."
     ]
    }
   ],
   "source": [
    "number_to_square = input(\"A number to divide 100: \")\n",
    "\n",
    "try: \n",
    "    number = float(number_to_square)\n",
    "    print(\"100을 입력한 값으로 나눈 결과는\", 100/number, \"입니다.\")\n",
    "except ZeroDivisionError:\n",
    "    raise ZeroDivisionError('0이 아닌 숫자를 입력하세요.')\n",
    "except ValueError:\n",
    "    raise ValueError('숫자를 입력하세요.')    "
   ]
  },
  {
   "cell_type": "code",
   "execution_count": 24,
   "metadata": {},
   "outputs": [
    {
     "name": "stdout",
     "output_type": "stream",
     "text": [
      "A number to divide 100: 3\n",
      "100을 입력한 값으로 나눈 결과는 33.333333333333336 입니다.\n"
     ]
    }
   ],
   "source": [
    "number_to_square = input(\"A number to divide 100: \")\n",
    "\n",
    "try: \n",
    "    number = float(number_to_square)\n",
    "    print(\"100을 입력한 값으로 나눈 결과는\", 100/number, \"입니다.\")\n",
    "except ZeroDivisionError:\n",
    "    raise ZeroDivisionError('0이 아닌 숫자를 입력하세요.')\n",
    "except ValueError:\n",
    "    raise ValueError('숫자를 입력하세요.')    "
   ]
  },
  {
   "cell_type": "markdown",
   "metadata": {},
   "source": [
    "### 연습\n",
    "\n",
    "두 개의 정수 `a`와 `b`를 입력 받아 `a/b`를 계산하여 출력하는 코드를 작성하라."
   ]
  },
  {
   "cell_type": "markdown",
   "metadata": {},
   "source": [
    "견본답안 1:"
   ]
  },
  {
   "cell_type": "code",
   "execution_count": 25,
   "metadata": {},
   "outputs": [
    {
     "name": "stdout",
     "output_type": "stream",
     "text": [
      "정수 두 개를 입력하세요. 쉼표를 사용해야 합니다.\n",
      "3, 0\n",
      "둘째 수는 0이 아니어야 합니다.\n",
      "\n",
      "정수 두 개를 입력하세요. 쉼표를 사용해야 합니다.\n",
      "3 4\n",
      "정수 두 개를 쉼표로 구분해서 입력해야 합니다.\n",
      "\n",
      "정수 두 개를 입력하세요. 쉼표를 사용해야 합니다.\n",
      "3, 4\n",
      "계산의 결과는 0.75 입니다.\n"
     ]
    }
   ],
   "source": [
    "while True:\n",
    "    try:\n",
    "        a, b = input(\"정수 두 개를 입력하세요. 쉼표를 사용해야 합니다.\\n\").split(',')\n",
    "        a, b = int(a), int(b)\n",
    "        print(\"계산의 결과는\", a/b, \"입니다.\")\n",
    "        break\n",
    "    except ValueError:\n",
    "        print(\"정수 두 개를 쉼표로 구분해서 입력해야 합니다.\\n\")\n",
    "    except ZeroDivisionError:\n",
    "        print(\"둘째 수는 0이 아니어야 합니다.\\n\")"
   ]
  },
  {
   "cell_type": "markdown",
   "metadata": {},
   "source": [
    "견본답안 2: `map` 함수를 활용하여 `a`, `b` 각각에 `int` 함수를 자동으로 적용할 수 있다.\n",
    "`map` 함수에 대한 설명은 [여기](https://wikidocs.net/32)를 참조하면 된다."
   ]
  },
  {
   "cell_type": "code",
   "execution_count": 26,
   "metadata": {},
   "outputs": [
    {
     "name": "stdout",
     "output_type": "stream",
     "text": [
      "정수 두 개를 입력하세요. 쉼표를 사용해야 합니다.\n",
      "3, 0\n",
      "둘째 수는 0이 아니어야 합니다.\n",
      "\n",
      "정수 두 개를 입력하세요. 쉼표를 사용해야 합니다.\n",
      "3 4\n",
      "정수 두 개를 쉼표로 구분해서 입력해야 합니다.\n",
      "\n",
      "정수 두 개를 입력하세요. 쉼표를 사용해야 합니다.\n",
      "3, 4\n",
      "계산의 결과는 0.75 입니다.\n"
     ]
    }
   ],
   "source": [
    "while True:\n",
    "    try:\n",
    "        a, b = map(int, input(\"정수 두 개를 입력하세요. 쉼표를 사용해야 합니다.\\n\").split(','))\n",
    "        print(\"계산의 결과는\", a/b, \"입니다.\")\n",
    "        break\n",
    "    except ValueError:\n",
    "        print(\"정수 두 개를 쉼표로 구분해서 입력해야 합니다.\\n\")\n",
    "    except ZeroDivisionError:\n",
    "        print(\"둘째 수는 0이 아니어야 합니다.\\n\")"
   ]
  },
  {
   "cell_type": "markdown",
   "metadata": {},
   "source": [
    "### 연습"
   ]
  },
  {
   "cell_type": "markdown",
   "metadata": {},
   "source": [
    "키와 몸무게를 인자로 받아 체질량지수(BMI)를 구하는 코드를 작성하라.\n",
    "아래 사항들을 참고한다. \n",
    "\n",
    "$$BMI = \\frac{weight}{height^2}$$\n",
    "\n",
    "* 단위:\n",
    "    * 몸무게(weight): `kg`\n",
    "    * 키(height): `m`\n",
    "* `BMI` 수치에 따른 체중 분류\n",
    "    * `BMI <= 18.5`이면 저체중\n",
    "    * `18.5 < BMI <= 23`이면 정상\n",
    "    * `23 < BMI <= 25`이면 과체중\n",
    "    * `25 < BMI <= 30`이면 비만\n",
    "    * `BMI > 30`이면 고도비만"
   ]
  },
  {
   "cell_type": "markdown",
   "metadata": {},
   "source": [
    "견본답안:"
   ]
  },
  {
   "cell_type": "code",
   "execution_count": 27,
   "metadata": {},
   "outputs": [
    {
     "name": "stdout",
     "output_type": "stream",
     "text": [
      "키와 몸무게를 입력하세요: \n",
      "1.8, 70\n",
      "BMI는 21.604938271604937 입니다. 정상 체중입니다.\n"
     ]
    }
   ],
   "source": [
    "while True:\n",
    "    try:\n",
    "        print(\"키와 몸무게를 입력하세요: \")\n",
    "        a, b = map(float, input().split(\", \"))\n",
    "        BMI = b/(a**2)\n",
    "        if BMI <= 18.5:\n",
    "            print(\"BMI는\", BMI, \"입니다. 저체중입니다.\")\n",
    "        elif 18.5 < BMI <= 23:\n",
    "            print(\"BMI는\", BMI, \"입니다. 정상 체중입니다.\")\n",
    "        elif 23 < BMI <= 25:\n",
    "            print(\"BMI는\", BMI, \"입니다. 비만입니다.\")\n",
    "        elif 25 < BMI <= 30:\n",
    "            print(\"BMI는\", BMI, \"입니다. 과체중입니다.\")\n",
    "        else:\n",
    "            print(\"BMI는\", BMI, \"입니다. 고도비만입니다.\")\n",
    "        break\n",
    "    except ValueError:\n",
    "        print(\"숫자를 입력하세요.\")\n",
    "    except ZeroDivisionError:\n",
    "        print(\"0이 아닌 숫자를 입력하세요.\")"
   ]
  }
 ],
 "metadata": {
  "anaconda-cloud": {},
  "kernelspec": {
   "display_name": "Python 3",
   "language": "python",
   "name": "python3"
  },
  "language_info": {
   "codemirror_mode": {
    "name": "ipython",
    "version": 3
   },
   "file_extension": ".py",
   "mimetype": "text/x-python",
   "name": "python",
   "nbconvert_exporter": "python",
   "pygments_lexer": "ipython3",
   "version": "3.6.3"
  }
 },
 "nbformat": 4,
 "nbformat_minor": 1
}
