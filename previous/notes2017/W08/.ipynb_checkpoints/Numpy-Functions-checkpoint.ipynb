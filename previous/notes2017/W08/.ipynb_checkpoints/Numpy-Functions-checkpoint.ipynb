{
 "cells": [
  {
   "cell_type": "markdown",
   "metadata": {},
   "source": [
    "## 주요 내용\n",
    "\n",
    "넘파이 어레이와 관련된 다양한 함수들의 활용 예제들을 살핀다."
   ]
  },
  {
   "cell_type": "markdown",
   "metadata": {},
   "source": [
    "### 연습문제\n",
    "\n",
    "아래 모양의 어레이를 생성하라. 단, 3줄 이내로 코딩해야 한다.\n",
    "\n",
    "    [[1, 1, 1, 1],\n",
    "     [1, 1, 1, 1],\n",
    "     [1, 1, 1, 2],\n",
    "     [1, 6, 1, 1]]\n",
    "     \n",
    "_힌트_: `np.ones` 함수와 인덱싱 활용.     "
   ]
  },
  {
   "cell_type": "markdown",
   "metadata": {},
   "source": [
    "### `np.diag()` 함수 활용\n",
    "\n",
    "`np.diag()` 함수는 최대 2개의 인자를 받는다.\n",
    "\n",
    "    np.diag(v, k=0)\n",
    "\n",
    "* `v`: 1차원 또는 2차원 어레이 (리스트, 튜플 가능)\n",
    "    * `v`가 2차원 어레일 때: 해당 어레이의 `k` 번째 대각선을 1차원 어레이로 리턴한다.\n",
    "    * `v`가 1차원 어레일 때: 해당 어레이를 `k` 번째 대각선으로 갖는 2차원 어레이를 리턴한다.\n",
    "\n",
    "* `k` : 정수 (옵션 키워드 인자)\n",
    "    * `k` 번째 대각선을 의미함.\n",
    "    * `k > 0` 인 경우: 중앙 대각선에서 윗쪽으로 `k`번째 위치한 대각선\n",
    "    * `k < 0` 인 경우: 중앙 대각선에서 아랫쪽으로 `k`번째 위치한 대각선"
   ]
  },
  {
   "cell_type": "markdown",
   "metadata": {},
   "source": [
    "#### 예제"
   ]
  },
  {
   "cell_type": "code",
   "execution_count": 108,
   "metadata": {},
   "outputs": [
    {
     "data": {
      "text/plain": [
       "array([[0, 1, 2],\n",
       "       [3, 4, 5],\n",
       "       [6, 7, 8]])"
      ]
     },
     "execution_count": 108,
     "metadata": {},
     "output_type": "execute_result"
    }
   ],
   "source": [
    "x = np.arange(9).reshape((3,3))\n",
    "x"
   ]
  },
  {
   "cell_type": "code",
   "execution_count": 109,
   "metadata": {},
   "outputs": [
    {
     "data": {
      "text/plain": [
       "array([0, 4, 8])"
      ]
     },
     "execution_count": 109,
     "metadata": {},
     "output_type": "execute_result"
    }
   ],
   "source": [
    "np.diag(x)"
   ]
  },
  {
   "cell_type": "code",
   "execution_count": 110,
   "metadata": {},
   "outputs": [
    {
     "data": {
      "text/plain": [
       "array([1, 5])"
      ]
     },
     "execution_count": 110,
     "metadata": {},
     "output_type": "execute_result"
    }
   ],
   "source": [
    "np.diag(x, k=1)"
   ]
  },
  {
   "cell_type": "code",
   "execution_count": 111,
   "metadata": {},
   "outputs": [
    {
     "data": {
      "text/plain": [
       "array([3, 7])"
      ]
     },
     "execution_count": 111,
     "metadata": {},
     "output_type": "execute_result"
    }
   ],
   "source": [
    "np.diag(x, k=-1)"
   ]
  },
  {
   "cell_type": "code",
   "execution_count": 112,
   "metadata": {},
   "outputs": [
    {
     "data": {
      "text/plain": [
       "array([[0, 0, 0],\n",
       "       [0, 4, 0],\n",
       "       [0, 0, 8]])"
      ]
     },
     "execution_count": 112,
     "metadata": {},
     "output_type": "execute_result"
    }
   ],
   "source": [
    "np.diag(np.diag(x))"
   ]
  },
  {
   "cell_type": "code",
   "execution_count": 114,
   "metadata": {},
   "outputs": [
    {
     "data": {
      "text/plain": [
       "array([[0, 3, 0],\n",
       "       [0, 0, 7],\n",
       "       [0, 0, 0]])"
      ]
     },
     "execution_count": 114,
     "metadata": {},
     "output_type": "execute_result"
    }
   ],
   "source": [
    "np.diag(np.diag(x, k=-1), k=1)"
   ]
  },
  {
   "cell_type": "markdown",
   "metadata": {},
   "source": [
    "### 연습문제\n",
    "\n",
    "아래 모양의 어레이를 생성하라. 단, 3줄 이내로 코딩해야 한다.\n",
    "\n",
    "    [[0., 0., 0., 0., 0.],\n",
    "     [2., 0., 0., 0., 0.],\n",
    "     [0., 3., 0., 0., 0.],\n",
    "     [0., 0., 4., 0., 0.],\n",
    "     [0., 0., 0., 5., 0.],\n",
    "     [0., 0., 0., 0., 6.]]"
   ]
  },
  {
   "cell_type": "code",
   "execution_count": 115,
   "metadata": {},
   "outputs": [
    {
     "data": {
      "text/plain": [
       "array([[0, 0, 0, 0, 0, 0],\n",
       "       [2, 0, 0, 0, 0, 0],\n",
       "       [0, 3, 0, 0, 0, 0],\n",
       "       [0, 0, 4, 0, 0, 0],\n",
       "       [0, 0, 0, 5, 0, 0],\n",
       "       [0, 0, 0, 0, 6, 0]])"
      ]
     },
     "execution_count": 115,
     "metadata": {},
     "output_type": "execute_result"
    }
   ],
   "source": [
    "np.diag(np.arange(2, 7), k=-1)"
   ]
  },
  {
   "cell_type": "markdown",
   "metadata": {},
   "source": [
    "### 연습문제\n",
    "\n",
    "아래 모양의 어레이를 생성하라. 단, 3줄 이내로 코딩해야 한다.\n",
    "\n",
    "    [[4, 3, 4, 3, 4, 3],\n",
    "     [2, 1, 2, 1, 2, 1],\n",
    "     [4, 3, 4, 3, 4, 3],\n",
    "     [2, 1, 2, 1, 2, 1]]\n",
    " \n",
    "_힌트_: `np.tile` 함수 활용법을 숙지해야 한다. `dir`나 `?`를 이용하여 \n",
    "`tile` 함수의 주석(docstring)을 확인해보자. \n",
    "또한 `np.arange` 함수, `reshape` 어레이 메소드 등을 활용할 수 있다."
   ]
  }
 ],
 "metadata": {
  "kernelspec": {
   "display_name": "Python 2",
   "language": "python",
   "name": "python2"
  },
  "language_info": {
   "codemirror_mode": {
    "name": "ipython",
    "version": 2
   },
   "file_extension": ".py",
   "mimetype": "text/x-python",
   "name": "python",
   "nbconvert_exporter": "python",
   "pygments_lexer": "ipython2",
   "version": "2.7.13"
  }
 },
 "nbformat": 4,
 "nbformat_minor": 2
}
