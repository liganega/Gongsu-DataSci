{
 "cells": [
  {
   "cell_type": "markdown",
   "metadata": {},
   "source": [
    "# 리스트 활용"
   ]
  },
  {
   "cell_type": "markdown",
   "metadata": {},
   "source": [
    "## 주요 내용"
   ]
  },
  {
   "cell_type": "markdown",
   "metadata": {},
   "source": [
    "파이썬에 내장되어 있는 컬렉션 자료형 중의 하나인 리스트(list)에 대해 알아본다.\n",
    "\n",
    "**리스트(lists)**: 파이썬에서 사용할 수 있는 **임의의** 값들을 모아서 \n",
    "하나의 값으로 취급하는 자료형\n",
    "\n",
    "* 사용 형태: 대괄호 사용\n",
    "```\n",
    "even_numbers_list = [2, 4, 6, 8, 10]\n",
    "todays_datatypes_list = ['list', 'tuple', 'dictionary']\n",
    "```\n",
    "\n",
    "* 특징: 임의의 자료형 값들을 섞어서 항목으로 사용 가능\n",
    "```\n",
    "mixed_list = [1, 'abs', [2.1, 4.5]]\n",
    "```\n",
    "\n",
    "* 인덱스 또는 슬라이싱을 이용하여 각각의 항목에 또는 여러 개의 항목에 대한 \n",
    "    정보를 활용할 수 있다. 사용법은 문자열의 경우와 동일.\n",
    "\n",
    "* 리스트는 수정 가능하다. 즉, 가변 자료형이다. \n",
    "\n",
    "* 리스트와 관련되어 많이 사용되는 메소드는 다음과 같다.\n",
    "    * `append()`: 기존의 리스트 끝에 항목 추가\n",
    "    * `extend()`: 두 개의 리스트 이어붙이기\n",
    "    * `insert()`: 기존의 리스트 중간에 항목 삽입\n",
    "    * `pop()`, `remove()`, `del`: 항목 삭제\n",
    "    * `count()`: 리스트에 포함된 특정 항목이 몇 번 나타나는지 세어 줌.\n",
    "    * `index()`: 특정 항목의 인덱스가 몇 번인지 확인해 줌."
   ]
  },
  {
   "cell_type": "markdown",
   "metadata": {},
   "source": [
    "## 오늘의 주요 예제\n",
    "\n",
    "`Sample_Data/Swim_Records` 디렉토리에 위치한\n",
    "`record_list.txt` 파일은 여덟 명의 수영 선수의 50m 기록을 담고 있다.\n",
    "\n",
    "```txt\n",
    "player1 21.09 \n",
    "player2 20.32 \n",
    "player3 21.81 \n",
    "player4 22.97 \n",
    "player5 23.29 \n",
    "player6 22.09 \n",
    "player7 21.20 \n",
    "player8 22.16\n",
    "```\n",
    "\n",
    "목표: 위 파일로부터 1~3등 선수의 기록을 아래와 같이 확인하기\n",
    "```txt\n",
    "1등 20.32 \n",
    "2등 21.09 \n",
    "3등 21.20 \n",
    "```\n",
    "\n",
    "**참조:** Head First Programming(한빛미디어) 4장"
   ]
  },
  {
   "cell_type": "markdown",
   "metadata": {},
   "source": [
    "## 리스트 활용"
   ]
  },
  {
   "cell_type": "markdown",
   "metadata": {},
   "source": [
    "저장된 파일에서 데이터를 불러와서 한 줄씩 확인하는 방법은 다음과 같다.\n",
    "\n",
    "**주의:** `record_list.txt` 파일을 특정 디렉토리에 저장해야 한다.\n",
    "아래 코드는 현재 파이썬 코드가 저장된 곳의 하위 디렉토리인 \n",
    "`Sample_Data/Swim_Records` 디렉토리에 저장되어 있는 경우를 전제로 \n",
    "작성하였다. \n",
    "하위 디렉토리를 사용하지 않고 동일한 디렉토리에 저장할 경우 디렉토리를 생략해도 된다.\n",
    "또한 다른 디렉토리에 저장하였다면 경로를 잘 명시해줘어야 한다."
   ]
  },
  {
   "cell_type": "code",
   "execution_count": 1,
   "metadata": {},
   "outputs": [
    {
     "name": "stdout",
     "output_type": "stream",
     "text": [
      "player1 21.09\n",
      "player2 20.32\n",
      "player3 21.81\n",
      "player4 22.97\n",
      "player5 23.29\n",
      "player6 22.09\n",
      "player7 21.20\n",
      "player8 22.16\n"
     ]
    }
   ],
   "source": [
    "record_f = open(\"Sample_Data/Swim_Records/record_list.txt\")\n",
    "record = record_f.read().decode('utf-8').split('\\n')\n",
    "record_f.close()\n",
    "\n",
    "for line in record:\n",
    "    print(line)"
   ]
  },
  {
   "cell_type": "markdown",
   "metadata": {},
   "source": [
    "위 코드에서 `record`에 저장된 값이 바로 리스트이다. "
   ]
  },
  {
   "cell_type": "code",
   "execution_count": 2,
   "metadata": {},
   "outputs": [
    {
     "name": "stdout",
     "output_type": "stream",
     "text": [
      "[u'player1 21.09', u'player2 20.32', u'player3 21.81', u'player4 22.97', u'player5 23.29', u'player6 22.09', u'player7 21.20', u'player8 22.16']\n"
     ]
    }
   ],
   "source": [
    "print(record)"
   ]
  },
  {
   "cell_type": "markdown",
   "metadata": {},
   "source": [
    "각각의 항목은 각 줄에 위치한 선수의 이름과 기록이다.\n",
    "예를 들어, 첫째 줄 선수의 이름과 기록은 다음과 같다.\n",
    "\n",
    "확인하는 방법은 인덱스를 이용한다."
   ]
  },
  {
   "cell_type": "code",
   "execution_count": 3,
   "metadata": {},
   "outputs": [
    {
     "name": "stdout",
     "output_type": "stream",
     "text": [
      "player1 21.09\n"
     ]
    }
   ],
   "source": [
    "print(record[0])"
   ]
  },
  {
   "cell_type": "markdown",
   "metadata": {},
   "source": [
    "각 인덱스 값의 자료형은 문자열이다."
   ]
  },
  {
   "cell_type": "code",
   "execution_count": 4,
   "metadata": {},
   "outputs": [
    {
     "name": "stdout",
     "output_type": "stream",
     "text": [
      "<type 'unicode'>\n"
     ]
    }
   ],
   "source": [
    "print(type(record[0]))"
   ]
  },
  {
   "cell_type": "markdown",
   "metadata": {},
   "source": [
    "인덱스를 활용하여 모든 선수의 기록을 다음과 확인할 수 있다.\n",
    "인덱스 활용은 앞서 문자열의 경우와 동일하다.\n",
    "\n",
    "**주의:** 아래 코드에서 `len(record) = 8`임에 주의하라."
   ]
  },
  {
   "cell_type": "code",
   "execution_count": 5,
   "metadata": {},
   "outputs": [
    {
     "name": "stdout",
     "output_type": "stream",
     "text": [
      "---\n",
      "player1 21.09\n",
      "---\n",
      "player2 20.32\n",
      "---\n",
      "player3 21.81\n",
      "---\n",
      "player4 22.97\n",
      "---\n",
      "player5 23.29\n",
      "---\n",
      "player6 22.09\n",
      "---\n",
      "player7 21.20\n",
      "---\n",
      "player8 22.16\n"
     ]
    }
   ],
   "source": [
    "for i in range(len(record)):\n",
    "    print('---')\n",
    "    print(record[i])"
   ]
  },
  {
   "cell_type": "markdown",
   "metadata": {},
   "source": [
    "### 1~3등 점수 확인\n",
    "\n",
    "위 코드를 응용하여 가장 빠른 50m 기록을 확인해 보자.\n",
    "\n",
    "힌트: 각 선수의 정보를 담은 문자열을 스페이스 기준으로 쪼갠 후, \n",
    "둘 째 항목(1번 인덱스 값)의 값들 중에서 최소값을 구해야 한다."
   ]
  },
  {
   "cell_type": "markdown",
   "metadata": {},
   "source": [
    "견본답안: "
   ]
  },
  {
   "cell_type": "code",
   "execution_count": 6,
   "metadata": {},
   "outputs": [
    {
     "name": "stdout",
     "output_type": "stream",
     "text": [
      "20.32\n"
     ]
    }
   ],
   "source": [
    "record_f = open(\"Sample_Data/Swim_Records/record_list.txt\", 'r')\n",
    "record = record_f.read().decode('utf8').split('\\n')\n",
    "\n",
    "lowest_record = 30\n",
    "\n",
    "for line in record:\n",
    "    if float(line.split()[1]) < lowest_record: \n",
    "        lowest_record = float(line.split()[1])\n",
    "record_f.close()\n",
    "\n",
    "print(lowest_record)"
   ]
  },
  {
   "cell_type": "markdown",
   "metadata": {},
   "source": [
    "위 코드의 5번 줄에 사용된 `line.split()`이 선수이름과 기록을 쪼개는 과정이다.\n",
    "\n",
    "아래 코드는 위 코드를 좀 더 세련되게 구현한 것이다. \n",
    "아래 코드의 5번 줄 내용은 `split()` 메소드를 이용하여 선수 이름과 기록으로 쪼개진\n",
    "각각의 값을 갖는 변수를 동시에 선언하고 있다.\n",
    "(**주의:** `split()`의 결과로 길이가 2인 리스트를 얻는다는 것을 미리 예상하였음에 주의하라.)\n",
    "```\n",
    "(player, p_record) = line.split()\n",
    "```\n",
    "위와 같이 하면 다음 처럼 한 것과 동일한 일을 하게 된다.\n",
    "```python\n",
    "player = line.split()[0]\n",
    "p_record = line.split()[1]\n",
    "```"
   ]
  },
  {
   "cell_type": "code",
   "execution_count": 7,
   "metadata": {},
   "outputs": [
    {
     "name": "stdout",
     "output_type": "stream",
     "text": [
      "20.32\n"
     ]
    }
   ],
   "source": [
    "record_f = open(\"Sample_Data/Swim_Records/record_list.txt\", 'r')\n",
    "record = record_f.read().decode('utf8').split('\\n')\n",
    "\n",
    "lowest_record = 30\n",
    "\n",
    "for line in record:\n",
    "    (p_name, p_record) = line.split()\n",
    "    if float(p_record) < lowest_record: \n",
    "        lowest_record = float(p_record)\n",
    "record_f.close()\n",
    "\n",
    "print(lowest_record)"
   ]
  },
  {
   "cell_type": "markdown",
   "metadata": {},
   "source": [
    "### 예제\n",
    "\n",
    "지금까지 1등 선수의 기록을 확인하였다.\n",
    "그렇다면 2등 선수의 기록은 어떻게 확인하는가?\n",
    "\n",
    "단순하게 생각해서 아래와 같이 2등 선수의 기록도 기억하는 방식으로 처리할 수 있다."
   ]
  },
  {
   "cell_type": "code",
   "execution_count": 8,
   "metadata": {},
   "outputs": [
    {
     "name": "stdout",
     "output_type": "stream",
     "text": [
      "20.32\n",
      "21.2\n"
     ]
    }
   ],
   "source": [
    "record_f = open(\"Sample_Data/Swim_Records/record_list.txt\", 'r')\n",
    "record = record_f.read().decode('utf8').split('\\n')\n",
    "\n",
    "lowest_record = 30\n",
    "second_lowest_record = 31\n",
    "\n",
    "for line in record:\n",
    "    (p_name, p_record) = line.split()\n",
    "    if float(p_record) < lowest_record: \n",
    "        lowest_record = float(p_record)\n",
    "    elif float(p_record) < second_lowest_record:\n",
    "        second_lowest_record = float(p_record)\n",
    "record_f.close()\n",
    "\n",
    "print(lowest_record)\n",
    "print(second_lowest_record)"
   ]
  },
  {
   "cell_type": "markdown",
   "metadata": {},
   "source": [
    "### 예제: `append()` 메소드 활용\n",
    "\n",
    "3등, 4등, ... 의 기록을 위와같이 계속해서 `if... else...`문을 반복해서 구해야 하는가?\n",
    "그렇게 할 경우 코드가 얼마나 길어져야 하는가?\n",
    "하지만 이와 같이 하는 일에 따라 코드의 모양과 길이가 심하게 변하는 코드는 피해야 한다.\n",
    "\n",
    "**질문:** 그렇다면 점수만 뽑아서 모은 다음에 점수들을 순서대로 나열하는 방법이 있으면 좋지 않을까?\n",
    "\n",
    "**답:** 매우 그렇다.\n",
    "\n",
    "**방법:** `split()`, `append()` 메소드를 아래와 같이 `for` 문과 함께 활용하면 됨."
   ]
  },
  {
   "cell_type": "code",
   "execution_count": 9,
   "metadata": {},
   "outputs": [
    {
     "name": "stdout",
     "output_type": "stream",
     "text": [
      "[21.09, 20.32, 21.81, 22.97, 23.29, 22.09, 21.2, 22.16]\n"
     ]
    }
   ],
   "source": [
    "record_f = open(\"Sample_Data/Swim_Records/record_list.txt\", 'r')\n",
    "record = record_f.read().decode('utf8').split('\\n')\n",
    "\n",
    "time_only = []\n",
    "\n",
    "for line in record:\n",
    "    (p_name, p_record) = line.split()\n",
    "    time_only.append(float(p_record))\n",
    "\n",
    "record_f.close()\n",
    "\n",
    "print(time_only)"
   ]
  },
  {
   "cell_type": "markdown",
   "metadata": {},
   "source": [
    "위 코드는 선수이름과 시간기록을 쪼갠 후 시간기록만 따로 새로운 리스트인 `time_only`에 \n",
    "추가하는 방식으로 저장하는 내용이다.\n",
    "\n",
    "**주의:** 추가하기 전에 `float()` 함수를 활용하는 것이 좋다."
   ]
  },
  {
   "cell_type": "markdown",
   "metadata": {},
   "source": [
    "이제 위 리스트를 크기 순으로 정렬할 수 있다."
   ]
  },
  {
   "cell_type": "code",
   "execution_count": 10,
   "metadata": {
    "collapsed": true
   },
   "outputs": [],
   "source": [
    "time_only.sort()"
   ]
  },
  {
   "cell_type": "markdown",
   "metadata": {},
   "source": [
    "그러면 순서가 오름차순으로 정렬된다."
   ]
  },
  {
   "cell_type": "code",
   "execution_count": 11,
   "metadata": {},
   "outputs": [
    {
     "name": "stdout",
     "output_type": "stream",
     "text": [
      "[20.32, 21.09, 21.2, 21.81, 22.09, 22.16, 22.97, 23.29]\n"
     ]
    }
   ],
   "source": [
    "print(time_only)"
   ]
  },
  {
   "cell_type": "markdown",
   "metadata": {},
   "source": [
    "이제 1, 2, 3등의 기록을 확인하기는 매우 쉽다."
   ]
  },
  {
   "cell_type": "code",
   "execution_count": 12,
   "metadata": {},
   "outputs": [
    {
     "name": "stdout",
     "output_type": "stream",
     "text": [
      "1등 기록은 20.32 입니다.\n"
     ]
    }
   ],
   "source": [
    "from __future__ import print_function\n",
    "\n",
    "print(\"1등 기록은\", time_only[0], \"입니다.\")"
   ]
  },
  {
   "cell_type": "code",
   "execution_count": 13,
   "metadata": {},
   "outputs": [
    {
     "name": "stdout",
     "output_type": "stream",
     "text": [
      "2등 기록은 21.09 입니다.\n"
     ]
    }
   ],
   "source": [
    "print(\"2등 기록은\", time_only[1], \"입니다.\")"
   ]
  },
  {
   "cell_type": "code",
   "execution_count": 14,
   "metadata": {},
   "outputs": [
    {
     "name": "stdout",
     "output_type": "stream",
     "text": [
      "3등 기록은 21.2 입니다.\n"
     ]
    }
   ],
   "source": [
    "print(\"3등 기록은\", time_only[2], \"입니다.\")"
   ]
  },
  {
   "cell_type": "markdown",
   "metadata": {},
   "source": [
    "1~3등의 기록을 한꺼번에 확인할 수 있다."
   ]
  },
  {
   "cell_type": "code",
   "execution_count": 15,
   "metadata": {},
   "outputs": [
    {
     "name": "stdout",
     "output_type": "stream",
     "text": [
      "1 등 기록은 20.32 입니다.\n",
      "2 등 기록은 21.09 입니다.\n",
      "3 등 기록은 21.2 입니다.\n"
     ]
    }
   ],
   "source": [
    "for i in range(3):\n",
    "    print(i+1, \"등 기록은\", time_only[i], \"입니다.\")"
   ]
  },
  {
   "cell_type": "markdown",
   "metadata": {},
   "source": [
    "### 예제: 슬라이싱 활용\n",
    "\n",
    "슬라이싱 기술은 문자열의 경우와 동일하다.\n",
    "\n",
    "1~3등의 기록을 다음처럼 슬라이싱을 이용하여 구할 수도 있다."
   ]
  },
  {
   "cell_type": "code",
   "execution_count": 16,
   "metadata": {},
   "outputs": [
    {
     "name": "stdout",
     "output_type": "stream",
     "text": [
      "20.32\n",
      "21.09\n",
      "21.2\n"
     ]
    }
   ],
   "source": [
    "first_3 = time_only[:3]\n",
    "\n",
    "for item in first_3:\n",
    "    print(item)"
   ]
  },
  {
   "cell_type": "markdown",
   "metadata": {},
   "source": [
    "아래 방식도 가능하다."
   ]
  },
  {
   "cell_type": "code",
   "execution_count": 17,
   "metadata": {},
   "outputs": [
    {
     "name": "stdout",
     "output_type": "stream",
     "text": [
      "1 등 기록은 20.32 입니다.\n",
      "2 등 기록은 21.09 입니다.\n",
      "3 등 기록은 21.2 입니다.\n"
     ]
    }
   ],
   "source": [
    "first_3 = time_only[:3]\n",
    "\n",
    "index = 0\n",
    "for item in first_3:\n",
    "    print(index+1, \"등 기록은\", item, \"입니다.\")\n",
    "    index += 1"
   ]
  },
  {
   "cell_type": "markdown",
   "metadata": {},
   "source": [
    "**주의:** 슬라이싱은 기존의 리스트를 변경시키지 않는다."
   ]
  },
  {
   "cell_type": "code",
   "execution_count": 18,
   "metadata": {},
   "outputs": [
    {
     "data": {
      "text/plain": [
       "[20.32, 21.09, 21.2, 21.81, 22.09, 22.16, 22.97, 23.29]"
      ]
     },
     "execution_count": 18,
     "metadata": {},
     "output_type": "execute_result"
    }
   ],
   "source": [
    "time_only"
   ]
  },
  {
   "cell_type": "markdown",
   "metadata": {},
   "source": [
    "## 연습문제"
   ]
  },
  {
   "cell_type": "markdown",
   "metadata": {},
   "source": [
    "### 연습"
   ]
  },
  {
   "cell_type": "raw",
   "metadata": {},
   "source": [
    "공리스트는 아무 것도 포함하지 않는 리스트를 의미한다."
   ]
  },
  {
   "cell_type": "code",
   "execution_count": 19,
   "metadata": {
    "collapsed": true
   },
   "outputs": [],
   "source": [
    "empty_list = []"
   ]
  },
  {
   "cell_type": "markdown",
   "metadata": {},
   "source": [
    "공리스트의 길이는 0이다."
   ]
  },
  {
   "cell_type": "code",
   "execution_count": 20,
   "metadata": {},
   "outputs": [
    {
     "data": {
      "text/plain": [
       "0"
      ]
     },
     "execution_count": 20,
     "metadata": {},
     "output_type": "execute_result"
    }
   ],
   "source": [
    "len(empty_list)"
   ]
  },
  {
   "cell_type": "markdown",
   "metadata": {},
   "source": [
    "공리스튼 아무 것도 포함하지 않는다. \n",
    "따라서 0번 인덱스 값도 없다."
   ]
  },
  {
   "cell_type": "code",
   "execution_count": 21,
   "metadata": {},
   "outputs": [
    {
     "ename": "IndexError",
     "evalue": "list index out of range",
     "output_type": "error",
     "traceback": [
      "\u001b[0;31m---------------------------------------------------------------------------\u001b[0m",
      "\u001b[0;31mIndexError\u001b[0m                                Traceback (most recent call last)",
      "\u001b[0;32m<ipython-input-21-29438dbc2832>\u001b[0m in \u001b[0;36m<module>\u001b[0;34m()\u001b[0m\n\u001b[0;32m----> 1\u001b[0;31m \u001b[0mempty_list\u001b[0m\u001b[0;34m[\u001b[0m\u001b[0;36m0\u001b[0m\u001b[0;34m]\u001b[0m\u001b[0;34m\u001b[0m\u001b[0m\n\u001b[0m",
      "\u001b[0;31mIndexError\u001b[0m: list index out of range"
     ]
    }
   ],
   "source": [
    "empty_list[0]"
   ]
  },
  {
   "cell_type": "markdown",
   "metadata": {},
   "source": [
    "반면에 아래 리스트는 공리스트가 아니다."
   ]
  },
  {
   "cell_type": "code",
   "execution_count": 22,
   "metadata": {
    "collapsed": true
   },
   "outputs": [],
   "source": [
    "a_singleton = [[]]"
   ]
  },
  {
   "cell_type": "markdown",
   "metadata": {},
   "source": [
    "위 리스트는 공리스트를 포함한 리스트이다.\n",
    "따라서 길이가 1이다."
   ]
  },
  {
   "cell_type": "code",
   "execution_count": 23,
   "metadata": {},
   "outputs": [
    {
     "data": {
      "text/plain": [
       "1"
      ]
     },
     "execution_count": 23,
     "metadata": {},
     "output_type": "execute_result"
    }
   ],
   "source": [
    "len(a_singleton)"
   ]
  },
  {
   "cell_type": "markdown",
   "metadata": {},
   "source": [
    "포함된 유일한 항목은 공리스트이다."
   ]
  },
  {
   "cell_type": "code",
   "execution_count": 24,
   "metadata": {},
   "outputs": [
    {
     "data": {
      "text/plain": [
       "[]"
      ]
     },
     "execution_count": 24,
     "metadata": {},
     "output_type": "execute_result"
    }
   ],
   "source": [
    "a_singleton[0]"
   ]
  },
  {
   "cell_type": "markdown",
   "metadata": {},
   "source": [
    "### 연습"
   ]
  },
  {
   "cell_type": "markdown",
   "metadata": {},
   "source": [
    "리스트는 중첩을 허용한다.\n",
    "아래 리스튼 3중 리스트이다. "
   ]
  },
  {
   "cell_type": "code",
   "execution_count": 25,
   "metadata": {
    "collapsed": true
   },
   "outputs": [],
   "source": [
    "a_nested_list = [1, 2, [3, 4], [[5, 6, 7], 8]]"
   ]
  },
  {
   "cell_type": "markdown",
   "metadata": {},
   "source": [
    "* 첫째, 둘째 항목은 정수인 1과 2이다.\n",
    "* 셋쩨 항목은 3과 4로 이루어진 길이가 2인 리스트 `[3, 4]`이다.\n",
    "* 넷째 항목은 리스트 `[5, 6, 7]`과 정수 8로 이루어진 리스트 `[[5, 6, 7], 8]`이다."
   ]
  },
  {
   "cell_type": "markdown",
   "metadata": {},
   "source": [
    "질문: 위 리스트에서 2를 인덱스로 얻는 방법은?"
   ]
  },
  {
   "cell_type": "markdown",
   "metadata": {},
   "source": [
    "견본답안:"
   ]
  },
  {
   "cell_type": "code",
   "execution_count": 26,
   "metadata": {},
   "outputs": [
    {
     "data": {
      "text/plain": [
       "2"
      ]
     },
     "execution_count": 26,
     "metadata": {},
     "output_type": "execute_result"
    }
   ],
   "source": [
    "a_nested_list[1]"
   ]
  },
  {
   "cell_type": "markdown",
   "metadata": {},
   "source": [
    "질문: `[3, 4]`를 인덱스로 얻는 방법은?"
   ]
  },
  {
   "cell_type": "markdown",
   "metadata": {},
   "source": [
    "견본답안:"
   ]
  },
  {
   "cell_type": "code",
   "execution_count": 27,
   "metadata": {},
   "outputs": [
    {
     "data": {
      "text/plain": [
       "[3, 4]"
      ]
     },
     "execution_count": 27,
     "metadata": {},
     "output_type": "execute_result"
    }
   ],
   "source": [
    "a_nested_list[2]"
   ]
  },
  {
   "cell_type": "markdown",
   "metadata": {},
   "source": [
    "질문: `3`을 인덱스로 얻는 방법은?"
   ]
  },
  {
   "cell_type": "markdown",
   "metadata": {},
   "source": [
    "견본답안: 인덱스를 연속해서 적용한다."
   ]
  },
  {
   "cell_type": "code",
   "execution_count": 28,
   "metadata": {},
   "outputs": [
    {
     "data": {
      "text/plain": [
       "3"
      ]
     },
     "execution_count": 28,
     "metadata": {},
     "output_type": "execute_result"
    }
   ],
   "source": [
    "a_nested_list[2][0]"
   ]
  },
  {
   "cell_type": "markdown",
   "metadata": {},
   "source": [
    "질문: `[5, 6, 7]`을 인덱스로 얻는 방법은?"
   ]
  },
  {
   "cell_type": "markdown",
   "metadata": {},
   "source": [
    "견본답안: 역시 인덱스를 연속해서 적용한다."
   ]
  },
  {
   "cell_type": "code",
   "execution_count": 29,
   "metadata": {},
   "outputs": [
    {
     "data": {
      "text/plain": [
       "[5, 6, 7]"
      ]
     },
     "execution_count": 29,
     "metadata": {},
     "output_type": "execute_result"
    }
   ],
   "source": [
    "a_nested_list[3][0]"
   ]
  },
  {
   "cell_type": "markdown",
   "metadata": {},
   "source": [
    "질문: `7`을 인덱스로 얻는 방법은?"
   ]
  },
  {
   "cell_type": "markdown",
   "metadata": {},
   "source": [
    "견본답안: 역시 인덱스를 연속해서 적용한다."
   ]
  },
  {
   "cell_type": "code",
   "execution_count": 30,
   "metadata": {},
   "outputs": [
    {
     "data": {
      "text/plain": [
       "7"
      ]
     },
     "execution_count": 30,
     "metadata": {},
     "output_type": "execute_result"
    }
   ],
   "source": [
    "a_nested_list[3][0][2]"
   ]
  },
  {
   "cell_type": "markdown",
   "metadata": {},
   "source": [
    "### 연습: 리스트의 중요 메소드 활용"
   ]
  },
  {
   "cell_type": "code",
   "execution_count": 31,
   "metadata": {
    "collapsed": true,
    "scrolled": true
   },
   "outputs": [],
   "source": [
    "animals = ['dog', 'cat', 'pig']"
   ]
  },
  {
   "cell_type": "markdown",
   "metadata": {},
   "source": [
    "문자열에 포함된 문자들의 순서가 중요하듯 리스트에 포함된 항목들의 순서도 절대적으로 중요하다.\n",
    "문자열과는 달리 리스트는 수정이 가능하다. "
   ]
  },
  {
   "cell_type": "markdown",
   "metadata": {},
   "source": [
    "예를 들어, `append()` 메소드는 리스트의 끝에 항목을 하나 추가한다. "
   ]
  },
  {
   "cell_type": "code",
   "execution_count": 32,
   "metadata": {
    "scrolled": true
   },
   "outputs": [
    {
     "data": {
      "text/plain": [
       "['dog', 'cat', 'pig', 'coq']"
      ]
     },
     "execution_count": 32,
     "metadata": {},
     "output_type": "execute_result"
    }
   ],
   "source": [
    "animals.append('coq')\n",
    "animals"
   ]
  },
  {
   "cell_type": "markdown",
   "metadata": {},
   "source": [
    "동시에 여러 개의 항목을 추가하고자 할 때는 `append()` 메소드를 아래처럼 이용하면 된다고 생각하면 안된다."
   ]
  },
  {
   "cell_type": "code",
   "execution_count": 33,
   "metadata": {},
   "outputs": [
    {
     "data": {
      "text/plain": [
       "['dog', 'cat', 'pig', 'coq', ['eagle', 'bair']]"
      ]
     },
     "execution_count": 33,
     "metadata": {},
     "output_type": "execute_result"
    }
   ],
   "source": [
    "animals.append(['eagle', 'bair'])\n",
    "animals"
   ]
  },
  {
   "cell_type": "markdown",
   "metadata": {},
   "source": [
    "위에서는 원래의 리스트에 다른 리스트 **하나**를 마지막 항목으로 추가한 것이다.\n",
    "\n",
    "그게 아니라 `eagle`과 `bair` 두 개의 항목을 원래의 리스트에 추가하고자 한다면 `append()` 메소드를 두 번 적용하거나\n",
    "아니면 `extend()` 메소드를 사용하면 된다. \n",
    "\n",
    "먼저 앞서 추가한 항목을 제거하자."
   ]
  },
  {
   "cell_type": "code",
   "execution_count": 34,
   "metadata": {
    "scrolled": true
   },
   "outputs": [
    {
     "data": {
      "text/plain": [
       "['dog', 'cat', 'pig', 'coq']"
      ]
     },
     "execution_count": 34,
     "metadata": {},
     "output_type": "execute_result"
    }
   ],
   "source": [
    "animals.remove(['eagle', 'bair'])\n",
    "animals"
   ]
  },
  {
   "cell_type": "markdown",
   "metadata": {},
   "source": [
    "`extend()` 메소드의 활용은 다음과 같다."
   ]
  },
  {
   "cell_type": "code",
   "execution_count": 35,
   "metadata": {
    "scrolled": true
   },
   "outputs": [
    {
     "data": {
      "text/plain": [
       "['dog', 'cat', 'pig', 'coq', 'eagle', 'bair']"
      ]
     },
     "execution_count": 35,
     "metadata": {},
     "output_type": "execute_result"
    }
   ],
   "source": [
    "animals.extend(['eagle', 'bair'])\n",
    "animals"
   ]
  },
  {
   "cell_type": "markdown",
   "metadata": {},
   "source": [
    "두 개의 리스트를 덧셈 기호를 이용하여 확장할 수도 있다. 하지만 원래의 리스트를 변경하는 게 아니라 새로운 리스트를 생성한다. "
   ]
  },
  {
   "cell_type": "markdown",
   "metadata": {},
   "source": [
    "항목 추가 및 제거 이외에도 항목 자체를 변경할 수도 있다. \n",
    "\n",
    "`cat`를 `cow`으로 변경해보자.\n",
    "방법은 간단하게 인덱싱을 사용한다. "
   ]
  },
  {
   "cell_type": "code",
   "execution_count": 36,
   "metadata": {
    "scrolled": true
   },
   "outputs": [
    {
     "data": {
      "text/plain": [
       "['dog', 'cow', 'pig', 'coq', 'eagle', 'bair']"
      ]
     },
     "execution_count": 36,
     "metadata": {},
     "output_type": "execute_result"
    }
   ],
   "source": [
    "animals[1] = 'cow'\n",
    "animals"
   ]
  },
  {
   "cell_type": "markdown",
   "metadata": {},
   "source": [
    "리스트에 포함된 항목의 인덱스를 알고자 한다면 `index()` 메소드를 이용한다. "
   ]
  },
  {
   "cell_type": "code",
   "execution_count": 37,
   "metadata": {
    "scrolled": true
   },
   "outputs": [
    {
     "data": {
      "text/plain": [
       "2"
      ]
     },
     "execution_count": 37,
     "metadata": {},
     "output_type": "execute_result"
    }
   ],
   "source": [
    "animals.index('pig')"
   ]
  },
  {
   "cell_type": "markdown",
   "metadata": {},
   "source": [
    "**주의**: 만약에 `'pig'`가 여러 번 포함되어 있으면 `index()` 메소드는 가장 작은 인덱스를 리턴한다. "
   ]
  },
  {
   "cell_type": "code",
   "execution_count": 38,
   "metadata": {},
   "outputs": [
    {
     "data": {
      "text/plain": [
       "['dog', 'cow', 'pig', 'coq', 'eagle', 'bair', 'pig']"
      ]
     },
     "execution_count": 38,
     "metadata": {},
     "output_type": "execute_result"
    }
   ],
   "source": [
    "animals.append('pig')\n",
    "animals"
   ]
  },
  {
   "cell_type": "code",
   "execution_count": 39,
   "metadata": {},
   "outputs": [
    {
     "data": {
      "text/plain": [
       "2"
      ]
     },
     "execution_count": 39,
     "metadata": {},
     "output_type": "execute_result"
    }
   ],
   "source": [
    "animals.index('pig')"
   ]
  },
  {
   "cell_type": "markdown",
   "metadata": {},
   "source": [
    "`pop()` 메소드는 인자가 없을 경우 맨 끝에 위치한 항목을 삭제하며, 인덱스를 인자로 사용하면 해당 항목을 삭제한다. "
   ]
  },
  {
   "cell_type": "code",
   "execution_count": 40,
   "metadata": {},
   "outputs": [
    {
     "data": {
      "text/plain": [
       "'pig'"
      ]
     },
     "execution_count": 40,
     "metadata": {},
     "output_type": "execute_result"
    }
   ],
   "source": [
    "animals.pop()"
   ]
  },
  {
   "cell_type": "code",
   "execution_count": 41,
   "metadata": {},
   "outputs": [
    {
     "data": {
      "text/plain": [
       "'pig'"
      ]
     },
     "execution_count": 41,
     "metadata": {},
     "output_type": "execute_result"
    }
   ],
   "source": [
    "animals.pop(2)"
   ]
  },
  {
   "cell_type": "markdown",
   "metadata": {},
   "source": [
    "`animals`에 할당된 리스트가 어떻게 변경되었는지 확인해야 한다."
   ]
  },
  {
   "cell_type": "code",
   "execution_count": 42,
   "metadata": {},
   "outputs": [
    {
     "data": {
      "text/plain": [
       "['dog', 'cow', 'coq', 'eagle', 'bair']"
      ]
     },
     "execution_count": 42,
     "metadata": {},
     "output_type": "execute_result"
    }
   ],
   "source": [
    "animals"
   ]
  },
  {
   "cell_type": "markdown",
   "metadata": {},
   "source": [
    "특정 인덱스 위치에 항목을 추가할 경우 `insert()` 메소드를 사용한다. "
   ]
  },
  {
   "cell_type": "code",
   "execution_count": 43,
   "metadata": {
    "scrolled": true
   },
   "outputs": [
    {
     "data": {
      "text/plain": [
       "['dog', 'cow', 'coq', 'eagle', 'bair', 'leopard']"
      ]
     },
     "execution_count": 43,
     "metadata": {},
     "output_type": "execute_result"
    }
   ],
   "source": [
    "animals.insert(5, 'leopard')\n",
    "animals"
   ]
  },
  {
   "cell_type": "markdown",
   "metadata": {},
   "source": [
    "**주의**: 각 메소드의 리턴값에 주의해야 한다.\n",
    "\n",
    "* `pop()`: 리스트에서 삭제한 항목을 리턴한다.\n",
    "* `append()`, `remove()`, `insert()` 등은 기존의 리스트를 변경하지만 리턴값은 `None`, 즉 아무 것도 리턴하지 않는다. "
   ]
  },
  {
   "cell_type": "markdown",
   "metadata": {},
   "source": [
    "**주의**: `pop()` 메소드는 인덱스를 사용하거나 아니면 맨 끝 항목만 삭제한다. 인덱스 번호를 모를 경우에 특정 항목을 삭제하고자 한다면 `remove()` \n",
    "메소드를 사용한다."
   ]
  },
  {
   "cell_type": "code",
   "execution_count": 44,
   "metadata": {},
   "outputs": [
    {
     "name": "stdout",
     "output_type": "stream",
     "text": [
      "['dog', 'cow', 'hamster', 'coq', 'eagle', 'bair', 'leopard']\n"
     ]
    }
   ],
   "source": [
    "animals.insert(2, 'hamster')\n",
    "print(animals)"
   ]
  },
  {
   "cell_type": "code",
   "execution_count": 45,
   "metadata": {},
   "outputs": [
    {
     "name": "stdout",
     "output_type": "stream",
     "text": [
      "['dog', 'cow', 'coq', 'eagle', 'bair', 'leopard']\n"
     ]
    }
   ],
   "source": [
    "removed_pet = animals.remove('hamster')\n",
    "print(animals)"
   ]
  },
  {
   "cell_type": "markdown",
   "metadata": {},
   "source": [
    "**주의**:\n",
    "\n",
    "* 특정 항목이 여러 번 포함되어 있을 경우 `remove()` 메소드는 맨 왼쪽에 위치한 항목 하나만 삭제한다. \n",
    "    더 삭제하려면 또 사용해야 한다.\n",
    "\n",
    "* `remove()`, `index()` 등은 삭제 또는 찾고자 하는 항목이 없을 경우 오류를 발생시킨다. "
   ]
  },
  {
   "cell_type": "code",
   "execution_count": 46,
   "metadata": {
    "scrolled": true
   },
   "outputs": [
    {
     "ename": "ValueError",
     "evalue": "list.remove(x): x not in list",
     "output_type": "error",
     "traceback": [
      "\u001b[0;31m---------------------------------------------------------------------------\u001b[0m",
      "\u001b[0;31mValueError\u001b[0m                                Traceback (most recent call last)",
      "\u001b[0;32m<ipython-input-46-23a85b0eacf2>\u001b[0m in \u001b[0;36m<module>\u001b[0;34m()\u001b[0m\n\u001b[0;32m----> 1\u001b[0;31m \u001b[0manimals\u001b[0m\u001b[0;34m.\u001b[0m\u001b[0mremove\u001b[0m\u001b[0;34m(\u001b[0m\u001b[0;34m'hamster'\u001b[0m\u001b[0;34m)\u001b[0m\u001b[0;34m\u001b[0m\u001b[0m\n\u001b[0m\u001b[1;32m      2\u001b[0m \u001b[0manimals\u001b[0m\u001b[0;34m\u001b[0m\u001b[0m\n",
      "\u001b[0;31mValueError\u001b[0m: list.remove(x): x not in list"
     ]
    }
   ],
   "source": [
    "animals.remove('hamster')\n",
    "animals"
   ]
  },
  {
   "cell_type": "markdown",
   "metadata": {},
   "source": [
    "이외에 `del` 함수를 이용하여 리스트의 일부 또는 전체를 삭제할 수 있다. \n",
    "\n",
    "**주의**: `del` 함수(메소드 아님)는 매우 주의해서 사용해야 한다. 잘못하면 데이터 자체를 메모리에서 삭제시킬 수 있다. "
   ]
  },
  {
   "cell_type": "code",
   "execution_count": 47,
   "metadata": {
    "scrolled": true
   },
   "outputs": [
    {
     "data": {
      "text/plain": [
       "['dog', 'cow', 'coq', 'eagle', 'bair']"
      ]
     },
     "execution_count": 47,
     "metadata": {},
     "output_type": "execute_result"
    }
   ],
   "source": [
    "del animals[-1]\n",
    "animals"
   ]
  },
  {
   "cell_type": "code",
   "execution_count": 48,
   "metadata": {
    "collapsed": true
   },
   "outputs": [],
   "source": [
    "animals_sample = ['dog']"
   ]
  },
  {
   "cell_type": "code",
   "execution_count": 49,
   "metadata": {
    "collapsed": true
   },
   "outputs": [],
   "source": [
    "del animals_sample"
   ]
  },
  {
   "cell_type": "code",
   "execution_count": 50,
   "metadata": {},
   "outputs": [
    {
     "ename": "NameError",
     "evalue": "name 'animals_sample' is not defined",
     "output_type": "error",
     "traceback": [
      "\u001b[0;31m---------------------------------------------------------------------------\u001b[0m",
      "\u001b[0;31mNameError\u001b[0m                                 Traceback (most recent call last)",
      "\u001b[0;32m<ipython-input-50-2fd0a356f881>\u001b[0m in \u001b[0;36m<module>\u001b[0;34m()\u001b[0m\n\u001b[0;32m----> 1\u001b[0;31m \u001b[0manimals_sample\u001b[0m\u001b[0;34m\u001b[0m\u001b[0m\n\u001b[0m",
      "\u001b[0;31mNameError\u001b[0m: name 'animals_sample' is not defined"
     ]
    }
   ],
   "source": [
    "animals_sample"
   ]
  },
  {
   "cell_type": "markdown",
   "metadata": {},
   "source": [
    "`reverse()` 메소드는 리스트의 순서를 뒤집는다."
   ]
  },
  {
   "cell_type": "code",
   "execution_count": 51,
   "metadata": {
    "scrolled": true
   },
   "outputs": [
    {
     "name": "stdout",
     "output_type": "stream",
     "text": [
      "기존 동물 리스트:  ['dog', 'cow', 'coq', 'eagle', 'bair']\n",
      "뒤집어진 동물 리스트:  ['bair', 'eagle', 'coq', 'cow', 'dog']\n"
     ]
    }
   ],
   "source": [
    "print('기존 동물 리스트: ', animals)\n",
    "animals.reverse()\n",
    "print('뒤집어진 동물 리스트: ', animals)"
   ]
  },
  {
   "cell_type": "markdown",
   "metadata": {},
   "source": [
    "`sort()` 메소드를 이용하여 리스트의 항목들을 정렬할 수 있다. \n",
    "\n",
    "* 숫자의 경우는 크기 순서대로.\n",
    "* 문자열의 경우는 사전식으로."
   ]
  },
  {
   "cell_type": "code",
   "execution_count": 52,
   "metadata": {
    "scrolled": true
   },
   "outputs": [
    {
     "name": "stdout",
     "output_type": "stream",
     "text": [
      "기존 동물 리스트 ['bair', 'eagle', 'coq', 'cow', 'dog']\n",
      "정렬된 동물 리스트 ['bair', 'coq', 'cow', 'dog', 'eagle']\n"
     ]
    }
   ],
   "source": [
    "print('기존 동물 리스트', animals)\n",
    "animals.sort()\n",
    "print('정렬된 동물 리스트', animals)"
   ]
  },
  {
   "cell_type": "markdown",
   "metadata": {},
   "source": [
    "**주의**:\n",
    "\n",
    "* `sort()`와 `reverse()` 메소드는 원래의 리스트 자체를 변경한다. \n",
    "* 원래의 리스트를 건드리지 않으면서 정렬된 또는 뒤집어진 리스트를 생성하고자 한다면 `sorted()` 또는 `reversed()` 함수(메소드 아님)를 사용한다."
   ]
  },
  {
   "cell_type": "code",
   "execution_count": 53,
   "metadata": {
    "scrolled": true
   },
   "outputs": [
    {
     "name": "stdout",
     "output_type": "stream",
     "text": [
      "['bair', 'coq', 'cow', 'dog', 'eagle', 'horse']\n",
      "['bair', 'coq', 'cow', 'dog', 'eagle', 'horse']\n",
      "['bair', 'coq', 'cow', 'dog', 'eagle', 'horse']\n"
     ]
    }
   ],
   "source": [
    "animals.append('horse')\n",
    "print(animals)\n",
    "print(sorted(animals))\n",
    "print(animals)"
   ]
  },
  {
   "cell_type": "markdown",
   "metadata": {},
   "source": [
    "`reversed()` 함수에 대해서는 자세히 알아보지 않는다."
   ]
  }
 ],
 "metadata": {
  "kernelspec": {
   "display_name": "Python 2",
   "language": "python",
   "name": "python2"
  },
  "language_info": {
   "codemirror_mode": {
    "name": "ipython",
    "version": 2
   },
   "file_extension": ".py",
   "mimetype": "text/x-python",
   "name": "python",
   "nbconvert_exporter": "python",
   "pygments_lexer": "ipython2",
   "version": "2.7.13"
  }
 },
 "nbformat": 4,
 "nbformat_minor": 2
}
