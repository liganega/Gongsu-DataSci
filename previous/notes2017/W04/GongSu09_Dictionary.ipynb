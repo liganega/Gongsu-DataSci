{
 "cells": [
  {
   "cell_type": "markdown",
   "metadata": {},
   "source": [
    "# 사전 활용"
   ]
  },
  {
   "cell_type": "markdown",
   "metadata": {},
   "source": [
    "## 주요 내용"
   ]
  },
  {
   "cell_type": "markdown",
   "metadata": {},
   "source": [
    "파이썬에 내장되어 있는 컬렉션 자료형 중 사전에 대해 알아 본다.\n",
    "\n",
    "**사전(dictionaries)**: 키(keys)와 값(values)으로 이루어진 쌍(pairs)들의 집합\n",
    "\n",
    "* 사용 형태: 집합기호 사용\n",
    "```\n",
    "eng_math = {'year': 2017, 'semester' : 2, 'subject': 'Data Science'}\n",
    "```\n",
    "\n",
    "* 특징\n",
    "    * 키로 사용될 수 있는 자료형: 문자열 등 불변 자료형 값\n",
    "    * 값으로 사용될 수 있는 자료형: 임의의 값\n",
    "\n",
    "\n",
    "* 사전은 가변 자료형이다. \n",
    "    * `사전이름[키이름] = 값` 을 이용해 특정 항목의 키에 해당하는 값을 변경할 수 있다.\n",
    "\n",
    "    * `update()` 메소드: 항목 추가\n",
    "    * `del` 함수 또는 `pop()` 메소드: 특정 항목 삭제\n",
    "\n",
    "\n",
    "* `items`, `keys`, `values` 등의 메소드를 이용하여 사전의 항목 확인 가능\n"
   ]
  },
  {
   "cell_type": "markdown",
   "metadata": {},
   "source": [
    "## 오늘의 주요 예제\n",
    "\n",
    "`record_list.txt` 파일은 여덟 명의 수영 선수의 50m 기록을 담고 있다.\n",
    "\n",
    "```txt\n",
    "player1 21.09 \n",
    "player2 20.32 \n",
    "player3 21.81 \n",
    "player4 22.97 \n",
    "player5 23.29 \n",
    "player6 22.09 \n",
    "player7 21.20 \n",
    "player8 22.16\n",
    "```\n",
    "\n",
    "목표: 위 파일로부터 1~3등 선수의 이름과 기록을 아래와 같이 확인하기\n",
    "```txt\n",
    "1등 player2 20.32 \n",
    "2등 player1 21.09 \n",
    "3등 player7 21.20 \n",
    "```\n",
    "\n",
    "**주의:** 이전에는 1~3등의 점수만 확인하였다. \n",
    "하지만 이제는 선수 이름까지 함께 확인해야 한다.\n",
    "\n",
    "**참조:** Head First Programming(한빛미디어) 5장\n",
    "\n",
    "\n"
   ]
  },
  {
   "cell_type": "markdown",
   "metadata": {},
   "source": [
    "## 사전 활용"
   ]
  },
  {
   "cell_type": "markdown",
   "metadata": {},
   "source": [
    "저장된 파일에서 데이터를 불러와서 한 줄씩 확인하는 방법은 다음과 같다."
   ]
  },
  {
   "cell_type": "code",
   "execution_count": 1,
   "metadata": {},
   "outputs": [
    {
     "name": "stdout",
     "output_type": "stream",
     "text": [
      "player1 21.09\n",
      "player2 20.32\n",
      "player3 21.81\n",
      "player4 22.97\n",
      "player5 23.29\n",
      "player6 22.09\n",
      "player7 21.20\n",
      "player8 22.16\n"
     ]
    }
   ],
   "source": [
    "record_f = open(\"Sample_Data/Swim_Records/record_list.txt\")\n",
    "record = record_f.read().decode('utf-8').split('\\n')\n",
    "record_f.close()\n",
    "\n",
    "for line in record:\n",
    "    print(line)"
   ]
  },
  {
   "cell_type": "markdown",
   "metadata": {},
   "source": [
    "## 복습\n",
    "\n",
    "앞 장에서 1~3등의 50m 기록을 확인하였다."
   ]
  },
  {
   "cell_type": "code",
   "execution_count": 2,
   "metadata": {},
   "outputs": [
    {
     "name": "stdout",
     "output_type": "stream",
     "text": [
      "1등 20.32\n",
      "2등 21.09\n",
      "3등 21.2\n"
     ]
    }
   ],
   "source": [
    "from __future__ import print_function\n",
    "\n",
    "record_f = open(\"Sample_Data/Swim_Records/record_list.txt\", 'r')\n",
    "record = record_f.read().decode('utf8').split('\\n')\n",
    "\n",
    "time_only = []\n",
    "\n",
    "for line in record:\n",
    "    (player, p_record) = line.split()\n",
    "    time_only.append(float(p_record))\n",
    "\n",
    "record_f.close()\n",
    "\n",
    "time_only.sort()\n",
    "\n",
    "for i in range(3):\n",
    "    print(str(i+1) + \"등\", time_only[i])"
   ]
  },
  {
   "cell_type": "markdown",
   "metadata": {},
   "source": [
    "이제 위 코드를 수정하여 아래 결과를 얻고자 한다.\n",
    "```txt\n",
    "1등 player2 20.32 \n",
    "2등 player1 21.09 \n",
    "3등 player7 21.20 \n",
    "```\n",
    "즉, 각 등수의 선수 이름까지 필요하다.\n",
    "어떻게 하면 선수이름과 점수를 동시에 움직이게 할 수 있을까? \n",
    "\n",
    "마이크로소프트의 엑셀 프로그램을 활용하면 매우 간단하다."
   ]
  },
  {
   "cell_type": "markdown",
   "metadata": {},
   "source": [
    "<p>\n",
    "<table cellspacing=\"20\">\n",
    "\n",
    "<tr>\n",
    "<td align=\"center\">\n",
    "<img src=\"../../images/excel/excel1.png\" style=\"width:100%\">\n",
    "</td>\n",
    "<td align=\"center\">\n",
    "<img src=\"../../images/excel/excel1a.png\" style=\"width:100%\">\n",
    "</td>\n",
    "<td align=\"center\">\n",
    "<img src=\"../../images/excel/excel2.png\" style=\"width:100%\">\n",
    "</td>\n",
    "</tr>\n",
    "\n",
    "<tr>\n",
    "<td align=\"center\">\n",
    "기존 기록표\n",
    "</td>\n",
    "<td align=\"center\">\n",
    "점수 기준으로 정렬하기\n",
    "</td>\n",
    "<td align=\"center\">\n",
    "정렬 후 기록표\n",
    "</td>\n",
    "</tr>\n",
    "\n",
    "</table>\n",
    "</p>"
   ]
  },
  {
   "cell_type": "markdown",
   "metadata": {},
   "source": [
    "## 두 개의 리스트로 쪼개기"
   ]
  },
  {
   "cell_type": "markdown",
   "metadata": {},
   "source": [
    "먼저 앞서 사용한 방식을 약간 수정해서 기록들의 리스트와 선수이름들의 리스트를 생성해보자."
   ]
  },
  {
   "cell_type": "code",
   "execution_count": 3,
   "metadata": {
    "collapsed": true
   },
   "outputs": [],
   "source": [
    "from __future__ import print_function\n",
    "\n",
    "record_f = open(\"Sample_Data/Swim_Records/record_list.txt\", 'r')\n",
    "record = record_f.read().decode('utf8').split('\\n')\n",
    "\n",
    "time_only = []\n",
    "name_only = []\n",
    "\n",
    "for line in record:\n",
    "    (p_name, p_record) = line.split()\n",
    "    time_only.append(float(p_record))\n",
    "    name_only.append(p_name)\n",
    "\n",
    "record_f.close()"
   ]
  },
  {
   "cell_type": "code",
   "execution_count": 4,
   "metadata": {},
   "outputs": [
    {
     "name": "stdout",
     "output_type": "stream",
     "text": [
      "[u'player1', u'player2', u'player3', u'player4', u'player5', u'player6', u'player7', u'player8']\n"
     ]
    }
   ],
   "source": [
    "print(name_only)"
   ]
  },
  {
   "cell_type": "code",
   "execution_count": 5,
   "metadata": {},
   "outputs": [
    {
     "name": "stdout",
     "output_type": "stream",
     "text": [
      "[21.09, 20.32, 21.81, 22.97, 23.29, 22.09, 21.2, 22.16]\n"
     ]
    }
   ],
   "source": [
    "print(time_only)"
   ]
  },
  {
   "cell_type": "markdown",
   "metadata": {},
   "source": [
    "현재 두 개의 리스트는 기존 테이블의 리스트의 순서와 동일한 순서대로 항목을 갖고 있다.\n",
    "예를 들어, `name_only` 리스트의 첫 째 선수의 기록은 `time_only` 리스트의 첫 째 항목 값이다. \n",
    "\n",
    "그런데 1~3등의 점수를 얻기 위해 `time_only` 리스트를 정렬하면 상위 세 명의 점수는 확인할 수 있었지만 어떤 선수가 수상을 해야 할지는 알 수 없었다. \n",
    "\n",
    "어떻게 해야 할까? `name_only` 리스트도 정렬할까? 그런데 어떤 기준으로 정렬하나? 이름순으로? 그러면 `A` 또는 `Z`로 시작하는 선수가 항상 1등 아니면 꼴등이 되어 버리는 문제가 발생한다. \n",
    "\n",
    "이런 문제는 두 개의 리스트를 다룰 때 항상 발생한다. 그리고 일반적으로 두 개의 리스트를 엑셀의 경우처럼 한 가지 기준으로 연동해서 정렬할 수는 없다. \n",
    "따라서 다른 접근방식이 요구된다.\n",
    "\n",
    "여기서는 사전 자료형을 이용하여 문제를 해결하고자 한다.\n",
    "하지만 해결법을 설명하기 전에 사전 자료형을 간단한 예제를 통해 공부하고자 한다."
   ]
  },
  {
   "cell_type": "markdown",
   "metadata": {},
   "source": [
    "## 사전 자료형 예제\n",
    "\n",
    "사전 자료형에 대한 이해는 어학공부에 사용하는 사전을 떠올리면 쉽다. \n",
    "영어 사전의 경우 '단어 와 뜻'으로 이루어진 쌍들의 집합이라고 생각할 수 있다.\n",
    "사전 자료형도 동일하게 작동한다.\n",
    "\n",
    "예를 들어, 평택, 수원, 제주의 현재 온도에 대한 정보가 아래와 같다고 하자.\n",
    "```\n",
    "Pyongtaek 22\n",
    "Suwon 18\n",
    "Jeju 25\n",
    "```\n",
    "\n",
    "이제 사전 자료형을 이용하여 위 정보를 저장하고 활용하는 방법은 다음과 같다.\n",
    "\n",
    "먼저 빈 사전을 선언한다."
   ]
  },
  {
   "cell_type": "code",
   "execution_count": 6,
   "metadata": {
    "collapsed": true
   },
   "outputs": [],
   "source": [
    "city_temperature = {}"
   ]
  },
  {
   "cell_type": "markdown",
   "metadata": {},
   "source": [
    "이제 원하는 자료들의 쌍을 입력한다. \n",
    "예를 들어 '평택 온도는 22도' 라는 정보를 추가하고자 하면 아래와 같이 하면 된다."
   ]
  },
  {
   "cell_type": "code",
   "execution_count": 7,
   "metadata": {
    "collapsed": true
   },
   "outputs": [],
   "source": [
    "city_temperature['Pyongtaek'] = 22"
   ]
  },
  {
   "cell_type": "markdown",
   "metadata": {},
   "source": [
    "이제 평택의 정보가 추가되었음을 확인할 수 있다."
   ]
  },
  {
   "cell_type": "code",
   "execution_count": 8,
   "metadata": {},
   "outputs": [
    {
     "data": {
      "text/plain": [
       "{'Pyongtaek': 22}"
      ]
     },
     "execution_count": 8,
     "metadata": {},
     "output_type": "execute_result"
    }
   ],
   "source": [
    "city_temperature"
   ]
  },
  {
   "cell_type": "markdown",
   "metadata": {},
   "source": [
    "이제 수원과 제주의 정보를 추가하고 확인해보자."
   ]
  },
  {
   "cell_type": "code",
   "execution_count": 9,
   "metadata": {},
   "outputs": [
    {
     "data": {
      "text/plain": [
       "{'Jeju': 25, 'Pyongtaek': 22, 'Suwon': 18}"
      ]
     },
     "execution_count": 9,
     "metadata": {},
     "output_type": "execute_result"
    }
   ],
   "source": [
    "city_temperature['Suwon'] = 18\n",
    "city_temperature['Jeju'] = 25\n",
    "city_temperature"
   ]
  },
  {
   "cell_type": "markdown",
   "metadata": {},
   "source": [
    "**주의:** 사전 자료형에서 각 항목의 순서는 전혀 의미가 없다."
   ]
  },
  {
   "cell_type": "markdown",
   "metadata": {},
   "source": [
    "### 키(key) 와 키값(value)\n",
    "\n",
    "앞서 살펴보았듯 사전자료형의 항목들은 콜론(`:`)으로 구분된 두 개의 값들의 쌍으로 이루어진다.\n",
    "왼쪽에 있는 값을 키(key), 오른쪽에 위치하는 값은 키값(value)라 부른다. \n",
    "\n",
    "예를 들어 `city_temperature`에 사용된 키들은 `Pyeongtaek`, `Suwon`, `Jeju` 등이고 각 키들에 대응하는 키값은 각각 22, 18, 25이다. \n",
    "키에 해당하는 키값을 확인하고자 하면 아래와 같이 명령하면 된다."
   ]
  },
  {
   "cell_type": "code",
   "execution_count": 10,
   "metadata": {},
   "outputs": [
    {
     "data": {
      "text/plain": [
       "22"
      ]
     },
     "execution_count": 10,
     "metadata": {},
     "output_type": "execute_result"
    }
   ],
   "source": [
    "city_temperature['Pyongtaek']"
   ]
  },
  {
   "cell_type": "code",
   "execution_count": 11,
   "metadata": {},
   "outputs": [
    {
     "data": {
      "text/plain": [
       "25"
      ]
     },
     "execution_count": 11,
     "metadata": {},
     "output_type": "execute_result"
    }
   ],
   "source": [
    "city_temperature['Jeju']"
   ]
  },
  {
   "cell_type": "markdown",
   "metadata": {},
   "source": [
    "#### 키만 모아 놓은 리스트\n",
    "사전에 사용된 키들만 따로 모아놓은 리스트를 만들어주는 사전 자료형 메소드가 있다."
   ]
  },
  {
   "cell_type": "code",
   "execution_count": 12,
   "metadata": {},
   "outputs": [
    {
     "data": {
      "text/plain": [
       "['Jeju', 'Pyongtaek', 'Suwon']"
      ]
     },
     "execution_count": 12,
     "metadata": {},
     "output_type": "execute_result"
    }
   ],
   "source": [
    "key_list = city_temperature.keys()\n",
    "key_list"
   ]
  },
  {
   "cell_type": "markdown",
   "metadata": {},
   "source": [
    "**주의:** 도시명들의 순서 전혀 중요하지 않다."
   ]
  },
  {
   "cell_type": "markdown",
   "metadata": {},
   "source": [
    "#### 키값만 모아 놓은 리스트\n",
    "사전에 사용된 키값들만 따로 모아놓은 리스트를 만들어주는 사전 자료형 메소드가 있다."
   ]
  },
  {
   "cell_type": "code",
   "execution_count": 13,
   "metadata": {},
   "outputs": [
    {
     "data": {
      "text/plain": [
       "[25, 22, 18]"
      ]
     },
     "execution_count": 13,
     "metadata": {},
     "output_type": "execute_result"
    }
   ],
   "source": [
    "value_list = city_temperature.values()\n",
    "value_list"
   ]
  },
  {
   "cell_type": "markdown",
   "metadata": {},
   "source": [
    "#### 각각의 항목을 리스트의 항목으로 묶는 방식\n",
    "사전에 사용된 항목들을 튜플로 묶어 리스트를 만들 수 있다."
   ]
  },
  {
   "cell_type": "code",
   "execution_count": 14,
   "metadata": {},
   "outputs": [
    {
     "data": {
      "text/plain": [
       "[('Jeju', 25), ('Pyongtaek', 22), ('Suwon', 18)]"
      ]
     },
     "execution_count": 14,
     "metadata": {},
     "output_type": "execute_result"
    }
   ],
   "source": [
    "item_list = city_temperature.items()\n",
    "item_list"
   ]
  },
  {
   "cell_type": "markdown",
   "metadata": {},
   "source": [
    "### 사전 자료형 반복문\n",
    "\n",
    "사전자료형을 반복문에 활용할 수 있다.\n",
    "이를 위해 `keys` 메소드를 사용한다.\n",
    "\n",
    "예를 들어, 도시와 온도를 동시에 추출하여 모두 보여주고자 할 경우 아래와 같이 하면 된다."
   ]
  },
  {
   "cell_type": "code",
   "execution_count": 15,
   "metadata": {},
   "outputs": [
    {
     "name": "stdout",
     "output_type": "stream",
     "text": [
      "Jeju 의 온도는 25 도 이다.\n",
      "Pyongtaek 의 온도는 22 도 이다.\n",
      "Suwon 의 온도는 18 도 이다.\n"
     ]
    }
   ],
   "source": [
    "for key in city_temperature.keys():\n",
    "    print(key,\"의 온도는\", city_temperature[key], \"도 이다.\")"
   ]
  },
  {
   "cell_type": "markdown",
   "metadata": {},
   "source": [
    "사실 `keys` 메소드를 굳이 사용하지 않아도 된다."
   ]
  },
  {
   "cell_type": "code",
   "execution_count": 16,
   "metadata": {},
   "outputs": [
    {
     "name": "stdout",
     "output_type": "stream",
     "text": [
      "Jeju 의 온도는 25 도 이다.\n",
      "Pyongtaek 의 온도는 22 도 이다.\n",
      "Suwon 의 온도는 18 도 이다.\n"
     ]
    }
   ],
   "source": [
    "for key in city_temperature:\n",
    "    print(key,\"의 온도는\", city_temperature[key], \"도 이다.\")    "
   ]
  },
  {
   "cell_type": "markdown",
   "metadata": {},
   "source": [
    "사전 자료형의 메소드는 그리 많지 않다.\n",
    "특정 자료형의 메소드를 확인하고자 하면 `dir()` 함수를 활용한다."
   ]
  },
  {
   "cell_type": "code",
   "execution_count": 17,
   "metadata": {},
   "outputs": [
    {
     "data": {
      "text/plain": [
       "['__class__',\n",
       " '__cmp__',\n",
       " '__contains__',\n",
       " '__delattr__',\n",
       " '__delitem__',\n",
       " '__doc__',\n",
       " '__eq__',\n",
       " '__format__',\n",
       " '__ge__',\n",
       " '__getattribute__',\n",
       " '__getitem__',\n",
       " '__gt__',\n",
       " '__hash__',\n",
       " '__init__',\n",
       " '__iter__',\n",
       " '__le__',\n",
       " '__len__',\n",
       " '__lt__',\n",
       " '__ne__',\n",
       " '__new__',\n",
       " '__reduce__',\n",
       " '__reduce_ex__',\n",
       " '__repr__',\n",
       " '__setattr__',\n",
       " '__setitem__',\n",
       " '__sizeof__',\n",
       " '__str__',\n",
       " '__subclasshook__',\n",
       " 'clear',\n",
       " 'copy',\n",
       " 'fromkeys',\n",
       " 'get',\n",
       " 'has_key',\n",
       " 'items',\n",
       " 'iteritems',\n",
       " 'iterkeys',\n",
       " 'itervalues',\n",
       " 'keys',\n",
       " 'pop',\n",
       " 'popitem',\n",
       " 'setdefault',\n",
       " 'update',\n",
       " 'values',\n",
       " 'viewitems',\n",
       " 'viewkeys',\n",
       " 'viewvalues']"
      ]
     },
     "execution_count": 17,
     "metadata": {},
     "output_type": "execute_result"
    }
   ],
   "source": [
    "dir(city_temperature)"
   ]
  },
  {
   "cell_type": "markdown",
   "metadata": {},
   "source": [
    "이중에서 `pop`와 `has_key`에 대해서는 기본적으로 알고 있는 것이 좋다."
   ]
  },
  {
   "cell_type": "markdown",
   "metadata": {},
   "source": [
    "`pop()` 메소드는 키에 해당하는 항목을 삭제한다."
   ]
  },
  {
   "cell_type": "code",
   "execution_count": 18,
   "metadata": {},
   "outputs": [
    {
     "name": "stdout",
     "output_type": "stream",
     "text": [
      "{'Jeju': 25, 'Pyongtaek': 22}\n"
     ]
    }
   ],
   "source": [
    "city_temperature.pop(\"Suwon\")\n",
    "print(city_temperature)"
   ]
  },
  {
   "cell_type": "markdown",
   "metadata": {},
   "source": [
    "`has_key()` 메소드는 특정 키의 존재 여부를 확인해준다."
   ]
  },
  {
   "cell_type": "code",
   "execution_count": 19,
   "metadata": {},
   "outputs": [
    {
     "data": {
      "text/plain": [
       "False"
      ]
     },
     "execution_count": 19,
     "metadata": {},
     "output_type": "execute_result"
    }
   ],
   "source": [
    "city_temperature.has_key(\"Suwon\")"
   ]
  },
  {
   "cell_type": "code",
   "execution_count": 20,
   "metadata": {},
   "outputs": [
    {
     "data": {
      "text/plain": [
       "True"
      ]
     },
     "execution_count": 20,
     "metadata": {},
     "output_type": "execute_result"
    }
   ],
   "source": [
    "city_temperature.has_key(\"Jeju\")"
   ]
  },
  {
   "cell_type": "markdown",
   "metadata": {
    "collapsed": true
   },
   "source": [
    "### 선수이름과 기록 연동하기"
   ]
  },
  {
   "cell_type": "markdown",
   "metadata": {
    "collapsed": true
   },
   "source": [
    "이제 선수이름과 기록을 연동하여 기록순으로 정렬하는 방법을 다루고자 하며, \n",
    "이를 위해 사전 자료형을 활용한다.\n",
    "\n",
    "방식은 앞서 언급한 아래의 코드를 약간 수정하면 된다."
   ]
  },
  {
   "cell_type": "code",
   "execution_count": 21,
   "metadata": {},
   "outputs": [
    {
     "name": "stdout",
     "output_type": "stream",
     "text": [
      "20.32 : player2\n",
      "22.97 : player4\n",
      "21.81 : player3\n",
      "22.16 : player8\n",
      "23.29 : player5\n",
      "21.20 : player7\n",
      "22.09 : player6\n",
      "21.09 : player1\n"
     ]
    }
   ],
   "source": [
    "from __future__ import print_function\n",
    "\n",
    "record_f = open(\"Sample_Data/Swim_Records/record_list.txt\", 'r')\n",
    "record = record_f.read().decode('utf8').split('\\n')\n",
    "\n",
    "record_dict = {}\n",
    "\n",
    "for line in record:\n",
    "    (player, p_record) = line.split()\n",
    "    record_dict[p_record] = player\n",
    "\n",
    "record_f.close()\n",
    "\n",
    "for item_key in record_dict:\n",
    "    print(item_key, \":\", record_dict[item_key])"
   ]
  },
  {
   "cell_type": "markdown",
   "metadata": {},
   "source": [
    "이제 `record_dict`를 기록 기준으로 오름차순으로 정렬하면 된다.\n",
    "하지만 사전 자료형에는 `sort()` 메소드가 없다.\n",
    "\n",
    "대신에 `sorted()` 함수를 적용할 수 있다.\n",
    "즉, `sorted()` 함수를 이용하여 기록을 정렬한 후에 그 순서대로 키값을 읽으면 된다."
   ]
  },
  {
   "cell_type": "code",
   "execution_count": 22,
   "metadata": {},
   "outputs": [
    {
     "data": {
      "text/plain": [
       "[u'20.32',\n",
       " u'21.09',\n",
       " u'21.20',\n",
       " u'21.81',\n",
       " u'22.09',\n",
       " u'22.16',\n",
       " u'22.97',\n",
       " u'23.29']"
      ]
     },
     "execution_count": 22,
     "metadata": {},
     "output_type": "execute_result"
    }
   ],
   "source": [
    "sorted(record_dict.keys())"
   ]
  },
  {
   "cell_type": "code",
   "execution_count": 23,
   "metadata": {},
   "outputs": [
    {
     "name": "stdout",
     "output_type": "stream",
     "text": [
      "20.32 player2\n",
      "21.09 player1\n",
      "21.20 player7\n",
      "21.81 player3\n",
      "22.09 player6\n",
      "22.16 player8\n",
      "22.97 player4\n",
      "23.29 player5\n"
     ]
    }
   ],
   "source": [
    "for each_record in sorted(record_dict.keys()):\n",
    "    print(each_record, record_dict[each_record])"
   ]
  },
  {
   "cell_type": "markdown",
   "metadata": {},
   "source": [
    "이제 코드를 정리하면 다음과 같다."
   ]
  },
  {
   "cell_type": "code",
   "execution_count": 24,
   "metadata": {},
   "outputs": [
    {
     "name": "stdout",
     "output_type": "stream",
     "text": [
      "1등 player2 20.32\n",
      "2등 player1 21.09\n",
      "3등 player7 21.20\n",
      "4등 player3 21.81\n",
      "5등 player6 22.09\n",
      "6등 player8 22.16\n",
      "7등 player4 22.97\n",
      "8등 player5 23.29\n"
     ]
    }
   ],
   "source": [
    "from __future__ import print_function\n",
    "\n",
    "record_f = open(\"Sample_Data/Swim_Records/record_list.txt\", 'r')\n",
    "record = record_f.read().decode('utf8').split('\\n')\n",
    "\n",
    "record_dict = {}\n",
    "\n",
    "for line in record:\n",
    "    (player, p_record) = line.split()\n",
    "    record_dict[p_record] = player\n",
    "\n",
    "record_f.close()\n",
    "\n",
    "ranking = 1\n",
    "for each_record in sorted(record_dict.keys()):\n",
    "    print(str(ranking) + \"등\", record_dict[each_record], each_record)\n",
    "    ranking += 1"
   ]
  },
  {
   "cell_type": "markdown",
   "metadata": {},
   "source": [
    "### 연습\n",
    "\n",
    "위 코드를 수정하여 3등까지만 출력되도록 하라.\n",
    "\n",
    "힌트: `break` 활용"
   ]
  },
  {
   "cell_type": "markdown",
   "metadata": {},
   "source": [
    "견본답안 1: `sorted()` 함수의 활용에 주의할 것. "
   ]
  },
  {
   "cell_type": "code",
   "execution_count": 25,
   "metadata": {},
   "outputs": [
    {
     "name": "stdout",
     "output_type": "stream",
     "text": [
      "1등 player2 20.32\n",
      "2등 player1 21.09\n",
      "3등 player7 21.20\n"
     ]
    }
   ],
   "source": [
    "from __future__ import print_function\n",
    "\n",
    "record_f = open(\"Sample_Data/Swim_Records/record_list.txt\", 'r')\n",
    "record = record_f.read().decode('utf8').split('\\n')\n",
    "\n",
    "record_dict = {}\n",
    "\n",
    "for line in record:\n",
    "    (player, p_record) = line.split()\n",
    "    record_dict[p_record] = player\n",
    "\n",
    "record_f.close()\n",
    "\n",
    "ranking = 1\n",
    "for each_record in sorted(record_dict.keys()):\n",
    "    print(str(ranking) + \"등\", record_dict[each_record], each_record)\n",
    "    if ranking < 3:\n",
    "        ranking += 1\n",
    "    else:\n",
    "        break"
   ]
  },
  {
   "cell_type": "markdown",
   "metadata": {},
   "source": [
    "**주의:** `break` 명령어가 실행되는 순간 현재 실행되고 있는 반복문이 멈추고 다음 과정으로 넘어간다."
   ]
  },
  {
   "cell_type": "markdown",
   "metadata": {},
   "source": [
    "견본답안 2: 아래와 같이 `range()` 함수를 활용할 수도 있다."
   ]
  },
  {
   "cell_type": "code",
   "execution_count": 1,
   "metadata": {},
   "outputs": [
    {
     "name": "stdout",
     "output_type": "stream",
     "text": [
      "1등 player2 20.32\n",
      "2등 player1 21.09\n",
      "3등 player7 21.20\n"
     ]
    }
   ],
   "source": [
    "from __future__ import print_function\n",
    "\n",
    "record_f = open(\"Sample_Data/Swim_Records/record_list.txt\", 'r')\n",
    "record = record_f.read().decode('utf8').split('\\n')\n",
    "\n",
    "record_dict = {}\n",
    "\n",
    "for line in record:\n",
    "    (player, p_record) = line.split()\n",
    "    record_dict[p_record] = player\n",
    "\n",
    "record_f.close()\n",
    "\n",
    "record_list = record_dict.keys()\n",
    "record_list.sort()\n",
    "\n",
    "for i in range(3):\n",
    "    item = record_list[i]\n",
    "    print(str(i+1) + \"등\", record_dict[item], item)"
   ]
  }
 ],
 "metadata": {
  "kernelspec": {
   "display_name": "Python 3",
   "language": "python",
   "name": "python3"
  },
  "language_info": {
   "codemirror_mode": {
    "name": "ipython",
    "version": 3
   },
   "file_extension": ".py",
   "mimetype": "text/x-python",
   "name": "python",
   "nbconvert_exporter": "python",
   "pygments_lexer": "ipython3",
   "version": "3.6.3"
  }
 },
 "nbformat": 4,
 "nbformat_minor": 2
}
