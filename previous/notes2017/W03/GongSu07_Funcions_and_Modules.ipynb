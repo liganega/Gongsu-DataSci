{
 "cells": [
  {
   "cell_type": "markdown",
   "metadata": {},
   "source": [
    "# 함수와 모듈 알아보기"
   ]
  },
  {
   "cell_type": "markdown",
   "metadata": {},
   "source": [
    "함수와 모듈을 이미 사용해 보았다.\n",
    "이번 장에서 좀 더 자세히 함수와 모듈의 활용을 알아 본다."
   ]
  },
  {
   "cell_type": "markdown",
   "metadata": {},
   "source": [
    "## 오늘의 주요 예제\n",
    "\n",
    "쇼핑할 항목을 담고 있는 `shopping_list.txt` 파일이 있을 때,\n",
    "쇼핑할 때 필요한 비용을 계산하는 함수 구현하기.\n",
    "\n",
    "예를 들어, 쇼핑 목록이 아래와 같을 때, 6,500원의 비용이 필요하다는 것을 계산해 주는 함수를 구현하고자 한다.\n",
    "```\n",
    "항목    개수  금액\n",
    "Bread  1    3000\n",
    "Tomato 6    2000\n",
    "Cola   1    1500\n",
    "```"
   ]
  },
  {
   "cell_type": "markdown",
   "metadata": {},
   "source": [
    "아래 한글을 사용하는 경우 아래 그림과 같은 방식으로 비용을 자동으로 계산할 수 있다."
   ]
  },
  {
   "cell_type": "markdown",
   "metadata": {},
   "source": [
    "<p>\n",
    "<table cellspacing=\"20\">\n",
    "\n",
    "<tr>\n",
    "<td>\n",
    "<img src=\"../../images/hwp.png\" style=\"width:400\">\n",
    "</td>\n",
    "</tr>\n",
    "<tr>\n",
    "<td>\n",
    "아래한글의 세로합계 자동계산\n",
    "</td>\n",
    "</tr>\n",
    "\n",
    "\n",
    "</table>\n",
    "</p>"
   ]
  },
  {
   "cell_type": "markdown",
   "metadata": {},
   "source": [
    "여기서는 파이썬을 이용하여 금액에 대한 정보를 추출하여 활용하는 방식을 구현하고자 한다."
   ]
  },
  {
   "cell_type": "markdown",
   "metadata": {},
   "source": [
    "#### 참고사항\n",
    "\n",
    "'txt'라는 확장자를 가진 파일을 순수한 텍스트 파일이라 부른다. \n",
    "반면에 아래한글 파일, 워드 파일, 엑셀 파일 등은 순수한 텍스트 파일이 아니다. \n",
    "\n",
    "위 그림에서 볼 수 있듯이 아래한글 파일은 표, 그림 등을 다룰 뿐만 아니라, 수식처리 및 계산 등을 동시에 다룰 수 있다.\n",
    "반면에 순수한 텍스트 파일은 글자를 보여주는 것 이외에는 어떤 기능도 가지고 있지 않는다.\n",
    "\n",
    "데이터를 저장하는 경우 보통 순수한 텍스트 파일로 저장한다.\n",
    "이전 시간에 다룬 웹 상의 정보들도 기본적으로 순수한 텍스트 파일이다.\n",
    "순수한 텍스트 파일에서 정보를 구하는 여러 방식이 알려져 있으며 오늘 그 중에 한 가지를 배우고자 한다."
   ]
  },
  {
   "cell_type": "markdown",
   "metadata": {},
   "source": [
    "## 함수"
   ]
  },
  {
   "cell_type": "markdown",
   "metadata": {},
   "source": [
    "### 함수 정의하기"
   ]
  },
  {
   "cell_type": "markdown",
   "metadata": {},
   "source": [
    "* 함수를 정의하려면 `def`라는 키워드를 이용하며, 아래 형식을 따른다.\n",
    "```\n",
    "def 함수이름(인자1,..., 인자n):\n",
    "      함수본체\n",
    "      return 리턴값\n",
    "```   \n",
    "\n",
    "__주의사항:__\n",
    "* 콜론(`:`)을 항상 사용해야 함에 주의할 것.\n",
    "* 함수의 본체(body)는 들여쓰기를 해야한다. \n",
    "* 들여쓰기는 선택이 아닌 의무사항이다. "
   ]
  },
  {
   "cell_type": "markdown",
   "metadata": {},
   "source": [
    "예를 들어, 인자 두 개를 입력 받아 합을 리턴하는 함수인 `mysum` 함수를 다음과 \n",
    "같이 정의한다. \n",
    "함수의 이름은 임의로 정할 수 있지만 함수의 기능에 맞추어 정해야 한다."
   ]
  },
  {
   "cell_type": "code",
   "execution_count": 1,
   "metadata": {
    "collapsed": true
   },
   "outputs": [],
   "source": [
    "def mysum(a, b):\n",
    "    return a + b"
   ]
  },
  {
   "cell_type": "markdown",
   "metadata": {},
   "source": [
    "### 문서화 문자열(docstring) 활용"
   ]
  },
  {
   "cell_type": "markdown",
   "metadata": {},
   "source": [
    "* 프로그래밍 코드를 저장한 파일에는 코드 이외에 코드와 관련된 주석을 적절하게 포함하고 있어야 한다. 이를 \"문서화\"라 한다. \n",
    "\n",
    "* 문서화는 코드 이상으로 중요하다. \n",
    "    문서화가 제대로 되어있지 않은 경우 코드 개발 및 관리를 매우 어렵게 만든다. \n",
    "\n",
    "* 문서화의 기본은 함수에 주석을 추가하는 것이다. \n",
    "    함수정의에 사용되는 주석을 \"docstring(문서화 문자열)\"이라 부른다. \n",
    "\n",
    "* 함수에 주석을 달아주면 `help` 함수를 이용하여 해당 함수의 역할 및 사용법을 확인할 수 있다."
   ]
  },
  {
   "cell_type": "markdown",
   "metadata": {},
   "source": [
    "#### 예제\n",
    "\n",
    "입력값의 절대값을 리턴하는 함수인 `abs` 함수에 대한 정보를 확인하기 위해\n",
    "```\n",
    "help(\"abs\")\n",
    "```\n",
    "를 실행해 보자."
   ]
  },
  {
   "cell_type": "code",
   "execution_count": 2,
   "metadata": {},
   "outputs": [
    {
     "data": {
      "text/plain": [
       "3.2"
      ]
     },
     "execution_count": 2,
     "metadata": {},
     "output_type": "execute_result"
    }
   ],
   "source": [
    "abs(-3.2)"
   ]
  },
  {
   "cell_type": "code",
   "execution_count": 3,
   "metadata": {},
   "outputs": [
    {
     "name": "stdout",
     "output_type": "stream",
     "text": [
      "Help on built-in function abs in module __builtin__:\n",
      "\n",
      "abs(...)\n",
      "    abs(number) -> number\n",
      "    \n",
      "    Return the absolute value of the argument.\n",
      "\n"
     ]
    }
   ],
   "source": [
    "help(\"abs\")"
   ]
  },
  {
   "cell_type": "markdown",
   "metadata": {},
   "source": [
    "보이는 내용을 설명하면 다음과 같다.\n",
    "\n",
    "* 1번 줄:  abs는 `__builtin__` 이란 모듈에 정의된 내장 함수이다. \n",
    "\n",
    "* 2번~3번 줄: abs(숫자) 형식으로 실행하면 어떤 숫자를 리턴한다.\n",
    "    즉, 입력값과 리턴값의 자료형을 설명하고 있다.\n",
    "    \n",
    "* 4번 줄: 인자의 절대값을 리턴한다.\n",
    "    즉, 어떤 값을 리턴하는지 설명한다."
   ]
  },
  {
   "cell_type": "markdown",
   "metadata": {},
   "source": [
    "#### 예제\n",
    "\n",
    "이제 앞서 정의한 `mysum` 함수에 문서화 문자열(docstring)을 추가해 보자."
   ]
  },
  {
   "cell_type": "code",
   "execution_count": 4,
   "metadata": {
    "collapsed": true
   },
   "outputs": [],
   "source": [
    "def mysum(a, b):\n",
    "    \"\"\"\n",
    "    내가 정의한 덧셈이다.\n",
    "    인자 a와 b에 각각 두 숫자를 입력받아 합을 되돌려준다.\n",
    "    \"\"\"\n",
    "    return a + b"
   ]
  },
  {
   "cell_type": "markdown",
   "metadata": {},
   "source": [
    "`mysum` 함수에 대해 알아보자."
   ]
  },
  {
   "cell_type": "code",
   "execution_count": 5,
   "metadata": {},
   "outputs": [
    {
     "name": "stdout",
     "output_type": "stream",
     "text": [
      "Help on function mysum in module __main__:\n",
      "\n",
      "mysum(a, b)\n",
      "    내가 정의한 덧셈이다.\n",
      "    인자 a와 b에 각각 두 숫자를 입력받아 합을 되돌려준다.\n",
      "\n"
     ]
    }
   ],
   "source": [
    "help(mysum)"
   ]
  },
  {
   "cell_type": "markdown",
   "metadata": {},
   "source": [
    "`mysum` 함수를 정의할 때 추가한 문서화 문자열이 그대로 출력됨을 확인할 수 있다.\n",
    "이와같이 문서화 문자열을 잘 활용하면 좀 더 효율적인 코딩을 할 수 있게 된다."
   ]
  },
  {
   "cell_type": "markdown",
   "metadata": {},
   "source": [
    "### 함수 호출하기"
   ]
  },
  {
   "cell_type": "markdown",
   "metadata": {},
   "source": [
    "함수를 정의한 후에 사용하려면 __호출__해야 한다. \n",
    "\n",
    "__함수를 호출한다__는 말은 필요한 만큼의 값을 인자로 사용하여 함수를 실행한다는 의미이다.\n",
    "즉, 함수 호출은 아래 모양의 코드를 실행하는 것이다.\n",
    "```\n",
    "함수이름(인자1,..., 인자n)\n",
    "```"
   ]
  },
  {
   "cell_type": "markdown",
   "metadata": {},
   "source": [
    "#### 예제\n",
    "\n",
    "2와 3을 더하려면 `mysum` 함수를 아래와 같은 모양으로 실행하면 된다.\n",
    "```\n",
    "mysum(2, 3)\n",
    "```\n",
    "\n",
    "물론 변수를 인자로 사용할 수도 있으며, 리턴값을 다른 변수에 저장할 수도 있다.\n",
    "다음 예제를 참조하라."
   ]
  },
  {
   "cell_type": "code",
   "execution_count": 6,
   "metadata": {
    "collapsed": true
   },
   "outputs": [],
   "source": [
    "x = 2\n",
    "y = 3\n",
    "z = mysum(x,y)"
   ]
  },
  {
   "cell_type": "code",
   "execution_count": 7,
   "metadata": {},
   "outputs": [
    {
     "name": "stdout",
     "output_type": "stream",
     "text": [
      "5\n"
     ]
    }
   ],
   "source": [
    "print(z)"
   ]
  },
  {
   "cell_type": "markdown",
   "metadata": {},
   "source": [
    "#### 주의\n",
    "\n",
    "파이썬에는 모든 함수들의 리턴값이 존재한다. \n",
    "하지만 경우에 따라서는 `return` 값이 없는 것처럼 보이는 함수도 존재한다.\n",
    "대표적으로 `print` 함수가 그러하다.\n",
    "\n",
    "파이썬 2의 경우, `print()` 함수의 리턴값을 저장하는 것조차 허용되지 않는다."
   ]
  },
  {
   "cell_type": "code",
   "execution_count": 8,
   "metadata": {},
   "outputs": [
    {
     "ename": "SyntaxError",
     "evalue": "invalid syntax (<ipython-input-8-83eb0e56b667>, line 1)",
     "output_type": "error",
     "traceback": [
      "\u001b[0;36m  File \u001b[0;32m\"<ipython-input-8-83eb0e56b667>\"\u001b[0;36m, line \u001b[0;32m1\u001b[0m\n\u001b[0;31m    no_return = print(3)\u001b[0m\n\u001b[0m                    ^\u001b[0m\n\u001b[0;31mSyntaxError\u001b[0m\u001b[0;31m:\u001b[0m invalid syntax\n"
     ]
    }
   ],
   "source": [
    "no_return = print(3)"
   ]
  },
  {
   "cell_type": "markdown",
   "metadata": {},
   "source": [
    "파이썬 3의 경우, `print()` 함수의 리턴값은 `None` 이다. "
   ]
  },
  {
   "cell_type": "code",
   "execution_count": 9,
   "metadata": {},
   "outputs": [
    {
     "name": "stdout",
     "output_type": "stream",
     "text": [
      "3\n"
     ]
    }
   ],
   "source": [
    "from __future__ import print_function\n",
    "\n",
    "no_return = print(3)"
   ]
  },
  {
   "cell_type": "code",
   "execution_count": 10,
   "metadata": {},
   "outputs": [
    {
     "name": "stdout",
     "output_type": "stream",
     "text": [
      "None\n"
     ]
    }
   ],
   "source": [
    "print(no_return)"
   ]
  },
  {
   "cell_type": "code",
   "execution_count": 11,
   "metadata": {},
   "outputs": [
    {
     "data": {
      "text/plain": [
       "NoneType"
      ]
     },
     "execution_count": 11,
     "metadata": {},
     "output_type": "execute_result"
    }
   ],
   "source": [
    "type(no_return)"
   ]
  },
  {
   "cell_type": "markdown",
   "metadata": {},
   "source": [
    "#### 주의\n",
    "\n",
    "`NoneType`은 C 언어와 자바 언어에서 리턴값이 명시되지 않는 함수들을 정의할 때 사용하는 키워드인\n",
    "`void` 에 해당한다. 아래 자바 예제 참조\n",
    "\n",
    "```java\n",
    "public void test(int n) {\n",
    "    if (n % 2 == 0) {\n",
    "        System.out.println(\"짝수\")\n",
    "        return; \n",
    "    }\n",
    "    else if (n % 2 == 0) {\n",
    "        System.out.println(\"홀수\")\n",
    "        return;\n",
    "    }\n",
    "}\n",
    "```"
   ]
  },
  {
   "cell_type": "markdown",
   "metadata": {},
   "source": [
    "#### 연습\n",
    "\n",
    "다음 두 개의 함수를 비교해 보자."
   ]
  },
  {
   "cell_type": "code",
   "execution_count": 12,
   "metadata": {
    "collapsed": true
   },
   "outputs": [],
   "source": [
    "def print42():\n",
    "    print(42)\n",
    "    \n",
    "def return42():\n",
    "    return 42"
   ]
  },
  {
   "cell_type": "code",
   "execution_count": 13,
   "metadata": {
    "collapsed": true
   },
   "outputs": [],
   "source": [
    "b = return42()"
   ]
  },
  {
   "cell_type": "code",
   "execution_count": 14,
   "metadata": {},
   "outputs": [
    {
     "data": {
      "text/plain": [
       "42"
      ]
     },
     "execution_count": 14,
     "metadata": {},
     "output_type": "execute_result"
    }
   ],
   "source": [
    "b"
   ]
  },
  {
   "cell_type": "code",
   "execution_count": 15,
   "metadata": {},
   "outputs": [
    {
     "name": "stdout",
     "output_type": "stream",
     "text": [
      "42\n"
     ]
    }
   ],
   "source": [
    "a = print42()"
   ]
  },
  {
   "cell_type": "code",
   "execution_count": 16,
   "metadata": {},
   "outputs": [
    {
     "name": "stdout",
     "output_type": "stream",
     "text": [
      "None\n"
     ]
    }
   ],
   "source": [
    "print(a)"
   ]
  },
  {
   "cell_type": "markdown",
   "metadata": {},
   "source": [
    "## 모듈(Module)"
   ]
  },
  {
   "cell_type": "markdown",
   "metadata": {},
   "source": [
    "모듈은 우선 단순한 파이썬 코드를 담고 있는, 확장자가 `py`인 파일이다. \n",
    "그리고 하나의 모듈에는 관련된 일을 처리할 때 사용하는 여러 프로그램 코드들이 포함되어 있다. \n",
    "주로 함수와 클래스 등이 포함된다.\n",
    "\n",
    "예를 들어, `math` 모듈은 `sin`, `cos`, `log` 등 수학에서 매우 중요한 역할을 하는 함수들이 정의되어 있다. \n",
    "그리고 `time` 모듈에는 `sleep` 함수 처럼 시간의 활용과 관련된 다양한 함수가 포함되어 있다."
   ]
  },
  {
   "cell_type": "markdown",
   "metadata": {},
   "source": [
    "### 모듈 사용법"
   ]
  },
  {
   "cell_type": "markdown",
   "metadata": {},
   "source": [
    "특정 모듈에 포함된 코드(예를 들어, 함수 또는 클래스)를 사용하려면 먼저 해당 모듈을 `import` 해야 한다. \n",
    "\n",
    "예를 들어, `sin(pi/2)` 값을 구하기 위해서는 먼저 `math` 모듈을 임포트해야 한다. \n",
    "`sin` 함수의 정의와 원주율 `pi` 값의 정의 모두 `math` 모듈에 포함되어 있다.\n",
    "\n",
    "**주의:** 모듈을 임포트하는 여러 방식이 존재한다."
   ]
  },
  {
   "cell_type": "markdown",
   "metadata": {},
   "source": [
    "#### 모듈 임포트 방법 1"
   ]
  },
  {
   "cell_type": "code",
   "execution_count": 17,
   "metadata": {
    "collapsed": true
   },
   "outputs": [],
   "source": [
    "import math"
   ]
  },
  {
   "cell_type": "code",
   "execution_count": 18,
   "metadata": {},
   "outputs": [
    {
     "data": {
      "text/plain": [
       "3.141592653589793"
      ]
     },
     "execution_count": 18,
     "metadata": {},
     "output_type": "execute_result"
    }
   ],
   "source": [
    "math.pi"
   ]
  },
  {
   "cell_type": "code",
   "execution_count": 19,
   "metadata": {},
   "outputs": [
    {
     "data": {
      "text/plain": [
       "1.0"
      ]
     },
     "execution_count": 19,
     "metadata": {},
     "output_type": "execute_result"
    }
   ],
   "source": [
    "math.sin(math.pi / 2)"
   ]
  },
  {
   "cell_type": "markdown",
   "metadata": {},
   "source": [
    "#### 모듈 임포트 방법 2\n",
    "\n",
    "모듈의 이름이 길 경우 별칭을 줄 수 있다."
   ]
  },
  {
   "cell_type": "code",
   "execution_count": 20,
   "metadata": {
    "collapsed": true
   },
   "outputs": [],
   "source": [
    "import math as m"
   ]
  },
  {
   "cell_type": "code",
   "execution_count": 21,
   "metadata": {},
   "outputs": [
    {
     "data": {
      "text/plain": [
       "3.141592653589793"
      ]
     },
     "execution_count": 21,
     "metadata": {},
     "output_type": "execute_result"
    }
   ],
   "source": [
    "m.pi"
   ]
  },
  {
   "cell_type": "code",
   "execution_count": 22,
   "metadata": {},
   "outputs": [
    {
     "data": {
      "text/plain": [
       "1.0"
      ]
     },
     "execution_count": 22,
     "metadata": {},
     "output_type": "execute_result"
    }
   ],
   "source": [
    "m.sin(m.pi / 2)"
   ]
  },
  {
   "cell_type": "markdown",
   "metadata": {},
   "source": [
    "#### 모듈 임포트 방법 3"
   ]
  },
  {
   "cell_type": "markdown",
   "metadata": {},
   "source": [
    "모듈에서 원하는 코드만 가져올 수 있다. \n",
    "이 경우 모듈 이름을 추가로 붙일 필요가 없어진다.\n",
    "\n",
    "이 방식은 특정 코드를 자주 활용해야 할 경우 추천한다."
   ]
  },
  {
   "cell_type": "code",
   "execution_count": 23,
   "metadata": {
    "collapsed": true
   },
   "outputs": [],
   "source": [
    "from math import sin, pi"
   ]
  },
  {
   "cell_type": "code",
   "execution_count": 24,
   "metadata": {},
   "outputs": [
    {
     "data": {
      "text/plain": [
       "3.141592653589793"
      ]
     },
     "execution_count": 24,
     "metadata": {},
     "output_type": "execute_result"
    }
   ],
   "source": [
    "pi"
   ]
  },
  {
   "cell_type": "code",
   "execution_count": 25,
   "metadata": {},
   "outputs": [
    {
     "data": {
      "text/plain": [
       "1.0"
      ]
     },
     "execution_count": 25,
     "metadata": {},
     "output_type": "execute_result"
    }
   ],
   "source": [
    "sin(pi/2)"
   ]
  },
  {
   "cell_type": "markdown",
   "metadata": {},
   "source": [
    "이 경우 `math` 모듈에 포함된 다른 코드는 사용할 수 없다."
   ]
  },
  {
   "cell_type": "code",
   "execution_count": 26,
   "metadata": {},
   "outputs": [
    {
     "data": {
      "text/plain": [
       "-0.8390715290764524"
      ]
     },
     "execution_count": 26,
     "metadata": {},
     "output_type": "execute_result"
    }
   ],
   "source": [
    "math.cos(10)"
   ]
  },
  {
   "cell_type": "markdown",
   "metadata": {},
   "source": [
    "#### 모듈 임포트 방법 4\n",
    "\n",
    "특정 모듈에 포함된 코드 전체를 함꺼번에 임포트할 수도 있다.\n",
    "다만 일반적으로 추천되는 방식이 아니다.\n",
    "\n",
    "아래와 같이 `math` 모듈을 임포트 하면 그 안에 포함된 모든 코드를 모듈 이름을 \n",
    "언급할 필요 없이 호출할 수 있다."
   ]
  },
  {
   "cell_type": "code",
   "execution_count": 27,
   "metadata": {
    "collapsed": true
   },
   "outputs": [],
   "source": [
    "from math import *"
   ]
  },
  {
   "cell_type": "code",
   "execution_count": 28,
   "metadata": {},
   "outputs": [
    {
     "data": {
      "text/plain": [
       "2.718281828459045"
      ]
     },
     "execution_count": 28,
     "metadata": {},
     "output_type": "execute_result"
    }
   ],
   "source": [
    "exp(1)"
   ]
  },
  {
   "cell_type": "markdown",
   "metadata": {},
   "source": [
    "#### `math` 모듈 내용 확인하기\n",
    "\n",
    "특정 모듈에 포함된 함수 등을 확인하는 방법이 있다.\n",
    "```\n",
    "help(\"모듈이름\")\n",
    "```\n",
    "\n",
    "예를 들어, 공업수학 강의에서 `math` 모듈은 매우 중요하다.\n",
    "따라서 아래와 같이 `math` 모듈에 포함되어 있는 함수들을 확인할 수 있다.\n",
    "\n",
    "**주의:** 파이썬 3의 경우 모듈이름에 인용부호를 사용하지 않아도 된다."
   ]
  },
  {
   "cell_type": "code",
   "execution_count": 29,
   "metadata": {},
   "outputs": [
    {
     "name": "stdout",
     "output_type": "stream",
     "text": [
      "Help on module math:\n",
      "\n",
      "NAME\n",
      "    math\n",
      "\n",
      "FILE\n",
      "    /Users/gslee/anaconda/lib/python2.7/lib-dynload/math.so\n",
      "\n",
      "MODULE DOCS\n",
      "    https://docs.python.org/library/math\n",
      "\n",
      "DESCRIPTION\n",
      "    This module is always available.  It provides access to the\n",
      "    mathematical functions defined by the C standard.\n",
      "\n",
      "FUNCTIONS\n",
      "    acos(...)\n",
      "        acos(x)\n",
      "        \n",
      "        Return the arc cosine (measured in radians) of x.\n",
      "    \n",
      "    acosh(...)\n",
      "        acosh(x)\n",
      "        \n",
      "        Return the inverse hyperbolic cosine of x.\n",
      "    \n",
      "    asin(...)\n",
      "        asin(x)\n",
      "        \n",
      "        Return the arc sine (measured in radians) of x.\n",
      "    \n",
      "    asinh(...)\n",
      "        asinh(x)\n",
      "        \n",
      "        Return the inverse hyperbolic sine of x.\n",
      "    \n",
      "    atan(...)\n",
      "        atan(x)\n",
      "        \n",
      "        Return the arc tangent (measured in radians) of x.\n",
      "    \n",
      "    atan2(...)\n",
      "        atan2(y, x)\n",
      "        \n",
      "        Return the arc tangent (measured in radians) of y/x.\n",
      "        Unlike atan(y/x), the signs of both x and y are considered.\n",
      "    \n",
      "    atanh(...)\n",
      "        atanh(x)\n",
      "        \n",
      "        Return the inverse hyperbolic tangent of x.\n",
      "    \n",
      "    ceil(...)\n",
      "        ceil(x)\n",
      "        \n",
      "        Return the ceiling of x as a float.\n",
      "        This is the smallest integral value >= x.\n",
      "    \n",
      "    copysign(...)\n",
      "        copysign(x, y)\n",
      "        \n",
      "        Return x with the sign of y.\n",
      "    \n",
      "    cos(...)\n",
      "        cos(x)\n",
      "        \n",
      "        Return the cosine of x (measured in radians).\n",
      "    \n",
      "    cosh(...)\n",
      "        cosh(x)\n",
      "        \n",
      "        Return the hyperbolic cosine of x.\n",
      "    \n",
      "    degrees(...)\n",
      "        degrees(x)\n",
      "        \n",
      "        Convert angle x from radians to degrees.\n",
      "    \n",
      "    erf(...)\n",
      "        erf(x)\n",
      "        \n",
      "        Error function at x.\n",
      "    \n",
      "    erfc(...)\n",
      "        erfc(x)\n",
      "        \n",
      "        Complementary error function at x.\n",
      "    \n",
      "    exp(...)\n",
      "        exp(x)\n",
      "        \n",
      "        Return e raised to the power of x.\n",
      "    \n",
      "    expm1(...)\n",
      "        expm1(x)\n",
      "        \n",
      "        Return exp(x)-1.\n",
      "        This function avoids the loss of precision involved in the direct evaluation of exp(x)-1 for small x.\n",
      "    \n",
      "    fabs(...)\n",
      "        fabs(x)\n",
      "        \n",
      "        Return the absolute value of the float x.\n",
      "    \n",
      "    factorial(...)\n",
      "        factorial(x) -> Integral\n",
      "        \n",
      "        Find x!. Raise a ValueError if x is negative or non-integral.\n",
      "    \n",
      "    floor(...)\n",
      "        floor(x)\n",
      "        \n",
      "        Return the floor of x as a float.\n",
      "        This is the largest integral value <= x.\n",
      "    \n",
      "    fmod(...)\n",
      "        fmod(x, y)\n",
      "        \n",
      "        Return fmod(x, y), according to platform C.  x % y may differ.\n",
      "    \n",
      "    frexp(...)\n",
      "        frexp(x)\n",
      "        \n",
      "        Return the mantissa and exponent of x, as pair (m, e).\n",
      "        m is a float and e is an int, such that x = m * 2.**e.\n",
      "        If x is 0, m and e are both 0.  Else 0.5 <= abs(m) < 1.0.\n",
      "    \n",
      "    fsum(...)\n",
      "        fsum(iterable)\n",
      "        \n",
      "        Return an accurate floating point sum of values in the iterable.\n",
      "        Assumes IEEE-754 floating point arithmetic.\n",
      "    \n",
      "    gamma(...)\n",
      "        gamma(x)\n",
      "        \n",
      "        Gamma function at x.\n",
      "    \n",
      "    hypot(...)\n",
      "        hypot(x, y)\n",
      "        \n",
      "        Return the Euclidean distance, sqrt(x*x + y*y).\n",
      "    \n",
      "    isinf(...)\n",
      "        isinf(x) -> bool\n",
      "        \n",
      "        Check if float x is infinite (positive or negative).\n",
      "    \n",
      "    isnan(...)\n",
      "        isnan(x) -> bool\n",
      "        \n",
      "        Check if float x is not a number (NaN).\n",
      "    \n",
      "    ldexp(...)\n",
      "        ldexp(x, i)\n",
      "        \n",
      "        Return x * (2**i).\n",
      "    \n",
      "    lgamma(...)\n",
      "        lgamma(x)\n",
      "        \n",
      "        Natural logarithm of absolute value of Gamma function at x.\n",
      "    \n",
      "    log(...)\n",
      "        log(x[, base])\n",
      "        \n",
      "        Return the logarithm of x to the given base.\n",
      "        If the base not specified, returns the natural logarithm (base e) of x.\n",
      "    \n",
      "    log10(...)\n",
      "        log10(x)\n",
      "        \n",
      "        Return the base 10 logarithm of x.\n",
      "    \n",
      "    log1p(...)\n",
      "        log1p(x)\n",
      "        \n",
      "        Return the natural logarithm of 1+x (base e).\n",
      "        The result is computed in a way which is accurate for x near zero.\n",
      "    \n",
      "    modf(...)\n",
      "        modf(x)\n",
      "        \n",
      "        Return the fractional and integer parts of x.  Both results carry the sign\n",
      "        of x and are floats.\n",
      "    \n",
      "    pow(...)\n",
      "        pow(x, y)\n",
      "        \n",
      "        Return x**y (x to the power of y).\n",
      "    \n",
      "    radians(...)\n",
      "        radians(x)\n",
      "        \n",
      "        Convert angle x from degrees to radians.\n",
      "    \n",
      "    sin(...)\n",
      "        sin(x)\n",
      "        \n",
      "        Return the sine of x (measured in radians).\n",
      "    \n",
      "    sinh(...)\n",
      "        sinh(x)\n",
      "        \n",
      "        Return the hyperbolic sine of x.\n",
      "    \n",
      "    sqrt(...)\n",
      "        sqrt(x)\n",
      "        \n",
      "        Return the square root of x.\n",
      "    \n",
      "    tan(...)\n",
      "        tan(x)\n",
      "        \n",
      "        Return the tangent of x (measured in radians).\n",
      "    \n",
      "    tanh(...)\n",
      "        tanh(x)\n",
      "        \n",
      "        Return the hyperbolic tangent of x.\n",
      "    \n",
      "    trunc(...)\n",
      "        trunc(x:Real) -> Integral\n",
      "        \n",
      "        Truncates x to the nearest Integral toward 0. Uses the __trunc__ magic method.\n",
      "\n",
      "DATA\n",
      "    e = 2.718281828459045\n",
      "    pi = 3.141592653589793\n",
      "\n",
      "\n"
     ]
    }
   ],
   "source": [
    "help(\"math\")"
   ]
  },
  {
   "cell_type": "markdown",
   "metadata": {},
   "source": [
    "#### 예제\n",
    "\n",
    "앞서 `help(\"math\")`를 이용하여 `math` 모듈에 포함되어 있는 다양한 함수와 정의를 \n",
    "확인해 보았다.\n",
    "\n",
    "이제, 예를 들어, `sqrt` 함수에 대한 정보를 보다 얻고자 한다면 앞서 언급한\n",
    "`help` 함수를 이용하면 된다."
   ]
  },
  {
   "cell_type": "code",
   "execution_count": 30,
   "metadata": {},
   "outputs": [
    {
     "name": "stdout",
     "output_type": "stream",
     "text": [
      "Help on built-in function sqrt in math:\n",
      "\n",
      "math.sqrt = sqrt(...)\n",
      "    sqrt(x)\n",
      "    \n",
      "    Return the square root of x.\n",
      "\n"
     ]
    }
   ],
   "source": [
    "help(\"math.sqrt\")"
   ]
  },
  {
   "cell_type": "markdown",
   "metadata": {},
   "source": [
    "앞서 `abs` 함수에서 살펴 보았듯이 2번줄 ~ 4번 줄 내용은 `sqrt` 함수를 호출하는 방법과\n",
    "리턴값을 설명하고 있다. (`sqrt` 함수는 입력된 값의 제곱근을 리턴한다.)"
   ]
  },
  {
   "cell_type": "markdown",
   "metadata": {},
   "source": [
    "## 연습문제"
   ]
  },
  {
   "cell_type": "markdown",
   "metadata": {},
   "source": [
    "### 연습\n",
    "\n",
    "쇼핑할 항목을 담고 있는 `shopping_list.txt` 파일이 현재 동일한 폴더에 있다고 가정하자.\n",
    "```\n",
    "Bread 1 3000\n",
    "Tomato 6 2000\n",
    "Cola 1  1500\n",
    "```\n",
    "\n",
    "이제 쇼핑 목록 파일을 인자로 넣었을 때 내용을 확인해주는 `shopping` 함수를 구현해보자."
   ]
  },
  {
   "cell_type": "markdown",
   "metadata": {},
   "source": [
    "견본답안:"
   ]
  },
  {
   "cell_type": "code",
   "execution_count": 31,
   "metadata": {
    "collapsed": true
   },
   "outputs": [],
   "source": [
    "from __future__ import print_function\n",
    "\n",
    "def shopping(shopping_file):\n",
    "    \n",
    "    file = open(shopping_file, 'r')\n",
    "    buy_list = file.read()\n",
    "    file.close()\n",
    "    return buy_list"
   ]
  },
  {
   "cell_type": "markdown",
   "metadata": {},
   "source": [
    "위 코드에서 파일 내용을 읽어드리는 부분은 다음과 같다.\n",
    "\n",
    "```python\n",
    "file = open(shopping_file, 'r')\n",
    "buy_list = file.read()\n",
    "file.close()\n",
    "```\n",
    "\n",
    "* `open` 함수는 지정된 파일 내용과 함께 파일과 관련된 많은 정보를 불러온다. \n",
    "\n",
    "    **주의:** 컴퓨터에 저장된 파일은 단순히 파일에 저장된 내용뿐만 아니라, 파일의 생성과 수정, \n",
    "    파일의 크기 등 추가 정보도 함께 포함한다.\n",
    "\n",
    "\n",
    "* 따라서, 파일의 내용만을 따로 확인하고자 한다면 `read()` 메소드를 이용해야 한다.\n",
    "\n",
    "* `close()` 메소드는 파일 내용을 읽은 후에 더 이상 파일을 필요로 하지 않을 때 사용한다. \n",
    "    그러면, 더 이상 파일 내용을 확인하지 못하게 된다.\n",
    "    \n",
    "    **주의:** `open` 함수의 리턴 자료형은 좀 특수한 자료형이며 굳이 이름을 알 필요는 없다. \n",
    "    여기서는 `read()`와 `close()` 메소드를 활용할 수 있다는 사실만 기억한다."
   ]
  },
  {
   "cell_type": "markdown",
   "metadata": {},
   "source": [
    "`shopping` 함수를 `shopping_list.txt` 파일을 인자로 사용하여\n",
    "호출해 보자."
   ]
  },
  {
   "cell_type": "code",
   "execution_count": 32,
   "metadata": {},
   "outputs": [
    {
     "name": "stdout",
     "output_type": "stream",
     "text": [
      "Bread 1 3000\n",
      "Tomato 6 2000\n",
      "Cola 1  1500\n"
     ]
    }
   ],
   "source": [
    "print(shopping(\"shopping_list.txt\"))"
   ]
  },
  {
   "cell_type": "markdown",
   "metadata": {},
   "source": [
    "리턴값의 자료형은 유니코드 문자열이다."
   ]
  },
  {
   "cell_type": "code",
   "execution_count": 33,
   "metadata": {},
   "outputs": [
    {
     "data": {
      "text/plain": [
       "str"
      ]
     },
     "execution_count": 33,
     "metadata": {},
     "output_type": "execute_result"
    }
   ],
   "source": [
    "type(shopping(\"shopping_list.txt\"))"
   ]
  },
  {
   "cell_type": "markdown",
   "metadata": {},
   "source": [
    "이제 문자열의 `split` 메소드를 활용해서, 쇼핑 목록을 리스트로 작성해보자.\n",
    "\n",
    "줄을 구분하는 기호는 `\\n`(역슬래시 + n) 이며, 이를 기준으로 `split()` 메소드를 호출하면 된다."
   ]
  },
  {
   "cell_type": "code",
   "execution_count": 34,
   "metadata": {
    "collapsed": true
   },
   "outputs": [],
   "source": [
    "buy_list = shopping(\"shopping_list.txt\").split(\"\\n\")"
   ]
  },
  {
   "cell_type": "markdown",
   "metadata": {},
   "source": [
    "`buy_list`에는 이제 각 줄의 내용을 항목으로 갖는 리스트가 할당된다.\n",
    "\n",
    "세 개의 줄이 있으므로, `buy_list`의 길이는 3이 된다.\n",
    "\n",
    "**주의:**\n",
    "\n",
    "리스트 자료형은 다음 시간에 좀 더 자세히 살펴볼 것이다.\n",
    "여기서는 자바, C 언어 등에서 배운 리스트 또는 어레이 등의 개념 정도로 이해하면 된다."
   ]
  },
  {
   "cell_type": "code",
   "execution_count": 35,
   "metadata": {},
   "outputs": [
    {
     "name": "stdout",
     "output_type": "stream",
     "text": [
      "['Bread 1 3000', 'Tomato 6 2000', 'Cola 1  1500']\n"
     ]
    }
   ],
   "source": [
    "print(buy_list)"
   ]
  },
  {
   "cell_type": "markdown",
   "metadata": {},
   "source": [
    "리스트에 포함된 각각의 항목에 대해 `for` 반복문을 실행할 수 있다.\n",
    "\n",
    "아래 코드는 쇼핑 목록의 각 줄을 한 줄씩 출력한다. \n",
    "앞서 다룬 `shopping(\"shopping_list.txt\")`의 리턴값은 파일 내용 전체를 하나의 문자열로 리턴함에 주의하라."
   ]
  },
  {
   "cell_type": "code",
   "execution_count": 36,
   "metadata": {},
   "outputs": [
    {
     "name": "stdout",
     "output_type": "stream",
     "text": [
      "===\n",
      "Bread 1 3000\n",
      "===\n",
      "Tomato 6 2000\n",
      "===\n",
      "Cola 1  1500\n"
     ]
    }
   ],
   "source": [
    "for item in buy_list:\n",
    "    print(\"===\")\n",
    "    print(item)"
   ]
  },
  {
   "cell_type": "markdown",
   "metadata": {},
   "source": [
    "앞서 배운 `range` 함수와 인덱스를 활용하여 동일한 일을 수행할 수도 있다.\n",
    "\n",
    "**주의:** 숫자 3은 `buy_list`의 길이, 즉, 리스트에 포함된 항목의 개수이다."
   ]
  },
  {
   "cell_type": "code",
   "execution_count": 37,
   "metadata": {},
   "outputs": [
    {
     "name": "stdout",
     "output_type": "stream",
     "text": [
      "===\n",
      "Bread 1 3000\n",
      "===\n",
      "Tomato 6 2000\n",
      "===\n",
      "Cola 1  1500\n"
     ]
    }
   ],
   "source": [
    "for i in range(3):\n",
    "    print(\"===\")\n",
    "    print(buy_list[i])"
   ]
  },
  {
   "cell_type": "markdown",
   "metadata": {},
   "source": [
    "이제 시장을 볼 때 필요한 총 비용이 얼마인지 계산할 수 있다.\n",
    "먼저 각 물품의 비용을 확인해 볼 수 있는데, 그러려면\n",
    "각 줄이 하나의 문자열이면서 물품, 개수, 가격이 스페이스로 구분되어 있다는 정보를 활용하면 된다.\n",
    "\n",
    "즉, `split()` 메소드를 다시 한 번 활용한다."
   ]
  },
  {
   "cell_type": "code",
   "execution_count": 38,
   "metadata": {},
   "outputs": [
    {
     "name": "stdout",
     "output_type": "stream",
     "text": [
      "Bread 1 개의 가격은 3000 원 입니다.\n",
      "Tomato 6 개의 가격은 2000 원 입니다.\n",
      "Cola 1 개의 가격은 1500 원 입니다.\n"
     ]
    }
   ],
   "source": [
    "for item in buy_list:\n",
    "    each_item = item.split()\n",
    "    print(each_item[0], each_item[1], \"개의 가격은\", each_item[2], \"원 입니다.\")"
   ]
  },
  {
   "cell_type": "markdown",
   "metadata": {},
   "source": [
    "이제 총 비용을 계산할 수 있다."
   ]
  },
  {
   "cell_type": "code",
   "execution_count": 39,
   "metadata": {},
   "outputs": [
    {
     "name": "stdout",
     "output_type": "stream",
     "text": [
      "총 비용은 6500 입니다.\n"
     ]
    }
   ],
   "source": [
    "sum = 0\n",
    "\n",
    "for item in buy_list:\n",
    "    sum = sum + int(item.split()[2])\n",
    "    \n",
    "print(\"총 비용은\", sum, \"입니다.\")    "
   ]
  },
  {
   "cell_type": "markdown",
   "metadata": {},
   "source": [
    "### 연습\n",
    "\n",
    "쇼핑 목록 파일을 인자로 받았을 때 쇼핑 금액의 총합을 계산해주는 함수인 \n",
    "`amount_shopping` 함수를 구현하라.\n",
    "\n",
    "**힌트:** `shopping` 함수를 활용하라."
   ]
  },
  {
   "cell_type": "markdown",
   "metadata": {},
   "source": [
    "견본답안:"
   ]
  },
  {
   "cell_type": "code",
   "execution_count": 40,
   "metadata": {
    "collapsed": true
   },
   "outputs": [],
   "source": [
    "def shopping_amount(shopping_file):\n",
    "    buy_list = shopping(shopping_file).split('\\n')\n",
    "    \n",
    "    sum = 0\n",
    "    for item in buy_list:\n",
    "        sum = sum + int(item.split()[2])\n",
    "\n",
    "    return sum"
   ]
  },
  {
   "cell_type": "code",
   "execution_count": 41,
   "metadata": {},
   "outputs": [
    {
     "data": {
      "text/plain": [
       "6500"
      ]
     },
     "execution_count": 41,
     "metadata": {},
     "output_type": "execute_result"
    }
   ],
   "source": [
    "shopping_amount(\"shopping_list.txt\")"
   ]
  }
 ],
 "metadata": {
  "kernelspec": {
   "display_name": "Python 2",
   "language": "python",
   "name": "python2"
  },
  "language_info": {
   "codemirror_mode": {
    "name": "ipython",
    "version": 2
   },
   "file_extension": ".py",
   "mimetype": "text/x-python",
   "name": "python",
   "nbconvert_exporter": "python",
   "pygments_lexer": "ipython2",
   "version": "2.7.13"
  }
 },
 "nbformat": 4,
 "nbformat_minor": 1
}
