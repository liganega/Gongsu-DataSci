{
 "cells": [
  {
   "cell_type": "markdown",
   "metadata": {},
   "source": [
    "#  예외 처리"
   ]
  },
  {
   "cell_type": "markdown",
   "metadata": {},
   "source": [
    "프로그램 실행중에 오류(error)가 발생하면 예외(exception) 상태로 전환된다. 예외 상태로 전환되면 실행중이던 프로그램을 멈추고 발생한 오류를 알려준다. 즉, 예외는 오류를 처리하는 방식이며, C 언어에서는 존재하지 않는다.\n",
    "\n",
    "예외 처리와 관련해서 다룰 내용은 다음과 같다.\n",
    "\n",
    "* 예외의 종류 살펴보기\n",
    "* `try ... except ...` 명령어를 이용하여 예외 처리하기\n",
    "* `raise` 명령어를 이용하여 예외 발생시키기"
   ]
  },
  {
   "cell_type": "markdown",
   "metadata": {},
   "source": [
    "### 예외 종류\n",
    "\n",
    "가장 많이 발생하는 예외들을 살펴본다.\n",
    "\n",
    "    ZeroDivisionError\n",
    "    NameError\n",
    "    IOError\n",
    "    IndexError\n",
    "    NotImplementedError\n",
    "    \n",
    "등등."
   ]
  },
  {
   "cell_type": "markdown",
   "metadata": {},
   "source": [
    "#### ZeroDivisionError\n",
    "\n",
    "`0`으로 숫자를 나누려고 할 때 발생한다. "
   ]
  },
  {
   "cell_type": "code",
   "execution_count": 1,
   "metadata": {},
   "outputs": [
    {
     "ename": "ZeroDivisionError",
     "evalue": "float division by zero",
     "output_type": "error",
     "traceback": [
      "\u001b[0;31m---------------------------------------------------------------------------\u001b[0m",
      "\u001b[0;31mZeroDivisionError\u001b[0m                         Traceback (most recent call last)",
      "\u001b[0;32m<ipython-input-1-1349566cb458>\u001b[0m in \u001b[0;36m<module>\u001b[0;34m()\u001b[0m\n\u001b[0;32m----> 1\u001b[0;31m \u001b[0;36m4.5\u001b[0m \u001b[0;34m/\u001b[0m \u001b[0;36m0\u001b[0m\u001b[0;34m\u001b[0m\u001b[0m\n\u001b[0m",
      "\u001b[0;31mZeroDivisionError\u001b[0m: float division by zero"
     ]
    }
   ],
   "source": [
    "4.5 / 0"
   ]
  },
  {
   "cell_type": "markdown",
   "metadata": {},
   "source": [
    "#### NameError\n",
    "\n",
    "선언되지 않은 변수를 사용하고자 할 때 발생한다. "
   ]
  },
  {
   "cell_type": "code",
   "execution_count": 2,
   "metadata": {},
   "outputs": [
    {
     "ename": "NameError",
     "evalue": "name 'abc' is not defined",
     "output_type": "error",
     "traceback": [
      "\u001b[0;31m---------------------------------------------------------------------------\u001b[0m",
      "\u001b[0;31mNameError\u001b[0m                                 Traceback (most recent call last)",
      "\u001b[0;32m<ipython-input-2-fb8e540c9088>\u001b[0m in \u001b[0;36m<module>\u001b[0;34m()\u001b[0m\n\u001b[0;32m----> 1\u001b[0;31m \u001b[0;32mprint\u001b[0m\u001b[0;34m(\u001b[0m\u001b[0mabc\u001b[0m\u001b[0;34m)\u001b[0m\u001b[0;34m\u001b[0m\u001b[0m\n\u001b[0m",
      "\u001b[0;31mNameError\u001b[0m: name 'abc' is not defined"
     ]
    }
   ],
   "source": [
    "print(abc)"
   ]
  },
  {
   "cell_type": "markdown",
   "metadata": {},
   "source": [
    "#### IOError\n",
    "\n",
    "아직 생성되지 않은 파일에 접근할 때, 저장 공간이 부족할 때, 저장이 제대로 되지 않을 때 등등 발생한다. "
   ]
  },
  {
   "cell_type": "code",
   "execution_count": 3,
   "metadata": {},
   "outputs": [
    {
     "ename": "IOError",
     "evalue": "[Errno 2] No such file or directory: 'not_yet_defined_file.txt'",
     "output_type": "error",
     "traceback": [
      "\u001b[0;31m---------------------------------------------------------------------------\u001b[0m",
      "\u001b[0;31mIOError\u001b[0m                                   Traceback (most recent call last)",
      "\u001b[0;32m<ipython-input-3-46685f98a1fa>\u001b[0m in \u001b[0;36m<module>\u001b[0;34m()\u001b[0m\n\u001b[0;32m----> 1\u001b[0;31m \u001b[0mf\u001b[0m \u001b[0;34m=\u001b[0m \u001b[0mopen\u001b[0m\u001b[0;34m(\u001b[0m\u001b[0;34m'not_yet_defined_file.txt'\u001b[0m\u001b[0;34m,\u001b[0m \u001b[0;34m'r'\u001b[0m\u001b[0;34m)\u001b[0m\u001b[0;34m\u001b[0m\u001b[0m\n\u001b[0m",
      "\u001b[0;31mIOError\u001b[0m: [Errno 2] No such file or directory: 'not_yet_defined_file.txt'"
     ]
    }
   ],
   "source": [
    "f = open('not_yet_defined_file.txt', 'r') "
   ]
  },
  {
   "cell_type": "markdown",
   "metadata": {},
   "source": [
    "#### IndexError\n",
    "\n",
    "시퀀스 자료형의 객체의 원소에 접근할 때 정해진 인덱스 범위를 초과할 때 발생한다."
   ]
  },
  {
   "cell_type": "code",
   "execution_count": 4,
   "metadata": {},
   "outputs": [
    {
     "ename": "IndexError",
     "evalue": "list index out of range",
     "output_type": "error",
     "traceback": [
      "\u001b[0;31m---------------------------------------------------------------------------\u001b[0m",
      "\u001b[0;31mIndexError\u001b[0m                                Traceback (most recent call last)",
      "\u001b[0;32m<ipython-input-4-80950de46f70>\u001b[0m in \u001b[0;36m<module>\u001b[0;34m()\u001b[0m\n\u001b[1;32m      1\u001b[0m \u001b[0ml\u001b[0m \u001b[0;34m=\u001b[0m \u001b[0mrange\u001b[0m\u001b[0;34m(\u001b[0m\u001b[0;36m3\u001b[0m\u001b[0;34m)\u001b[0m\u001b[0;34m\u001b[0m\u001b[0m\n\u001b[0;32m----> 2\u001b[0;31m \u001b[0ml\u001b[0m\u001b[0;34m[\u001b[0m\u001b[0;36m3\u001b[0m\u001b[0;34m]\u001b[0m\u001b[0;34m\u001b[0m\u001b[0m\n\u001b[0m",
      "\u001b[0;31mIndexError\u001b[0m: list index out of range"
     ]
    }
   ],
   "source": [
    "l = range(3)\n",
    "l[3]"
   ]
  },
  {
   "cell_type": "markdown",
   "metadata": {},
   "source": [
    "#### NotImplementedError\n",
    "\n",
    "정의되지 함수를 사용할 때 고의로 에러를 발생키시고자 할 때 사용한다. `raise`를 이용한다. "
   ]
  },
  {
   "cell_type": "code",
   "execution_count": 5,
   "metadata": {
    "collapsed": true
   },
   "outputs": [],
   "source": [
    "def my_complicated_function():\n",
    "    \"\"\"아주 복잡하지만 지금 당장 불필요\"\"\"\n",
    "    raise NotImplementedError(\"아직 정의되어 있지 않음\")"
   ]
  },
  {
   "cell_type": "code",
   "execution_count": 6,
   "metadata": {},
   "outputs": [
    {
     "ename": "NotImplementedError",
     "evalue": "아직 정의되어 있지 않음",
     "output_type": "error",
     "traceback": [
      "\u001b[0;31m---------------------------------------------------------------------------\u001b[0m",
      "\u001b[0;31mNotImplementedError\u001b[0m                       Traceback (most recent call last)",
      "\u001b[0;32m<ipython-input-6-dca6cbb480ed>\u001b[0m in \u001b[0;36m<module>\u001b[0;34m()\u001b[0m\n\u001b[0;32m----> 1\u001b[0;31m \u001b[0mmy_complicated_function\u001b[0m\u001b[0;34m(\u001b[0m\u001b[0;34m)\u001b[0m\u001b[0;34m\u001b[0m\u001b[0m\n\u001b[0m",
      "\u001b[0;32m<ipython-input-5-43a2159d7e4b>\u001b[0m in \u001b[0;36mmy_complicated_function\u001b[0;34m()\u001b[0m\n\u001b[1;32m      1\u001b[0m \u001b[0;32mdef\u001b[0m \u001b[0mmy_complicated_function\u001b[0m\u001b[0;34m(\u001b[0m\u001b[0;34m)\u001b[0m\u001b[0;34m:\u001b[0m\u001b[0;34m\u001b[0m\u001b[0m\n\u001b[1;32m      2\u001b[0m     \u001b[0;34m\"\"\"아주 복잡하지만 지금 당장 불필요\"\"\"\u001b[0m\u001b[0;34m\u001b[0m\u001b[0m\n\u001b[0;32m----> 3\u001b[0;31m     \u001b[0;32mraise\u001b[0m \u001b[0mNotImplementedError\u001b[0m\u001b[0;34m(\u001b[0m\u001b[0;34m\"아직 정의되어 있지 않음\"\u001b[0m\u001b[0;34m)\u001b[0m\u001b[0;34m\u001b[0m\u001b[0m\n\u001b[0m",
      "\u001b[0;31mNotImplementedError\u001b[0m: 아직 정의되어 있지 않음"
     ]
    }
   ],
   "source": [
    "my_complicated_function()"
   ]
  },
  {
   "cell_type": "markdown",
   "metadata": {},
   "source": [
    "오류 처리를 사용하지 않으면 오류 메시지가 보이지 않을 수도 있음에 주의해야 한다."
   ]
  },
  {
   "cell_type": "code",
   "execution_count": 7,
   "metadata": {
    "collapsed": true
   },
   "outputs": [],
   "source": [
    "def my_complicated_function_1():\n",
    "    \"\"\"아주 복잡하지만 지금 당장 불필요\"\"\""
   ]
  },
  {
   "cell_type": "code",
   "execution_count": 8,
   "metadata": {},
   "outputs": [],
   "source": [
    "my_complicated_function_1()"
   ]
  },
  {
   "cell_type": "markdown",
   "metadata": {},
   "source": [
    "#### 오류의 종류\n",
    "\n",
    "이외에 많은 종류의 오류가 있다.\n",
    "\n",
    "* 보다 자세한 설명은 아래 사이트를 참조하면 된다. \n",
    "    \n",
    "        https://docs.python.org/2/library/exceptions.html \n",
    "    \n",
    "    \n",
    "* 아니면 아래와 같이 `help` 명령어를 사용하여 확인할 수 있다. \n",
    "\n",
    "        >>> import exceptions\n",
    "        >>> help(exceptions)\n",
    "        \n",
    "* 많은 종류의 오류를 무조건 외울 필요는 없다. 대신에 오류가 발생할 때마다 어떤 종류의 오류가 발생하는지 기억해두는 습관을 키워야 한다."
   ]
  },
  {
   "cell_type": "markdown",
   "metadata": {},
   "source": [
    "### `try ... except ...` 명령어 이용 예외 처리\n",
    "\n",
    "오류가 발생하여 프로그램이 임의로 실행 중단되는 것을 방지하기 위해 사용한다. \n",
    "\n",
    "* 오류가 발생할 수 있는 명령어 부분을 `try` 문으로 감싼다.\n",
    "* `try` 문으로 감싼 코드에서 오류가 발생할 경우 예외 처리하는 부분을 `except` \n",
    "    문으로 감싼다. \n",
    "* `try` 문으로 감싼 코드에서 오류가 발생하지 않으면 `except` 문으로 감싼 부분은 \n",
    "    건너 뛴다. "
   ]
  },
  {
   "cell_type": "markdown",
   "metadata": {},
   "source": [
    "#### 기본 사용법\n",
    "\n",
    "아래 코드를 실행하면 두 가지 경우가 발생할 수 있다.\n",
    "\n",
    "* `myfilename.dat` 파일이 존재하는 경우 해당 파일을 열어 한 줄씩 보여준다.\n",
    "* `myfilename.dat` 파일이 존재하지 않는 경우 아래와 같은 메시지가 보여지고 프로그램 실행이 멈춘다. \n",
    "\n",
    "        \"\"\"해당 파일을 열수 없습니다. 프로그램을 더 이상 실행할 수 없습니다.\n",
    "        An exception has occurred, use %tb to see the full traceback.\n",
    "        SystemExit: 1\"\"\"\n",
    "        \n",
    "    - 위 메시지에서 한글 부분은 예외 처리 코드 중에서 두 개의 `print` 문이 실행된 결과이다.\n",
    "    - `sys` 모듈의 `exit` 함수를 호출하면 프로그램이 중단된다. exit 함수가 숫자 `1`을 리턴하도록 하여 문제 때문에 프로그램이 중단되었음을 알리는 기능도 예외 처리에 포함시킨 것을 알 수 있다.\n",
    "    - 디버깅을 위해 모두 필요한 정보들이 담기도록 예외 처리를 해야 한다. "
   ]
  },
  {
   "cell_type": "code",
   "execution_count": 9,
   "metadata": {},
   "outputs": [
    {
     "name": "stdout",
     "output_type": "stream",
     "text": [
      "해당 파일을 열수 없습니다. 프로그램을 더 이상 실행할 수 없습니다.\n"
     ]
    },
    {
     "ename": "SystemExit",
     "evalue": "1",
     "output_type": "error",
     "traceback": [
      "An exception has occurred, use %tb to see the full traceback.\n",
      "\u001b[0;31mSystemExit\u001b[0m\u001b[0;31m:\u001b[0m 1\n"
     ]
    },
    {
     "name": "stderr",
     "output_type": "stream",
     "text": [
      "To exit: use 'exit', 'quit', or Ctrl-D.\n"
     ]
    }
   ],
   "source": [
    "try:\n",
    "    f = open('myfilename.dat', 'r') \n",
    "except:\n",
    "    print(\"해당 파일을 열수 없습니다.\"), \n",
    "    print(\"프로그램을 더 이상 실행할 수 없습니다.\")\n",
    "    import sys\n",
    "    sys.exit(1) #a way to exit the programle couldn’t be opened.\"), \n",
    "\n",
    "for line in f.readlines():\n",
    "    print(line)"
   ]
  },
  {
   "cell_type": "markdown",
   "metadata": {},
   "source": [
    "#### `except` 문에 오류의 종류를 명시할 수 있다.\n",
    "\n",
    "위 코드에서 `try`문에서 해당 파일이 존재하지 않으면 `IOError`가 발생하므로 `except IOError` 라고 명령해도 동일한 기능을 수행한다. "
   ]
  },
  {
   "cell_type": "code",
   "execution_count": 10,
   "metadata": {},
   "outputs": [
    {
     "name": "stdout",
     "output_type": "stream",
     "text": [
      "해당 파일을 열수 없습니다. 프로그램을 더 이상 실행할 수 없습니다.\n"
     ]
    },
    {
     "ename": "SystemExit",
     "evalue": "1",
     "output_type": "error",
     "traceback": [
      "An exception has occurred, use %tb to see the full traceback.\n",
      "\u001b[0;31mSystemExit\u001b[0m\u001b[0;31m:\u001b[0m 1\n"
     ]
    },
    {
     "name": "stderr",
     "output_type": "stream",
     "text": [
      "To exit: use 'exit', 'quit', or Ctrl-D.\n"
     ]
    }
   ],
   "source": [
    "try:\n",
    "    f = open('myfilename.dat', 'r') \n",
    "except IOError:\n",
    "    print(\"해당 파일을 열수 없습니다.\"), \n",
    "    print(\"프로그램을 더 이상 실행할 수 없습니다.\")\n",
    "    import sys\n",
    "    sys.exit(1) #a way to exit the programle couldn’t be opened.\"), \n",
    "\n",
    "for line in f.readlines():\n",
    "    print(line)"
   ]
  },
  {
   "cell_type": "markdown",
   "metadata": {},
   "source": [
    "#### `except` 문에 오류 종류와 오류메시지변수를 함께 사용해서 오류에 대한 보다 자세한 설명을 확인할 수 있다."
   ]
  },
  {
   "cell_type": "code",
   "execution_count": 11,
   "metadata": {},
   "outputs": [
    {
     "name": "stdout",
     "output_type": "stream",
     "text": [
      "해당 파일을 열수 없습니다. 프로그램을 더 이상 실행할 수 없습니다.\n",
      "[Errno 2] No such file or directory: 'myfilename.dat'\n"
     ]
    },
    {
     "ename": "SystemExit",
     "evalue": "1",
     "output_type": "error",
     "traceback": [
      "An exception has occurred, use %tb to see the full traceback.\n",
      "\u001b[0;31mSystemExit\u001b[0m\u001b[0;31m:\u001b[0m 1\n"
     ]
    },
    {
     "name": "stderr",
     "output_type": "stream",
     "text": [
      "To exit: use 'exit', 'quit', or Ctrl-D.\n"
     ]
    }
   ],
   "source": [
    "try:\n",
    "    f = open('myfilename.dat', 'r') \n",
    "except IOError as er:\n",
    "    print(\"해당 파일을 열수 없습니다.\"), \n",
    "    print(\"프로그램을 더 이상 실행할 수 없습니다.\")\n",
    "    print(er)\n",
    "    import sys\n",
    "    sys.exit(1) #a way to exit the programle couldn’t be opened.\"), \n",
    "\n",
    "for line in f.readlines():\n",
    "    print(line)"
   ]
  },
  {
   "cell_type": "markdown",
   "metadata": {},
   "source": [
    "#### `except` 문에 사용하는 오류 종류는 정확해야 한다.\n",
    "\n",
    "아래 코드의 경우는 예외 처리가 제대로 되지 않는다. `try`문에서 발생하는 오류는 `ZeroDivisionError`인 반면에 `except IOError`는 `IOError`만을 처리하기 때문에 제대로 예외 처리를 못한다."
   ]
  },
  {
   "cell_type": "code",
   "execution_count": 12,
   "metadata": {},
   "outputs": [
    {
     "ename": "ZeroDivisionError",
     "evalue": "integer division or modulo by zero",
     "output_type": "error",
     "traceback": [
      "\u001b[0;31m---------------------------------------------------------------------------\u001b[0m",
      "\u001b[0;31mZeroDivisionError\u001b[0m                         Traceback (most recent call last)",
      "\u001b[0;32m<ipython-input-12-1858e1cb7b70>\u001b[0m in \u001b[0;36m<module>\u001b[0;34m()\u001b[0m\n\u001b[1;32m      1\u001b[0m \u001b[0;32mtry\u001b[0m\u001b[0;34m:\u001b[0m\u001b[0;34m\u001b[0m\u001b[0m\n\u001b[0;32m----> 2\u001b[0;31m     \u001b[0ma\u001b[0m \u001b[0;34m=\u001b[0m \u001b[0;36m1\u001b[0m\u001b[0;34m/\u001b[0m\u001b[0;36m0\u001b[0m\u001b[0;34m\u001b[0m\u001b[0m\n\u001b[0m\u001b[1;32m      3\u001b[0m \u001b[0;32mexcept\u001b[0m \u001b[0mIOError\u001b[0m\u001b[0;34m:\u001b[0m\u001b[0;34m\u001b[0m\u001b[0m\n\u001b[1;32m      4\u001b[0m     \u001b[0;32mprint\u001b[0m\u001b[0;34m(\u001b[0m\u001b[0;34m\"The file couldn’t be opened.\"\u001b[0m\u001b[0;34m)\u001b[0m\u001b[0;34m,\u001b[0m\u001b[0;34m\u001b[0m\u001b[0m\n\u001b[1;32m      5\u001b[0m     \u001b[0;32mprint\u001b[0m\u001b[0;34m(\u001b[0m\u001b[0;34m\"This program stops here.\"\u001b[0m\u001b[0;34m)\u001b[0m\u001b[0;34m\u001b[0m\u001b[0m\n",
      "\u001b[0;31mZeroDivisionError\u001b[0m: integer division or modulo by zero"
     ]
    }
   ],
   "source": [
    "try:\n",
    "    a = 1/0\n",
    "except IOError:\n",
    "    print(\"The file couldn’t be opened.\"), \n",
    "    print(\"This program stops here.\")\n",
    "    import sys\n",
    "    sys.exit(1) #a way to exit the program\n"
   ]
  },
  {
   "cell_type": "markdown",
   "metadata": {},
   "source": [
    "#### `try ... except ....` 문의 보다 다양한 활용방법은 연습문제를 통해 습득할 예정이다.\n",
    "\n",
    "* 아래 사이트 참조 가능\n",
    "        https://wikidocs.net/30"
   ]
  },
  {
   "cell_type": "markdown",
   "metadata": {},
   "source": [
    "## raise 함수\n",
    "\n",
    "앞에서 `NotImplementedError`의 예제에서 보았듯이 `raise` 함수는 오류를 일부러 유발할 때 사용한다. "
   ]
  },
  {
   "cell_type": "code",
   "execution_count": 13,
   "metadata": {},
   "outputs": [
    {
     "ename": "NameError",
     "evalue": "HiThere",
     "output_type": "error",
     "traceback": [
      "\u001b[0;31m---------------------------------------------------------------------------\u001b[0m",
      "\u001b[0;31mNameError\u001b[0m                                 Traceback (most recent call last)",
      "\u001b[0;32m<ipython-input-13-93385ba972b1>\u001b[0m in \u001b[0;36m<module>\u001b[0;34m()\u001b[0m\n\u001b[0;32m----> 1\u001b[0;31m \u001b[0;32mraise\u001b[0m \u001b[0mNameError\u001b[0m\u001b[0;34m(\u001b[0m\u001b[0;34m'HiThere'\u001b[0m\u001b[0;34m)\u001b[0m\u001b[0;34m\u001b[0m\u001b[0m\n\u001b[0m",
      "\u001b[0;31mNameError\u001b[0m: HiThere"
     ]
    }
   ],
   "source": [
    "raise NameError('HiThere')"
   ]
  },
  {
   "cell_type": "markdown",
   "metadata": {},
   "source": [
    "아래 코드에서처럼 `raise` 함수는 에러 인자를 선택적으로 받을 수 있다."
   ]
  },
  {
   "cell_type": "code",
   "execution_count": 14,
   "metadata": {},
   "outputs": [
    {
     "name": "stdout",
     "output_type": "stream",
     "text": [
      "An exception flew by!\n"
     ]
    },
    {
     "ename": "NameError",
     "evalue": "HiThere",
     "output_type": "error",
     "traceback": [
      "\u001b[0;31m---------------------------------------------------------------------------\u001b[0m",
      "\u001b[0;31mNameError\u001b[0m                                 Traceback (most recent call last)",
      "\u001b[0;32m<ipython-input-14-e6256f74f78e>\u001b[0m in \u001b[0;36m<module>\u001b[0;34m()\u001b[0m\n\u001b[1;32m      1\u001b[0m \u001b[0;32mtry\u001b[0m\u001b[0;34m:\u001b[0m\u001b[0;34m\u001b[0m\u001b[0m\n\u001b[0;32m----> 2\u001b[0;31m     \u001b[0;32mraise\u001b[0m \u001b[0mNameError\u001b[0m\u001b[0;34m(\u001b[0m\u001b[0;34m'HiThere'\u001b[0m\u001b[0;34m)\u001b[0m\u001b[0;34m\u001b[0m\u001b[0m\n\u001b[0m\u001b[1;32m      3\u001b[0m \u001b[0;32mexcept\u001b[0m \u001b[0mNameError\u001b[0m\u001b[0;34m:\u001b[0m\u001b[0;34m\u001b[0m\u001b[0m\n\u001b[1;32m      4\u001b[0m     \u001b[0;32mprint\u001b[0m \u001b[0;34m'An exception flew by!'\u001b[0m\u001b[0;34m\u001b[0m\u001b[0m\n\u001b[1;32m      5\u001b[0m     \u001b[0;32mraise\u001b[0m\u001b[0;34m\u001b[0m\u001b[0m\n",
      "\u001b[0;31mNameError\u001b[0m: HiThere"
     ]
    }
   ],
   "source": [
    "try:\n",
    "    raise NameError('HiThere')\n",
    "except NameError:\n",
    "    print 'An exception flew by!'\n",
    "    raise"
   ]
  },
  {
   "cell_type": "markdown",
   "metadata": {},
   "source": [
    "### 연습문제 1"
   ]
  },
  {
   "cell_type": "markdown",
   "metadata": {},
   "source": [
    "스페이스로 구분된 숫자들이 저장되어 있는 파일을 인자로 받아서 각 줄별로 포함된 숫자들과 숫자들의 합을 계산하여 보여주는(`print`) 함수 `print_line_sum_of_file(filename)`을 작성하라. \n",
    "\n",
    "예제: \n",
    "\n",
    "`test.txt` 파일에 아래 내용이 들어 있다고 가정하면 아래 결과가 나와야 한다.\n",
    "\n",
    "    1 3 5 8\n",
    "    0 4 7\n",
    "    1 18\n",
    "\n",
    "\n",
    "    In [1]: print_line_sum_of_file(\"test.txt\")\n",
    "    out[1]: 1 3 5 8 17\n",
    "            0 4 7 11\n",
    "            1 18 19\n",
    "            \n",
    "주의사항: 파이썬 2.7에서 `print` 명령은 줄바꿈을 무조거 실행하도록 설정되어 있다. 줄바꾸기를 하지 않으려면 `print` 명령문 뒤에 콤마를 찍어야 한다. \n",
    "\n",
    "    In [1]: print(3), ; print(4)\n",
    "            3 4            "
   ]
  },
  {
   "cell_type": "markdown",
   "metadata": {},
   "source": [
    "#### 견본 답안"
   ]
  },
  {
   "cell_type": "code",
   "execution_count": 15,
   "metadata": {},
   "outputs": [
    {
     "name": "stdout",
     "output_type": "stream",
     "text": [
      "1 3 5 8 17\n",
      "0 4 7 11\n",
      "1 18 19\n"
     ]
    }
   ],
   "source": [
    "f = open(\"test.txt\", 'w')\n",
    "f.write(\"1 3 5 8\\n0 4 7\\n1 18\")\n",
    "f.close()\n",
    "\n",
    "def print_line_sum_of_file(filename):\n",
    "    g = open(\"test.txt\", 'r')\n",
    "    h = g.readlines()\n",
    "    g.close()\n",
    "    \n",
    "    for line in h:\n",
    "        sum = 0\n",
    "        k = line.split()\n",
    "        for item in k:\n",
    "            print(item),\n",
    "            sum = sum + int(item)\n",
    "        print(sum)\n",
    "\n",
    "print_line_sum_of_file(\"test.txt\")"
   ]
  },
  {
   "cell_type": "markdown",
   "metadata": {},
   "source": [
    "### 연습문제 2"
   ]
  },
  {
   "cell_type": "markdown",
   "metadata": {},
   "source": [
    "데이터 파일에 숫자가 아닌 문자열이 포함되어 있을 경우 그 문자열은 무시하도록  `print_line_sum_of_file(filename)`를 수정하라. \n",
    "\n",
    "예제: \n",
    "\n",
    "`test.txt` 파일에 아래 내용이 들어 있다고 가정하면 아래 결과가 나와야 한다.\n",
    "\n",
    "    1 3 5 8\n",
    "    1 cat 7\n",
    "    coffee\n",
    "\n",
    "\n",
    "    In [1]: print_line_sum_of_file(\"test.txt\")\n",
    "    out[1]: 1 3 5 8 17\n",
    "            1 cat 7 8\n",
    "            coffee 0"
   ]
  },
  {
   "cell_type": "markdown",
   "metadata": {},
   "source": [
    "#### 견본 답안"
   ]
  },
  {
   "cell_type": "code",
   "execution_count": 16,
   "metadata": {},
   "outputs": [
    {
     "name": "stdout",
     "output_type": "stream",
     "text": [
      "1 3 5 8 17\n",
      "1 cat 7 8\n",
      "coffee 0\n"
     ]
    }
   ],
   "source": [
    "f = open(\"test.txt\", 'w')\n",
    "f.write(\"1 3 5 8\\n1 cat 7\\ncoffee\")\n",
    "f.close()\n",
    "\n",
    "def print_line_sum_of_file(filename):\n",
    "    g = open(\"test.txt\", 'r')\n",
    "    h = g.readlines()\n",
    "    g.close()\n",
    "    \n",
    "    for line in h:\n",
    "        sum = 0\n",
    "        k = line.split()\n",
    "        for item in k:\n",
    "            print(item),\n",
    "            try: \n",
    "                sum = sum + int(item)\n",
    "            except ValueError:\n",
    "                pass\n",
    "        print(sum)\n",
    "\n",
    "print_line_sum_of_file(\"test.txt\")"
   ]
  }
 ],
 "metadata": {
  "kernelspec": {
   "display_name": "Python 2",
   "language": "python",
   "name": "python2"
  },
  "language_info": {
   "codemirror_mode": {
    "name": "ipython",
    "version": 2
   },
   "file_extension": ".py",
   "mimetype": "text/x-python",
   "name": "python",
   "nbconvert_exporter": "python",
   "pygments_lexer": "ipython2",
   "version": "2.7.13"
  }
 },
 "nbformat": 4,
 "nbformat_minor": 1
}
