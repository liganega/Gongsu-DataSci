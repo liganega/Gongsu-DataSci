{
 "cells": [
  {
   "cell_type": "markdown",
   "metadata": {},
   "source": [
    "# 데이터 파일 읽고 쓰기"
   ]
  },
  {
   "cell_type": "markdown",
   "metadata": {},
   "source": [
    "특정 파일을 열어 저장된 데이터를 읽거나 특정 데이터를 특정 파일에 저장해야 하는 일이 매우 빈번하게 발생한다.\n",
    "\n",
    "* 파일을 열어 저장된 데이터 읽기\n",
    "* 읽은 데이터 다루기: 계산, 필터링 등등\n",
    "* 다룬 결과를 특정 파일에 저장하기"
   ]
  },
  {
   "cell_type": "markdown",
   "metadata": {},
   "source": [
    "#### 상황 설정: 마트에서 장보기\n",
    "\n",
    "마트에서 장을 보기 위해 상품 목록을 미리 작성하여 가격을 확인한다. \n",
    "\n",
    "    품목   개수   단가\n",
    "    -----------------\n",
    "    빵     1개   1.39\n",
    "    토마토  6개   0.26\n",
    "    우유    3개   1.45\n",
    "    \n",
    "이제 장을 보기 위해 얼마가 필요한지 계산을 해야 한다. \n",
    "\n",
    "보통은 계산기를 이용하여 품목별 개수와 단가를 곱해 합하면 된다. \n",
    "그렇다면 텍스트 파일로 저장된 장보기 메모장을 입력하면 총비용이 얼마인지 계산해주는 함수를 짤 수는 없을까?"
   ]
  },
  {
   "cell_type": "markdown",
   "metadata": {},
   "source": [
    "#### 준비사항\n",
    "\n",
    "장보기 목록 메모장을 입력하면 총비용을 계산해주는 함수를 예를 들어 `total_expense`라 하자.\n",
    "`total_expense` 함수를 코딩하기 위해 필요한 사항은 아래와 같다.\n",
    "\n",
    "* 메모내용을 특정 파일로 저장할 수 있어야 한다.\n",
    "* 파일을 열어서 내용을 확인할 수 있어야 한다.\n",
    "* 확인된 내용에서 원하는 데이터를 추출해서 활용할 수 있어야 한다."
   ]
  },
  {
   "cell_type": "markdown",
   "metadata": {},
   "source": [
    "## 파일 생성, 내용 추가 및 내용 읽기\n",
    "\n",
    "예를 들어 `test.txt` 라는 파일명을 가진 텍스트파일을 생성하고자 할 때 다음과 같이 한다.\n",
    "\n",
    "주의: 현재 파이썬이 실행되는 폴더에 `test.txt` 파일이 없음을 확인하고 시작하도록 한다.\n",
    "예를 들어 `ipython`에서는 터미널 명령어인 `ls`를 실행하면 현재 폴더에 들어 있는 파일들을 확인할 수 있다.\n",
    "이미 있다면 파일을 옮기거나 파일명을 변경하도록 한다.\n",
    "\n",
    "#### 주의: \n",
    "\n",
    "터미널 명령어는 파이썬 함수가 아니라, 윈도우 커맨드 창이나, 리눅스 또는 맥용 셸 창에서 사용되는 명령어이다. python은 기본적으로 터미널 명령어를 지원하지 않지만 ipython과 spyder는 지원한다. "
   ]
  },
  {
   "cell_type": "code",
   "execution_count": 1,
   "metadata": {},
   "outputs": [
    {
     "name": "stdout",
     "output_type": "stream",
     "text": [
      "NB-01-Introduction.ipynb\r\n",
      "NB-02-Functions-and-Modules.ipynb\r\n",
      "NB-03-Python-Coding-Style.ipynb\r\n",
      "NB-04-If-Else-Conditionals.ipynb\r\n",
      "NB-05-Sequences.ipynb\r\n",
      "NB-06-Loops.ipynb\r\n",
      "NB-07-More_About_Variables.ipynb\r\n",
      "NB-08-More_About_Functions.ipynb\r\n",
      "NB-09-Exceptions-Printing_techniques.ipynb\r\n",
      "NB-09-Reading_Writing_Data_Files.ipynb\r\n",
      "\u001b[34mhtml\u001b[m\u001b[m/\r\n",
      "test.txt\r\n"
     ]
    }
   ],
   "source": [
    "ls"
   ]
  },
  {
   "cell_type": "code",
   "execution_count": 2,
   "metadata": {},
   "outputs": [],
   "source": [
    "f = open('test.txt', 'w')"
   ]
  },
  {
   "cell_type": "markdown",
   "metadata": {},
   "source": [
    "* `open` 함수는 지정된 파일명을 가진 파일을 생성하고 파일의 위치를 리턴한다.\n",
    "* `'w'` 인자는 쓰기 전용으로 파일을 생성한다는 의미이며 모드(mode)라 부른다.\n",
    "* 이미 `test.txt` 파일이 존재하면 기존의 내용을 삭제하고 빈 파일로 만들어 파일을 연다.\n",
    "* 모드에는 쓰기 모드 `'w'`, 읽기 모드 `'r'`, 추가 모드 `'a'` 세 종류가 있다. \n",
    "* 생성된 객체는 `file` 자료형이다. "
   ]
  },
  {
   "cell_type": "code",
   "execution_count": 3,
   "metadata": {},
   "outputs": [
    {
     "data": {
      "text/plain": [
       "file"
      ]
     },
     "execution_count": 3,
     "metadata": {},
     "output_type": "execute_result"
    }
   ],
   "source": [
    "type(f)"
   ]
  },
  {
   "cell_type": "markdown",
   "metadata": {},
   "source": [
    "`file` 클래스에는 파일의 내용을 어떻게 읽을지, 다룰지 등에 대한 많은 메소드가 포함되어 있다.\n",
    "여기서는 `write`, `readlines`, `readline`, `read`, `close`, `seek` 메소도의 활용법을 살펴본다."
   ]
  },
  {
   "cell_type": "code",
   "execution_count": 4,
   "metadata": {},
   "outputs": [
    {
     "data": {
      "text/plain": [
       "['__class__',\n",
       " '__delattr__',\n",
       " '__doc__',\n",
       " '__enter__',\n",
       " '__exit__',\n",
       " '__format__',\n",
       " '__getattribute__',\n",
       " '__hash__',\n",
       " '__init__',\n",
       " '__iter__',\n",
       " '__new__',\n",
       " '__reduce__',\n",
       " '__reduce_ex__',\n",
       " '__repr__',\n",
       " '__setattr__',\n",
       " '__sizeof__',\n",
       " '__str__',\n",
       " '__subclasshook__',\n",
       " 'close',\n",
       " 'closed',\n",
       " 'encoding',\n",
       " 'errors',\n",
       " 'fileno',\n",
       " 'flush',\n",
       " 'isatty',\n",
       " 'mode',\n",
       " 'name',\n",
       " 'newlines',\n",
       " 'next',\n",
       " 'read',\n",
       " 'readinto',\n",
       " 'readline',\n",
       " 'readlines',\n",
       " 'seek',\n",
       " 'softspace',\n",
       " 'tell',\n",
       " 'truncate',\n",
       " 'write',\n",
       " 'writelines',\n",
       " 'xreadlines']"
      ]
     },
     "execution_count": 4,
     "metadata": {},
     "output_type": "execute_result"
    }
   ],
   "source": [
    "dir(f)"
   ]
  },
  {
   "cell_type": "markdown",
   "metadata": {},
   "source": [
    "#### `write` 메소드\n",
    "\n",
    "`write` 메소드는 `open` 함수를 이용하여 `w` 모드 또는 `a` 모드로 열린 파일에 내용을 추가할 때 사용한다.  "
   ]
  },
  {
   "cell_type": "code",
   "execution_count": 5,
   "metadata": {
    "collapsed": true
   },
   "outputs": [],
   "source": [
    "f.write(\"first line\\nsecond line\")"
   ]
  },
  {
   "cell_type": "markdown",
   "metadata": {},
   "source": [
    "`'\\n'`은 줄바꿈을 의미한다. 즉 Enter 키를 눌러 줄바꾸기를 한 것과 동일한 효과를 갖는다.\n",
    "따라서 위 코드는 두 줄을 `test.txt` 파일에 입력하는 것을 나타낸다. 입력 내용은 다음과 같다.\n",
    "\n",
    "    first line\n",
    "    second line"
   ]
  },
  {
   "cell_type": "markdown",
   "metadata": {},
   "source": [
    "#### `close` 메소드\n",
    "\n",
    "* `close` 메소드는 파일 내용을 더 이상 수정하거나 확인할 필요가 없어서 파일을 닫고자 할 때 반드시 사용해야 한다."
   ]
  },
  {
   "cell_type": "code",
   "execution_count": 6,
   "metadata": {
    "collapsed": true
   },
   "outputs": [],
   "source": [
    "f.close()"
   ]
  },
  {
   "cell_type": "markdown",
   "metadata": {},
   "source": [
    "파일을 닫으면 더 이상 파일 내용을 확인할 수 없다. \n",
    "예를 들어 열려 있는 파일의 경우 `read` 메소드를 이용하여 내용을 확인할 수 있어야 하는데 \n",
    "이미 `test.txt` 파일을 닫았기 때문에 오류가 발생한다. "
   ]
  },
  {
   "cell_type": "code",
   "execution_count": 7,
   "metadata": {},
   "outputs": [
    {
     "ename": "ValueError",
     "evalue": "I/O operation on closed file",
     "output_type": "error",
     "traceback": [
      "\u001b[0;31m---------------------------------------------------------------------------\u001b[0m",
      "\u001b[0;31mValueError\u001b[0m                                Traceback (most recent call last)",
      "\u001b[0;32m<ipython-input-7-bacd0e0f09a3>\u001b[0m in \u001b[0;36m<module>\u001b[0;34m()\u001b[0m\n\u001b[0;32m----> 1\u001b[0;31m \u001b[0mf\u001b[0m\u001b[0;34m.\u001b[0m\u001b[0mread\u001b[0m\u001b[0;34m(\u001b[0m\u001b[0;34m)\u001b[0m\u001b[0;34m\u001b[0m\u001b[0m\n\u001b[0m",
      "\u001b[0;31mValueError\u001b[0m: I/O operation on closed file"
     ]
    }
   ],
   "source": [
    "f.read()"
   ]
  },
  {
   "cell_type": "markdown",
   "metadata": {},
   "source": [
    "`ipython`이 실행중일 경우 터미널 명령어인 `cat`를 사용하여 파일내용을 확인할 수 있다.  "
   ]
  },
  {
   "cell_type": "code",
   "execution_count": 8,
   "metadata": {},
   "outputs": [
    {
     "name": "stdout",
     "output_type": "stream",
     "text": [
      "first line\r\n",
      "second line"
     ]
    }
   ],
   "source": [
    "cat test.txt"
   ]
  },
  {
   "cell_type": "markdown",
   "metadata": {},
   "source": [
    "다시 한 번 `ls` 명령어를 이용하여 `test.txt` 파일이 생성되었음을 확인할 수 있다."
   ]
  },
  {
   "cell_type": "code",
   "execution_count": 9,
   "metadata": {},
   "outputs": [
    {
     "name": "stdout",
     "output_type": "stream",
     "text": [
      "NB-01-Introduction.ipynb\r\n",
      "NB-02-Functions-and-Modules.ipynb\r\n",
      "NB-03-Python-Coding-Style.ipynb\r\n",
      "NB-04-If-Else-Conditionals.ipynb\r\n",
      "NB-05-Sequences.ipynb\r\n",
      "NB-06-Loops.ipynb\r\n",
      "NB-07-More_About_Variables.ipynb\r\n",
      "NB-08-More_About_Functions.ipynb\r\n",
      "NB-09-Exceptions-Printing_techniques.ipynb\r\n",
      "NB-09-Reading_Writing_Data_Files.ipynb\r\n",
      "\u001b[34mhtml\u001b[m\u001b[m/\r\n",
      "test.txt\r\n"
     ]
    }
   ],
   "source": [
    "ls"
   ]
  },
  {
   "cell_type": "markdown",
   "metadata": {},
   "source": [
    "터미널 명령어가 아닌 파이썬 명령어를 이용하여 파일 내용을 확인하고자 한다면 다시 열어야 한다. \n",
    "이번에는 내용을 추가하기 위해 `'a'` 모드로 열어본다."
   ]
  },
  {
   "cell_type": "code",
   "execution_count": 10,
   "metadata": {
    "collapsed": true
   },
   "outputs": [],
   "source": [
    "f = open('test.txt', 'a')"
   ]
  },
  {
   "cell_type": "markdown",
   "metadata": {},
   "source": [
    "`'third line'` 이란 문자열을 새 줄에 추가한다."
   ]
  },
  {
   "cell_type": "code",
   "execution_count": 11,
   "metadata": {
    "collapsed": true
   },
   "outputs": [],
   "source": [
    "f.write(\"\\nthird line\")"
   ]
  },
  {
   "cell_type": "code",
   "execution_count": 12,
   "metadata": {
    "collapsed": true
   },
   "outputs": [],
   "source": [
    "f.close()"
   ]
  },
  {
   "cell_type": "markdown",
   "metadata": {},
   "source": [
    "새 줄이 추가되었음을 확인할 수 있다."
   ]
  },
  {
   "cell_type": "code",
   "execution_count": 13,
   "metadata": {},
   "outputs": [
    {
     "name": "stdout",
     "output_type": "stream",
     "text": [
      "first line\r\n",
      "second line\r\n",
      "third line"
     ]
    }
   ],
   "source": [
    "cat test.txt"
   ]
  },
  {
   "cell_type": "markdown",
   "metadata": {},
   "source": [
    "## 파일에 저장된 내용 읽어들이기\n",
    "\n",
    "파일에 저장된 내용을 읽기 위해서는 아래 메소드들을 이용한다.\n",
    "\n",
    "    readlines\n",
    "    readline\n",
    "    read"
   ]
  },
  {
   "cell_type": "markdown",
   "metadata": {},
   "source": [
    "파일 내용을 읽기 위해서는 먼저 파일을 열어야 한다. 기본적으로 읽기전용 모드는 `'r'` 모드를 사용한다.  "
   ]
  },
  {
   "cell_type": "code",
   "execution_count": 14,
   "metadata": {
    "collapsed": true
   },
   "outputs": [],
   "source": [
    "f = open('test.txt', 'r')"
   ]
  },
  {
   "cell_type": "markdown",
   "metadata": {},
   "source": [
    "### `readlines` 메소드\n",
    "\n",
    "`readlines` 메소드는 파일에 저장된 각 줄을 항목으로 갖는 리스트를 리턴한다."
   ]
  },
  {
   "cell_type": "code",
   "execution_count": 15,
   "metadata": {},
   "outputs": [],
   "source": [
    "a = f.readlines()"
   ]
  },
  {
   "cell_type": "code",
   "execution_count": 16,
   "metadata": {},
   "outputs": [
    {
     "data": {
      "text/plain": [
       "['first line\\n', 'second line\\n', 'third line']"
      ]
     },
     "execution_count": 16,
     "metadata": {},
     "output_type": "execute_result"
    }
   ],
   "source": [
    "a"
   ]
  },
  {
   "cell_type": "markdown",
   "metadata": {},
   "source": [
    "그런데 `readlines` 메소드를 다시 실행하면 빈 리스트를 리턴한다. "
   ]
  },
  {
   "cell_type": "code",
   "execution_count": 17,
   "metadata": {},
   "outputs": [
    {
     "data": {
      "text/plain": [
       "[]"
      ]
     },
     "execution_count": 17,
     "metadata": {},
     "output_type": "execute_result"
    }
   ],
   "source": [
    "b = f.readlines()\n",
    "b"
   ]
  },
  {
   "cell_type": "markdown",
   "metadata": {},
   "source": [
    "이유는 오프셋(offset)이라는 책갈피 역할을 하는 기능때문이다. \n",
    "\n",
    "* 파일을 새롭게 열면 오프셋은 `0`으로 초기화된다.\n",
    "* `readlines` 메소드를 한 번 실행하면 오프셋은 파일에 저장된 내용에 해당하는 바이트 값을 갖는다. \n",
    "* 현재 `text.txt` 파일에 저장된 문자열은 총 33개이다. 따라서 `readlines`를 한 번 실행한 현재 오프셋의 값은 33이다.\n",
    "* 오프셋 관련 보다 자세한 설명은 다음 기회로 미룬다. 현재는 `readlines`를 한 번 이상 실행하면 아무 것도 읽지 못한다는 사실만 기억하면 된다."
   ]
  },
  {
   "cell_type": "markdown",
   "metadata": {},
   "source": [
    "파일을 다시 처음부터 읽고 싶다면 우선은 열린 파일을 닫고 다시 열면 된다. 오프셋을 이용한 방식이 있기는 하지만 여기서는 다루지 않는다."
   ]
  },
  {
   "cell_type": "code",
   "execution_count": 18,
   "metadata": {
    "collapsed": true
   },
   "outputs": [],
   "source": [
    "f.close()\n",
    "f = open('test.txt', 'r')"
   ]
  },
  {
   "cell_type": "code",
   "execution_count": 19,
   "metadata": {},
   "outputs": [
    {
     "data": {
      "text/plain": [
       "['first line\\n', 'second line\\n', 'third line']"
      ]
     },
     "execution_count": 19,
     "metadata": {},
     "output_type": "execute_result"
    }
   ],
   "source": [
    "a1 = f.readlines()\n",
    "a1"
   ]
  },
  {
   "cell_type": "code",
   "execution_count": 20,
   "metadata": {},
   "outputs": [],
   "source": [
    "f.close()"
   ]
  },
  {
   "cell_type": "markdown",
   "metadata": {},
   "source": [
    "### `read` 메소드\n",
    "\n",
    "`read` 메소드는 `readlines` 메소드 처럼 파일내용 전체를 읽는다. 하지만 각 줄의 내용으로 쪼개지 않고 전체 내용을 하나의 문자열로 리턴한다."
   ]
  },
  {
   "cell_type": "code",
   "execution_count": 21,
   "metadata": {},
   "outputs": [
    {
     "data": {
      "text/plain": [
       "'first line\\nsecond line\\nthird line'"
      ]
     },
     "execution_count": 21,
     "metadata": {},
     "output_type": "execute_result"
    }
   ],
   "source": [
    "f = open('test.txt', 'r')\n",
    "a2 = f.read()\n",
    "a2"
   ]
  },
  {
   "cell_type": "markdown",
   "metadata": {},
   "source": [
    "`readlines` 경우와 마찬가지로 `read`를 한 번 실행하면 오프셋이 파일의 끝을 가리킨다. 따라서 `read`를 한 번 실행하면 아무것도 읽지 못한다."
   ]
  },
  {
   "cell_type": "code",
   "execution_count": 22,
   "metadata": {},
   "outputs": [
    {
     "data": {
      "text/plain": [
       "''"
      ]
     },
     "execution_count": 22,
     "metadata": {},
     "output_type": "execute_result"
    }
   ],
   "source": [
    "a3 = f.read()\n",
    "a3"
   ]
  },
  {
   "cell_type": "code",
   "execution_count": 23,
   "metadata": {
    "collapsed": true
   },
   "outputs": [],
   "source": [
    "f.close()"
   ]
  },
  {
   "cell_type": "markdown",
   "metadata": {},
   "source": [
    "`read` 메소드는 `readlines` 메소드와 사실상 동일한 기능을 수행한다. 문자열 관련 메소드인 `split`을 사용하기만 하면 된다."
   ]
  },
  {
   "cell_type": "markdown",
   "metadata": {},
   "source": [
    "`split(str)`은 기존 문자열을 `str`을 기준으로 쪼개어 리스트로 리턴하는 기능을 수행한다. \n",
    "인자를 넣지 않으면 줄바꾸기(`'\\n'`) 또는 스페이스(`' '`)을 기본값으로 해서 줄바꾸기 또는 스페이스를 기준으로 쪼개어 리스트로 리턴한다. "
   ]
  },
  {
   "cell_type": "code",
   "execution_count": 24,
   "metadata": {},
   "outputs": [
    {
     "data": {
      "text/plain": [
       "['first line', 'second line', 'third line']"
      ]
     },
     "execution_count": 24,
     "metadata": {},
     "output_type": "execute_result"
    }
   ],
   "source": [
    "c = a2.split('\\n')\n",
    "c"
   ]
  },
  {
   "cell_type": "markdown",
   "metadata": {},
   "source": [
    "### `readline` 메소드\n",
    "\n",
    "`readline` 메소드는 파일 내용을 한줄한줄 읽는다. "
   ]
  },
  {
   "cell_type": "code",
   "execution_count": 25,
   "metadata": {},
   "outputs": [
    {
     "data": {
      "text/plain": [
       "'first line\\n'"
      ]
     },
     "execution_count": 25,
     "metadata": {},
     "output_type": "execute_result"
    }
   ],
   "source": [
    "f = open('test.txt', 'r')\n",
    "b1 = f.readline()\n",
    "b1"
   ]
  },
  {
   "cell_type": "markdown",
   "metadata": {},
   "source": [
    "`readline`을 반복적으로 실행할 때마다 다음 줄이 읽힌다. 오프셋이 줄 단위로 이동하기 때문이다."
   ]
  },
  {
   "cell_type": "code",
   "execution_count": 26,
   "metadata": {},
   "outputs": [
    {
     "data": {
      "text/plain": [
       "'second line\\n'"
      ]
     },
     "execution_count": 26,
     "metadata": {},
     "output_type": "execute_result"
    }
   ],
   "source": [
    "b2 = f.readline()\n",
    "b2"
   ]
  },
  {
   "cell_type": "code",
   "execution_count": 27,
   "metadata": {},
   "outputs": [
    {
     "data": {
      "text/plain": [
       "'third line'"
      ]
     },
     "execution_count": 27,
     "metadata": {},
     "output_type": "execute_result"
    }
   ],
   "source": [
    "b3 = f.readline()\n",
    "b3"
   ]
  },
  {
   "cell_type": "markdown",
   "metadata": {},
   "source": [
    "오프셋이 파일 끝에 도달하면 더 이상 읽을 내용이 없어 빈 문자열을 리턴한다.  "
   ]
  },
  {
   "cell_type": "code",
   "execution_count": 28,
   "metadata": {},
   "outputs": [
    {
     "data": {
      "text/plain": [
       "''"
      ]
     },
     "execution_count": 28,
     "metadata": {},
     "output_type": "execute_result"
    }
   ],
   "source": [
    "b4 = f.readline()\n",
    "b4"
   ]
  },
  {
   "cell_type": "markdown",
   "metadata": {},
   "source": [
    "파일을 더이상 다루지 않는다면 항상 닫도록 한다. "
   ]
  },
  {
   "cell_type": "code",
   "execution_count": 29,
   "metadata": {
    "collapsed": true
   },
   "outputs": [],
   "source": [
    "f.close()"
   ]
  },
  {
   "cell_type": "markdown",
   "metadata": {},
   "source": [
    "## 확인된 파일 내용에서 원하는 자료 추출하기\n",
    "\n",
    "저장된 파일 내용을 확인한 후 원하는 자료만 추출하는 기본적인 방법을 배운다. \n",
    "\n",
    "예제: 아래처럼 스페이스로 구분된 숫자들로 구성된 문자열이 있다고 가정하자. \n",
    "\n",
    "    \"1 2.0 14 3.3 5\"\n",
    "    \n",
    "어떻게 하면 스페이스로 구분된 숫자들의 합을 계산할 수 있을까? 즉,\n",
    "    \n",
    "    1 + 2.0 + 14 + 3.3 + 5 = ?\n",
    "    \n",
    "우선 해당 문자열을 스페이스를 기준으로 쪼개는 `split`함수를 활용해야 한다. 이후에는 순수하게 숫자들오 구성된 문자열을 숫자 자료형(`int` 또는 `float`)로 형변환해야 한다. \n",
    "\n",
    "`int()` 함수와 `float()` 함수를 활용하면 된다. "
   ]
  },
  {
   "cell_type": "code",
   "execution_count": 30,
   "metadata": {},
   "outputs": [
    {
     "name": "stdout",
     "output_type": "stream",
     "text": [
      "The total sum is 25.3!\n"
     ]
    }
   ],
   "source": [
    "num_str = '1 2.0 14 3.3 5'\n",
    "list_num_str = num_str.split()\n",
    "sum = 0\n",
    "for num in list_num_str:\n",
    "    sum = sum + float(num)\n",
    "    \n",
    "print(\"The total sum is {}!\".format(sum))"
   ]
  },
  {
   "cell_type": "markdown",
   "metadata": {},
   "source": [
    "## `total_expense` 함수 정의하기\n",
    "\n",
    "이제 장볼 때 필요한 비용을 자동을 계산해주는 함수 `total_expense` 함수를 정의할 준비가 되었다."
   ]
  },
  {
   "cell_type": "markdown",
   "metadata": {},
   "source": [
    "먼저 장보기 목록 메모장을 만들어 보자. 새로운 장보기 목록임으로 파일을 새롭게 연다."
   ]
  },
  {
   "cell_type": "code",
   "execution_count": 31,
   "metadata": {
    "collapsed": true
   },
   "outputs": [],
   "source": [
    "f = open('shopping_list', 'w')"
   ]
  },
  {
   "cell_type": "markdown",
   "metadata": {},
   "source": [
    "장보기 목록을 입력한다. "
   ]
  },
  {
   "cell_type": "code",
   "execution_count": 32,
   "metadata": {
    "collapsed": true
   },
   "outputs": [],
   "source": [
    "f.write(\"bread 1 1.39\\ntomatoes 6 0.26\\nmilk 3 1.45\")"
   ]
  },
  {
   "cell_type": "markdown",
   "metadata": {},
   "source": [
    "더 이상 구입할 목록이 없으면 메모장을 닫는다."
   ]
  },
  {
   "cell_type": "code",
   "execution_count": 33,
   "metadata": {
    "collapsed": true
   },
   "outputs": [],
   "source": [
    "f.close()"
   ]
  },
  {
   "cell_type": "markdown",
   "metadata": {},
   "source": [
    "내용을 확인하면 다음과 같다."
   ]
  },
  {
   "cell_type": "code",
   "execution_count": 34,
   "metadata": {},
   "outputs": [
    {
     "name": "stdout",
     "output_type": "stream",
     "text": [
      "bread 1 1.39\r\n",
      "tomatoes 6 0.26\r\n",
      "milk 3 1.45"
     ]
    }
   ],
   "source": [
    "cat shopping_list"
   ]
  },
  {
   "cell_type": "markdown",
   "metadata": {},
   "source": [
    "이제 장을 볼 목록을 확인하기 위해 파일을 다시 연다."
   ]
  },
  {
   "cell_type": "markdown",
   "metadata": {},
   "source": [
    "* `readlines` 메소드 이용하기"
   ]
  },
  {
   "cell_type": "code",
   "execution_count": 35,
   "metadata": {},
   "outputs": [
    {
     "data": {
      "text/plain": [
       "['bread 1 1.39\\n', 'tomatoes 6 0.26\\n', 'milk 3 1.45']"
      ]
     },
     "execution_count": 35,
     "metadata": {},
     "output_type": "execute_result"
    }
   ],
   "source": [
    "f = open('shopping_list', 'r')\n",
    "buy_list = f.readlines()\n",
    "f.close()\n",
    "buy_list"
   ]
  },
  {
   "cell_type": "markdown",
   "metadata": {},
   "source": [
    "* `readline` 메소드 이용하기: 단순하지 않지만 어렵지는 않다. 아래 코드를 이해하도록 노력해보자."
   ]
  },
  {
   "cell_type": "code",
   "execution_count": 36,
   "metadata": {},
   "outputs": [
    {
     "data": {
      "text/plain": [
       "['bread 1 1.39\\n', 'tomatoes 6 0.26\\n', 'milk 3 1.45']"
      ]
     },
     "execution_count": 36,
     "metadata": {},
     "output_type": "execute_result"
    }
   ],
   "source": [
    "f = open('shopping_list', 'r')\n",
    "buy_list = []\n",
    "\n",
    "while True:\n",
    "    line = f.readline()\n",
    "    if line != '':\n",
    "        buy_list.append(line)\n",
    "    else:\n",
    "        break\n",
    "\n",
    "f.close()\n",
    "buy_list"
   ]
  },
  {
   "cell_type": "markdown",
   "metadata": {},
   "source": [
    "* `read` 메소드 이용하기"
   ]
  },
  {
   "cell_type": "code",
   "execution_count": 37,
   "metadata": {},
   "outputs": [
    {
     "data": {
      "text/plain": [
       "['bread 1 1.39', 'tomatoes 6 0.26', 'milk 3 1.45']"
      ]
     },
     "execution_count": 37,
     "metadata": {},
     "output_type": "execute_result"
    }
   ],
   "source": [
    "f = open('shopping_list', 'r')\n",
    "buy_list = f.read().split('\\n')\n",
    "f.close()\n",
    "buy_list"
   ]
  },
  {
   "cell_type": "markdown",
   "metadata": {},
   "source": [
    "세 가지 방식 중에서 어떤 것도 사용할 수 있지만 지금 경우에 있어서는 `read` 메소드를 통해 좀 더 깔끔한 값을 얻었다. \n",
    "\n",
    "이제 각 품목에 대해 필요한 경비를 계산할 수 있다. `split`으로 각 항목을 쪼갠 후 인덱싱을 이용하기만 하면 된다."
   ]
  },
  {
   "cell_type": "markdown",
   "metadata": {},
   "source": [
    "* 빵값 비용"
   ]
  },
  {
   "cell_type": "code",
   "execution_count": 38,
   "metadata": {},
   "outputs": [
    {
     "data": {
      "text/plain": [
       "1.39"
      ]
     },
     "execution_count": 38,
     "metadata": {},
     "output_type": "execute_result"
    }
   ],
   "source": [
    "int(buy_list[0].split()[1]) * float(buy_list[0].split()[2])"
   ]
  },
  {
   "cell_type": "markdown",
   "metadata": {},
   "source": [
    "* 토마토 비용"
   ]
  },
  {
   "cell_type": "code",
   "execution_count": 39,
   "metadata": {},
   "outputs": [
    {
     "data": {
      "text/plain": [
       "1.56"
      ]
     },
     "execution_count": 39,
     "metadata": {},
     "output_type": "execute_result"
    }
   ],
   "source": [
    "int(buy_list[1].split()[1]) * float(buy_list[1].split()[2])"
   ]
  },
  {
   "cell_type": "markdown",
   "metadata": {},
   "source": [
    "* 우유 비용"
   ]
  },
  {
   "cell_type": "code",
   "execution_count": 40,
   "metadata": {},
   "outputs": [
    {
     "data": {
      "text/plain": [
       "4.35"
      ]
     },
     "execution_count": 40,
     "metadata": {},
     "output_type": "execute_result"
    }
   ],
   "source": [
    "int(buy_list[2].split()[1]) * float(buy_list[2].split()[2])"
   ]
  },
  {
   "cell_type": "markdown",
   "metadata": {},
   "source": [
    "빵값, 토마토, 우유 비용을 계산하는 코드를 자세히 살펴보면 `buy_list` 인덱싱에 사용되는 인덱스 값만 0, 1, 2 순으로 변한 것을 알 수 있다. 따라서 총비용 계산은 `for` 문을 이용하면 된다."
   ]
  },
  {
   "cell_type": "code",
   "execution_count": 41,
   "metadata": {},
   "outputs": [
    {
     "name": "stdout",
     "output_type": "stream",
     "text": [
      "The price of bread is $1.39.\n",
      "The price of tomatoes is $1.56.\n",
      "The price of milk is $4.35.\n",
      "The total expense is $7.3.\n"
     ]
    }
   ],
   "source": [
    "sum = 0\n",
    "\n",
    "for item in buy_list:\n",
    "    d = item.split()\n",
    "    item_price = int(d[1]) * float(d[2])\n",
    "    print(\"The price of {} is ${}.\".format(d[0], item_price))\n",
    "    sum = sum + item_price\n",
    "    \n",
    "print(\"The total expense is ${}.\".format(sum))"
   ]
  },
  {
   "cell_type": "markdown",
   "metadata": {},
   "source": [
    "따라서 `total_expense` 함수를 아래와 같이 코딩할 수 있다."
   ]
  },
  {
   "cell_type": "code",
   "execution_count": 42,
   "metadata": {},
   "outputs": [],
   "source": [
    "def total_expense(memo):\n",
    "    f = open(memo,'r')\n",
    "    a = f.readlines()\n",
    "\n",
    "    sum = 0\n",
    "    for item in a:\n",
    "        d = item.split()\n",
    "        item_price = int(d[1]) * float(d[2])\n",
    "        print(\"The price of {} is ${}.\".format(d[0], item_price))\n",
    "        sum = sum + item_price\n",
    "    print(\"The total expense is ${}.\".format(sum))"
   ]
  },
  {
   "cell_type": "markdown",
   "metadata": {},
   "source": [
    "이제 오늘 장을 보기 위해 필요한 총비용을 쉽게 확인할 수 있다."
   ]
  },
  {
   "cell_type": "code",
   "execution_count": 43,
   "metadata": {},
   "outputs": [
    {
     "name": "stdout",
     "output_type": "stream",
     "text": [
      "The price of bread is $1.39.\n",
      "The price of tomatoes is $1.56.\n",
      "The price of milk is $4.35.\n",
      "The total expense is $7.3.\n"
     ]
    }
   ],
   "source": [
    "total_expense('shopping_list')"
   ]
  }
 ],
 "metadata": {
  "kernelspec": {
   "display_name": "Python 2",
   "language": "python",
   "name": "python2"
  },
  "language_info": {
   "codemirror_mode": {
    "name": "ipython",
    "version": 2
   },
   "file_extension": ".py",
   "mimetype": "text/x-python",
   "name": "python",
   "nbconvert_exporter": "python",
   "pygments_lexer": "ipython2",
   "version": "2.7.13"
  }
 },
 "nbformat": 4,
 "nbformat_minor": 1
}
