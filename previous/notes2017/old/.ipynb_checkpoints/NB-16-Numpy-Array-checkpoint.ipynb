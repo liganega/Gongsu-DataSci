{
 "cells": [
  {
   "cell_type": "markdown",
   "metadata": {},
   "source": [
    "# 넘파이(Numpy) 소개"
   ]
  },
  {
   "cell_type": "markdown",
   "metadata": {},
   "source": [
    "넘파이(Numpy)는 파이썬 표준라이브러리를 확장하는 모듈이며, \n",
    "수치 데이터(numerical data)를 용이하게 생성 및 조작하기 위해 유용하게 사용된다.\n",
    "\n",
    "이번 장에서는 넘파이 모듈의 기본 사용법을 소개한다.\n",
    "\n",
    "넘파이 관련 내용은 아래 사이트에서 제동하는 자료를 참고한다.\n",
    "\n",
    "* [Scipy Lecture Notes](http://www.scipy-lectures.org/)"
   ]
  },
  {
   "cell_type": "markdown",
   "metadata": {},
   "source": [
    "## 넘파이 어레이(numpy.array) 객체 소개\n",
    "\n",
    "파이썬에서 기본적으로 사용할 수 있는 수 관련 객체에는 크게 두 종류가 있다.\n",
    "\n",
    "* int형 또는 float형 숫자 객체\n",
    "* 튜플(tuple), 리스트(list) 또는 사전(dictrionary)처럼 숫자 객체들을 담을 수 있는 시퀀스 자료형 객체\n",
    "\n",
    "하지만 이전에 살펴보았듯이 튜플의 경우는 수정이 안되는 등 유연성이 떠어지고,\n",
    "리스트의 경우는 길이가 몇 만, 몇 십만, 몇 백만 처럼 매우 길어지면 \n",
    "데이터를 조작하는 데에 많은 시간이 소요되는 단점이 있고, \n",
    "사전의 경우는 조작 속도는 매우 빠르나 키와 키값을 항상 사용해야 해서 문법상 제약이 따른다. \n",
    "또한 행렬 등 다차원 시퀀스 데이터는 처리하기 힘들다.\n",
    "\n",
    "넘파이(numpy) 모듈은 언급한 단점을 극복하기 위해 만들어진 라이브러리이며, 다음의 특징을 갖고 있다.\n",
    "\n",
    "* 다차원 어레이(multi-dimensional array) 지원\n",
    "* 빠른 처리 속도\n",
    "* 과학용 수치 계산에 활용 용이\n",
    "\n",
    "넘파이 모듈을 사용하려면 먼저 numpy 모듈을 추가 설치해야 한다.\n",
    "하지만 Anaconda 등을 사용하면 이미 설치되어 있고 넘파이 모듈을 임포트하기만 하면 된다.\n",
    "numpy 모듈의 약칭으로 np를 관례적으로 사용한다."
   ]
  },
  {
   "cell_type": "code",
   "execution_count": 1,
   "metadata": {
    "collapsed": true
   },
   "outputs": [],
   "source": [
    "import numpy as np"
   ]
  },
  {
   "cell_type": "markdown",
   "metadata": {},
   "source": [
    "넘파이 모듈에서 가장 주요한 요소는 어레이(array)이다.\n",
    "어레이의 사용법은 리스트의 경우와 기본적으로 비슷하다. \n",
    "먼저 `0, 1, 2, 3`으로 구성된 어레이를 생성하고자 하면 `array` 함수를 \n",
    "사용하면 된다. "
   ]
  },
  {
   "cell_type": "code",
   "execution_count": 2,
   "metadata": {},
   "outputs": [],
   "source": [
    "a = np.array([0, 1, 2, 3])"
   ]
  },
  {
   "cell_type": "markdown",
   "metadata": {},
   "source": [
    "`array` 함수는 리스트, 튜플을 입력받아 어레이 객체를 되돌려준다.\n",
    "리스트와 튜플 어느 것을 써도 리턴값은 동일하다. \n",
    "위 정의를 튜플을 이용하여 정의해도 결과는 같다."
   ]
  },
  {
   "cell_type": "code",
   "execution_count": 3,
   "metadata": {
    "collapsed": true
   },
   "outputs": [],
   "source": [
    "b = np.array((0, 1, 2, 3))"
   ]
  },
  {
   "cell_type": "code",
   "execution_count": 4,
   "metadata": {},
   "outputs": [
    {
     "data": {
      "text/plain": [
       "array([ True,  True,  True,  True], dtype=bool)"
      ]
     },
     "execution_count": 4,
     "metadata": {},
     "output_type": "execute_result"
    }
   ],
   "source": [
    "c = a == b\n",
    "c"
   ]
  },
  {
   "cell_type": "markdown",
   "metadata": {},
   "source": [
    "_** 주의: 어레이 객체들 사이의 비교는 각 항목별로 실행된다.**_\n",
    "\n",
    "`a == b`의 실행결과는 새로운 어레이이며 각 항목별로 비교한 결과인 불(bool) 값을\n",
    "갖게 된다.\n",
    "\n",
    "`c`의 실행결과를 보면 `dtype`이라는 키워드 인자가 추가되어 있다. \n",
    "`dtype` 키워드는 생성된 어레이 객체의 각 항목의 자료형을 갖고 있다. \n",
    "\n",
    "_** 주의: 어레이 객체의 각 항목들은 모두 동일한 자료형이어야 한다.**_\n",
    "\n",
    "리스트, 튜플과는 달리 어레이의 각 항목은 동일한 자료형들로 구성되어 있다.\n",
    "\n",
    "변수 `a`에는 int형 숫자들이 들어있다. "
   ]
  },
  {
   "cell_type": "code",
   "execution_count": 5,
   "metadata": {},
   "outputs": [
    {
     "data": {
      "text/plain": [
       "dtype('int64')"
      ]
     },
     "execution_count": 5,
     "metadata": {},
     "output_type": "execute_result"
    }
   ],
   "source": [
    "a.dtype"
   ]
  },
  {
   "cell_type": "markdown",
   "metadata": {},
   "source": [
    "변수 `b`도 int형 숫자들로 구성되어 있다."
   ]
  },
  {
   "cell_type": "code",
   "execution_count": 6,
   "metadata": {},
   "outputs": [
    {
     "data": {
      "text/plain": [
       "dtype('int64')"
      ]
     },
     "execution_count": 6,
     "metadata": {},
     "output_type": "execute_result"
    }
   ],
   "source": [
    "b.dtype"
   ]
  },
  {
   "cell_type": "markdown",
   "metadata": {},
   "source": [
    "반면에 변수 `c`는 불값(bool)으로 구성되어 있다."
   ]
  },
  {
   "cell_type": "code",
   "execution_count": 7,
   "metadata": {},
   "outputs": [
    {
     "data": {
      "text/plain": [
       "dtype('bool')"
      ]
     },
     "execution_count": 7,
     "metadata": {},
     "output_type": "execute_result"
    }
   ],
   "source": [
    "c.dtype"
   ]
  },
  {
   "cell_type": "markdown",
   "metadata": {},
   "source": [
    "`a` 또는 `b`와는 달리 `c`의 경우 `dtype` 명시하는 이유는 \n",
    "`True, False`의 의미가 참, 거짓의 의미 외에 `0`이 아닌 숫자, `0`인 숫자 또한\n",
    "의미할 수 있기 때문이다. \n",
    "다음의 경우 `dtype` 키워드 인자값으로 `int`를 입력하면 자려형이 달리지는 것을\n",
    "확인할 수 있다."
   ]
  },
  {
   "cell_type": "code",
   "execution_count": 8,
   "metadata": {},
   "outputs": [
    {
     "data": {
      "text/plain": [
       "dtype('int64')"
      ]
     },
     "execution_count": 8,
     "metadata": {},
     "output_type": "execute_result"
    }
   ],
   "source": [
    "d = np.array([ True,  True,  True,  True], dtype=int)\n",
    "d.dtype\n"
   ]
  },
  {
   "cell_type": "code",
   "execution_count": 9,
   "metadata": {},
   "outputs": [
    {
     "data": {
      "text/plain": [
       "array([1, 1, 1, 1])"
      ]
     },
     "execution_count": 9,
     "metadata": {},
     "output_type": "execute_result"
    }
   ],
   "source": [
    "d"
   ]
  },
  {
   "cell_type": "markdown",
   "metadata": {},
   "source": [
    "`array` 함수는 `dtype` 키워드 인자외에 `copy`, `order`, `subok`, `ndmin` 등의 \n",
    "추가 키워드 인자를 사용할 수 있다.\n",
    "각 키워드 인자의 활용은 필요할 경우 추가로 설명되어질 것이다."
   ]
  },
  {
   "cell_type": "markdown",
   "metadata": {},
   "source": [
    "### 어레이 활용 예제\n",
    "\n",
    "어레이 자료형을 실제로 많이 활용되는 경우들은 다음과 같다.\n",
    "\n",
    "* 일정 시간 동안 반복적으로 측정되는 실험 및 시뮬레이션 값\n",
    "* 음파(sound wave) 등 측정장치를 통해 기록된 신호(signal)\n",
    "* 이미지에 사용되는 픽셀값\n",
    "* MRI 스캔 등에 사용되는 3-D 측정기록값\n",
    "* 등등."
   ]
  },
  {
   "cell_type": "markdown",
   "metadata": {},
   "source": [
    "#### 빠른 처리 속도\n",
    "\n",
    "앞서 언급한 대로 어레이는 리스트보다 빠르게 데이터를 처리한다. \n",
    "아래의 예제는 1000개의 동일한 숫자들로 이루어진 리스트와 어레이를 조작하는\n",
    "속도를 비교한 것이다.\n",
    "어레이를 이용하는 경우가 60배 정도 빠름을 확인할 수 있다."
   ]
  },
  {
   "cell_type": "code",
   "execution_count": 10,
   "metadata": {
    "collapsed": true
   },
   "outputs": [],
   "source": [
    "L = range(1000)"
   ]
  },
  {
   "cell_type": "markdown",
   "metadata": {},
   "source": [
    "`%timeit`은 ipython에서 간단한 코드의 실행시간을 테스트하는 기능을 갖는다.\n",
    "\n",
    "아래 코드는 0부터 999까지의 숫자를 각각 제곱하여 새로운 리스트를\n",
    "생성하는 리스트 조건제시법 코드이다."
   ]
  },
  {
   "cell_type": "code",
   "execution_count": 11,
   "metadata": {},
   "outputs": [
    {
     "name": "stdout",
     "output_type": "stream",
     "text": [
      "10000 loops, best of 3: 64.6 µs per loop\n"
     ]
    }
   ],
   "source": [
    "%timeit [i**2 for i in L]"
   ]
  },
  {
   "cell_type": "markdown",
   "metadata": {},
   "source": [
    "`arange` 함수는 `range`와 동일한 기능을 수행한다.\n",
    "다만 리스트가 아닌 어레이를 리턴한다."
   ]
  },
  {
   "cell_type": "code",
   "execution_count": 12,
   "metadata": {
    "collapsed": true
   },
   "outputs": [],
   "source": [
    "a = np.arange(1000)"
   ]
  },
  {
   "cell_type": "markdown",
   "metadata": {},
   "source": [
    "앞서 두 개의 리스트를 비교할 때 처럼 어레이 관련 연산은 기본적으로 \n",
    "각 항목별로 실행된다. \n",
    "따라사 `a ** 2`는 각 항목을 제곱하라는 함수를 실행한다."
   ]
  },
  {
   "cell_type": "code",
   "execution_count": 13,
   "metadata": {},
   "outputs": [
    {
     "name": "stdout",
     "output_type": "stream",
     "text": [
      "The slowest run took 47.90 times longer than the fastest. This could mean that an intermediate result is being cached \n",
      "1000000 loops, best of 3: 1.21 µs per loop\n"
     ]
    }
   ],
   "source": [
    "%timeit a**2"
   ]
  },
  {
   "cell_type": "markdown",
   "metadata": {},
   "source": [
    "#### Numpy 라이브러리 내에서 특정 함수 찾기\n",
    "\n",
    "* 특정 함수의 성질을 알고자 할 경우에는 함수 끝에 물음표('?')를 붙혀 실행하면 된다."
   ]
  },
  {
   "cell_type": "code",
   "execution_count": 14,
   "metadata": {},
   "outputs": [],
   "source": [
    "np.array?"
   ]
  },
  {
   "cell_type": "markdown",
   "metadata": {},
   "source": [
    "* 특정 성질과 관련된 함수들을 찾고자 할 경우 `lookfor` 함수를 사용한다.\n",
    "    예를 들어 어레이를 생성하는 기능과 관련된 함수를 찾고자 할 경우 다음과 같이\n",
    "    실행하면 된다.\n",
    "    \n",
    "        np.lookfor('create array')\n",
    "        \n",
    "    그러면 numpy 모듈 안에 정의된 모든 함수들의 주석(docstring)에 \n",
    "    `create`와 `array` 가 함께 포함되어 있는 함수들의 리스트를 보여준다. "
   ]
  },
  {
   "cell_type": "code",
   "execution_count": 15,
   "metadata": {},
   "outputs": [
    {
     "name": "stdout",
     "output_type": "stream",
     "text": [
      "Search results for 'create array'\n",
      "---------------------------------\n",
      "numpy.array\n",
      "    Create an array.\n",
      "numpy.memmap\n",
      "    Create a memory-map to an array stored in a *binary* file on disk.\n",
      "numpy.diagflat\n",
      "    Create a two-dimensional array with the flattened input as a diagonal.\n",
      "numpy.fromiter\n",
      "    Create a new 1-dimensional array from an iterable object.\n",
      "numpy.partition\n",
      "    Return a partitioned copy of an array.\n",
      "numpy.ma.diagflat\n",
      "    Create a two-dimensional array with the flattened input as a diagonal.\n",
      "numpy.ctypeslib.as_array\n",
      "    Create a numpy array from a ctypes array or a ctypes POINTER.\n",
      "numpy.ma.make_mask\n",
      "    Create a boolean mask from an array.\n",
      "numpy.ctypeslib.as_ctypes\n",
      "    Create and return a ctypes object from a numpy array.  Actually\n",
      "numpy.ma.mrecords.fromarrays\n",
      "    Creates a mrecarray from a (flat) list of masked arrays.\n",
      "numpy.lib.format.open_memmap\n",
      "    Open a .npy file as a memory-mapped array.\n",
      "numpy.ma.MaskedArray.__new__\n",
      "    Create a new masked array from scratch.\n",
      "numpy.lib.arrayterator.Arrayterator\n",
      "    Buffered iterator for big arrays.\n",
      "numpy.ma.mrecords.fromtextfile\n",
      "    Creates a mrecarray from data stored in the file `filename`.\n",
      "numpy.asarray\n",
      "    Convert the input to an array.\n",
      "numpy.ndarray\n",
      "    ndarray(shape, dtype=float, buffer=None, offset=0,\n",
      "numpy.recarray\n",
      "    Construct an ndarray that allows field access using attributes.\n",
      "numpy.chararray\n",
      "    chararray(shape, itemsize=1, unicode=False, buffer=None, offset=0,\n",
      "numpy.pad\n",
      "    Pads an array.\n",
      "numpy.sum\n",
      "    Sum of array elements over a given axis.\n",
      "numpy.asanyarray\n",
      "    Convert the input to an ndarray, but pass ndarray subclasses through.\n",
      "numpy.copy\n",
      "    Return an array copy of the given object.\n",
      "numpy.diag\n",
      "    Extract a diagonal or construct a diagonal array.\n",
      "numpy.load\n",
      "    Load arrays or pickled objects from ``.npy``, ``.npz`` or pickled files.\n",
      "numpy.sort\n",
      "    Return a sorted copy of an array.\n",
      "numpy.array_equiv\n",
      "    Returns True if input arrays are shape consistent and all elements equal.\n",
      "numpy.dtype\n",
      "    Create a data type object.\n",
      "numpy.choose\n",
      "    Construct an array from an index array and a set of arrays to choose from.\n",
      "numpy.nditer\n",
      "    Efficient multi-dimensional iterator object to iterate over arrays.\n",
      "numpy.swapaxes\n",
      "    Interchange two axes of an array.\n",
      "numpy.full_like\n",
      "    Return a full array with the same shape and type as a given array.\n",
      "numpy.ones_like\n",
      "    Return an array of ones with the same shape and type as a given array.\n",
      "numpy.empty_like\n",
      "    Return a new array with the same shape and type as a given array.\n",
      "numpy.zeros_like\n",
      "    Return an array of zeros with the same shape and type as a given array.\n",
      "numpy.asarray_chkfinite\n",
      "    Convert the input to an array, checking for NaNs or Infs.\n",
      "numpy.diag_indices\n",
      "    Return the indices to access the main diagonal of an array.\n",
      "numpy.ma.choose\n",
      "    Use an index array to construct a new array from a set of choices.\n",
      "numpy.chararray.tolist\n",
      "    a.tolist()\n",
      "numpy.matlib.rand\n",
      "    Return a matrix of random values with given shape.\n",
      "numpy.savez_compressed\n",
      "    Save several arrays into a single file in compressed ``.npz`` format.\n",
      "numpy.ma.empty_like\n",
      "    Return a new array with the same shape and type as a given array.\n",
      "numpy.ma.make_mask_none\n",
      "    Return a boolean mask of the given shape, filled with False.\n",
      "numpy.ma.mrecords.fromrecords\n",
      "    Creates a MaskedRecords from a list of records.\n",
      "numpy.around\n",
      "    Evenly round to the given number of decimals.\n",
      "numpy.source\n",
      "    Print or write to a file the source code for a Numpy object.\n",
      "numpy.diagonal\n",
      "    Return specified diagonals.\n",
      "numpy.histogram2d\n",
      "    Compute the bi-dimensional histogram of two data samples.\n",
      "numpy.fft.ifft\n",
      "    Compute the one-dimensional inverse discrete Fourier Transform.\n",
      "numpy.fft.ifftn\n",
      "    Compute the N-dimensional inverse discrete Fourier Transform.\n",
      "numpy.busdaycalendar\n",
      "    A business day calendar object that efficiently stores information"
     ]
    }
   ],
   "source": [
    "np.lookfor('create array')"
   ]
  },
  {
   "cell_type": "markdown",
   "metadata": {},
   "source": [
    "* 함수 이름의 첫 알파벳을 적은 후 별표(`*`)와 물음표(`?`)를 응용하면 관련 함수들을 찾아준다.\n",
    "    예를 들어 `con`으로 시작하는 넘파이 함수를 찾고자 하면 다음과 같이 실행하면 된다."
   ]
  },
  {
   "cell_type": "code",
   "execution_count": 16,
   "metadata": {
    "collapsed": true
   },
   "outputs": [],
   "source": [
    "np.con*?"
   ]
  },
  {
   "cell_type": "markdown",
   "metadata": {},
   "source": [
    "## 어레이 생성하기\n",
    "\n",
    "### 수동으로 1차원 어레이 생성하기"
   ]
  },
  {
   "cell_type": "code",
   "execution_count": 17,
   "metadata": {},
   "outputs": [
    {
     "data": {
      "text/plain": [
       "array([0, 1, 2, 3])"
      ]
     },
     "execution_count": 17,
     "metadata": {},
     "output_type": "execute_result"
    }
   ],
   "source": [
    "a = np.array([0, 1, 2, 3])\n",
    "a"
   ]
  },
  {
   "cell_type": "markdown",
   "metadata": {},
   "source": [
    "`a`에는 _1차원_ 어레이가 할당되었다."
   ]
  },
  {
   "cell_type": "code",
   "execution_count": 18,
   "metadata": {},
   "outputs": [
    {
     "data": {
      "text/plain": [
       "1"
      ]
     },
     "execution_count": 18,
     "metadata": {},
     "output_type": "execute_result"
    }
   ],
   "source": [
    "a.ndim"
   ]
  },
  {
   "cell_type": "markdown",
   "metadata": {},
   "source": [
    "생성된 어레의 _**모양(shape)**_은 `shape` 인스턴스변수를 이용하여 확인한다."
   ]
  },
  {
   "cell_type": "code",
   "execution_count": 19,
   "metadata": {},
   "outputs": [
    {
     "data": {
      "text/plain": [
       "(4,)"
      ]
     },
     "execution_count": 19,
     "metadata": {},
     "output_type": "execute_result"
    }
   ],
   "source": [
    "a.shape"
   ]
  },
  {
   "cell_type": "markdown",
   "metadata": {},
   "source": [
    "즉, 변수 `a`에 할당된 어레이 `array([0, 1, 2, 3])`는\n",
    "\n",
    "* 1차원 어레이이며,\n",
    "* 길이가 4이다. \n",
    "    숫자 4에 추가로 붙은 알파벳 L은 long int를 의미한다.\n",
    "    사용하는 컴퓨터마다 다른 형식을 사용할 수 있다.\n",
    "\n",
    "위 행렬을 1차원 어레이를 표현한다면 아래와 같은 모양이다.\n",
    "\n",
    "$$\\left [ \\begin{matrix} 0 \\\\ 1 \\\\ 2 \\\\ 3 \\end{matrix} \\right ]$$\n",
    "\n",
    "즉, 길이가 `d`인 1차원 어레이는 `d x 1` 행렬에 대응한다."
   ]
  },
  {
   "cell_type": "markdown",
   "metadata": {},
   "source": [
    "_**주의:**_ `ndim`, `shape`는 어레이 클래스에서 선언된 인스턴스변수이다. \n",
    "\n",
    "클래스에는 기본적으로 변수와 함수가 포함되는데 클래스에서 선언된 변수를 _인스턴스변수_, _멤버변수_, 또는 _속성_이라 부르고, 함수를\n",
    "_메소드_라 부른다.\n",
    "\n",
    "어레이 객체와 함께 사용할 수 있는 다른 인스턴스변수와 메소드는 이후에도 필요할 때마다 설명될 예정이다."
   ]
  },
  {
   "cell_type": "markdown",
   "metadata": {},
   "source": [
    "### 수동으로 2, 3차원 어레이 생성하기\n",
    "\n",
    "예를들어 아래와 같은 `2 x 3` 행렬을 2차원 어레이로 구현할 수 있다.\n",
    "\n",
    "$$\\left [ \\begin{matrix} 0 & 1 & 2 \\\\ 3 & 4 & 5 \n",
    "\\\\ 6 & 7 & 8\\end{matrix} \\right ]$$"
   ]
  },
  {
   "cell_type": "code",
   "execution_count": 20,
   "metadata": {},
   "outputs": [
    {
     "data": {
      "text/plain": [
       "array([[0, 1, 2],\n",
       "       [3, 4, 5],\n",
       "       [6, 7, 8]])"
      ]
     },
     "execution_count": 20,
     "metadata": {},
     "output_type": "execute_result"
    }
   ],
   "source": [
    "b = np.array([[0, 1, 2], [3, 4, 5], [6, 7, 8]])\n",
    "b"
   ]
  },
  {
   "cell_type": "markdown",
   "metadata": {},
   "source": [
    "즉, 앞서 언급된 행렬의 첫째 행이 위 어레이의 첫 번째 리스트로, \n",
    "그리고 둘째 행이 어레이의 두 번째 리스트에 해당한다.\n",
    "\n",
    "어레이의 차원은 `ndim` 인스턴스변수를 이용하여 확인한다."
   ]
  },
  {
   "cell_type": "code",
   "execution_count": 21,
   "metadata": {},
   "outputs": [
    {
     "data": {
      "text/plain": [
       "2"
      ]
     },
     "execution_count": 21,
     "metadata": {},
     "output_type": "execute_result"
    }
   ],
   "source": [
    "b.ndim"
   ]
  },
  {
   "cell_type": "markdown",
   "metadata": {},
   "source": [
    "변수 `b`에 할당된 어레이의 모양(shape)은 `2 x 3` 행령에 해당하는 `(2, 3)`이다."
   ]
  },
  {
   "cell_type": "code",
   "execution_count": 22,
   "metadata": {},
   "outputs": [
    {
     "data": {
      "text/plain": [
       "(3, 3)"
      ]
     },
     "execution_count": 22,
     "metadata": {},
     "output_type": "execute_result"
    }
   ],
   "source": [
    "b.shape"
   ]
  },
  {
   "cell_type": "markdown",
   "metadata": {},
   "source": [
    "`len` 함수는 첫번째 차원의 길이를 되돌려 준다."
   ]
  },
  {
   "cell_type": "code",
   "execution_count": 23,
   "metadata": {},
   "outputs": [
    {
     "data": {
      "text/plain": [
       "3"
      ]
     },
     "execution_count": 23,
     "metadata": {},
     "output_type": "execute_result"
    }
   ],
   "source": [
    "len(b)"
   ]
  },
  {
   "cell_type": "markdown",
   "metadata": {},
   "source": [
    "## 연습문제\n",
    "\n",
    "* 아래에 묘사된 행렬을 2차원 어레이로 구현하라.\n",
    "\n",
    "$$\\left [ \\begin{matrix} 5 & 3 & 1 \\\\ 2 & 4 & 6 \\end{matrix} \\right ]$$\n",
    "\n",
    "\n",
    "\n",
    "* `len()` 함수와 `np.shape()` 함수, 그리고 `ndim` 인스턴스변수들 사이에 어떤 관계가 \n",
    "있는지 설명하라."
   ]
  },
  {
   "cell_type": "markdown",
   "metadata": {},
   "source": [
    "### 자동으로 어레이 생성하기\n",
    "\n",
    "앞서 살펴본 수동으로 어레이를 생성하는 방법은 실전에서는 별로 사용하지 않는다.\n",
    "이제 numpy에서 어레이를 생성하는 다양한 방법을 살펴보도록 하자.\n",
    "\n",
    "* 먼저, `range`와 비슷한 기능을 수행하는 `arange`를 이용하여 일정하게 변하는 정수들의\n",
    "    어레이를 만들어보자."
   ]
  },
  {
   "cell_type": "code",
   "execution_count": 24,
   "metadata": {},
   "outputs": [
    {
     "data": {
      "text/plain": [
       "array([0, 1, 2, 3, 4, 5, 6, 7, 8, 9])"
      ]
     },
     "execution_count": 24,
     "metadata": {},
     "output_type": "execute_result"
    }
   ],
   "source": [
    "a = np.arange(10)   # range(10)과 동일\n",
    "a"
   ]
  },
  {
   "cell_type": "code",
   "execution_count": 25,
   "metadata": {},
   "outputs": [
    {
     "data": {
      "text/plain": [
       "array([1, 3, 5, 7])"
      ]
     },
     "execution_count": 25,
     "metadata": {},
     "output_type": "execute_result"
    }
   ],
   "source": [
    "b = np.arange(1, 9, 2)   # range(1, 9, 2)와 동일\n",
    "b"
   ]
  },
  {
   "cell_type": "markdown",
   "metadata": {},
   "source": [
    "* 특정 구간을 일정한 크기로 쪼개어 어레이를 생성할 수 있다.\n",
    "    예를 들어 0과 1 구간을 6개의 점으로 균등하게 쪼개어 어레이를 만들려면\n",
    "    아래와 같이 실행하면 된다."
   ]
  },
  {
   "cell_type": "code",
   "execution_count": 26,
   "metadata": {},
   "outputs": [
    {
     "data": {
      "text/plain": [
       "array([ 0. ,  0.2,  0.4,  0.6,  0.8,  1. ])"
      ]
     },
     "execution_count": 26,
     "metadata": {},
     "output_type": "execute_result"
    }
   ],
   "source": [
    "c = np.linspace(0, 1, 6)   # 구간의 시작, 구간의 끝, 점의 개수\n",
    "c"
   ]
  },
  {
   "cell_type": "markdown",
   "metadata": {},
   "source": [
    "* 또한 구간의 끝점을 제외하고 6개의 점으로 균등하게 쪼개어 어레이를 만들려면\n",
    "    아래와 같이 실행하면 된다."
   ]
  },
  {
   "cell_type": "code",
   "execution_count": 27,
   "metadata": {},
   "outputs": [
    {
     "data": {
      "text/plain": [
       "array([ 0.        ,  0.16666667,  0.33333333,  0.5       ,  0.66666667,\n",
       "        0.83333333])"
      ]
     },
     "execution_count": 27,
     "metadata": {},
     "output_type": "execute_result"
    }
   ],
   "source": [
    "d = np.linspace(0, 1, 6, endpoint=False)\n",
    "d"
   ]
  },
  {
   "cell_type": "markdown",
   "metadata": {},
   "source": [
    "* 1로 채워진 어레이 구현하기"
   ]
  },
  {
   "cell_type": "code",
   "execution_count": 28,
   "metadata": {},
   "outputs": [
    {
     "data": {
      "text/plain": [
       "array([[ 1.,  1.,  1.],\n",
       "       [ 1.,  1.,  1.],\n",
       "       [ 1.,  1.,  1.]])"
      ]
     },
     "execution_count": 28,
     "metadata": {},
     "output_type": "execute_result"
    }
   ],
   "source": [
    "e = np.ones((3, 3)) # 인자: 원하는 모양(shape)의 튜플값\n",
    "e"
   ]
  },
  {
   "cell_type": "markdown",
   "metadata": {},
   "source": [
    "* 0으로 채워진 어레이 구현하기"
   ]
  },
  {
   "cell_type": "code",
   "execution_count": 29,
   "metadata": {},
   "outputs": [
    {
     "data": {
      "text/plain": [
       "array([[ 0.,  0.],\n",
       "       [ 0.,  0.]])"
      ]
     },
     "execution_count": 29,
     "metadata": {},
     "output_type": "execute_result"
    }
   ],
   "source": [
    "e = np.zeros((2, 2)) # 인자: 원하는 모양(shape)의 튜플값\n",
    "e"
   ]
  },
  {
   "cell_type": "markdown",
   "metadata": {},
   "source": [
    "* 선형대수에서 중요한 역할을 수행하는 단위행렬(unit matrix)은 \n",
    "    대각선은 1로 채우고\n",
    "    나머지는 모두 0으로 채워진다. \n",
    "    단위행렬에 해당하는 어레이를 구해보자."
   ]
  },
  {
   "cell_type": "code",
   "execution_count": 30,
   "metadata": {},
   "outputs": [
    {
     "data": {
      "text/plain": [
       "array([[ 1.,  0.,  0.],\n",
       "       [ 0.,  1.,  0.],\n",
       "       [ 0.,  0.,  1.]])"
      ]
     },
     "execution_count": 30,
     "metadata": {},
     "output_type": "execute_result"
    }
   ],
   "source": [
    "e = np.eye(3)  # 인자:원하는 모양(shape)의 어레이의 길이(len)\n",
    "e"
   ]
  },
  {
   "cell_type": "markdown",
   "metadata": {},
   "source": [
    "* 리수트가 주어졌을 경우 리스트의 항목들을 대각선 값으로 갖는 어레이를 구현해 보자."
   ]
  },
  {
   "cell_type": "code",
   "execution_count": 31,
   "metadata": {},
   "outputs": [
    {
     "data": {
      "text/plain": [
       "array([[1, 0, 0, 0],\n",
       "       [0, 2, 0, 0],\n",
       "       [0, 0, 3, 0],\n",
       "       [0, 0, 0, 4]])"
      ]
     },
     "execution_count": 31,
     "metadata": {},
     "output_type": "execute_result"
    }
   ],
   "source": [
    "e1 = np.diag((1, 2, 3, 4)) # 인자: 튜플, 리스트 또는 1차원 어레이\n",
    "e1"
   ]
  },
  {
   "cell_type": "code",
   "execution_count": 32,
   "metadata": {},
   "outputs": [
    {
     "data": {
      "text/plain": [
       "array([[1, 0, 0, 0],\n",
       "       [0, 2, 0, 0],\n",
       "       [0, 0, 3, 0],\n",
       "       [0, 0, 0, 4]])"
      ]
     },
     "execution_count": 32,
     "metadata": {},
     "output_type": "execute_result"
    }
   ],
   "source": [
    "e2 = np.diag([1, 2, 3, 4]) # 인자: 튜플, 리스트 또는 1차원 어레이\n",
    "e2"
   ]
  },
  {
   "cell_type": "code",
   "execution_count": 33,
   "metadata": {},
   "outputs": [
    {
     "data": {
      "text/plain": [
       "array([[1, 0, 0, 0],\n",
       "       [0, 2, 0, 0],\n",
       "       [0, 0, 3, 0],\n",
       "       [0, 0, 0, 4]])"
      ]
     },
     "execution_count": 33,
     "metadata": {},
     "output_type": "execute_result"
    }
   ],
   "source": [
    "e3 = np.diag(np.arange(1,5)) # 인자: 튜플, 리스트 또는 1차원 어레이\n",
    "e3"
   ]
  },
  {
   "cell_type": "code",
   "execution_count": 34,
   "metadata": {},
   "outputs": [
    {
     "data": {
      "text/plain": [
       "array([[ True,  True,  True,  True],\n",
       "       [ True,  True,  True,  True],\n",
       "       [ True,  True,  True,  True],\n",
       "       [ True,  True,  True,  True]], dtype=bool)"
      ]
     },
     "execution_count": 34,
     "metadata": {},
     "output_type": "execute_result"
    }
   ],
   "source": [
    "e1 == e2"
   ]
  },
  {
   "cell_type": "code",
   "execution_count": 35,
   "metadata": {},
   "outputs": [
    {
     "data": {
      "text/plain": [
       "array([[ True,  True,  True,  True],\n",
       "       [ True,  True,  True,  True],\n",
       "       [ True,  True,  True,  True],\n",
       "       [ True,  True,  True,  True]], dtype=bool)"
      ]
     },
     "execution_count": 35,
     "metadata": {},
     "output_type": "execute_result"
    }
   ],
   "source": [
    "e2 == e3"
   ]
  },
  {
   "cell_type": "markdown",
   "metadata": {},
   "source": [
    "* 난수(random number)들로 이루어진 어레이를 구할 수 있다. \n",
    "    `numpy.random` 모듈에 있는 `rand`, `randn` 함수를 활용할 수 있다.\n",
    "\n",
    "    - `numpy.random.rand` 함수: 0과 1사이에서 난수를 구한다. 방식은 균등분포를 \n",
    "        사용한다.\n",
    "    - `numpy.random.randn` 함수: 가우시안(Gaussian) 정규분포 방식을 사용하여\n",
    "        난수를 구한다. \n",
    "        \n",
    "  각 함수의 인자는 원하는 모양(shape)에 해당하는 튜플이다. \n",
    "  단, `numpy.ones` 또는 `numpy.zeros` 함수들과는 달리 괄호를 사용하지 않는다. "
   ]
  },
  {
   "cell_type": "code",
   "execution_count": 36,
   "metadata": {},
   "outputs": [
    {
     "data": {
      "text/plain": [
       "array([ 0.87944938,  0.99688606,  0.26486627,  0.34792906])"
      ]
     },
     "execution_count": 36,
     "metadata": {},
     "output_type": "execute_result"
    }
   ],
   "source": [
    "f = np.random.rand(4) \n",
    "f"
   ]
  },
  {
   "cell_type": "code",
   "execution_count": 37,
   "metadata": {},
   "outputs": [
    {
     "data": {
      "text/plain": [
       "array([[ 0.47651474,  0.37403808,  0.62014532],\n",
       "       [ 0.05074769,  0.04194931,  0.57250503]])"
      ]
     },
     "execution_count": 37,
     "metadata": {},
     "output_type": "execute_result"
    }
   ],
   "source": [
    "f1 = np.random.rand(2, 3)\n",
    "f1"
   ]
  },
  {
   "cell_type": "code",
   "execution_count": 38,
   "metadata": {},
   "outputs": [
    {
     "data": {
      "text/plain": [
       "array([-0.10619318,  0.55775992, -0.95435902,  0.70275379])"
      ]
     },
     "execution_count": 38,
     "metadata": {},
     "output_type": "execute_result"
    }
   ],
   "source": [
    "g = np.random.randn(4) \n",
    "g"
   ]
  },
  {
   "cell_type": "code",
   "execution_count": 39,
   "metadata": {},
   "outputs": [
    {
     "data": {
      "text/plain": [
       "array([[ 1.01103717,  0.13653793]])"
      ]
     },
     "execution_count": 39,
     "metadata": {},
     "output_type": "execute_result"
    }
   ],
   "source": [
    "g1 = np.random.randn(1, 2)\n",
    "g1"
   ]
  },
  {
   "cell_type": "markdown",
   "metadata": {},
   "source": [
    "* _**주의**_ \n",
    "    \n",
    "    난수 관련 함수들이 생성하는 난수는 사실 정말로 무작위로 \n",
    "    생성되지는 않는다.\n",
    "    각 프로그래밍 언어마다 난수를 만드는 방식이 정해져 있고,\n",
    "    정해진 방식에 맞추어 이미 난수표를 갖고 있다.\n",
    "    즉, `rand` 함수가 호출되는 순서에 따라 사실 동일한 숫자를 \n",
    "    생성하지만 사람 눈에는 무작위 숫자들로 보이는 것 뿐이다.\n",
    "\n",
    "    이런 현상을 해결하기 위해 시드(seed) 값을 사용하여 \n",
    "    생성되는 난수의 순서를 보다 무작위적으로 보여지게 할 수 \n",
    "    있다. 예를 들어 시드값을 0을로 하면 매번 동일한 난수들이 \n",
    "    생성되는 것을 아래와 같이 확인할 수 있다."
   ]
  },
  {
   "cell_type": "code",
   "execution_count": 40,
   "metadata": {},
   "outputs": [
    {
     "data": {
      "text/plain": [
       "array([ 0.5488135 ,  0.71518937,  0.60276338,  0.54488318])"
      ]
     },
     "execution_count": 40,
     "metadata": {},
     "output_type": "execute_result"
    }
   ],
   "source": [
    "np.random.seed(0) ; np.random.rand(4)"
   ]
  },
  {
   "cell_type": "code",
   "execution_count": 41,
   "metadata": {},
   "outputs": [
    {
     "data": {
      "text/plain": [
       "array([ 0.5488135 ,  0.71518937,  0.60276338,  0.54488318])"
      ]
     },
     "execution_count": 41,
     "metadata": {},
     "output_type": "execute_result"
    }
   ],
   "source": [
    "np.random.seed(0) ; np.random.rand(4)"
   ]
  },
  {
   "cell_type": "markdown",
   "metadata": {},
   "source": [
    "시드값을 변경하면 생성되는 난수들을 정말로 무작위처럼 보이게 할 수 있다."
   ]
  },
  {
   "cell_type": "code",
   "execution_count": 42,
   "metadata": {},
   "outputs": [
    {
     "data": {
      "text/plain": [
       "array([ 0.19151945,  0.62210877,  0.43772774,  0.78535858])"
      ]
     },
     "execution_count": 42,
     "metadata": {},
     "output_type": "execute_result"
    }
   ],
   "source": [
    "np.random.seed(1234) ; np.random.rand(4)"
   ]
  },
  {
   "cell_type": "code",
   "execution_count": 43,
   "metadata": {},
   "outputs": [
    {
     "data": {
      "text/plain": [
       "array([ 0.57051729,  0.56452876,  0.48844183,  0.33647775])"
      ]
     },
     "execution_count": 43,
     "metadata": {},
     "output_type": "execute_result"
    }
   ],
   "source": [
    "np.random.seed(2000) ; np.random.rand(4)"
   ]
  },
  {
   "cell_type": "markdown",
   "metadata": {},
   "source": [
    "### 연습문제\n",
    "\n",
    "`np.empty` 함수의 정의 및 활용법을 살펴 본 후 어떻게 활용하면 좋을지를 설명하라."
   ]
  },
  {
   "cell_type": "markdown",
   "metadata": {},
   "source": [
    "## 어레이에서 사용되는 기본 자료형\n",
    "\n",
    "어레이 객체에서 사용되는 항목들의 자료형을 알아보고자 한다. \n",
    "`dtype` 인스턴스변수에 저장되는 자료형값들이다.\n",
    "\n",
    "앞선 예제에서 `2., 3.` 등등 정수에 점이 사용되는 경우를 본 적이 있는데,\n",
    "이는 어레이의 자료형이 int가 아닌 float임을 보여주려 하기 때문이다."
   ]
  },
  {
   "cell_type": "code",
   "execution_count": 44,
   "metadata": {},
   "outputs": [
    {
     "data": {
      "text/plain": [
       "dtype('int64')"
      ]
     },
     "execution_count": 44,
     "metadata": {},
     "output_type": "execute_result"
    }
   ],
   "source": [
    "a = np.array([1, 2, 3])\n",
    "a.dtype"
   ]
  },
  {
   "cell_type": "markdown",
   "metadata": {},
   "source": [
    "위 어레이의 `dtype`을 `float`로 바꾸고자 한다면 dtype 키워드 인자를 사용해야 한다."
   ]
  },
  {
   "cell_type": "code",
   "execution_count": 45,
   "metadata": {},
   "outputs": [
    {
     "data": {
      "text/plain": [
       "dtype('float64')"
      ]
     },
     "execution_count": 45,
     "metadata": {},
     "output_type": "execute_result"
    }
   ],
   "source": [
    "b = np.array([1, 2, 3], dtype=float)\n",
    "b.dtype"
   ]
  },
  {
   "cell_type": "markdown",
   "metadata": {},
   "source": [
    "새로 생성된 어레이의 모양도 다르다."
   ]
  },
  {
   "cell_type": "code",
   "execution_count": 46,
   "metadata": {},
   "outputs": [
    {
     "data": {
      "text/plain": [
       "array([ 1.,  2.,  3.])"
      ]
     },
     "execution_count": 46,
     "metadata": {},
     "output_type": "execute_result"
    }
   ],
   "source": [
    "b"
   ]
  },
  {
   "cell_type": "markdown",
   "metadata": {},
   "source": [
    "물론 애초부터 float 자료형으로 선언할 수 있다."
   ]
  },
  {
   "cell_type": "code",
   "execution_count": 47,
   "metadata": {},
   "outputs": [
    {
     "data": {
      "text/plain": [
       "dtype('float64')"
      ]
     },
     "execution_count": 47,
     "metadata": {},
     "output_type": "execute_result"
    }
   ],
   "source": [
    "a = np.array([1., 2, 3.])\n",
    "a.dtype"
   ]
  },
  {
   "cell_type": "markdown",
   "metadata": {},
   "source": [
    "어레이가 기본적으로 사용하는 자료형은 `float`이다."
   ]
  },
  {
   "cell_type": "code",
   "execution_count": 48,
   "metadata": {},
   "outputs": [
    {
     "data": {
      "text/plain": [
       "dtype('float64')"
      ]
     },
     "execution_count": 48,
     "metadata": {},
     "output_type": "execute_result"
    }
   ],
   "source": [
    "a = np.ones((3,3))\n",
    "a.dtype"
   ]
  },
  {
   "cell_type": "markdown",
   "metadata": {},
   "source": [
    "`np.ones` 함수의 기본 정의를 확인하면 보다 정확히 알 수 있다."
   ]
  },
  {
   "cell_type": "code",
   "execution_count": 49,
   "metadata": {
    "collapsed": true
   },
   "outputs": [],
   "source": [
    "np.ones?"
   ]
  },
  {
   "cell_type": "markdown",
   "metadata": {},
   "source": [
    "`int`와 `float` 이외에도 다음의 자료형들이 어레이에서 지원된다.\n",
    "\n",
    "* complex: 복소수 자료형\n",
    "\n",
    "        In [58]: d = np.array([1+2j, 3+4j, 5+6j]).dtype\n",
    "        Out[58]: dtype('complex128')\n",
    "        \n",
    "* bool: 불리언 자료형\n",
    "\n",
    "        In [59]: e = np.array([True, False, False, True]).dtype\n",
    "        Out[59]: dtype(’bool’)\n",
    "        \n",
    "* S: 문자열 자료형\n",
    "\n",
    "        In [60]: f = np.array([’Bonjour’, ’Hello’]).dtype\n",
    "        Out[60]: dtype(’S7’)\n",
    "\n",
    "등등.\n",
    "\n",
    "_**주의:**_\n",
    "\n",
    "`int32, int64, float64, S8, S12` 자료형 이름 뒤에 숫자가 사용되기도 한다.\n",
    "이는 어레이에서 사용되는 각각의 항목의 값들이 가질 수 있는 최대 크기를 의미한다. \n",
    "즉, 사용된 정수들이 32비트로 모두 담을 수 있는지, 또는 사용된 문자열들의 길이가 최대 8바이트 또는 12바이트 인지를 나타낸다. \n",
    "\n",
    "예를 들어 아래 문자열로 이루어진 어레이에서 가장 긴 문자열이 4바이트이기 때문에, \n",
    "dtype이 `'S4'`이다."
   ]
  },
  {
   "cell_type": "code",
   "execution_count": 50,
   "metadata": {},
   "outputs": [
    {
     "data": {
      "text/plain": [
       "dtype('S4')"
      ]
     },
     "execution_count": 50,
     "metadata": {},
     "output_type": "execute_result"
    }
   ],
   "source": [
    "np.array(['ab', 'abc', 'abcd']).dtype"
   ]
  }
 ],
 "metadata": {
  "kernelspec": {
   "display_name": "Python 2",
   "language": "python",
   "name": "python2"
  },
  "language_info": {
   "codemirror_mode": {
    "name": "ipython",
    "version": 2
   },
   "file_extension": ".py",
   "mimetype": "text/x-python",
   "name": "python",
   "nbconvert_exporter": "python",
   "pygments_lexer": "ipython2",
   "version": "2.7.13"
  }
 },
 "nbformat": 4,
 "nbformat_minor": 1
}
