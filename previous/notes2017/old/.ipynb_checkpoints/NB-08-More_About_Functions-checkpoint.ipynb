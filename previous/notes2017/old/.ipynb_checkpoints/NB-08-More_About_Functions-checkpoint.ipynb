{
 "cells": [
  {
   "cell_type": "markdown",
   "metadata": {},
   "source": [
    "# 함수\n",
    "\n",
    "함수의 활용에 대해 좀 더 자세히 살펴본다.\n",
    "\n",
    "* 함수의 부작용(side effect)\n",
    "* `return`과 `print`의 활용법 "
   ]
  },
  {
   "cell_type": "markdown",
   "metadata": {},
   "source": [
    "## 함수의 부작용(side effect)\n",
    "\n",
    "리스트 관련 메소드인 `pop()` 함수의 경우 특정값을 리턴하는 것과 더불어 리턴하는 값을 해당 리스트에서 삭제하는 부가 기능을 수행한다. 즉 메모리 상태가 변경된다. 이와같이 함수가 값을 리턴하는 것 이외에 메모리 상태를 변경한다면 이를 함수의 부작용이라 부른다. \n",
    "\n",
    "예제: \n",
    "\n",
    "    In [25]: L = [1, 2, 3]\n",
    "    In [26]: L.pop()\n",
    "    Out[26]: 3\n",
    "    In [27]: L\n",
    "    Out[27]: [1, 2]\n",
    "    \n",
    "즉, `pop()` 메소드를 호출할 때 마다 메모리에 저장된 `L`의 값 또한 변한다. 파이썬튜토어를 이용하면 아래와 같다."
   ]
  },
  {
   "cell_type": "code",
   "execution_count": 1,
   "metadata": {},
   "outputs": [],
   "source": [
    "%load_ext tutormagic"
   ]
  },
  {
   "cell_type": "code",
   "execution_count": 2,
   "metadata": {},
   "outputs": [
    {
     "data": {
      "text/html": [
       "\n",
       "        <iframe\n",
       "            width=\"90%\"\n",
       "            height=\"350\"\n",
       "            src=\"http://pythontutor.com/iframe-embed.html#code=L%20%3D%20%5B1%2C%202%2C%203%5D%0Aa%20%3D%20L.pop%28%29%0AL&origin=opt-frontend.js&cumulative=false&heapPrimitives=false&textReferences=false&py=3&rawInputLstJSON=%5B%5D&curInstr=0&codeDivWidth=50%25&codeDivHeight=100%25\"\n",
       "            frameborder=\"0\"\n",
       "            allowfullscreen\n",
       "        ></iframe>\n",
       "        "
      ],
      "text/plain": [
       "<IPython.lib.display.IFrame at 0x106187e90>"
      ]
     },
     "metadata": {},
     "output_type": "display_data"
    }
   ],
   "source": [
    "%%tutor\n",
    "L = [1, 2, 3]\n",
    "a = L.pop()\n",
    "L"
   ]
  },
  {
   "cell_type": "markdown",
   "metadata": {},
   "source": [
    "### `sum` 함수 구현하기\n",
    "\n",
    "파이썬에 기본적으로 내장된 함수들이 여럿 있다. 지금까지 살펴본 내장함수로 `abs`, `dir`, `float`, `format`, `help`, `id`, `int`, `len`, `min`, `max`, `range`, `type` 등이 있다. 보다 자세한 내용은 아래 사이트를 참조하면 된다.\n",
    "\n",
    "https://docs.python.org/2/library/functions.html\n",
    "\n",
    "이번엔 `sum` 이라는 내장함수를 살펴보고자 한다. `sum` 함수는 리스트 또는 튜플 자료형을 입력받으면 각 항목들의 값의 합을 리턴해준다. 대신에 숫자들로만 구성된 시퀀스에 대해서만 작동한다.\n",
    "\n",
    "    In [25]: sum([1, 2, 3])\n",
    "    Out[25]: 6"
   ]
  },
  {
   "cell_type": "code",
   "execution_count": 3,
   "metadata": {},
   "outputs": [
    {
     "data": {
      "text/plain": [
       "6"
      ]
     },
     "execution_count": 3,
     "metadata": {},
     "output_type": "execute_result"
    }
   ],
   "source": [
    "sum((1, 2, 3))"
   ]
  },
  {
   "cell_type": "markdown",
   "metadata": {},
   "source": [
    "`sum` 내장함수와 동일한 값을 리턴하는 함수를 두 가지 방식으로 직접 구현해보도록 하자.\n",
    "\n",
    "아래 정의에서 `sum1` 함수는 부작용이 없도록 구현한 반면에 `sum2` 함수는 부작용이 있도록 구현하였다. 두 함수의 차이점을 파이썬튜토어를 이용하여 확인할 수 있다. "
   ]
  },
  {
   "cell_type": "code",
   "execution_count": 4,
   "metadata": {},
   "outputs": [
    {
     "data": {
      "text/html": [
       "\n",
       "        <iframe\n",
       "            width=\"90%\"\n",
       "            height=\"350\"\n",
       "            src=\"http://pythontutor.com/iframe-embed.html#code=%0Adef%20sum1%28xs%29%3A%0A%20%20%20%20s%20%3D%200%0A%20%20%20%20for%20i%20in%20xs%3A%0A%20%20%20%20%20%20%20%20s%20%3D%20s%20%2B%20i%0A%20%20%20%20return%20s%0A%0Aa%20%3D%20sum1%28%5B1%2C2%2C3%5D%29&origin=opt-frontend.js&cumulative=false&heapPrimitives=false&textReferences=false&py=3&rawInputLstJSON=%5B%5D&curInstr=0&codeDivWidth=50%25&codeDivHeight=100%25\"\n",
       "            frameborder=\"0\"\n",
       "            allowfullscreen\n",
       "        ></iframe>\n",
       "        "
      ],
      "text/plain": [
       "<IPython.lib.display.IFrame at 0x106151cd0>"
      ]
     },
     "metadata": {},
     "output_type": "display_data"
    }
   ],
   "source": [
    "%%tutor\n",
    "\n",
    "def sum1(xs):\n",
    "    s = 0\n",
    "    for i in xs:\n",
    "        s = s + i\n",
    "    return s\n",
    "\n",
    "a = sum1([1,2,3])"
   ]
  },
  {
   "cell_type": "code",
   "execution_count": 5,
   "metadata": {},
   "outputs": [
    {
     "data": {
      "text/html": [
       "\n",
       "        <iframe\n",
       "            width=\"90%\"\n",
       "            height=\"350\"\n",
       "            src=\"http://pythontutor.com/iframe-embed.html#code=%0Adef%20sum2%28xs%29%3A%0A%20%20%20%20s%20%3D%200%0A%20%20%20%20for%20i%20in%20range%28len%28xs%29%29%3A%0A%20%20%20%20%20%20%20%20s%20%3D%20s%20%2B%20xs.pop%28%29%0A%20%20%20%20return%20s%0A%0Aa%20%3D%20sum2%28%5B1%2C2%2C3%5D%29&origin=opt-frontend.js&cumulative=false&heapPrimitives=false&textReferences=false&py=3&rawInputLstJSON=%5B%5D&curInstr=0&codeDivWidth=50%25&codeDivHeight=100%25\"\n",
       "            frameborder=\"0\"\n",
       "            allowfullscreen\n",
       "        ></iframe>\n",
       "        "
      ],
      "text/plain": [
       "<IPython.lib.display.IFrame at 0x106151d90>"
      ]
     },
     "metadata": {},
     "output_type": "display_data"
    }
   ],
   "source": [
    "%%tutor\n",
    "\n",
    "def sum2(xs):\n",
    "    s = 0\n",
    "    for i in range(len(xs)):\n",
    "        s = s + xs.pop()\n",
    "    return s\n",
    "\n",
    "a = sum2([1,2,3])"
   ]
  },
  {
   "cell_type": "markdown",
   "metadata": {},
   "source": [
    "#### 부작용 사용 여부\n",
    "\n",
    "함수를 정의할 때 부작용이 있도록 코딩할지 여부를 판단해야 하지만, 부작용이 필요한 이유가 명확하지 않다면 부작용이 없도록 함수를 코딩해야 한다. 하지만 부작용이 필요한 경우가 존재한다. 리스트의 `pop()` 메소드가 대표적인 경우이다."
   ]
  },
  {
   "cell_type": "markdown",
   "metadata": {},
   "source": [
    "#### 내장함수 활용\n",
    "\n",
    "특정 기능을 수행하는 함수를 작성하기 전에 동일한 기능을 수행하는 내장함수가 이미 존재하는지 확인하는 것이 좋다. `sum` 함수의 경우 많이 사용되기에 이미 구현되어있음. "
   ]
  },
  {
   "cell_type": "markdown",
   "metadata": {},
   "source": [
    "## `return` 과 `print`의 활용법\n",
    "\n",
    "파이썬의 모든 함수는 리턴값을 갖고 있다. 함수를 정의할 때 `return`값을 명시하지 않아도 자동으로 `return None`을 추가해서 처리한다.\n",
    "`print` 함수가 대표적으로 `None`을 리턴값으로 갖고 있는 함수이다. \n",
    "\n",
    "리턴값이 `None`이면 재활용을 할 수 없다. `print` 함수가 대표적이다. 함수를 정의할 때 가능하면 `print` 문은 사용하지 않도록 한다. 어차피 재활용되지 않는 결과만 보여주기 때문이다. \n",
    "\n",
    "하지만 디버깅 등 위해 일부러 코드 중간중간에 `print`문을 사용하곤 한다. 기능이 제대로 작동하는지 확인하기 위한 용도로 사용한다."
   ]
  }
 ],
 "metadata": {
  "kernelspec": {
   "display_name": "Python 2",
   "language": "python",
   "name": "python2"
  },
  "language_info": {
   "codemirror_mode": {
    "name": "ipython",
    "version": 2
   },
   "file_extension": ".py",
   "mimetype": "text/x-python",
   "name": "python",
   "nbconvert_exporter": "python",
   "pygments_lexer": "ipython2",
   "version": "2.7.13"
  }
 },
 "nbformat": 4,
 "nbformat_minor": 1
}
