{
 "cells": [
  {
   "cell_type": "markdown",
   "metadata": {},
   "source": [
    "# 머신러닝 스터디 소개"
   ]
  },
  {
   "cell_type": "markdown",
   "metadata": {},
   "source": [
    "겨울방학 동안 머신러닝 스터디를 진행합니다. \n",
    "참여하고자 하는 학생은 아래 링크를 눌러 이름과 연락처를 남기세요.\n",
    "\n",
    "https://docs.google.com/spreadsheets/d/1L9GYazB0TzeKnkJsaqMyOO-w-I5KCOPehzqxxOTrke0/edit?usp=sharing"
   ]
  },
  {
   "cell_type": "markdown",
   "metadata": {},
   "source": [
    "스터디 내용\n",
    "\n",
    "* 아래 사이트에 있는 동영상을 참고하여 스터디 진행\n",
    "\n",
    "    https://hunkim.github.io/ml/\n",
    "\n",
    "    위 사이트 하단에 있는 \"시즌 1 - 딥러닝의 기본\" 부분 다룸.\n",
    "\n",
    "\n",
    "* 진행 시기: 2018년 1월~2월, 약 8주 동안\n",
    "\n",
    "\n",
    "* 진행요령\n",
    "    * 온라인으로 스터디 진행\n",
    "    * 주 1~2회 모임\n",
    "    * 정해진 내용을 각자 공부한 후에 온라인 스터디는 질문/답변 시간으로 활용함\n",
    "    * 온라인 참여 필요 도구: 노트북(피씨)과 스마트폰\n",
    "    \n",
    "\n",
    "* 스터디 진행자: 컴퓨터공학과 이계식 교수\n",
    "\n",
    "\n",
    "* 참여조건\n",
    "    * 2017년 2학기 공업수학 이수자\n",
    "    * 파이썬 기초를 터득한 학생 누구나"
   ]
  },
  {
   "cell_type": "markdown",
   "metadata": {},
   "source": [
    "# 머신러닝 입문 소개 동영상\n",
    "\n",
    "\n",
    "아래 4개의 동영상을 보면서 머신러닝에 대한 소개와 스터디 진행방식에 대한 감을 잡을 수 있다.\n",
    "\n",
    "* https://www.youtube.com/watch?v=BS6O0zOGX4E\n",
    "\n",
    "* https://www.youtube.com/watch?v=qPMeuL2LIqY\n",
    "\n",
    "* https://www.youtube.com/watch?v=Hax03rCn3UI\n",
    "\n",
    "* https://www.youtube.com/watch?v=TxIVr-nk1so"
   ]
  }
 ],
 "metadata": {
  "kernelspec": {
   "display_name": "Python 2",
   "language": "python",
   "name": "python2"
  },
  "language_info": {
   "codemirror_mode": {
    "name": "ipython",
    "version": 2
   },
   "file_extension": ".py",
   "mimetype": "text/x-python",
   "name": "python",
   "nbconvert_exporter": "python",
   "pygments_lexer": "ipython2",
   "version": "2.7.13"
  }
 },
 "nbformat": 4,
 "nbformat_minor": 2
}
