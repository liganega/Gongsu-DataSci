{
 "cells": [
  {
   "cell_type": "code",
   "execution_count": 1,
   "metadata": {
    "collapsed": true
   },
   "outputs": [],
   "source": [
    "from __future__ import print_function, division"
   ]
  },
  {
   "cell_type": "markdown",
   "metadata": {},
   "source": [
    "#### 자료 안내: 여기서 다루는 내용은 아래 사이트의 내용을 참고하여 생성되었음.\n",
    "\n",
    "https://github.com/rouseguy/intro2stats"
   ]
  },
  {
   "cell_type": "markdown",
   "metadata": {},
   "source": [
    "# 상관분석"
   ]
  },
  {
   "cell_type": "markdown",
   "metadata": {},
   "source": [
    "#### 안내사항\n",
    "\n",
    "지난 시간에 다룬 21장과 22장 내용을 활용하고자 한다.\n",
    "따라서 아래와 같이 21장과 22장 내용을 모듈로 담고 있는 파이썬 파일을 임포트 해야 한다.\n",
    "\n",
    "**주의:** 아래 두 개의 파일이 동일한 디렉토리에 위치해야 한다.\n",
    "* GongSu21_Statistics_Averages.py \n",
    "* GongSu22_Statistics_Population_Variance.py "
   ]
  },
  {
   "cell_type": "code",
   "execution_count": 2,
   "metadata": {
    "collapsed": true
   },
   "outputs": [],
   "source": [
    "from GongSu22_Statistics_Population_Variance import *"
   ]
  },
  {
   "cell_type": "markdown",
   "metadata": {},
   "source": [
    "#### 주의\n",
    "\n",
    "위 모듈을 임포트하면 아래 모듈 또한 자동으로 임포트 된다.\n",
    "\n",
    "* GongSu21_Statistics_Averages.py"
   ]
  },
  {
   "cell_type": "markdown",
   "metadata": {},
   "source": [
    "## 주요 내용"
   ]
  },
  {
   "cell_type": "markdown",
   "metadata": {},
   "source": [
    "* 상관분석\n",
    "* 공분산\n",
    "* 상관관계와 인과관계"
   ]
  },
  {
   "cell_type": "markdown",
   "metadata": {},
   "source": [
    "## 주요 예제"
   ]
  },
  {
   "cell_type": "markdown",
   "metadata": {},
   "source": [
    "21장에서 다룬 미국의 51개 주에서 거래되는 담배(식물)의 도매가격 데이터를 보다 상세히 분석한다. \n",
    "\n",
    "특히, 캘리포니아 주에서 거래된 담배(식물) 도매가와 뉴욕 주에서 거래된 담배(식물) 도매가의 상관관계를 다룬다."
   ]
  },
  {
   "cell_type": "markdown",
   "metadata": {},
   "source": [
    "## 오늘 사용할 데이터\n",
    "\n",
    "* 주별 담배(식물) 도매가격 및 판매일자: Weed_Price.csv\n",
    "\n",
    "아래 그림은 미국의 주별 담배(식물) 판매 데이터를 담은 Weed_Price.csv 파일를 엑셀로 읽었을 때의 일부를 보여준다.\n",
    "\n",
    "<p>\n",
    "<table cellspacing=\"20\">\n",
    "<tr>\n",
    "<td>\n",
    "<img src=\"img/weed_price.png\" style=\"width:600\">\n",
    "</td>\n",
    "</tr>\n",
    "</table>\n",
    "</p>"
   ]
  },
  {
   "cell_type": "markdown",
   "metadata": {},
   "source": [
    "**주의:** 언급된 파일이 GongSu21_Statistics_Averages 모듈에서 prices_pd 라는 변수에 저장되었음. \n",
    "또한 주(State)별, 거래날짜별(date) 기준으로 이미 정렬되어 있음. \n",
    "\n",
    "따라서 아래에서 볼 수 있듯이 예를 들어, prices_pd의 첫 다섯 줄의 내용은 알파벳순으로 가장 빠른 이름을 가진 알라바마(Alabama) 주에서 거래된 데이터 중에서 가정 먼저 거래된 5개의 거래내용을 담고 있다."
   ]
  },
  {
   "cell_type": "code",
   "execution_count": 3,
   "metadata": {},
   "outputs": [
    {
     "data": {
      "text/html": [
       "<div>\n",
       "<style>\n",
       "    .dataframe thead tr:only-child th {\n",
       "        text-align: right;\n",
       "    }\n",
       "\n",
       "    .dataframe thead th {\n",
       "        text-align: left;\n",
       "    }\n",
       "\n",
       "    .dataframe tbody tr th {\n",
       "        vertical-align: top;\n",
       "    }\n",
       "</style>\n",
       "<table border=\"1\" class=\"dataframe\">\n",
       "  <thead>\n",
       "    <tr style=\"text-align: right;\">\n",
       "      <th></th>\n",
       "      <th>State</th>\n",
       "      <th>HighQ</th>\n",
       "      <th>HighQN</th>\n",
       "      <th>MedQ</th>\n",
       "      <th>MedQN</th>\n",
       "      <th>LowQ</th>\n",
       "      <th>LowQN</th>\n",
       "      <th>date</th>\n",
       "    </tr>\n",
       "  </thead>\n",
       "  <tbody>\n",
       "    <tr>\n",
       "      <th>20094</th>\n",
       "      <td>Alabama</td>\n",
       "      <td>339.65</td>\n",
       "      <td>1033</td>\n",
       "      <td>198.04</td>\n",
       "      <td>926</td>\n",
       "      <td>147.15</td>\n",
       "      <td>122</td>\n",
       "      <td>2013-12-27</td>\n",
       "    </tr>\n",
       "    <tr>\n",
       "      <th>20859</th>\n",
       "      <td>Alabama</td>\n",
       "      <td>339.65</td>\n",
       "      <td>1033</td>\n",
       "      <td>198.04</td>\n",
       "      <td>926</td>\n",
       "      <td>147.15</td>\n",
       "      <td>122</td>\n",
       "      <td>2013-12-28</td>\n",
       "    </tr>\n",
       "    <tr>\n",
       "      <th>21573</th>\n",
       "      <td>Alabama</td>\n",
       "      <td>339.75</td>\n",
       "      <td>1036</td>\n",
       "      <td>198.26</td>\n",
       "      <td>929</td>\n",
       "      <td>149.49</td>\n",
       "      <td>123</td>\n",
       "      <td>2013-12-29</td>\n",
       "    </tr>\n",
       "    <tr>\n",
       "      <th>22287</th>\n",
       "      <td>Alabama</td>\n",
       "      <td>339.75</td>\n",
       "      <td>1036</td>\n",
       "      <td>198.81</td>\n",
       "      <td>930</td>\n",
       "      <td>149.49</td>\n",
       "      <td>123</td>\n",
       "      <td>2013-12-30</td>\n",
       "    </tr>\n",
       "    <tr>\n",
       "      <th>22797</th>\n",
       "      <td>Alabama</td>\n",
       "      <td>339.42</td>\n",
       "      <td>1040</td>\n",
       "      <td>198.68</td>\n",
       "      <td>932</td>\n",
       "      <td>149.49</td>\n",
       "      <td>123</td>\n",
       "      <td>2013-12-31</td>\n",
       "    </tr>\n",
       "  </tbody>\n",
       "</table>\n",
       "</div>"
      ],
      "text/plain": [
       "         State   HighQ  HighQN    MedQ  MedQN    LowQ  LowQN       date\n",
       "20094  Alabama  339.65    1033  198.04    926  147.15    122 2013-12-27\n",
       "20859  Alabama  339.65    1033  198.04    926  147.15    122 2013-12-28\n",
       "21573  Alabama  339.75    1036  198.26    929  149.49    123 2013-12-29\n",
       "22287  Alabama  339.75    1036  198.81    930  149.49    123 2013-12-30\n",
       "22797  Alabama  339.42    1040  198.68    932  149.49    123 2013-12-31"
      ]
     },
     "execution_count": 3,
     "metadata": {},
     "output_type": "execute_result"
    }
   ],
   "source": [
    "prices_pd.head()"
   ]
  },
  {
   "cell_type": "markdown",
   "metadata": {},
   "source": [
    "## 상관분석 설명\n",
    "\n",
    "상관분석은 두 데이터 집단이 어떤 관계를 갖고 있는 지를 분석하는 방법이다. \n",
    "두 데이터 집단이 서로 관계가 있을 때 상관관계를 계산할 수도 있으며, 상관관계의 정도를 파악하기 위해서 대표적으로 피어슨 상관계수가 사용된다. 또한 상관계수를 계산하기 위해 공분산을 먼저 구해야 한다."
   ]
  },
  {
   "cell_type": "markdown",
   "metadata": {},
   "source": [
    "## 공분산(Covariance)\n",
    "\n",
    "공분산은 두 종류의 데이터 집단 x와 y가 주어졌을 때 한쪽에서의 데이터의 변화와 \n",
    "다른쪽에서의 데이터의 변화가 서로 어떤 관계에 있는지를 설명해주는 개념이다. \n",
    "공분산은 아래 공식에 따라 계산한다.\n",
    "\n",
    "$$Cov(x, y) = \\frac{\\Sigma_{i=1}^{n} (x_i - \\bar x)(y_i - \\bar y)}{n-1}$$"
   ]
  },
  {
   "cell_type": "markdown",
   "metadata": {},
   "source": [
    "###  캘리포니아 주와 뉴욕 주에서 거래된 상품(HighQ) 담배(식물) 도매가의 공분산"
   ]
  },
  {
   "cell_type": "markdown",
   "metadata": {},
   "source": [
    "#### 준비 작업: 뉴욕 주 데이터 정리하기"
   ]
  },
  {
   "cell_type": "markdown",
   "metadata": {},
   "source": [
    "먼저 뉴욕 주에서 거래된 담배(식물) 도매가의 정보를 따로 떼서 `ny_pd` 변수에 저장하자.\n",
    "방식은 california_pd를 구할 때와 동일하게 마스크 인덱싱을 사용한다."
   ]
  },
  {
   "cell_type": "code",
   "execution_count": 4,
   "metadata": {},
   "outputs": [
    {
     "data": {
      "text/html": [
       "<div>\n",
       "<style>\n",
       "    .dataframe thead tr:only-child th {\n",
       "        text-align: right;\n",
       "    }\n",
       "\n",
       "    .dataframe thead th {\n",
       "        text-align: left;\n",
       "    }\n",
       "\n",
       "    .dataframe tbody tr th {\n",
       "        vertical-align: top;\n",
       "    }\n",
       "</style>\n",
       "<table border=\"1\" class=\"dataframe\">\n",
       "  <thead>\n",
       "    <tr style=\"text-align: right;\">\n",
       "      <th></th>\n",
       "      <th>State</th>\n",
       "      <th>HighQ</th>\n",
       "      <th>HighQN</th>\n",
       "      <th>MedQ</th>\n",
       "      <th>MedQN</th>\n",
       "      <th>LowQ</th>\n",
       "      <th>LowQN</th>\n",
       "      <th>date</th>\n",
       "    </tr>\n",
       "  </thead>\n",
       "  <tbody>\n",
       "    <tr>\n",
       "      <th>20120</th>\n",
       "      <td>New York</td>\n",
       "      <td>351.98</td>\n",
       "      <td>5773</td>\n",
       "      <td>268.83</td>\n",
       "      <td>5786</td>\n",
       "      <td>190.31</td>\n",
       "      <td>479</td>\n",
       "      <td>2013-12-27</td>\n",
       "    </tr>\n",
       "    <tr>\n",
       "      <th>20885</th>\n",
       "      <td>New York</td>\n",
       "      <td>351.92</td>\n",
       "      <td>5775</td>\n",
       "      <td>268.83</td>\n",
       "      <td>5786</td>\n",
       "      <td>190.31</td>\n",
       "      <td>479</td>\n",
       "      <td>2013-12-28</td>\n",
       "    </tr>\n",
       "    <tr>\n",
       "      <th>21599</th>\n",
       "      <td>New York</td>\n",
       "      <td>351.99</td>\n",
       "      <td>5785</td>\n",
       "      <td>269.02</td>\n",
       "      <td>5806</td>\n",
       "      <td>190.75</td>\n",
       "      <td>480</td>\n",
       "      <td>2013-12-29</td>\n",
       "    </tr>\n",
       "    <tr>\n",
       "      <th>22313</th>\n",
       "      <td>New York</td>\n",
       "      <td>352.02</td>\n",
       "      <td>5791</td>\n",
       "      <td>268.98</td>\n",
       "      <td>5814</td>\n",
       "      <td>190.75</td>\n",
       "      <td>480</td>\n",
       "      <td>2013-12-30</td>\n",
       "    </tr>\n",
       "    <tr>\n",
       "      <th>22823</th>\n",
       "      <td>New York</td>\n",
       "      <td>351.97</td>\n",
       "      <td>5794</td>\n",
       "      <td>268.93</td>\n",
       "      <td>5818</td>\n",
       "      <td>190.75</td>\n",
       "      <td>480</td>\n",
       "      <td>2013-12-31</td>\n",
       "    </tr>\n",
       "    <tr>\n",
       "      <th>26</th>\n",
       "      <td>New York</td>\n",
       "      <td>351.98</td>\n",
       "      <td>5800</td>\n",
       "      <td>268.88</td>\n",
       "      <td>5824</td>\n",
       "      <td>190.38</td>\n",
       "      <td>482</td>\n",
       "      <td>2014-01-01</td>\n",
       "    </tr>\n",
       "    <tr>\n",
       "      <th>791</th>\n",
       "      <td>New York</td>\n",
       "      <td>351.97</td>\n",
       "      <td>5810</td>\n",
       "      <td>268.88</td>\n",
       "      <td>5834</td>\n",
       "      <td>190.49</td>\n",
       "      <td>483</td>\n",
       "      <td>2014-01-02</td>\n",
       "    </tr>\n",
       "    <tr>\n",
       "      <th>1505</th>\n",
       "      <td>New York</td>\n",
       "      <td>352.02</td>\n",
       "      <td>5818</td>\n",
       "      <td>268.88</td>\n",
       "      <td>5846</td>\n",
       "      <td>190.39</td>\n",
       "      <td>484</td>\n",
       "      <td>2014-01-03</td>\n",
       "    </tr>\n",
       "    <tr>\n",
       "      <th>2270</th>\n",
       "      <td>New York</td>\n",
       "      <td>351.92</td>\n",
       "      <td>5832</td>\n",
       "      <td>268.99</td>\n",
       "      <td>5850</td>\n",
       "      <td>190.39</td>\n",
       "      <td>484</td>\n",
       "      <td>2014-01-04</td>\n",
       "    </tr>\n",
       "    <tr>\n",
       "      <th>3035</th>\n",
       "      <td>New York</td>\n",
       "      <td>352.01</td>\n",
       "      <td>5842</td>\n",
       "      <td>269.10</td>\n",
       "      <td>5861</td>\n",
       "      <td>189.73</td>\n",
       "      <td>487</td>\n",
       "      <td>2014-01-05</td>\n",
       "    </tr>\n",
       "  </tbody>\n",
       "</table>\n",
       "</div>"
      ],
      "text/plain": [
       "          State   HighQ  HighQN    MedQ  MedQN    LowQ  LowQN       date\n",
       "20120  New York  351.98    5773  268.83   5786  190.31    479 2013-12-27\n",
       "20885  New York  351.92    5775  268.83   5786  190.31    479 2013-12-28\n",
       "21599  New York  351.99    5785  269.02   5806  190.75    480 2013-12-29\n",
       "22313  New York  352.02    5791  268.98   5814  190.75    480 2013-12-30\n",
       "22823  New York  351.97    5794  268.93   5818  190.75    480 2013-12-31\n",
       "26     New York  351.98    5800  268.88   5824  190.38    482 2014-01-01\n",
       "791    New York  351.97    5810  268.88   5834  190.49    483 2014-01-02\n",
       "1505   New York  352.02    5818  268.88   5846  190.39    484 2014-01-03\n",
       "2270   New York  351.92    5832  268.99   5850  190.39    484 2014-01-04\n",
       "3035   New York  352.01    5842  269.10   5861  189.73    487 2014-01-05"
      ]
     },
     "execution_count": 4,
     "metadata": {},
     "output_type": "execute_result"
    }
   ],
   "source": [
    "ny_pd = prices_pd[prices_pd['State'] == 'New York'].copy(True)\n",
    "ny_pd.head(10)"
   ]
  },
  {
   "cell_type": "markdown",
   "metadata": {},
   "source": [
    "이제 정수 인덱싱을 사용하여 상품(HighQ)에 대한 정보만을 가져오도록 하자."
   ]
  },
  {
   "cell_type": "code",
   "execution_count": 5,
   "metadata": {
    "collapsed": true
   },
   "outputs": [],
   "source": [
    "ny_pd_HighQ = ny_pd.iloc[:, [1, 7]]"
   ]
  },
  {
   "cell_type": "markdown",
   "metadata": {},
   "source": [
    "위 코드에 사용된 정수 인덱싱은 다음과 같다.\n",
    "\n",
    "    [:, [1, 7]]\n",
    "    \n",
    "* ':' 부분 설명: 행 전체를 대상으로 한다.\n",
    "* '[1, 7]' 부분 설명: 1번 열과 7번 열을 대상으로 한다.\n",
    "\n",
    "결과적으로 1번 열과 7번 열 전체만을 추출하는 슬라이싱을 의미한다.\n",
    "\n",
    "이제 각 열의 이름을 새로 지정하고자 한다. 뉴욕 주에서 거래된 상품(HighQ) 이기에 NY_HighQ라 명명한다."
   ]
  },
  {
   "cell_type": "code",
   "execution_count": 6,
   "metadata": {},
   "outputs": [
    {
     "data": {
      "text/html": [
       "<div>\n",
       "<style>\n",
       "    .dataframe thead tr:only-child th {\n",
       "        text-align: right;\n",
       "    }\n",
       "\n",
       "    .dataframe thead th {\n",
       "        text-align: left;\n",
       "    }\n",
       "\n",
       "    .dataframe tbody tr th {\n",
       "        vertical-align: top;\n",
       "    }\n",
       "</style>\n",
       "<table border=\"1\" class=\"dataframe\">\n",
       "  <thead>\n",
       "    <tr style=\"text-align: right;\">\n",
       "      <th></th>\n",
       "      <th>NY_HighQ</th>\n",
       "      <th>date</th>\n",
       "    </tr>\n",
       "  </thead>\n",
       "  <tbody>\n",
       "    <tr>\n",
       "      <th>20120</th>\n",
       "      <td>351.98</td>\n",
       "      <td>2013-12-27</td>\n",
       "    </tr>\n",
       "    <tr>\n",
       "      <th>20885</th>\n",
       "      <td>351.92</td>\n",
       "      <td>2013-12-28</td>\n",
       "    </tr>\n",
       "    <tr>\n",
       "      <th>21599</th>\n",
       "      <td>351.99</td>\n",
       "      <td>2013-12-29</td>\n",
       "    </tr>\n",
       "    <tr>\n",
       "      <th>22313</th>\n",
       "      <td>352.02</td>\n",
       "      <td>2013-12-30</td>\n",
       "    </tr>\n",
       "    <tr>\n",
       "      <th>22823</th>\n",
       "      <td>351.97</td>\n",
       "      <td>2013-12-31</td>\n",
       "    </tr>\n",
       "  </tbody>\n",
       "</table>\n",
       "</div>"
      ],
      "text/plain": [
       "       NY_HighQ       date\n",
       "20120    351.98 2013-12-27\n",
       "20885    351.92 2013-12-28\n",
       "21599    351.99 2013-12-29\n",
       "22313    352.02 2013-12-30\n",
       "22823    351.97 2013-12-31"
      ]
     },
     "execution_count": 6,
     "metadata": {},
     "output_type": "execute_result"
    }
   ],
   "source": [
    "ny_pd_HighQ.columns = ['NY_HighQ', 'date']\n",
    "ny_pd_HighQ.head()"
   ]
  },
  {
   "cell_type": "markdown",
   "metadata": {},
   "source": [
    "#### 준비 작업: 캘리포니아 주 데이터 정리하기"
   ]
  },
  {
   "cell_type": "markdown",
   "metadata": {},
   "source": [
    "비슷한 일을 캘리포니아 주에서 거래된 상품(HighQ) 담배(식물) 도매가에 대해서 실행한다."
   ]
  },
  {
   "cell_type": "code",
   "execution_count": 7,
   "metadata": {},
   "outputs": [
    {
     "data": {
      "text/html": [
       "<div>\n",
       "<style>\n",
       "    .dataframe thead tr:only-child th {\n",
       "        text-align: right;\n",
       "    }\n",
       "\n",
       "    .dataframe thead th {\n",
       "        text-align: left;\n",
       "    }\n",
       "\n",
       "    .dataframe tbody tr th {\n",
       "        vertical-align: top;\n",
       "    }\n",
       "</style>\n",
       "<table border=\"1\" class=\"dataframe\">\n",
       "  <thead>\n",
       "    <tr style=\"text-align: right;\">\n",
       "      <th></th>\n",
       "      <th>HighQ</th>\n",
       "      <th>date</th>\n",
       "    </tr>\n",
       "  </thead>\n",
       "  <tbody>\n",
       "    <tr>\n",
       "      <th>20098</th>\n",
       "      <td>248.77</td>\n",
       "      <td>2013-12-27</td>\n",
       "    </tr>\n",
       "    <tr>\n",
       "      <th>20863</th>\n",
       "      <td>248.74</td>\n",
       "      <td>2013-12-28</td>\n",
       "    </tr>\n",
       "    <tr>\n",
       "      <th>21577</th>\n",
       "      <td>248.76</td>\n",
       "      <td>2013-12-29</td>\n",
       "    </tr>\n",
       "    <tr>\n",
       "      <th>22291</th>\n",
       "      <td>248.82</td>\n",
       "      <td>2013-12-30</td>\n",
       "    </tr>\n",
       "    <tr>\n",
       "      <th>22801</th>\n",
       "      <td>248.76</td>\n",
       "      <td>2013-12-31</td>\n",
       "    </tr>\n",
       "  </tbody>\n",
       "</table>\n",
       "</div>"
      ],
      "text/plain": [
       "        HighQ       date\n",
       "20098  248.77 2013-12-27\n",
       "20863  248.74 2013-12-28\n",
       "21577  248.76 2013-12-29\n",
       "22291  248.82 2013-12-30\n",
       "22801  248.76 2013-12-31"
      ]
     },
     "execution_count": 7,
     "metadata": {},
     "output_type": "execute_result"
    }
   ],
   "source": [
    "ca_pd_HighQ = california_pd.iloc[:, [1, 7]]\n",
    "ca_pd_HighQ.head()"
   ]
  },
  {
   "cell_type": "markdown",
   "metadata": {},
   "source": [
    "#### 준비 작업: 정리된 두 데이터 합치기"
   ]
  },
  {
   "cell_type": "markdown",
   "metadata": {},
   "source": [
    "이제 두 개의 테이블을 date를 축으로 하여, 즉 기준으로 삼아 합친다."
   ]
  },
  {
   "cell_type": "code",
   "execution_count": 8,
   "metadata": {},
   "outputs": [
    {
     "data": {
      "text/html": [
       "<div>\n",
       "<style>\n",
       "    .dataframe thead tr:only-child th {\n",
       "        text-align: right;\n",
       "    }\n",
       "\n",
       "    .dataframe thead th {\n",
       "        text-align: left;\n",
       "    }\n",
       "\n",
       "    .dataframe tbody tr th {\n",
       "        vertical-align: top;\n",
       "    }\n",
       "</style>\n",
       "<table border=\"1\" class=\"dataframe\">\n",
       "  <thead>\n",
       "    <tr style=\"text-align: right;\">\n",
       "      <th></th>\n",
       "      <th>HighQ</th>\n",
       "      <th>date</th>\n",
       "      <th>NY_HighQ</th>\n",
       "    </tr>\n",
       "  </thead>\n",
       "  <tbody>\n",
       "    <tr>\n",
       "      <th>0</th>\n",
       "      <td>248.77</td>\n",
       "      <td>2013-12-27</td>\n",
       "      <td>351.98</td>\n",
       "    </tr>\n",
       "    <tr>\n",
       "      <th>1</th>\n",
       "      <td>248.74</td>\n",
       "      <td>2013-12-28</td>\n",
       "      <td>351.92</td>\n",
       "    </tr>\n",
       "    <tr>\n",
       "      <th>2</th>\n",
       "      <td>248.76</td>\n",
       "      <td>2013-12-29</td>\n",
       "      <td>351.99</td>\n",
       "    </tr>\n",
       "    <tr>\n",
       "      <th>3</th>\n",
       "      <td>248.82</td>\n",
       "      <td>2013-12-30</td>\n",
       "      <td>352.02</td>\n",
       "    </tr>\n",
       "    <tr>\n",
       "      <th>4</th>\n",
       "      <td>248.76</td>\n",
       "      <td>2013-12-31</td>\n",
       "      <td>351.97</td>\n",
       "    </tr>\n",
       "  </tbody>\n",
       "</table>\n",
       "</div>"
      ],
      "text/plain": [
       "    HighQ       date  NY_HighQ\n",
       "0  248.77 2013-12-27    351.98\n",
       "1  248.74 2013-12-28    351.92\n",
       "2  248.76 2013-12-29    351.99\n",
       "3  248.82 2013-12-30    352.02\n",
       "4  248.76 2013-12-31    351.97"
      ]
     },
     "execution_count": 8,
     "metadata": {},
     "output_type": "execute_result"
    }
   ],
   "source": [
    "ca_ny_pd = pd.merge(ca_pd_HighQ, ny_pd_HighQ, on=\"date\")\n",
    "ca_ny_pd.head()"
   ]
  },
  {
   "cell_type": "markdown",
   "metadata": {},
   "source": [
    "캘리포니아 주의 HighQ 열의 이름을 CA_HighQ로 변경한다."
   ]
  },
  {
   "cell_type": "code",
   "execution_count": 9,
   "metadata": {},
   "outputs": [
    {
     "data": {
      "text/html": [
       "<div>\n",
       "<style>\n",
       "    .dataframe thead tr:only-child th {\n",
       "        text-align: right;\n",
       "    }\n",
       "\n",
       "    .dataframe thead th {\n",
       "        text-align: left;\n",
       "    }\n",
       "\n",
       "    .dataframe tbody tr th {\n",
       "        vertical-align: top;\n",
       "    }\n",
       "</style>\n",
       "<table border=\"1\" class=\"dataframe\">\n",
       "  <thead>\n",
       "    <tr style=\"text-align: right;\">\n",
       "      <th></th>\n",
       "      <th>CA_HighQ</th>\n",
       "      <th>date</th>\n",
       "      <th>NY_HighQ</th>\n",
       "    </tr>\n",
       "  </thead>\n",
       "  <tbody>\n",
       "    <tr>\n",
       "      <th>0</th>\n",
       "      <td>248.77</td>\n",
       "      <td>2013-12-27</td>\n",
       "      <td>351.98</td>\n",
       "    </tr>\n",
       "    <tr>\n",
       "      <th>1</th>\n",
       "      <td>248.74</td>\n",
       "      <td>2013-12-28</td>\n",
       "      <td>351.92</td>\n",
       "    </tr>\n",
       "    <tr>\n",
       "      <th>2</th>\n",
       "      <td>248.76</td>\n",
       "      <td>2013-12-29</td>\n",
       "      <td>351.99</td>\n",
       "    </tr>\n",
       "    <tr>\n",
       "      <th>3</th>\n",
       "      <td>248.82</td>\n",
       "      <td>2013-12-30</td>\n",
       "      <td>352.02</td>\n",
       "    </tr>\n",
       "    <tr>\n",
       "      <th>4</th>\n",
       "      <td>248.76</td>\n",
       "      <td>2013-12-31</td>\n",
       "      <td>351.97</td>\n",
       "    </tr>\n",
       "  </tbody>\n",
       "</table>\n",
       "</div>"
      ],
      "text/plain": [
       "   CA_HighQ       date  NY_HighQ\n",
       "0    248.77 2013-12-27    351.98\n",
       "1    248.74 2013-12-28    351.92\n",
       "2    248.76 2013-12-29    351.99\n",
       "3    248.82 2013-12-30    352.02\n",
       "4    248.76 2013-12-31    351.97"
      ]
     },
     "execution_count": 9,
     "metadata": {},
     "output_type": "execute_result"
    }
   ],
   "source": [
    "ca_ny_pd.rename(columns={\"HighQ\": \"CA_HighQ\"}, inplace=True)\n",
    "ca_ny_pd.head()"
   ]
  },
  {
   "cell_type": "markdown",
   "metadata": {},
   "source": [
    "#### 준비 작업: 합친 데이터를 이용하여 공분산 계산 준비하기"
   ]
  },
  {
   "cell_type": "markdown",
   "metadata": {},
   "source": [
    "먼저 뉴욕 주에서 거래된 상품(HighQ) 담배(식물) 도매가의 평균값을 계산한다."
   ]
  },
  {
   "cell_type": "code",
   "execution_count": 10,
   "metadata": {},
   "outputs": [
    {
     "data": {
      "text/plain": [
       "346.9127616926502"
      ]
     },
     "execution_count": 10,
     "metadata": {},
     "output_type": "execute_result"
    }
   ],
   "source": [
    "ny_mean = ca_ny_pd.NY_HighQ.mean()\n",
    "ny_mean"
   ]
  },
  {
   "cell_type": "markdown",
   "metadata": {},
   "source": [
    "이제 ca_ny_pd 테이블에 새로운 열(column)을 추가한다. 추가되는 열의 이름은 `ca_dev`와 `ny_dev`이다.\n",
    "\n",
    "* `ca_dev`: 공분산 계산과 관련된 캘리포니아 주의 데이터 연산 중간 결과값\n",
    "* `ny_dev`: 공분산 계산과 관련된 뉴욕 주의 데이터 연산 중간 결과값\n",
    "\n",
    "즉, 아래 공식에서의 분자에 사용된 값들의 리스트를 계산하는 과정임.\n",
    "\n",
    "$$Cov(x, y) = \\frac{\\Sigma_{i=1}^{n} (x_i - \\bar x)(y_i - \\bar y)}{n-1}$$"
   ]
  },
  {
   "cell_type": "code",
   "execution_count": 11,
   "metadata": {},
   "outputs": [
    {
     "data": {
      "text/html": [
       "<div>\n",
       "<style>\n",
       "    .dataframe thead tr:only-child th {\n",
       "        text-align: right;\n",
       "    }\n",
       "\n",
       "    .dataframe thead th {\n",
       "        text-align: left;\n",
       "    }\n",
       "\n",
       "    .dataframe tbody tr th {\n",
       "        vertical-align: top;\n",
       "    }\n",
       "</style>\n",
       "<table border=\"1\" class=\"dataframe\">\n",
       "  <thead>\n",
       "    <tr style=\"text-align: right;\">\n",
       "      <th></th>\n",
       "      <th>CA_HighQ</th>\n",
       "      <th>date</th>\n",
       "      <th>NY_HighQ</th>\n",
       "      <th>ca_dev</th>\n",
       "    </tr>\n",
       "  </thead>\n",
       "  <tbody>\n",
       "    <tr>\n",
       "      <th>0</th>\n",
       "      <td>248.77</td>\n",
       "      <td>2013-12-27</td>\n",
       "      <td>351.98</td>\n",
       "      <td>3.393875</td>\n",
       "    </tr>\n",
       "    <tr>\n",
       "      <th>1</th>\n",
       "      <td>248.74</td>\n",
       "      <td>2013-12-28</td>\n",
       "      <td>351.92</td>\n",
       "      <td>3.363875</td>\n",
       "    </tr>\n",
       "    <tr>\n",
       "      <th>2</th>\n",
       "      <td>248.76</td>\n",
       "      <td>2013-12-29</td>\n",
       "      <td>351.99</td>\n",
       "      <td>3.383875</td>\n",
       "    </tr>\n",
       "    <tr>\n",
       "      <th>3</th>\n",
       "      <td>248.82</td>\n",
       "      <td>2013-12-30</td>\n",
       "      <td>352.02</td>\n",
       "      <td>3.443875</td>\n",
       "    </tr>\n",
       "    <tr>\n",
       "      <th>4</th>\n",
       "      <td>248.76</td>\n",
       "      <td>2013-12-31</td>\n",
       "      <td>351.97</td>\n",
       "      <td>3.383875</td>\n",
       "    </tr>\n",
       "  </tbody>\n",
       "</table>\n",
       "</div>"
      ],
      "text/plain": [
       "   CA_HighQ       date  NY_HighQ    ca_dev\n",
       "0    248.77 2013-12-27    351.98  3.393875\n",
       "1    248.74 2013-12-28    351.92  3.363875\n",
       "2    248.76 2013-12-29    351.99  3.383875\n",
       "3    248.82 2013-12-30    352.02  3.443875\n",
       "4    248.76 2013-12-31    351.97  3.383875"
      ]
     },
     "execution_count": 11,
     "metadata": {},
     "output_type": "execute_result"
    }
   ],
   "source": [
    "ca_ny_pd['ca_dev'] = ca_ny_pd['CA_HighQ'] - ca_mean\n",
    "ca_ny_pd.head()"
   ]
  },
  {
   "cell_type": "code",
   "execution_count": 12,
   "metadata": {},
   "outputs": [
    {
     "data": {
      "text/html": [
       "<div>\n",
       "<style>\n",
       "    .dataframe thead tr:only-child th {\n",
       "        text-align: right;\n",
       "    }\n",
       "\n",
       "    .dataframe thead th {\n",
       "        text-align: left;\n",
       "    }\n",
       "\n",
       "    .dataframe tbody tr th {\n",
       "        vertical-align: top;\n",
       "    }\n",
       "</style>\n",
       "<table border=\"1\" class=\"dataframe\">\n",
       "  <thead>\n",
       "    <tr style=\"text-align: right;\">\n",
       "      <th></th>\n",
       "      <th>CA_HighQ</th>\n",
       "      <th>date</th>\n",
       "      <th>NY_HighQ</th>\n",
       "      <th>ca_dev</th>\n",
       "      <th>ny_dev</th>\n",
       "    </tr>\n",
       "  </thead>\n",
       "  <tbody>\n",
       "    <tr>\n",
       "      <th>0</th>\n",
       "      <td>248.77</td>\n",
       "      <td>2013-12-27</td>\n",
       "      <td>351.98</td>\n",
       "      <td>3.393875</td>\n",
       "      <td>5.067238</td>\n",
       "    </tr>\n",
       "    <tr>\n",
       "      <th>1</th>\n",
       "      <td>248.74</td>\n",
       "      <td>2013-12-28</td>\n",
       "      <td>351.92</td>\n",
       "      <td>3.363875</td>\n",
       "      <td>5.007238</td>\n",
       "    </tr>\n",
       "    <tr>\n",
       "      <th>2</th>\n",
       "      <td>248.76</td>\n",
       "      <td>2013-12-29</td>\n",
       "      <td>351.99</td>\n",
       "      <td>3.383875</td>\n",
       "      <td>5.077238</td>\n",
       "    </tr>\n",
       "    <tr>\n",
       "      <th>3</th>\n",
       "      <td>248.82</td>\n",
       "      <td>2013-12-30</td>\n",
       "      <td>352.02</td>\n",
       "      <td>3.443875</td>\n",
       "      <td>5.107238</td>\n",
       "    </tr>\n",
       "    <tr>\n",
       "      <th>4</th>\n",
       "      <td>248.76</td>\n",
       "      <td>2013-12-31</td>\n",
       "      <td>351.97</td>\n",
       "      <td>3.383875</td>\n",
       "      <td>5.057238</td>\n",
       "    </tr>\n",
       "  </tbody>\n",
       "</table>\n",
       "</div>"
      ],
      "text/plain": [
       "   CA_HighQ       date  NY_HighQ    ca_dev    ny_dev\n",
       "0    248.77 2013-12-27    351.98  3.393875  5.067238\n",
       "1    248.74 2013-12-28    351.92  3.363875  5.007238\n",
       "2    248.76 2013-12-29    351.99  3.383875  5.077238\n",
       "3    248.82 2013-12-30    352.02  3.443875  5.107238\n",
       "4    248.76 2013-12-31    351.97  3.383875  5.057238"
      ]
     },
     "execution_count": 12,
     "metadata": {},
     "output_type": "execute_result"
    }
   ],
   "source": [
    "ca_ny_pd['ny_dev'] = ca_ny_pd['NY_HighQ'] - ny_mean\n",
    "ca_ny_pd.head()"
   ]
  },
  {
   "cell_type": "markdown",
   "metadata": {},
   "source": [
    "#### 캘리포니아 주와 뉴욕 주에서 거래된 상품(HighQ) 담배(식물) 도매가의 공분산\n",
    "\n",
    "이제 공분산을 쉽게 계산할 수 있다.\n",
    "\n",
    "**주의:** \n",
    "* DataFrame 자료형의 연산은 넘파이 어레이의 연산처럼 항목별로 실행된다.\n",
    "* sum 메소드의 활용을 기억한다."
   ]
  },
  {
   "cell_type": "code",
   "execution_count": 13,
   "metadata": {},
   "outputs": [
    {
     "data": {
      "text/plain": [
       "5.916814967288417"
      ]
     },
     "execution_count": 13,
     "metadata": {},
     "output_type": "execute_result"
    }
   ],
   "source": [
    "ca_ny_cov = (ca_ny_pd['ca_dev'] * ca_ny_pd['ny_dev']).sum() / (ca_count - 1)\n",
    "ca_ny_cov"
   ]
  },
  {
   "cell_type": "markdown",
   "metadata": {},
   "source": [
    "## 피어슨 상관계수\n",
    "\n",
    "피어슨 상관계수(Pearson correlation coefficient)는 두 변수간의 관련성 정도를 나타낸다. \n",
    "\n",
    "    두 변수 x와 y의 상관계수(r) = x와 y가 함께 변하는 정도와 x와 y가 따로 변하는 정도 사이의 비율\n",
    "\n",
    "즉, $$r = \\frac{Cov(X, Y)}{s_x\\cdot s_y}$$\n",
    "\n",
    "* 의미: \n",
    "    * r = 1: X와 Y 가 완전히 동일하다.\n",
    "    * r = 0: X와 Y가 아무 연관이 없다\n",
    "    * r = -1: X와 Y가 반대방향으로 완전히 동일 하다.\n",
    "\n",
    "\n",
    "* 선형관계 설명에도 사용된다.    \n",
    "    * -1.0 <= r < -0.7: 강한 음적 선형관계\n",
    "    * -0.7 <= r < -0.3: 뚜렷한 음적 선형관계\n",
    "    * -0.3 <= r < -0.1: 약한 음적 선형관계\n",
    "    * -0.1 <= r <= 0.1: 거의 무시될 수 있는 관계\n",
    "    * 0.1 < r <= +0.3: 약한 양적 선형관계\n",
    "    * 0.3 < r <= 0.7: 뚜렷한 양적 선형관계\n",
    "    * 0.7 < r <= 1.0: 강한 양적 선형관계"
   ]
  },
  {
   "cell_type": "markdown",
   "metadata": {},
   "source": [
    "#### 주의\n",
    "\n",
    "위 선형관계 설명은 일반적으로 통용되지만 예외가 존재할 수도 있다.\n",
    "예를 들어, 아래 네 개의 그래프는 모두 피어슨 상관계수가 0.816이지만, 전혀 다른 상관관계를 보여주고 있다.\n",
    "(출처: https://en.wikipedia.org/wiki/Correlation_and_dependence)\n",
    "<p>\n",
    "<table cellspacing=\"20\">\n",
    "<tr>\n",
    "<td>\n",
    "<img src=\"img/pearson_relation.png\" style=\"width:600\">\n",
    "</td>\n",
    "</tr>\n",
    "</table>\n",
    "</p>"
   ]
  },
  {
   "cell_type": "markdown",
   "metadata": {},
   "source": [
    "### 캘리포니아 주와 뉴욕 주에서 거래된 상품(HighQ) 담배(식물) 도매가의 상관계수 계산하기"
   ]
  },
  {
   "cell_type": "code",
   "execution_count": 14,
   "metadata": {},
   "outputs": [
    {
     "data": {
      "text/plain": [
       "0.9790439611064707"
      ]
     },
     "execution_count": 14,
     "metadata": {},
     "output_type": "execute_result"
    }
   ],
   "source": [
    "ca_highq_std = ca_ny_pd.CA_HighQ.std()\n",
    "ny_highq_std = ca_ny_pd.NY_HighQ.std()\n",
    "\n",
    "ca_ny_corr = ca_ny_cov / (ca_highq_std * ny_highq_std)\n",
    "ca_ny_corr"
   ]
  },
  {
   "cell_type": "markdown",
   "metadata": {},
   "source": [
    "## 상관관계(Correlation)와 인과관계(Causation)\n",
    "\n",
    "* 상관관계: 두 변수 사이의 상관성을 보여주는 관계. 즉, 두 변수 사이에 존재하는 모종의 관련성을 의미함.\n",
    "    * 예를 들어, 캘리포니아 주의 상품 담배(식물) 도매가와 뉴육 주의 상품 담배(식물) 도매가 사이에는 모종의 관계가 있어 보임. \n",
    "        캘리포니아 주에서의 가격이 오르면 뉴욕 주에서의 가격도 비슷하게 오른다. 상관정도는 0.979 정도로 매우 강한 양적 선형관계를 보인다.\n",
    "\n",
    "\n",
    "* 인과관계: 두 변수 사이에 서로 영향을 주거나 실제로 연관되어 있음을 보여주는 관계.\n",
    "\n",
    "**주의:** 두 변수 사이에 상관관계가 있다고 해서 그것이 반드시 어느 변수가 다른 변수에 영향을 준다든지, 아니면 실제로 연관되어 있음을 뜻하지는 않는다. \n",
    "\n",
    "예를 들어, 캘리포니아 주의 담배(식물) 도매가와 뉴욕 주의 담배(식물) 도매가 사이에 모종의 관계가 있는 것은 사실이지만, 그렇다고 해서 한 쪽에서의 가격 변동이 다른 쪽에서의 가격변동에 영향을 준다는 근거는 정확하게 알 수 없다. "
   ]
  },
  {
   "cell_type": "markdown",
   "metadata": {},
   "source": [
    "## 연습문제"
   ]
  },
  {
   "cell_type": "markdown",
   "metadata": {},
   "source": [
    "### 연습\n",
    "\n",
    "모집단의 분산과 표준편차에 대한 점추정 값을 계산하는 기능이 이미 Pandas 모듈의 DataFrame 자료형의 메소드로 구현되어 있다.\n",
    "\n",
    "`describe()` 메소드를 캘리포니아 주에서 거래된 담배(식물)의 도매가 표본을 담고 있는 `california_pd`에서 실행하면 아래와 같은 결과를 보여준다.\n",
    "\n",
    "* count: 총 빈도수, 즉 표본의 크기\n",
    "* mean: 평균값\n",
    "* std: 모집단 표준편차 점추정 값\n",
    "* min: 표본의 최소값\n",
    "* 25%: 하한 사분위수 (하위 4분의 1을 구분하는 위치에 자리하는 수)\n",
    "* 50%: 중앙값\n",
    "* 75%: 상한 사분위수 (상위 4분의 1을 구분하는 위치에 자리하는 수)\n",
    "* max: 최대값"
   ]
  },
  {
   "cell_type": "code",
   "execution_count": 15,
   "metadata": {},
   "outputs": [
    {
     "data": {
      "text/html": [
       "<div>\n",
       "<style>\n",
       "    .dataframe thead tr:only-child th {\n",
       "        text-align: right;\n",
       "    }\n",
       "\n",
       "    .dataframe thead th {\n",
       "        text-align: left;\n",
       "    }\n",
       "\n",
       "    .dataframe tbody tr th {\n",
       "        vertical-align: top;\n",
       "    }\n",
       "</style>\n",
       "<table border=\"1\" class=\"dataframe\">\n",
       "  <thead>\n",
       "    <tr style=\"text-align: right;\">\n",
       "      <th></th>\n",
       "      <th>HighQ</th>\n",
       "      <th>HighQN</th>\n",
       "      <th>MedQ</th>\n",
       "      <th>MedQN</th>\n",
       "      <th>LowQ</th>\n",
       "      <th>LowQN</th>\n",
       "      <th>HighQ_dev</th>\n",
       "    </tr>\n",
       "  </thead>\n",
       "  <tbody>\n",
       "    <tr>\n",
       "      <th>count</th>\n",
       "      <td>449.000000</td>\n",
       "      <td>449.000000</td>\n",
       "      <td>449.000000</td>\n",
       "      <td>449.000000</td>\n",
       "      <td>449.000000</td>\n",
       "      <td>449.000000</td>\n",
       "      <td>449.000000</td>\n",
       "    </tr>\n",
       "    <tr>\n",
       "      <th>mean</th>\n",
       "      <td>245.376125</td>\n",
       "      <td>14947.073497</td>\n",
       "      <td>191.268909</td>\n",
       "      <td>16769.821826</td>\n",
       "      <td>189.783586</td>\n",
       "      <td>976.298441</td>\n",
       "      <td>2.976043</td>\n",
       "    </tr>\n",
       "    <tr>\n",
       "      <th>std</th>\n",
       "      <td>1.727046</td>\n",
       "      <td>1656.133565</td>\n",
       "      <td>1.524028</td>\n",
       "      <td>2433.943191</td>\n",
       "      <td>1.598252</td>\n",
       "      <td>120.246714</td>\n",
       "      <td>3.961134</td>\n",
       "    </tr>\n",
       "    <tr>\n",
       "      <th>min</th>\n",
       "      <td>241.840000</td>\n",
       "      <td>12021.000000</td>\n",
       "      <td>187.850000</td>\n",
       "      <td>12724.000000</td>\n",
       "      <td>187.830000</td>\n",
       "      <td>770.000000</td>\n",
       "      <td>0.000015</td>\n",
       "    </tr>\n",
       "    <tr>\n",
       "      <th>25%</th>\n",
       "      <td>244.480000</td>\n",
       "      <td>13610.000000</td>\n",
       "      <td>190.260000</td>\n",
       "      <td>14826.000000</td>\n",
       "      <td>188.600000</td>\n",
       "      <td>878.000000</td>\n",
       "      <td>0.106357</td>\n",
       "    </tr>\n",
       "    <tr>\n",
       "      <th>50%</th>\n",
       "      <td>245.310000</td>\n",
       "      <td>15037.000000</td>\n",
       "      <td>191.570000</td>\n",
       "      <td>16793.000000</td>\n",
       "      <td>188.600000</td>\n",
       "      <td>982.000000</td>\n",
       "      <td>0.729103</td>\n",
       "    </tr>\n",
       "    <tr>\n",
       "      <th>75%</th>\n",
       "      <td>246.220000</td>\n",
       "      <td>16090.000000</td>\n",
       "      <td>192.550000</td>\n",
       "      <td>18435.000000</td>\n",
       "      <td>191.320000</td>\n",
       "      <td>1060.000000</td>\n",
       "      <td>4.435761</td>\n",
       "    </tr>\n",
       "    <tr>\n",
       "      <th>max</th>\n",
       "      <td>248.820000</td>\n",
       "      <td>18492.000000</td>\n",
       "      <td>193.630000</td>\n",
       "      <td>22027.000000</td>\n",
       "      <td>193.880000</td>\n",
       "      <td>1232.000000</td>\n",
       "      <td>12.504178</td>\n",
       "    </tr>\n",
       "  </tbody>\n",
       "</table>\n",
       "</div>"
      ],
      "text/plain": [
       "            HighQ        HighQN        MedQ         MedQN        LowQ  \\\n",
       "count  449.000000    449.000000  449.000000    449.000000  449.000000   \n",
       "mean   245.376125  14947.073497  191.268909  16769.821826  189.783586   \n",
       "std      1.727046   1656.133565    1.524028   2433.943191    1.598252   \n",
       "min    241.840000  12021.000000  187.850000  12724.000000  187.830000   \n",
       "25%    244.480000  13610.000000  190.260000  14826.000000  188.600000   \n",
       "50%    245.310000  15037.000000  191.570000  16793.000000  188.600000   \n",
       "75%    246.220000  16090.000000  192.550000  18435.000000  191.320000   \n",
       "max    248.820000  18492.000000  193.630000  22027.000000  193.880000   \n",
       "\n",
       "             LowQN   HighQ_dev  \n",
       "count   449.000000  449.000000  \n",
       "mean    976.298441    2.976043  \n",
       "std     120.246714    3.961134  \n",
       "min     770.000000    0.000015  \n",
       "25%     878.000000    0.106357  \n",
       "50%     982.000000    0.729103  \n",
       "75%    1060.000000    4.435761  \n",
       "max    1232.000000   12.504178  "
      ]
     },
     "execution_count": 15,
     "metadata": {},
     "output_type": "execute_result"
    }
   ],
   "source": [
    "california_pd.describe()"
   ]
  },
  {
   "cell_type": "markdown",
   "metadata": {},
   "source": [
    "### 연습"
   ]
  },
  {
   "cell_type": "markdown",
   "metadata": {},
   "source": [
    "공분산에 대한 점추정 값을 계산하는 기능이 이미 Pandas 모듈의 DataFrame 자료형의 메소드로 구현되어 있다.\n",
    "\n",
    "cov() 메소드를 캘리포니아 주와 뉴욕 주에서 거래된 담배(식물)의 도매가 표본을 담고 있는 ca_ny_pd에서 실행하면 아래와 같은 결과를 보여준다."
   ]
  },
  {
   "cell_type": "code",
   "execution_count": 16,
   "metadata": {},
   "outputs": [
    {
     "data": {
      "text/html": [
       "<div>\n",
       "<style>\n",
       "    .dataframe thead tr:only-child th {\n",
       "        text-align: right;\n",
       "    }\n",
       "\n",
       "    .dataframe thead th {\n",
       "        text-align: left;\n",
       "    }\n",
       "\n",
       "    .dataframe tbody tr th {\n",
       "        vertical-align: top;\n",
       "    }\n",
       "</style>\n",
       "<table border=\"1\" class=\"dataframe\">\n",
       "  <thead>\n",
       "    <tr style=\"text-align: right;\">\n",
       "      <th></th>\n",
       "      <th>CA_HighQ</th>\n",
       "      <th>NY_HighQ</th>\n",
       "      <th>ca_dev</th>\n",
       "      <th>ny_dev</th>\n",
       "    </tr>\n",
       "  </thead>\n",
       "  <tbody>\n",
       "    <tr>\n",
       "      <th>CA_HighQ</th>\n",
       "      <td>2.982686</td>\n",
       "      <td>5.916815</td>\n",
       "      <td>2.982686</td>\n",
       "      <td>5.916815</td>\n",
       "    </tr>\n",
       "    <tr>\n",
       "      <th>NY_HighQ</th>\n",
       "      <td>5.916815</td>\n",
       "      <td>12.245147</td>\n",
       "      <td>5.916815</td>\n",
       "      <td>12.245147</td>\n",
       "    </tr>\n",
       "    <tr>\n",
       "      <th>ca_dev</th>\n",
       "      <td>2.982686</td>\n",
       "      <td>5.916815</td>\n",
       "      <td>2.982686</td>\n",
       "      <td>5.916815</td>\n",
       "    </tr>\n",
       "    <tr>\n",
       "      <th>ny_dev</th>\n",
       "      <td>5.916815</td>\n",
       "      <td>12.245147</td>\n",
       "      <td>5.916815</td>\n",
       "      <td>12.245147</td>\n",
       "    </tr>\n",
       "  </tbody>\n",
       "</table>\n",
       "</div>"
      ],
      "text/plain": [
       "          CA_HighQ   NY_HighQ    ca_dev     ny_dev\n",
       "CA_HighQ  2.982686   5.916815  2.982686   5.916815\n",
       "NY_HighQ  5.916815  12.245147  5.916815  12.245147\n",
       "ca_dev    2.982686   5.916815  2.982686   5.916815\n",
       "ny_dev    5.916815  12.245147  5.916815  12.245147"
      ]
     },
     "execution_count": 16,
     "metadata": {},
     "output_type": "execute_result"
    }
   ],
   "source": [
    "ca_ny_pd.cov()"
   ]
  },
  {
   "cell_type": "markdown",
   "metadata": {},
   "source": [
    "위 테이블에서 CA_HighQ와 NY_HighQ가 만나는 부분의 값을 보면 앞서 계산한 공분산 값과 일치함을 확인할 수 있다."
   ]
  },
  {
   "cell_type": "markdown",
   "metadata": {},
   "source": [
    "### 연습"
   ]
  },
  {
   "cell_type": "markdown",
   "metadata": {},
   "source": [
    "상관계수에 대한 점추정 값을 계산하는 기능이 이미 Pandas 모듈의 DataFrame 자료형의 메소드로 구현되어 있다.\n",
    "\n",
    "corr() 메소드를 캘리포니아 주와 뉴욕 주에서 거래된 담배(식물)의 도매가 표본을 담고 있는 ca_ny_pd에서 실행하면 아래와 같은 결과를 보여준다."
   ]
  },
  {
   "cell_type": "code",
   "execution_count": 17,
   "metadata": {},
   "outputs": [
    {
     "data": {
      "text/html": [
       "<div>\n",
       "<style>\n",
       "    .dataframe thead tr:only-child th {\n",
       "        text-align: right;\n",
       "    }\n",
       "\n",
       "    .dataframe thead th {\n",
       "        text-align: left;\n",
       "    }\n",
       "\n",
       "    .dataframe tbody tr th {\n",
       "        vertical-align: top;\n",
       "    }\n",
       "</style>\n",
       "<table border=\"1\" class=\"dataframe\">\n",
       "  <thead>\n",
       "    <tr style=\"text-align: right;\">\n",
       "      <th></th>\n",
       "      <th>CA_HighQ</th>\n",
       "      <th>NY_HighQ</th>\n",
       "      <th>ca_dev</th>\n",
       "      <th>ny_dev</th>\n",
       "    </tr>\n",
       "  </thead>\n",
       "  <tbody>\n",
       "    <tr>\n",
       "      <th>CA_HighQ</th>\n",
       "      <td>1.000000</td>\n",
       "      <td>0.979044</td>\n",
       "      <td>1.000000</td>\n",
       "      <td>0.979044</td>\n",
       "    </tr>\n",
       "    <tr>\n",
       "      <th>NY_HighQ</th>\n",
       "      <td>0.979044</td>\n",
       "      <td>1.000000</td>\n",
       "      <td>0.979044</td>\n",
       "      <td>1.000000</td>\n",
       "    </tr>\n",
       "    <tr>\n",
       "      <th>ca_dev</th>\n",
       "      <td>1.000000</td>\n",
       "      <td>0.979044</td>\n",
       "      <td>1.000000</td>\n",
       "      <td>0.979044</td>\n",
       "    </tr>\n",
       "    <tr>\n",
       "      <th>ny_dev</th>\n",
       "      <td>0.979044</td>\n",
       "      <td>1.000000</td>\n",
       "      <td>0.979044</td>\n",
       "      <td>1.000000</td>\n",
       "    </tr>\n",
       "  </tbody>\n",
       "</table>\n",
       "</div>"
      ],
      "text/plain": [
       "          CA_HighQ  NY_HighQ    ca_dev    ny_dev\n",
       "CA_HighQ  1.000000  0.979044  1.000000  0.979044\n",
       "NY_HighQ  0.979044  1.000000  0.979044  1.000000\n",
       "ca_dev    1.000000  0.979044  1.000000  0.979044\n",
       "ny_dev    0.979044  1.000000  0.979044  1.000000"
      ]
     },
     "execution_count": 17,
     "metadata": {},
     "output_type": "execute_result"
    }
   ],
   "source": [
    "ca_ny_pd.corr()"
   ]
  },
  {
   "cell_type": "markdown",
   "metadata": {},
   "source": [
    "위 테이블에서 CA_HighQ와 NY_HighQ가 만나는 부분의 값을 보면 앞서 계산한 상관계수 값과 일치함을 확인할 수 있다."
   ]
  }
 ],
 "metadata": {
  "kernelspec": {
   "display_name": "Python 3",
   "language": "python",
   "name": "python3"
  },
  "language_info": {
   "codemirror_mode": {
    "name": "ipython",
    "version": 3
   },
   "file_extension": ".py",
   "mimetype": "text/x-python",
   "name": "python",
   "nbconvert_exporter": "python",
   "pygments_lexer": "ipython3",
   "version": "3.6.8"
  }
 },
 "nbformat": 4,
 "nbformat_minor": 1
}
