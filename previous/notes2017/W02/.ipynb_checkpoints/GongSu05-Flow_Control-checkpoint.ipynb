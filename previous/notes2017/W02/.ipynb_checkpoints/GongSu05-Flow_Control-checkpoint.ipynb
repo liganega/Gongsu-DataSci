{
 "cells": [
  {
   "cell_type": "markdown",
   "metadata": {},
   "source": [
    "# 흐름 제어: 조건문과 반복문(루프) 활용"
   ]
  },
  {
   "cell_type": "markdown",
   "metadata": {},
   "source": [
    "## 요약\n",
    "\n",
    "* 조건문 활용\n",
    "    * `if`문: 불리언 값을 이용하여 조건을 제시하는 방법\n",
    "\n",
    "\n",
    "* 반복문(루프) 활용\n",
    "    * `while` 반복문(루프): 특정 조건이 만족되는 동안 동일한 과정을 반복하는 방법\n",
    "\n",
    "    * `for` 반복문(루프): 특정 구간 내에서 동일한 과정을 반복하는 방법.\n",
    "        * `range` 함수의 활용"
   ]
  },
  {
   "cell_type": "markdown",
   "metadata": {},
   "source": [
    "### 최종 목표\n",
    "\n",
    "* 두 정수의 최대공약수를 구하는 함수: `gcd()`\n",
    "```\n",
    "gcd(6, 8) = 2\n",
    "gcd(14, 21) = 3\n",
    "```\n",
    "\n",
    "* 자연수 n이 주어졌을 때, 1부터 n까지의 자연수 중에서 3의 배수이거나 숫자 3을 포함하는\n",
    "숫자들의 합을 구하는 함수 `sum_of_3s()` 구현하기:\n",
    "```\n",
    "sum_of_3s(10) = 3 + 6 + 9\n",
    "sum_of_3s(15) = 3 + 6 + 9 + 12 + 13 + 15\n",
    "```"
   ]
  },
  {
   "cell_type": "markdown",
   "metadata": {},
   "source": [
    "## 조건문\n",
    "\n",
    "어떤 일은 특정 조건 하에서만 할 수 있는 경우가 있다. \n",
    "\n",
    "예를 들어, **숫자 k가 3의 배수이거나 3으로 끝나는 경우에만** 그 값을 다른 값에 더하라고 할 수 있다.\n",
    "\n",
    "위 문장을 코드로 나타내려면 아래 요소들이 필요하다. \n",
    "\n",
    "* __이런저런__ 경우에만 __무엇무엇__을 해라.\n",
    "* 숫자 k가 3의 배수이다.\n",
    "* 숫자 k가 숫자 3으로 끝난다."
   ]
  },
  {
   "cell_type": "markdown",
   "metadata": {},
   "source": [
    "* \"이런저런 경우에만 무엇, 무엇을 해라\"는 `if`문으로 나타낸다.\n",
    "```\n",
    "if 이런저런:\n",
    "     무엇\n",
    "     무엇\n",
    "```"
   ]
  },
  {
   "cell_type": "markdown",
   "metadata": {},
   "source": [
    "* \"숫자 k가 3의 배수이다\"는 아래 수식으로 표현된다.\n",
    "```\n",
    "k % 3 == 0\n",
    "```"
   ]
  },
  {
   "cell_type": "markdown",
   "metadata": {},
   "source": [
    "* \"숫자 k가 숫자 3으로 끝난다\"는 좀 더 어렵지만, 앞서 배운 문자열 메소드를 활용하면 된다.\n",
    "```\n",
    "str(k).endswith('3')\n",
    "```\n",
    "\n",
    "여기서 `str()` 함수는 숫자를 문자열로 형변환 시키는 함수이다. \n",
    "`int()` 또는 `float()` 함수와 반대의 일을 한다."
   ]
  },
  {
   "cell_type": "markdown",
   "metadata": {},
   "source": [
    "### 예제\n",
    "\n",
    "두 개의 숫자 k, m이 주어졌을 때, 만약 m이\n",
    "3의 배수이거나 3으로 끝나는 숫자일 경우에만\n",
    "k와 m을 더하는 함수 `sum_if_3()`를 구현하라."
   ]
  },
  {
   "cell_type": "markdown",
   "metadata": {},
   "source": [
    "견본답안:"
   ]
  },
  {
   "cell_type": "code",
   "execution_count": 1,
   "metadata": {
    "collapsed": true
   },
   "outputs": [],
   "source": [
    "def sum_if_3(k, m):\n",
    "    if (m % 3 == 0) or (str(m).endswith('3')):\n",
    "        return k + m\n",
    "    else:\n",
    "        return k"
   ]
  },
  {
   "cell_type": "markdown",
   "metadata": {},
   "source": [
    "**주의:** `else`문은 `if`문에서 다루는 경우가 성립하지 않을 때 무슨 일을 해야할지를 정한다."
   ]
  },
  {
   "cell_type": "code",
   "execution_count": 2,
   "metadata": {},
   "outputs": [
    {
     "data": {
      "text/plain": [
       "23"
      ]
     },
     "execution_count": 2,
     "metadata": {},
     "output_type": "execute_result"
    }
   ],
   "source": [
    "sum_if_3(5, 18)"
   ]
  },
  {
   "cell_type": "code",
   "execution_count": 3,
   "metadata": {},
   "outputs": [
    {
     "data": {
      "text/plain": [
       "4"
      ]
     },
     "execution_count": 3,
     "metadata": {},
     "output_type": "execute_result"
    }
   ],
   "source": [
    "sum_if_3(4, 7)"
   ]
  },
  {
   "cell_type": "markdown",
   "metadata": {},
   "source": [
    "### 예제\n",
    "\n",
    "두 개의 숫자 k, m이 주어졌을 때, 만약 m이\n",
    "3의 배수이거나 숫자 3을 포함하는 경우에만\n",
    "k와 m을 더하는 함수 `sum_if_3s()`를 구현하라."
   ]
  },
  {
   "cell_type": "markdown",
   "metadata": {},
   "source": [
    "이 문제를 풀기 위해서는 문자열에 특정 문자열이 부분문자열로 포함되어 있는지를 판단해야 하는데 \n",
    "아래 예제와 같이 `in` 함수를 이용할 수 있다."
   ]
  },
  {
   "cell_type": "code",
   "execution_count": 4,
   "metadata": {},
   "outputs": [
    {
     "name": "stdout",
     "output_type": "stream",
     "text": [
      "'bc'가 'abcde'의 부분문자열이다.\n"
     ]
    }
   ],
   "source": [
    "if 'bc' in 'abcde':\n",
    "    print(\"'bc'가 'abcde'의 부분문자열이다.\")"
   ]
  },
  {
   "cell_type": "markdown",
   "metadata": {},
   "source": [
    "견본답안:"
   ]
  },
  {
   "cell_type": "code",
   "execution_count": 5,
   "metadata": {
    "collapsed": true
   },
   "outputs": [],
   "source": [
    "def sum_if_3s(k, m):\n",
    "    if (m % 3 == 0) or ('3' in str(m)):\n",
    "        return k + m\n",
    "    else:\n",
    "        return k"
   ]
  },
  {
   "cell_type": "code",
   "execution_count": 6,
   "metadata": {},
   "outputs": [
    {
     "data": {
      "text/plain": [
       "33"
      ]
     },
     "execution_count": 6,
     "metadata": {},
     "output_type": "execute_result"
    }
   ],
   "source": [
    "sum_if_3s(2, 31)"
   ]
  },
  {
   "cell_type": "code",
   "execution_count": 7,
   "metadata": {},
   "outputs": [
    {
     "data": {
      "text/plain": [
       "18"
      ]
     },
     "execution_count": 7,
     "metadata": {},
     "output_type": "execute_result"
    }
   ],
   "source": [
    "sum_if_3s(3, 15)"
   ]
  },
  {
   "cell_type": "code",
   "execution_count": 8,
   "metadata": {},
   "outputs": [
    {
     "data": {
      "text/plain": [
       "13"
      ]
     },
     "execution_count": 8,
     "metadata": {},
     "output_type": "execute_result"
    }
   ],
   "source": [
    "sum_if_3s(13, 28)"
   ]
  },
  {
   "cell_type": "markdown",
   "metadata": {},
   "source": [
    "### 중첩 조건문과 일반화된 조건문\n",
    "\n",
    "`if ... else ...` 문은 두 가지 경우를 처리할 때 사용한다.\n",
    "\n",
    "반면에, 예를 들어, 크거나, 같거나, 작거나 등 세 가지 이상의 경우를 \n",
    "처리하려면 `if ... else ...`문을 중첩해서 사용하거나\n",
    "`if ... elif ... elif ... else ...` 처럼 다중 조건문을\n",
    "사용할 수 있다."
   ]
  },
  {
   "cell_type": "markdown",
   "metadata": {},
   "source": [
    "* 중첩 조건문(중첩 if문) 활용 예제"
   ]
  },
  {
   "cell_type": "code",
   "execution_count": 9,
   "metadata": {},
   "outputs": [
    {
     "name": "stdout",
     "output_type": "stream",
     "text": [
      "num1이 num2 보다 작다.\n"
     ]
    }
   ],
   "source": [
    "num1 = 5\n",
    "num2 = 10\n",
    "\n",
    "if num1 < num2:\n",
    "    print(\"num1이 num2 보다 작다.\")\n",
    "else:\n",
    "    if num1 == num2:\n",
    "        print(\"num1이 num2와 같다.\")\n",
    "    else:\n",
    "        print(\"num1이 num2 보다 크다.\")"
   ]
  },
  {
   "cell_type": "markdown",
   "metadata": {},
   "source": [
    "* 다중 조건문(다중 if문) 활용 예제"
   ]
  },
  {
   "cell_type": "code",
   "execution_count": 10,
   "metadata": {},
   "outputs": [
    {
     "name": "stdout",
     "output_type": "stream",
     "text": [
      "num1이 num2 보다 작다.\n"
     ]
    }
   ],
   "source": [
    "num1 = 5\n",
    "num2 = 10\n",
    "\n",
    "if num1 < num2:\n",
    "    print(\"num1이 num2 보다 작다.\")\n",
    "elif num1 == num2:\n",
    "    print(\"num1이 num2와 같다.\")\n",
    "else:\n",
    "    print(\"num1이 num2 보다 크다.\")"
   ]
  },
  {
   "cell_type": "markdown",
   "metadata": {
    "collapsed": true
   },
   "source": [
    "**주의:** `if`문의 중첩 정도는 임의로 복잡해질 수 있다. \n",
    "따라서 가능하면 일반화된 조건문을 사용하면 다루기가 보다 쉬워진다."
   ]
  },
  {
   "cell_type": "markdown",
   "metadata": {},
   "source": [
    "## 반복문(루프)"
   ]
  },
  {
   "cell_type": "markdown",
   "metadata": {},
   "source": [
    "**반복문(루프)**은 동일한 코드를 반복해서 실행시킬 때 사용한다. \n",
    "루프를 만들기 위해 `for`문과 `while`문을 사용한다. \n",
    "\n",
    "* `for` 반복문: 반복을 몇 번 할지 미리 알 수 있는 경우 사용\n",
    "* `while` 반복문: 특정 조건이 만족되는 동안 반복하고자 할 경우\n",
    "\n",
    "여기서는 먼저 `while` 반복문을 살펴보고 이후에 `for` 반복문을 살펴본다."
   ]
  },
  {
   "cell_type": "markdown",
   "metadata": {},
   "source": [
    "## `while` 반복문"
   ]
  },
  {
   "cell_type": "markdown",
   "metadata": {},
   "source": [
    "`while` 반복문은 항상 아래 모양을 갖는다:\n",
    "\n",
    "```python\n",
    "while 조건:\n",
    "    본문코드1\n",
    "    본문코드2\n",
    "    ...\n",
    "```\n",
    "\n",
    "__조건__이 참이 되는 동안 본문코드들이 실행된다."
   ]
  },
  {
   "cell_type": "markdown",
   "metadata": {},
   "source": [
    "### 예제\n",
    "정수들을 나누어 몫을 구하는 코드를 작성해보자.\n",
    "몫을 어떻게 구현할까? \n",
    "\n",
    "* 먼저 몫이 어떤 의미인가를 알아야 한다.\n",
    "* 그 다음에 그 의미를 구현하는 코드를 작성한다. \n",
    "\n",
    "어떤 정수 `a`를 다른 정수 `b`로 나누었을 때의 몫은 `a`에서 `b`를 몇 번 뺄 수 있는가와 동일한 의미를 갖는다.\n",
    "즉, `a`에서 `b`를 반복해서 빼주는 과정이 필요하고 이 과정을 음수가 되지 않을 때까지만 반복해야 한다. \n",
    "\n",
    "예를 들어 43을 7로 나누었을 때의 몫은 다음과 같이 구할 수 있다."
   ]
  },
  {
   "cell_type": "code",
   "execution_count": 11,
   "metadata": {},
   "outputs": [
    {
     "name": "stdout",
     "output_type": "stream",
     "text": [
      "몫은 6 이다\n"
     ]
    }
   ],
   "source": [
    "# 좀 더 세련된 print 함수를 사용하고자 한다.\n",
    "from __future__ import print_function\n",
    "\n",
    "number = 43\n",
    "divisor = 7\n",
    "answer = 0\n",
    "\n",
    "# While 루프\n",
    "while number > 0:\n",
    "    number = number - divisor\n",
    "    # 음수가 아니라면 빼주는 횟수를 1회 늘린다.\n",
    "    if number > 0:\n",
    "        answer += 1\n",
    "\n",
    "# 이제 answer를 출력하면 된다.\n",
    "print('몫은', answer, '이다')"
   ]
  },
  {
   "cell_type": "markdown",
   "metadata": {},
   "source": [
    "'while' 루프를 작성할 때 조건문이 언젠가는 만족되지 않아서 더 이상 루프가 돌지 않도록 코드를 작성하는 것이 가장 중요하다. "
   ]
  },
  {
   "cell_type": "markdown",
   "metadata": {},
   "source": [
    "### 연습\n",
    "\n",
    "두 정수의 최대공약수(gcd)를 리턴하는 함수를 구현하라.\n",
    "\n",
    "힌트: 유클리드 호제법을 활용하라. 아래 사이트 참조: http://tibyte.kr/224"
   ]
  },
  {
   "cell_type": "markdown",
   "metadata": {},
   "source": [
    "견본답안:"
   ]
  },
  {
   "cell_type": "code",
   "execution_count": 12,
   "metadata": {
    "collapsed": true
   },
   "outputs": [],
   "source": [
    "def gcd(a, b):\n",
    "    if a < b:\n",
    "        # 이 경우에는 a와 b의 값을 서로 바꾼다.\n",
    "        a, b = b, a\n",
    "    while b != 0:\n",
    "        a, b = b, a % b\n",
    "    return a"
   ]
  },
  {
   "cell_type": "markdown",
   "metadata": {},
   "source": [
    "**주의:** 파이썬에서 두 변수에 할당된 값을 맞교환 하는 방법이 매우 간단하다.\n",
    "하지만 C 또는 자바에서는 다르게 처리해야 한다. \n",
    "예를 들어, 아래와 같은 방식을 이용할 수 있다.\n",
    "```C\n",
    "int a = 3\n",
    "int b = 5\n",
    "int temp\n",
    "\n",
    "temp = a\n",
    "a = b\n",
    "b = temp\n",
    "```"
   ]
  },
  {
   "cell_type": "code",
   "execution_count": 13,
   "metadata": {},
   "outputs": [
    {
     "data": {
      "text/plain": [
       "2"
      ]
     },
     "execution_count": 13,
     "metadata": {},
     "output_type": "execute_result"
    }
   ],
   "source": [
    "gcd(6, 8)"
   ]
  },
  {
   "cell_type": "code",
   "execution_count": 14,
   "metadata": {},
   "outputs": [
    {
     "data": {
      "text/plain": [
       "7"
      ]
     },
     "execution_count": 14,
     "metadata": {},
     "output_type": "execute_result"
    }
   ],
   "source": [
    "gcd(14, 21)"
   ]
  },
  {
   "cell_type": "markdown",
   "metadata": {},
   "source": [
    "## `for` 루프"
   ]
  },
  {
   "cell_type": "markdown",
   "metadata": {},
   "source": [
    "`while` 반복문과는 달리 몇 번 반복되어야 하는지를 아는 경우 `for` 반복문을 사용할 수 있으며, 아래 형식을 따른다.\n",
    "```python\n",
    "    for 항목변수 in 컬렉션 자료형 값:\n",
    "        코드1\n",
    "        코드2\n",
    "        ...\n",
    "```\n",
    "\n",
    "컬렉션 자료형: 리스트, 튜플, 문자열, 어레이 등 여러 개의 값을 동시에 다룰 수 있는 자료형을 의미하며, 다음 시간에 보다 자세히 다룬다.\n",
    "\n",
    "여기서는 문자열과 `range()` 함수를 이용하여 `for` 반복문을 사용하는 법을 익힌다."
   ]
  },
  {
   "cell_type": "markdown",
   "metadata": {},
   "source": [
    "### 문자열과 `for` 문"
   ]
  },
  {
   "cell_type": "markdown",
   "metadata": {},
   "source": [
    "### 예제\n",
    "\n",
    "아래 코드는 문자열에 포함된 문자 각각을 출력한다."
   ]
  },
  {
   "cell_type": "code",
   "execution_count": 15,
   "metadata": {},
   "outputs": [
    {
     "name": "stdout",
     "output_type": "stream",
     "text": [
      "a\n",
      "d\n",
      "a\n",
      "m\n"
     ]
    }
   ],
   "source": [
    "for char in \"adam\":\n",
    "    print(char)"
   ]
  },
  {
   "cell_type": "markdown",
   "metadata": {},
   "source": [
    "### 연습\n",
    "\n",
    "문자열에 있는 소문자 `a`를 대문자 `A`로 변경하여 새로운 문자열을 생성하는 코드를 작성하라.\n",
    "\n",
    "예를 들어, \"aardvarks\"를 이용하여 \"AArdvArks\"를 생성하는 코드를 작성하라."
   ]
  },
  {
   "cell_type": "markdown",
   "metadata": {},
   "source": [
    "견본답안1: "
   ]
  },
  {
   "cell_type": "code",
   "execution_count": 1,
   "metadata": {},
   "outputs": [
    {
     "name": "stdout",
     "output_type": "stream",
     "text": [
      "AArdvArks\n"
     ]
    }
   ],
   "source": [
    "a_word = 'aardvarks'\n",
    "new_word = ''\n",
    "for char in a_word:\n",
    "    if char == 'a':\n",
    "        new_word = new_word + 'A'\n",
    "    else:\n",
    "        new_word = new_word + char\n",
    "\n",
    "print(new_word)"
   ]
  },
  {
   "cell_type": "markdown",
   "metadata": {},
   "source": [
    "### 연습\n",
    "\n",
    "아래 문자열\n",
    "\n",
    "' n o r t h w e s t e r n'\n",
    "\n",
    "을 이용하여 아래 문자열을 생성하는 코드를 구현하라:\n",
    "\n",
    "'Northwestern'"
   ]
  },
  {
   "cell_type": "code",
   "execution_count": 17,
   "metadata": {},
   "outputs": [
    {
     "name": "stdout",
     "output_type": "stream",
     "text": [
      "Northwestern\n"
     ]
    }
   ],
   "source": [
    "a_word = ' n o r t h w e s t e r n'\n",
    "\n",
    "temp_word = ''\n",
    "for char in a_word:\n",
    "    if char != ' ':\n",
    "        temp_word = temp_word + char\n",
    "        \n",
    "new_word = temp_word.title()\n",
    "\n",
    "print(new_word)"
   ]
  },
  {
   "cell_type": "markdown",
   "metadata": {},
   "source": [
    "### `range()` 함수와 `for` 문"
   ]
  },
  {
   "cell_type": "markdown",
   "metadata": {},
   "source": [
    "`range()` 함수는 일정한 규칙에 따라 나열된 수열을 생성한다. "
   ]
  },
  {
   "cell_type": "code",
   "execution_count": 18,
   "metadata": {},
   "outputs": [
    {
     "name": "stdout",
     "output_type": "stream",
     "text": [
      "[0, 1, 2, 3, 4, 5, 6, 7, 8, 9]\n"
     ]
    }
   ],
   "source": [
    "a_range = range(10)\n",
    "print(a_range)"
   ]
  },
  {
   "cell_type": "markdown",
   "metadata": {},
   "source": [
    "`range()` 함수의 리턴값의 자료형은 리스트이다.\n",
    "\n",
    "**주의:** 파이썬3에서 `range()` 함수의 리턴값은 `range`라는 자료형이다. \n",
    "리스트와 거의 비슷하지만 용도가 좀 다르다는 정도만 기억하고 넘어가도 좋다."
   ]
  },
  {
   "cell_type": "code",
   "execution_count": 19,
   "metadata": {},
   "outputs": [
    {
     "data": {
      "text/plain": [
       "list"
      ]
     },
     "execution_count": 19,
     "metadata": {},
     "output_type": "execute_result"
    }
   ],
   "source": [
    "type(a_range)"
   ]
  },
  {
   "cell_type": "markdown",
   "metadata": {},
   "source": [
    "`range()` 함수는 인자를 최대 세 개까지 받을 수 있다. 각 인자들의 역할은 슬라이싱에 사용되는 세 개의 인자들의 역할과 동일하다.\n",
    "\n",
    "* `range([start,] stop [, step])`\n",
    "* `start`의 경우 주어지지 않으면 `0`을 기본값으로 갖는다.\n",
    "* `step`의 경우 주어지지 않으면 `1`을 기본값으로 갖느다."
   ]
  },
  {
   "cell_type": "code",
   "execution_count": 20,
   "metadata": {},
   "outputs": [
    {
     "data": {
      "text/plain": [
       "[3, 4, 5, 6, 7, 8, 9]"
      ]
     },
     "execution_count": 20,
     "metadata": {},
     "output_type": "execute_result"
    }
   ],
   "source": [
    "a_range_1 = range(3, 10)\n",
    "a_range_1"
   ]
  },
  {
   "cell_type": "code",
   "execution_count": 21,
   "metadata": {},
   "outputs": [
    {
     "data": {
      "text/plain": [
       "[3, 5, 7, 9]"
      ]
     },
     "execution_count": 21,
     "metadata": {},
     "output_type": "execute_result"
    }
   ],
   "source": [
    "a_range_2 = range(3, 10, 2)\n",
    "a_range_2"
   ]
  },
  {
   "cell_type": "markdown",
   "metadata": {},
   "source": [
    "`range` 함수는 `for`문에서 유용하게 활용된다. "
   ]
  },
  {
   "cell_type": "code",
   "execution_count": 22,
   "metadata": {},
   "outputs": [
    {
     "name": "stdout",
     "output_type": "stream",
     "text": [
      "0 의 제곱은 0 이다.\n",
      "1 의 제곱은 1 이다.\n",
      "2 의 제곱은 4 이다.\n",
      "3 의 제곱은 9 이다.\n",
      "4 의 제곱은 16 이다.\n",
      "5 의 제곱은 25 이다.\n"
     ]
    }
   ],
   "source": [
    "from __future__ import print_function\n",
    "\n",
    "for i in range(6):\n",
    "    print(i,\"의 제곱은\", i ** 2, \"이다.\")"
   ]
  },
  {
   "cell_type": "code",
   "execution_count": 23,
   "metadata": {},
   "outputs": [
    {
     "name": "stdout",
     "output_type": "stream",
     "text": [
      "0 의 제곱은 0 이다.\n",
      "2 의 제곱은 4 이다.\n",
      "4 의 제곱은 16 이다.\n"
     ]
    }
   ],
   "source": [
    "for i in range(0, 6, 2):\n",
    "    print(i,\"의 제곱은\", i ** 2, \"이다.\")"
   ]
  },
  {
   "cell_type": "markdown",
   "metadata": {},
   "source": [
    "단순한 카운트 역할을 수행하는 용도로 `range`함수를 활용할 수도 있다.\n",
    "즉, 어떤 일을 특정 횟수만큼 반복하고자 할 때 사용한다."
   ]
  },
  {
   "cell_type": "code",
   "execution_count": 24,
   "metadata": {},
   "outputs": [
    {
     "name": "stdout",
     "output_type": "stream",
     "text": [
      "다섯 번 출력합니다.\n",
      "다섯 번 출력합니다.\n",
      "다섯 번 출력합니다.\n",
      "다섯 번 출력합니다.\n",
      "다섯 번 출력합니다.\n"
     ]
    }
   ],
   "source": [
    "for i in range(5):\n",
    "    print(\"다섯 번 출력합니다.\")"
   ]
  },
  {
   "cell_type": "markdown",
   "metadata": {},
   "source": [
    "`range()` 함수와 문자열 인덱싱을 활용하면 문자열에 대해 `for`문을 직접 활용하는 것과 동일한 일을 할 수 있다. \n",
    "\n",
    "예를 들어, 문자열의 길이와 `range()` 함수를 다음처럼 활용할 수 있다."
   ]
  },
  {
   "cell_type": "code",
   "execution_count": 25,
   "metadata": {},
   "outputs": [
    {
     "name": "stdout",
     "output_type": "stream",
     "text": [
      "h\n",
      "a\n",
      "m\n",
      "s\n",
      "t\n",
      "e\n",
      "r\n"
     ]
    }
   ],
   "source": [
    "a_word = 'hamster'\n",
    "\n",
    "for i in range(7):\n",
    "    print(a_word[i])"
   ]
  },
  {
   "cell_type": "code",
   "execution_count": 26,
   "metadata": {},
   "outputs": [
    {
     "name": "stdout",
     "output_type": "stream",
     "text": [
      "h\n",
      "a\n",
      "m\n",
      "s\n",
      "t\n",
      "e\n",
      "r\n"
     ]
    }
   ],
   "source": [
    "a_word = 'hamster'\n",
    "\n",
    "for i in a_word:\n",
    "    print(i)"
   ]
  },
  {
   "cell_type": "markdown",
   "metadata": {},
   "source": [
    "**주의:** 문자열의 길이가 `range()` 함수에 사용되는 인자보다 작으면 오류가 발생한다. \n",
    "이유는 문자열의 길이보다 긴 인덱스가 사용되기 때문이다. "
   ]
  },
  {
   "cell_type": "code",
   "execution_count": 27,
   "metadata": {},
   "outputs": [
    {
     "name": "stdout",
     "output_type": "stream",
     "text": [
      "h\n",
      "a\n",
      "m\n",
      "s\n",
      "t\n",
      "e\n",
      "r\n"
     ]
    },
    {
     "ename": "IndexError",
     "evalue": "string index out of range",
     "output_type": "error",
     "traceback": [
      "\u001b[0;31m---------------------------------------------------------------------------\u001b[0m",
      "\u001b[0;31mIndexError\u001b[0m                                Traceback (most recent call last)",
      "\u001b[0;32m<ipython-input-27-b2a0345b7976>\u001b[0m in \u001b[0;36m<module>\u001b[0;34m()\u001b[0m\n\u001b[1;32m      1\u001b[0m \u001b[0;32mfor\u001b[0m \u001b[0mi\u001b[0m \u001b[0;32min\u001b[0m \u001b[0mrange\u001b[0m\u001b[0;34m(\u001b[0m\u001b[0;36m8\u001b[0m\u001b[0;34m)\u001b[0m\u001b[0;34m:\u001b[0m\u001b[0;34m\u001b[0m\u001b[0m\n\u001b[0;32m----> 2\u001b[0;31m     \u001b[0;32mprint\u001b[0m\u001b[0;34m(\u001b[0m\u001b[0ma_word\u001b[0m\u001b[0;34m[\u001b[0m\u001b[0mi\u001b[0m\u001b[0;34m]\u001b[0m\u001b[0;34m)\u001b[0m\u001b[0;34m\u001b[0m\u001b[0m\n\u001b[0m",
      "\u001b[0;31mIndexError\u001b[0m: string index out of range"
     ]
    }
   ],
   "source": [
    "for i in range(8):\n",
    "    print(a_word[i])"
   ]
  },
  {
   "cell_type": "markdown",
   "metadata": {},
   "source": [
    "이제 아래 문제를 해결할 수 있다."
   ]
  },
  {
   "cell_type": "markdown",
   "metadata": {},
   "source": [
    "### 연습\n",
    "\n",
    "자연수 n이 주어졌을 때, 1부터 n까지의 자연수 중에서 3의 배수이거나 숫자 3을 포함하는 숫자들의 합을 구하는 함수 sum_of_3s() 구현하기:\n",
    "```\n",
    "sum_of_3s(10) = 3 + 6 + 9 = 18\n",
    "sum_of_3s(15) = 3 + 6 + 9 + 12 + 13 + 15 = 58\n",
    "```"
   ]
  },
  {
   "cell_type": "markdown",
   "metadata": {},
   "source": [
    "견본답안:"
   ]
  },
  {
   "cell_type": "code",
   "execution_count": 28,
   "metadata": {
    "collapsed": true
   },
   "outputs": [],
   "source": [
    "def sum_of_3s(n):\n",
    "    sum = 0\n",
    "    for i in range(1, n+1):\n",
    "        if i % 3 == 0:\n",
    "            sum = sum + i\n",
    "        elif '3' in str(i):\n",
    "            sum = sum + i\n",
    "    return sum"
   ]
  },
  {
   "cell_type": "code",
   "execution_count": 29,
   "metadata": {},
   "outputs": [
    {
     "data": {
      "text/plain": [
       "18"
      ]
     },
     "execution_count": 29,
     "metadata": {},
     "output_type": "execute_result"
    }
   ],
   "source": [
    "sum_of_3s(10)"
   ]
  },
  {
   "cell_type": "code",
   "execution_count": 30,
   "metadata": {},
   "outputs": [
    {
     "data": {
      "text/plain": [
       "58"
      ]
     },
     "execution_count": 30,
     "metadata": {},
     "output_type": "execute_result"
    }
   ],
   "source": [
    "sum_of_3s(15)"
   ]
  }
 ],
 "metadata": {
  "anaconda-cloud": {},
  "kernelspec": {
   "display_name": "Python 2",
   "language": "python",
   "name": "python2"
  },
  "language_info": {
   "codemirror_mode": {
    "name": "ipython",
    "version": 2
   },
   "file_extension": ".py",
   "mimetype": "text/x-python",
   "name": "python",
   "nbconvert_exporter": "python",
   "pygments_lexer": "ipython2",
   "version": "2.7.13"
  }
 },
 "nbformat": 4,
 "nbformat_minor": 1
}
